{
  "cells": [
    {
      "cell_type": "markdown",
      "metadata": {
        "id": "view-in-github",
        "colab_type": "text"
      },
      "source": [
        "<a href=\"https://colab.research.google.com/github/jonasbarth/bdc-homework-2/blob/main/HW2_2023.ipynb\" target=\"_parent\"><img src=\"https://colab.research.google.com/assets/colab-badge.svg\" alt=\"Open In Colab\"/></a>"
      ]
    },
    {
      "cell_type": "markdown",
      "metadata": {
        "id": "Kwx2dxZeFHDX"
      },
      "source": [
        "# Amazon Fine Food Reviews - Building a Co-review graph\n",
        "\n",
        "In this lab, our general goal is to conduct some exploratory analysis of a medium - large dataset, namely, Amazon Fine Food Reviews, available from a [Kaggle Competition](https://www.kaggle.com/datasets/snap/amazon-fine-food-reviews).\n",
        "\n",
        "Our general goals are the following:\n",
        "\n",
        "- Retrieve the dataset and upload it onto Colab;\n",
        "- Build the associated Co-review graph."
      ]
    },
    {
      "cell_type": "markdown",
      "source": [
        "## Retrieving the dataset\n",
        "To retrieve this dataset, we need to be registered Kaggle users. Assuming this is the case, we basically have two options:\n",
        "\n",
        "1. Download the dataset locally. This can be useful if you want to keep a copy of the data to work with directly on your machine. In this case, you will have to upload the data on Colab in order to work with it. There are several ways to do this, described [here](https://colab.research.google.com/notebooks/io.ipynb). Note that our compressed dataset is about 300MB's and proceeding this way may take some time, depending on your connection.\n",
        "2. Transferring the data directly from Kaggle to Google. In my experience, this was extremely fast and it is the method I am going to use.\n",
        "\n",
        "A nice review of all available methods, including the one I am using, can be found [here](https://towardsdatascience.com/7-ways-to-load-external-data-into-google-colab-7ba73e7d5fc7)."
      ],
      "metadata": {
        "id": "dZX0TppG5IPa"
      }
    },
    {
      "cell_type": "code",
      "source": [],
      "metadata": {
        "id": "ph_ZVgLx7gVc"
      },
      "execution_count": null,
      "outputs": []
    },
    {
      "cell_type": "markdown",
      "metadata": {
        "id": "9fpG9wnlFHDb"
      },
      "source": [
        "### Transferring dataset from Google to Colab\n",
        "Go to your profile on Kaggle, then ```Account --> Create New API Token``` (you do not have to do every time you run your notebook). The result will be a file called ```kaggle.json```, which you save on your machine. Next, we upload this file to Google Colab as follows:"
      ]
    },
    {
      "cell_type": "code",
      "source": [
        "from google.colab import files\n",
        "\n",
        "uploaded = files.upload()"
      ],
      "metadata": {
        "colab": {
          "base_uri": "https://localhost:8080/",
          "height": 73
        },
        "id": "WDFBCfveFJ9E",
        "outputId": "e685b4b5-a95e-486e-c6b6-c71142324feb"
      },
      "execution_count": 27,
      "outputs": [
        {
          "output_type": "display_data",
          "data": {
            "text/plain": [
              "<IPython.core.display.HTML object>"
            ],
            "text/html": [
              "\n",
              "     <input type=\"file\" id=\"files-56fdda10-2a66-4a0f-9dc6-5f4e577eebed\" name=\"files[]\" multiple disabled\n",
              "        style=\"border:none\" />\n",
              "     <output id=\"result-56fdda10-2a66-4a0f-9dc6-5f4e577eebed\">\n",
              "      Upload widget is only available when the cell has been executed in the\n",
              "      current browser session. Please rerun this cell to enable.\n",
              "      </output>\n",
              "      <script>// Copyright 2017 Google LLC\n",
              "//\n",
              "// Licensed under the Apache License, Version 2.0 (the \"License\");\n",
              "// you may not use this file except in compliance with the License.\n",
              "// You may obtain a copy of the License at\n",
              "//\n",
              "//      http://www.apache.org/licenses/LICENSE-2.0\n",
              "//\n",
              "// Unless required by applicable law or agreed to in writing, software\n",
              "// distributed under the License is distributed on an \"AS IS\" BASIS,\n",
              "// WITHOUT WARRANTIES OR CONDITIONS OF ANY KIND, either express or implied.\n",
              "// See the License for the specific language governing permissions and\n",
              "// limitations under the License.\n",
              "\n",
              "/**\n",
              " * @fileoverview Helpers for google.colab Python module.\n",
              " */\n",
              "(function(scope) {\n",
              "function span(text, styleAttributes = {}) {\n",
              "  const element = document.createElement('span');\n",
              "  element.textContent = text;\n",
              "  for (const key of Object.keys(styleAttributes)) {\n",
              "    element.style[key] = styleAttributes[key];\n",
              "  }\n",
              "  return element;\n",
              "}\n",
              "\n",
              "// Max number of bytes which will be uploaded at a time.\n",
              "const MAX_PAYLOAD_SIZE = 100 * 1024;\n",
              "\n",
              "function _uploadFiles(inputId, outputId) {\n",
              "  const steps = uploadFilesStep(inputId, outputId);\n",
              "  const outputElement = document.getElementById(outputId);\n",
              "  // Cache steps on the outputElement to make it available for the next call\n",
              "  // to uploadFilesContinue from Python.\n",
              "  outputElement.steps = steps;\n",
              "\n",
              "  return _uploadFilesContinue(outputId);\n",
              "}\n",
              "\n",
              "// This is roughly an async generator (not supported in the browser yet),\n",
              "// where there are multiple asynchronous steps and the Python side is going\n",
              "// to poll for completion of each step.\n",
              "// This uses a Promise to block the python side on completion of each step,\n",
              "// then passes the result of the previous step as the input to the next step.\n",
              "function _uploadFilesContinue(outputId) {\n",
              "  const outputElement = document.getElementById(outputId);\n",
              "  const steps = outputElement.steps;\n",
              "\n",
              "  const next = steps.next(outputElement.lastPromiseValue);\n",
              "  return Promise.resolve(next.value.promise).then((value) => {\n",
              "    // Cache the last promise value to make it available to the next\n",
              "    // step of the generator.\n",
              "    outputElement.lastPromiseValue = value;\n",
              "    return next.value.response;\n",
              "  });\n",
              "}\n",
              "\n",
              "/**\n",
              " * Generator function which is called between each async step of the upload\n",
              " * process.\n",
              " * @param {string} inputId Element ID of the input file picker element.\n",
              " * @param {string} outputId Element ID of the output display.\n",
              " * @return {!Iterable<!Object>} Iterable of next steps.\n",
              " */\n",
              "function* uploadFilesStep(inputId, outputId) {\n",
              "  const inputElement = document.getElementById(inputId);\n",
              "  inputElement.disabled = false;\n",
              "\n",
              "  const outputElement = document.getElementById(outputId);\n",
              "  outputElement.innerHTML = '';\n",
              "\n",
              "  const pickedPromise = new Promise((resolve) => {\n",
              "    inputElement.addEventListener('change', (e) => {\n",
              "      resolve(e.target.files);\n",
              "    });\n",
              "  });\n",
              "\n",
              "  const cancel = document.createElement('button');\n",
              "  inputElement.parentElement.appendChild(cancel);\n",
              "  cancel.textContent = 'Cancel upload';\n",
              "  const cancelPromise = new Promise((resolve) => {\n",
              "    cancel.onclick = () => {\n",
              "      resolve(null);\n",
              "    };\n",
              "  });\n",
              "\n",
              "  // Wait for the user to pick the files.\n",
              "  const files = yield {\n",
              "    promise: Promise.race([pickedPromise, cancelPromise]),\n",
              "    response: {\n",
              "      action: 'starting',\n",
              "    }\n",
              "  };\n",
              "\n",
              "  cancel.remove();\n",
              "\n",
              "  // Disable the input element since further picks are not allowed.\n",
              "  inputElement.disabled = true;\n",
              "\n",
              "  if (!files) {\n",
              "    return {\n",
              "      response: {\n",
              "        action: 'complete',\n",
              "      }\n",
              "    };\n",
              "  }\n",
              "\n",
              "  for (const file of files) {\n",
              "    const li = document.createElement('li');\n",
              "    li.append(span(file.name, {fontWeight: 'bold'}));\n",
              "    li.append(span(\n",
              "        `(${file.type || 'n/a'}) - ${file.size} bytes, ` +\n",
              "        `last modified: ${\n",
              "            file.lastModifiedDate ? file.lastModifiedDate.toLocaleDateString() :\n",
              "                                    'n/a'} - `));\n",
              "    const percent = span('0% done');\n",
              "    li.appendChild(percent);\n",
              "\n",
              "    outputElement.appendChild(li);\n",
              "\n",
              "    const fileDataPromise = new Promise((resolve) => {\n",
              "      const reader = new FileReader();\n",
              "      reader.onload = (e) => {\n",
              "        resolve(e.target.result);\n",
              "      };\n",
              "      reader.readAsArrayBuffer(file);\n",
              "    });\n",
              "    // Wait for the data to be ready.\n",
              "    let fileData = yield {\n",
              "      promise: fileDataPromise,\n",
              "      response: {\n",
              "        action: 'continue',\n",
              "      }\n",
              "    };\n",
              "\n",
              "    // Use a chunked sending to avoid message size limits. See b/62115660.\n",
              "    let position = 0;\n",
              "    do {\n",
              "      const length = Math.min(fileData.byteLength - position, MAX_PAYLOAD_SIZE);\n",
              "      const chunk = new Uint8Array(fileData, position, length);\n",
              "      position += length;\n",
              "\n",
              "      const base64 = btoa(String.fromCharCode.apply(null, chunk));\n",
              "      yield {\n",
              "        response: {\n",
              "          action: 'append',\n",
              "          file: file.name,\n",
              "          data: base64,\n",
              "        },\n",
              "      };\n",
              "\n",
              "      let percentDone = fileData.byteLength === 0 ?\n",
              "          100 :\n",
              "          Math.round((position / fileData.byteLength) * 100);\n",
              "      percent.textContent = `${percentDone}% done`;\n",
              "\n",
              "    } while (position < fileData.byteLength);\n",
              "  }\n",
              "\n",
              "  // All done.\n",
              "  yield {\n",
              "    response: {\n",
              "      action: 'complete',\n",
              "    }\n",
              "  };\n",
              "}\n",
              "\n",
              "scope.google = scope.google || {};\n",
              "scope.google.colab = scope.google.colab || {};\n",
              "scope.google.colab._files = {\n",
              "  _uploadFiles,\n",
              "  _uploadFilesContinue,\n",
              "};\n",
              "})(self);\n",
              "</script> "
            ]
          },
          "metadata": {}
        },
        {
          "output_type": "stream",
          "name": "stdout",
          "text": [
            "Saving kaggle.json to kaggle (1).json\n"
          ]
        }
      ]
    },
    {
      "cell_type": "code",
      "source": [],
      "metadata": {
        "id": "qAXZiOWe5PQw"
      },
      "execution_count": null,
      "outputs": []
    },
    {
      "cell_type": "markdown",
      "source": [
        "We next specify the above directory as the one to upload the Kaggle dataset to:"
      ],
      "metadata": {
        "id": "1gva-K-KMMOo"
      }
    },
    {
      "cell_type": "code",
      "source": [
        "import os\n",
        "os.environ['KAGGLE_CONFIG_DIR'] = \"/content\""
      ],
      "metadata": {
        "id": "Fyhf0yW9RTNJ",
        "ExecuteTime": {
          "end_time": "2023-11-14T15:17:43.187814400Z",
          "start_time": "2023-11-14T15:17:43.156520700Z"
        }
      },
      "execution_count": 28,
      "outputs": []
    },
    {
      "cell_type": "markdown",
      "source": [
        "Next, we need to upload the dataset, issuing the necessary shell command. To do this, we can let Kaggle generate the right command for us. This is done from the Kaggle competion's Web page, in the top-right menu, clicking on the dots and then selecting ```Copy API Command``` as shown in the picture below:\n",
        "\n",
        "![Fig1.png](data:image/png;base64,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)"
      ],
      "metadata": {
        "id": "1BSNVBmRMnAU"
      }
    },
    {
      "cell_type": "markdown",
      "source": [
        "The copy-pasted command is the one shown below:"
      ],
      "metadata": {
        "id": "Et0s4k1IN7z1"
      }
    },
    {
      "cell_type": "code",
      "source": [
        "!kaggle datasets download -d snap/amazon-fine-food-reviews"
      ],
      "metadata": {
        "colab": {
          "base_uri": "https://localhost:8080/"
        },
        "id": "P9bljXyiRnPL",
        "outputId": "d075d101-d76d-47de-83f5-32e8d706b197",
        "ExecuteTime": {
          "end_time": "2023-11-14T15:10:04.715945300Z",
          "start_time": "2023-11-14T15:08:31.126232300Z"
        }
      },
      "execution_count": 29,
      "outputs": [
        {
          "output_type": "stream",
          "name": "stdout",
          "text": [
            "amazon-fine-food-reviews.zip: Skipping, found more recently modified local copy (use --force to force download)\n"
          ]
        }
      ]
    },
    {
      "cell_type": "code",
      "source": [
        "!chmod 600 /content/kaggle.json"
      ],
      "metadata": {
        "id": "30CgybvgXm1p"
      },
      "execution_count": 30,
      "outputs": []
    },
    {
      "cell_type": "markdown",
      "source": [
        "We next check that everything is there:"
      ],
      "metadata": {
        "id": "WYbgI1ucSL-Q"
      }
    },
    {
      "cell_type": "code",
      "source": [
        "!ls"
      ],
      "metadata": {
        "colab": {
          "base_uri": "https://localhost:8080/"
        },
        "id": "OuPVThsHQSQg",
        "outputId": "1266ed9f-27a9-4e49-a7af-07c1c78a4007"
      },
      "execution_count": 31,
      "outputs": [
        {
          "output_type": "stream",
          "name": "stdout",
          "text": [
            " amazon-fine-food-reviews.zip   data  'kaggle (1).json'   kaggle.json   sample_data\n"
          ]
        }
      ]
    },
    {
      "cell_type": "markdown",
      "source": [
        "We now extract the files from the zipper archive. To this purpose, we use Python zipfile utility package:"
      ],
      "metadata": {
        "id": "ZdCryH7aSUKG"
      }
    },
    {
      "cell_type": "code",
      "source": [
        "from zipfile import ZipFile\n",
        "from pathlib import Path"
      ],
      "metadata": {
        "id": "ohKzn4VdSalc",
        "ExecuteTime": {
          "end_time": "2023-11-14T15:11:04.422390Z",
          "start_time": "2023-11-14T15:11:04.391046200Z"
        }
      },
      "execution_count": 32,
      "outputs": []
    },
    {
      "cell_type": "markdown",
      "source": [
        "I will unzip all of the data into a dedicated `data/` directory for separation."
      ],
      "metadata": {
        "id": "fLgqdxUMasWE"
      }
    },
    {
      "cell_type": "code",
      "source": [
        "# Create a ZipFile Object and load sample.zip in it\n",
        "with ZipFile('amazon-fine-food-reviews.zip', 'r') as zipObj:\n",
        "    Path(\"./data\").mkdir(exist_ok=True, parents=True)\n",
        "   # Extract all the contents of zip file in current directory\n",
        "    zipObj.extractall(\"./data\")"
      ],
      "metadata": {
        "id": "xxvYTKkaS7gJ",
        "ExecuteTime": {
          "end_time": "2023-11-14T15:11:34.920100200Z",
          "start_time": "2023-11-14T15:11:16.647911700Z"
        }
      },
      "execution_count": 33,
      "outputs": []
    },
    {
      "cell_type": "markdown",
      "source": [
        "Let's check what files are there (we are looking for ```Reviews.csv```)"
      ],
      "metadata": {
        "id": "qhp1WWg-SqeQ"
      }
    },
    {
      "cell_type": "code",
      "source": [
        "!ls data"
      ],
      "metadata": {
        "colab": {
          "base_uri": "https://localhost:8080/"
        },
        "id": "sW7F3_W3SyY6",
        "outputId": "f9f1be10-62e8-4e70-974e-025f065dea06",
        "ExecuteTime": {
          "end_time": "2023-11-14T15:11:45.242487400Z",
          "start_time": "2023-11-14T15:11:44.202937900Z"
        }
      },
      "execution_count": 34,
      "outputs": [
        {
          "output_type": "stream",
          "name": "stdout",
          "text": [
            "database.sqlite  full_reviews.csv  hashes.txt  Reviews.csv  Reviews_sampled.csv  single\n"
          ]
        }
      ]
    },
    {
      "cell_type": "markdown",
      "source": [
        "There it is. Let us just perform a check that the file looks like it is supposed to be, by having a glance at the first 10 lines:"
      ],
      "metadata": {
        "id": "QMNo1hbRS09-"
      }
    },
    {
      "cell_type": "code",
      "source": [
        "!head -10 data/Reviews.csv"
      ],
      "metadata": {
        "id": "qpLCBLwoV8jo",
        "colab": {
          "base_uri": "https://localhost:8080/"
        },
        "outputId": "e957f98b-31ae-4b98-d14a-a9e716023b6c",
        "ExecuteTime": {
          "end_time": "2023-11-14T15:12:04.668485200Z",
          "start_time": "2023-11-14T15:11:59.149880400Z"
        }
      },
      "execution_count": 35,
      "outputs": [
        {
          "output_type": "stream",
          "name": "stdout",
          "text": [
            "Id,ProductId,UserId,ProfileName,HelpfulnessNumerator,HelpfulnessDenominator,Score,Time,Summary,Text\n",
            "1,B001E4KFG0,A3SGXH7AUHU8GW,delmartian,1,1,5,1303862400,Good Quality Dog Food,I have bought several of the Vitality canned dog food products and have found them all to be of good quality. The product looks more like a stew than a processed meat and it smells better. My Labrador is finicky and she appreciates this product better than  most.\n",
            "2,B00813GRG4,A1D87F6ZCVE5NK,dll pa,0,0,1,1346976000,Not as Advertised,\"Product arrived labeled as Jumbo Salted Peanuts...the peanuts were actually small sized unsalted. Not sure if this was an error or if the vendor intended to represent the product as \"\"Jumbo\"\".\"\n",
            "3,B000LQOCH0,ABXLMWJIXXAIN,\"Natalia Corres \"\"Natalia Corres\"\"\",1,1,4,1219017600,\"\"\"Delight\"\" says it all\",\"This is a confection that has been around a few centuries.  It is a light, pillowy citrus gelatin with nuts - in this case Filberts. And it is cut into tiny squares and then liberally coated with powdered sugar.  And it is a tiny mouthful of heaven.  Not too chewy, and very flavorful.  I highly recommend this yummy treat.  If you are familiar with the story of C.S. Lewis' \"\"The Lion, The Witch, and The Wardrobe\"\" - this is the treat that seduces Edmund into selling out his Brother and Sisters to the Witch.\"\n",
            "4,B000UA0QIQ,A395BORC6FGVXV,Karl,3,3,2,1307923200,Cough Medicine,If you are looking for the secret ingredient in Robitussin I believe I have found it.  I got this in addition to the Root Beer Extract I ordered (which was good) and made some cherry soda.  The flavor is very medicinal.\n",
            "5,B006K2ZZ7K,A1UQRSCLF8GW1T,\"Michael D. Bigham \"\"M. Wassir\"\"\",0,0,5,1350777600,Great taffy,\"Great taffy at a great price.  There was a wide assortment of yummy taffy.  Delivery was very quick.  If your a taffy lover, this is a deal.\"\n",
            "6,B006K2ZZ7K,ADT0SRK1MGOEU,Twoapennything,0,0,4,1342051200,Nice Taffy,\"I got a wild hair for taffy and ordered this five pound bag. The taffy was all very enjoyable with many flavors: watermelon, root beer, melon, peppermint, grape, etc. My only complaint is there was a bit too much red/black licorice-flavored pieces (just not my particular favorites). Between me, my kids, and my husband, this lasted only two weeks! I would recommend this brand of taffy -- it was a delightful treat.\"\n",
            "7,B006K2ZZ7K,A1SP2KVKFXXRU1,David C. Sullivan,0,0,5,1340150400,Great!  Just as good as the expensive brands!,\"This saltwater taffy had great flavors and was very soft and chewy.  Each candy was individually wrapped well.  None of the candies were stuck together, which did happen in the expensive version, Fralinger's.  Would highly recommend this candy!  I served it at a beach-themed party and everyone loved it!\"\n",
            "8,B006K2ZZ7K,A3JRGQVEQN31IQ,Pamela G. Williams,0,0,5,1336003200,\"Wonderful, tasty taffy\",This taffy is so good.  It is very soft and chewy.  The flavors are amazing.  I would definitely recommend you buying it.  Very satisfying!!\n",
            "9,B000E7L2R4,A1MZYO9TZK0BBI,R. James,1,1,5,1322006400,Yay Barley,Right now I'm mostly just sprouting this so my cats can eat the grass. They love it. I rotate it around with Wheatgrass and Rye too\n"
          ]
        }
      ]
    },
    {
      "cell_type": "markdown",
      "source": [
        "Keeping roughly $10\\%$ of the users for testing purposes. We will see why doing this is reasonable further in the course. For now, try to understand how ```sample_users``` works and why it does the job."
      ],
      "metadata": {
        "id": "dFUNyY6GWbv5"
      }
    },
    {
      "cell_type": "markdown",
      "source": [
        "#### Load the Reviews file.\n",
        "As a first step, we load the `Reviews.csv` file."
      ],
      "metadata": {
        "collapsed": false,
        "id": "CYHPvG_RkOF-"
      }
    },
    {
      "cell_type": "code",
      "source": [
        "import pandas as pd\n",
        "raw_pd = pd.read_csv(\"data/Reviews.csv\", index_col=0)"
      ],
      "metadata": {
        "id": "0wDK4pVZXbVj",
        "ExecuteTime": {
          "end_time": "2023-11-14T15:18:38.536998500Z",
          "start_time": "2023-11-14T15:18:16.277515900Z"
        }
      },
      "execution_count": 36,
      "outputs": []
    },
    {
      "cell_type": "code",
      "source": [
        "raw_pd"
      ],
      "metadata": {
        "colab": {
          "base_uri": "https://localhost:8080/",
          "height": 455
        },
        "id": "pizS5guCnDk4",
        "outputId": "d53bb44c-2648-4b01-f6e0-1088b06e05e6"
      },
      "execution_count": 37,
      "outputs": [
        {
          "output_type": "execute_result",
          "data": {
            "text/plain": [
              "         ProductId          UserId                      ProfileName  \\\n",
              "Id                                                                    \n",
              "1       B001E4KFG0  A3SGXH7AUHU8GW                       delmartian   \n",
              "2       B00813GRG4  A1D87F6ZCVE5NK                           dll pa   \n",
              "3       B000LQOCH0   ABXLMWJIXXAIN  Natalia Corres \"Natalia Corres\"   \n",
              "4       B000UA0QIQ  A395BORC6FGVXV                             Karl   \n",
              "5       B006K2ZZ7K  A1UQRSCLF8GW1T    Michael D. Bigham \"M. Wassir\"   \n",
              "...            ...             ...                              ...   \n",
              "568450  B001EO7N10  A28KG5XORO54AY                 Lettie D. Carter   \n",
              "568451  B003S1WTCU  A3I8AFVPEE8KI5                        R. Sawyer   \n",
              "568452  B004I613EE  A121AA1GQV751Z                    pksd \"pk_007\"   \n",
              "568453  B004I613EE   A3IBEVCTXKNOH          Kathy A. Welch \"katwel\"   \n",
              "568454  B001LR2CU2  A3LGQPJCZVL9UC                         srfell17   \n",
              "\n",
              "        HelpfulnessNumerator  HelpfulnessDenominator  Score        Time  \\\n",
              "Id                                                                        \n",
              "1                          1                       1      5  1303862400   \n",
              "2                          0                       0      1  1346976000   \n",
              "3                          1                       1      4  1219017600   \n",
              "4                          3                       3      2  1307923200   \n",
              "5                          0                       0      5  1350777600   \n",
              "...                      ...                     ...    ...         ...   \n",
              "568450                     0                       0      5  1299628800   \n",
              "568451                     0                       0      2  1331251200   \n",
              "568452                     2                       2      5  1329782400   \n",
              "568453                     1                       1      5  1331596800   \n",
              "568454                     0                       0      5  1338422400   \n",
              "\n",
              "                                   Summary  \\\n",
              "Id                                           \n",
              "1                    Good Quality Dog Food   \n",
              "2                        Not as Advertised   \n",
              "3                    \"Delight\" says it all   \n",
              "4                           Cough Medicine   \n",
              "5                              Great taffy   \n",
              "...                                    ...   \n",
              "568450                 Will not do without   \n",
              "568451                        disappointed   \n",
              "568452            Perfect for our maltipoo   \n",
              "568453  Favorite Training and reward treat   \n",
              "568454                         Great Honey   \n",
              "\n",
              "                                                     Text  \n",
              "Id                                                         \n",
              "1       I have bought several of the Vitality canned d...  \n",
              "2       Product arrived labeled as Jumbo Salted Peanut...  \n",
              "3       This is a confection that has been around a fe...  \n",
              "4       If you are looking for the secret ingredient i...  \n",
              "5       Great taffy at a great price.  There was a wid...  \n",
              "...                                                   ...  \n",
              "568450  Great for sesame chicken..this is a good if no...  \n",
              "568451  I'm disappointed with the flavor. The chocolat...  \n",
              "568452  These stars are small, so you can give 10-15 o...  \n",
              "568453  These are the BEST treats for training and rew...  \n",
              "568454  I am very satisfied ,product is as advertised,...  \n",
              "\n",
              "[568454 rows x 9 columns]"
            ],
            "text/html": [
              "\n",
              "  <div id=\"df-7883fb84-aa35-4153-a4f6-f95200c9292d\" class=\"colab-df-container\">\n",
              "    <div>\n",
              "<style scoped>\n",
              "    .dataframe tbody tr th:only-of-type {\n",
              "        vertical-align: middle;\n",
              "    }\n",
              "\n",
              "    .dataframe tbody tr th {\n",
              "        vertical-align: top;\n",
              "    }\n",
              "\n",
              "    .dataframe thead th {\n",
              "        text-align: right;\n",
              "    }\n",
              "</style>\n",
              "<table border=\"1\" class=\"dataframe\">\n",
              "  <thead>\n",
              "    <tr style=\"text-align: right;\">\n",
              "      <th></th>\n",
              "      <th>ProductId</th>\n",
              "      <th>UserId</th>\n",
              "      <th>ProfileName</th>\n",
              "      <th>HelpfulnessNumerator</th>\n",
              "      <th>HelpfulnessDenominator</th>\n",
              "      <th>Score</th>\n",
              "      <th>Time</th>\n",
              "      <th>Summary</th>\n",
              "      <th>Text</th>\n",
              "    </tr>\n",
              "    <tr>\n",
              "      <th>Id</th>\n",
              "      <th></th>\n",
              "      <th></th>\n",
              "      <th></th>\n",
              "      <th></th>\n",
              "      <th></th>\n",
              "      <th></th>\n",
              "      <th></th>\n",
              "      <th></th>\n",
              "      <th></th>\n",
              "    </tr>\n",
              "  </thead>\n",
              "  <tbody>\n",
              "    <tr>\n",
              "      <th>1</th>\n",
              "      <td>B001E4KFG0</td>\n",
              "      <td>A3SGXH7AUHU8GW</td>\n",
              "      <td>delmartian</td>\n",
              "      <td>1</td>\n",
              "      <td>1</td>\n",
              "      <td>5</td>\n",
              "      <td>1303862400</td>\n",
              "      <td>Good Quality Dog Food</td>\n",
              "      <td>I have bought several of the Vitality canned d...</td>\n",
              "    </tr>\n",
              "    <tr>\n",
              "      <th>2</th>\n",
              "      <td>B00813GRG4</td>\n",
              "      <td>A1D87F6ZCVE5NK</td>\n",
              "      <td>dll pa</td>\n",
              "      <td>0</td>\n",
              "      <td>0</td>\n",
              "      <td>1</td>\n",
              "      <td>1346976000</td>\n",
              "      <td>Not as Advertised</td>\n",
              "      <td>Product arrived labeled as Jumbo Salted Peanut...</td>\n",
              "    </tr>\n",
              "    <tr>\n",
              "      <th>3</th>\n",
              "      <td>B000LQOCH0</td>\n",
              "      <td>ABXLMWJIXXAIN</td>\n",
              "      <td>Natalia Corres \"Natalia Corres\"</td>\n",
              "      <td>1</td>\n",
              "      <td>1</td>\n",
              "      <td>4</td>\n",
              "      <td>1219017600</td>\n",
              "      <td>\"Delight\" says it all</td>\n",
              "      <td>This is a confection that has been around a fe...</td>\n",
              "    </tr>\n",
              "    <tr>\n",
              "      <th>4</th>\n",
              "      <td>B000UA0QIQ</td>\n",
              "      <td>A395BORC6FGVXV</td>\n",
              "      <td>Karl</td>\n",
              "      <td>3</td>\n",
              "      <td>3</td>\n",
              "      <td>2</td>\n",
              "      <td>1307923200</td>\n",
              "      <td>Cough Medicine</td>\n",
              "      <td>If you are looking for the secret ingredient i...</td>\n",
              "    </tr>\n",
              "    <tr>\n",
              "      <th>5</th>\n",
              "      <td>B006K2ZZ7K</td>\n",
              "      <td>A1UQRSCLF8GW1T</td>\n",
              "      <td>Michael D. Bigham \"M. Wassir\"</td>\n",
              "      <td>0</td>\n",
              "      <td>0</td>\n",
              "      <td>5</td>\n",
              "      <td>1350777600</td>\n",
              "      <td>Great taffy</td>\n",
              "      <td>Great taffy at a great price.  There was a wid...</td>\n",
              "    </tr>\n",
              "    <tr>\n",
              "      <th>...</th>\n",
              "      <td>...</td>\n",
              "      <td>...</td>\n",
              "      <td>...</td>\n",
              "      <td>...</td>\n",
              "      <td>...</td>\n",
              "      <td>...</td>\n",
              "      <td>...</td>\n",
              "      <td>...</td>\n",
              "      <td>...</td>\n",
              "    </tr>\n",
              "    <tr>\n",
              "      <th>568450</th>\n",
              "      <td>B001EO7N10</td>\n",
              "      <td>A28KG5XORO54AY</td>\n",
              "      <td>Lettie D. Carter</td>\n",
              "      <td>0</td>\n",
              "      <td>0</td>\n",
              "      <td>5</td>\n",
              "      <td>1299628800</td>\n",
              "      <td>Will not do without</td>\n",
              "      <td>Great for sesame chicken..this is a good if no...</td>\n",
              "    </tr>\n",
              "    <tr>\n",
              "      <th>568451</th>\n",
              "      <td>B003S1WTCU</td>\n",
              "      <td>A3I8AFVPEE8KI5</td>\n",
              "      <td>R. Sawyer</td>\n",
              "      <td>0</td>\n",
              "      <td>0</td>\n",
              "      <td>2</td>\n",
              "      <td>1331251200</td>\n",
              "      <td>disappointed</td>\n",
              "      <td>I'm disappointed with the flavor. The chocolat...</td>\n",
              "    </tr>\n",
              "    <tr>\n",
              "      <th>568452</th>\n",
              "      <td>B004I613EE</td>\n",
              "      <td>A121AA1GQV751Z</td>\n",
              "      <td>pksd \"pk_007\"</td>\n",
              "      <td>2</td>\n",
              "      <td>2</td>\n",
              "      <td>5</td>\n",
              "      <td>1329782400</td>\n",
              "      <td>Perfect for our maltipoo</td>\n",
              "      <td>These stars are small, so you can give 10-15 o...</td>\n",
              "    </tr>\n",
              "    <tr>\n",
              "      <th>568453</th>\n",
              "      <td>B004I613EE</td>\n",
              "      <td>A3IBEVCTXKNOH</td>\n",
              "      <td>Kathy A. Welch \"katwel\"</td>\n",
              "      <td>1</td>\n",
              "      <td>1</td>\n",
              "      <td>5</td>\n",
              "      <td>1331596800</td>\n",
              "      <td>Favorite Training and reward treat</td>\n",
              "      <td>These are the BEST treats for training and rew...</td>\n",
              "    </tr>\n",
              "    <tr>\n",
              "      <th>568454</th>\n",
              "      <td>B001LR2CU2</td>\n",
              "      <td>A3LGQPJCZVL9UC</td>\n",
              "      <td>srfell17</td>\n",
              "      <td>0</td>\n",
              "      <td>0</td>\n",
              "      <td>5</td>\n",
              "      <td>1338422400</td>\n",
              "      <td>Great Honey</td>\n",
              "      <td>I am very satisfied ,product is as advertised,...</td>\n",
              "    </tr>\n",
              "  </tbody>\n",
              "</table>\n",
              "<p>568454 rows × 9 columns</p>\n",
              "</div>\n",
              "    <div class=\"colab-df-buttons\">\n",
              "\n",
              "  <div class=\"colab-df-container\">\n",
              "    <button class=\"colab-df-convert\" onclick=\"convertToInteractive('df-7883fb84-aa35-4153-a4f6-f95200c9292d')\"\n",
              "            title=\"Convert this dataframe to an interactive table.\"\n",
              "            style=\"display:none;\">\n",
              "\n",
              "  <svg xmlns=\"http://www.w3.org/2000/svg\" height=\"24px\" viewBox=\"0 -960 960 960\">\n",
              "    <path d=\"M120-120v-720h720v720H120Zm60-500h600v-160H180v160Zm220 220h160v-160H400v160Zm0 220h160v-160H400v160ZM180-400h160v-160H180v160Zm440 0h160v-160H620v160ZM180-180h160v-160H180v160Zm440 0h160v-160H620v160Z\"/>\n",
              "  </svg>\n",
              "    </button>\n",
              "\n",
              "  <style>\n",
              "    .colab-df-container {\n",
              "      display:flex;\n",
              "      gap: 12px;\n",
              "    }\n",
              "\n",
              "    .colab-df-convert {\n",
              "      background-color: #E8F0FE;\n",
              "      border: none;\n",
              "      border-radius: 50%;\n",
              "      cursor: pointer;\n",
              "      display: none;\n",
              "      fill: #1967D2;\n",
              "      height: 32px;\n",
              "      padding: 0 0 0 0;\n",
              "      width: 32px;\n",
              "    }\n",
              "\n",
              "    .colab-df-convert:hover {\n",
              "      background-color: #E2EBFA;\n",
              "      box-shadow: 0px 1px 2px rgba(60, 64, 67, 0.3), 0px 1px 3px 1px rgba(60, 64, 67, 0.15);\n",
              "      fill: #174EA6;\n",
              "    }\n",
              "\n",
              "    .colab-df-buttons div {\n",
              "      margin-bottom: 4px;\n",
              "    }\n",
              "\n",
              "    [theme=dark] .colab-df-convert {\n",
              "      background-color: #3B4455;\n",
              "      fill: #D2E3FC;\n",
              "    }\n",
              "\n",
              "    [theme=dark] .colab-df-convert:hover {\n",
              "      background-color: #434B5C;\n",
              "      box-shadow: 0px 1px 3px 1px rgba(0, 0, 0, 0.15);\n",
              "      filter: drop-shadow(0px 1px 2px rgba(0, 0, 0, 0.3));\n",
              "      fill: #FFFFFF;\n",
              "    }\n",
              "  </style>\n",
              "\n",
              "    <script>\n",
              "      const buttonEl =\n",
              "        document.querySelector('#df-7883fb84-aa35-4153-a4f6-f95200c9292d button.colab-df-convert');\n",
              "      buttonEl.style.display =\n",
              "        google.colab.kernel.accessAllowed ? 'block' : 'none';\n",
              "\n",
              "      async function convertToInteractive(key) {\n",
              "        const element = document.querySelector('#df-7883fb84-aa35-4153-a4f6-f95200c9292d');\n",
              "        const dataTable =\n",
              "          await google.colab.kernel.invokeFunction('convertToInteractive',\n",
              "                                                    [key], {});\n",
              "        if (!dataTable) return;\n",
              "\n",
              "        const docLinkHtml = 'Like what you see? Visit the ' +\n",
              "          '<a target=\"_blank\" href=https://colab.research.google.com/notebooks/data_table.ipynb>data table notebook</a>'\n",
              "          + ' to learn more about interactive tables.';\n",
              "        element.innerHTML = '';\n",
              "        dataTable['output_type'] = 'display_data';\n",
              "        await google.colab.output.renderOutput(dataTable, element);\n",
              "        const docLink = document.createElement('div');\n",
              "        docLink.innerHTML = docLinkHtml;\n",
              "        element.appendChild(docLink);\n",
              "      }\n",
              "    </script>\n",
              "  </div>\n",
              "\n",
              "\n",
              "<div id=\"df-bb2e7dbb-5aab-48fe-adb4-db0c88b0f314\">\n",
              "  <button class=\"colab-df-quickchart\" onclick=\"quickchart('df-bb2e7dbb-5aab-48fe-adb4-db0c88b0f314')\"\n",
              "            title=\"Suggest charts\"\n",
              "            style=\"display:none;\">\n",
              "\n",
              "<svg xmlns=\"http://www.w3.org/2000/svg\" height=\"24px\"viewBox=\"0 0 24 24\"\n",
              "     width=\"24px\">\n",
              "    <g>\n",
              "        <path d=\"M19 3H5c-1.1 0-2 .9-2 2v14c0 1.1.9 2 2 2h14c1.1 0 2-.9 2-2V5c0-1.1-.9-2-2-2zM9 17H7v-7h2v7zm4 0h-2V7h2v10zm4 0h-2v-4h2v4z\"/>\n",
              "    </g>\n",
              "</svg>\n",
              "  </button>\n",
              "\n",
              "<style>\n",
              "  .colab-df-quickchart {\n",
              "      --bg-color: #E8F0FE;\n",
              "      --fill-color: #1967D2;\n",
              "      --hover-bg-color: #E2EBFA;\n",
              "      --hover-fill-color: #174EA6;\n",
              "      --disabled-fill-color: #AAA;\n",
              "      --disabled-bg-color: #DDD;\n",
              "  }\n",
              "\n",
              "  [theme=dark] .colab-df-quickchart {\n",
              "      --bg-color: #3B4455;\n",
              "      --fill-color: #D2E3FC;\n",
              "      --hover-bg-color: #434B5C;\n",
              "      --hover-fill-color: #FFFFFF;\n",
              "      --disabled-bg-color: #3B4455;\n",
              "      --disabled-fill-color: #666;\n",
              "  }\n",
              "\n",
              "  .colab-df-quickchart {\n",
              "    background-color: var(--bg-color);\n",
              "    border: none;\n",
              "    border-radius: 50%;\n",
              "    cursor: pointer;\n",
              "    display: none;\n",
              "    fill: var(--fill-color);\n",
              "    height: 32px;\n",
              "    padding: 0;\n",
              "    width: 32px;\n",
              "  }\n",
              "\n",
              "  .colab-df-quickchart:hover {\n",
              "    background-color: var(--hover-bg-color);\n",
              "    box-shadow: 0 1px 2px rgba(60, 64, 67, 0.3), 0 1px 3px 1px rgba(60, 64, 67, 0.15);\n",
              "    fill: var(--button-hover-fill-color);\n",
              "  }\n",
              "\n",
              "  .colab-df-quickchart-complete:disabled,\n",
              "  .colab-df-quickchart-complete:disabled:hover {\n",
              "    background-color: var(--disabled-bg-color);\n",
              "    fill: var(--disabled-fill-color);\n",
              "    box-shadow: none;\n",
              "  }\n",
              "\n",
              "  .colab-df-spinner {\n",
              "    border: 2px solid var(--fill-color);\n",
              "    border-color: transparent;\n",
              "    border-bottom-color: var(--fill-color);\n",
              "    animation:\n",
              "      spin 1s steps(1) infinite;\n",
              "  }\n",
              "\n",
              "  @keyframes spin {\n",
              "    0% {\n",
              "      border-color: transparent;\n",
              "      border-bottom-color: var(--fill-color);\n",
              "      border-left-color: var(--fill-color);\n",
              "    }\n",
              "    20% {\n",
              "      border-color: transparent;\n",
              "      border-left-color: var(--fill-color);\n",
              "      border-top-color: var(--fill-color);\n",
              "    }\n",
              "    30% {\n",
              "      border-color: transparent;\n",
              "      border-left-color: var(--fill-color);\n",
              "      border-top-color: var(--fill-color);\n",
              "      border-right-color: var(--fill-color);\n",
              "    }\n",
              "    40% {\n",
              "      border-color: transparent;\n",
              "      border-right-color: var(--fill-color);\n",
              "      border-top-color: var(--fill-color);\n",
              "    }\n",
              "    60% {\n",
              "      border-color: transparent;\n",
              "      border-right-color: var(--fill-color);\n",
              "    }\n",
              "    80% {\n",
              "      border-color: transparent;\n",
              "      border-right-color: var(--fill-color);\n",
              "      border-bottom-color: var(--fill-color);\n",
              "    }\n",
              "    90% {\n",
              "      border-color: transparent;\n",
              "      border-bottom-color: var(--fill-color);\n",
              "    }\n",
              "  }\n",
              "</style>\n",
              "\n",
              "  <script>\n",
              "    async function quickchart(key) {\n",
              "      const quickchartButtonEl =\n",
              "        document.querySelector('#' + key + ' button');\n",
              "      quickchartButtonEl.disabled = true;  // To prevent multiple clicks.\n",
              "      quickchartButtonEl.classList.add('colab-df-spinner');\n",
              "      try {\n",
              "        const charts = await google.colab.kernel.invokeFunction(\n",
              "            'suggestCharts', [key], {});\n",
              "      } catch (error) {\n",
              "        console.error('Error during call to suggestCharts:', error);\n",
              "      }\n",
              "      quickchartButtonEl.classList.remove('colab-df-spinner');\n",
              "      quickchartButtonEl.classList.add('colab-df-quickchart-complete');\n",
              "    }\n",
              "    (() => {\n",
              "      let quickchartButtonEl =\n",
              "        document.querySelector('#df-bb2e7dbb-5aab-48fe-adb4-db0c88b0f314 button');\n",
              "      quickchartButtonEl.style.display =\n",
              "        google.colab.kernel.accessAllowed ? 'block' : 'none';\n",
              "    })();\n",
              "  </script>\n",
              "</div>\n",
              "    </div>\n",
              "  </div>\n"
            ]
          },
          "metadata": {},
          "execution_count": 37
        }
      ]
    },
    {
      "cell_type": "markdown",
      "source": [
        "We write the **product ID** and **user ID** of the sampled rows to the provided `fout` file, with columns separated by comma `,`. We only save these two columns because for the co-review graph, we need to know which users reviewed which products."
      ],
      "metadata": {
        "collapsed": false,
        "id": "mGe1WbixkOF_"
      }
    },
    {
      "cell_type": "code",
      "source": [
        "# Given a Pandas frame raw_pd, save lines corresponding to approximately 10% of the users to file fout\n",
        "# Note that all lines corresponding to sampled users are saved to fout\n",
        "\n",
        "def sample_users(raw_pd, rate, buckets, fout):\n",
        "    for index, row in raw_pd.iterrows():\n",
        "        if (hash(row[\"UserId\"])%buckets < rate):\n",
        "            row_str = \",\".join(map(str, [row[\"ProductId\"], row[\"UserId\"]]))\n",
        "            fout.write(row_str)\n",
        "            fout.write(\"\\n\")\n",
        "            # Save this line to fout\n",
        "            # You have to complete this part of the function's body\n",
        "\n",
        "\n",
        "sampled_file = \"data/Reviews_sampled.csv\"\n",
        "rate = 10 # 10% of users\n",
        "buckets = 100\n",
        "\n",
        "fout = open(sampled_file, \"w\")\n",
        "sample_users(raw_pd, rate, buckets, fout)\n",
        "fout.close()"
      ],
      "metadata": {
        "id": "f1L04Je1Pj9p",
        "ExecuteTime": {
          "end_time": "2023-11-14T15:20:20.910486200Z",
          "start_time": "2023-11-14T15:18:38.538997700Z"
        }
      },
      "execution_count": null,
      "outputs": []
    },
    {
      "cell_type": "markdown",
      "source": [
        "As a next step, we will install `pyspark` to make use of the massive parallel computing by Spark."
      ],
      "metadata": {
        "id": "izPftdwha5_J"
      }
    },
    {
      "cell_type": "code",
      "source": [
        "!pip install pyspark --quiet"
      ],
      "metadata": {
        "id": "dAHkrlwomp_N"
      },
      "execution_count": 38,
      "outputs": []
    },
    {
      "cell_type": "markdown",
      "source": [
        "# Co-Review Graph\n",
        "In the following section, we will build the co-review graph. The co-review graph is a structure where **vertices** are Amazon users and **edges** between users mean that they have reviewed the same product. The **weight** of the connection signifies the number of the same products that both have reviewed.\n",
        "\n",
        "The adjacency list of the co-review graph would look something like so:\n",
        "\n",
        "```\n",
        "user1 [(user2, 2), (user3, 1)...]\n",
        "... ...\n",
        "user2 [(user2, 2), (user1, 1)...]\n",
        "```"
      ],
      "metadata": {
        "id": "Ii7f-4mqbHoR"
      }
    },
    {
      "cell_type": "markdown",
      "source": [
        "### 1. Setup Spark\n",
        "As a first step, we need to create a spark context and pass it the file with the **review graph**. The **review graph** is a graph where vertices are **users** and **products** with edges between the two if a user has reviewed a product. Below is an example of the **edges** in the graph.\n",
        "\n",
        "```\n",
        "user1 product10\n",
        "user2 product2\n",
        "...\n",
        "user70 product 2\n",
        "```"
      ],
      "metadata": {
        "id": "7Kjh0xxSccCj"
      }
    },
    {
      "cell_type": "markdown",
      "source": [
        "Save the product and user IDs into a dedicated `.csv` file such that we can load them with pyspark later."
      ],
      "metadata": {
        "id": "I1ZBb2Eya1l1"
      }
    },
    {
      "cell_type": "code",
      "source": [
        "full_reviews_path = \"data/full_reviews.csv\"\n",
        "full_reviews = raw_pd[[\"ProductId\", \"UserId\"]].to_csv(full_reviews_path, index=None)"
      ],
      "metadata": {
        "id": "mrybaAU4RKry"
      },
      "execution_count": 39,
      "outputs": []
    },
    {
      "cell_type": "code",
      "source": [
        "import pyspark\n",
        "from pyspark import SparkContext, SparkConf\n",
        "import operator\n",
        "\n",
        "sc = SparkContext(appName=\"co-review-graph\").getOrCreate()\n",
        "file_in = \"data/full_reviews.csv\"\n",
        "full_reviews = sc.textFile(file_in)"
      ],
      "metadata": {
        "id": "86KeRTWjmcMV"
      },
      "execution_count": 42,
      "outputs": []
    },
    {
      "cell_type": "markdown",
      "source": [
        "### 2. Find Product Reviewers\n",
        "Having created the spark context, we can perform the initial step of the graph building procedure. For each product, we want to find **all** users that have reviewed a product. This will later enable us to find the common reviewed products among users. Essentially, we just want to find the **neighbours** of each **product** node $p$. Let $E$ be the edge set of the graph, then the neighbours are connected nodes.\n",
        "\n",
        "$$\n",
        "N(p) = \\{u ∣ (p,u) \\in E\\}\n",
        "$$\n",
        "\n",
        "I call the users that review a product, **product reviewers**. The `find_product_reviewers` function below maps each **product** to a list of **users** that have reviewed that product.\n",
        "\n",
        "```\n",
        "product1, [user1, user3...]\n",
        "...\n",
        "```"
      ],
      "metadata": {
        "id": "rne1Rj0SdAaA"
      }
    },
    {
      "cell_type": "code",
      "source": [
        "def find_product_reviewers(data: pyspark.RDD):\n",
        "    \"\"\"For a product-user graph, for each product finds the users that have reviewed that product.\n",
        "\n",
        "    :arg\n",
        "        data (pyspark.RDD): the user-product graph, which consists of <productID>, <userID> tuples on each line.\n",
        "\n",
        "    :return\n",
        "        (pyspark.RDD): each product ID, mapped to a list of user IDs that have reviewed it. <productID>, [<user1>, <user2>,...]\n",
        "    \"\"\"\n",
        "    return data.map(lambda line: line.split(\",\")) \\\n",
        "                .map(lambda user_product: (user_product[0], [user_product[1]])) \\\n",
        "                .reduceByKey(operator.add)"
      ],
      "metadata": {
        "id": "P5h7DYMgeCox"
      },
      "execution_count": 44,
      "outputs": []
    },
    {
      "cell_type": "code",
      "source": [
        "product_reviewers = find_product_reviewers(full_reviews)"
      ],
      "metadata": {
        "id": "AzzO-CiKgEcw"
      },
      "execution_count": 45,
      "outputs": []
    },
    {
      "cell_type": "markdown",
      "source": [
        "Let's see what this RDD looks like."
      ],
      "metadata": {
        "id": "Pbn_t4wUkm3E"
      }
    },
    {
      "cell_type": "code",
      "source": [
        "product_reviewers.take(5)"
      ],
      "metadata": {
        "id": "m78VoJFSkmWX",
        "outputId": "a4c8322a-66d7-4d09-babc-4906c3c0e9b5",
        "colab": {
          "base_uri": "https://localhost:8080/"
        }
      },
      "execution_count": 72,
      "outputs": [
        {
          "output_type": "execute_result",
          "data": {
            "text/plain": [
              "[('B00813GRG4', ['A1D87F6ZCVE5NK']),\n",
              " ('B000LQOCH0', ['ABXLMWJIXXAIN']),\n",
              " ('B000UA0QIQ', ['A395BORC6FGVXV']),\n",
              " ('B006K2ZZ7K',\n",
              "  ['A1UQRSCLF8GW1T', 'ADT0SRK1MGOEU', 'A1SP2KVKFXXRU1', 'A3JRGQVEQN31IQ']),\n",
              " ('B000E7L2R4', ['A1MZYO9TZK0BBI'])]"
            ]
          },
          "metadata": {},
          "execution_count": 72
        }
      ]
    },
    {
      "cell_type": "markdown",
      "source": [
        "###3. Per-product user pairs\n",
        "Now that we have a list of users that reviewed each product, we want to find all the possible **user pairs** per product. Basically, we are taking the **cartesian product** of all reviewers for each product, and then **flattening** the output to get an RDD with `<user> <user>` pairs.\n",
        "\n",
        "Let $U_p$ be the set of users that reviewed the product $p$, which is just the neighbours $N(p)$ of the product $p$. Then, we create each possible user combination.\n",
        "\n",
        "\\begin{align}\n",
        "    U_p &= N(p) \\\\\n",
        "    U_p &\\times U_p\n",
        "\\end{align}\n",
        "\n",
        "The function `per_product_user_pairs` below computes this **cartesian product** between each product reviewers list and returns a flattened RDD, such that we have a user tuples like so:\n",
        "\n",
        "```python\n",
        "user1 user2 #user 1 and user 2 have reviewed the same product\n",
        "...\n",
        "user550 user2 #user 550 and user 2 have also reviewed the same product\n",
        "```\n",
        "\n",
        "Note that we lose the product information at this point, but since it is not relevant to the task it does not matter. With this type of structure, we can easily count the number of times that users have reviewed the same product, since each line corresponds to a product that both users reviewed."
      ],
      "metadata": {
        "id": "z11YXYFUgJcO"
      }
    },
    {
      "cell_type": "code",
      "source": [
        "def per_product_user_pairs(product_reviewers: pyspark.RDD):\n",
        "    \"\"\"Finds the per-product user pairs for an product reviewers RDD and flattens them.\n",
        "\n",
        "    :arg\n",
        "        product_reviewers (pyspark.RDD): a pyspark RDD where product IDs are mapped to lists of users that have reviewed that product.\n",
        "\n",
        "    :return\n",
        "        (pyspark.RDD): a pyspark RDD where each element is (<user>, <user>) tuple.\n",
        "    \"\"\"\n",
        "    # creating the cartesian product between reviewers, but ignoring self-loops\n",
        "    return product_reviewers.map(lambda product_users: product_users[1]) \\\n",
        "                            .flatMap(lambda users: [(user1, user2) for user1 in users for user2 in users])"
      ],
      "metadata": {
        "id": "lwNmqqy4iwly"
      },
      "execution_count": 63,
      "outputs": []
    },
    {
      "cell_type": "code",
      "source": [
        "per_product_pairs = per_product_user_pairs(product_reviewers)"
      ],
      "metadata": {
        "id": "LTmn6UUMjp_J"
      },
      "execution_count": 64,
      "outputs": []
    },
    {
      "cell_type": "markdown",
      "source": [
        "We can check that we have a flattened RDD of user-pairs at this stage."
      ],
      "metadata": {
        "id": "rzTZqtVukrnj"
      }
    },
    {
      "cell_type": "code",
      "source": [
        "per_product_pairs.take(5)"
      ],
      "metadata": {
        "id": "cIXZLg1mkwOc",
        "outputId": "14e567c0-af73-4fdc-b109-35c035fdaf59",
        "colab": {
          "base_uri": "https://localhost:8080/"
        }
      },
      "execution_count": 73,
      "outputs": [
        {
          "output_type": "execute_result",
          "data": {
            "text/plain": [
              "[('A1D87F6ZCVE5NK', 'A1D87F6ZCVE5NK'),\n",
              " ('ABXLMWJIXXAIN', 'ABXLMWJIXXAIN'),\n",
              " ('A395BORC6FGVXV', 'A395BORC6FGVXV'),\n",
              " ('A1UQRSCLF8GW1T', 'A1UQRSCLF8GW1T'),\n",
              " ('A1UQRSCLF8GW1T', 'ADT0SRK1MGOEU')]"
            ]
          },
          "metadata": {},
          "execution_count": 73
        }
      ]
    },
    {
      "cell_type": "markdown",
      "source": [
        "###4. Count users\n",
        "We now have an RDD where each element is a user tuple `(<user>, <user>)` where both users share a **common reviewed product**. The final step to finding the **number** of common reviewed products, is to for each user, count the number of users it is connected to.\n",
        "\n",
        "Since the RDD at this stage is essentially a **multigraph**, we just need to count the number of connections between user vertices to build the co-review graph. We can do this by:\n",
        "\n",
        "1. mapping each user tuple to a $1$, `(<user>, <user>) -> ((<user>, <user>), 1)`, so that we can count the occurences later.\n",
        "1. group on each user tuple `(<user>, <user>)` and sum up the values. Through this, we count the number of **edges** between the two users.\n",
        "1. map each `((<user>, <user>), <count>)` to `(<user>, [(<user>, <count>)])`.\n",
        "1. group by `<user>`and add the co-review lists for each user to each other. After this step we have mapped each **user** to a list of other users that they share reviews with as well as the **number of reviews** they share with each user.\n",
        "1. sort the co-review lists by the `<count>` in descending order.\n",
        "\n",
        "The function `count_users` below performs all of these steps and returns an RDD of the structure:\n",
        "\n",
        "```\n",
        "(<user>, [(<user>, <count>)])\n",
        "...\n",
        "(<user>, [(<user>, <count>)])\n",
        "```"
      ],
      "metadata": {
        "id": "6SsAY-cClHBw"
      }
    },
    {
      "cell_type": "code",
      "source": [
        "def count_users(user_pairs: pyspark.RDD, sort: bool, descending: bool):\n",
        "    \"\"\"Counts the number commonly reviewed products between users and maps each user to a list of (<user>, <common product review count>) tuples.\n",
        "\n",
        "    :arg\n",
        "        user_pairs (pyspark.RDD): pyspark RDD where each element is a user tuple (<user>, <user>).\n",
        "        sort (bool): True if the list should be sorted by the <common product review count>, False if not.\n",
        "        descending (bool): True if the list should be sorted in descending order, False if ascending.\n",
        "\n",
        "    :return\n",
        "        (pyspark.RDD): a pyspark RDD where each user is mapped to a list [(<user>, <common product review count>)...], sorted by the common product review count.\n",
        "    \"\"\"\n",
        "    # map each user pair to a key-value pair, where key is (user1, user2) and value is 1\n",
        "    user_pair_counts = user_pairs.map(lambda user_pair: ((user_pair[0], user_pair[1]), 1))\n",
        "\n",
        "    # count the occurrences of each unique key, map users to lists, and add the lists\n",
        "    user_pair_counts = user_pair_counts.reduceByKey(operator.add) \\\n",
        "                                .map(lambda users_counts: (users_counts[0][0], [(users_counts[0][1], users_counts[1])])) \\\n",
        "                                .reduceByKey(operator.add)\n",
        "\n",
        "    if sort:\n",
        "        user_pair_counts = user_pair_counts.mapValues(lambda user_counts: sorted(user_counts, key=lambda x: x[1], reverse=descending))\n",
        "\n",
        "    return user_pair_counts"
      ],
      "metadata": {
        "id": "-Z3tENxDmc0I"
      },
      "execution_count": 65,
      "outputs": []
    },
    {
      "cell_type": "code",
      "source": [
        "co_review_graph = count_users(per_product_pairs, sort=True, descending=True)"
      ],
      "metadata": {
        "id": "ahQ0RjITrw7o"
      },
      "execution_count": 66,
      "outputs": []
    },
    {
      "cell_type": "markdown",
      "source": [
        "Finally, we can quickly check the RDD to see whether the format is correct."
      ],
      "metadata": {
        "id": "VI3PMMaCkzTl"
      }
    },
    {
      "cell_type": "code",
      "source": [
        "co_review_graph.take(1)"
      ],
      "metadata": {
        "id": "jFxf7CCUk4sr",
        "outputId": "116ab03b-459c-4547-89fe-f974957289d2",
        "colab": {
          "base_uri": "https://localhost:8080/"
        }
      },
      "execution_count": 75,
      "outputs": [
        {
          "output_type": "execute_result",
          "data": {
            "text/plain": [
              "[('A3TG3FPAFO0SWT',\n",
              "  [('A2NLZ3M0OJV9NX', 20),\n",
              "   ('A37Y0WULUM9IJ5', 15),\n",
              "   ('AHVF60N50361W', 15),\n",
              "   ('A1CBNUBPZPWH5D', 15),\n",
              "   ('A3TG3FPAFO0SWT', 12),\n",
              "   ('A1U15WYNFC412O', 10),\n",
              "   ('APD719S590F2U', 10),\n",
              "   ('A3I4PCBRENJNG2', 10),\n",
              "   ('A3GLC45MF00NFF', 5),\n",
              "   ('A1V01GIJQGJ9ID', 5),\n",
              "   ('AMTGH49GWJXP7', 5),\n",
              "   ('A1OAZUFZTEEUEC', 5),\n",
              "   ('A3EKKE39YN92KZ', 5),\n",
              "   ('A2G4IIUA18TVCP', 5),\n",
              "   ('A32WSTQB6AVSBM', 5),\n",
              "   ('A15D65M0NGF1T', 5),\n",
              "   ('AFWA3MAM1R45K', 5),\n",
              "   ('A32TI3XCI0KS2C', 5),\n",
              "   ('APAOU9269HJRL', 5),\n",
              "   ('A2DFM26VLNVYNY', 5),\n",
              "   ('A19JPOFY2O1KHD', 5),\n",
              "   ('A6OT2UHMRIXU3', 5),\n",
              "   ('A2JV21UM89AIML', 5),\n",
              "   ('A1QCP3UXNAN8FJ', 5),\n",
              "   ('A34OXX5PQ1XEHB', 5),\n",
              "   ('A2W7ZBU9A8HKR9', 5),\n",
              "   ('A1R9YRTB6JQFWK', 5),\n",
              "   ('A2VDQUOEN5SYKD', 5),\n",
              "   ('A1B9S39FZYBGYQ', 5),\n",
              "   ('A1OTXOGDLHTYSR', 5),\n",
              "   ('AGY5RK3EKTFC9', 5),\n",
              "   ('A1G12MZXFX1Q1X', 5),\n",
              "   ('A2YQCZEHOJZLQL', 5),\n",
              "   ('A1I6ZQUXVDG1CT', 5),\n",
              "   ('A2DWEZ8PJZR6I9', 5),\n",
              "   ('A14U2WTVE7B377', 5),\n",
              "   ('A4DULCHGKEA59', 5),\n",
              "   ('A31Z7ATIAL5KFB', 5),\n",
              "   ('A2CHB7ZP0AL4FC', 5),\n",
              "   ('A2B0RUYD25KBFB', 5),\n",
              "   ('A2XMLM5S0PC2BR', 5),\n",
              "   ('A1D1SP3AOXDP4H', 5),\n",
              "   ('A1VQKT0EFQ3Q2K', 5),\n",
              "   ('A14IWAGB679T86', 5),\n",
              "   ('A1EA3QWLRO24X8', 5),\n",
              "   ('A1MJYKZLAVA021', 5),\n",
              "   ('A3HPZ6BIMNXSZR', 5),\n",
              "   ('A2VHBEFX94H61R', 5),\n",
              "   ('A37BVJZJAMA83S', 5),\n",
              "   ('A7RQ5DNXWAA74', 5),\n",
              "   ('AGXKZFVU0YA4U', 5),\n",
              "   ('A1ONZ8JRPLBNUI', 5),\n",
              "   ('A28KT7YARLG4JC', 5),\n",
              "   ('A281NPSIMI1C2R', 5),\n",
              "   ('A351W0BCYYUGYW', 5),\n",
              "   ('ABMSXYKU0XPC', 5),\n",
              "   ('AQ5UKHMH36LV9', 5),\n",
              "   ('A1USEUYCTA5R4P', 5),\n",
              "   ('A10ZN08SMLZL1Y', 5),\n",
              "   ('A3UN7Q9YZX1UPN', 5),\n",
              "   ('A2IOH181X1SZ3S', 5),\n",
              "   ('A24NRU0P0TN907', 5),\n",
              "   ('A12RI7T2PXO4JQ', 5),\n",
              "   ('A3J171NBGIBYAW', 5),\n",
              "   ('A1CCC2S1IHAZ1P', 1),\n",
              "   ('A1K4BNVKVOAWYV', 1),\n",
              "   ('AWS2OL6ELKWP1', 1),\n",
              "   ('A1GRZZYMAK5D5K', 1),\n",
              "   ('A3AB7AJ12KAMX0', 1),\n",
              "   ('A35AN6WK97W93I', 1),\n",
              "   ('A3FE6D2TLG8GVY', 1),\n",
              "   ('A2GQJO8CWDNH0D', 1),\n",
              "   ('A1NFYVLLYNX48R', 1),\n",
              "   ('A105NWBGTK8O7W', 1),\n",
              "   ('A3SEAB8720W8SY', 1),\n",
              "   ('A2E3W1RE8MW2N1', 1),\n",
              "   ('AMM57345HLB08', 1),\n",
              "   ('A365P0660OS49M', 1),\n",
              "   ('A2OE6BJEC3PBQU', 1),\n",
              "   ('A1E6XHOV4QIG5Q', 1),\n",
              "   ('A3MII7I6UAIJ3T', 1),\n",
              "   ('A131GQFJUF03QN', 1),\n",
              "   ('A1ZZE3GYB2PXFE', 1),\n",
              "   ('AJL147QTM864Q', 1),\n",
              "   ('AXH9QV3IBVWYT', 1),\n",
              "   ('AKFZ49X1UW124', 1),\n",
              "   ('A32GAHCZ43R7NP', 1),\n",
              "   ('A3RAXI98HLM6S2', 1),\n",
              "   ('A1WHEJPWAL255', 1),\n",
              "   ('A31LEVBRCI0BQX', 1),\n",
              "   ('A2PHLW4Y6RBIPV', 1),\n",
              "   ('A2AE88VYGMR22Z', 1),\n",
              "   ('AQN1T0TUVQBOQ', 1),\n",
              "   ('A1R9CPBBJNM8XN', 1),\n",
              "   ('A3601YNE7LVX1F', 1),\n",
              "   ('A2XPHOBKIDQKPO', 1),\n",
              "   ('A227AEZR3H65ZE', 1),\n",
              "   ('A2AS90DPWN2LMY', 1),\n",
              "   ('A2D7QHEP89LVOY', 1),\n",
              "   ('A1055KWC26RZB8', 1),\n",
              "   ('A364WZYBZG8ERP', 1),\n",
              "   ('A1E2IHU91M6WJJ', 1),\n",
              "   ('A3BFCHF61GTKGF', 1),\n",
              "   ('A1QXB9BM5KAS3A', 1),\n",
              "   ('A1SRDFAM9KVR3C', 1),\n",
              "   ('A16ZTWG54CF6FA', 1),\n",
              "   ('ACY1WN6FPNI56', 1),\n",
              "   ('ATIMFY9T3LNZ5', 1),\n",
              "   ('A3EBT0KFKGGFPD', 1),\n",
              "   ('A1J966OH3CUQEP', 1),\n",
              "   ('A1SWT1ZDAM8END', 1),\n",
              "   ('A3NLXO3TZ4KFZG', 1),\n",
              "   ('A32K6WN17LBZHO', 1),\n",
              "   ('A186RE41N0NND4', 1),\n",
              "   ('A2GTHACRSL5D5L', 1),\n",
              "   ('A32MYPC8W71G18', 1),\n",
              "   ('AHFGVBIKVDTC9', 1),\n",
              "   ('ADHMW3D007RLS', 1),\n",
              "   ('A3SIZC600PA0AW', 1),\n",
              "   ('ANR586JBLTJ5T', 1),\n",
              "   ('A1CYTRPY1NJ2YL', 1),\n",
              "   ('AXDHH6GZ95PIY', 1),\n",
              "   ('A1PBKZ2IL5ZYHX', 1),\n",
              "   ('AFODIM6DTR994', 1),\n",
              "   ('AUBG8KPKCMNDL', 1),\n",
              "   ('A224G2S7HK5PIZ', 1),\n",
              "   ('A2DZL9L9OAQMDB', 1),\n",
              "   ('A3H3YJX96WPJW', 1),\n",
              "   ('A2VPMHJSA5P7QQ', 1),\n",
              "   ('A126UI8QCEF5GG', 1),\n",
              "   ('AZ41EUQ75F3NR', 1),\n",
              "   ('A1H99YJIULITO5', 1),\n",
              "   ('A28X65G5RJY5F6', 1),\n",
              "   ('A1WTI1H1W1IX34', 1),\n",
              "   ('AA3DDUMYE8QV3', 1),\n",
              "   ('A12X0SVSMHXOSV', 1),\n",
              "   ('A2GE4Z54ANQRNE', 1),\n",
              "   ('A33I4WXVCV3GFD', 1),\n",
              "   ('A24GQLMMW09C9J', 1),\n",
              "   ('A1JN4Q5VMQS7TL', 1),\n",
              "   ('A2ZJSLWT0IINU8', 1),\n",
              "   ('AGKTBRG9GCLWK', 1),\n",
              "   ('A9OQZ77VPKH6H', 1),\n",
              "   ('A2VUSLI3LTA7I9', 1),\n",
              "   ('A1DZYXYIPP8OYA', 1),\n",
              "   ('A758E2GOLEWL5', 1),\n",
              "   ('A2WRJ5J3F2T1TB', 1),\n",
              "   ('A3IAOYHHON03ST', 1),\n",
              "   ('A2I9RPLAH2DTFA', 1),\n",
              "   ('A1S46LCNEAA2S9', 1),\n",
              "   ('A5OWTJLIR5Y7K', 1),\n",
              "   ('A204QN2VRUQA9B', 1),\n",
              "   ('A3EO0DZGVG8FBF', 1),\n",
              "   ('A1R8R0ZQB16BGR', 1),\n",
              "   ('A30VZC0EJ9WOC6', 1),\n",
              "   ('A3CYTW7MR27W51', 1),\n",
              "   ('A3C6AZJVR396OA', 1),\n",
              "   ('A2U1S8Q26R0TMF', 1),\n",
              "   ('A1Y75MME2BWQQ6', 1),\n",
              "   ('A3NHUQ33CFH3VM', 1),\n",
              "   ('AQ6L8TY581VVU', 1),\n",
              "   ('A3VHX1Q83MY5TV', 1),\n",
              "   ('A1EU4ELA15EGLR', 1),\n",
              "   ('AEC90GPFKLAAW', 1),\n",
              "   ('A3R54ZEBZPKJPZ', 1),\n",
              "   ('A2XKJ1KX6XUHYP', 1),\n",
              "   ('A3PM14BWXHJFLS', 1),\n",
              "   ('A2IZDI6OJS6OWO', 1),\n",
              "   ('A11Q0R002UFP2S', 1),\n",
              "   ('A1FDDBPZ0UEHVU', 1),\n",
              "   ('A2KTTL88FATKJO', 1),\n",
              "   ('A1WG5SD91EWYXZ', 1),\n",
              "   ('A1IJ0BS1QEAWAZ', 1),\n",
              "   ('A2ZRIUYMFMFVTU', 1),\n",
              "   ('AJ9JT3D0JD7R9', 1),\n",
              "   ('A2J74PQBZ6LPUO', 1),\n",
              "   ('A3F3B1JPACN215', 1),\n",
              "   ('A3AN7SL733EDJM', 1),\n",
              "   ('A3JZ4WY04P31HK', 1),\n",
              "   ('ALALOPJD681PZ', 1),\n",
              "   ('A1RHLQDYRIG0AH', 1),\n",
              "   ('A2BKB00A2LRU3R', 1),\n",
              "   ('ACAYZOL01VEJ1', 1),\n",
              "   ('A1B984EZRAORDL', 1),\n",
              "   ('A3LS3CMFXQ8V5H', 1),\n",
              "   ('A3NPXZYRX1YE7J', 1),\n",
              "   ('A2CDOH245FGTBH', 1),\n",
              "   ('A2PHMLW96J7QE', 1),\n",
              "   ('A392YLG0C16HDC', 1),\n",
              "   ('A1X036J0POA30A', 1),\n",
              "   ('A2KEU7R6W8XQ0U', 1),\n",
              "   ('A1S1OWKTCAFO34', 1),\n",
              "   ('A2Z42HDADSSO5T', 1)])]"
            ]
          },
          "metadata": {},
          "execution_count": 75
        }
      ]
    },
    {
      "cell_type": "markdown",
      "source": [
        "### 5. Save To File\n",
        "As a final step, we save the finished co-review graph to a file. Collecting the data is not feasable due to the size, so we will first move it to a single partition using the `coalesce` function before saving it into a file."
      ],
      "metadata": {
        "id": "bD8n6KppCclR"
      }
    },
    {
      "cell_type": "code",
      "source": [
        "!rm -rf data/single"
      ],
      "metadata": {
        "id": "M3MYFQT_jfMN"
      },
      "execution_count": 68,
      "outputs": []
    },
    {
      "cell_type": "code",
      "source": [
        "co_review_graph.coalesce(1, shuffle=True).saveAsTextFile(\"data/single/\")"
      ],
      "metadata": {
        "id": "CiV2GKnOUr3h"
      },
      "execution_count": 69,
      "outputs": []
    },
    {
      "cell_type": "markdown",
      "source": [
        "We can check that the file was indeed saved."
      ],
      "metadata": {
        "id": "h-CYbX0voD_m"
      }
    },
    {
      "cell_type": "code",
      "source": [
        "!ls data/single/"
      ],
      "metadata": {
        "colab": {
          "base_uri": "https://localhost:8080/"
        },
        "id": "3U-fmVizeAGu",
        "outputId": "a2cb916c-51d9-42d1-d25e-a5dec047814d"
      },
      "execution_count": 70,
      "outputs": [
        {
          "output_type": "stream",
          "name": "stdout",
          "text": [
            "part-00000  _SUCCESS\n"
          ]
        }
      ]
    },
    {
      "cell_type": "markdown",
      "source": [
        "Having written the Co Review Graph RDD to the file, we can check the first 10 lines of the file."
      ],
      "metadata": {
        "id": "pQ15ovcLoBj4"
      }
    },
    {
      "cell_type": "code",
      "source": [
        "!head -10 data/single/part-00000"
      ],
      "metadata": {
        "colab": {
          "base_uri": "https://localhost:8080/"
        },
        "id": "KcxsckU0goXh",
        "outputId": "667fd826-e322-4276-e392-8fc95eac8fdf"
      },
      "execution_count": 71,
      "outputs": [
        {
          "output_type": "stream",
          "name": "stdout",
          "text": [
            "('A22BXXSKEDW1I4', [('A22BXXSKEDW1I4', 9), ('ADDDFVHP3CSVA', 2), ('A3B0WYTTN8G7IL', 2), ('ACC8RGRP29KJE', 2), ('A2PCNXBSKCABG5', 2), ('A1H4J4CC85RVU0', 1), ('A2HHE0YDUPO2J', 1), ('A2W7896LMKV2Z', 1), ('A11C8AF8QOEHFI', 1), ('A2GA26AEIRRJVY', 1), ('AEOR295813GIH', 1), ('A3NCAR3D2L5ZLR', 1), ('AG21NYW4MWCS6', 1), ('A2YUSH1U9KEN8T', 1), ('A2NZG2ZV5LX0BP', 1), ('A32ODQDZBW2JTP', 1), ('A3JYH7JPUV1S92', 1), ('A3TH1TUOWHS1VD', 1), ('A1ZWZAADJAFGVU', 1), ('A2FRFAQCWZJT3Q', 1), ('A34XOUO7K8IDD8', 1), ('A2J57N4AUO6NV8', 1), ('AIPBPQC3ALHTP', 1), ('A1O7FH5AXNGJTT', 1), ('A1W34FDVY5BJQX', 1), ('A2YEAYYXY11NU2', 1), ('APG0WEVBOYDBX', 1), ('AAUFS5C2WYBK6', 1), ('AHT2D9OS569S8', 1), ('A274AT23JFHDJD', 1), ('A1QOGDHHWYCIOF', 1), ('A38UG06A1N2DAL', 1), ('A3EAB2EL9OIZNY', 1), ('A2AYEW7R1DL435', 1), ('A5AIAOQYY2B6M', 1), ('A1NROP1LF7ECSA', 1), ('A2P5AVK9ZXRH9S', 1), ('AZ3POG0XCDP5O', 1), ('AJ7L1JTGEBZ22', 1), ('AHYICQPNZYMKY', 1), ('A29QYVS9M03RBI', 1), ('A3RU3PJ3NUCN2J', 1), ('A25PWP1I8PGNOB', 1), ('A21AITP8P24IG1', 1), ('A25S295665QC34', 1), ('A3VHKM104M8FGG', 1), ('A1K2EICVGUYPRC', 1), ('A48JR4723GVW0', 1), ('AM6HLPWVJZR03', 1), ('A1OM5SKMHNUK8F', 1), ('A19KZTF7MK04JF', 1), ('A1B76SL9UI29ZT', 1), ('A2UNTD18YJWFZ2', 1), ('AXRSYVTAAJY8P', 1), ('A2INPRDWKMOTOC', 1), ('AHH79S8XM1OW6', 1), ('A3LC4U9ZXETSLF', 1), ('ADX80DAN39NB7', 1), ('A3LZTKQ4CDLHZH', 1), ('A15L9OACJSPG12', 1), ('A1FWKD6Y2V5LL', 1), ('AHZVVRQ14WKW', 1), ('A1YVDY3TISDRE1', 1), ('A685MK7E1SWV5', 1), ('AEJB9VB8KPPEC', 1), ('A3Q2BTPGXKHGWZ', 1), ('A1CN60TRXFWGUO', 1), ('A63IP3G1D5AUF', 1), ('A11X9OWJYPHITW', 1), ('A1R2SV9TE9Y0N9', 1), ('A2KJNFK2P8S5SO', 1), ('A2M9D9BDHONV3Y', 1), ('A3IT7AFBKVW9QV', 1), ('A2V8A1JS9G1K0Q', 1), ('A1CDHEZSJU8RM7', 1), ('A180VOYCTTAOJ7', 1), ('A2EVG1OUG840JQ', 1), ('A21817J1TA13CR', 1), ('A1767M669JLL3H', 1), ('A1VABWDOUQLULZ', 1), ('AQ5HVNWY0UJB6', 1), ('A26OZ09NYHAYXP', 1), ('A322DCL6FKWU5O', 1), ('A2P5VBDDL1L7D1', 1), ('A3IMFZHFYXGXPQ', 1), ('A3VG2PGNIZTHBD', 1), ('ACTF8IH7VTXBC', 1), ('A3ENT44HBOUICX', 1), ('A2CV12QOHGV93E', 1), ('A11OET0IWRVV8D', 1), ('A1WS5M1IQLU14L', 1), ('A3T1LD0C65QCWK', 1), ('A1JSS99BACTIPT', 1), ('A1UDVC18QKD0AL', 1), ('A2IQ0AJKJWX2TG', 1), ('A2U4Z4NU39Q950', 1), ('A1I18XZXDP6PD3', 1), ('A35OIHCM04UXDD', 1), ('A1LW9KF4MYV712', 1), ('A2WQYNK6QOTS9P', 1), ('A3NGV3V9C4MCSP', 1), ('A1Q7VJE63AI2QK', 1), ('AXNKU4R2KJOTY', 1), ('AENJBZSAD6ARY', 1), ('A3R2NI3QC4KGCO', 1), ('A2OAI8BVVZUQ4Y', 1), ('AC8DG91HN5PIP', 1), ('A11OI4452E39GJ', 1), ('A3GKHU555UQXMY', 1), ('A27OTWVB8IH18T', 1), ('A1C60SMGGZWT2X', 1), ('AMJONAHW0HQNT', 1), ('A31LE8XQMRPS32', 1), ('A360E7JE8O0V16', 1), ('A2BLRT79WUTLXW', 1), ('A1YQ9AIG0SWFDO', 1), ('A1IN5SDS0SHN6O', 1), ('A2D8KVDMYNVC48', 1), ('A3E3WQC98WZSP', 1), ('A1XZ8S66552BYL', 1), ('A1A7S08E8MV61B', 1), ('A1UERGX5AM5ZV8', 1), ('A2HA2K8UTJQKB9', 1), ('A1MUJXXQDN7ZYI', 1), ('A375GR2OPLFFA3', 1), ('ACDJKO0NM84CV', 1), ('A1Z26CP0SA9CV4', 1), ('A3J09D79EYEWU', 1), ('AS905IHXQJL2M', 1), ('A1QLFUC06OMYVT', 1), ('A21DMIN9REX6EO', 1), ('A2VH44HL63JPA1', 1), ('A4NKCR5X7CDG7', 1), ('AKND6XZ7CO5EF', 1), ('A2J0ADOC0MB75J', 1), ('A1PP9KH94ES51G', 1), ('A361CJL4HBFHNJ', 1), ('A3LLPQC3Y2WNGR', 1), ('A2XBG4KC3CKC97', 1), ('A2663C98B87GXV', 1), ('A2HOTS2M15Y81Q', 1), ('AD9YNUIT6P041', 1), ('A2844X9VRQNMW', 1), ('A37C37WKS7MHRH', 1), ('A36BFW88XNGSEZ', 1), ('A1S7RCOV80CJVJ', 1), ('A2XSMRSJLL3Y6T', 1), ('A31RE7D0XIAAWV', 1), ('A3QDOQLLJK3EXA', 1), ('A250AXLRBVYKB4', 1), ('A32AFX2PUJ82HG', 1), ('A1U8VI6I2MFEU8', 1), ('AS9VMCC9W78KU', 1), ('A1MRZ4UVKGLL7X', 1), ('AU142ZW2H5MMW', 1), ('A2QY0EZBPDLZMM', 1), ('A3HWNPRQ1DQKTW', 1), ('AA4YHHSIDMOSR', 1), ('A250B01X7WO1PJ', 1), ('A3IFI2PFEWZ4IH', 1), ('A3R7OLY8KYNET8', 1), ('A2HGYNH0DGGNRM', 1), ('A1N2U13KYQ6GL3', 1), ('ATJN4KEHJBOC8', 1), ('AJ1GIYJYGXRK6', 1), ('A19XBW5WUDH1Z', 1), ('A3CNA25EQ8DI72', 1), ('A2SV3NV5QAK3MO', 1), ('A17MDFE1GIGNEP', 1), ('A2NM0TY9LQ3OKZ', 1), ('A1NLFE12HX7V95', 1), ('AGJ8LOOP1IRB9', 1), ('A2FO8KY6GGUZ3P', 1), ('A1NFG52L6BTU7S', 1), ('A37AO20OXS51QA', 1), ('A262UKJTDZOBUV', 1), ('AE363F9UEW576', 1), ('A45WV0Q16PKU', 1), ('A3E9QI5H6VHXFD', 1), ('A2QS69OOXN6PQP', 1), ('AGXCJN027BUMK', 1), ('A12U9Z99DFRQ3Y', 1), ('A1OC972JQ97EGI', 1), ('AG7BM783G8EMY', 1), ('A4JK4PV7V732J', 1), ('A3HV8LF9XQV3LA', 1), ('A3AFLKIKC59PMD', 1), ('A1S9E01DLBYUP7', 1), ('A1FOXAEYEF4EAS', 1), ('AUBFJ7V28MAQ5', 1), ('A9F2166Q1JIYU', 1), ('A3M9T9RTNG2KPC', 1), ('A1XXXYOJ1YYDB0', 1), ('A18AEOSTEDAVK6', 1), ('AS783H6UPEKXX', 1), ('A3DFC1O84Z6FQG', 1), ('A2FIF5TPVZDLZG', 1), ('A2NLIWIGBBYL14', 1), ('A224XSUCQEYGD6', 1), ('A20IDF5JIIB6WW', 1), ('A25LM23UM50GD', 1), ('A3NPSZV0CRVNZL', 1), ('A25IXXK9K7ODXQ', 1), ('A3HGBBGUAF3D8H', 1), ('A2HBUE1U12JVO9', 1), ('A1DZRQCBDNYAT8', 1), ('ABG31O894JJR', 1), ('A210E38W8ONDUJ', 1), ('AMNFSTVQTBKSL', 1), ('A1C4QE2JODDX6I', 1), ('AF87EQIXQ1VEF', 1), ('A1AB3XXA6BEIT4', 1), ('AZV26LP92E6WU', 1), ('A1CG0UR1AF5PTA', 1), ('AC656K7PC6P4W', 1), ('AXYKJPBQTWM5W', 1), ('A99EYKS4OOQ4U', 1), ('A366K8ZPVIM9OW', 1), ('A1PX3M3ZUZFHQI', 1), ('A3774UJAKO4FHI', 1), ('A1MQGR72OMQLGY', 1), ('A2YMMOG3WHCCRJ', 1), ('A2B0YZP9OUM2KF', 1), ('A2XQYE6TJYROHQ', 1), ('A3MXC33GY8L1YC', 1), ('A2PNZCR7V56TF9', 1), ('A2SPVQNKOW9YNN', 1), ('A127Q7EXKRCMBW', 1), ('AYGJ96W5KQMUJ', 1), ('A3F3B1JPACN215', 1), ('A1X8ZWASMB9JSE', 1), ('AP6LGH6B31OPY', 1), ('AO6YPRESMLC5F', 1), ('A3CEX460EUPSKU', 1), ('A20THZW50YXTZ0', 1), ('A1L7H0N7O1O8MW', 1), ('A9J5SLYXUCWO1', 1), ('A3JQEQWHX57SGK', 1), ('A1KE3GJ3UGPGE9', 1), ('A25JROTU0YWU4O', 1), ('A3H31KZB7WQRW0', 1), ('AG1U6K2SEDCVY', 1), ('AQCITD4UJ7EM6', 1), ('A1L17VX7YBMCRE', 1), ('A59UC2BVB01X2', 1), ('A3T7432CT0QQM7', 1), ('AQLL2R1PPR46X', 1), ('AJK1BSTTTO4F6', 1), ('A1YSPAW0WE03HZ', 1), ('ARNKRU0X9OIQL', 1), ('AMPGRXQMO89X9', 1), ('A3FQNSLFLRUL67', 1), ('A1LIZLFBI29RIA', 1), ('A13KWUOCNF5OHZ', 1), ('A2FBO0XZWBJK6E', 1), ('A3IROPK9B0M59W', 1), ('A2Y8IDC1FKGNJC', 1), ('A10E6DOS7DN833', 1), ('A2HCBTEAPET666', 1), ('A2PR6NXG0PA3KY', 1), ('A2W7LHQDNINGQ3', 1), ('A3NJI40B1ZVGRE', 1), ('A1AJ5M5740G9FQ', 1), ('AUR9V9FCNNCMK', 1), ('AI0BCEWRE04G0', 1), ('A3LLJTKU4USS6O', 1), ('AOC7710I81XRL', 1), ('A24CQDEF72AT15', 1), ('A1JTQCIL88W9JV', 1), ('A197VHRU8XA0N9', 1), ('A2F23QT3T03LLB', 1), ('A314BTQHA98OGF', 1), ('A3US0UZCOXGI13', 1)])\n",
            "('A2DL99VHG5V979', [('A2VBSTQ9O0AEB6', 1), ('A24L0IY4B5DJRN', 1), ('A1LI5U56OOSPDN', 1), ('A3T9VKZ95X82I9', 1), ('A2S2YHH7AKEWZX', 1), ('A2DL99VHG5V979', 1), ('A3LG9MN4QIGCCM', 1), ('A2XOGQ5600ZCHC', 1), ('A3ADR4D5Z54V96', 1), ('AM45SEDUILCHI', 1), ('A3I30L31M84R42', 1), ('A2M9W06KJM3G9I', 1), ('A16CEFNUQOKYUD', 1), ('ASM5LIBGRRPOV', 1), ('A9DCQPOOK1XC0', 1), ('A2FXPDA41KJLSO', 1), ('AKJHHGHGL5WLT', 1), ('A2B2069UWNTJKG', 1), ('AUEKRRH4D3P0M', 1), ('A1Y7OVPSVFNWB3', 1), ('A2YQGGEBU779WQ', 1), ('A1J8UVC1YAMKY3', 1), ('A3T2JDQXGRUTXO', 1), ('AEA7E0SD0HMOB', 1), ('A34AADYGNZ60J8', 1), ('A2SWH9C05HR6IV', 1), ('ATQ62UE72F746', 1), ('A2BK2LPVBG7BUX', 1), ('A2P76SJ5C6J2RK', 1), ('A2ARU628G1275Q', 1), ('A3H0XQ5AF1VF5S', 1), ('A6TT5312QOCTV', 1), ('A26L9DRHE1XWLW', 1), ('A142G6LP6DJNZT', 1), ('A2KHEROAH6XIAQ', 1), ('A29TOYHBJ80ZOZ', 1), ('A3XQ2MKCVTPTH', 1), ('ATTIN55RSE9W1', 1), ('AI1FBBRXK8DL3', 1), ('A1FQVUCRUHTIIG', 1), ('A13QNGUB9IYTY4', 1), ('A2K0PR28C0IOU0', 1), ('A35SSS613S95RN', 1), ('A1DSYFYY544TW7', 1), ('AFCXBLORYHMAJ', 1), ('A3RFO6UXL55U7V', 1), ('A247HIQ55LBSEJ', 1), ('A3G887Q097VQ9', 1), ('A26R20G1J6SBLV', 1), ('A29LABZUI8XWQ4', 1), ('A369D4HXAVASS6', 1), ('A3MJ089N0M3UJ4', 1), ('A3TZGRVTYR91X9', 1), ('A1Y0HX12MCT6OR', 1), ('A3R6VRD149SN0U', 1), ('A1SFAPCD5UHP1X', 1)])\n",
            "('A1V1A5UHPD5SNG', [('A3I184YCTFAL2R', 1), ('A1IBIPP2II4IOR', 1), ('A2TQNRTP49YI3Z', 1), ('A3P8D1HOYW3HMQ', 1), ('ACB6Y64GG4L30', 1), ('A2FJ9Z91CYQKPW', 1), ('AZAY1VDQNMSSF', 1), ('A3NR8Q9OJB65BW', 1), ('A37KCO8GJ05ZX', 1), ('A3KUQ3M1O3L9DW', 1), ('AUKAA3HZQVU58', 1), ('A39JG126NWVWKX', 1), ('A6HYV3VEVTUPG', 1), ('AXQ99FCFAHZM9', 1), ('A2GNQ8TD7110OL', 1), ('AEJ5M25ECZLP4', 1), ('AN4OIHPDX1KSS', 1), ('A1WYN34P78KAT9', 1), ('A21JDJSNES1KZ1', 1), ('A8EW4XTA6E7PQ', 1), ('A2PHPA3CSC0Y26', 1), ('A2QV1V06YJSQKQ', 1), ('A1MUC4VVHUV325', 1), ('A9CS4UZOF8RO4', 1), ('AYU404OSVUXQ2', 1), ('A3DVBWC0CXH8DY', 1), ('A2T0V99GLGXWCM', 1), ('A37VTF1ZDBXYRR', 1), ('A7OH4VOMAVJA5', 1), ('A535EB54QXFJV', 1), ('AEWH853R7ISOQ', 1), ('A2Z5MGANGJKLBV', 1), ('A1HQBPVSPHJWB1', 1), ('AMZ80S63DXM11', 1), ('ACF2CT49DLWNG', 1), ('A276BKCK4ZE7EW', 1), ('A2DQYDDZC5NVKU', 1), ('A3QGIS4ERXQC4T', 1), ('A31EF4YRP05VSD', 1), ('A1LHQN8NDKOGWV', 1), ('A148ABAGOSRWCG', 1), ('A158SYW3PFP0ZK', 1), ('A1FRCZMAHQ1D24', 1), ('A27QLU2S5VT6LI', 1), ('AU6G4BT6Q29TB', 1), ('AN7YHM8Y84PK8', 1), ('A18HFNW9DF13CI', 1), ('A19YX46WTGPT1B', 1), ('ANO997BPQI7JO', 1), ('A1YHS4FSOWPM63', 1), ('AFFXH8HWIDJZ2', 1), ('A1UAFLO8ZXN909', 1), ('AJLPS4A9HGOQK', 1), ('A2P2ST28QAZMJI', 1), ('A3AE1W3TAB5QRJ', 1), ('A352LCJTFJ4SGI', 1), ('A1Y86UFLESXUQ9', 1), ('AZ0QC2GDDP6OK', 1), ('A3HNU2WZ8IFOLP', 1), ('A3NKEKNSSMC765', 1), ('A29O1FKXL1UMBD', 1), ('A1026Z3HI9IC0S', 1), ('A1LOKACLIE4GBF', 1), ('AKSOP2AIIDYOR', 1), ('A1V1A5UHPD5SNG', 1), ('AU7TT24FR2XC7', 1), ('AGI6XYEVHC70', 1), ('AUJBPERE287D', 1), ('A1IGABVZXMQSK2', 1), ('A3PRIMOSIGDCNN', 1), ('A3UF38YLQMEQ0A', 1), ('A2IA6EA7ANJ25X', 1), ('A3E4OSGZO29KUL', 1), ('A7WWO1JAN0YCQ', 1), ('A37S7LFVY0DNIU', 1), ('A2HCKBBEXELJ3R', 1), ('A1WXJ2XUT3S3WS', 1), ('A1J21ASO8KZ74O', 1), ('A8YQ8EGT3QBSG', 1), ('A1RZVJ2V37P63H', 1), ('AWOPLS2SF9HGY', 1), ('A2Z2LWDTHN2RKY', 1), ('A22NVHWTYFIUOG', 1), ('A39UBUU4Z6EYRI', 1), ('AN5IYGA7NIJ5P', 1), ('A3TGJGHCBESXFA', 1), ('A23JJO13Y5TWYZ', 1), ('A13W3KRLXKLZI5', 1), ('A2O1AG0Y1V0PQL', 1), ('A35I7I5255CEO1', 1), ('A2HYRIBDXCYVL7', 1), ('A1DFL66IDY0Z2Z', 1), ('AX7SHUWUQ25OY', 1), ('A1FAZO0UVTFBHU', 1), ('A1QJOHJZKMSK1D', 1), ('A389KK46AH771B', 1), ('A28TBJQ8SU7XFH', 1), ('A2J57JX13BF5CP', 1), ('A1390WQJ54J8SH', 1), ('A11L6D2KZH3SDK', 1), ('ACQGD5WAYIFT8', 1), ('A2W6FIO42VPONX', 1), ('A1WK7TU9SRQDBR', 1), ('AOAWM8LC21R0', 1), ('A36UW7HRZAOADO', 1), ('A7Y38ZIDKV5Z', 1), ('A368DWP3Z1GV1C', 1), ('A24LXERYIRANLN', 1), ('A1K8US4TA03Z14', 1), ('AX81N1I5ZFS87', 1), ('AHP53T3J2JZN7', 1), ('A1EF37KYK7PRLV', 1), ('A3CMEBXKK9SUWA', 1), ('A3BLEFSUUIM3HD', 1), ('A2DJLLV3KY686B', 1), ('A108UKS54FI2L', 1), ('A3DKP8M0GSP8UK', 1), ('A20AXXM2UT862W', 1), ('A3CH8DBQR6QGV', 1), ('A35BK88JWUFX5Q', 1), ('A1YKAL9XI4X5U2', 1), ('A1QVMBE68LULWR', 1), ('A3R6GBRMIWXON8', 1), ('A3UG80C9RUM5VH', 1), ('A1IHTVQF2BWYB7', 1), ('AXJ1QYBUL86ON', 1), ('ACNM1HQ5HS2T5', 1), ('A2IDUYGY8YIAOG', 1), ('A11NH4ASNKHG6A', 1), ('A1QELVOWJKCHE2', 1), ('A31GVV2KT5MEEF', 1), ('A3E5OJFZ1XY0IU', 1), ('AWBQTFLTIKYOZ', 1), ('A2ZBO0ICNOIF0Z', 1), ('A1Y8TUMUKVXKSB', 1), ('A3HZYG38DYV8IF', 1), ('AEVCJ0L9003EQ', 1), ('A2BX272S44FB5', 1), ('A1MHVTTMXL4VCZ', 1), ('A2NG55CV7390KY', 1), ('A3EL3U9M738JIX', 1), ('A3CY0KMJVYPQMU', 1), ('AKZLZ9ODK755Q', 1), ('AENXTZZFZFP6', 1), ('A15FWB8OF2KWML', 1), ('ATMY8IKES46YA', 1), ('A2JLKVQYDTEKZZ', 1), ('A2IGL5EC3SOWVD', 1), ('A1JSPT2XIPOI57', 1), ('A1WLXKRRWTFS9Z', 1), ('A1MJ4WTOYW9WXZ', 1), ('A3A2ZQ4HZFEJ3T', 1), ('A1VHXCUIFJAT6F', 1), ('A1XHN1HH440ZIU', 1), ('AIYMQF677QXQV', 1), ('A1HS55TIAPZP4C', 1), ('A28DTXAR4FUWA0', 1), ('A2F527KE5S6GXC', 1), ('A3NLPVGD2N85LW', 1), ('AJK7DQYPL9CKB', 1), ('AN8Q7CSBVZNFE', 1), ('A2TXFTRI1M1VHL', 1), ('A1ZG9C6VXGBK6M', 1), ('A1GW922HWTQRNC', 1), ('A1HEWP5QAY9D31', 1), ('A3A4YZA9WWAPH0', 1), ('AW0SOAPEY2I7', 1), ('A1IZPK69Q2Q541', 1), ('ANWM8S35LPNBE', 1), ('ATFAYY33CGC3A', 1), ('A332DW1GE1BEB1', 1), ('A1IDRPIHIMFU3Z', 1), ('A3MY1ZNGYGVLHV', 1), ('A22IQ8J47JT0D1', 1), ('A198B3ESPI3UPL', 1), ('A2SA6LR78V49UV', 1), ('A1I5MXOUFS72AJ', 1), ('A3UWMAFJ5CSPV7', 1), ('A1V63QX9C0A0OQ', 1), ('A1D0U7MPGWZRI', 1), ('AWM9HC6GFU4PO', 1), ('A1FC5GJ4QFXKUZ', 1), ('ALV69W3BR3LJQ', 1), ('A1PKNCEJC40M43', 1), ('A39RTN2GZM5SEH', 1), ('AF69ZA6KU0TH3', 1), ('A36CH3L121K1QI', 1), ('ALTOSSVV7PSR', 1), ('A30NECNFHHBT3H', 1), ('A3PQGO6V5M2CR5', 1), ('A3J6U4DRKLO2C9', 1), ('A1CCTUD24SJ1I6', 1), ('ACAL9H7Q7YZN3', 1), ('A3W2I2P178GDT5', 1), ('A1SQVECKVVEQ2P', 1), ('A7RADUJSF7P3N', 1), ('ANJDW18HCZ4BR', 1), ('A136J9RQGY50OT', 1), ('A1H3D6C2VBGOOZ', 1), ('AJ5FFLQIHGM3V', 1), ('A3MLOUYSAIGOFY', 1), ('A1KD8BPYC5LUQT', 1), ('A3EDDM6QZV0ZB', 1), ('A2VANRFXD0M3K7', 1), ('A2YHVMP0WB99ZU', 1), ('A22H3TRS3BHER6', 1), ('A1LJJ0RBQC2A69', 1), ('A3B6G4GLIV5MTK', 1), ('A25KZ609VLFI97', 1), ('A55R92MOH3FU5', 1), ('A162V98EOSAZNB', 1), ('A1UQFFSR1Q5LBA', 1), ('A3HHGBT6MFH4G4', 1), ('A11P8B26DH73II', 1), ('A1KMZKEBVNBULI', 1), ('A2EOU64TXNBFEQ', 1), ('A2PAQ99OFLS3KN', 1), ('A1RJ06VNBIB1BQ', 1), ('A2MPB7BORVVJCZ', 1), ('A313E4ZC69N13A', 1), ('A26F05A3NB4580', 1), ('A5QNJVQGPQ18N', 1), ('A1FG8UTWU5CVAK', 1), ('A3IBKOZ13SIPD4', 1), ('AJQISMZ3ERXD4', 1), ('A1BC7V7RWX9HEY', 1), ('A3OQNWCOITZSSH', 1), ('A3LWZ1MPSOJU8H', 1), ('A39Z8SY8TQJ7U8', 1), ('A1MJ3KKJ1KC50M', 1), ('A39LXUU8U4PFLD', 1), ('A1HW0OPLV8FVXA', 1), ('A1MF9AZ6J83BHX', 1), ('A4UMJSMYWQYIP', 1), ('A8VN3RXNFSI7Q', 1), ('A1X5IG3ZQH56PB', 1), ('A3QNIIELPYAL9V', 1), ('A1B65ZNAPP2Q8', 1), ('A27CWY7SMZIC7O', 1), ('A3T1LD0C65QCWK', 1), ('A2XWFSMXJ1RR0R', 1), ('A288V3U2VACS1W', 1), ('A2X674TN3P7AVU', 1), ('A3BZBYHXTKDPKW', 1), ('A1KGLT30RAOX9P', 1), ('AABNRC962KRS8', 1), ('A3D7ZGX6J5OHRV', 1), ('AICS4VWZ0W6QT', 1), ('A1BQB53NTXKQ6K', 1), ('A3D8YWC5M2MDV', 1), ('A1HQSHDE4YXAO9', 1), ('A2C7MFWNW6N1WI', 1), ('A3V95IASL3W467', 1), ('AZZU5BA2CHYVF', 1), ('A23VYXQCJ6T5ZH', 1), ('A1KKQ0Z2VHCUJP', 1), ('A26W868FTJU93X', 1), ('AXTN7YDAXMPAE', 1), ('A3VC6VMZAM2BQH', 1), ('A3BVN2QBNPBHCR', 1), ('A2K9O90NDDKYHF', 1), ('A2DOLTLPCJ2XQ6', 1), ('A3E6CHEMU5HFTK', 1), ('A34BZM6S9L7QI4', 1), ('A3SJYYKZFNWDGX', 1), ('A2GHU8I0P3HFRW', 1), ('A2CHWR128F31M5', 1), ('A1IWH3V0K3WAQQ', 1), ('ALL20IS3DUW02', 1), ('A3JGPALN1C8Z1O', 1), ('A1LU790IBTC5LE', 1), ('A26SGJQ62A2ZC4', 1), ('A3CP3OHKW9H06A', 1), ('A36AXVUWR2YQWL', 1), ('A2AS889M5PMZNZ', 1), ('AXV4IU83DKBFJ', 1), ('AW26KR46P1V74', 1), ('A17LL9M0IWQN9L', 1), ('A1X6WS9PPQC3GI', 1), ('A326CJOIAVMKIR', 1), ('A2ZSNYAUB44OEB', 1), ('A3JGX26V9LPOUN', 1), ('AF8I3WNO7W679', 1), ('AKONPBVECFS86', 1), ('A313IIE7F3KDVE', 1), ('A3HXWE4KTOV2S7', 1), ('A1B3EORZIHX92B', 1), ('A3DTNINKMCO9OH', 1), ('A2GX9LXA6YQCF5', 1), ('A2I169EKFN5A30', 1), ('A1ICOB5XZ9GK3R', 1), ('A2EPJIUOT7L6EX', 1), ('A3H6K6ZTJPIBB0', 1), ('AOQDWIBN3R03', 1), ('A2KVCZP7QD62Z1', 1), ('A1LIDXMYDZWP53', 1), ('A2NDG6LYZBSCY6', 1), ('A1TDDIOB48CRB0', 1), ('A3BAJ0HDKFRE0F', 1), ('A1KUNNBCC6WHST', 1), ('A82Z0WEE3530L', 1), ('A1J8G61INVCAM4', 1), ('AYIN5VO7PQ4QK', 1), ('A1LFRTM8PKYFL7', 1), ('A397DYAUTOVBVB', 1), ('A2270SA7PGX2A7', 1), ('AXWV5FPV63KZH', 1), ('AXBCJP1XW2ZOF', 1), ('A1X5E11UND3CD4', 1), ('A1J7RSVCF7F7B3', 1), ('A117FC349SBSFK', 1), ('A1DIYN6WXS430U', 1), ('A2RFGRBQ5NZFOP', 1), ('AHUSFEGNW2SQA', 1), ('A3MX83L81I5OU0', 1), ('A2XURTOP892GF2', 1), ('AKA4AA8Y669BN', 1), ('A3JS3HA7P5J4D', 1), ('A205Y60AGAAZ0M', 1), ('A3J978AOE0WB7G', 1), ('A2CHHP8VPWBYXL', 1), ('A1JS8ZO023Z0FU', 1), ('AO8VZ9RT2LB5A', 1), ('A1YCRX6QBEGD21', 1), ('A18Z7ICRLVHBBP', 1), ('A88AUME6TSUK7', 1), ('A1XH4S45LJCCKX', 1), ('AIRVFK94M0ZB6', 1), ('A36G9G996F3Q6W', 1), ('A3F1G6UH4Y39X2', 1), ('A1SGUI3RORSZ33', 1), ('A3QLGDIP1IJRO5', 1), ('A3KXQYG56G7DLT', 1), ('A36EK9QNCTIDYQ', 1), ('A17M37FVCIF3QR', 1), ('A2IQ5KV200F2ON', 1), ('A1MZYOZC9GB3ZZ', 1), ('A3BFN91Z2MAUBK', 1), ('A32CT20R5J5D4J', 1), ('A3RXC1WYUGEQ1T', 1), ('A3ATVX4GHV8L88', 1), ('ADQVVP06WP6YY', 1), ('ALYQKDP5UBDPF', 1), ('A2QD2LG9F6A2GL', 1), ('ALONLO6UF0MLL', 1), ('A23UX18ZG6JKBR', 1), ('A3CJZ7BTAYA01B', 1), ('A1Z0VDSYKCQTRH', 1), ('AGO8L0LT7IV9Y', 1), ('A37AFGJOSAFXR7', 1), ('A2VLKG56H31VUT', 1), ('AFYOLE1G27QP6', 1), ('A3Q6EH14ZOT9K5', 1), ('A3RR2UWBJ8YVSQ', 1), ('A1B1CERK67I9FP', 1), ('A2V2S4RAVP2Q10', 1), ('AB4XGHZNQN413', 1), ('A1H2ZF9Z1ZODRV', 1), ('ACVDLMGR3BKBY', 1), ('A2R1M60AVUQRYZ', 1), ('A1YD18SPM5SS9V', 1), ('A1B7VXI3V136FN', 1), ('A2MPNGP63XMNY0', 1), ('A1K6OCM7PYC5W', 1), ('AG7Q23Q5YHPE7', 1), ('A271RKAJYR1OJ0', 1), ('A3LS7BZ2Z53G2L', 1), ('A2WXRMYJGNI7E8', 1), ('A2MMO0TAJOVWSL', 1), ('A23PR1RD6I1FLA', 1), ('A2A8L2XSHKBAI0', 1), ('A30X18EYEJQWLG', 1), ('A1AW7OTQ9QX3IG', 1), ('A3LBK3TI89AT4C', 1), ('A2XQ80ADBQTV3H', 1), ('A906QDIXE9RLE', 1), ('A16PE2Z6XE3P87', 1), ('A226Z27AJ6BQRF', 1), ('A12AF9K5AWVHVS', 1), ('A2ZETEVDOTOD0O', 1), ('A2CCYTJQNBHFA0', 1), ('A1CWWMP5SAKC1I', 1), ('A372XGNN8NBS7J', 1), ('A1G04KM9G75LLR', 1), ('A1F14BB4PV053A', 1), ('A3B09NBDBXTWIT', 1), ('AFUM9UDF7IN6I', 1), ('A3JHZ1O0CWREE2', 1), ('A2VCVT6YSISO6W', 1), ('AJL7IRFHBPVTB', 1), ('AUN6OJ31CQ0JV', 1), ('A18KJSW0EZMPYK', 1), ('A3GYYKV5VNXZ33', 1), ('A3G40WRAQ81WPG', 1), ('A2FO8KY6GGUZ3P', 1), ('A1KMXZ99Q9IZ58', 1), ('A1V6QOMVTUH0AN', 1), ('A1ZU0LAEOYS9JW', 1), ('A21XISGVL7C6RM', 1), ('A1PBDKO1I6CINA', 1), ('A34Q0PGYXH18U8', 1), ('A1JTGI1L4JFWG', 1), ('A2V5R832QCSOMX', 1), ('A1F6FX6Z3HVVIU', 1), ('A6J8YYSJPPCS5', 1), ('A260Q73UDXIX0G', 1), ('AITQHNXJJ8JJA', 1), ('A3OGKWEZLZLL60', 1), ('ABPONH4HDGZ8H', 1), ('ACOS5P1P5MW5D', 1), ('A2MPW1R13SHA2S', 1), ('A1JS7EHYESA4X1', 1), ('A3MA4GPSTTQTNX', 1), ('AY1YNN6PAYNW9', 1), ('A20SZC6WUCLJ2J', 1), ('A1CQKVQCED214X', 1), ('A1EQA0TA4VZEZJ', 1), ('A1WYY5Q4TMAA2A', 1), ('A1NM878H77YXW8', 1), ('A2SZV2JB8MCOC9', 1), ('A3A2E234KAO8SP', 1), ('A20L2UXDIDFV6S', 1), ('A8BB15AUYW50M', 1), ('A3AXFT3RQM57DU', 1), ('AJYPAZ3JBHBKD', 1), ('AQXCBBWLZ5MS7', 1), ('A3CTX4B1E3IK6G', 1), ('A30D6CETB1N0H1', 1), ('A1TAOXXUGKYQZ6', 1), ('A12PNG6YB4556B', 1), ('A2UTYW614C5ZO4', 1), ('AHZJHO6EQ8ZN9', 1), ('A3GLXFCXLM3GDT', 1), ('AXYZGSH1C0X73', 1), ('A31X0HE0YI4TSV', 1), ('A39MWPBV4CX5', 1), ('A2B0ZJ5CYX49TN', 1), ('AC1AN5L1MLERM', 1), ('A1TDLSUDVVJAWQ', 1), ('A3GIAQV3EZ0HUS', 1), ('A9W5PL4LI489E', 1), ('AAKVW69M2ZEV2', 1), ('A1T8301M6RANKD', 1), ('A3E2FMQ629WEHY', 1), ('A1RA03VAUSR5IE', 1), ('A1ISST7Q5M6JL8', 1), ('A32R0GW071VGE9', 1), ('A1JBDDEVJ9YMXS', 1), ('AO7JSE31LOCIM', 1), ('A1OF61ZUIODK4', 1), ('A2R8ZH9TUP0M9E', 1), ('A3M4WM50O9DL4V', 1), ('A1T3XQ0TPDQIRC', 1), ('AN7W9CYLLHS2X', 1), ('A19JPCE9FWYOL6', 1), ('A20KHETIOZEJCL', 1), ('A2U5SDCRUIIRQP', 1), ('A1VJQPCV7PFTNE', 1), ('A2O8PBLW89P6KT', 1), ('A3VHLWJTK3IL3T', 1), ('A3HSCQNZJ05ZTB', 1), ('AEU12ELFLT438', 1), ('A27Y25YE80PB1V', 1), ('A31HAYUV8F5ZJ', 1), ('A1N9FBBZWZ2ADQ', 1), ('A2OUY5BDC9LRJO', 1), ('A2GE8OD4KK7J60', 1), ('A3IX5ZKGGYUGLF', 1), ('A2JEA4NCNE0WIJ', 1), ('A2KDCXEQWVJ8QX', 1), ('A3I7WN805F3WZD', 1), ('A3G35MSNILQHS9', 1), ('A3OAKUER6Z8YNV', 1), ('A2EIDL9KC24KBE', 1), ('A1CWH5E3J53EPK', 1), ('A26FRO1C3VAV6Y', 1), ('A7QZ3NG2GL2CL', 1), ('A39JYSX5E850DF', 1), ('AZF1EYRMJ1T31', 1), ('A3I1VYCRNPD11T', 1), ('A2X4IJDZN00EDC', 1), ('A2LLLUYSWV2E59', 1), ('A2I4KD3RHPWNS0', 1), ('A1MIRU9X2JVGOK', 1), ('ABWC9EFST0K1H', 1), ('A3KVSSDRE22GLW', 1), ('ACTNV67167JYU', 1), ('A3AM6QZ7FJ0MLE', 1), ('AF21102LE21UU', 1), ('A3HGHBS4E57S83', 1), ('A8PXGH2UM15TE', 1), ('AXU3801FYK0W4', 1), ('A2LMW4XAG8U57Y', 1), ('A2VUVYG98U6Y2D', 1), ('A1VOCTKT457U0R', 1), ('A1OXHDSPSM0UBH', 1), ('A1SXF1G7RIIVRR', 1), ('A3DN6EHLMEO5HV', 1), ('A19AZMPE5ICZ9', 1), ('A3ECU6LGEGZRF', 1), ('A26C4ERZO1QL1N', 1), ('A2E5WDE65T1XEX', 1), ('A7Z1413X32PUW', 1), ('AN20622QMIJVV', 1), ('A3YHN4DKZS7WN', 1), ('A37UJW4FKFUQBM', 1), ('AMC4IYZQ515H4', 1), ('A2G69JC6JIHVPW', 1), ('A1PTV7EZVRNOCS', 1), ('ASR18A85G536E', 1), ('A13IND7JWS6C8S', 1), ('AB4M17LGM5QOD', 1), ('A1BO50AVRT0VOD', 1), ('AQIARC99Y0BGI', 1), ('A1UOCDH5CPYQ75', 1), ('A37SW04NKO96GX', 1), ('A35L8LA80FC4S5', 1), ('ANN2JF3J439D8', 1), ('AGMONAK82UL7R', 1), ('A12WA4VAQMCDSC', 1), ('A3UR8NLLY1ZHCX', 1), ('A3AISAZ3YS9JOS', 1), ('A1SIKUTTRGS85F', 1), ('A34LMXTTEVG0IB', 1), ('A127JUAZZ5GPU4', 1), ('A2XORG2YP71SNS', 1), ('A1PU19TLDH04H8', 1), ('A1APJ9BVO8KFTU', 1), ('A3SM14MSF6LY6G', 1), ('A3G0PBE4ERO0G7', 1), ('AJO0M5L8FMW7R', 1), ('ADD6MQGCGFGJF', 1), ('A3OTX02AZNAH63', 1), ('A196ASXZBYIE54', 1), ('A11SG9BYL6BMU8', 1), ('A1D2JKAPBHN2L2', 1), ('A1K25BBK9VWS8S', 1), ('API71UBOH6G18', 1), ('A3PQLYCAQWY76Q', 1), ('A3KQ4UP6VN5TP1', 1), ('A1RJS6052BP55N', 1), ('AKIBAK507SJJ7', 1), ('A203FQB58I5JXI', 1), ('A70F07CJ9HGLJ', 1), ('A7ULFX9P754W5', 1), ('A11JWB1OE0DB17', 1), ('AH29SM8LSTT41', 1), ('ACQ3MAD0IWAYP', 1), ('A2VCSK0IMQLSXI', 1), ('AA7100X0RCKZO', 1), ('AWJFLBDV2FZQY', 1), ('A1YJMG0QJXZLD4', 1), ('AC34TPWTVKUJB', 1), ('A22UCU053NNLVI', 1), ('A31DCD0A4IPPV0', 1), ('AQSFW1SO99K3Q', 1), ('A1I5O7UI9QN3B1', 1), ('A2D1LVEV6WWZMC', 1), ('A2ZAG42X2BNTED', 1), ('A20ZM1V1IRQHH', 1), ('A1RFYLCGNB97S3', 1), ('AR62GGZO4DP0W', 1), ('A2LVXOA4WUIL84', 1), ('A1BRJC0KMD8DBH', 1), ('A307YFSORUAXSQ', 1), ('A19KOWOXXEWLRK', 1), ('AVS6WIE6NSLR', 1), ('A1F829N44NFFJH', 1), ('A1BB4GQRNR6CE6', 1), ('A37OTBE7QJD7K8', 1), ('A2D11SCG19NFTT', 1), ('A1WHOKAF6B4YJC', 1), ('A35Y8W1L9I71T4', 1), ('A1ODZXPH0UVLK5', 1), ('AEWWN8N9DY0Q1', 1), ('A3E2PYPV48OK6', 1), ('ATFKEINT2UQN7', 1), ('A3UL6W4MVN7ZZ5', 1), ('AFYRH4IJ53BIN', 1), ('A85DFXM2YKD5Q', 1), ('AYA6H8OCZUQ59', 1), ('A2BB49ASO5MEOD', 1), ('A2SFH8TIP8E1F1', 1), ('A32OKCIVCCEWAD', 1), ('A2L1H992AN7I15', 1), ('A9J7HZRFLDGHO', 1), ('A2BSSY21GVQC3U', 1), ('A3LO4N5NZKJ89I', 1), ('A3ICI8BN0LWUKT', 1), ('A25IPZW91K3743', 1), ('A3E812AMDDPZ5T', 1), ('A2N9DIS45IP8TM', 1), ('A2C2JGTTCHW79U', 1), ('A3JIQ2EYYHTQ72', 1), ('A3TA08QA26DLD7', 1), ('A29D47JC9CGQK7', 1), ('A10MBPTTQA249A', 1), ('A2F27BLLKHZ98U', 1), ('A2P9AU6QFLO854', 1), ('A149XANF9IAOIN', 1), ('A2JVISJC1V6GWB', 1), ('A3PPSOC2489H9N', 1), ('A25225JQ0C8VOS', 1), ('A1DLUDWCX4EJKZ', 1), ('A2YERLB9GH72TL', 1), ('A4ELYLTH8W77S', 1), ('A16EO29B5VAEOL', 1), ('A1GQYYON1W5EP', 1), ('A21WKOJJTE89IB', 1), ('A2LX85V0TVHUQK', 1), ('ATZ40F4GBAHKE', 1), ('A29KXW61RWGRBK', 1), ('A1FEHPW4GT6WS6', 1), ('A1RTF5Y7ZUCLLQ', 1), ('AS6WN8A073NP8', 1), ('A1GB01OO4VYEL8', 1), ('A70T8C7VM2ZUW', 1), ('AUYJS81ETV922', 1), ('A14XZTV8WCM1GI', 1), ('A1ADFLDH6ILHIR', 1), ('ADHCYXWFJQLUZ', 1), ('A1N2AL46C3CS4A', 1), ('A121AE6GWZKMSD', 1)])\n",
            "('A11P8B26DH73II', [('A3QNIIELPYAL9V', 1), ('AUKAA3HZQVU58', 1), ('A26SGJQ62A2ZC4', 1), ('A2RFGRBQ5NZFOP', 1), ('AEJ5M25ECZLP4', 1), ('A2BX272S44FB5', 1), ('A2GNQ8TD7110OL', 1), ('A1MUC4VVHUV325', 1), ('A39JG126NWVWKX', 1), ('A3KUQ3M1O3L9DW', 1), ('A1LIDXMYDZWP53', 1), ('AABNRC962KRS8', 1), ('A3CP3OHKW9H06A', 1), ('AHUSFEGNW2SQA', 1), ('A17LL9M0IWQN9L', 1), ('A2ZSNYAUB44OEB', 1), ('A3DVBWC0CXH8DY', 1), ('A39UBUU4Z6EYRI', 1), ('AJLPS4A9HGOQK', 1), ('A1X5IG3ZQH56PB', 1), ('A37VTF1ZDBXYRR', 1), ('A7OH4VOMAVJA5', 1), ('AMZ80S63DXM11', 1), ('A1LHQN8NDKOGWV', 1), ('AXBCJP1XW2ZOF', 1), ('A3CH8DBQR6QGV', 1), ('AU6G4BT6Q29TB', 1), ('A2W6FIO42VPONX', 1), ('AOQDWIBN3R03', 1), ('A2K9O90NDDKYHF', 1), ('A9CS4UZOF8RO4', 1), ('A27QLU2S5VT6LI', 1), ('A2QV1V06YJSQKQ', 1), ('A1YHS4FSOWPM63', 1), ('AW0SOAPEY2I7', 1), ('A18HFNW9DF13CI', 1), ('A2J57JX13BF5CP', 1), ('A19YX46WTGPT1B', 1), ('A1QELVOWJKCHE2', 1), ('A1TDDIOB48CRB0', 1), ('AWBQTFLTIKYOZ', 1), ('A1V63QX9C0A0OQ', 1), ('A108UKS54FI2L', 1), ('A1UAFLO8ZXN909', 1), ('AFFXH8HWIDJZ2', 1), ('A352LCJTFJ4SGI', 1), ('A2DQYDDZC5NVKU', 1), ('A158SYW3PFP0ZK', 1), ('A1FRCZMAHQ1D24', 1), ('A1Y86UFLESXUQ9', 1), ('AZ0QC2GDDP6OK', 1), ('A13W3KRLXKLZI5', 1), ('A29O1FKXL1UMBD', 1), ('A1026Z3HI9IC0S', 1), ('A1WLXKRRWTFS9Z', 1), ('A1QJOHJZKMSK1D', 1), ('A2O1AG0Y1V0PQL', 1), ('A2T0V99GLGXWCM', 1), ('A535EB54QXFJV', 1), ('A1V1A5UHPD5SNG', 1), ('AGI6XYEVHC70', 1), ('A7WWO1JAN0YCQ', 1), ('A37KCO8GJ05ZX', 1), ('ACF2CT49DLWNG', 1), ('A2IA6EA7ANJ25X', 1), ('AZAY1VDQNMSSF', 1), ('A3UF38YLQMEQ0A', 1), ('A2HCKBBEXELJ3R', 1), ('A1GW922HWTQRNC', 1), ('A22NVHWTYFIUOG', 1), ('A1J21ASO8KZ74O', 1), ('A1WXJ2XUT3S3WS', 1), ('A2FJ9Z91CYQKPW', 1), ('AWOPLS2SF9HGY', 1), ('ANO997BPQI7JO', 1), ('A21JDJSNES1KZ1', 1), ('A8EW4XTA6E7PQ', 1), ('A1MHVTTMXL4VCZ', 1), ('A1HQBPVSPHJWB1', 1), ('A3EDDM6QZV0ZB', 1), ('AN5IYGA7NIJ5P', 1), ('A2HYRIBDXCYVL7', 1), ('AUJBPERE287D', 1), ('A1FAZO0UVTFBHU', 1), ('A389KK46AH771B', 1), ('A1HW0OPLV8FVXA', 1), ('A3AE1W3TAB5QRJ', 1), ('A276BKCK4ZE7EW', 1), ('A55R92MOH3FU5', 1), ('A37S7LFVY0DNIU', 1), ('ACQGD5WAYIFT8', 1), ('A11L6D2KZH3SDK', 1), ('A1RZVJ2V37P63H', 1), ('A36UW7HRZAOADO', 1), ('A2Z2LWDTHN2RKY', 1), ('A24LXERYIRANLN', 1), ('AF69ZA6KU0TH3', 1), ('AEVCJ0L9003EQ', 1), ('AX81N1I5ZFS87', 1), ('A1EF37KYK7PRLV', 1), ('A5QNJVQGPQ18N', 1), ('A35I7I5255CEO1', 1), ('A3PRIMOSIGDCNN', 1), ('A3R6GBRMIWXON8', 1), ('A35BK88JWUFX5Q', 1), ('A3DKP8M0GSP8UK', 1), ('A23JJO13Y5TWYZ', 1), ('A3E4OSGZO29KUL', 1), ('A1QVMBE68LULWR', 1), ('A3UG80C9RUM5VH', 1), ('AXJ1QYBUL86ON', 1), ('A1VHXCUIFJAT6F', 1), ('A2P2ST28QAZMJI', 1), ('A3NKEKNSSMC765', 1), ('A3E5OJFZ1XY0IU', 1), ('A1K8US4TA03Z14', 1), ('A3HZYG38DYV8IF', 1), ('ACNM1HQ5HS2T5', 1), ('A1LOKACLIE4GBF', 1), ('AKSOP2AIIDYOR', 1), ('A3CMEBXKK9SUWA', 1), ('A2DJLLV3KY686B', 1), ('A2EOU64TXNBFEQ', 1), ('A2AS889M5PMZNZ', 1), ('A1IGABVZXMQSK2', 1), ('AX7SHUWUQ25OY', 1), ('A3A4YZA9WWAPH0', 1), ('A3CY0KMJVYPQMU', 1), ('AICS4VWZ0W6QT', 1), ('A2NG55CV7390KY', 1), ('ACAL9H7Q7YZN3', 1), ('A1390WQJ54J8SH', 1), ('A2JLKVQYDTEKZZ', 1), ('A2IGL5EC3SOWVD', 1), ('AXTN7YDAXMPAE', 1), ('A1JSPT2XIPOI57', 1), ('A2GX9LXA6YQCF5', 1), ('A1RJ06VNBIB1BQ', 1), ('AIYMQF677QXQV', 1), ('A1XHN1HH440ZIU', 1), ('A1KD8BPYC5LUQT', 1), ('A2SA6LR78V49UV', 1), ('A1FG8UTWU5CVAK', 1), ('A3BLEFSUUIM3HD', 1), ('A2ZBO0ICNOIF0Z', 1), ('AJK7DQYPL9CKB', 1), ('A1ZG9C6VXGBK6M', 1), ('A2TXFTRI1M1VHL', 1), ('ALV69W3BR3LJQ', 1), ('A332DW1GE1BEB1', 1), ('A1WK7TU9SRQDBR', 1), ('A1DFL66IDY0Z2Z', 1), ('A1IHTVQF2BWYB7', 1), ('ATMY8IKES46YA', 1), ('A22IQ8J47JT0D1', 1), ('AKZLZ9ODK755Q', 1), ('A31GVV2KT5MEEF', 1), ('A2IDUYGY8YIAOG', 1), ('A27CWY7SMZIC7O', 1), ('AXWV5FPV63KZH', 1), ('A3NLPVGD2N85LW', 1), ('A28DTXAR4FUWA0', 1), ('A15FWB8OF2KWML', 1), ('A1PKNCEJC40M43', 1), ('A1HQSHDE4YXAO9', 1), ('A1FC5GJ4QFXKUZ', 1), ('A1KUNNBCC6WHST', 1), ('A36CH3L121K1QI', 1), ('A1SQVECKVVEQ2P', 1), ('A20AXXM2UT862W', 1), ('A1IZPK69Q2Q541', 1), ('A3PQGO6V5M2CR5', 1), ('A2CHWR128F31M5', 1), ('A198B3ESPI3UPL', 1), ('A8YQ8EGT3QBSG', 1), ('A1X5E11UND3CD4', 1), ('ANJDW18HCZ4BR', 1), ('A1D0U7MPGWZRI', 1), ('A3UWMAFJ5CSPV7', 1), ('A28TBJQ8SU7XFH', 1), ('A1Y8TUMUKVXKSB', 1), ('AENXTZZFZFP6', 1), ('A3MX83L81I5OU0', 1), ('A2XURTOP892GF2', 1), ('AJ5FFLQIHGM3V', 1), ('AWM9HC6GFU4PO', 1), ('A3EL3U9M738JIX', 1), ('A1HEWP5QAY9D31', 1), ('ANWM8S35LPNBE', 1), ('A7Y38ZIDKV5Z', 1), ('A30NECNFHHBT3H', 1), ('A39Z8SY8TQJ7U8', 1), ('A1YKAL9XI4X5U2', 1), ('A326CJOIAVMKIR', 1), ('A1MJ4WTOYW9WXZ', 1), ('A3B6G4GLIV5MTK', 1), ('A3W2I2P178GDT5', 1), ('A1CCTUD24SJ1I6', 1), ('A2VANRFXD0M3K7', 1), ('A1MF9AZ6J83BHX', 1), ('A3DTNINKMCO9OH', 1), ('A7RADUJSF7P3N', 1), ('A162V98EOSAZNB', 1), ('A3HHGBT6MFH4G4', 1), ('A2EPJIUOT7L6EX', 1), ('A1KKQ0Z2VHCUJP', 1), ('A1KMZKEBVNBULI', 1), ('A11NH4ASNKHG6A', 1), ('A1HS55TIAPZP4C', 1), ('A2PAQ99OFLS3KN', 1), ('A313E4ZC69N13A', 1), ('A1IWH3V0K3WAQQ', 1), ('AN8Q7CSBVZNFE', 1), ('ATFAYY33CGC3A', 1), ('A1J8G61INVCAM4', 1), ('A1BC7V7RWX9HEY', 1), ('A1LJJ0RBQC2A69', 1), ('AXV4IU83DKBFJ', 1), ('A3J6U4DRKLO2C9', 1), ('A39LXUU8U4PFLD', 1), ('A22H3TRS3BHER6', 1), ('A23VYXQCJ6T5ZH', 1), ('A3V95IASL3W467', 1), ('A1IDRPIHIMFU3Z', 1), ('A117FC349SBSFK', 1), ('A4UMJSMYWQYIP', 1), ('A1B65ZNAPP2Q8', 1), ('A31EF4YRP05VSD', 1), ('A3T1LD0C65QCWK', 1), ('A25KZ609VLFI97', 1), ('A3MY1ZNGYGVLHV', 1), ('A205Y60AGAAZ0M', 1), ('AN7YHM8Y84PK8', 1), ('A3JGPALN1C8Z1O', 1), ('A1LU790IBTC5LE', 1), ('AU7TT24FR2XC7', 1), ('A1I5MXOUFS72AJ', 1), ('A2F527KE5S6GXC', 1), ('ALTOSSVV7PSR', 1), ('A288V3U2VACS1W', 1), ('A3BZBYHXTKDPKW', 1), ('A3D7ZGX6J5OHRV', 1), ('A39RTN2GZM5SEH', 1), ('A3NR8Q9OJB65BW', 1), ('A3D8YWC5M2MDV', 1), ('AYIN5VO7PQ4QK', 1), ('A2NDG6LYZBSCY6', 1), ('A3A2ZQ4HZFEJ3T', 1), ('A397DYAUTOVBVB', 1), ('A6HYV3VEVTUPG', 1), ('AZZU5BA2CHYVF', 1), ('AKONPBVECFS86', 1), ('A3BVN2QBNPBHCR', 1), ('A2C7MFWNW6N1WI', 1), ('A26W868FTJU93X', 1), ('A136J9RQGY50OT', 1), ('A2I169EKFN5A30', 1), ('A1ICOB5XZ9GK3R', 1), ('A2DOLTLPCJ2XQ6', 1), ('A34BZM6S9L7QI4', 1), ('A1H3D6C2VBGOOZ', 1), ('AJQISMZ3ERXD4', 1), ('A3IBKOZ13SIPD4', 1), ('A3OQNWCOITZSSH', 1), ('A2X674TN3P7AVU', 1), ('A36AXVUWR2YQWL', 1), ('A3MLOUYSAIGOFY', 1), ('A1BQB53NTXKQ6K', 1), ('AW26KR46P1V74', 1), ('A368DWP3Z1GV1C', 1), ('A8VN3RXNFSI7Q', 1), ('A11P8B26DH73II', 1), ('A1LFRTM8PKYFL7', 1), ('A3JGX26V9LPOUN', 1), ('A1UQFFSR1Q5LBA', 1), ('A3H6K6ZTJPIBB0', 1), ('A3E6CHEMU5HFTK', 1), ('A1B3EORZIHX92B', 1), ('A2MPB7BORVVJCZ', 1), ('AEWH853R7ISOQ', 1), ('A26F05A3NB4580', 1), ('A1KGLT30RAOX9P', 1), ('ACB6Y64GG4L30', 1), ('A3LWZ1MPSOJU8H', 1), ('A1MJ3KKJ1KC50M', 1), ('A82Z0WEE3530L', 1), ('AKA4AA8Y669BN', 1), ('A3BAJ0HDKFRE0F', 1), ('A3VC6VMZAM2BQH', 1), ('AHP53T3J2JZN7', 1), ('AF8I3WNO7W679', 1), ('AOAWM8LC21R0', 1), ('A313IIE7F3KDVE', 1), ('A2XWFSMXJ1RR0R', 1), ('A1DIYN6WXS430U', 1), ('A3HNU2WZ8IFOLP', 1), ('A2KVCZP7QD62Z1', 1), ('A1J7RSVCF7F7B3', 1), ('A1WYN34P78KAT9', 1), ('A2PHPA3CSC0Y26', 1), ('AN4OIHPDX1KSS', 1), ('A3I184YCTFAL2R', 1), ('A3JS3HA7P5J4D', 1), ('A2YHVMP0WB99ZU', 1), ('A3HXWE4KTOV2S7', 1), ('AYU404OSVUXQ2', 1), ('A1X6WS9PPQC3GI', 1), ('A3SJYYKZFNWDGX', 1), ('A1IBIPP2II4IOR', 1), ('A2Z5MGANGJKLBV', 1), ('A2TQNRTP49YI3Z', 1), ('A3TGJGHCBESXFA', 1), ('A2GHU8I0P3HFRW', 1), ('ALL20IS3DUW02', 1), ('A2270SA7PGX2A7', 1), ('AXQ99FCFAHZM9', 1), ('A3QGIS4ERXQC4T', 1), ('A3P8D1HOYW3HMQ', 1), ('A148ABAGOSRWCG', 1), ('A1D2JKAPBHN2L2', 1), ('API71UBOH6G18', 1), ('A1JTGI1L4JFWG', 1), ('A35Y8W1L9I71T4', 1), ('AIRVFK94M0ZB6', 1), ('A3KXQYG56G7DLT', 1), ('A1MZYOZC9GB3ZZ', 1), ('A1SGUI3RORSZ33', 1), ('A3E2PYPV48OK6', 1), ('A2YERLB9GH72TL', 1), ('A6J8YYSJPPCS5', 1), ('A3QLGDIP1IJRO5', 1), ('A3RXC1WYUGEQ1T', 1), ('ABPONH4HDGZ8H', 1), ('A2MMO0TAJOVWSL', 1), ('A3ICI8BN0LWUKT', 1), ('A29KXW61RWGRBK', 1), ('A85DFXM2YKD5Q', 1), ('A2VLKG56H31VUT', 1), ('A3M4WM50O9DL4V', 1), ('A2D1LVEV6WWZMC', 1), ('A2N9DIS45IP8TM', 1), ('A2SZV2JB8MCOC9', 1), ('A1B1CERK67I9FP', 1), ('A25225JQ0C8VOS', 1), ('A1ADFLDH6ILHIR', 1), ('A2MPNGP63XMNY0', 1), ('A271RKAJYR1OJ0', 1), ('A372XGNN8NBS7J', 1), ('ACVDLMGR3BKBY', 1), ('ACTNV67167JYU', 1), ('A1JS8ZO023Z0FU', 1), ('A149XANF9IAOIN', 1), ('A1K6OCM7PYC5W', 1), ('A31X0HE0YI4TSV', 1), ('A3B09NBDBXTWIT', 1), ('A37AFGJOSAFXR7', 1), ('A3GYYKV5VNXZ33', 1), ('AGO8L0LT7IV9Y', 1), ('A2I4KD3RHPWNS0', 1), ('A3UL6W4MVN7ZZ5', 1), ('A121AE6GWZKMSD', 1), ('A29D47JC9CGQK7', 1), ('A2R1M60AVUQRYZ', 1), ('A2IQ5KV200F2ON', 1), ('AQIARC99Y0BGI', 1), ('A1H2ZF9Z1ZODRV', 1), ('A12AF9K5AWVHVS', 1), ('ABWC9EFST0K1H', 1), ('A906QDIXE9RLE', 1), ('A226Z27AJ6BQRF', 1), ('AO7JSE31LOCIM', 1), ('A3JHZ1O0CWREE2', 1), ('A1OF61ZUIODK4', 1), ('AGMONAK82UL7R', 1), ('A2CCYTJQNBHFA0', 1), ('A1T3XQ0TPDQIRC', 1), ('A19JPCE9FWYOL6', 1), ('A1XH4S45LJCCKX', 1), ('AFUM9UDF7IN6I', 1), ('A3RR2UWBJ8YVSQ', 1), ('A1DLUDWCX4EJKZ', 1), ('A2V2S4RAVP2Q10', 1), ('A26C4ERZO1QL1N', 1), ('A1JS7EHYESA4X1', 1), ('A18KJSW0EZMPYK', 1), ('ACOS5P1P5MW5D', 1), ('A3OTX02AZNAH63', 1), ('A36EK9QNCTIDYQ', 1), ('A21XISGVL7C6RM', 1), ('A3PQLYCAQWY76Q', 1), ('A3BFN91Z2MAUBK', 1), ('A3ATVX4GHV8L88', 1), ('ALONLO6UF0MLL', 1), ('A23UX18ZG6JKBR', 1), ('A3CJZ7BTAYA01B', 1), ('A34Q0PGYXH18U8', 1), ('A2QD2LG9F6A2GL', 1), ('A2V5R832QCSOMX', 1), ('A1F6FX6Z3HVVIU', 1), ('A3OAKUER6Z8YNV', 1), ('ADHCYXWFJQLUZ', 1), ('A88AUME6TSUK7', 1), ('A1AW7OTQ9QX3IG', 1), ('A3LBK3TI89AT4C', 1), ('AJL7IRFHBPVTB', 1), ('A2ZETEVDOTOD0O', 1), ('A260Q73UDXIX0G', 1), ('AB4XGHZNQN413', 1), ('A1CQKVQCED214X', 1), ('A20SZC6WUCLJ2J', 1), ('A1I5O7UI9QN3B1', 1), ('A3MA4GPSTTQTNX', 1), ('A39MWPBV4CX5', 1), ('A3KVSSDRE22GLW', 1), ('AAKVW69M2ZEV2', 1), ('A1CWWMP5SAKC1I', 1), ('ALYQKDP5UBDPF', 1), ('A8BB15AUYW50M', 1), ('A12PNG6YB4556B', 1), ('A30X18EYEJQWLG', 1), ('A2XQ80ADBQTV3H', 1), ('A3OGKWEZLZLL60', 1), ('A37OTBE7QJD7K8', 1), ('A3CTX4B1E3IK6G', 1), ('A20L2UXDIDFV6S', 1), ('A2MPW1R13SHA2S', 1), ('ADQVVP06WP6YY', 1), ('A1ZU0LAEOYS9JW', 1), ('A2UTYW614C5ZO4', 1), ('AY1YNN6PAYNW9', 1), ('A1YJMG0QJXZLD4', 1), ('A1G04KM9G75LLR', 1), ('AXYZGSH1C0X73', 1), ('AC1AN5L1MLERM', 1), ('A2OUY5BDC9LRJO', 1), ('A2B0ZJ5CYX49TN', 1), ('A1NM878H77YXW8', 1), ('A3E2FMQ629WEHY', 1), ('A1B7VXI3V136FN', 1), ('A2FO8KY6GGUZ3P', 1), ('A2R8ZH9TUP0M9E', 1), ('A1KMXZ99Q9IZ58', 1), ('AG7Q23Q5YHPE7', 1), ('A3AXFT3RQM57DU', 1), ('A3I7WN805F3WZD', 1), ('AUN6OJ31CQ0JV', 1), ('A10MBPTTQA249A', 1), ('AN7W9CYLLHS2X', 1), ('A20KHETIOZEJCL', 1), ('A3VHLWJTK3IL3T', 1), ('A9W5PL4LI489E', 1), ('A3A2E234KAO8SP', 1), ('A2LX85V0TVHUQK', 1), ('A1N9FBBZWZ2ADQ', 1), ('A1RA03VAUSR5IE', 1), ('A1VOCTKT457U0R', 1), ('AITQHNXJJ8JJA', 1), ('AJYPAZ3JBHBKD', 1), ('ACQ3MAD0IWAYP', 1), ('A1JBDDEVJ9YMXS', 1), ('A1CWH5E3J53EPK', 1), ('A32R0GW071VGE9', 1), ('A2KDCXEQWVJ8QX', 1), ('A13IND7JWS6C8S', 1), ('A1K25BBK9VWS8S', 1), ('A2EIDL9KC24KBE', 1), ('A3I1VYCRNPD11T', 1), ('A2X4IJDZN00EDC', 1), ('A31DCD0A4IPPV0', 1), ('A39JYSX5E850DF', 1), ('A3HSCQNZJ05ZTB', 1), ('A3J978AOE0WB7G', 1), ('A1EQA0TA4VZEZJ', 1), ('A4ELYLTH8W77S', 1), ('A3HGHBS4E57S83', 1), ('A1GQYYON1W5EP', 1), ('A1T8301M6RANKD', 1), ('A12WA4VAQMCDSC', 1), ('A2JEA4NCNE0WIJ', 1), ('AEU12ELFLT438', 1), ('AF21102LE21UU', 1), ('AVS6WIE6NSLR', 1), ('AQXCBBWLZ5MS7', 1), ('A1F829N44NFFJH', 1), ('A1TAOXXUGKYQZ6', 1), ('A8PXGH2UM15TE', 1), ('A34LMXTTEVG0IB', 1), ('A26FRO1C3VAV6Y', 1), ('A2LMW4XAG8U57Y', 1), ('A1OXHDSPSM0UBH', 1), ('A16EO29B5VAEOL', 1), ('A2VCSK0IMQLSXI', 1), ('A3ECU6LGEGZRF', 1), ('A3GLXFCXLM3GDT', 1), ('AZF1EYRMJ1T31', 1), ('A14XZTV8WCM1GI', 1), ('A2E5WDE65T1XEX', 1), ('A3GIAQV3EZ0HUS', 1), ('A1TDLSUDVVJAWQ', 1), ('A7Z1413X32PUW', 1), ('A1MIRU9X2JVGOK', 1), ('AB4M17LGM5QOD', 1), ('A37UJW4FKFUQBM', 1), ('A3YHN4DKZS7WN', 1), ('AMC4IYZQ515H4', 1), ('A3KQ4UP6VN5TP1', 1), ('AFYOLE1G27QP6', 1), ('A1BO50AVRT0VOD', 1), ('A1WYY5Q4TMAA2A', 1), ('A2G69JC6JIHVPW', 1), ('A1ISST7Q5M6JL8', 1), ('A3E812AMDDPZ5T', 1), ('A37SW04NKO96GX', 1), ('A1UOCDH5CPYQ75', 1), ('A2VUVYG98U6Y2D', 1), ('A3UR8NLLY1ZHCX', 1), ('A3AISAZ3YS9JOS', 1), ('A3G35MSNILQHS9', 1), ('A2JVISJC1V6GWB', 1), ('A2O8PBLW89P6KT', 1), ('A3SM14MSF6LY6G', 1), ('A1ODZXPH0UVLK5', 1), ('A3G0PBE4ERO0G7', 1), ('A3LS7BZ2Z53G2L', 1), ('A1APJ9BVO8KFTU', 1), ('A1BRJC0KMD8DBH', 1), ('A31HAYUV8F5ZJ', 1), ('A30D6CETB1N0H1', 1), ('ADD6MQGCGFGJF', 1), ('A2WXRMYJGNI7E8', 1), ('ATZ40F4GBAHKE', 1), ('A196ASXZBYIE54', 1), ('A3AM6QZ7FJ0MLE', 1), ('ATFKEINT2UQN7', 1), ('A1RJS6052BP55N', 1), ('AHZJHO6EQ8ZN9', 1), ('A11SG9BYL6BMU8', 1), ('A3IX5ZKGGYUGLF', 1), ('A1N2AL46C3CS4A', 1), ('AA7100X0RCKZO', 1), ('A19AZMPE5ICZ9', 1), ('AJO0M5L8FMW7R', 1), ('A7QZ3NG2GL2CL', 1), ('A22UCU053NNLVI', 1), ('AQSFW1SO99K3Q', 1), ('A32OKCIVCCEWAD', 1), ('A2L1H992AN7I15', 1), ('A2VCVT6YSISO6W', 1), ('A2ZAG42X2BNTED', 1), ('A20ZM1V1IRQHH', 1), ('A27Y25YE80PB1V', 1), ('AXU3801FYK0W4', 1), ('A2GE8OD4KK7J60', 1), ('A1SXF1G7RIIVRR', 1), ('AEWWN8N9DY0Q1', 1), ('A36G9G996F3Q6W', 1), ('A3F1G6UH4Y39X2', 1), ('A2A8L2XSHKBAI0', 1), ('A1RFYLCGNB97S3', 1), ('A127JUAZZ5GPU4', 1), ('A3DN6EHLMEO5HV', 1), ('A1PU19TLDH04H8', 1), ('A17M37FVCIF3QR', 1), ('A1BB4GQRNR6CE6', 1), ('A2C2JGTTCHW79U', 1), ('A7ULFX9P754W5', 1), ('A16PE2Z6XE3P87', 1), ('A203FQB58I5JXI', 1), ('A70F07CJ9HGLJ', 1), ('A3JIQ2EYYHTQ72', 1), ('A1F14BB4PV053A', 1), ('AWJFLBDV2FZQY', 1), ('AC34TPWTVKUJB', 1), ('A2D11SCG19NFTT', 1), ('A1WHOKAF6B4YJC', 1), ('A2LLLUYSWV2E59', 1), ('A2SFH8TIP8E1F1', 1), ('AN20622QMIJVV', 1), ('A1PTV7EZVRNOCS', 1), ('A2U5SDCRUIIRQP', 1), ('A3Q6EH14ZOT9K5', 1), ('AKIBAK507SJJ7', 1), ('ANN2JF3J439D8', 1), ('AYA6H8OCZUQ59', 1), ('A1SIKUTTRGS85F', 1), ('A9J7HZRFLDGHO', 1), ('AR62GGZO4DP0W', 1), ('A2BSSY21GVQC3U', 1), ('A3G40WRAQ81WPG', 1), ('A35L8LA80FC4S5', 1), ('A32CT20R5J5D4J', 1), ('A3LO4N5NZKJ89I', 1), ('ASR18A85G536E', 1), ('A11JWB1OE0DB17', 1), ('A307YFSORUAXSQ', 1), ('A1YD18SPM5SS9V', 1), ('A25IPZW91K3743', 1), ('A2XORG2YP71SNS', 1), ('A70T8C7VM2ZUW', 1), ('A3PPSOC2489H9N', 1), ('AFYRH4IJ53BIN', 1), ('A2F27BLLKHZ98U', 1), ('A2CHHP8VPWBYXL', 1), ('A2BB49ASO5MEOD', 1), ('A1RTF5Y7ZUCLLQ', 1), ('A21WKOJJTE89IB', 1), ('A1GB01OO4VYEL8', 1), ('AS6WN8A073NP8', 1), ('A1FEHPW4GT6WS6', 1), ('AH29SM8LSTT41', 1), ('A3TA08QA26DLD7', 1), ('A2P9AU6QFLO854', 1), ('AUYJS81ETV922', 1), ('A23PR1RD6I1FLA', 1), ('A2LVXOA4WUIL84', 1), ('AO8VZ9RT2LB5A', 1), ('A1YCRX6QBEGD21', 1), ('A1Z0VDSYKCQTRH', 1), ('A1V6QOMVTUH0AN', 1), ('A19KOWOXXEWLRK', 1), ('A1PBDKO1I6CINA', 1), ('A18Z7ICRLVHBBP', 1), ('A1VJQPCV7PFTNE', 1)])\n",
            "('AZCH2U6NJMUSG', [('A3LBRAC0G4278N', 1), ('A1BU46DJWGKWYM', 1), ('A2WMZI7K19UPD7', 1), ('A1ZB1KRTAQ0X27', 1), ('A1MZINSEDZ4P6J', 1), ('A218J1WI08045B', 1), ('A3RO8EWFXJSMLB', 1), ('A7L1YZTTQA5S3', 1), ('A23F4L0XITTM3N', 1), ('A12LKKVMSHBG35', 1), ('A2M5X5DV6H2IWH', 1), ('A945RBQWGZXCK', 1), ('AZCH2U6NJMUSG', 1), ('A1ZTZ2J4RTNZOH', 1), ('A31NOBXQAFMJ3I', 1), ('ACWT094KA1SFE', 1), ('A1XN2PA6DUKKVF', 1), ('ADU76RMV8KGS0', 1), ('A3E3J8LBG52JM7', 1)])\n",
            "('A3E02KBFI21TY0', [('A385E4RHJS3T57', 16), ('AGZKJ1RCAT9Z9', 16), ('A2WF6V6R7MQJXX', 16), ('A22G7XRA7SOO2X', 16), ('A1T1YSCDW0PD25', 16), ('A36PG3D7ILZEU2', 16), ('A14R9XMZVJ6INB', 16), ('A3E02KBFI21TY0', 11), ('AH4UT7OO7DNZI', 8), ('A1OHN8XKLYJ229', 8), ('AB7VTURZ1HVNI', 8), ('A25KP6F9R5Q0IE', 8), ('A2XYFGIIAZPZZW', 8), ('A3PVY9UBW682S7', 8), ('A2J8I2G6H5S7IS', 8), ('A125Y24R91RCKU', 8), ('AUCN1M7NPIHX1', 8), ('A34XBAIFT02B60', 8), ('AEY5NHLOAWM21', 8), ('AN11XFDR3CZ6F', 8), ('A2N1UDVECWM3MF', 8), ('A26SZPCDAC82BF', 8), ('A2YHBS6DM2EQT4', 8), ('A3GWHM2Q8IPR3X', 8), ('A3FY3H6F4249E0', 8), ('A2ZXGVEF0BM8SQ', 8), ('AA9DOZJQJ7393', 8), ('A321W4SSC0F6AP', 8), ('A2TIVT5UAJU2RJ', 8), ('A2RJOLFHD613BV', 8), ('A4KPGSL8GG2XP', 8), ('A295MA0E6V32KL', 8), ('AQOM6EBCE9TX7', 8), ('A2TKFP9YMPASAS', 8), ('A2FE2YG8W9G8UW', 8), ('A2ZBF437I8LJIQ', 8), ('A1QCH87Q6SKAO4', 8), ('A2F4H6R8ZH7QEL', 8), ('A33R8P2CL68AWA', 8), ('AUK4VJZI56131', 8), ('A2DPQJUKVB36N5', 8), ('A36ZW3GXA66GFM', 8), ('A3TI21HSG5120E', 8), ('ANEYAM9NN6BS5', 8), ('ADSHWWYEYIAN8', 8), ('AP3UNMQ4PQ87Y', 8), ('A2ZTFDUDNBQ2Z7', 8), ('AOJP3AK82GT6O', 8), ('A3BHAM17DVGWOF', 8), ('A2B3OLG7XWCR4S', 8), ('A2ICZYFD825S13', 8), ('AAJSIP9A8OY5Y', 8), ('A2962SUPTU1US6', 8), ('A1IO0EZBH5XXM9', 8), ('A2E4ROH3UVXCEJ', 8), ('A16KONELRQH1FZ', 8), ('ANR7N0TPK3RB9', 8), ('A24M26GJBTLFDY', 8), ('A2IAYGGXNMS4J0', 8), ('A2ZYQQF0FRKE3O', 8), ('A1RXX18AE56BOW', 8), ('A1Z0FL4N24LUUM', 8), ('A18EKQMJ0TK6K5', 8), ('A27PFOZAKVK484', 8), ('A5CISGCLH8L7B', 8), ('A2EVG2PM6CUV18', 8), ('A1Z8ENYSB5AU74', 8), ('A1RLFPPR0KR4MZ', 8), ('ADDUE9RSZ3HAZ', 8), ('AUMGVFDBLIC86', 8), ('A2POSXDNML7CPR', 8), ('A1OPTRYPHBD0UQ', 8), ('A3B79HSRGJK550', 8), ('APD7KZ6HTG0OY', 8), ('A1P51R2I1JDI5J', 8), ('A25SDTIJI2EFPG', 8), ('A2OJY60H267OYK', 8), ('A22A4ZYT83Z2SS', 8), ('ABHMZC1JQR17D', 8), ('A1SYEY0VXLA17Z', 8), ('A2GJC0LDERXTE6', 8), ('A32HS17F43SEGP', 8), ('AU3U4MMSW382N', 8), ('A14BY8J0TQIBV1', 8), ('A1LZWXS353ANI9', 8), ('A39JEFQ7TVFGLO', 8), ('A1A41QWJP5M2G6', 8), ('ACVMA9Y3ULJ1T', 8), ('A2XGCJ7A788OQE', 8), ('A2YY4QKNKRTRN4', 8), ('A3HA3GY1WURBDG', 8), ('A3KSFXRHGPWHQT', 8), ('A2CELHIBGYUDW5', 8), ('A1SMD64UCU1OY2', 8), ('A26ILR5AA8TYCV', 8), ('A3RHM3H0TPUP5J', 8), ('A1GL6VTUJCBYT9', 8), ('ACQB8FMHUZSY3', 8), ('A3AOK7HBYITQMZ', 8), ('AHET64QOALCRJ', 8), ('A2V4LCCTNXQUPS', 8), ('A1CDHEZSJU8RM7', 8), ('A1RZ96GGRELTK2', 8), ('A2L1Z55GVXM1AF', 8), ('A1KHGTWQRTYP17', 8), ('A2W3L3BKR0XJ8F', 8), ('AC9NHBI16OSZ3', 8), ('A1S3DVQDJRRFEG', 8), ('A92QJBXQZ4JAG', 8), ('A3KBG41S1S2SU4', 8), ('ATF77OLT5BRCU', 8), ('A2N09DNTWZ1OZI', 8), ('A3KVQAGW73DWL9', 8), ('A1V4OAPTMOKIX2', 8), ('A1V99QLGRRKELC', 8), ('A3MSWTOKZ6MJMU', 8), ('A20M6PDSIP3TVM', 8), ('A2RVYFVG3VDOQS', 8), ('A3SCNYZ43HDUHV', 8), ('A3SIXO7D5FFA5F', 8), ('A2YDI4BDE90WMX', 8), ('A34P5X5GO870GJ', 8), ('A2YLQH1T18ZCCT', 8), ('A1CMB8ICIZEBW0', 8), ('A3B95ZTWQKJMC9', 8), ('ACSGOJCV2169G', 8), ('A3LYTPKCXCK331', 8), ('A2LO2O0JJ1CAVY', 8), ('A1IPMLTS9KZFZQ', 8), ('A1HA8EAOD4VAHL', 8), ('A8WIWT45M3IGP', 8), ('A3CXCRXLFYJMTF', 8), ('A36DVRTEHDJKNP', 8), ('A1VWO36TYCUJM1', 8), ('A2BVRY6JO35VKL', 8), ('A1EN5P2WZKWER8', 8), ('A1VT715ZCPW3RA', 8), ('AMN8GH3H2QFHU', 8), ('A1ZP9Z1H6TF7HK', 8), ('AVY8BIM0KLKYY', 8), ('A287D5XE55CSY4', 8), ('A3TARXGEBMVVZ6', 8), ('AIKP8E0QTP0K9', 8), ('A3NJTPZ9A8OMKK', 8), ('AK96DDLWOUHYK', 8), ('A3V9OU9EJJH2W6', 8), ('A1ED419H25YY7', 8), ('AD84WXJJDB3LS', 8), ('A2GH10AY6G8R74', 8), ('APVZCLLIB9DO2', 8), ('A1F50LV18YHTLL', 8), ('AFVA6I9FPT4O8', 8), ('A3H979UEY1DRPR', 8), ('APJPHCOS7CT9H', 8), ('A2XRQMAJYZVA32', 8), ('AOZ0T651MS94R', 8), ('A2MZJ3UWHDVUMT', 8), ('A2LX5CLQJ3FR8C', 8), ('A1648PNP0S8G07', 8), ('A200Y75B1LH1EG', 8), ('A2HW8VV8EHYKN4', 8), ('A2QDBOHV00NOR2', 8), ('AID8DJFJ3Q1OD', 8), ('AY12DBB0U420B', 8), ('A2NOJMODF77E0J', 8), ('A1ENHRW45AF7E1', 8), ('A10JWU28FPMMVR', 8), ('A2429SSTK8K5US', 8), ('A2URDCT9F4H27E', 8), ('A8KIOVD9NPW0O', 8), ('A9TRAUM6WDDM7', 8), ('A3RD8IE05Z629B', 8), ('A30UOBBJSKRCEY', 8), ('A17IQZRHIGPTXF', 8), ('A1Q4WNAKOCPYOQ', 8), ('A1ASEUV2OH7JQP', 8), ('AEPQN6ML6SF6X', 8), ('A3EEETF9J18SZ1', 8), ('APQJJGEJOY6OF', 8), ('A2IQM22V0QM4I6', 8), ('A1MUK2STBI4Q4H', 8), ('A1P0YO97IU9RCV', 8), ('A3MI80AD3RZOT0', 8), ('A19HUFA10XNI4W', 8), ('A1N2JVMHH6QQ2', 8), ('AAMNKQCRLACQN', 8), ('A3Q38XXV2VPHUM', 8), ('A2HSCRS3W321LF', 8), ('A1GUZD4WXNAQIQ', 8), ('A1O0UMRGNJFCBX', 8), ('A339HZDJ6XANLJ', 8), ('A1XURWWD7GVA0T', 8), ('A1LFSTBR7L7PUT', 8), ('A3C7475SLZCQK8', 8), ('A200NJR1P9CFCX', 8), ('A5FOEJJRDW6DM', 8), ('A17BMQC6B3SX8S', 8), ('AY7PS9N341GHE', 8), ('A22I1ABD18NL77', 8), ('A15AIHT2A1FF19', 8), ('A2B5INK0TSCGU9', 8), ('A27QWGTQ29AHEP', 8), ('AF0064G3N6INL', 8), ('A148J0MCWI95F6', 8), ('A2Z4TQN4C4WSSB', 8), ('A3A2H05RXDIGBF', 8), ('A6R24AH3X260K', 8), ('A2PJYTDF5FRMAK', 8), ('A2MHM4V8YUAZ5A', 8), ('AISHY95HIIAMJ', 8), ('AO34Q3JGZU0JQ', 8), ('A2LBJRSZ8606GP', 8), ('A3UK4KFUONU87', 8), ('A25QT72GTDCR74', 8), ('A36GPUBRC4QULP', 8), ('A8XJGDPFRVWU1', 8), ('A2AWH1BQSIU5CG', 8), ('A1EDY9U7KAOLCE', 8), ('A1OM29DJ4BEI8R', 8), ('AMKKPOBFBS8EW', 8), ('A2XUV1J20ERFTE', 8), ('A1FCLNDLEMZYKV', 8), ('A2HNVHNTAE60KT', 8), ('A38IBHX6YL7WRX', 8), ('A2K8ZRZKLZ8AKD', 8), ('AQLL2R1PPR46X', 8), ('AORNEU9LISUOY', 8), ('AJPW9QWBENCG8', 8), ('A2CE55F2P5AJRY', 8), ('A2JFUXMTD3VTD9', 8), ('AGJRZA4GW3E1H', 8), ('AXFMSVSZ6FVXO', 8), ('APP2UBCZY7SRC', 8), ('A3LZ8FCM3BG2ON', 8), ('ARC8RK4QN2KEY', 8), ('AQCK0L64XNZLE', 8), ('A35XLNGFZZX54W', 8), ('A1JL3ORMUR8792', 8), ('A125VNWJ2Y4VTM', 8), ('AD2JY2S3GNBRG', 8), ('A1U9SYJN9KH8FB', 8), ('A2CFY6F1RQDQN5', 8), ('A1VZZCYT3JSOC7', 8), ('A11JLIHNU3LLU8', 8), ('A3SQV1Q3LQH59Z', 8), ('A1MT1QMMZUK9AJ', 8), ('A39RMTD780WVJF', 8), ('A2UWJDLBDI1B7J', 8), ('A1MKS9SPR0RP0S', 8), ('A1RKGR4GBD56E7', 8), ('A3NFXPFK2E58B6', 8), ('AA3ADS2NJS6D4', 8), ('A2XNF2FRM72I0M', 8), ('A5UO5P9MUSQ3P', 8), ('ALHLA8UE7JFQT', 8), ('AFE0J1H0H5BLF', 8), ('A2VS1JHSB9LUOS', 8), ('A2E3815GEPNESF', 8), ('A3UDTOOISWQT6V', 8), ('A20V3QYXWZ6BEC', 8), ('A3DCGLN9CO4BEW', 8), ('AMBP2EK9W5N33', 8), ('A2MFQUJ4I0XVM', 8), ('A3KPIR0F6QHQWR', 8), ('A3FE548L7ZYSFX', 8), ('A332IM0QC4GEQ4', 8), ('A3G67803TWOB6D', 8), ('A250GXRD2BGQV2', 8), ('AQZLKRR28MRNQ', 8), ('A3RUMVZZ7W2E2S', 8), ('A2TT6MP6XH1KSX', 8), ('A3RTD3FH5ZDVR8', 8), ('AMLKOZD3389XG', 8), ('A2BSXVEL89ZWR8', 8), ('AQ7VFV2BR7ZZH', 8), ('A16R6V5T0YM4LW', 8), ('AD1ZOPB0BBEHB', 8), ('A4P4KCDPOLXP4', 8), ('A1L198N7RS5IV', 8), ('A1ONT5BHMPV111', 8), ('A3B8YAHB9MJU1H', 8), ('A1TY6PNUPWE236', 8), ('A18F2X2V11C9ET', 8), ('A19LF8H78H24KJ', 8), ('A27IHE8E5MGKG3', 8), ('A21R64CVS5XK3U', 8), ('A3SENBAJ3PMF61', 8), ('A3P6PZIDG8W2XU', 8), ('A1XV4W7JWX341C', 8), ('A298QC2BG1YR2O', 8), ('A33ZRS5FSDEJDI', 8), ('A1ZNU29B56MYHY', 8), ('AW8PYRZ2FP9ET', 8), ('A3FM0G6Z0JO7NT', 8), ('A4UNLGM6VM5Z1', 8), ('A36IAK1CYGXVSF', 8), ('A2RQJ116S6L7DO', 8), ('A2UJF2RRY9RO5F', 8), ('A34NM4QLI46S8F', 8), ('A2ECZB3IFXNUZM', 8), ('A2NKLCRS73EE68', 8), ('ABMS6IKF9NORP', 8), ('A2Z98SZS3DK091', 8), ('AEP0XAC6F8N2Y', 8), ('AFMAWUTGO9CE1', 8), ('A25709ZQ344YMT', 8), ('A1HWU6AM3NH0UE', 8), ('A3PFI1B6M35CIN', 8), ('AQWGB8FKA4PTY', 8), ('AA4OAOCF9RZPB', 8), ('A8T4BQZESWHIX', 8), ('A2IKI8IQTA9YPJ', 8), ('A32FL8K77UAEN8', 8), ('A1X758SWLBIVAM', 8), ('ARLH1C5N1XGT6', 8), ('AFUZRJRXSQV4L', 8), ('A33IKMXLPRPB5A', 8), ('A3CPCQK3TB954C', 8), ('AOPP88O22LSB6', 8), ('AJ7Y095HYJN1P', 8), ('A1J87P15HH42Z0', 8), ('AMKEJ1FF975P5', 8), ('A3QEJW1XWMHR98', 8), ('A269T9K2WVAJ9L', 8), ('A37TDQG7V2XZMA', 8), ('ANUEIQBZQFNVE', 8), ('A3KVVO2DS0OMKN', 8), ('A39179SV97PX4J', 8), ('A2Q1ELWEHTTTF5', 8), ('ATMSYFZBXCLET', 8), ('AYYFETCOCP3F7', 8), ('A1QNIT14496C1H', 8), ('A3IYYHOGUHJWZG', 8), ('A38O2ZHRYANECH', 8), ('A98WI1QPC5BAY', 8), ('AJQCJGGFSHZN7', 8), ('A3RDMG6QT8TFFR', 8), ('AGTO21BHY08LF', 8), ('A2NP1ZBODTD8MN', 8), ('A178DX34IA85M1', 8), ('A17V2N0N8CXSA9', 8), ('A1Z8J6E7XYSO8', 8), ('A1MI3W9A0JXA44', 8), ('A1B00A69GEIIHM', 8), ('AB150QFK5JM7H', 8), ('A1SLSU5VAOYTH0', 8), ('A1YEWXBFW0N655', 8), ('AN47NZBIFKJM3', 8), ('A2PCECBJUND1AL', 8), ('A36O7RRPGI5C1W', 8), ('ANELKV9K24TZ0', 8), ('A1P3RPCUSA8C0H', 8), ('A18RJKCYAW9RJP', 8), ('A3QWW8QHA7H1Q7', 8), ('AUS545VE0P2J1', 8), ('A254HJEKU1NF2Y', 8), ('ATSIX0LEYCH9P', 8), ('A2HOOFYY5X4AQ8', 8), ('AB3XJK543W027', 8), ('AHCGFCP5YW99O', 8), ('A1UPQ5YW89ORYG', 8), ('A1GR1NGRW9218P', 8), ('A1X5MDUC3A2PV6', 8), ('A1EZAZTJJO6XYW', 8), ('A17MZDKDNTLBR1', 8), ('ACOK7PLOXJ99A', 8), ('AZLOX8M01E1XD', 8), ('AKCN7CGKFDTVC', 8), ('A3GSZWOVHBAZ4O', 8), ('A1LHBN5MFVL4F', 8), ('A26Z48H1RUMAXH', 8), ('A1KOCC28DINKMA', 8), ('A2Y89QKRS0YVYT', 8), ('A1J78XCG7LGJ9J', 8), ('AI066ESWAN83K', 8), ('A1PIB0SZTAELJV', 8), ('A3MX2YDPTZWMM8', 8), ('A2JI04DVN1R7QZ', 8), ('A1L1S42BOGPF96', 1), ('A2MMDKNIM4ONRT', 1), ('ART1T1C1PQ8Q4', 1), ('A156P4FPL8OGXB', 1), ('AGEKVD8JPZQMT', 1), ('AVZ1SYMD26S4R', 1), ('ATQ22E6YAUNXP', 1), ('A2ZHH7AK83JB5G', 1), ('A1AEPMPA12GUJ7', 1), ('A2NFJY03KTZK5T', 1), ('A2R80172BBNSTA', 1), ('AO5DDG05DHVIC', 1), ('AA8F2HV4DPV2T', 1), ('A2HTPS0JV3Q8ZD', 1), ('AYPEPA3VS4KDM', 1), ('A7YMD8MSOBO1I', 1), ('AB0TLNLNOAGY4', 1), ('A3QVAKVRAH657N', 1), ('A1SB9BNNGKNX2Z', 1), ('A2PIJ5DYDK8TXV', 1), ('ACUBDGRCAFQCA', 1), ('A2ZGXQ566SR4FM', 1), ('A71W7G4TCTH3T', 1), ('A1VBDMNT6I8RE5', 1), ('A2MA4ATED1B1GB', 1), ('A1MZEMD0EDETS6', 1), ('A1EZLLHWJULK2K', 1), ('A2D11ZNRSDE5FZ', 1), ('A29WTVAJAR03Q4', 1), ('A1L7R2764ED46Y', 1), ('A6LUXI8I8BU6P', 1), ('A1MAI0TUIM3R2X', 1), ('AFVDHQ4W359NH', 1), ('A2XNOB1T796Y6B', 1), ('A3SMD3T0QTN109', 1), ('A2N1VWEKDD1AMM', 1), ('A3EONLVO7MQ0GC', 1), ('A3D0HMC6RQT0N0', 1), ('A1LNUBK8OQCGAE', 1), ('AEL6CQNQXONBX', 1), ('A33Y8C4818EJL0', 1), ('A1NNT24UATVJ6G', 1), ('A1SP366J07MNU', 1), ('A36MP37DITBU6F', 1), ('A13HRSMJ5TOWEZ', 1), ('A3GK1O5S6188AJ', 1), ('ACJ9N7ED37HXS', 1), ('A3NKSVKXMM5I4T', 1), ('A376OJHLE6SU9Q', 1), ('A7RFDGVXDYQLJ', 1), ('A38NHXL5257E3B', 1), ('A2V4P6IRCK1P70', 1), ('A2QH6LESI5RTO5', 1), ('A3CBCVHIK3G76X', 1), ('A1XWZBF4Z0T8YZ', 1), ('A3TAF7M58DN46F', 1), ('A1P2XYD265YE21', 1), ('A1ODOGXEYECQQ8', 1), ('A3S15YGZ6W6EV2', 1), ('A110RS7QL8Q1UX', 1), ('AKMEY1BSHSDG7', 1), ('A3T0EJIUQDEWNI', 1), ('ADLVFFE4VBT8', 1), ('A2OW356OMJNAVH', 1), ('A1QBOC76MIOJYP', 1), ('A1UB5FRFV967DZ', 1), ('A3DX5F0CW34Y9', 1), ('A28CCN6VYHRUKS', 1), ('A1LAGS8H4A2DR7', 1), ('A1GYEGLX3P2Y7P', 1), ('A4KJTS5P78ICU', 1), ('A1IHK8GL1ESOND', 1), ('AR3ECVXFV9VRJ', 1), ('A3I9MCGO36KZ7V', 1), ('A3F05AJR76OIDZ', 1), ('A1ITRGMT80D5TK', 1), ('A2XA8CW5DF4MNZ', 1), ('A244CRJ2QSVLZ4', 1), ('A141W8WHW9AC3H', 1), ('A19N0EJFFL1BEH', 1), ('A216GIE1AZ08NL', 1), ('A3KZ7OH4VRL048', 1), ('AHRNDSKWH1YBT', 1), ('A3I9XZGYARBLS4', 1), ('AJX23GRISOTOD', 1), ('A2XIOXRRYX0KZY', 1), ('A13A9MGJ7144OU', 1), ('A3LGT6UZL99IW1', 1), ('A1B6O7SAIYG2N0', 1), ('A2X06FP2PQ6EK0', 1), ('A2AC61EGOL71SN', 1), ('A2NW5UDW32JSV2', 1), ('A3TP31S61PPE3G', 1), ('A2SZLNSI5KOQJT', 1), ('A2VIUUWR7B11KS', 1), ('A4VMQ6ZTSXSSL', 1), ('A3GMRYV7VAYK5Q', 1), ('A3GQSZ2RVVXDCZ', 1), ('A22PUBSSNP54L', 1), ('A3QNQQKJTL76H0', 1), ('A13WEKTB63G78Y', 1), ('A12IOCD2A7OC7K', 1), ('A3Q1J68QY1MZQ9', 1), ('A13XQPWNCS2CHP', 1), ('AC6LV5D2RKTIR', 1), ('A3FHSLWEMH7JD8', 1), ('A3QCY8ODJBGFLH', 1), ('A1PI8VBCXXSGC7', 1), ('AH9MUK2Z52V6N', 1), ('ALSAOZ1V546VT', 1), ('A2UEB48LAWFUCW', 1), ('A13FEDZA2FZLCC', 1), ('A3REK3OFONWB1Q', 1), ('A39Q9G7J70A056', 1), ('AK8LOFYRZJJW0', 1), ('A2PSC7LUNIDEAH', 1), ('A1HWM8F07V6I8O', 1), ('AONXNUE8RMO0M', 1), ('A1OFO6WEYWS7SB', 1), ('A3EEHMLILVOEMJ', 1), ('A2RKI7RPP5CJMG', 1), ('A2WW57XX2UVLM6', 1), ('A1SY4X1WWNOBX5', 1), ('ADS99W8WMEXZ2', 1), ('A1JXRXYVSUAW6I', 1), ('AY3I33E43RW23', 1), ('A3MDETK0D5UAIN', 1), ('A37D2TGTIXRV2N', 1), ('A31RULW0KNYJ5H', 1), ('A15T9G38F589KM', 1), ('AYNRALJ4X1COS', 1), ('A1SD1C8XK3Z3V1', 1), ('A2VSU4Z3OUR2Z1', 1), ('A3VBZDYGHF4NK8', 1), ('A2YQ7M9GFU3Z65', 1), ('A3CG93783LP0FO', 1), ('A306153FTKS9PL', 1), ('A3EOVXI1VZIHUQ', 1), ('A105S56ODHGJEK', 1), ('A12PN254PTSGU5', 1), ('A1LJR5IS0B6ADX', 1), ('A3OCBH2WG85P4Z', 1), ('A19A08HY0O65Q6', 1), ('A6SZZSMX7DQG1', 1), ('A15R00LN8L815Z', 1), ('A3VI2VETB90ZG5', 1), ('A1JMR1N9NBYJ1X', 1), ('A395W6E187ZQIU', 1), ('A2D2CZEHI7KO76', 1), ('A149XXYGR6WKS9', 1), ('AY6A8KPYCE6B0', 1), ('A2RX62V4E2BF5Z', 1), ('A39650P2CZUUC9', 1), ('A2SD1Z4OROY538', 1), ('A3VGYI7T4F9J3', 1), ('A23GS4UGLQBG2V', 1), ('A2503LT8PZIHAD', 1), ('A3OOZY29ML2ORX', 1), ('AR5SY32T76DBM', 1), ('A1EXGL6L0QQ0M5', 1), ('A1BDXWRUBO7PWO', 1), ('A1B05INWIDZ74O', 1), ('ARYSDAZNRXN6G', 1), ('A34C98SJU4M7DD', 1), ('A3VKQD1UZ1A66Y', 1), ('A2LNDB95TRC03', 1), ('A2E2PA6UNK1E05', 1), ('A1J75JJ0Q2OEJN', 1), ('A3HNLJGBLFBJIA', 1), ('A1VXIY1511XQK2', 1), ('ALBW2ZBS6Z2AY', 1), ('A1IQV6AI7L9NOK', 1), ('A3B620VGG3J6ZP', 1), ('A1ACM1CBGORBN1', 1), ('A23E9ZPS2RQZS0', 1), ('AR7TAEEUDHMUB', 1), ('A3H6NNGCINPLEC', 1), ('A34WGXES0FG1B8', 1), ('A2UOLBX7155MY3', 1), ('A2G4TUVJJNNOTZ', 1), ('A12DQZKRKTNF5E', 1), ('A1GK1DBSU35MY5', 1), ('AVR3F6VQYIMZW', 1), ('A1UMSB7LAW0RIR', 1), ('A4SD8F79JBYG2', 1), ('A3HAA7H8PBVM78', 1), ('A2QP6LG16EO6XP', 1), ('AIP1G3R9RYQJL', 1), ('A1T8N18XKDLJO4', 1), ('A27L5L6I7OSV5B', 1), ('A3JHC8O59WDHFZ', 1), ('A39WWMBA0299ZF', 1), ('A1WBEIH7Z37LN9', 1), ('A1H7Y5XKPGT0OS', 1), ('A353U0L2HAMSHV', 1), ('AKJHHD5VEH7VG', 1), ('A1KEK09ZA6J9P8', 1), ('A1QW8LFDMGW4SJ', 1), ('ACHSHGM2IJOAP', 1), ('A2OZQV7T0EYV45', 1), ('A213KVDNAA40RB', 1), ('A2GY5WCU9PKTMI', 1), ('A38XTOID4VG01S', 1), ('AF3X7J0XC391L', 1), ('A3CLWZGMC7M9Z1', 1), ('A22VNXHU6IZ5MT', 1), ('A1AHAETTCFARPJ', 1), ('A2OT7AEHVZ0AZ0', 1), ('A3KDO3XV0MK1GX', 1), ('A3QUDXLOJTKEP9', 1), ('A3M2O06MCHJG18', 1), ('A27B1U3OWCU14J', 1), ('A1F7YU6O5RU432', 1), ('A1AH37JZNZXOIZ', 1), ('A3P8N3YORM08CA', 1), ('A9C4WFF38BS0I', 1), ('A3S87ZOPB3UM9N', 1), ('A2XSY4L7GDHV4W', 1), ('A3NOLMP1TQXXZS', 1), ('A1Q20KOJGRF1LZ', 1), ('A3OXHLG6DIBRW8', 1), ('A34T6SD5HUGLCJ', 1), ('A2IFKH3TJ10387', 1), ('A13IAD6WL2Y8D0', 1), ('A3A8FMW6BDJ166', 1), ('A3JYAPO496COOF', 1), ('A3RMS65F4GT4ML', 1), ('A3EK2KTYHJCPB9', 1), ('A25C2M3QF9G7OQ', 1)])\n",
            "('A1K9TCQNHR0WPX', [('A2YLNC7H8Y5T95', 2), ('A1H9DJU1BGMJW5', 2), ('A1RY6BEFNF8OMJ', 2), ('A2XTVCHZHBHR8H', 2), ('A19WLQYP4M6TTR', 2), ('A2OICPLYFWZJJU', 2), ('A2TV5D48K9NJYW', 2), ('A2IM69TB3LKK7Q', 2), ('A2G4ZT3R94CUH0', 2), ('A2BIPY03BDDOWY', 2), ('A18JBTHHKEOQQV', 2), ('AG2S7N7ZPPNW2', 2), ('A1K9TCQNHR0WPX', 2), ('ATXDX08LIQLS', 2), ('A39C5ANT2MQZ99', 2), ('A2FHF5YD98RG2L', 2), ('A21O6PNPN11TJE', 2), ('AH1SJYFXD9BA0', 2), ('A14LE9DSWRPM1U', 2), ('A3Q82OOSCTLLMR', 2), ('A7HSE0PPW7ZXK', 2), ('AA4BHKJ4S2PS8', 2), ('AQF0QPRUM53WC', 2), ('A15Z6LEX3MLU34', 2), ('A20AOKNSF1HMOV', 2), ('A2A8SPJ5QE69QP', 2), ('ARAMXGJ4IFXZ6', 2), ('A8QD3DE5JXXQ5', 2), ('A12VYWCG0OBMM9', 2), ('A37D4WZ5CJ5XUR', 2), ('A4ZTZX195NYUN', 2), ('A35GQN8V34YQUS', 2), ('A3HBMD4YF6K754', 2), ('A35HBHGPJ2T294', 2), ('A1MJU00IIW2T9R', 2), ('A2O4V3MCB7EPPU', 2), ('A18TW2HEML61LD', 2), ('A3TBQRJF7F7PRS', 2), ('A2D45ZF2E3819G', 2), ('A2ABTU25HH6R6', 2), ('A3IUZZ6C60NZTR', 2), ('A20VILRIJYIT0T', 2), ('A2RJ1CG75NMNLP', 2), ('A125EA9YX1FQ62', 2), ('A2Z00YI7JTU9LA', 2), ('AS9MWZ7HP97UL', 2), ('A2XNOB1T796Y6B', 2), ('A21H2BWMSNR503', 2), ('A74WRAGMUPSB7', 2), ('A1I75OO0985YOB', 2), ('A22F0NG2B84J9F', 2), ('A2JXL5AA6HCMT2', 2), ('A2GH0L50430WJF', 2), ('A1L5VZVR2Z4BPI', 2), ('AA3STBZCDCB38', 2), ('A2QSH17HMY8Z7S', 2), ('A18RCK7EU24EHI', 2), ('A2QR6NHIL0UL85', 2), ('AKCL1EHRNJIKF', 2), ('AP448FMCNTM4Z', 2), ('A2MTPVXL6HD5VP', 2), ('A15MES3O6I17C9', 2), ('A38S7IRMROBB9C', 2), ('A3EM8Q1XSB9KEJ', 2), ('ARIDYUP102OL', 2), ('A1E45EFOUOTZ7X', 2), ('A1SZG52GFZYEUX', 2), ('A2RKJJQQ120MZS', 2), ('A24OXEAT95ZUVK', 2), ('A3JX5X77692322', 2), ('AXYZEE4GQ7SGW', 2), ('A1C6NFRREC0YEN', 2), ('A3FY3H6F4249E0', 2), ('A2FP4OW3YF9GY9', 2), ('A17VUM7DGU7P8F', 2), ('A34V2FLDMSAZIB', 2), ('A1MA2LCN3D1936', 2), ('A27FP0S5QH7GNE', 2), ('A1T86REQZSV2UB', 2), ('ADBFCKZDGSW9J', 2), ('A27A9QYJ6YH2T1', 2), ('A3N4H3UA3B8FWK', 2), ('A3LYNMSU91W4WC', 2), ('ASDB73EYX2F0U', 2), ('A3OD7RJXS4AUE2', 2), ('A1KLE6FUKH3QLR', 2), ('A29ENJ5KUOH57X', 2), ('A2CGL95HNG8EZS', 2), ('AHK3HFORSNM33', 2), ('A2OT2J0YBL2EPQ', 2), ('AMEUOIO2DEJ8', 2), ('AWMUHMCJFD3WQ', 2), ('AQA2W78MGGMF0', 2), ('A15OG6KWRKPR4D', 2), ('AZ8Y3MES22UNV', 2), ('A27PHVK99Q39EH', 2), ('A1NOK2VEQF58PN', 2), ('A1IRTDWFC5UOAO', 2), ('A37S5YRQCB4XJT', 2), ('A1KHVW4VTZ82XC', 2), ('A3IMJGBAPFJTDE', 2), ('A37Y1PTI70SNOM', 2), ('ALJ9WJQWW0WT5', 2), ('A3N3QK86OEC3UO', 2), ('A3ABQC2S7YOC3V', 2), ('A1JC45E1JG5VL9', 2), ('A2D75WF8EBJIUP', 2), ('A23K5IUP2CWLPG', 2), ('A183MACRPCNOV3', 2), ('A1ZS141SOAXYCF', 2), ('AR81JOVWQAANC', 2), ('ADP2GX1QS1IP4', 2), ('A1EC9OS7PUKEO', 2), ('A17N6MNN6HVHEX', 2), ('A31YJ4UH62NLPF', 2), ('A914TQVHI872U', 2), ('A1P1HX0GITXK28', 2), ('A25SRMQYQ9RM7Q', 2), ('A39WLLSBKYAHQZ', 2), ('AR40TVNMDIYZ0', 2), ('A3NEAETOSXDBOM', 2), ('A23MZH48RYHI4Q', 2), ('A1P8D7UI9OMUDR', 2), ('A152PRXNAVTKKA', 2), ('A38TPUN6VBAYYP', 2), ('A3UUK116CBFUHU', 2), ('A31W55J90T8NFF', 2), ('AKJHHD5VEH7VG', 2), ('A29OG57KFG8FJ3', 2), ('A1TRUJN74M0W4V', 2), ('A2UEB48LAWFUCW', 2), ('AGQ1P3TE0UOS7', 2), ('A3ACOFYT6XBNPC', 2), ('A20M0Z96N9MP1S', 2), ('APXFWNEAJR1O6', 2), ('AV6QDP8Q0ONK4', 2), ('A3QK4CM7B7F7JZ', 2), ('AQMGQDYE9M4G4', 2), ('AYFG3KWUXVB5L', 2), ('A239MCVKSY4ETK', 2), ('A3EJ0CYGQDJET9', 2), ('A1KEXGHZJF1A9I', 2), ('A22G4MICXOZQW2', 2), ('A32TO30BFFKYEL', 2), ('A1BWPCSYKJ5U7Z', 2), ('A2IPVVI871NM3X', 2), ('A3G2K3XHUJNV2K', 2), ('A1AOQ491U3WJH1', 2), ('AVRPAG083YTOY', 2), ('A5ZJKS3MH6QO6', 2), ('A2ELBRDMDOJGQG', 2), ('A3CVOWPTIOSR2O', 2), ('A3NKRXQLI3FQML', 2), ('A3HWOYAGAJ9QRF', 2), ('A35VXFPI2WKNNY', 2)])\n",
            "('A3U0YACKPTDTMF', [('A1N06XIVTDQMP', 8), ('A21GDMT9JN2A5Y', 8), ('A1FQSVI2WVV5W5', 8), ('A3QVP3B2VVJ9T0', 8), ('ANMGYT60QP4CM', 8), ('A353Y7VBQHHW0T', 8), ('A5EOE58A3U2VN', 4), ('A2GRJ3CKN4V9YE', 4), ('A27YKN5IIUEILY', 4), ('ASYC2R25R5KHN', 4), ('A13QXHJK8L3RM1', 4), ('A2FCNM0DKHX8XM', 4), ('ACU2ERD5Z5PE4', 4), ('A2OPQC63X2Z9K3', 4), ('AWDB6GFFDNTAN', 4), ('A2ZXKFB2Q9OQO1', 4), ('A38XIK7M64ST69', 4), ('AVGRJ38OR4A6H', 4), ('A1649MCU35IOOY', 4), ('ADXCZGGT1ZL1D', 4), ('A4D2848CCTRK2', 4), ('A26T8ZI9BWAVSP', 4), ('A3JOYNYL458QHP', 4), ('A2MTPVXL6HD5VP', 4), ('A16W82CC0JOPL6', 4), ('A39HMYM4H96J7Z', 4), ('ABB49O4UE39DL', 4), ('A2CQCSA5Q19W64', 4), ('A2897C8FZJM61A', 4), ('A2RZXV7LHGFQGX', 4), ('A2EU2ITG4HPZMV', 4), ('A1FRUPO6DSTXE1', 4), ('A6U15998U8PGH', 4), ('A1HTC4BKKYA9VC', 4), ('ARAKTT5M3DDYA', 4), ('A3EJQLMO9B9QJV', 4), ('AT8DDOPUD72IO', 4), ('AY7JNBVYSOM2O', 4), ('A23UW1116PTM1Q', 4), ('A3JUSMDG84GCYI', 4), ('A3JHV32TVGW2V4', 4), ('A2AK3SKDWPBEQE', 4), ('A21JWIDR3CWA5Y', 4), ('A274OJ4I0TROMD', 4), ('A2DPTTS7OGZG7D', 4), ('A1US0ADAQKIQSZ', 4), ('A300N84W5T734Z', 4), ('A1UQFVHBQJ2K8Z', 4), ('ABK5IETM3A7O2', 4), ('A2XNOB1T796Y6B', 4), ('A2WGIPIV2E8GB4', 4), ('AY1EBCG7NYIE7', 4), ('AYP8FN14NFG6', 4), ('AULET4HDGGF3X', 4), ('A4I6N67YHICR8', 4), ('A3B4S4I90V7IOP', 4), ('A2WQMV1HOIPD7F', 4), ('A19HB8YJNRHEWW', 4), ('A3DF4ILKXVTTL1', 4), ('A1SD2XW3FDVW20', 4), ('A2BWAP11ZX3YME', 4), ('A9NFECDYD6Y1C', 4), ('A2BAHROD4M03TR', 4), ('A7SHSLFLIGVD', 4), ('AJ6IKN18GPK5N', 4), ('A3FR27RRHRC79C', 4), ('AC0VNCSLI5GLR', 4), ('A1Y5J68F22DRUR', 4), ('A3A58DJTXQSI3K', 4), ('A304BFHIHHE5NI', 4), ('A228DFJJYPZAMH', 4), ('A1I0BCPUC5GAQ2', 4), ('A27FBC56WXTH0J', 4), ('ATHM8NPDRLCQG', 4), ('A3GJ5LKDK3F67M', 4), ('ATAR692FUP5MV', 4), ('A1NXCXXMGIE0YX', 4), ('A17V6UX8Q7VU79', 4), ('A2CPY9C7UIO65C', 4), ('A1R6DKN9YQ2YU1', 4), ('A2VGP2U31O9YRO', 4), ('AB1D1TVIEQWMQ', 4), ('AFPAD4BJ3TIZ3', 4), ('A3LY4J89X9HDWP', 4), ('ASJKKI1EHIYWP', 4), ('ABLT8ZX71M06J', 4), ('ACH4XBWMBIXZ0', 4), ('A255EVBIH32V6S', 4), ('A1231ZWZ66NDHF', 4), ('A21NAUSIEPQBY2', 4), ('A2E2VESFN34I3H', 4), ('A3CE0K42HG20TX', 4), ('A12SPPOZMRVEIM', 4), ('AK24K0FH4PK86', 4), ('A2LN4IPBOYUQA3', 4), ('A2ON0QGD89SSP8', 4), ('A19XQ5VTWGB14Q', 4), ('A1YEADNW6J6SGY', 4), ('A1SB8BYLENJX1Z', 4), ('A3VCC0LYLD7942', 4), ('A3IHW5MSI34LIC', 4), ('AVGAPBDRYCM59', 4), ('A3U0YACKPTDTMF', 4), ('A3C5YTECM6E6ZJ', 4), ('AVN7MSCXVXEMO', 4), ('A25J72QGRLKLQG', 4), ('A1UAGQRQCPCMLB', 4), ('A2BOLIV4D1AYWN', 4), ('A2DPA5KJ7FFIU', 4), ('A141W8WHW9AC3H', 4), ('A2CMB1WU85TNHI', 4), ('A1ZEZ1RQ19B9YH', 4), ('A3U2OREN7D1Q9Z', 4), ('A1XKPKTGS49W7C', 4), ('A1FLSJ55U6ZADQ', 4), ('A3ODNSST1ZOZ0T', 4), ('AOP4KC76I40EE', 4), ('AISAJ674CUJJT', 4), ('A3PDF8BH37NGW6', 4), ('A2HH1G4FUS95NA', 4), ('ARDC7Z3J9GOK3', 4), ('A1C1VI99IUDXXG', 4), ('A8C5ILR3Z6SI6', 4), ('A32AZD8YHHOU94', 4), ('A2UNA7A6IGX3KR', 4), ('A16JSRTTJJXKNO', 4), ('AF6YV6HKCM3TA', 4), ('A2ZCI4BTCPPI5S', 4), ('A3CIFO4C3OKN64', 4), ('A1S8HCABZ4XE2N', 4), ('A1SS1SZU50WZ5O', 4), ('A15241PN72QVC4', 4), ('A2S51184I1EY1D', 4), ('A1NPAX0DMOG2XP', 4), ('A1WC7YSDUXGJIF', 4), ('A4X03B7924WSQ', 4), ('A2JHNURL0TED4Q', 4), ('A2NVAP2BP4ZUJ9', 4), ('A2020KL55SYZ4U', 4), ('A3S9B76JBOJK7N', 4), ('A1MNN0ZMHYPJDU', 4), ('AWWSTHARRUPGP', 4), ('AV6QDP8Q0ONK4', 4), ('A18UUSTSQJYK8O', 4), ('ATCK959WV7H9F', 4), ('AHU9VCO8WMZ93', 4), ('A1MF5ENDFA53KA', 4), ('A3N9PTGESK0V7W', 4), ('A1UWE64CPO197G', 4), ('A1GXIM3SAFFL4T', 4), ('A1TSHTUAUQML52', 4), ('ADFUYEXGLC4WY', 4), ('A3U3EP6YW692QL', 4), ('ARADEBLBT3P17', 4), ('A2JTQ5WK3AY2QD', 4), ('A3G765MWM5ZKIF', 4), ('AWSGVLSCQRQP0', 4), ('A3EVIWKIRHKCLT', 4), ('ALDAF4VVLFRHP', 4), ('A3R04WGOMTYOBB', 4), ('A2GR7SRMJ54RG7', 4), ('A2M47VXTDILXZU', 4), ('A1O3X2RXPIB8XF', 4), ('ADT1AJREFFG0X', 4), ('A19NO9O8WL2QV1', 4), ('A1TYFYXVNSFZQF', 4), ('A2K019DAXG5EZ2', 4), ('AVVX9GQZ7400G', 4), ('A25JKMQB4EGILR', 4), ('AP3VZ336XWH9Z', 4), ('A31R9C92C3JOL6', 4), ('AB094YABX21WQ', 4), ('A15NB6PGR33G14', 4), ('A379XY4QTK9Y10', 4), ('AGECWCM6UUQR4', 4), ('A3SSP13DBN29AL', 4), ('A2TZKSY1ZWPOU9', 4), ('A13T0V3LHOTHDL', 4), ('A2FF5YQJ6ER648', 4), ('AFW9T8H5M8ZMC', 4), ('A1769BX1RL1YUV', 4), ('A1CVQY61GRH0D5', 4), ('A3SN1XKLHL04Y8', 4), ('A1FNGJN8V7DIQI', 4), ('A29CBOGHV264ZX', 4), ('A3EKH6VM4CHYX4', 4), ('A1TT2HXSCA4XS2', 4), ('A2JZO3Y5AM4EOW', 4), ('A3BJMVANGVCYJT', 4), ('A2F56CRL29D7QN', 4), ('A1YK5WGH0T88Q1', 4), ('AHGW26U8OU54P', 4), ('A6AP0265E7UWI', 4), ('A59SQA66PPRXX', 4), ('A19TJS0H12F4TP', 4), ('A9M44T5RORE3N', 4), ('A26XY3MCW5XBWQ', 4), ('A2OKT0N3T99WSF', 4), ('A1LFM9PX0833W4', 4), ('A2OQ775SI58DPN', 4), ('A1PYX9VJ4ZM43T', 4), ('A1RGXY00GDE0TZ', 4), ('A33L7DXL6YUAPU', 4), ('A2KIRZTPL3AZY1', 4), ('A29I0U48D53F1T', 4), ('A2W27A5ROHS4CR', 4), ('A33GZXDA4Q2JY0', 4), ('ALO70PTKSUCOU', 4), ('A3UXG79BX7IO4Z', 4), ('A33NXIRE45W7RV', 4), ('A1MLGCDB8UMTT0', 4), ('A2CZR1G7R70BS8', 4), ('A3AV7B5H937LF8', 4), ('A3RQYPFPM58CKP', 4), ('A3553AFIQDCX7T', 4), ('A21KWF3S9WU6S3', 4), ('ATFWL9M3XVMMK', 4), ('A1HA9ZMDBDIZD8', 4), ('A2CJKQ0DOE5ARF', 4), ('A2D11X0Z1N5R93', 4), ('A39VP9FCRWMKW4', 4), ('A35QRUSGHDD8ZR', 4), ('A3Q4SHXFGYGF0O', 4), ('A3PEZQQ3I0B036', 4), ('AF03A958JD9GO', 4), ('A1O299KDNQMPDY', 4), ('A216M5IUOGUXUI', 4), ('ABO9WQBXJQ64E', 4), ('ACYY7RY8WE68N', 4), ('A3TV3HTUIRW1AW', 4), ('A2AV8N5KIC6SQ1', 4), ('A3DW1BRVOGP1KJ', 4), ('A1R77V4Q207OHD', 4), ('A2070E4VNJNOVQ', 4), ('A2PIXJM37NIFYJ', 4), ('A3BSP6ZAOM45LQ', 4), ('A3LXOMANBRFQJG', 4), ('A1MDO8RZCZ40B0', 4), ('AWLF0JTBGZL7D', 4), ('A10686UV3KT899', 4), ('A3JF001WP479T7', 4), ('A38UOPPAMYASG4', 4), ('AEZ49I33XW2VE', 4), ('A3BBC8E7QT7N9I', 4), ('A2PPWMMZER5JTT', 4)])\n",
            "('A2PVVYTGFPMM5H', [('A281NPSIMI1C2R', 35), ('ADLVFFE4VBT8', 14), ('A1AEQZM99LO9VA', 14), ('A1YUL9PCJR3JTY', 14), ('AIFGUCOUOOFJ3', 14), ('A2DHA9BIS3NB2H', 14), ('AU10LZ13XWYV9', 14), ('A2OWR2PL3DLWS4', 14), ('A2PVVYTGFPMM5H', 10), ('ARUKZNYV91I7Q', 7), ('A3SAFHH0PFJN02', 7), ('A2JE83I2W4F4DF', 7), ('A14YSODSFZWIDZ', 7), ('A1E11EK6AQ5VF', 7), ('A1GJQ0NZNNU9HR', 7), ('A42CJC66XO0H7', 7), ('A1VXC2Y37UB0R7', 7), ('A2RDA8NHI5M25N', 7), ('ADS5APY1NKTL4', 7), ('A17GK9E70O7Y9R', 7), ('ABJUVFTT7A81Q', 7), ('A4TAYDT1ZW49D', 7), ('A3FCHAD354HUCO', 7), ('A1ZF5OK2YT2AZZ', 7), ('A1QZC1Q0LPHHO3', 7), ('A1BY3RGSZEQEOK', 7), ('AC8UT5SYUP313', 7), ('A38OCDJQOAQ2XG', 7), ('AMPPPNBMRAEBF', 7), ('ANNGQJC6V079T', 7), ('A1873SQV8V013V', 7), ('A17V41JRTAL0BF', 7), ('A3K7C1J4GNEBTP', 7), ('A16J5JVUTKVJV3', 7), ('AK7CAW3N1XZV6', 7), ('A35GBIZLQST4GK', 7), ('A2WFF0N19CJX5', 7), ('A24LLQD11VVTPU', 7), ('A38A1WZS7247H2', 7), ('A8D8GH736LF0F', 7), ('A36AY8J5I9S15C', 7), ('A3HZ03L316GAIS', 7), ('A10US86NCIY708', 7), ('A1L1XWKEG6C56', 7), ('A1OCYDSAOUTS7M', 7), ('A8QDW10JZEKZ5', 7), ('AQ2FC1DLKVD8H', 7), ('AOY13ZY2UCBT0', 7), ('AY8K9KDD98MPU', 7), ('A3O6FCBYGK8EZ9', 7), ('A3G4W5HHAV50HB', 7), ('A3NKRBAWSVGMLA', 7), ('A3LQS08K2OBI5Z', 7), ('A2YDG8QP57UDE3', 7), ('A2J96FILPQA01', 7), ('A2IPHGXIAYZNJK', 7), ('A2BSLZK1166NMB', 7), ('A3E36KSFDU6MY6', 7), ('A2AHC3XKU7XOLP', 7), ('A1Q8I1IQL3V4D4', 7), ('A3MLQDXQPVNB2O', 7), ('A2VF3XTT7245RE', 7), ('AU511QAPWSW60', 7), ('A1OVNI8STTAIQM', 7), ('A22PNIEXS7DA18', 7), ('AD9L49GAX94JW', 7), ('AOJA5NCVKK49Z', 7), ('A2150M1RRGHCUF', 7), ('A21DCUTYQ0Y57J', 7), ('A2HGUNLVHJYSCW', 7), ('ARJ2V986IY0GO', 7), ('ADNA24AADKBQ9', 7), ('A1YL48H0EQITSK', 7), ('A2K0SKIFKQ4RWL', 7), ('A38B7MUWO2UPZE', 7), ('A2XRIHZ31GHAAV', 7), ('A31Z6A9QECVMCN', 7), ('A3USEQW8M4FCVK', 7), ('A3492YB771S2OY', 7), ('A3EKLIEI85Z4S3', 7), ('A1Y8PKHAFQ3QFI', 7), ('A3B4JH1ZCMEI3V', 7), ('A1AJQ3BYJG2SE2', 7), ('A276CFPBYBLQNT', 7), ('A3UKSIXX4P9UAQ', 7), ('A1UZC65T2JUA7D', 7), ('A3TGLGQVE7A0D2', 7), ('A2I6FFCUE6KID9', 7), ('ACD4ORBZEJV6', 7), ('A3OM576KXKOV2', 7), ('A2V18JN5XI2GOB', 7), ('A3IG444HB0PTFG', 7), ('A265K3A7V83112', 7), ('A2PDMRBLV78JSZ', 7), ('A1I35WC7JYIRZM', 7), ('AHKPZ11JT110F', 7), ('A26DH6ZN3FHLCX', 7), ('A1LEP68OQ0OPJ6', 7), ('A2B39YSBNDR5HP', 7), ('A2U7IZRM920GZH', 7), ('A2UEX153AXGO37', 7), ('A2E5SFGXPPOR0X', 7), ('A2I7LE3IZNHOEN', 7), ('A2GFQQAXRQ2448', 7), ('A2KNV61CW1IHGT', 7), ('A32NC24OM6MGHL', 7), ('A3OPH5QDQRBNPT', 7), ('A1TCOAJUQ4Q72R', 7), ('AIVDDGBDF2QO9', 7), ('A2HWFDL16GO29P', 7), ('A3QKWGU3LHSEL0', 7), ('A2J8BAM4AX4FGA', 7), ('A13Q6D42B6UXUA', 7), ('A2DPYMNI2HCIOI', 7), ('AUDH0P4ZHJKS2', 7), ('A3IB4KSHNHTDYS', 7), ('A11NFEXF4BXE2V', 7), ('A3E68E8YZ6E6FP', 7), ('A1C7ORW5LEDJKR', 7), ('A1T3C70F4QYX27', 7), ('A3RKMHCAPC9LKX', 7), ('AFFVUZEGP1FDQ', 7), ('A14H5GNH2EIPAC', 7), ('A1ECHZVN5P0VV6', 7), ('AVFA1JB08RG8G', 7), ('A4480DSK4UJN5', 7), ('A1X17W9T68RO3E', 7), ('A21SY1XMVRH3YQ', 7), ('A1SO1PGDNVMLXC', 7), ('A3QFDQ98HL8XAA', 7), ('A3KE6TMMH3BG00', 7), ('A1GWYODZQJOZ27', 7), ('A2SX82IP1JIUP5', 7), ('A3OBSSAP9PT4C3', 7), ('A2JAZD4767MH5Q', 7), ('A21NVFKZQH4A5D', 7), ('A3ACCUQEUFVC07', 7), ('A1VOFRFCMKAJ4E', 7), ('A119BG4E0YL6G7', 7), ('A1SZHECU3Z5OYV', 7), ('A70NFM6KHU24F', 7), ('A1UND7DFFJH2JS', 7), ('A1CQVXVPP0SM3R', 7), ('A28QTVEFQX6Y9X', 7), ('AVP1NL6GYMVR', 7), ('A14CR6A9AOGMX8', 7), ('A3UUTDX2WNVUS3', 7), ('A1EFQGUL35VG8Z', 7), ('AP6OL1S616QPD', 7), ('A3U7LZDJ6ZF3AU', 7), ('A1OC7ZI4RF1T33', 7), ('A3MUSWDCTZINQZ', 7), ('AZ4T61QUJHA9E', 7), ('A12ON2E18VC82V', 7), ('A2U1NJ2QWVSGZU', 7), ('A36FE90RTAFJJD', 7), ('A39EQRLJQJ51BM', 7), ('A2LFJU3KXJRTQP', 7), ('A3J4VXFCVETBNQ', 7), ('A1STTX0UKMC180', 7), ('A686GDSAB6T3I', 7), ('AYI3W8EYEX4E3', 7), ('A1JW1786KEU6QL', 7), ('A24NRZ0QHDM9PY', 7), ('A3L3HI0ECONAD2', 7), ('A36W5D1ZWPBX5M', 7), ('AN627LNLCCBUE', 7), ('A39N1B4YFI7XHF', 7), ('A35VJB4C6QV3IW', 7), ('A3S1OKF34AKJHO', 7), ('AOP99911E11KF', 7), ('A2PQUL8TI4P4HV', 7), ('A58SMGOB4UDW2', 7), ('A30ZEA5GSFAKZ1', 7), ('A8IF4ZBZRY86C', 7), ('A22S6W3ZQNSUGI', 7), ('A38KRK4Z0AXC59', 7), ('A2FBD4FMS90Z', 7), ('AOZ80TWDCVQ3B', 7), ('ANS906E4EOXB3', 7), ('A2L7GN7U5A40AW', 7), ('A13AESJTNAVD1C', 7), ('AVJJ2D4G5I0Z4', 7), ('A37YTQIHYWUKRE', 7), ('A2GOE7ITDGYVE', 7), ('A1E9I5NUTLM7XB', 7), ('AKRXVIOR8O0W7', 7), ('A28EFZ0FI5VRX2', 7), ('A3SSBWYBGMV0AH', 7), ('A2U8Y4FROL3ILI', 7), ('A3ER3V2E06DH7D', 7), ('A2Q7YCRSL8VIL7', 7), ('A88F7YKI0PTSQ', 7), ('AP2PMKZ16FDKD', 7), ('A2LDZMM4FAC2E6', 7), ('A3S32JQ5YUJMUK', 1), ('A3J18OIEOHCUT0', 1), ('A1V26WD9IUBVAJ', 1), ('A2P3RB9YR8VZ34', 1), ('A2F5SLRDEZ0ALZ', 1), ('A2YKWYC3WQJX5J', 1), ('A2FVD05Z2FYW1P', 1), ('A22IN3W9LGS5GE', 1), ('A2PNOU7NXB1JE4', 1), ('A33R2NLE6FHUTG', 1), ('A1K6WBSCTCD6BR', 1), ('A3NCJ91KIYRLX9', 1), ('A3MRGC0X26JD7D', 1), ('AICJXIIX8D3QZ', 1), ('A1KWIL0U3Z7C3G', 1), ('A114XQ5NYCAL59', 1), ('A11KQ3VGGXZXXV', 1), ('A26EQ8U96JA92T', 1), ('A3DOC4ZHSWXEKF', 1), ('A3JEFAJDWTKB7H', 1), ('A1D8YMYOZ52EJN', 1), ('A2RLMO0VCKQHLB', 1), ('AJNSN7BPB5IG0', 1), ('A1RWUMGGB8OHE4', 1), ('A59SFSJ6ZALXJ', 1), ('A3VQPNUVOH1OKI', 1), ('A10R925AFE1642', 1), ('A3KUM8243QMGV5', 1), ('A1UE59IXZMRCNX', 1), ('A2LGPR0V6REDL8', 1), ('A2VY7S27MN5JD8', 1), ('A3TYY29U3S4EP', 1), ('A2LLSFQO8O8XNW', 1), ('A1L3WV00OMVQ4B', 1), ('AY47S8YTC9PGJ', 1), ('A2OOGNEEW60IQ', 1), ('AESUXU5AHWEFP', 1), ('A11JFGB3Z1OK5U', 1), ('A25NDBH92Q1T46', 1), ('AB52L6CVTE398', 1), ('A1PPNAFVJ2OIMG', 1), ('A3SA9NOSO2OUCU', 1), ('A3N5TF6RGZJ08Q', 1), ('A2LJF873QLNU9F', 1), ('A3O6VJS3L852B8', 1), ('A16IP95IWZMIXL', 1), ('A1AOK9FTHLDYN', 1), ('A783B107REZ19', 1), ('A49RSMGCPA123', 1), ('A1E4BO1L9AB2HD', 1), ('A2I7H7Y9P7W1DS', 1), ('AV0J5RSPZHKGX', 1), ('AAHB25WK5VLBK', 1), ('A28QNHQLEPTO1', 1), ('AVNGJQ7DEIXO6', 1), ('A3IWA5NCQV9VH0', 1), ('A3HK3G0KD0DCGP', 1), ('A36QM2EIJ6I8IN', 1), ('A25XP4G06AXXE9', 1), ('AEOAQGZMVBROX', 1), ('A37R331JKHEVJ9', 1), ('A1KSFJBXVXQTSY', 1), ('A4MJB4RSE6IE3', 1), ('A2K9V5HTLLGJXU', 1), ('A1XJF21N6091UY', 1), ('A3W0BQMJ5J4O0E', 1), ('A12NHIJ6GMU2MV', 1), ('A1R75LFZV33L3P', 1), ('A30G24PZC1PSIQ', 1), ('A2ZKU5S6XT0GVQ', 1), ('A2WAQ2W3QJL5IM', 1), ('A29INMVFTH7O5K', 1), ('AOR4LSJIAYHYG', 1), ('A244PZQMN48PCP', 1), ('A102AVG4MOGFUW', 1), ('A58437AUQICZF', 1), ('A3LAB7OJIRSXBP', 1), ('A2ZHA3RWRZ7ANW', 1), ('A1S6R62HKHTM6F', 1), ('A175CJ8SK4HGNP', 1), ('AXSH8IKKHRWRW', 1), ('AB5BWN01B0DI7', 1), ('A2KMMF60OBFR56', 1), ('A3FVL1ZUXECL87', 1), ('A1YSZAG1HWMMG2', 1), ('A2F4G3L7T3TCEH', 1), ('A2DMKK8EY485KF', 1), ('A1095JP8LNYMTC', 1), ('AVJ6EC2TFF4UD', 1), ('A3R4UB6P5U94RY', 1), ('A1XV9DKF1NSBFW', 1), ('A2V4JFPIVC2QAI', 1), ('A23ZDF0SP76B62', 1), ('A32I0FA060F2YL', 1), ('A39G12JD41N65D', 1), ('A3G6JGX77QC86V', 1), ('A1PIV1R0FSJHL', 1), ('A3HL5Y4SUBRM03', 1), ('AWD01QZ5IWH6S', 1), ('A2P6KPSD5S0MY6', 1), ('A382PTU5H7H2VU', 1), ('A2CQE87ML7QX9S', 1), ('A3GYYR1H9GVF3A', 1), ('A36SI1BBP0F078', 1), ('A3PZ9OVR6TU0MM', 1), ('A1WV25LU9QKGDZ', 1), ('AANQHZLEOYPZW', 1), ('A33Z8XGNCHQDR9', 1), ('A9MTN0D260WAD', 1), ('A2FTKO0J167SVF', 1), ('AMX5105R0N5BY', 1), ('A29HLPMW5B4HS1', 1), ('A16KK3YHCWE29C', 1), ('A2UHAHANNNXER8', 1), ('A3RNCB6QSDKHLB', 1), ('A2SRNSVOZ953B1', 1), ('AATQJWMI88ZP6', 1), ('A18R1GU9402QXK', 1), ('AH33N2UL0ZQDK', 1), ('AH41BJCIFN9L1', 1), ('A348L9GV9VPIS5', 1), ('A3VHUUI9QN2TNU', 1), ('A1JQHRP0N4M53C', 1), ('A3I6MLE6NF77Z5', 1), ('A8L455GALCYU1', 1), ('A2TIIUPOFBKIJC', 1), ('A3O1T1UBGQDJ77', 1), ('A6FIAB28IS79', 1), ('A1B34OJYLE7KXV', 1), ('A3LQNZVV76JA9C', 1), ('A3Q7QBDSAZ670I', 1), ('A1ZPY91VE3IDN1', 1), ('A3M0L7VFK0V25H', 1), ('A2SXJ3ONPJV0BX', 1), ('A2YQC5J0FYQ0XS', 1), ('A21IRJEAXS8U1J', 1), ('AJBH9XKEG2NVF', 1), ('A8N71F4CJULWY', 1), ('A2E7GTHO4UA786', 1), ('AEN3M6RYKACUT', 1), ('AJR8OW3R8G7Y2', 1), ('A3DLDLG7J4ZMGT', 1), ('A11ZJXW7KBXBL2', 1), ('A2J19U8H5SSFCJ', 1), ('ACPHHY1VMZAN9', 1), ('A1U4M0L6D8QS0T', 1), ('A3KXR8L3CJMWW6', 1), ('A3D895PDO2TGGF', 1), ('AHVDACV9ZFJDE', 1), ('A2X3L31KCXBHCL', 1), ('A2X7EFO5SVFS4G', 1), ('A3DA0PA8106CH5', 1), ('AFP6OOD8EDRSP', 1), ('A10BENY3CHUYHC', 1), ('A3HQZADPSK21YO', 1), ('A7I53J08XEBBA', 1), ('A2TGNZ4K51OLJ5', 1), ('A1Z8MX15A1VAPM', 1), ('A2CS2R3ZJCILMF', 1), ('A39RSX6BWMBMDK', 1), ('A3EL2XJBEES1KX', 1), ('A20MSOF85G0VJ1', 1), ('A2WKY8L5SNDFYD', 1), ('A6007UP8CNNZ1', 1), ('A12X0TTHH9T6W1', 1), ('A260EOWY9JBUZU', 1), ('A36VI02QJOWHTD', 1), ('A10NNTI053DHVR', 1), ('A10NZD71WC4P4A', 1), ('A2RVU8GR9NA346', 1), ('A6A92EYGFM7E7', 1), ('A37K5SMCGX9GJQ', 1), ('A2WGG5MH2RUVQY', 1), ('APOXXKB1JR51X', 1), ('A3G9ZU35JDFO4Y', 1), ('A24L3CC5OWRVV6', 1), ('A1OJPGU4Q9MDH0', 1), ('A3C0S2JDY91F0U', 1), ('AL5J5GK1XBRN4', 1), ('A2TAQ38Y8ZL1S3', 1), ('A129SESLRS2DV4', 1), ('A2PKFJ88MI46T7', 1), ('A4B1IBPJIZXVL', 1), ('A2HBMAIEBN4VWY', 1), ('A657G6UZGX5H1', 1), ('A123WQ3C2XNV3A', 1), ('A2IL6666DOO87', 1), ('AEWQCO68BQJUR', 1), ('A3MI7KXE9CU7P', 1), ('AHOQARB8RGJ5G', 1), ('A3INQU0JMUKGBQ', 1), ('A2S8WBK8F22Z63', 1), ('A1D4N7T0HM3SRC', 1), ('A2DTI9FG3K5TAH', 1), ('A2ERFHYE6O2TNG', 1), ('A17W7S64O79TFW', 1), ('A3NEFYMT0YKSY2', 1), ('A22PUBSSNP54L', 1), ('AXIDF0ORLYR7P', 1), ('A368IPE6EW0GZL', 1), ('A8IY9R8Y4IVUC', 1), ('A30HID5MY8QLVI', 1), ('AB7D0JCXCAQJX', 1), ('AX862N2YMSPYH', 1), ('A3DGCJAN19X6TN', 1), ('AJCED5D3ATR8H', 1), ('AFS8F0KXF1PHI', 1), ('A180P9ZWDE8HK7', 1), ('A2UQY1VSFPNUGU', 1), ('A16QJAS9C1T08', 1), ('A2Y0U71LWG5W2B', 1), ('A3ETDDUITVMWR4', 1), ('A2K7D3NL1CT1P1', 1), ('A2HYG63E02ULZC', 1), ('A2RMSP65F4TW9G', 1), ('A3Q68B3TNPD3W7', 1), ('A1VY41P3A2Y19J', 1), ('AEBXWBD99FWW0', 1), ('A3OA0HGD9OTX4', 1), ('A276BKCK4ZE7EW', 1), ('AZMW64KR15LYK', 1), ('A2LB86SVX3NDV1', 1), ('A2BSICYFAR5AOA', 1), ('A1NASMSWZ012BS', 1), ('AYOPXGQZ79J5P', 1), ('A159DG0A9FO6ON', 1), ('A3D39SPY9FG0E2', 1), ('A2LVI17XQ5EYQ0', 1), ('A1POZ5YVMIYMP5', 1), ('A2TODZNV2DIL9H', 1), ('A1X0IZBEIT89D0', 1), ('A1EU9WITEXDZ6W', 1), ('A1G5TBPYBHPNUE', 1), ('AHAVDFJFDE9OS', 1), ('A19B66FD5NXVK8', 1), ('AEQOB7GJM0IDE', 1), ('AXIIFRRDO5JGX', 1), ('A8M9KE9IRI9N9', 1), ('A2FD1PX5J8FKIY', 1), ('A2RMYDGOC2LM1U', 1), ('AQT95GTVJLVFE', 1), ('AEP0XAC6F8N2Y', 1), ('AMLA0B6EHD4OS', 1), ('A306153FTKS9PL', 1), ('A2H5CVDCFN7ON', 1), ('A2CGPJ3FCC1R87', 1), ('A10UOHJS0VRPP9', 1), ('A7W4NAP2YGR2J', 1), ('A1SO5T2HZ2L28B', 1), ('A11BFBOSSCVA47', 1), ('A1A1LCFV1WXLJP', 1), ('A3094EPI56GKZ6', 1), ('A1E0HBR6EZBW4W', 1), ('A1IT2GZS6N1Q4J', 1), ('A3DRQZO7RWZ289', 1), ('A3YRL9OWKSC26', 1), ('A2BZ0UH6U6AIK2', 1), ('A1PZLN7NQ5GEPZ', 1), ('A1A3VXAK3HR6U6', 1), ('AS10G9E09V3YO', 1), ('A3NCXC7SME7WJM', 1), ('A3VGZ429B76DOO', 1), ('AG36DMYKO3HPM', 1), ('A3GEYLPBGLK6WF', 1), ('A9YWOVY99AOWQ', 1), ('A2J6PNSKDBM3M0', 1), ('A199B6G5EW98BH', 1), ('A3G0Y43S59MOKK', 1), ('A2GRIE3SG2MI12', 1), ('A2GVDCSI992SYA', 1), ('AV70EPLSFBBOY', 1), ('A20LUJNYMZPY69', 1), ('A6CVBH028JECF', 1), ('AK2VKH5OUXEE2', 1), ('A2LD40N7GKJZU8', 1), ('A39F79BMWQL3HZ', 1), ('A3VGVVVFHWLSJY', 1), ('A1WGK8D6LHSP4F', 1), ('A2U2ZPHR54XLSS', 1), ('AK1ZZSYOFZGBG', 1), ('A2FKVWNIEIMBEP', 1), ('AIZVI0OK7XSIZ', 1), ('A3H7DJ8TDWZTIC', 1), ('A36MWKJ63ZPN4C', 1), ('A1FK7AVOREKZXW', 1), ('A3IKE5HHOPQ9HA', 1), ('A14RNDQXF7E2JV', 1), ('AN6D8QXKXSSX8', 1), ('A3LI1U85SE39WW', 1), ('A4U8LCY4W85MJ', 1), ('A1CD9OJGYSVUFZ', 1), ('A102YS86WP4SEL', 1), ('AJ3JODK43SDJN', 1), ('A12O2EWTKXSTAM', 1), ('A3DTVV2YZ7G4R1', 1), ('A1YDT2XTXBP8FV', 1), ('A2GJH3WV4QOV5D', 1), ('AR36HSUPR61BP', 1), ('A1SSJGYXQ8GRRY', 1), ('A2IHGS5FV5VKVV', 1), ('A3SGAMGO7IZXH5', 1), ('A2Q9B8X03EL21T', 1), ('A26R0SPR5607MH', 1), ('A2ZZQ3Y3YZ3F3T', 1), ('A1HOTHDBCFN4OR', 1), ('A3CPX9XWN4ZAFK', 1), ('A1CYB91OYTBOQH', 1), ('A3DSVJGXFNIYEL', 1), ('A32TU399U6MYPO', 1), ('AJ1KEOLZPAZXB', 1), ('A31OYDQ8YP190S', 1), ('AUFQ68T67GECZ', 1), ('A353U0L2HAMSHV', 1), ('AD8W9AJKAU8PV', 1), ('A1VPBQ1ZBUJDTJ', 1), ('A3NW5X730FAUEI', 1), ('A3QF8N5GBYCZUQ', 1), ('A3QCYQWKKMWWDE', 1), ('A36SGQAD88HZR7', 1), ('A1C0SOX7DPXY65', 1), ('A3QRGY2ET71R9Y', 1), ('A1YYRB8YGIGPUA', 1), ('A2SWE9HVE1F74E', 1), ('A1JK8OETILDIEI', 1), ('A32AM2IOC81118', 1), ('A34ZZRS8PQ1H2K', 1), ('A2MSQNPTNAAGL1', 1), ('A2EPI3MF3RL6KW', 1), ('A1NEUBG625L9NY', 1), ('A3OUYYPASMSSLW', 1), ('A1O34VXFI71X4C', 1), ('A1XFTCY4VJ3GZ5', 1), ('A1RLP0R1N8H8C4', 1), ('A3ET3BXSYFKEWF', 1), ('A2VHVA9IG5GE7V', 1), ('A4BEXA559J7V3', 1), ('A3ADK9B0MGA6GZ', 1), ('A2KUUWP4ZZMOBP', 1), ('A3MZNRSDQ32UUH', 1), ('A2R3P2DL1KZ8SY', 1), ('A1BTHZO04GVCS6', 1), ('A1NOJ81EI6P0HX', 1), ('A2YV1BOXUMTF03', 1), ('A3KIHMMRH4XDEF', 1), ('A3JM51BFNWOHC2', 1), ('A2RZIU1L5LIYYZ', 1), ('A2EMQBCM0G1K0M', 1), ('A2WBNIRLWTCXIL', 1), ('A2HDKDE82SCP54', 1), ('A1G302V2MCIWOV', 1), ('A1A8ZJXJ3V6HYS', 1), ('AIS5E4AT749TT', 1), ('A1O12ZM9XNB5UD', 1), ('A17TFKGQKSUSS8', 1), ('ABFBFXOBHGAGJ', 1), ('A3PGLUQ8J2CTO1', 1), ('A209OWQZEB4W8O', 1), ('A1AWDDNMJS1BAL', 1), ('A4UDT8YJUKMC', 1), ('ATUC0ATW6SLW5', 1), ('A24FVIPRISZ268', 1), ('A1JDN0P217AM54', 1), ('ARSM42UULZ6EP', 1), ('AP4LEGXOIME9C', 1), ('A2245BFM3BFKA3', 1), ('A1G122FF9GRSPL', 1), ('A3BRTOKYC8UQJ3', 1), ('A267YDFDZKKQWN', 1), ('A2RRVOATBJZTPG', 1), ('A2924TU78V06YB', 1), ('A1GC5KDW33ASB9', 1), ('A1BGJNZW34MYVI', 1), ('A3NYV79FSA0TE', 1), ('AN97I9C77TMIC', 1), ('AQLL2R1PPR46X', 1), ('A22L5CJINEKDNJ', 1), ('AGG9T8P2V5W2R', 1), ('A3SWL08RKTP3F7', 1), ('A2ZGMKA73ZWGSO', 1), ('A1UA9OFOSQJFIY', 1), ('A1XXUUWX9LZXC3', 1), ('A2WLQAJE0SSILX', 1), ('A1B0LWOEUJWH6S', 1), ('A2OET6ZMLHY356', 1), ('ARYSDAZNRXN6G', 1), ('A26NG02R8JHR57', 1), ('A37CC02VTV5JL', 1), ('A3HCJUKVEBCR8R', 1), ('A2XB633DKUO3KZ', 1), ('ADDMPTLH8ST5J', 1), ('A2M18FEJV8TTO0', 1), ('A2R576U55NG9', 1), ('A1SLVDADBOCU5R', 1), ('A26ANT7EUKSJR1', 1), ('A8KL8Q6B72T4Z', 1), ('A34WB2BYECOGZL', 1), ('A2ZX818P92CM7F', 1), ('A3H2LF4S9450J7', 1), ('A35JP8KSV9281K', 1), ('A3QKYKOGQM13B6', 1), ('A24CCFDTQEKFWR', 1), ('AHTDG0DKYIQ5R', 1), ('A25G40AYWOD9NO', 1), ('AMDREWLSOT8ID', 1), ('A2TY83N6WBXM7A', 1), ('A1Z395EI6CJPKE', 1), ('A3SAIWU0SPC2TK', 1), ('A5R5AK6SOBY8X', 1), ('A308MRK9FH6X2C', 1), ('A2ZO1A4MFM3GFJ', 1), ('AS6PAZ08XJWLO', 1), ('A2GGN4XRGRFGL5', 1), ('A38D5GRPQU8T67', 1), ('A3J4IM04W99U3O', 1), ('A1UHCV8QTXY7EV', 1), ('A3MA0TE46L3ZAY', 1), ('A3T2S9HKS408U0', 1), ('A24DLARJZJ0843', 1), ('A399R33EF0PHHT', 1), ('ARI1VFDZKZLH5', 1), ('A210NWO51TCU8L', 1), ('AT5BP7OVH92WT', 1), ('A1VSRL8CZBE4BU', 1), ('A3JBJQTLG8ZDK9', 1), ('AYWUHB7N8XGZQ', 1), ('A2911R0VDHENM7', 1), ('A2PX3ZW8C241NM', 1), ('AS290RLNB7SXA', 1), ('A1FRLM8DVTWW1V', 1), ('A1MQ5XP7UJYDOO', 1), ('AX9XG4J06UIZ1', 1), ('ANDDFR5HYXFFP', 1), ('ACHMAK6A8MHH', 1), ('A3C91ILOQ8ONYT', 1), ('A3TOVV6K2J7UNZ', 1)])\n",
            "('A2U1YLSCMQLKHA', [('A6SB8A3A2NWWE', 8), ('A2MPYCJOQ3XX2B', 8), ('A3PJZ8TU8FDQ1K', 8), ('A3OXHLG6DIBRW8', 8), ('A3KLAK8EM3YWWZ', 4), ('A2Y0U71LWG5W2B', 4), ('A3D2AWHN6A2UAP', 4), ('A14AVORI0UL7A6', 4), ('AAJR3ORF2ZQM7', 4), ('A4VMQ6ZTSXSSL', 4), ('AEL50OB2KIEW4', 4), ('A2KX0E2FQZP654', 4), ('AINUV6DVXMKEM', 4), ('A1SXHGINVLL3AL', 4), ('A2KYHPN1D1AP73', 4), ('A37HHDBS8F7BEH', 4), ('A1NPFM9604UR9L', 4), ('A2TKXQBQJ70PM4', 4), ('A2708XMGVXIHJ4', 4), ('A16VSC3Y6Q92W4', 4), ('A1DBF19L6Y5AKO', 4), ('A3OR83P2LN0LFJ', 4), ('A1H381SIKM22GV', 4), ('A1JVFV1VAA08X', 4), ('A29NOLFV35AZP8', 4), ('A27C5U7IFTVXHP', 4), ('AH0L78CVYEEG1', 4), ('A3IESLDKKVX7PR', 4), ('A1O9HDGEU6T1LY', 4), ('A2U1YLSCMQLKHA', 4), ('A35P9B3YXR3ZYG', 4), ('A3FZ0GXBA9QTTH', 4), ('AGM70PNLZAE6F', 4), ('A2GY1YX6TQVJ0Q', 4), ('AQQLWCMRNDFGI', 4), ('ATOKDVCXPED8D', 4), ('A24BG4B6F3NUT3', 4), ('A3RSNTR0GFR3FV', 4), ('A96OL1DZWD10A', 4), ('A3TQ6MC20Q74SL', 4), ('A2PHC1W7HA2NW2', 4), ('AEVJIK8MCL9ZO', 4), ('AZKRDX2LIMK7O', 4), ('AJ1H90XS8PLXN', 4), ('A1LLMTLL2EESAM', 4), ('A1JYQUZIIRLB82', 4), ('A2JEYFBK6CCWRF', 4), ('A3RSWDQJ9B479Z', 4), ('A3G2VFUX5MKLDH', 4), ('A2SMNNJS6UOERC', 4), ('A3QQMWD8JN7TM6', 4), ('A3BD4SEQPP7RJW', 4), ('AL2MYSBH9I40I', 4), ('A37YG52WY9672Z', 4), ('A2QGJM3D619WTX', 4), ('A1WDDZTSP0F3KE', 4), ('A321B5DIQCYBLK', 4), ('AM6WHLFEL9JM2', 4), ('A6YGKDTNYSRU4', 4), ('A2MCOA07G0J9SA', 4), ('AQ5CU221BTY8S', 4), ('A1E4ZURNR2DC0R', 4), ('A2R946H6OFWS6U', 4), ('A2JTA9GYHUFJET', 4), ('A3Q3HU5PZI6UHW', 4), ('A1OVJFVVBW9XLA', 4), ('A2QN6WQMPN6B7D', 4), ('A1PUL2U2PDSCAX', 4), ('A22PH12P71FH93', 4), ('A2Q3E4Y8M535OQ', 4), ('A3FM2KSFRAI64F', 4), ('A1TITOWKMCRDL2', 4), ('A2FJH6TNED2M1P', 4), ('A1GYYOM7I89AEX', 4), ('A222SAOOYKVST8', 4), ('AZZHZZMH3U1VB', 4), ('A17T6L1D8K969U', 4), ('A3VBXOGIQSIPTF', 4), ('A2M6UJX3KQ4JQF', 4), ('A2OWYO5RRERMKW', 4), ('ABVJDBXJBDWKW', 4), ('A2AD3WNP9WXTUF', 4), ('A1IZJVLNMFACS6', 4), ('ADUW4KFSRPXX6', 4), ('AU02YJ6L9FFNP', 4), ('A2CP6Q3ZENQL9E', 4), ('A1J58X3WYJ1MVE', 4), ('AB7MNQT4SR5L5', 4), ('A3DO6BVORTUBRA', 4), ('A3FVYUI1CWCHN2', 4), ('A3CDDVCIGAKR8L', 4), ('A1WJR10UO750SV', 4), ('AS7LUSEFZBVJM', 4), ('A3I8EAFM9XGMMG', 4), ('A318QRN0VYLEM8', 4), ('A2IUEHSJE57RQ0', 4), ('A2NVX117EFIW7Q', 4), ('A2WVKTQBZVYESB', 4), ('A32I0TYSS7I1RB', 4), ('A386VGG59KAT3F', 4), ('A3LRUPVM2M74Q7', 4), ('ANOD28P22F3YO', 4), ('A1DGI5RPSLZZW9', 4), ('A82YTIEWKAZMS', 4), ('A2ZLJYJYQ25CLU', 4), ('A2GSBHPPSV3NSE', 4), ('A1XA6YMIHRYSO9', 4), ('ARSXCLVS4QA6W', 4), ('A5V4LF4PSQZGI', 4), ('A4JMBAK69PEZ7', 4), ('A17HMM1M7T9PJ1', 4), ('AOWOZGRZG3OBS', 4), ('A208ULV3V7OKBQ', 4), ('A1BJHZE41QWBX6', 4), ('A3HL9RYE30WK9R', 4), ('A1W30O6VMSCX23', 4), ('A2IFTF67SBFM2G', 4), ('A1KZUXE70GYNGO', 4), ('A2K4Q4I8MPUMQU', 4), ('ASBY5EPXKYETU', 4), ('A357BQRSVZ7SZ', 4), ('AI9IPVQ6D4RXB', 4), ('A261PG63GDOSO0', 4), ('A3BILE618Q1YSD', 4), ('A1N1FOSJ319JHT', 4), ('A83QO5LXJHCZB', 4), ('A3T0SXNEYSNQ43', 4), ('AFC9D0BGPH8Y1', 4), ('A24UGYADV5IPYF', 4), ('A38XUEEWNAS3TD', 4), ('A2FXNP3WH78866', 4), ('A1RS732SMTA5W2', 4), ('A1WNR7Y56L7Z0P', 4), ('A3966TRSIWW4Q2', 4), ('A2DR708CP7W57V', 4), ('A6247I29BYSKX', 4), ('A3UKNHZHG4687D', 4), ('A25UTJ1AXFC0Z9', 4), ('ASO5LSOMGTXE1', 4), ('A20K07R8ZHNK4U', 4), ('AB8PM1TC01LDY', 4), ('A271GZXP1I9GC9', 4), ('A2HEFKR3769OMM', 4), ('A2FEHI8AVR0VUP', 4), ('A35AO7QDM0R116', 4), ('A1IK3U20MSQZLC', 4), ('AG1849URYY9VI', 4), ('A2TJG4N8LNJW23', 4), ('AQ0SVVUPPF4UX', 4), ('A205XK8CEKJ1T7', 4), ('AIP4FU120WT8G', 4), ('A3LXQNUURHN0RB', 4), ('A241HDIOHZJRBR', 4), ('A2DEC496E58BRG', 4), ('A3CG93783LP0FO', 4), ('AHFHB2TIIQN2D', 4), ('A1O1WC28TJ38SK', 4), ('A12UZWJ6N3JBGO', 4), ('A3UOYYQS5Z47MS', 4), ('AQMUE615C7MC', 4), ('A1XPT6TAPFPPEM', 4), ('ANJC1DYEVSKMT', 4), ('A3FM3935S78K67', 4), ('A2ZSYINLY6M7HP', 4), ('A1H5LEFDUN4XQD', 4), ('A2XAGN52M9R30Y', 4), ('A8INT3NMHRUS4', 4), ('A1Q7K2TXDK0PJB', 4)])\n"
          ]
        }
      ]
    }
  ],
  "metadata": {
    "kernelspec": {
      "display_name": "Python 3",
      "language": "python",
      "name": "python3"
    },
    "language_info": {
      "codemirror_mode": {
        "name": "ipython",
        "version": 3
      },
      "file_extension": ".py",
      "mimetype": "text/x-python",
      "name": "python",
      "nbconvert_exporter": "python",
      "pygments_lexer": "ipython3",
      "version": "3.8.10"
    },
    "colab": {
      "provenance": [],
      "include_colab_link": true
    }
  },
  "nbformat": 4,
  "nbformat_minor": 0
}
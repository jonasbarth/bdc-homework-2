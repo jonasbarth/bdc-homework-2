{
  "cells": [
    {
      "cell_type": "markdown",
      "metadata": {
        "id": "view-in-github",
        "colab_type": "text"
      },
      "source": [
        "<a href=\"https://colab.research.google.com/github/jonasbarth/bdc-homework-2/blob/main/HW2_2023.ipynb\" target=\"_parent\"><img src=\"https://colab.research.google.com/assets/colab-badge.svg\" alt=\"Open In Colab\"/></a>"
      ]
    },
    {
      "cell_type": "markdown",
      "metadata": {
        "id": "Kwx2dxZeFHDX"
      },
      "source": [
        "# Amazon Fine Food Reviews - Building a Co-review graph\n",
        "\n",
        "In this lab, our general goal is to conduct some exploratory analysis of a medium - large dataset, namely, Amazon Fine Food Reviews, available from a [Kaggle Competition](https://www.kaggle.com/datasets/snap/amazon-fine-food-reviews).\n",
        "\n",
        "Our general goals are the following:\n",
        "\n",
        "- Retrieve the dataset and upload it onto Colab;\n",
        "- Build the associated Co-review graph."
      ]
    },
    {
      "cell_type": "markdown",
      "source": [
        "## Retrieving the dataset\n",
        "To retrieve this dataset, we need to be registered Kaggle users. Assuming this is the case, we basically have two options:\n",
        "\n",
        "1. Download the dataset locally. This can be useful if you want to keep a copy of the data to work with directly on your machine. In this case, you will have to upload the data on Colab in order to work with it. There are several ways to do this, described [here](https://colab.research.google.com/notebooks/io.ipynb). Note that our compressed dataset is about 300MB's and proceeding this way may take some time, depending on your connection.\n",
        "2. Transferring the data directly from Kaggle to Google. In my experience, this was extremely fast and it is the method I am going to use.\n",
        "\n",
        "A nice review of all available methods, including the one I am using, can be found [here](https://towardsdatascience.com/7-ways-to-load-external-data-into-google-colab-7ba73e7d5fc7)."
      ],
      "metadata": {
        "id": "dZX0TppG5IPa"
      }
    },
    {
      "cell_type": "code",
      "source": [],
      "metadata": {
        "id": "ph_ZVgLx7gVc"
      },
      "execution_count": null,
      "outputs": []
    },
    {
      "cell_type": "markdown",
      "metadata": {
        "id": "9fpG9wnlFHDb"
      },
      "source": [
        "### Transferring dataset from Google to Colab\n",
        "Go to your profile on Kaggle, then ```Account --> Create New API Token``` (you do not have to do every time you run your notebook). The result will be a file called ```kaggle.json```, which you save on your machine. Next, we upload this file to Google Colab as follows:"
      ]
    },
    {
      "cell_type": "code",
      "source": [
        "from google.colab import files\n",
        "\n",
        "uploaded = files.upload()"
      ],
      "metadata": {
        "colab": {
          "base_uri": "https://localhost:8080/",
          "height": 73
        },
        "id": "WDFBCfveFJ9E",
        "outputId": "1a7b920a-45b0-4109-f961-07391fc52a2d"
      },
      "execution_count": 1,
      "outputs": [
        {
          "output_type": "display_data",
          "data": {
            "text/plain": [
              "<IPython.core.display.HTML object>"
            ],
            "text/html": [
              "\n",
              "     <input type=\"file\" id=\"files-efb6df29-a5e5-4949-a20d-a0c599872e83\" name=\"files[]\" multiple disabled\n",
              "        style=\"border:none\" />\n",
              "     <output id=\"result-efb6df29-a5e5-4949-a20d-a0c599872e83\">\n",
              "      Upload widget is only available when the cell has been executed in the\n",
              "      current browser session. Please rerun this cell to enable.\n",
              "      </output>\n",
              "      <script>// Copyright 2017 Google LLC\n",
              "//\n",
              "// Licensed under the Apache License, Version 2.0 (the \"License\");\n",
              "// you may not use this file except in compliance with the License.\n",
              "// You may obtain a copy of the License at\n",
              "//\n",
              "//      http://www.apache.org/licenses/LICENSE-2.0\n",
              "//\n",
              "// Unless required by applicable law or agreed to in writing, software\n",
              "// distributed under the License is distributed on an \"AS IS\" BASIS,\n",
              "// WITHOUT WARRANTIES OR CONDITIONS OF ANY KIND, either express or implied.\n",
              "// See the License for the specific language governing permissions and\n",
              "// limitations under the License.\n",
              "\n",
              "/**\n",
              " * @fileoverview Helpers for google.colab Python module.\n",
              " */\n",
              "(function(scope) {\n",
              "function span(text, styleAttributes = {}) {\n",
              "  const element = document.createElement('span');\n",
              "  element.textContent = text;\n",
              "  for (const key of Object.keys(styleAttributes)) {\n",
              "    element.style[key] = styleAttributes[key];\n",
              "  }\n",
              "  return element;\n",
              "}\n",
              "\n",
              "// Max number of bytes which will be uploaded at a time.\n",
              "const MAX_PAYLOAD_SIZE = 100 * 1024;\n",
              "\n",
              "function _uploadFiles(inputId, outputId) {\n",
              "  const steps = uploadFilesStep(inputId, outputId);\n",
              "  const outputElement = document.getElementById(outputId);\n",
              "  // Cache steps on the outputElement to make it available for the next call\n",
              "  // to uploadFilesContinue from Python.\n",
              "  outputElement.steps = steps;\n",
              "\n",
              "  return _uploadFilesContinue(outputId);\n",
              "}\n",
              "\n",
              "// This is roughly an async generator (not supported in the browser yet),\n",
              "// where there are multiple asynchronous steps and the Python side is going\n",
              "// to poll for completion of each step.\n",
              "// This uses a Promise to block the python side on completion of each step,\n",
              "// then passes the result of the previous step as the input to the next step.\n",
              "function _uploadFilesContinue(outputId) {\n",
              "  const outputElement = document.getElementById(outputId);\n",
              "  const steps = outputElement.steps;\n",
              "\n",
              "  const next = steps.next(outputElement.lastPromiseValue);\n",
              "  return Promise.resolve(next.value.promise).then((value) => {\n",
              "    // Cache the last promise value to make it available to the next\n",
              "    // step of the generator.\n",
              "    outputElement.lastPromiseValue = value;\n",
              "    return next.value.response;\n",
              "  });\n",
              "}\n",
              "\n",
              "/**\n",
              " * Generator function which is called between each async step of the upload\n",
              " * process.\n",
              " * @param {string} inputId Element ID of the input file picker element.\n",
              " * @param {string} outputId Element ID of the output display.\n",
              " * @return {!Iterable<!Object>} Iterable of next steps.\n",
              " */\n",
              "function* uploadFilesStep(inputId, outputId) {\n",
              "  const inputElement = document.getElementById(inputId);\n",
              "  inputElement.disabled = false;\n",
              "\n",
              "  const outputElement = document.getElementById(outputId);\n",
              "  outputElement.innerHTML = '';\n",
              "\n",
              "  const pickedPromise = new Promise((resolve) => {\n",
              "    inputElement.addEventListener('change', (e) => {\n",
              "      resolve(e.target.files);\n",
              "    });\n",
              "  });\n",
              "\n",
              "  const cancel = document.createElement('button');\n",
              "  inputElement.parentElement.appendChild(cancel);\n",
              "  cancel.textContent = 'Cancel upload';\n",
              "  const cancelPromise = new Promise((resolve) => {\n",
              "    cancel.onclick = () => {\n",
              "      resolve(null);\n",
              "    };\n",
              "  });\n",
              "\n",
              "  // Wait for the user to pick the files.\n",
              "  const files = yield {\n",
              "    promise: Promise.race([pickedPromise, cancelPromise]),\n",
              "    response: {\n",
              "      action: 'starting',\n",
              "    }\n",
              "  };\n",
              "\n",
              "  cancel.remove();\n",
              "\n",
              "  // Disable the input element since further picks are not allowed.\n",
              "  inputElement.disabled = true;\n",
              "\n",
              "  if (!files) {\n",
              "    return {\n",
              "      response: {\n",
              "        action: 'complete',\n",
              "      }\n",
              "    };\n",
              "  }\n",
              "\n",
              "  for (const file of files) {\n",
              "    const li = document.createElement('li');\n",
              "    li.append(span(file.name, {fontWeight: 'bold'}));\n",
              "    li.append(span(\n",
              "        `(${file.type || 'n/a'}) - ${file.size} bytes, ` +\n",
              "        `last modified: ${\n",
              "            file.lastModifiedDate ? file.lastModifiedDate.toLocaleDateString() :\n",
              "                                    'n/a'} - `));\n",
              "    const percent = span('0% done');\n",
              "    li.appendChild(percent);\n",
              "\n",
              "    outputElement.appendChild(li);\n",
              "\n",
              "    const fileDataPromise = new Promise((resolve) => {\n",
              "      const reader = new FileReader();\n",
              "      reader.onload = (e) => {\n",
              "        resolve(e.target.result);\n",
              "      };\n",
              "      reader.readAsArrayBuffer(file);\n",
              "    });\n",
              "    // Wait for the data to be ready.\n",
              "    let fileData = yield {\n",
              "      promise: fileDataPromise,\n",
              "      response: {\n",
              "        action: 'continue',\n",
              "      }\n",
              "    };\n",
              "\n",
              "    // Use a chunked sending to avoid message size limits. See b/62115660.\n",
              "    let position = 0;\n",
              "    do {\n",
              "      const length = Math.min(fileData.byteLength - position, MAX_PAYLOAD_SIZE);\n",
              "      const chunk = new Uint8Array(fileData, position, length);\n",
              "      position += length;\n",
              "\n",
              "      const base64 = btoa(String.fromCharCode.apply(null, chunk));\n",
              "      yield {\n",
              "        response: {\n",
              "          action: 'append',\n",
              "          file: file.name,\n",
              "          data: base64,\n",
              "        },\n",
              "      };\n",
              "\n",
              "      let percentDone = fileData.byteLength === 0 ?\n",
              "          100 :\n",
              "          Math.round((position / fileData.byteLength) * 100);\n",
              "      percent.textContent = `${percentDone}% done`;\n",
              "\n",
              "    } while (position < fileData.byteLength);\n",
              "  }\n",
              "\n",
              "  // All done.\n",
              "  yield {\n",
              "    response: {\n",
              "      action: 'complete',\n",
              "    }\n",
              "  };\n",
              "}\n",
              "\n",
              "scope.google = scope.google || {};\n",
              "scope.google.colab = scope.google.colab || {};\n",
              "scope.google.colab._files = {\n",
              "  _uploadFiles,\n",
              "  _uploadFilesContinue,\n",
              "};\n",
              "})(self);\n",
              "</script> "
            ]
          },
          "metadata": {}
        },
        {
          "output_type": "stream",
          "name": "stdout",
          "text": [
            "Saving kaggle.json to kaggle (1).json\n"
          ]
        }
      ]
    },
    {
      "cell_type": "code",
      "source": [],
      "metadata": {
        "id": "qAXZiOWe5PQw"
      },
      "execution_count": null,
      "outputs": []
    },
    {
      "cell_type": "markdown",
      "source": [
        "We next specify the above directory as the one to upload the Kaggle dataset to:"
      ],
      "metadata": {
        "id": "1gva-K-KMMOo"
      }
    },
    {
      "cell_type": "code",
      "source": [
        "import os\n",
        "os.environ['KAGGLE_CONFIG_DIR'] = \"/content\""
      ],
      "metadata": {
        "id": "Fyhf0yW9RTNJ",
        "ExecuteTime": {
          "end_time": "2023-11-14T15:17:43.187814400Z",
          "start_time": "2023-11-14T15:17:43.156520700Z"
        }
      },
      "execution_count": 2,
      "outputs": []
    },
    {
      "cell_type": "markdown",
      "source": [
        "Next, we need to upload the dataset, issuing the necessary shell command. To do this, we can let Kaggle generate the right command for us. This is done from the Kaggle competion's Web page, in the top-right menu, clicking on the dots and then selecting ```Copy API Command``` as shown in the picture below:\n",
        "\n",
        "![Fig1.png](data:image/png;base64,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)"
      ],
      "metadata": {
        "id": "1BSNVBmRMnAU"
      }
    },
    {
      "cell_type": "markdown",
      "source": [
        "The copy-pasted command is the one shown below:"
      ],
      "metadata": {
        "id": "Et0s4k1IN7z1"
      }
    },
    {
      "cell_type": "code",
      "source": [
        "!kaggle datasets download -d snap/amazon-fine-food-reviews"
      ],
      "metadata": {
        "colab": {
          "base_uri": "https://localhost:8080/"
        },
        "id": "P9bljXyiRnPL",
        "outputId": "a12c99ac-f3aa-43cc-f31d-c68d5ec7361b",
        "ExecuteTime": {
          "end_time": "2023-11-14T15:10:04.715945300Z",
          "start_time": "2023-11-14T15:08:31.126232300Z"
        }
      },
      "execution_count": 3,
      "outputs": [
        {
          "output_type": "stream",
          "name": "stdout",
          "text": [
            "amazon-fine-food-reviews.zip: Skipping, found more recently modified local copy (use --force to force download)\n"
          ]
        }
      ]
    },
    {
      "cell_type": "code",
      "source": [
        "!chmod 600 /content/kaggle.json"
      ],
      "metadata": {
        "id": "30CgybvgXm1p"
      },
      "execution_count": 4,
      "outputs": []
    },
    {
      "cell_type": "markdown",
      "source": [
        "We next check that everything is there:"
      ],
      "metadata": {
        "id": "WYbgI1ucSL-Q"
      }
    },
    {
      "cell_type": "code",
      "source": [
        "!ls"
      ],
      "metadata": {
        "colab": {
          "base_uri": "https://localhost:8080/"
        },
        "id": "OuPVThsHQSQg",
        "outputId": "5fccbf4d-1c31-452e-912d-3f46bf0c4dba"
      },
      "execution_count": 5,
      "outputs": [
        {
          "output_type": "stream",
          "name": "stdout",
          "text": [
            "amazon-fine-food-reviews.zip  kaggle.json  sample_data\n"
          ]
        }
      ]
    },
    {
      "cell_type": "markdown",
      "source": [
        "We now extract the files from the zipper archive. To this purpose, we use Python zipfile utility package:"
      ],
      "metadata": {
        "id": "ZdCryH7aSUKG"
      }
    },
    {
      "cell_type": "code",
      "source": [
        "from zipfile import ZipFile\n",
        "from pathlib import Path"
      ],
      "metadata": {
        "id": "ohKzn4VdSalc",
        "ExecuteTime": {
          "end_time": "2023-11-14T15:11:04.422390Z",
          "start_time": "2023-11-14T15:11:04.391046200Z"
        }
      },
      "execution_count": 4,
      "outputs": []
    },
    {
      "cell_type": "code",
      "source": [
        "# Create a ZipFile Object and load sample.zip in it\n",
        "with ZipFile('amazon-fine-food-reviews.zip', 'r') as zipObj:\n",
        "    Path(\"./data\").mkdir(exist_ok=True, parents=True)\n",
        "   # Extract all the contents of zip file in current directory\n",
        "    zipObj.extractall(\"./data\")"
      ],
      "metadata": {
        "id": "xxvYTKkaS7gJ",
        "ExecuteTime": {
          "end_time": "2023-11-14T15:11:34.920100200Z",
          "start_time": "2023-11-14T15:11:16.647911700Z"
        }
      },
      "execution_count": 5,
      "outputs": []
    },
    {
      "cell_type": "markdown",
      "source": [
        "Let's check what files are there (we are looking for ```Reviews.csv```)"
      ],
      "metadata": {
        "id": "qhp1WWg-SqeQ"
      }
    },
    {
      "cell_type": "code",
      "source": [
        "!ls data"
      ],
      "metadata": {
        "colab": {
          "base_uri": "https://localhost:8080/"
        },
        "id": "sW7F3_W3SyY6",
        "outputId": "1bc4dd80-4daa-490a-8d48-34d6e5bb915d",
        "ExecuteTime": {
          "end_time": "2023-11-14T15:11:45.242487400Z",
          "start_time": "2023-11-14T15:11:44.202937900Z"
        }
      },
      "execution_count": 8,
      "outputs": [
        {
          "output_type": "stream",
          "name": "stdout",
          "text": [
            "database.sqlite  hashes.txt  Reviews.csv\n"
          ]
        }
      ]
    },
    {
      "cell_type": "markdown",
      "source": [
        "There it is. Let us just perform a check that the file looks like it is supposed to be, by having a glance at the first 10 lines:"
      ],
      "metadata": {
        "id": "QMNo1hbRS09-"
      }
    },
    {
      "cell_type": "code",
      "source": [
        "!head -10 data/Reviews.csv"
      ],
      "metadata": {
        "id": "qpLCBLwoV8jo",
        "colab": {
          "base_uri": "https://localhost:8080/"
        },
        "outputId": "1b9280f5-2de4-4a8e-a879-37dd67ceee9d",
        "ExecuteTime": {
          "end_time": "2023-11-14T15:12:04.668485200Z",
          "start_time": "2023-11-14T15:11:59.149880400Z"
        }
      },
      "execution_count": 6,
      "outputs": [
        {
          "output_type": "stream",
          "name": "stdout",
          "text": [
            "Id,ProductId,UserId,ProfileName,HelpfulnessNumerator,HelpfulnessDenominator,Score,Time,Summary,Text\n",
            "1,B001E4KFG0,A3SGXH7AUHU8GW,delmartian,1,1,5,1303862400,Good Quality Dog Food,I have bought several of the Vitality canned dog food products and have found them all to be of good quality. The product looks more like a stew than a processed meat and it smells better. My Labrador is finicky and she appreciates this product better than  most.\n",
            "2,B00813GRG4,A1D87F6ZCVE5NK,dll pa,0,0,1,1346976000,Not as Advertised,\"Product arrived labeled as Jumbo Salted Peanuts...the peanuts were actually small sized unsalted. Not sure if this was an error or if the vendor intended to represent the product as \"\"Jumbo\"\".\"\n",
            "3,B000LQOCH0,ABXLMWJIXXAIN,\"Natalia Corres \"\"Natalia Corres\"\"\",1,1,4,1219017600,\"\"\"Delight\"\" says it all\",\"This is a confection that has been around a few centuries.  It is a light, pillowy citrus gelatin with nuts - in this case Filberts. And it is cut into tiny squares and then liberally coated with powdered sugar.  And it is a tiny mouthful of heaven.  Not too chewy, and very flavorful.  I highly recommend this yummy treat.  If you are familiar with the story of C.S. Lewis' \"\"The Lion, The Witch, and The Wardrobe\"\" - this is the treat that seduces Edmund into selling out his Brother and Sisters to the Witch.\"\n",
            "4,B000UA0QIQ,A395BORC6FGVXV,Karl,3,3,2,1307923200,Cough Medicine,If you are looking for the secret ingredient in Robitussin I believe I have found it.  I got this in addition to the Root Beer Extract I ordered (which was good) and made some cherry soda.  The flavor is very medicinal.\n",
            "5,B006K2ZZ7K,A1UQRSCLF8GW1T,\"Michael D. Bigham \"\"M. Wassir\"\"\",0,0,5,1350777600,Great taffy,\"Great taffy at a great price.  There was a wide assortment of yummy taffy.  Delivery was very quick.  If your a taffy lover, this is a deal.\"\n",
            "6,B006K2ZZ7K,ADT0SRK1MGOEU,Twoapennything,0,0,4,1342051200,Nice Taffy,\"I got a wild hair for taffy and ordered this five pound bag. The taffy was all very enjoyable with many flavors: watermelon, root beer, melon, peppermint, grape, etc. My only complaint is there was a bit too much red/black licorice-flavored pieces (just not my particular favorites). Between me, my kids, and my husband, this lasted only two weeks! I would recommend this brand of taffy -- it was a delightful treat.\"\n",
            "7,B006K2ZZ7K,A1SP2KVKFXXRU1,David C. Sullivan,0,0,5,1340150400,Great!  Just as good as the expensive brands!,\"This saltwater taffy had great flavors and was very soft and chewy.  Each candy was individually wrapped well.  None of the candies were stuck together, which did happen in the expensive version, Fralinger's.  Would highly recommend this candy!  I served it at a beach-themed party and everyone loved it!\"\n",
            "8,B006K2ZZ7K,A3JRGQVEQN31IQ,Pamela G. Williams,0,0,5,1336003200,\"Wonderful, tasty taffy\",This taffy is so good.  It is very soft and chewy.  The flavors are amazing.  I would definitely recommend you buying it.  Very satisfying!!\n",
            "9,B000E7L2R4,A1MZYO9TZK0BBI,R. James,1,1,5,1322006400,Yay Barley,Right now I'm mostly just sprouting this so my cats can eat the grass. They love it. I rotate it around with Wheatgrass and Rye too\n"
          ]
        }
      ]
    },
    {
      "cell_type": "markdown",
      "source": [
        "Keeping roughly $10\\%$ of the users for testing purposes. We will see why doing this is reasonable further in the course. For now, try to understand how ```sample_users``` works and why it does the job."
      ],
      "metadata": {
        "id": "dFUNyY6GWbv5"
      }
    },
    {
      "cell_type": "markdown",
      "source": [
        "#### Load the Reviews file.\n",
        "As a first step, we load the `Reviews.csv` file."
      ],
      "metadata": {
        "collapsed": false,
        "id": "CYHPvG_RkOF-"
      }
    },
    {
      "cell_type": "code",
      "source": [
        "import pandas as pd\n",
        "raw_pd = pd.read_csv(\"data/Reviews.csv\", index_col=0)"
      ],
      "metadata": {
        "id": "0wDK4pVZXbVj",
        "ExecuteTime": {
          "end_time": "2023-11-14T15:18:38.536998500Z",
          "start_time": "2023-11-14T15:18:16.277515900Z"
        }
      },
      "execution_count": 7,
      "outputs": []
    },
    {
      "cell_type": "code",
      "source": [
        "raw_pd"
      ],
      "metadata": {
        "colab": {
          "base_uri": "https://localhost:8080/",
          "height": 455
        },
        "id": "pizS5guCnDk4",
        "outputId": "80ba5080-c8b4-416b-cbe1-051ecd0bd512"
      },
      "execution_count": 8,
      "outputs": [
        {
          "output_type": "execute_result",
          "data": {
            "text/plain": [
              "         ProductId          UserId                      ProfileName  \\\n",
              "Id                                                                    \n",
              "1       B001E4KFG0  A3SGXH7AUHU8GW                       delmartian   \n",
              "2       B00813GRG4  A1D87F6ZCVE5NK                           dll pa   \n",
              "3       B000LQOCH0   ABXLMWJIXXAIN  Natalia Corres \"Natalia Corres\"   \n",
              "4       B000UA0QIQ  A395BORC6FGVXV                             Karl   \n",
              "5       B006K2ZZ7K  A1UQRSCLF8GW1T    Michael D. Bigham \"M. Wassir\"   \n",
              "...            ...             ...                              ...   \n",
              "568450  B001EO7N10  A28KG5XORO54AY                 Lettie D. Carter   \n",
              "568451  B003S1WTCU  A3I8AFVPEE8KI5                        R. Sawyer   \n",
              "568452  B004I613EE  A121AA1GQV751Z                    pksd \"pk_007\"   \n",
              "568453  B004I613EE   A3IBEVCTXKNOH          Kathy A. Welch \"katwel\"   \n",
              "568454  B001LR2CU2  A3LGQPJCZVL9UC                         srfell17   \n",
              "\n",
              "        HelpfulnessNumerator  HelpfulnessDenominator  Score        Time  \\\n",
              "Id                                                                        \n",
              "1                          1                       1      5  1303862400   \n",
              "2                          0                       0      1  1346976000   \n",
              "3                          1                       1      4  1219017600   \n",
              "4                          3                       3      2  1307923200   \n",
              "5                          0                       0      5  1350777600   \n",
              "...                      ...                     ...    ...         ...   \n",
              "568450                     0                       0      5  1299628800   \n",
              "568451                     0                       0      2  1331251200   \n",
              "568452                     2                       2      5  1329782400   \n",
              "568453                     1                       1      5  1331596800   \n",
              "568454                     0                       0      5  1338422400   \n",
              "\n",
              "                                   Summary  \\\n",
              "Id                                           \n",
              "1                    Good Quality Dog Food   \n",
              "2                        Not as Advertised   \n",
              "3                    \"Delight\" says it all   \n",
              "4                           Cough Medicine   \n",
              "5                              Great taffy   \n",
              "...                                    ...   \n",
              "568450                 Will not do without   \n",
              "568451                        disappointed   \n",
              "568452            Perfect for our maltipoo   \n",
              "568453  Favorite Training and reward treat   \n",
              "568454                         Great Honey   \n",
              "\n",
              "                                                     Text  \n",
              "Id                                                         \n",
              "1       I have bought several of the Vitality canned d...  \n",
              "2       Product arrived labeled as Jumbo Salted Peanut...  \n",
              "3       This is a confection that has been around a fe...  \n",
              "4       If you are looking for the secret ingredient i...  \n",
              "5       Great taffy at a great price.  There was a wid...  \n",
              "...                                                   ...  \n",
              "568450  Great for sesame chicken..this is a good if no...  \n",
              "568451  I'm disappointed with the flavor. The chocolat...  \n",
              "568452  These stars are small, so you can give 10-15 o...  \n",
              "568453  These are the BEST treats for training and rew...  \n",
              "568454  I am very satisfied ,product is as advertised,...  \n",
              "\n",
              "[568454 rows x 9 columns]"
            ],
            "text/html": [
              "\n",
              "  <div id=\"df-60791cb1-4038-4b14-b652-9d4dd330e535\" class=\"colab-df-container\">\n",
              "    <div>\n",
              "<style scoped>\n",
              "    .dataframe tbody tr th:only-of-type {\n",
              "        vertical-align: middle;\n",
              "    }\n",
              "\n",
              "    .dataframe tbody tr th {\n",
              "        vertical-align: top;\n",
              "    }\n",
              "\n",
              "    .dataframe thead th {\n",
              "        text-align: right;\n",
              "    }\n",
              "</style>\n",
              "<table border=\"1\" class=\"dataframe\">\n",
              "  <thead>\n",
              "    <tr style=\"text-align: right;\">\n",
              "      <th></th>\n",
              "      <th>ProductId</th>\n",
              "      <th>UserId</th>\n",
              "      <th>ProfileName</th>\n",
              "      <th>HelpfulnessNumerator</th>\n",
              "      <th>HelpfulnessDenominator</th>\n",
              "      <th>Score</th>\n",
              "      <th>Time</th>\n",
              "      <th>Summary</th>\n",
              "      <th>Text</th>\n",
              "    </tr>\n",
              "    <tr>\n",
              "      <th>Id</th>\n",
              "      <th></th>\n",
              "      <th></th>\n",
              "      <th></th>\n",
              "      <th></th>\n",
              "      <th></th>\n",
              "      <th></th>\n",
              "      <th></th>\n",
              "      <th></th>\n",
              "      <th></th>\n",
              "    </tr>\n",
              "  </thead>\n",
              "  <tbody>\n",
              "    <tr>\n",
              "      <th>1</th>\n",
              "      <td>B001E4KFG0</td>\n",
              "      <td>A3SGXH7AUHU8GW</td>\n",
              "      <td>delmartian</td>\n",
              "      <td>1</td>\n",
              "      <td>1</td>\n",
              "      <td>5</td>\n",
              "      <td>1303862400</td>\n",
              "      <td>Good Quality Dog Food</td>\n",
              "      <td>I have bought several of the Vitality canned d...</td>\n",
              "    </tr>\n",
              "    <tr>\n",
              "      <th>2</th>\n",
              "      <td>B00813GRG4</td>\n",
              "      <td>A1D87F6ZCVE5NK</td>\n",
              "      <td>dll pa</td>\n",
              "      <td>0</td>\n",
              "      <td>0</td>\n",
              "      <td>1</td>\n",
              "      <td>1346976000</td>\n",
              "      <td>Not as Advertised</td>\n",
              "      <td>Product arrived labeled as Jumbo Salted Peanut...</td>\n",
              "    </tr>\n",
              "    <tr>\n",
              "      <th>3</th>\n",
              "      <td>B000LQOCH0</td>\n",
              "      <td>ABXLMWJIXXAIN</td>\n",
              "      <td>Natalia Corres \"Natalia Corres\"</td>\n",
              "      <td>1</td>\n",
              "      <td>1</td>\n",
              "      <td>4</td>\n",
              "      <td>1219017600</td>\n",
              "      <td>\"Delight\" says it all</td>\n",
              "      <td>This is a confection that has been around a fe...</td>\n",
              "    </tr>\n",
              "    <tr>\n",
              "      <th>4</th>\n",
              "      <td>B000UA0QIQ</td>\n",
              "      <td>A395BORC6FGVXV</td>\n",
              "      <td>Karl</td>\n",
              "      <td>3</td>\n",
              "      <td>3</td>\n",
              "      <td>2</td>\n",
              "      <td>1307923200</td>\n",
              "      <td>Cough Medicine</td>\n",
              "      <td>If you are looking for the secret ingredient i...</td>\n",
              "    </tr>\n",
              "    <tr>\n",
              "      <th>5</th>\n",
              "      <td>B006K2ZZ7K</td>\n",
              "      <td>A1UQRSCLF8GW1T</td>\n",
              "      <td>Michael D. Bigham \"M. Wassir\"</td>\n",
              "      <td>0</td>\n",
              "      <td>0</td>\n",
              "      <td>5</td>\n",
              "      <td>1350777600</td>\n",
              "      <td>Great taffy</td>\n",
              "      <td>Great taffy at a great price.  There was a wid...</td>\n",
              "    </tr>\n",
              "    <tr>\n",
              "      <th>...</th>\n",
              "      <td>...</td>\n",
              "      <td>...</td>\n",
              "      <td>...</td>\n",
              "      <td>...</td>\n",
              "      <td>...</td>\n",
              "      <td>...</td>\n",
              "      <td>...</td>\n",
              "      <td>...</td>\n",
              "      <td>...</td>\n",
              "    </tr>\n",
              "    <tr>\n",
              "      <th>568450</th>\n",
              "      <td>B001EO7N10</td>\n",
              "      <td>A28KG5XORO54AY</td>\n",
              "      <td>Lettie D. Carter</td>\n",
              "      <td>0</td>\n",
              "      <td>0</td>\n",
              "      <td>5</td>\n",
              "      <td>1299628800</td>\n",
              "      <td>Will not do without</td>\n",
              "      <td>Great for sesame chicken..this is a good if no...</td>\n",
              "    </tr>\n",
              "    <tr>\n",
              "      <th>568451</th>\n",
              "      <td>B003S1WTCU</td>\n",
              "      <td>A3I8AFVPEE8KI5</td>\n",
              "      <td>R. Sawyer</td>\n",
              "      <td>0</td>\n",
              "      <td>0</td>\n",
              "      <td>2</td>\n",
              "      <td>1331251200</td>\n",
              "      <td>disappointed</td>\n",
              "      <td>I'm disappointed with the flavor. The chocolat...</td>\n",
              "    </tr>\n",
              "    <tr>\n",
              "      <th>568452</th>\n",
              "      <td>B004I613EE</td>\n",
              "      <td>A121AA1GQV751Z</td>\n",
              "      <td>pksd \"pk_007\"</td>\n",
              "      <td>2</td>\n",
              "      <td>2</td>\n",
              "      <td>5</td>\n",
              "      <td>1329782400</td>\n",
              "      <td>Perfect for our maltipoo</td>\n",
              "      <td>These stars are small, so you can give 10-15 o...</td>\n",
              "    </tr>\n",
              "    <tr>\n",
              "      <th>568453</th>\n",
              "      <td>B004I613EE</td>\n",
              "      <td>A3IBEVCTXKNOH</td>\n",
              "      <td>Kathy A. Welch \"katwel\"</td>\n",
              "      <td>1</td>\n",
              "      <td>1</td>\n",
              "      <td>5</td>\n",
              "      <td>1331596800</td>\n",
              "      <td>Favorite Training and reward treat</td>\n",
              "      <td>These are the BEST treats for training and rew...</td>\n",
              "    </tr>\n",
              "    <tr>\n",
              "      <th>568454</th>\n",
              "      <td>B001LR2CU2</td>\n",
              "      <td>A3LGQPJCZVL9UC</td>\n",
              "      <td>srfell17</td>\n",
              "      <td>0</td>\n",
              "      <td>0</td>\n",
              "      <td>5</td>\n",
              "      <td>1338422400</td>\n",
              "      <td>Great Honey</td>\n",
              "      <td>I am very satisfied ,product is as advertised,...</td>\n",
              "    </tr>\n",
              "  </tbody>\n",
              "</table>\n",
              "<p>568454 rows × 9 columns</p>\n",
              "</div>\n",
              "    <div class=\"colab-df-buttons\">\n",
              "\n",
              "  <div class=\"colab-df-container\">\n",
              "    <button class=\"colab-df-convert\" onclick=\"convertToInteractive('df-60791cb1-4038-4b14-b652-9d4dd330e535')\"\n",
              "            title=\"Convert this dataframe to an interactive table.\"\n",
              "            style=\"display:none;\">\n",
              "\n",
              "  <svg xmlns=\"http://www.w3.org/2000/svg\" height=\"24px\" viewBox=\"0 -960 960 960\">\n",
              "    <path d=\"M120-120v-720h720v720H120Zm60-500h600v-160H180v160Zm220 220h160v-160H400v160Zm0 220h160v-160H400v160ZM180-400h160v-160H180v160Zm440 0h160v-160H620v160ZM180-180h160v-160H180v160Zm440 0h160v-160H620v160Z\"/>\n",
              "  </svg>\n",
              "    </button>\n",
              "\n",
              "  <style>\n",
              "    .colab-df-container {\n",
              "      display:flex;\n",
              "      gap: 12px;\n",
              "    }\n",
              "\n",
              "    .colab-df-convert {\n",
              "      background-color: #E8F0FE;\n",
              "      border: none;\n",
              "      border-radius: 50%;\n",
              "      cursor: pointer;\n",
              "      display: none;\n",
              "      fill: #1967D2;\n",
              "      height: 32px;\n",
              "      padding: 0 0 0 0;\n",
              "      width: 32px;\n",
              "    }\n",
              "\n",
              "    .colab-df-convert:hover {\n",
              "      background-color: #E2EBFA;\n",
              "      box-shadow: 0px 1px 2px rgba(60, 64, 67, 0.3), 0px 1px 3px 1px rgba(60, 64, 67, 0.15);\n",
              "      fill: #174EA6;\n",
              "    }\n",
              "\n",
              "    .colab-df-buttons div {\n",
              "      margin-bottom: 4px;\n",
              "    }\n",
              "\n",
              "    [theme=dark] .colab-df-convert {\n",
              "      background-color: #3B4455;\n",
              "      fill: #D2E3FC;\n",
              "    }\n",
              "\n",
              "    [theme=dark] .colab-df-convert:hover {\n",
              "      background-color: #434B5C;\n",
              "      box-shadow: 0px 1px 3px 1px rgba(0, 0, 0, 0.15);\n",
              "      filter: drop-shadow(0px 1px 2px rgba(0, 0, 0, 0.3));\n",
              "      fill: #FFFFFF;\n",
              "    }\n",
              "  </style>\n",
              "\n",
              "    <script>\n",
              "      const buttonEl =\n",
              "        document.querySelector('#df-60791cb1-4038-4b14-b652-9d4dd330e535 button.colab-df-convert');\n",
              "      buttonEl.style.display =\n",
              "        google.colab.kernel.accessAllowed ? 'block' : 'none';\n",
              "\n",
              "      async function convertToInteractive(key) {\n",
              "        const element = document.querySelector('#df-60791cb1-4038-4b14-b652-9d4dd330e535');\n",
              "        const dataTable =\n",
              "          await google.colab.kernel.invokeFunction('convertToInteractive',\n",
              "                                                    [key], {});\n",
              "        if (!dataTable) return;\n",
              "\n",
              "        const docLinkHtml = 'Like what you see? Visit the ' +\n",
              "          '<a target=\"_blank\" href=https://colab.research.google.com/notebooks/data_table.ipynb>data table notebook</a>'\n",
              "          + ' to learn more about interactive tables.';\n",
              "        element.innerHTML = '';\n",
              "        dataTable['output_type'] = 'display_data';\n",
              "        await google.colab.output.renderOutput(dataTable, element);\n",
              "        const docLink = document.createElement('div');\n",
              "        docLink.innerHTML = docLinkHtml;\n",
              "        element.appendChild(docLink);\n",
              "      }\n",
              "    </script>\n",
              "  </div>\n",
              "\n",
              "\n",
              "<div id=\"df-de89f5bb-5ffe-4984-aa3c-cebcddcb45f1\">\n",
              "  <button class=\"colab-df-quickchart\" onclick=\"quickchart('df-de89f5bb-5ffe-4984-aa3c-cebcddcb45f1')\"\n",
              "            title=\"Suggest charts\"\n",
              "            style=\"display:none;\">\n",
              "\n",
              "<svg xmlns=\"http://www.w3.org/2000/svg\" height=\"24px\"viewBox=\"0 0 24 24\"\n",
              "     width=\"24px\">\n",
              "    <g>\n",
              "        <path d=\"M19 3H5c-1.1 0-2 .9-2 2v14c0 1.1.9 2 2 2h14c1.1 0 2-.9 2-2V5c0-1.1-.9-2-2-2zM9 17H7v-7h2v7zm4 0h-2V7h2v10zm4 0h-2v-4h2v4z\"/>\n",
              "    </g>\n",
              "</svg>\n",
              "  </button>\n",
              "\n",
              "<style>\n",
              "  .colab-df-quickchart {\n",
              "      --bg-color: #E8F0FE;\n",
              "      --fill-color: #1967D2;\n",
              "      --hover-bg-color: #E2EBFA;\n",
              "      --hover-fill-color: #174EA6;\n",
              "      --disabled-fill-color: #AAA;\n",
              "      --disabled-bg-color: #DDD;\n",
              "  }\n",
              "\n",
              "  [theme=dark] .colab-df-quickchart {\n",
              "      --bg-color: #3B4455;\n",
              "      --fill-color: #D2E3FC;\n",
              "      --hover-bg-color: #434B5C;\n",
              "      --hover-fill-color: #FFFFFF;\n",
              "      --disabled-bg-color: #3B4455;\n",
              "      --disabled-fill-color: #666;\n",
              "  }\n",
              "\n",
              "  .colab-df-quickchart {\n",
              "    background-color: var(--bg-color);\n",
              "    border: none;\n",
              "    border-radius: 50%;\n",
              "    cursor: pointer;\n",
              "    display: none;\n",
              "    fill: var(--fill-color);\n",
              "    height: 32px;\n",
              "    padding: 0;\n",
              "    width: 32px;\n",
              "  }\n",
              "\n",
              "  .colab-df-quickchart:hover {\n",
              "    background-color: var(--hover-bg-color);\n",
              "    box-shadow: 0 1px 2px rgba(60, 64, 67, 0.3), 0 1px 3px 1px rgba(60, 64, 67, 0.15);\n",
              "    fill: var(--button-hover-fill-color);\n",
              "  }\n",
              "\n",
              "  .colab-df-quickchart-complete:disabled,\n",
              "  .colab-df-quickchart-complete:disabled:hover {\n",
              "    background-color: var(--disabled-bg-color);\n",
              "    fill: var(--disabled-fill-color);\n",
              "    box-shadow: none;\n",
              "  }\n",
              "\n",
              "  .colab-df-spinner {\n",
              "    border: 2px solid var(--fill-color);\n",
              "    border-color: transparent;\n",
              "    border-bottom-color: var(--fill-color);\n",
              "    animation:\n",
              "      spin 1s steps(1) infinite;\n",
              "  }\n",
              "\n",
              "  @keyframes spin {\n",
              "    0% {\n",
              "      border-color: transparent;\n",
              "      border-bottom-color: var(--fill-color);\n",
              "      border-left-color: var(--fill-color);\n",
              "    }\n",
              "    20% {\n",
              "      border-color: transparent;\n",
              "      border-left-color: var(--fill-color);\n",
              "      border-top-color: var(--fill-color);\n",
              "    }\n",
              "    30% {\n",
              "      border-color: transparent;\n",
              "      border-left-color: var(--fill-color);\n",
              "      border-top-color: var(--fill-color);\n",
              "      border-right-color: var(--fill-color);\n",
              "    }\n",
              "    40% {\n",
              "      border-color: transparent;\n",
              "      border-right-color: var(--fill-color);\n",
              "      border-top-color: var(--fill-color);\n",
              "    }\n",
              "    60% {\n",
              "      border-color: transparent;\n",
              "      border-right-color: var(--fill-color);\n",
              "    }\n",
              "    80% {\n",
              "      border-color: transparent;\n",
              "      border-right-color: var(--fill-color);\n",
              "      border-bottom-color: var(--fill-color);\n",
              "    }\n",
              "    90% {\n",
              "      border-color: transparent;\n",
              "      border-bottom-color: var(--fill-color);\n",
              "    }\n",
              "  }\n",
              "</style>\n",
              "\n",
              "  <script>\n",
              "    async function quickchart(key) {\n",
              "      const quickchartButtonEl =\n",
              "        document.querySelector('#' + key + ' button');\n",
              "      quickchartButtonEl.disabled = true;  // To prevent multiple clicks.\n",
              "      quickchartButtonEl.classList.add('colab-df-spinner');\n",
              "      try {\n",
              "        const charts = await google.colab.kernel.invokeFunction(\n",
              "            'suggestCharts', [key], {});\n",
              "      } catch (error) {\n",
              "        console.error('Error during call to suggestCharts:', error);\n",
              "      }\n",
              "      quickchartButtonEl.classList.remove('colab-df-spinner');\n",
              "      quickchartButtonEl.classList.add('colab-df-quickchart-complete');\n",
              "    }\n",
              "    (() => {\n",
              "      let quickchartButtonEl =\n",
              "        document.querySelector('#df-de89f5bb-5ffe-4984-aa3c-cebcddcb45f1 button');\n",
              "      quickchartButtonEl.style.display =\n",
              "        google.colab.kernel.accessAllowed ? 'block' : 'none';\n",
              "    })();\n",
              "  </script>\n",
              "</div>\n",
              "    </div>\n",
              "  </div>\n"
            ]
          },
          "metadata": {},
          "execution_count": 8
        }
      ]
    },
    {
      "cell_type": "markdown",
      "source": [
        "We write the **product ID** and **user ID** of the sampled rows to the provided `fout` file, with columns separated by comma `,`. We only save these two columns because for the co-review graph, we need to know which users reviewed which products."
      ],
      "metadata": {
        "collapsed": false,
        "id": "mGe1WbixkOF_"
      }
    },
    {
      "cell_type": "code",
      "source": [
        "# Given a Pandas frame raw_pd, save lines corresponding to approximately 10% of the users to file fout\n",
        "# Note that all lines corresponding to sampled users are saved to fout\n",
        "\n",
        "def sample_users(raw_pd, rate, buckets, fout):\n",
        "    for index, row in raw_pd.iterrows():\n",
        "        if (hash(row[\"UserId\"])%buckets < rate):\n",
        "            row_str = \",\".join(map(str, [row[\"ProductId\"], row[\"UserId\"]]))\n",
        "            fout.write(row_str)\n",
        "            fout.write(\"\\n\")\n",
        "            # Save this line to fout\n",
        "            # You have to complete this part of the function's body\n",
        "\n",
        "\n",
        "sampled_file = \"data/Reviews_sampled.csv\"\n",
        "rate = 10 # 10% of users\n",
        "buckets = 100\n",
        "\n",
        "fout = open(sampled_file, \"w\")\n",
        "sample_users(raw_pd, rate, buckets, fout)\n",
        "fout.close()"
      ],
      "metadata": {
        "id": "f1L04Je1Pj9p",
        "ExecuteTime": {
          "end_time": "2023-11-14T15:20:20.910486200Z",
          "start_time": "2023-11-14T15:18:38.538997700Z"
        }
      },
      "execution_count": 12,
      "outputs": []
    },
    {
      "cell_type": "markdown",
      "source": [
        "As a next step, we will install `pyspark` to make use of the massive parallel computing by Spark."
      ],
      "metadata": {
        "id": "izPftdwha5_J"
      }
    },
    {
      "cell_type": "code",
      "source": [
        "!pip install pyspark --quiet"
      ],
      "metadata": {
        "id": "dAHkrlwomp_N"
      },
      "execution_count": 9,
      "outputs": []
    },
    {
      "cell_type": "markdown",
      "source": [
        "# Co-Review Graph\n",
        "In the following section, we will build the co-review graph. The co-review graph is a graph where **vertices** are Amazon users and **edges** between users mean that they have reviewed the same product.\n",
        "\n",
        "The adjacency list of the co-review graph would look something like so:\n",
        "\n",
        "```\n",
        "user1 user2\n",
        "user2 user3\n",
        "user1 user3\n",
        "... ...\n",
        "user500 user2\n",
        "```"
      ],
      "metadata": {
        "id": "Ii7f-4mqbHoR"
      }
    },
    {
      "cell_type": "markdown",
      "source": [
        "### 1. Setup Spark\n",
        "As a first step, we need to create a spark context and pass it the file with the **review graph**. The **review graph** is a graph where vertices are **users** and **products** with edges between the two if a user has reviewed a product. Below is an example of the adjacency list of the graph.\n",
        "\n",
        "```\n",
        "user1 product10\n",
        "user2 product2\n",
        "...\n",
        "user70 product 2\n",
        "```"
      ],
      "metadata": {
        "id": "7Kjh0xxSccCj"
      }
    },
    {
      "cell_type": "code",
      "source": [
        "full_reviews_path = \"data/full_reviews.csv\"\n",
        "full_reviews = raw_pd[[\"ProductId\", \"UserId\"]].to_csv(full_reviews_path, index=None)"
      ],
      "metadata": {
        "id": "mrybaAU4RKry"
      },
      "execution_count": 10,
      "outputs": []
    },
    {
      "cell_type": "code",
      "source": [
        "import pyspark\n",
        "from pyspark import SparkContext, SparkConf\n",
        "import operator\n",
        "\n",
        "sc = SparkContext(appName=\"co-review-graph\").getOrCreate()\n",
        "file_in = \"data/full_reviews.csv\"\n",
        "full_reviews = sc.textFile(file_in)"
      ],
      "metadata": {
        "id": "86KeRTWjmcMV"
      },
      "execution_count": 11,
      "outputs": []
    },
    {
      "cell_type": "code",
      "source": [
        "!ls data/"
      ],
      "metadata": {
        "id": "w-lxBceRQ-Cv",
        "outputId": "084d7e62-9e3f-4874-dbae-6e83677713f5",
        "colab": {
          "base_uri": "https://localhost:8080/"
        }
      },
      "execution_count": 48,
      "outputs": [
        {
          "output_type": "stream",
          "name": "stdout",
          "text": [
            "database.sqlite  file.txt  full_reviews.csv  hashes.txt  Reviews.csv  Reviews_sampled.csv\n"
          ]
        }
      ]
    },
    {
      "cell_type": "markdown",
      "source": [
        "### 2. Find Product Reviewers\n",
        "Having created the spark context, we can perform the initial step of the graph building procedure. For each product, we want to find **all** users that have reviewed a product. This will later enable us to find the common reviewed products among users. Essentially, we just want to find the **neighbours** of each **product** node $p$. Let $E$ be the edge set of the graph, then the neighbours are connected nodes.\n",
        "\n",
        "$$\n",
        "N(p) = \\{u ∣ (p,u) \\in E\\}\n",
        "$$\n",
        "\n",
        "I call the users that review a product, **product reviewers**. The `find_product_reviewers` function below maps each **product** to a list of **users** that have reviewed that product."
      ],
      "metadata": {
        "id": "rne1Rj0SdAaA"
      }
    },
    {
      "cell_type": "code",
      "source": [
        "def find_product_reviewers(data: pyspark.RDD):\n",
        "    \"\"\"For a product-user graph, for each product finds the users that have reviewed that product.\n",
        "\n",
        "    :arg\n",
        "        data (pyspark.RDD): the user-product graph, which consists of <productID>, <userID> tuples on each line.\n",
        "\n",
        "    :return\n",
        "        (pyspark.RDD): each product ID, mapped to a list of user IDs that have reviewed it. <productID>, [<user1>, <user2>,...]\n",
        "    \"\"\"\n",
        "    return data.map(lambda line: line.split(\",\")) \\\n",
        "                .map(lambda user_product: (user_product[0], [user_product[1]])) \\\n",
        "                .reduceByKey(operator.add)"
      ],
      "metadata": {
        "id": "P5h7DYMgeCox"
      },
      "execution_count": 12,
      "outputs": []
    },
    {
      "cell_type": "code",
      "source": [
        "product_reviewers = find_product_reviewers(full_reviews)"
      ],
      "metadata": {
        "id": "AzzO-CiKgEcw"
      },
      "execution_count": 13,
      "outputs": []
    },
    {
      "cell_type": "markdown",
      "source": [
        "###3. Per-product user pairs\n",
        "Now that we have a list of users that reviewed each product, we want to find all the possible **user pairs** per product. Basically, we are taking the **cartesian product** of all reviewers for each product, and then **flattening** the output to get an RDD with `<user> <user>` pairs.\n",
        "\n",
        "Let $U_p$ be the set of users that reviewed the product $p$, which is just the neighbours $N(p)$ of the product $p$. Then, we create each possible user combination.\n",
        "\n",
        "\\begin{align}\n",
        "    U_p &= N(p) \\\\\n",
        "    U_p &\\times U_p\n",
        "\\end{align}\n",
        "\n",
        "The function `per_product_user_pairs` below computes this **cartesian product** between each product reviewers list and returns a flattened RDD, such that we have a user tuples like so:\n",
        "\n",
        "```\n",
        "user1 user2 #user 1 and user 2 have reviewed the same product\n",
        "...\n",
        "user550 user2 #user 550 and user 2 have also reviewed the same product\n",
        "```\n",
        "\n",
        "Note that we lose the product information at this point, but since it is not relevant to the task it does not matter. With this type of structure, we can easily count the number of times that users have reviewed the same product, since each line corresponds to a product that both users reviewed."
      ],
      "metadata": {
        "id": "z11YXYFUgJcO"
      }
    },
    {
      "cell_type": "code",
      "source": [
        "def per_product_user_pairs(product_reviewers: pyspark.RDD):\n",
        "    \"\"\"Finds the per-product user pairs for an product reviewers RDD and flattens them.\n",
        "\n",
        "    :arg\n",
        "        product_reviewers (pyspark.RDD): a pyspark RDD where product IDs are mapped to lists of users that have reviewed that product.\n",
        "\n",
        "    :return\n",
        "        (pyspark.RDD): a pyspark RDD where each element is (<user>, <user>) tuple.\n",
        "    \"\"\"\n",
        "    return product_reviewers.map(lambda product_users: product_users[1]) \\\n",
        "                            .flatMap(lambda users: [(user1, user2) for user1 in users for user2 in users])"
      ],
      "metadata": {
        "id": "lwNmqqy4iwly"
      },
      "execution_count": 14,
      "outputs": []
    },
    {
      "cell_type": "code",
      "source": [
        "per_product_pairs = per_product_user_pairs(product_reviewers)"
      ],
      "metadata": {
        "id": "LTmn6UUMjp_J"
      },
      "execution_count": 15,
      "outputs": []
    },
    {
      "cell_type": "markdown",
      "source": [
        "###4. Count users\n",
        "We now have an RDD where each element is a user tuple `(<user>, <user>)` where both users share a **common reviewed product**. The final step to finding the **number** of common reviewed products, is to for each user, count the number of users it is connected to.\n",
        "\n",
        "Since the RDD at this stage is essentially a **multigraph**, we just need to count the number of connections between user vertices to build the co-review graph. We can do this by:\n",
        "\n",
        "1. mapping each user tuple to a $1$, `(<user>, <user>) -> ((<user>, <user>), 1)`, so that we can count the occurences later.\n",
        "1. group on each user tuple `(<user>, <user>)` and sum up the values. Through this, we count the number of **edges** between the two users.\n",
        "1. map each `((<user>, <user>), <count>)` to `(<user>, [(<user>, <count>)])`.\n",
        "1. group by `<user>`and add the co-review lists for each user to each other. After this step we have mapped each **user** to a list of other users that they share reviews with as well as the **number of reviews** they share with each user.\n",
        "1. sort the co-review lists by the `<count>` in descending order.\n",
        "\n",
        "The function `count_users` below performs all of these steps and returns an RDD of the structure:\n",
        "\n",
        "```\n",
        "(<user>, [(<user>, <count>)])\n",
        "...\n",
        "(<user>, [(<user>, <count>)])\n",
        "```"
      ],
      "metadata": {
        "id": "6SsAY-cClHBw"
      }
    },
    {
      "cell_type": "code",
      "source": [
        "def count_users(user_pairs: pyspark.RDD, sort: bool, descending: bool):\n",
        "    \"\"\"Counts the number commonly reviewed products between users and maps each user to a list of (<user>, <common product review count>) tuples.\n",
        "\n",
        "    :arg\n",
        "        user_pairs (pyspark.RDD): pyspark RDD where each element is a user tuple (<user>, <user>).\n",
        "        sort (bool): True if the list should be sorted by the <common product review count>, False if not.\n",
        "        descending (bool): True if the list should be sorted in descending order, False if ascending.\n",
        "\n",
        "    :return\n",
        "        (pyspark.RDD): a pyspark RDD where each user is mapped to a list [(<user>, <common product review count>)...], sorted by the common product review count.\n",
        "    \"\"\"\n",
        "    # map each user pair to a key-value pair, where key is (user1, user2) and value is 1\n",
        "    user_pair_counts = user_pairs.map(lambda user_pair: ((user_pair[0], user_pair[1]), 1))\n",
        "\n",
        "    # count the occurrences of each unique key, map users to lists, and add the lists\n",
        "    user_pair_counts = user_pair_counts.reduceByKey(operator.add) \\\n",
        "                                .map(lambda users_counts: (users_counts[0][0], [(users_counts[0][1], users_counts[1])])) \\\n",
        "                                .reduceByKey(operator.add)\n",
        "\n",
        "    if sort:\n",
        "        user_pair_counts = user_pair_counts.mapValues(lambda user_counts: sorted(user_counts, key=lambda x: x[1], reverse=descending))\n",
        "\n",
        "    return user_pair_counts"
      ],
      "metadata": {
        "id": "-Z3tENxDmc0I"
      },
      "execution_count": 16,
      "outputs": []
    },
    {
      "cell_type": "code",
      "source": [
        "co_review_graph = count_users(per_product_pairs, sort=True, descending=True)"
      ],
      "metadata": {
        "id": "ahQ0RjITrw7o"
      },
      "execution_count": 17,
      "outputs": []
    },
    {
      "cell_type": "markdown",
      "source": [
        "### 5. Save To File\n",
        "As a final step, we save the finished co-review graph to a file. Collecting the data is not feasable due to the size, so we will first move it to a single partition using the `coalesce` function before saving it into a file."
      ],
      "metadata": {
        "id": "bD8n6KppCclR"
      }
    },
    {
      "cell_type": "code",
      "source": [
        "co_review_graph.coalesce(1, shuffle=True).saveAsTextFile(\"data/single/\")"
      ],
      "metadata": {
        "id": "CiV2GKnOUr3h"
      },
      "execution_count": 18,
      "outputs": []
    },
    {
      "cell_type": "markdown",
      "source": [
        "We can check that the file was indeed saved."
      ],
      "metadata": {
        "id": "h-CYbX0voD_m"
      }
    },
    {
      "cell_type": "code",
      "source": [
        "!ls data/single/"
      ],
      "metadata": {
        "id": "3U-fmVizeAGu",
        "outputId": "c6e62bbc-5d13-4b43-f6c9-39d3c79b4413",
        "colab": {
          "base_uri": "https://localhost:8080/"
        }
      },
      "execution_count": 24,
      "outputs": [
        {
          "output_type": "stream",
          "name": "stdout",
          "text": [
            "part-00000  _SUCCESS\n"
          ]
        }
      ]
    },
    {
      "cell_type": "markdown",
      "source": [
        "Having written the Co Review Graph RDD to the file, we can check the first 10 lines of the file."
      ],
      "metadata": {
        "id": "pQ15ovcLoBj4"
      }
    },
    {
      "cell_type": "code",
      "source": [
        "!head -10 data/single/part-00000"
      ],
      "metadata": {
        "id": "KcxsckU0goXh",
        "outputId": "1cbfe16d-642e-4afa-e0c3-08c98114ed0d",
        "colab": {
          "base_uri": "https://localhost:8080/"
        }
      },
      "execution_count": 25,
      "outputs": [
        {
          "output_type": "stream",
          "name": "stdout",
          "text": [
            "('A3Q4TYJVAM4IRM', [('A3Q4TYJVAM4IRM', 23), ('A3FKGKUCI3DG9U', 12), ('A35JP8KSV9281K', 9), ('A3CG6YLYZJXQG4', 8), ('A16WPA6JV83YXT', 8), ('A1LJR5IS0B6ADX', 8), ('A281NPSIMI1C2R', 8), ('A3HRDRQ5VAFPQS', 8), ('A1H7Y5XKPGT0OS', 8), ('A2TO2BN3P4C00L', 7), ('A19GSC3QMK694Q', 7), ('A37WVR9M1STQDU', 7), ('A2YPGQH2UGGTM2', 7), ('A3BAE79NXFDXGV', 7), ('A1A1BM6N28X9J0', 7), ('A3HAA7H8PBVM78', 7), ('A235UFZGCFN3J5', 7), ('A3R33KMESG0XGQ', 7), ('AYGEP8I4BQ3CK', 6), ('A3T7XVG3AXJF61', 6), ('A7T1NIWZHTC4P', 6), ('A2RQOO8VYAEZZG', 6), ('A1UKA7HUAQAMY', 6), ('A1N5FSCYN4796F', 6), ('A2L6QS8SVHT9RG', 6), ('A3VYKXHQDICC6', 6), ('A33PBU9EHZ28PC', 6), ('A3SMR4HRFJARSC', 6), ('ACR4HKUT808U1', 6), ('APP35M28G2U51', 6), ('A73DFWJE0CGY6', 6), ('AUV3OR951650C', 6), ('ABC68JUCPTVOE', 6), ('A25C2M3QF9G7OQ', 6), ('A34DQINHT6NYJU', 6), ('A2E2PA6UNK1E05', 6), ('A1SI2993YY7C61', 6), ('A1DRM3JV6T5O6P', 6), ('A2H1W8V6R9TJ9E', 6), ('A2MSQNPTNAAGL1', 6), ('A2RKI7RPP5CJMG', 6), ('A37D2TGTIXRV2N', 6), ('A2GY5WCU9PKTMI', 6), ('A3H8PA7AG48K33', 5), ('A2FRFAQCWZJT3Q', 5), ('A2NUBL2UYWPBWR', 5), ('A2T04VAIXSKJH2', 5), ('A3I9MCGO36KZ7V', 5), ('A27HB4L3I1WJUR', 5), ('A3W4D8XOGLWUN5', 5), ('A87RT63V7SMD3', 5), ('A2IMLOJ2Z2QEU2', 5), ('A3T4OHEAHOJ700', 5), ('A1AEPMPA12GUJ7', 5), ('A1RF9YK4BK5TRH', 5), ('A1F9Z42CFF9IAY', 5), ('A4VMQ6ZTSXSSL', 5), ('A2XXTGHE0YVZSZ', 5), ('A3H7AOFQDPU0JV', 5), ('A30UIZJMFL9PLT', 5), ('AG6JWI77UMETS', 5), ('A26TYDQ2BFD4EG', 5), ('A1BK60GZ4QME6I', 5), ('A1I477ADGMLVJM', 5), ('A1SCANWWQTEG9I', 5), ('A3QS4WWC1LCA6H', 5), ('AVZ1SYMD26S4R', 5), ('AFOV2K4F0MDTZ', 5), ('A1IQV6AI7L9NOK', 5), ('A1KEK09ZA6J9P8', 5), ('AFDJGY68CQL2X', 5), ('A2BN9DIBP9A0XG', 5), ('A2I98OOPNIJNYY', 5), ('A1C4J5MRES1KRK', 5), ('AMRMK86X3PKXD', 5), ('A2WN1QF8GSVHYV', 5), ('AI0PLL5DQAHRG', 5), ('A1JAPP1CXRG57A', 5), ('A293HA28PN3VO4', 5), ('A2LF16F0KX9L7P', 5), ('ADS99W8WMEXZ2', 5), ('A1BTG38XSGYLW3', 5), ('A1R1BFJCMWX0Y3', 5), ('A2UOHALGF2X77Q', 5), ('A2RX62V4E2BF5Z', 5), ('AQLL2R1PPR46X', 5), ('A2W9I628I6SE1U', 5), ('A20VX7F4164FVC', 5), ('A36K2N527TXXJN', 5), ('AYNAH993VDECT', 5), ('A3QDBUDXLHUJX2', 5), ('ABNMD6670TV53', 5), ('ADY836HK6QSYR', 5), ('A27L5L6I7OSV5B', 5), ('A1T61QP7QHYBRQ', 5), ('A1IL6W1NK05UW9', 5), ('A224KM22RQ5CD4', 5), ('A3VZH0PWLQ9BB1', 5), ('A2H2I5FY1PUHP1', 5), ('AHQRU3MRORIWQ', 5), ('A31RULW0KNYJ5H', 5), ('AWPODHOB4GFWL', 5), ('A2F540P3L6P5CL', 5), ('AC62SNVRI158P', 5), ('ARYSDAZNRXN6G', 5), ('A26KHZE0HTS057', 4), ('A3GFK7F5IUF60X', 4), ('A2UT0FWM1DHKFJ', 4), ('A89ZZKNDFQH23', 4), ('A3VLCQX7NG1N0E', 4), ('A3AAK33K3BUUTM', 4), ('A1ILWPH1GHUXE2', 4), ('ANHL7BB84WJMF', 4), ('A3436BWMMFP4VY', 4), ('AY1EF0GOH80EK', 4), ('A1QO88MU0PYJON', 4), ('AR33KU52LIBF1', 4), ('AJRFZ0VZ0LD26', 4), ('APVK8GGSSUDCE', 4), ('A45S6D1P309G9', 4), ('A2YB7DLC3FOR7W', 4), ('A2W0XCWOK3MW6F', 4), ('A1LKOIZXPQ9VG0', 4), ('AQ8DU6XVA3USJ', 4), ('A7UPJYPAH73NC', 4), ('A13MKSASQ6YWL7', 4), ('A1F1A0QQP2XVH5', 4), ('A1LHAXBM5GBJS2', 4), ('A3A15L96IYUO6V', 4), ('A3FC9JXTCITVFC', 4), ('A2XNOB1T796Y6B', 4), ('A33HIQR1X1G4GI', 4), ('A1S27P7KJO9I96', 4), ('APXQHFTTYERDE', 4), ('ACQYIC13JXAOI', 4), ('A1ALOTXWL76OY7', 4), ('A2D7X9N3IV3S7B', 4), ('A4JHEO7H330AF', 4), ('A1GWDRBUMQOCRK', 4), ('ACAXV4V8PBCE3', 4), ('A2V0I904FH7ABY', 4), ('A2VJJ2POCLMED7', 4), ('ACJ9N7ED37HXS', 4), ('AI19TV79W9HKQ', 4), ('A2SSV6KM3W1VFD', 4), ('A35X2JJI49OBZP', 4), ('A1AES697PC2IW5', 4), ('A3TIL1PC2ZE97B', 4), ('A3MFORLOKIOEQY', 4), ('AWKZAUC0D8DYL', 4), ('A184ZFZZBWEXMS', 4), ('A3MDA891A1EPT8', 4), ('A2X06FP2PQ6EK0', 4), ('AM8J1UVGVYAL4', 4), ('A2OW356OMJNAVH', 4), ('A244CRJ2QSVLZ4', 4), ('ACEA95FQS1AVP', 4), ('A141W8WHW9AC3H', 4), ('AOODNGLAEDN76', 4), ('A33J2VWP9HXDU9', 4), ('AKMEY1BSHSDG7', 4), ('A3JH18T58CY65P', 4), ('A146H6A41B26QT', 4), ('A2MVPY9XVYST9H', 4), ('ARTST8JB04TBC', 4), ('AFN32PGTZ31MV', 4), ('A3U029B8Z5WGI2', 4), ('A8WAYVOKYBLO6', 4), ('A1SINHLUYMCCRK', 4), ('A3TP31S61PPE3G', 4), ('A9KLAL1CXZ0W5', 4), ('A3QVAKVRAH657N', 4), ('A1OMXVXXP07F05', 4), ('AGVDI7RLT24WJ', 4), ('A3PJZ8TU8FDQ1K', 4), ('A3FHSLWEMH7JD8', 4), ('A1ONZ8JRPLBNUI', 4), ('A14X244VGHWPSX', 4), ('A3HNLJGBLFBJIA', 4), ('A30IP3E4MDQ36', 4), ('AJ329F9H546BM', 4), ('AOEDWQLH2WKKW', 4), ('A277GP2U2TXH51', 4), ('AB0Y33G717HOU', 4), ('A3EAP2VG0BVYWX', 4), ('AZ515FFZ7I2P7', 4), ('A1DG75OT3Y49EM', 4), ('ASD7LAINVLNHC', 4), ('A1J75JJ0Q2OEJN', 4), ('A3EOVXI1VZIHUQ', 4), ('AY46DEOJJYFTW', 4), ('A1ZU55TM45Y2R8', 4), ('A3QDDEW6RXVEAY', 4), ('A1WKQ94M45D8MG', 4), ('A2KMY4RVMJ1EP6', 4), ('A5ZD6FBMZQGDS', 4), ('A2M1MNG7G40V85', 4), ('A7EU2BWLLCJY2', 4), ('A3EXWV8FNSSFL6', 4), ('A1JMR1N9NBYJ1X', 4), ('A3D9NUCR4RXDPY', 4), ('A1TKM36EYEQNSM', 4), ('AVU1ILDDYW301', 4), ('A189BPUDLRCQEQ', 4), ('A3BTL4FV6ODKAT', 4), ('A31YSTICHFYN7O', 4), ('A3JPFWKS83R49V', 4), ('A37USOKUTI724H', 4), ('APDPA11IZPYLN', 4), ('A1RG4WKNMPYS4X', 4), ('A353U0L2HAMSHV', 4), ('A1JOANG98KBFKU', 4), ('A12DQZKRKTNF5E', 4), ('A3D6KZT0QG6UKB', 4), ('AKJHHD5VEH7VG', 4), ('A1MDDJ2XUPZZOE', 4), ('A1XJOSJN6FHFO0', 4), ('A306153FTKS9PL', 4), ('A109L3WXD1SJFU', 4), ('A3REK3OFONWB1Q', 4), ('A2OCDK0BOW6UCY', 4), ('A3BZUQXA2QHDI2', 4), ('A1V3TRGWOMA8LC', 4), ('A96AUNSF6GESO', 4), ('AEJAGHLC675A7', 4), ('A1LH6RF4UN9VI6', 4), ('A15JB2HEZ6RKGW', 4), ('A185QFJRTB5W93', 4), ('A3OO4WIO4SKD55', 4), ('A2BPB05QNCE00B', 4), ('A2PK64OVZA1U8Z', 4), ('A19XBW5WUDH1Z', 4), ('A1SBVY5DX5ZKUX', 4), ('AJV985MKGCIQ0', 4), ('A37NHGD0WTRYFH', 4), ('A1S52XH2CS4Y26', 4), ('A2ZPZM9RE08JXF', 4), ('A1X2LENOF84LCQ', 4), ('AIFLY2HF8NS8U', 4), ('A3QMIWXU2RGEMH', 4), ('A3VI2VETB90ZG5', 4), ('A1YJMG0QJXZLD4', 4), ('A1CFU5XJXN3PV4', 4), ('A3U1WPDQLP9CQ', 4), ('A3UW0PQLDUACMH', 4), ('AEC90GPFKLAAW', 4), ('A2HQ8RTAJYEUJO', 4), ('A3EXW4HNYX7HF5', 4), ('A2X3L31KCXBHCL', 3), ('A2SNRRXE9M9ZDY', 3), ('AC7AY7GU4GKID', 3), ('A2R1HUYHXV7H18', 3), ('A3AQO91DYWF8R0', 3), ('A192Z1UVDNK88E', 3), ('A3GRN6J64F2C3X', 3), ('A3UJRNI8UR4871', 3), ('A3OC93X866Z8TB', 3), ('A3G007LQX6KGOD', 3), ('A100WO06OQR8BQ', 3), ('AO13TNMQBPLZE', 3), ('A2HTPS0JV3Q8ZD', 3), ('A2KUUIJ52MWDAS', 3), ('A4G402ORCHSXJ', 3), ('A7EK88GF8N40F', 3), ('A17M1HL6U2GS7M', 3), ('A8EBWQZIDKF78', 3), ('A1EHTFVSD0H7I6', 3), ('A5H8NA5CJ0FK4', 3), ('A1ZZZT0KJR46UV', 3), ('A199FRO0YFMGED', 3), ('A1TNK6MP89YXY2', 3), ('A1MAI0TUIM3R2X', 3), ('AC4XV78EJG1QB', 3), ('A25C5MVVCIYT5D', 3), ('ALNFHVS3SC4FV', 3), ('A2OZ6PW2W5FQTP', 3), ('A6LUXI8I8BU6P', 3), ('AN0U0GNJJPEUR', 3), ('AL6CEWLV2JB90', 3), ('A2DI7UGT3YX4Q9', 3), ('A21W7ZA2FZKOGP', 3), ('A2V92F5R7MLCVI', 3), ('A3U5HKDHPYBAK3', 3), ('AGVWTYW0ULXHT', 3), ('A688RIZ2POWSQ', 3), ('A10E3F50DIUJEE', 3), ('A1ZZR25X0CNOJX', 3), ('A3EX36SNRYD5VL', 3), ('A3FY3H6F4249E0', 3), ('A2NMQWBDWT3SQF', 3), ('ALDV8DDZWWPYE', 3), ('A3IMO49QD6OYKN', 3), ('A28WXDXJA1P0MC', 3), ('A3VBXQKRM7A4JR', 3), ('A3GKMK6KQH3Y1H', 3), ('A5BJMAHZWGJ7N', 3), ('A1P2XYD265YE21', 3), ('A3PECZX773ME74', 3), ('A34UVV757IKPVB', 3), ('A1ZCSSCAGBCD49', 3), ('AW7BIYHXUIZ62', 3), ('AZ9WQM7SLUX7E', 3), ('A31XW1RTQ4ZG9W', 3), ('A3EJ8XHVDC0CWH', 3), ('AZ0PCEZUTF5QO', 3), ('A25KVM6GJBLISZ', 3), ('A58F10T4OE58C', 3), ('A1H8JUI9GNQKNR', 3), ('A3RZOPQ42Q50B1', 3), ('A2M9D9BDHONV3Y', 3), ('A1TFMR7RE985MF', 3), ('AEL6CQNQXONBX', 3), ('A1P8DIBAXF6H37', 3), ('A4JP4T1F95D0A', 3), ('AMYTL79JMGQ6D', 3), ('A11EIDY6DD40CS', 3), ('A39H1GO9E3YQIB', 3), ('AUCOL2XUE1IX7', 3), ('A1ITRGMT80D5TK', 3), ('A2CZ98V784SRJ0', 3), ('A2VHQDJBZH0Y7P', 3), ('A1WXG10FJ353K0', 3), ('A39D7ONPOORMUT', 3), ('A35HOUWHAYZZN6', 3), ('A1KXJCXS6HFRQZ', 3), ('A240FRPD4MEXND', 3), ('ATNKYANM0VC5', 3), ('A33Y8C4818EJL0', 3), ('A2NB2E5DXE319Z', 3), ('APP5MBH2BSX6I', 3), ('A1ODOGXEYECQQ8', 3), ('A23WE733QT4WGJ', 3), ('ACVDL5QRCOPE1', 3), ('AO9UNKQG83BUP', 3), ('A2AOW20EGSCAY2', 3), ('AF3EWORDT15AU', 3), ('A18GJ9MYYO6GCQ', 3), ('A2W4014S06NAIT', 3), ('AQM0K7MBBT4AY', 3), ('AYUF7YETYOLNX', 3), ('A1LAGS8H4A2DR7', 3), ('A3GMRYV7VAYK5Q', 3), ('A6PGY3XAJSYH2', 3), ('A379IB3EYAEL5', 3), ('AFG4HIHMX312C', 3), ('A2SZLNSI5KOQJT', 3), ('A2VRAT69JDAD3W', 3), ('A4QXTN3K865NR', 3), ('A217CC8F7N5717', 3), ('A3R9H6OKZHHRJD', 3), ('AJLW1DZSHOVGW', 3), ('A3SYE6NEO8VSU0', 3), ('A267FU71Z01CIH', 3), ('A1IHK8GL1ESOND', 3), ('ADP8ROI8NMNL2', 3), ('A23RZIU0N8K2KR', 3), ('A2DA2NJZ2RIYAB', 3), ('A1FVP6G8W3O8ZA', 3), ('A38ON1MOZNBCGE', 3), ('A2SY92ZXU2FOEU', 3), ('AKT8TGIT6VVZ5', 3), ('A2SLX6UHHYCMCV', 3), ('A1UQBFCERIP7VJ', 3), ('AM004PHO6F3FZ', 3), ('AHKPZ11JT110F', 3), ('A2CZPM110DW516', 3), ('AHRNDSKWH1YBT', 3), ('A2XIOXRRYX0KZY', 3), ('A350HRB16YUX9P', 3), ('A2IT7S59GSASN7', 3), ('A6VPK7X53QNAQ', 3), ('A3NOBH42C7UI5M', 3), ('A156P4FPL8OGXB', 3), ('A3NG7X4APIV649', 3), ('A2UVYN2FO7X43V', 3), ('A16AXQ11SZA8SQ', 3), ('A2UYWE97KME0M', 3), ('ANTN61S4L7WG9', 3), ('AOEUN9718KVRD', 3), ('A1RRMZKOMZ2M7J', 3), ('ADS5APY1NKTL4', 3), ('A1TXRF98SLKL2O', 3), ('ACH3XM6K1M4AK', 3), ('A2AYYKD4OODSLY', 3), ('A3HJHV83O2U8BL', 3), ('A3GK1O5S6188AJ', 3), ('A2GOHBNQ58WOKC', 3), ('A376OJHLE6SU9Q', 3), ('A3HAC5PSLMHMR7', 3), ('APBB297H3ZA5E', 3), ('A2KBFB6A2D7PNO', 3), ('A1ZOIGQHW7FPT2', 3), ('A57Q87B0TC9IJ', 3), ('A3B620VGG3J6ZP', 3), ('A147FUNITGB21I', 3), ('A13U975DFXBU44', 3), ('A1X2B7H1P11DXH', 3), ('A3U41ZL33SS92P', 3), ('A20F84KUBWM88B', 3), ('A2XBE812RSFZO7', 3), ('A1EKF9JFF1XWSV', 3), ('A2Y8IDC1FKGNJC', 3), ('A36CTP2YSXLSFV', 3), ('A19XMHRB3G4DIR', 3), ('AKE6DXEN3GWPC', 3), ('A2IFGGXG3YV3Y6', 3), ('A23ZNGL704AW7O', 3), ('A2PSC7LUNIDEAH', 3), ('A2GANR9I6XHTU9', 3), ('A3R9X003XW0LNR', 3), ('A1EARN5PUVIF1S', 3), ('AOAOARIH72UWI', 3), ('A3G5MOHY1U635N', 3), ('AM8W6Y3HVXLZT', 3), ('A2PL0US7RN67G', 3), ('A3882RXW8MO4J4', 3), ('A3JHC8O59WDHFZ', 3), ('A2F6NONFUDB6UK', 3), ('ALDYWG0CPSYUF', 3), ('A3A90CELVLOUP6', 3), ('A2Z81QTXUJ0WIW', 3), ('A10G4BPT5MGBHY', 3), ('A1XG5WYLFMRRX1', 3), ('A7OTTM22AV2VR', 3), ('A209D61DH0HZMA', 3), ('A17GTGSS2E5QN0', 3), ('AB8TX5GQQZTS8', 3), ('A2LRNLAV0ZIL4U', 3), ('A2MNB77YGJ3CN0', 3), ('A2L1KC5CTPF9UD', 3), ('A25KKXUQQ0OLWB', 3), ('A1FWFCJU2G7TRA', 3), ('AH9MUK2Z52V6N', 3), ('A9JLE9BISQFUB', 3), ('AJQDIT55SZ3ZX', 3), ('A3F2VVIQIY6U64', 3), ('A3094EPI56GKZ6', 3), ('A2ALX5U55NTGTL', 3), ('AYNRALJ4X1COS', 3), ('A1IZJVLNMFACS6', 3), ('A2GSJUETASGMO0', 3), ('A3OSHB0AACYN95', 3), ('AUITG1DJ3QUGK', 3), ('AX7QMRXX81L9K', 3), ('A18S2A07LBNVNF', 3), ('A34C98SJU4M7DD', 3), ('A3Y0IB3VYLD6A', 3), ('A341D838USLGKM', 3), ('AI5OS4RQQIUMJ', 3), ('A2RHV42BTJSVON', 3), ('A3A8FMW6BDJ166', 3), ('A2XPK6XCL0UH1S', 3), ('ATLO3YXU2BC16', 3), ('A27X7XXOKMK879', 3), ('A398R165PXFOSS', 3), ('AAPPWNP9FWVWS', 3), ('A3OJX18B60PJR9', 3), ('A20H1M28WLI9J2', 3), ('A23J1T7UNX14TK', 3), ('A58N07M0ZCYMB', 3), ('AE61FFT0GUD2G', 3), ('ARXU3FESTWMJJ', 3), ('A3IR834T7AROBT', 3), ('A2L5R1F9WALW7W', 3), ('A3FA9MUYT5D2C8', 3), ('AAA0TUKS5VBSA', 3), ('A37FFWZUGO8L7W', 3), ('A319Y83RT0MRVR', 3), ('AWXE0WM5RIWZW', 3), ('A1FDSZISWIXH1A', 3), ('A1Z0LTKUA6F94D', 3), ('A1B05INWIDZ74O', 3), ('A1HLJJ6MKZLR3Z', 3), ('A235NA61RC6YC1', 3), ('A9GPCR9WJQCCJ', 3), ('A3FBM0RMCMAABV', 3), ('A2CV33795L4KHH', 3), ('A2HHAV29CZ1OIE', 3), ('A1XBHP8UAJ303T', 3), ('A1OMHUU58XHQNG', 3), ('A1KMG1AIUS00DC', 3), ('A1C139F5C7Y38P', 3), ('A1FHWJ7EFO3E3U', 3), ('ALSAOZ1V546VT', 3), ('A1HRYC60VTMYC0', 3), ('A1Q08H4B9QGT2N', 3), ('ARTA78TP6H73D', 3), ('A1RHE0EI5GQM66', 3), ('A3MDETK0D5UAIN', 3), ('AVFJ327UXPXLF', 3), ('A2HOLM5I1ARX9J', 3), ('A1E371HE68KMWB', 3), ('AS44QEHT3KSPK', 3), ('A3HOBP97RKKY0M', 3), ('AG90OGHDGOOVH', 3), ('AKB2PYODH0TKS', 3), ('A1P27BGF8NAI29', 3), ('A2OJCTT5WLB2HR', 3), ('A3CA3RWZYJDWXE', 3), ('A2QDOJFFLFGF18', 3), ('A15OAS39003U5R', 3), ('A2B3A8NQIHITO8', 3), ('AR5SY32T76DBM', 3), ('A1ER5AYS3FQ9O3', 3), ('A2DG63DN704LOI', 3), ('A108XP24UESKSV', 3), ('A1BA72K4VK1UN1', 3), ('A2GL934UT3XENH', 3), ('A27QXQQOLAMRRR', 3), ('AOXMWBNDZDJ9L', 3), ('ABMX8XUNPR3LP', 3), ('A9NFFAZF3LIB2', 3), ('ASLHDTUUMOH7F', 3), ('A2BCDZO1XQLDH', 3), ('A96K1ZGW56S2I', 3), ('A32GK89C999834', 3), ('AATKF0HDBQL86', 3), ('A1IU7S4HCK1XK0', 3), ('A1BEKAQQGP8CMF', 3), ('A3P8ZDHC7XSKSE', 3), ('APMYPD97EHUUZ', 3), ('A2701UXI8QGRHE', 3), ('A186ZAYP2L4CDZ', 3), ('A1UMSB7LAW0RIR', 3), ('ACWVXZ8VKJ19V', 3), ('A39650P2CZUUC9', 3), ('A1DC1O4VX6AHPP', 3), ('A5KMMY627T3W', 3), ('A1ACM1CBGORBN1', 3), ('A1C58YXM2A30CY', 3), ('A33PVCHCQ2BTN0', 3), ('A122SFGLAHQLSJ', 3), ('A17771LTRWSKQ5', 3), ('A10ZBR6O8S8OCY', 3), ('A20CQ20J30DJZT', 3), ('A4IL0CLL27Q33', 3), ('ASAWQWJ7AF5NF', 3), ('A1IPKBAP6LOWCR', 2), ('A2E03PQ3UH0RVD', 2), ('A379DLIAF0MFM5', 2), ('ASEBX8TBYWQWA', 2), ('A3NZVCL9N8CLHB', 2), ('A29OK8PPE9W2Y5', 2), ('A2YKWYC3WQJX5J', 2), ('A1Z7Y2GMAP9SRY', 2), ('A1IA0O3OYQO9LV', 2), ('AXHETL0M8XZPT', 2), ('A375NF45A1MDWI', 2), ('A27OBJA1YDQFZI', 2), ('A8QYRG7TW491B', 2), ('A2YW1MG1GKU8XD', 2), ('A36RJG7HHV45TQ', 2), ('A3DKM0STAF66Z5', 2), ('A12E0Y0J6584RT', 2), ('A3OXM4NUGQKIQ0', 2), ('A1L7R2764ED46Y', 2), ('A2MO8QZTNYYB98', 2), ('AQQLWCMRNDFGI', 2), ('A3JXBZ8F65100O', 2), ('A3G7BEJJCPD6DS', 2), ('ANCOMAI0I7LVG', 2), ('A1SB9BNNGKNX2Z', 2), ('A4D5B7Q8A7PA6', 2), ('A2KHG3JOFXQ4CE', 2), ('A26KSESH1KXU3Q', 2), ('A1DW1FK1H3F2TM', 2), ('A1AHHYZZVWML3Z', 2), ('AYHPSOGPXD1UP', 2), ('A3R1WFO4KIUQXZ', 2), ('A6QG9LM5WL0AQ', 2), ('A1N46G8TKM3ZQB', 2), ('A3963R7EPE3A7E', 2), ('A2KS0FVY2CNJ8M', 2), ('A3AOPVQ7EZHTWA', 2), ('A3J029KBNG5MNP', 2), ('AIAS4YFLHJWW6', 2), ('ADLVFFE4VBT8', 2), ('AXFO241GZ4BYK', 2), ('A2T1TIT8QKEB5C', 2), ('A2D9N670IKJ2BP', 2), ('A28FJ93TJSSQS4', 2), ('A3HLLKGK6GTUPF', 2), ('A3EPHBMU07LZ50', 2), ('A4UFU4WKYEUGO', 2), ('A3E9WG5BEAFF3T', 2), ('A27H9DOUGY9FOS', 2), ('A2D66KSHQQHOSD', 2), ('AGJRUK27RBVYS', 2), ('A359XIBXA34BX6', 2), ('AG1CBZSDBQ679', 2), ('A15J71JLC29KPW', 2), ('A22S7D0LP8GRDH', 2), ('A3SMD3T0QTN109', 2), ('A1INBQLNQNSHTK', 2), ('A3FIY789DECXY7', 2), ('A2KJZXIXBHVG0K', 2), ('AQ6AGWKWMTY8H', 2), ('A318IDAWJ9ZYAY', 2), ('A19D3N662QS9WD', 2), ('A2WQY1B8ZS7QRZ', 2), ('A3IMK08UX0I46A', 2), ('A10YWQ4AAAE29O', 2), ('A1VBDMNT6I8RE5', 2), ('A32O98PFC3OP7K', 2), ('ACSX5AIZE3MJ9', 2), ('A22PUBSSNP54L', 2), ('A1NVK25SNU2BOM', 2), ('A3K93OWHKHGI9V', 2), ('A3CWEK9HY2VPDL', 2), ('A1B6O7SAIYG2N0', 2), ('AR40PQWBEWS9A', 2), ('APUV3Y5KYMGTK', 2), ('A3D0HMC6RQT0N0', 2), ('A3TPNC3TKGCCEI', 2), ('A3BVN2QBNPBHCR', 2), ('A3MEMX0XF00TBD', 2), ('A2KAVOGWK3BRB7', 2), ('A1GYEGLX3P2Y7P', 2), ('A2ZL07Y7FE7W3S', 2), ('ALEUQQE118NEW', 2), ('A2M0RGVSV6YCMZ', 2), ('A3U5CZ3PV82JXD', 2), ('A3I1BJIFFM4S21', 2), ('A2ZWTFZRNQW7D5', 2), ('A3I5YPJZMTG1QO', 2), ('A1TMAVN4CEM8U8', 2), ('AN4HRAGRHHX1H', 2), ('A18IZ3RTL9SD4V', 2), ('A19FRW264WZTGP', 2), ('A3QNQQKJTL76H0', 2), ('A3GWFJ48QPA2IR', 2), ('A3EP6YVAYS9YM3', 2), ('AYPEPA3VS4KDM', 2), ('A14N6TJRP83FCE', 2), ('AY8RR5LJIYM8C', 2), ('A2SWFMW5XF45LL', 2), ('AFYPYQAFA31JU', 2), ('A3T6HX48F66512', 2), ('A3JISS7CQJF8JL', 2), ('A3OBP99ZV5TG6C', 2), ('A2S26YGSVXBCFL', 2), ('A2WSAGFJSQC1YF', 2), ('A2YT5IO3DKN3AN', 2), ('A15ZRSJYUSQQ9N', 2), ('A3NLJZI5NEOT0K', 2), ('A1F7SX3GNVBNE3', 2), ('A3S3R88HA0HZG3', 2), ('AIEEK7AHXKZCC', 2), ('A305XM71TF83CY', 2), ('A1LA4K5JF78BER', 2), ('AFZJNYR931ZCN', 2), ('A3F68N9OI8Y67', 2), ('A344QL22NHKTY', 2), ('A2HC9549CZAKNN', 2), ('A26PAN8REXYBYH', 2), ('A1TXPWO46J0PPQ', 2), ('A3JRW716H3AX14', 2), ('A2D7B5I7ZQ51XL', 2), ('A2MUGFV2TDQ47K', 2), ('AOM63D4VL32WM', 2), ('A3HOGJ49XCSCW7', 2), ('A31BZEQMPKS5MY', 2), ('A3O8Z6IZ0VU3BB', 2), ('A15NS9ERV7LT7A', 2), ('A3PE884TA8529G', 2), ('A91TB0WX94MHP', 2), ('A1GWPAZBGMUAFJ', 2), ('AK7CAW3N1XZV6', 2), ('ALDIU41MJLTZA', 2), ('A7YMD8MSOBO1I', 2), ('AZ4Q3VAK6CIJS', 2), ('AR1T36GLLAFFX', 2), ('A1AKU188I6NRF0', 2), ('A1R6DKN9YQ2YU1', 2), ('A2OT3R5EQ85Z2L', 2), ('A1VK6EKINVYAT7', 2), ('A96JD9312DHWC', 2), ('A1JUBRIZMO0RJV', 2), ('A1DH3QDZX8Z7GO', 2), ('AY20S8XS9799P', 2), ('A2BVOBG7YDSVOZ', 2), ('A2PD27UKAD3Q00', 2), ('A2ZKQC0XCIIAEM', 2), ('A2SRVDDDOQ8QJL', 2), ('A1X3ESYZ79H59E', 2), ('A17NX7T7DW6KL2', 2), ('A1ZPY91VE3IDN1', 2), ('AQCS89BWQDFSQ', 2), ('A2X6J6AFLLYVXH', 2), ('AIST7V8XF4A18', 2), ('A209G57KXCBF4C', 2), ('A1ZH9LWMX5UCFJ', 2), ('A3PGGI7A6XCNF1', 2), ('A3C1QYGEET3BVY', 2), ('A8KJS2P6E5DCB', 2), ('A2MMDKNIM4ONRT', 2), ('A3K7H7RBZZ8DGD', 2), ('A198CCH4NNLI2E', 2), ('A1PPPCF42TMACV', 2), ('A24ZMNWTW8AQUR', 2), ('A2B8GXSCB1R05T', 2), ('ARSQ2F9U315WG', 2), ('A3V1AHX8P4R839', 2), ('A2I05FGBTCRRB8', 2), ('AX81N1I5ZFS87', 2), ('A3U52V5ZAHZZKU', 2), ('A3DX5F0CW34Y9', 2), ('A1S78V0MOUYFUA', 2), ('A276OI0NHBYORX', 2), ('A226GFM0Q9L37H', 2), ('AT9U5ZE5OO84C', 2), ('A3TB9HNQR54B5V', 2), ('A36MP37DITBU6F', 2), ('A2ZHH7AK83JB5G', 2), ('A1T8J9GGK7WCFT', 2), ('A1B70ZEWQ6UH1A', 2), ('A2DQ7SG9GCODCL', 2), ('A29FP47A13W3ND', 2), ('AXELK3BGKRSP2', 2), ('A2JAEZ0FMAMJVW', 2), ('A1OWRLSD7LTSQ9', 2), ('A1B3GNO9C8YX0N', 2), ('A2ZKF3UU1TF14L', 2), ('A3I2XRSKNKDVWA', 2), ('A2CF66KIQ3RKX3', 2), ('ASJZT7DM51QEM', 2), ('A3NM1MT3Q2FHXV', 2), ('A2LIPLT5LJTN5B', 2), ('A2QBQFQTRG3KCW', 2), ('AX3T81AX775G3', 2), ('A3GVD3O9QG6I0V', 2), ('A3T3S48UAVTUE9', 2), ('A1B2ACD289HVFT', 2), ('A1XRXOSMIFKM0Y', 2), ('A2X2UXJ61WYG6Q', 2), ('ACXA6FG82TE4F', 2), ('A3D9BTRM4JOU41', 2), ('A3FMPT5IH0CJ50', 2), ('A34AB6PSS7QMHR', 2), ('A1DFL66IDY0Z2Z', 2), ('A2NNH35DIY658', 2), ('A1S8FJT0AQSF60', 2), ('A10PEXB6XAQ5XF', 2), ('A5EXE3DORR8Y0', 2), ('ALRCAGJOJ9583', 2), ('A55PK06Q6AKFY', 2), ('A2MY9VXHZYAHUZ', 2), ('A25CZCHLNH3OMO', 2), ('A16EAIXEWY8I21', 2), ('A319LY5ILYVA90', 2), ('A15LK8DSFQZZ52', 2), ('A17JVVAKWEB0M', 2), ('A1484U2Y4YFX2R', 2), ('AFM7DWQ762149', 2), ('A2Y2T7UTIGG1GJ', 2), ('AJ2FDNZ3COBFN', 2), ('A3S0Y5GVW1CYRW', 2), ('ATT7WSCKBHVCZ', 2), ('A2VNGRQ182NJLE', 2), ('A3QYL6QGXQE18W', 2), ('ANEDXRFDZDL18', 2), ('A2O9HU1K7TCF7B', 2), ('A2065HBMYDXJ1S', 2), ('A265NE6H6LYX87', 2), ('A35V32HZEGZH04', 2), ('A2UM324B00HBC8', 2), ('ATR2C537XOMQ0', 2), ('A2SDRCBPIAXVDW', 2), ('A1UINGIK3UG77D', 2), ('A1JISH2AQDW1YW', 2), ('A1VF5LN6SHFVFJ', 2), ('A31DVKL8JE4XAH', 2), ('A14LG64GIVZIGS', 2), ('A11BCJJG91KVOY', 2), ('A36MS27KAA5S26', 2), ('A1NOV41485TE0D', 2), ('A2FLJCJ3SW0TUY', 2), ('AOJP1MQSUVCI0', 2), ('A2GPJR489OIH42', 2), ('A3GTJ37QK2SPSB', 2), ('AUH792DXLWGXW', 2), ('A2TCOT455J0OUJ', 2), ('A3EKC0CWQQRXPJ', 2), ('A3M8R4JD1SIS76', 2), ('A1RIQUDE4B8NGX', 2), ('ATN4J5VS8Q0YM', 2), ('ASA4IINUZV05G', 2), ('A183YP9IX7UFSY', 2), ('A384HAQMS7XRZ4', 2), ('A1T2ZO4ARVSUGE', 2), ('A63GSML234W5B', 2), ('AFVDHQ4W359NH', 2), ('A1S7BFT0HDF3HA', 2), ('A29NV2YITU0EJK', 2), ('AH8SVUY191DSF', 2), ('A2XA8CW5DF4MNZ', 2), ('A3VSO43VH3H0AT', 2), ('A261P36T13YP98', 2), ('AKPLX8BPYR43I', 2), ('A1NEIH01B5X6QL', 2), ('A11LNPG39A2ZV4', 2), ('A1DQHS7MOVYYYA', 2), ('A2U6GHU2EMC5M5', 2), ('A26MBVPPXZN1YM', 2), ('A167KPMW1NBZJW', 2), ('AHUT55E980RDR', 2), ('A2QRXQPHDMFCQV', 2), ('A3Z9QN0RCOHEY', 2), ('AZA55FJD7CCZN', 2), ('A3LN4AOPBIUQWR', 2), ('A22B13EJTZKCTM', 2), ('AJ1ZEMJSJYDOC', 2), ('ACL0T7X1THPAV', 2), ('A3NZVCKY68MUFJ', 2), ('A1Q7A78VSQ5GQ4', 2), ('A3G2PUQ455XMXJ', 2), ('A1WMEOGVZKO8MI', 2), ('AJXDBMJBVUGSR', 2), ('A1FCQI065T3HYH', 2), ('A2UQIQUOAB47OT', 2), ('A14A0PZE10ZPGH', 2), ('A1TPW86OHXTXFC', 2), ('A30ODR6WBE61UB', 2), ('A1KOYOE8O2F1J4', 2), ('AERBY54RWPSO9', 2), ('A1U7LS93I03MFW', 2), ('A3MPV6UPZ3LLAM', 2), ('A37DXIENIDHTVY', 2), ('AZ9HGPJ25KJ8N', 2), ('A1K1JW1C5CUSUZ', 2), ('A30QUYVR42M46G', 2), ('AQRN2I355LZ3F', 2), ('A3J1OG086O1UEV', 2), ('A11SPSEM08VIXX', 2), ('A2OMQEK9OW2FY6', 2), ('AMPTUVYLEH4T8', 2), ('A33TRNCQK4IUO7', 2), ('A2VH0UT5EQFB6P', 2), ('A1VLVWTLV3LVHR', 2), ('A2GPEV42IO41CI', 2), ('A28CCN6VYHRUKS', 2), ('A3AW05VYWC3LX8', 2), ('A34BZM6S9L7QI4', 2), ('AMNNPDX9MFEUD', 2), ('A3LZA698SQPCXE', 2), ('A21BVL7PKG9BX8', 2), ('A2QL3AISOKZCX3', 2), ('A2PNOU7NXB1JE4', 2), ('A3PD8JD9L4WEII', 2), ('A1BJOHHLG0D965', 2), ('A11LNY2OLQSUSV', 2), ('A1QCUMGX7UHFL5', 2), ('A1M9126YPQPS3L', 2), ('AO4RDTZLAGCJ5', 2), ('A140ICK18NAAYR', 2), ('AV08SZ4CV954T', 2), ('A36HEY6E2XQT75', 2), ('A3ANETCTMAN1NP', 2), ('A1ZGXZW37JEZWH', 2), ('A8WRN6S6XGAG9', 2), ('A3TSJ9KDY18X1L', 2), ('AHPV4F8IVSC39', 2), ('A2FJ5NWS5LQ9LN', 2), ('AORGKBNQZ83O8', 2), ('A2FR1Z2SRYEXJD', 2), ('A1RFZGWX46N8H7', 2), ('AA98O5326L88T', 2), ('A3LGT6UZL99IW1', 2), ('A1SVXJZ3386U2D', 2), ('A37OYVYHR5U4NU', 2), ('A7YRO6JIVVG7D', 2), ('A23DFB8IUTIZM0', 2), ('A1ZVMTIRYZQDL4', 2), ('A2V9DTXTQ5YIMK', 2), ('A2X61KKXXR6WNP', 2), ('AGZEK96T7WK6', 2), ('A30FG2KXHTRPK8', 2), ('A3OC42X7H74D1Y', 2), ('A3K5NP63E32ZBG', 2), ('A17CP110C6E9KF', 2), ('A12S8UQEIPZJKE', 2), ('A3R5GTYQ50QVMD', 2), ('A2EKPIN655LOW8', 2), ('A2KSI9HP27450I', 2), ('A1501C38OCSEMA', 2), ('A1GQRGB8FGSLIZ', 2), ('A70NFM6KHU24F', 2), ('AV1F8VNJPLPTL', 2), ('A29FJK41SRREUH', 2), ('ALVYD6HBLYI0W', 2), ('A2LW5AL0KQ9P1M', 2), ('A3SMV35531YME', 2), ('A1JZFGZEZVWQPY', 2), ('A17437N1L775IJ', 2), ('A1VD0JJCNC8K76', 2), ('A34GM17T6WTJDK', 2), ('A1AG7F4Z1EOO5L', 2), ('A3SDBL8SJC2ME3', 2), ('A1ZO9D554VQO9F', 2), ('A10Y0CLCJ1L4LA', 2), ('A2UEB48LAWFUCW', 2), ('A2GA64WZK8PKBC', 2), ('ARARUVZ8RUF5T', 2), ('A11QUNPSCNHY62', 2), ('A1H5WDTJS8XETV', 2), ('A3TX46J8SBZPG3', 2), ('A39E7IWNHY62JT', 2), ('A1E3OB6QMBKRYZ', 2), ('A3U0S17XYK8XMJ', 2), ('A4SD8F79JBYG2', 2), ('A1VQBEW0G4IH1J', 2), ('A1C0SOX7DPXY65', 2), ('A1HUPQBIXPAZ9I', 2), ('ABCNO99OFECJ0', 2), ('AR3EVUQF0AC7R', 2), ('A1H1BPKUMGVIA8', 2), ('A3BRMNYJHD5AT3', 2), ('AQJSMLYHE6GN4', 2), ('A2RJAM98U9KA38', 2), ('AVPNQUVZWMDSX', 2), ('A3OXHLG6DIBRW8', 2), ('A3DOPYDOS49I3T', 2), ('AYWUHB7N8XGZQ', 2), ('A1PI8VBCXXSGC7', 2), ('AI8EMB0HUC6Z5', 2), ('A3CN9CCJUNIPKT', 2), ('A1HM4GGGNKZ37B', 2), ('ASJ0MKRFZC47B', 2), ('A25HYPL2XKQPZB', 2), ('A4U27URFECK1U', 2), ('A27Q1X75QCWTID', 2), ('A32T2H8150OJLU', 2), ('A3EPJSPH03AS29', 2), ('A1JBBR4MNGQ70G', 2), ('A1BTNPMESS99PL', 2), ('A2LXC5ZHHP0WXP', 2), ('AVFNR0RCQB8Y9', 2), ('AYNTULRNAIPNY', 2), ('ALBW2ZBS6Z2AY', 2), ('A7S83KW2BH20D', 2), ('A2V5R832QCSOMX', 2), ('AHFZOJAV889Y9', 2), ('A11T807LX2EF00', 2), ('AGKSJ70C1ZBQD', 2), ('A30QAOLNZ4415R', 2), ('AQ3IN3MRXQ5KH', 2), ('A1VUN4JU731CBH', 2), ('A16I6WJUEBJ1C3', 2), ('A3JL8RSRRJRK0I', 2), ('A3LXXYBYUHZWS5', 2), ('A1F5O1USOUOOXI', 2), ('A5K5DIDKAML5C', 2), ('A3N4VTNFPMTHEF', 2), ('A2VZP50FSYD6CO', 2), ('A250AXLRBVYKB4', 2), ('AFFVUZEGP1FDQ', 2), ('A3CNJR9MD5BFKL', 2), ('AZA595ZPIG240', 2), ('A2RBC8IRQAZLWV', 2), ('A2WY52YD5GAEIB', 2), ('A1J5HIF41ENSMZ', 2), ('A4NXA2IJNE10H', 2), ('A2507ZYWGMY9BK', 2), ('ASF0R1CMSF26F', 2), ('A2561PYW9TTMYD', 2), ('A11OTLEDSW8ZXD', 2), ('AF03A958JD9GO', 2), ('A3FQZH8PJB535A', 2), ('A11I1I9QLMAM1A', 2), ('A1BXVZSQOJE6UE', 2), ('A2XFGSCGUXRRNG', 2), ('A3FHDBBXZFNQUK', 2), ('A3M7BCQKSQAK4L', 2), ('A2ZY49IDE6TY5I', 2), ('A3H6NNGCINPLEC', 2), ('A2BZ7MYTSNYMEW', 2), ('AMFDSHV567OLS', 2), ('A28IIVKXOE1ATF', 2), ('A22GLZ0P4MGO0W', 2), ('A2DXENZNO2JT4F', 2), ('A1912KE9NOL3AC', 2), ('A2MZXLN9TLP1R4', 2), ('A1L20MX19ZMNW5', 2), ('AWKOLLCRFFZAM', 2), ('A17USEQCX31NS2', 2), ('A3FD3BHIUYIFPD', 2), ('A13GZCHAMKWYBT', 2), ('AT28RL25Q2OLK', 2), ('A1YVO5V1SO18DZ', 2), ('A1YLHSCBYXSDG8', 2), ('AEM57NVIFQ8B9', 2), ('AK0CENM3LUM28', 2), ('A1Y5ERIKQBEMSP', 2), ('A37RIRXE3WECZ', 2), ('A14638TGYH7GD9', 2), ('A2P6KAWXJ16234', 2), ('A1O97G2QQSM41F', 2), ('AV67P142JTRAH', 2), ('A2V5M5EJPOD2IU', 2), ('AL5RP8DS1NUV3', 2), ('A96GQNMC7BPC3', 2), ('A2TXMYYGSZCSZ1', 2), ('AC6LV5D2RKTIR', 2), ('A1LP1PGQLL9B5F', 2), ('A336FE20YZZL3A', 2), ('AWJAVY2B22712', 2), ('A3ITL5EYKTZTF0', 2), ('A3CG93783LP0FO', 2), ('A2JHHYYOOO4DS6', 2), ('A2YSTR9QW1U95G', 2), ('A3V55DVYU80LDS', 2), ('A1N655X9X7C6QY', 2), ('A2ZHSXTQO831OS', 2), ('A2UW9WI22QKMZE', 2), ('A1BKJNAWJT2TG2', 2), ('A1PAGHECG401K1', 2), ('A22VNXHU6IZ5MT', 2), ('AF95FSZHSTICX', 2), ('A1YCQHS3N8E8UE', 2), ('AP4UAOY90P11K', 2), ('A3MFU0GVZUVH3K', 2), ('ADX9NTN40T1HN', 2), ('AW3VZ5O895LRK', 2), ('A3H7NPNDMGLOU4', 2), ('A3N6PCOSINNGFF', 2), ('A2I3XS9TO93Q0F', 2), ('A1KI3173CO6TK2', 2), ('A33LH3ROCD8AY4', 2), ('APKCNW1CVCES2', 2), ('A381MT950I6KRL', 2), ('A3CMDR34KFLGFX', 2), ('A1WT3TVHANP7ZF', 2), ('A2FYK4HWXZRLPN', 2), ('AZAVU4V0J8S4V', 2), ('A3HPCRD9RX351S', 2), ('AMB2Z4FMDBWQY', 2), ('AHGGSY182427', 2), ('A1YZEKPPMXG1YJ', 2), ('A194K60CWZ371J', 2), ('AHAJOKPTCGT4N', 2), ('A3KMYHC1E69P32', 2), ('A19V2TRL68EOHV', 2), ('ASPL0SF3VVEZH', 2), ('AT0E6UBVJMJ6W', 2), ('A3K3SE4RK846WO', 2), ('A3SSBBEGNC7G07', 2), ('A11EXFO14WEJM1', 2), ('A10GLTM1B7EHX6', 2), ('A2ECM9HLMC242H', 2), ('ACT1EPHFS9E7V', 2), ('AT53ZTTO707MB', 2), ('A28I98PKHZZKVB', 2), ('A2503LT8PZIHAD', 2), ('A2ZJDGVJ45AR5W', 2), ('A31AVXMESQRQAC', 2), ('A33B3XCIXB4ZVG', 2), ('A2LAS014NSRW72', 2), ('A2XAKGRUHIE2ZA', 2), ('A24O15MYDNLZBE', 2), ('A1BZN88T4GSZG0', 2), ('A1EF5ODLYYMZIU', 2), ('A1J3T2AHYBSRBI', 2), ('A1VYFEJM12ZP11', 2), ('A3EFSLEMHNPP6A', 2), ('A2DDVD6SPKZOZK', 2), ('AQNX0WN00JEVE', 2), ('A2AVMEB8PQOTTE', 2), ('A1ZA7GMVMCO1GF', 2), ('A2UOLBX7155MY3', 2), ('AGZK126DNQ2FN', 2), ('A1WAEATUU7F3GP', 2), ('A1A535TCGNMVPI', 2), ('A1F7YU6O5RU432', 2), ('A36K8DLXYRUMBR', 2), ('A1PB97BLMR9X2S', 2), ('A3T0OTH5072YRE', 2), ('A2AWVROFGSZU4E', 2), ('A1KSDKIZ4XN3GG', 2), ('AYW1TGDCP2OK6', 2), ('A24F1UX8ZT5IXY', 2), ('A27GVNKXDNQVNS', 2), ('APCSV85SWASN2', 2), ('A36NUDST4Y5JBA', 2), ('A2FEM4XI55SY0W', 2), ('A19JDXB5R33C7R', 2), ('A356RFKNIG043B', 2), ('A3TLY2LWGRULDQ', 2), ('A1H4QWLST1N3D0', 2), ('A1FPQ54AIB26L0', 2), ('A21SL94J53BDS9', 2), ('A3RMS65F4GT4ML', 2), ('A1VQHH85U7PX0', 2), ('A1SYLII0808HD6', 2), ('AKJ3P4XK1KN5Y', 2), ('A313H6238N589', 2), ('A1IDWUYX4QXTUE', 2), ('A3DFH4CKPIT0N9', 2), ('AKR4DH6WLF6GG', 2), ('A6B92PTV0Z1SU', 2), ('A33775AIB1A664', 2), ('A2ULQOGN59LDNK', 2), ('A1D9V11QUHXENQ', 2), ('AW5XVB0OM0O4L', 2), ('A2CVXUY1EYQGGA', 2), ('A3F3B1JPACN215', 2), ('A343C98QJO0JBE', 2), ('A1TR1R2QKWRSRA', 2), ('A4WEZJOIZIV4U', 2), ('A26BU3ZU0R5IPF', 2), ('ADZIJQN6MNRAB', 2), ('A2D2CZEHI7KO76', 2), ('A3464G00K8ZYD1', 2), ('A15XY6GGKD3B6D', 2), ('A9ESHA5MS6S6L', 2), ('A10IKHRUSMKP46', 2), ('A2FL580YGSPRV3', 2), ('A2OWR5G2OAQF7C', 2), ('A15U38AWJ3JDN5', 2), ('A3BKNXX8QFIXIV', 2), ('A18ECVX2RJ7HUE', 2), ('A3JLOIXFM75QNV', 2), ('ALDAF4VVLFRHP', 2), ('AW6J9IILGOZY3', 2), ('AJJQ0A2XEZS8Y', 2), ('A2PU80LCKRMC9X', 2), ('A1QW8LFDMGW4SJ', 2), ('A1D6DFC3AGV3JZ', 2), ('A3COBFLNYK52TE', 2), ('APBDZ88BBTN4F', 2), ('A2RPVYLTOWGGRP', 2), ('A39LRLKACX89IP', 2), ('AEE52GO98PFOL', 2), ('A1NC9AGZOBI0M1', 2), ('A1KDUQ2HU0WD68', 2), ('A19GJX6TTSK0C0', 2), ('AB85KZNR6ZVC6', 2), ('ADEVBXUS0RSIR', 2), ('A1QR76SYGTXJN5', 2), ('A3V6Z4RCDGRC44', 2), ('A3GIQO59ELLU8Y', 2), ('A3HQAPXAJV7PRX', 2), ('A28TWWUAWFVCTR', 2), ('A1GUX6R8DV3ZLY', 2), ('A3K91X9X2ARDOK', 2), ('A720S06Y6KV49', 2), ('A2NML53YCHS80S', 2), ('A17UCHSMWI8USS', 2), ('A2F1P10GGZ7K2T', 2), ('A3MUSWDCTZINQZ', 2), ('A1NN8Q1DLAYPGH', 2), ('A2C27IQUH9N1Z', 2), ('A2L0WJMOT484GM', 2), ('A1B4MIXYVIKMU2', 2), ('A2CT2SA6KFE8GC', 2), ('A3CHMHGSJSQ02J', 2), ('A2XCCN239AR1XK', 2), ('A39WWMBA0299ZF', 2), ('AX54G5AL870Q8', 2), ('A2UBSGFCP2QFNV', 2), ('A1I7QGUDP043DG', 2), ('A3ULJE7UMUGSXR', 2), ('A3FQWCPIPNNQYW', 2), ('A1CHOKV10NEI8X', 2), ('A3KDO3XV0MK1GX', 2), ('A35Q0RBM3YNQNF', 2), ('AJ1JLGR8IDN61', 2), ('A2ZJMLZ1IA2YA9', 2), ('A1WKEAS58297E5', 2), ('A33DKGANHQJSXC', 2), ('AO2EURP2Y4JZM', 2), ('A1V1EP514B5H7Y', 2), ('A3PLXROA2VNLHA', 2), ('A3BH63GKL7MQ2K', 2), ('A26A64X86VL1R4', 2), ('A146L0JWX6KKYJ', 2), ('AG8E2F0G98ZTB', 2), ('A3O0GVCFV59SZ5', 2), ('A2QEZU2SHYBHM5', 2), ('A29534U2P9CLNR', 2), ('A3JY5JLQ1ENMHX', 2), ('AYB4ELCS5AM8P', 2), ('A14MSHFCXPARFS', 2), ('A5U5T6EWH90O0', 2), ('A38H4XCCPLRF93', 2), ('A22JZWODQCBV3Y', 2), ('A29M09QBG9TZLP', 2), ('A3N4CUW4UYC9I3', 2), ('A1OA65HXZIINHR', 2), ('A3E7YWI8VV7VCV', 2), ('A3OKH5G69MS8D9', 2), ('A20J0NBT6FWXXM', 2), ('AM4RTAAJ5CV4I', 2), ('A1LFXR2GB56XWA', 2), ('A23GS4UGLQBG2V', 2), ('AW5JSQCHC2ZJO', 2), ('AN9J46667D80O', 2), ('A1OTYEK0MTBZ83', 2), ('A2L6BT1PVV9YN0', 2), ('ABP2UMJY61K8A', 2), ('A2VHCA21QKNEKE', 2), ('A1004703RC79J9', 2), ('A1YFDTLGCL9BRO', 2), ('A3VBZDYGHF4NK8', 2), ('A2O9ZGE4NN9XP1', 2), ('A1VJ7HYM1EC94M', 2), ('ABIXKV6USOPKS', 2), ('A3OIQ3T0OIKY66', 2), ('A2LXX47A0KMJVX', 2), ('A3PWPNZVMNX3PA', 2), ('A2PA2K3GWOJ7YD', 2), ('A2H667ZUNLNTF1', 2), ('A264UDLWWRJ7X4', 2), ('A3GMVCTJTHYG1F', 2), ('A2TBAUW2W7J538', 2), ('A136YD08SCJ2LV', 1), ('A1ELW55VCZ1BVB', 1), ('AVK8NCLIBYKXD', 1), ('A2MA4ATED1B1GB', 1), ('A1QS8MYNL0KQBB', 1), ('A1BHSP8TPTH8Y5', 1), ('A3AWV00ZU7MSK1', 1), ('A3PXFUL4WX8850', 1), ('A3NWN21HH5CEWZ', 1), ('ARZL0MKSVHNPI', 1), ('A1UVWTNPX8TR0G', 1), ('AOT7CO7UO0C3I', 1), ('A1QAGUP0DUIQWQ', 1), ('A5GPH59NDWJRB', 1), ('A3U29LBT749HJ0', 1), ('A1NGKRSUNB320M', 1), ('A3JKK3VYJU990R', 1), ('A3Q7ZXHEZBE4IJ', 1), ('AGEKVD8JPZQMT', 1), ('A26SO3TOT2TLJE', 1), ('A36EW68H08UOCS', 1), ('A1G8USRY17IR1X', 1), ('AAVLB0GGEKRCO', 1), ('A2864WQSANWUBT', 1), ('A2FFWYG9YYZFA5', 1), ('A3PMEJAYKF3VUC', 1), ('ALYZJ7W14YS26', 1), ('A1OF72PQR4MII1', 1), ('A1NS6O584WD5FJ', 1), ('A6VOQ7HCFLPGP', 1), ('AGBRTPPIJT6UK', 1), ('A32XGYDA14KT13', 1), ('APHX2A37KDRAH', 1), ('A2A4M3EDEUKG3L', 1), ('AVIZDOKC43P96', 1), ('A2HR0IL3TC4CKL', 1), ('A324A25PC1DFMF', 1), ('A378508GC2WADY', 1), ('A1ZENB34HH2EIM', 1), ('A22KL4WOK6GTW2', 1), ('AB0TLNLNOAGY4', 1), ('A1VKAY0XWLA2CY', 1), ('A3DLM4RYYGARO0', 1), ('A2G9UDL72YUTT8', 1), ('A16KQ3EY6UEJGQ', 1), ('AIAJTO2P8LJLW', 1), ('AMS2CPERWN7JV', 1), ('A1C7Y31S5QXNTR', 1), ('A2G6UB5M4W95EY', 1), ('AONUCJBC85BL', 1), ('A34BFOXOM87TCY', 1), ('A34H90POFYRHGT', 1), ('A2R80172BBNSTA', 1), ('A2WGJG1QUCXCT9', 1), ('A2240J73FTPR21', 1), ('A3BBCUVYMYQKA2', 1), ('A1E1L1OJZQI3OO', 1), ('A2I9WSHWUBKGF1', 1), ('A2WOHO6ELU6G6K', 1), ('A2PR5G1680ISEY', 1), ('A17D8RDGKBZ5TX', 1), ('A19OR7BSMSPDFB', 1), ('A20N2G3UIZ7DFF', 1), ('A1E5WXNTI7EO2A', 1), ('AZ9N3928BGQ0E', 1), ('A1XJ3M3JTMD3HZ', 1), ('A2OR4QUQSUMOW7', 1), ('AQ55H30MZSV0Q', 1), ('AAUUKWXDKP3UX', 1), ('AIWDGRTLV7IQF', 1), ('ATS7LYGLUX34L', 1), ('A2I5LVVQ7WXEH6', 1), ('A11WAEQIABD2FR', 1), ('A277TO3PKKNYDH', 1), ('A1II2ZRPKZAQQD', 1), ('A2AU79QNPXAVG6', 1), ('A3SBGC1BQ5TU3X', 1), ('A2E0TJ49NACDBA', 1), ('A20ZMC10HTZ4ZW', 1), ('A2517FDYMU7R3K', 1), ('A2533OV14C40NS', 1), ('AV1ITXWQ13PN6', 1), ('ARZBYTDVQUK6Z', 1), ('ATECU14VUIOJ0', 1), ('A2YV6F6DLENNTM', 1), ('A1WUQA85YW6QNP', 1), ('A3SZXYX9YEDGT6', 1), ('A1TW9ZGRDQQZ2Y', 1), ('A2BZ16RKE13PKV', 1), ('A20V7N5A22F4BM', 1), ('A1SM5M86OI9WZW', 1), ('A28UMA3GW9L124', 1), ('A3K8TYU7UOUTR0', 1), ('A2JE8OS1NN9YDB', 1), ('A397T67APEEASP', 1), ('A3MSB482DIB9SL', 1), ('A3M6RVUVZOQZLB', 1), ('ARQPQ8LF5NTEZ', 1), ('A3UC3YT2E65LZO', 1), ('A1S5KB9FYUSKIQ', 1), ('A224NBGT01D660', 1), ('A1ZK0ZGI7S016B', 1), ('ALL2CFUFMW8OS', 1), ('A3BSGAA7N0O1SC', 1), ('A3A7Y3TSPPZU9T', 1), ('A2G7B7FKP2O2PU', 1), ('A1QQQST9Z1V33K', 1), ('A38CQL2Y10O8JP', 1), ('A3VTSPF7JQ80UQ', 1), ('AM9LRYG6YXV83', 1), ('ALGI34BYWIXZG', 1), ('A1L9ZZHTXX9TCS', 1), ('A325GQ03IBCYJN', 1), ('A2E1EFNIZL2FVA', 1), ('A2QYWB6UH4J7Q0', 1), ('A30R8VFR16RE32', 1), ('A14X6A879W6GEA', 1), ('A1486KL0IOM7VM', 1), ('A2MJ8OL2FYN7CW', 1), ('AGSWTH7SP2256', 1), ('A3861IBNFDR8RU', 1), ('A3D0G7ZGY2LCOG', 1), ('A18LBGL7L9FEZV', 1), ('A3VMCKYN22X0CO', 1), ('A3HETHW2XD3DWH', 1), ('A1A027UELK4JZC', 1), ('AJX23GRISOTOD', 1), ('A1PQ7460RQKIWP', 1), ('AMIADI90GVNSX', 1), ('AR6E0WAEOCUKI', 1), ('A2XFM8PN6G0B02', 1), ('A2M6OZ8KDJGIJK', 1), ('A4PTUEVFE13K6', 1), ('AY5PS2AJ1JS8F', 1), ('A22UERQMC8YTL7', 1), ('A3DH53FPYSP9E', 1), ('A14BTJRH9VNLJJ', 1), ('AC0HPFQVBZVGY', 1), ('A1KPALLWZ73M27', 1), ('A136LRUR0RDH9J', 1), ('A28J8ZFUBAC40Q', 1), ('A6X1O3A5C5FX1', 1), ('A3P1KKKWOEVZM5', 1), ('A2ME89MSWVG9NF', 1), ('A39K52QDP4C3ZS', 1), ('A1XR58IRKP3HEZ', 1), ('A38O4FPZOIVS49', 1), ('A2KYBMF9HKMY1U', 1), ('A343CRJ1JDE6RP', 1), ('A3KPJ1MOGTZVGC', 1), ('A2BMOZXJXXEKXQ', 1), ('A26XOOCIJWDITO', 1), ('A1XTBANUTZ4EEL', 1), ('A1D1IDI5S9TN9D', 1), ('A1PYNMASUM1MD8', 1), ('ATY70MUHFXL6K', 1), ('A2UDGZUEYHULS5', 1), ('A20VMMW9HI4SUL', 1), ('A1DO6DKWF3CMBD', 1), ('A26UNIPEVYE9DE', 1), ('A3JY84IWPREJ5P', 1), ('AMUP8DYE7EAN2', 1), ('A3FDEI5P21XX6S', 1), ('A1J199YQWQ6NFD', 1), ('A2YTI3LKMI28LG', 1), ('A20XBV5UO5ZS2S', 1), ('A3T0UO47V8MN9O', 1), ('A279A4Y2N1CQ26', 1), ('A19DW3VKM5KKYB', 1), ('A2UK25KI4T6GCI', 1), ('A32NEDX6UVV8DE', 1), ('A2VGNC4PI2PR5A', 1), ('A2KY76HK8DYRL3', 1), ('A221JPBMFOZZED', 1), ('A2IQV2ITUT56A5', 1), ('A110AFBE979HFW', 1), ('A1WCJEZS66D224', 1), ('A601IGAG8FWGW', 1), ('A3KNJ386MRBPZC', 1), ('A2UQIIJ2CD8REE', 1), ('A3J356L2ADK05Z', 1), ('A1VT804QG340FV', 1), ('A107H3XGCV6Y4Q', 1), ('A3BFDEBT5IV4UN', 1), ('A1K5K5K3F01210', 1), ('AXR3CV6A4FMBG', 1), ('A11XAIFA10G7TS', 1), ('A3RCAL4DME8F7S', 1), ('AY1L1H0MUMAMC', 1), ('A1TP2RW7KDI5AZ', 1), ('A30E77CBQ8UJX1', 1), ('A2RIAXGSBP65BJ', 1), ('A33REC3J2JU2EL', 1), ('A15Q9YEG1XPEJN', 1), ('A2LE2MFI4QTQY4', 1), ('A2PN65B6BSTIYZ', 1), ('A2DF62DP20RIXF', 1), ('A1PC9DDKBBML9G', 1), ('A6ZPLVAUQ6695', 1), ('ANRD6B90QL0FF', 1), ('A8T9EP7QKGR4T', 1), ('A1QNYLBG73QRNF', 1), ('A2F7CSE6KT7NI4', 1), ('A3VA6ER5Y6IUDG', 1), ('A80HSYQYS2JX0', 1), ('A3HCZTTUH3CW9Z', 1), ('A39KS438IBRU6E', 1), ('A24V5T8E9AYZB', 1), ('A2RMVKGPSIISC0', 1), ('A1SP366J07MNU', 1), ('A18KUYPTSJ9BO4', 1), ('A1H88L8X6HM1BQ', 1), ('A2QY269IWXBU6B', 1), ('A2G88IFSSK591Y', 1), ('A2QOXA1R65I7WT', 1), ('A29TDHNT47LR05', 1), ('A12CE4AT978LDJ', 1), ('A7RFDGVXDYQLJ', 1), ('A3JEP3NXRVZHPV', 1), ('A3AJCNF56KL0B3', 1), ('AY0CI4GDMET06', 1), ('A1EGZYG8PC51U5', 1), ('A20MMOYFA8BTNR', 1), ('A1EH2S92FHWZRP', 1), ('ACUYLZLJJ4WNM', 1), ('A1YVDY3TISDRE1', 1), ('A16O0S1QROXGJM', 1), ('A1IGCX2XNZPUVF', 1), ('A1IGO319TZ0AUF', 1), ('A2AZIQJGBLU7WN', 1), ('AQ2FC1DLKVD8H', 1), ('A2JLOEKHQPV96K', 1), ('A3K8AU6BAGN60E', 1), ('A1LH31QKAMVZ2A', 1), ('AOZ2MGUTFOE8U', 1), ('A100ZQDV7L8PVV', 1), ('A3A6GXILVT9JNW', 1), ('A34W7QA4J5UTOR', 1), ('A357B3PUHSVQA', 1), ('A2O421DTA8J0RW', 1), ('A12XDEMP7PQPDT', 1), ('AE2MKYLMTYF21', 1), ('A3H35C69DW5UJG', 1), ('A1VABWDOUQLULZ', 1), ('A3RGN75LHYAG8U', 1), ('A2AOZQ3WTNVVOK', 1), ('A1MRRMHGV3PN5W', 1), ('A26EQ8U96JA92T', 1), ('A36L7VJWDO7AN2', 1), ('A2ANWGPM3M2JPD', 1), ('A2Z125PVH4WZE7', 1), ('A3LOGP4VA9DX46', 1), ('A71W7G4TCTH3T', 1), ('AJEDVT3OSUZCF', 1), ('AV5UHOOAXF5FN', 1), ('A2KWE2ZM1EEBGJ', 1), ('A2AGBL998D0FYY', 1), ('A36PFPY4O3E1DV', 1), ('A2WBEJH71SND3T', 1), ('A79372WBA9IJM', 1), ('ADUDP6PUDA2Z1', 1), ('A3PCS59M8DKBTT', 1), ('A1BNJP5EUIO6GQ', 1), ('A1C4PZDQ84I9MA', 1), ('A26U7D0N4PCTNT', 1), ('A1DTCJV6KOMJOA', 1), ('A1HGXLP6WATS4B', 1), ('A3QYDL5CDNYN66', 1), ('A2SYO0E2LDZ7YN', 1), ('A1PZW5JKLA85F1', 1), ('A2I6DISKM0YKM8', 1), ('A2BVNVJOFXGZUB', 1), ('A4UGMKUSX9XHI', 1), ('A1PQ76H0AFQ0CR', 1), ('A1DNXL8BIR5R8R', 1), ('AJKWF4W7QD4NS', 1), ('A2N9Y04UFXIN8B', 1), ('ACUED9GUQ9AJX', 1), ('A27TG3E0Z6G7YK', 1), ('A1EPHD4E18OFWO', 1), ('A221I9R7I92ORO', 1), ('A1JBZ635HF1SVO', 1), ('A110RS7QL8Q1UX', 1), ('AHFGCH8LANEZK', 1), ('A22PLOIF88X7ZS', 1), ('AB4SFDDO5DT8P', 1), ('AOEP96629WHHA', 1), ('A2GJSO5UUMNLX0', 1), ('A38K04MT5LR0JC', 1), ('A2EDTVVR9IFNLW', 1), ('A2AGQEL3O3S9H6', 1), ('A3VSMUBKY8HYB2', 1), ('A3GQSZ2RVVXDCZ', 1), ('A3DP111SNFP3K4', 1), ('ADBKEDZKYHU3A', 1), ('A2TTHN1UMO82VY', 1), ('A2T7GZ74MZI0MN', 1), ('A2LTEAUTDYHS85', 1), ('A3SLC8F6VIWXIR', 1), ('A1ZIRDTCGBGWJP', 1), ('A2S7U162UO0ZL5', 1), ('ACXNT9OPHWF7G', 1), ('A2JD5NMZA2GD27', 1), ('AWJBO5XGIW8ZS', 1), ('A2EMP366TTS6E1', 1), ('AQCQ5F0OJXMG9', 1), ('AHQ13I9CI4US6', 1), ('AG42CYU5P8NVQ', 1), ('A3JTBJC5WSEZ7Q', 1), ('A3C2JQC6R2K52C', 1), ('A3O0I3Y8G9EMWU', 1), ('A1W78VPTNJJOF0', 1), ('A18AK2LLQU80SA', 1), ('A39GKCZWTMG27E', 1), ('A2IYX5W3A1N3VB', 1), ('AWCNGZ5O54TCA', 1), ('A2VX6EB5YL5GXM', 1), ('ATQ22E6YAUNXP', 1), ('A2WB4OWBUH2VQX', 1), ('A1I2U8NT5J6P1N', 1), ('A33XWLW7XXQV5A', 1), ('A1UB5FRFV967DZ', 1), ('A17BUUBOU0598B', 1), ('A3JJA4DBOLTFFH', 1), ('A3LDLV1GWQJLEQ', 1), ('A3CBCVHIK3G76X', 1), ('A3GX6U4H2CRY71', 1), ('AKDIEY3APNBR', 1), ('A22B48DU45M23C', 1), ('A28ZDVY6NV75P', 1), ('AENK4X1X4C5CM', 1), ('A2EDSCVWEMCUG', 1), ('AIOEOKJPFQ2NX', 1), ('A1QXWM5P0CT45', 1), ('A3HR6MRCWKYKNB', 1), ('A3HLTHHLPKLRQA', 1), ('A23W6ZZMF367PI', 1), ('A1RR36YKJB917S', 1), ('A2X2CJK2C5WZVW', 1), ('A1K0MZ12Y8VX2E', 1), ('A3O60C5513YYD6', 1), ('A3E07UISGJ2BT7', 1), ('A2JGO3HXCDWTS1', 1), ('AIX91OJ0O3BV2', 1), ('AYOMAHLWRQHUG', 1), ('A2K4HN6EECBNR3', 1), ('ASGI7E0AJ8H5X', 1), ('ASIN9DGFRUOEQ', 1), ('A3AHDR4F2J7YXX', 1), ('A1CATDPTT4YLJH', 1), ('A3TI1WDAEOTD0I', 1), ('A3UPYGJKZ0XTU4', 1), ('AAZ5OJ2OOJ2DK', 1), ('A3C9Q3KTNNLJJ', 1), ('ACUTHHE0G8FU3', 1), ('A1YCV76MUFESR1', 1), ('A1WT2W9CWZDP95', 1), ('A2JFL163HUJZG3', 1), ('AFMBR3EQ6PMWN', 1), ('A27SKL7BOLC2CO', 1), ('A17FUPSRQ30GZ1', 1), ('A2WAF7BZP2QOM3', 1), ('A1143YEAZYMYHJ', 1), ('A2SU6CA6HSK85I', 1), ('A1RPA3DYLU7PM0', 1), ('AGUFVI2DGNN8O', 1), ('A1LVJ7K6NH6Q1H', 1), ('ABQEDHBG91BBR', 1), ('AXORL04KX8ZL3', 1), ('A2J19U8H5SSFCJ', 1), ('AQY5XBYSENNZQ', 1), ('ANKQGTXHREOI5', 1), ('A2JXCOUGYS5Y4J', 1), ('A26X7W5UM5QFT4', 1), ('A8D99K9SW08AC', 1), ('A1EZLLHWJULK2K', 1), ('A28ZMM01UZ44LR', 1), ('A1FDVT0DLJWV78', 1), ('A2MG95DI29NJTJ', 1), ('A2DKA8PMGZFXME', 1), ('A2ZVYE2WCSBUNP', 1), ('AWE13F1HOCZNT', 1), ('A3JZUGERNK38IW', 1), ('A2MEHF9A1E749H', 1), ('A2NY0NGQATY1B6', 1), ('A1777PY0HEYIPN', 1), ('A1S5XHBZIYOGRE', 1), ('AY6WN7CHFJDW4', 1), ('A1F2EYORWOZ3G1', 1), ('ADX9K62LS1J9O', 1), ('A1UV5NB0DXTSWH', 1), ('A3FARCKMBHQZLY', 1), ('A3W1G5S2T72XDJ', 1), ('A3OIMUR42XIOFQ', 1), ('AZ78HT7H9DVJG', 1), ('A8GR4PH5NW96V', 1), ('AY3EENC2BGTGK', 1), ('A11ED8O95W2103', 1), ('A1J9JNWBOGLBYW', 1), ('A22T45HIAZH27R', 1), ('A3CU0QL4C4LAA8', 1), ('A2K2PSLK9L94PS', 1), ('A3RU2P4FAACQ1J', 1), ('AUAX1QWUCYKSX', 1), ('A25PYMGLCQKSSG', 1), ('A215WH6RUDUCMP', 1), ('A1AK356546890Q', 1), ('A147SS0ZPZPPFC', 1), ('A5729WXCIAQ5V', 1), ('A3EKLO0WDCM01F', 1), ('A2H4AWIOK1REMX', 1), ('A1FLQM52V9YV94', 1), ('AKPYS9VSM3LNX', 1), ('A2UYGOYMV73826', 1), ('A2WH7KAMB9GJGK', 1), ('A3TNM3C9ENUCFW', 1), ('A11OQUV1ZI2MT2', 1), ('AKHFY3VCNZL2W', 1), ('AOBOI5Q1FLGVE', 1), ('A29TZ0192IY8IZ', 1), ('A3KMTOFTUUNFHG', 1), ('A13MZ8L5DC4JHC', 1), ('A97H5I4P5PCEM', 1), ('A1JV4QKTEB7QBL', 1), ('A3DRSOGQJRX10', 1), ('A18RP7I10CX0NR', 1), ('A2TOB32I2TYSOV', 1), ('A39ISGPKMF9X0R', 1), ('A1DSD27BCHP8PK', 1), ('A1ZBGFVVMDPOPD', 1), ('A342PAZ5NSQRM3', 1), ('A1QBOC76MIOJYP', 1), ('A28F80GKYG7XBO', 1), ('AOMEH9W6LHC4S', 1), ('A33X80DIINN48Y', 1), ('A2Q2A6JKY95RTP', 1), ('APPJNVNF4BFLB', 1), ('A1BBYSMT9YCODI', 1), ('A2Q8GFSEUSGJ51', 1), ('A2VARW5N5Z78F2', 1), ('A1W4F91DH3XPB2', 1), ('A1OPZ3BUTEL47R', 1), ('A194TTC6MBEGJ7', 1), ('AXAJXJZUL2J5P', 1), ('A3DZFEICHK5LF2', 1), ('A4BS602J2WCXA', 1), ('A19PPFERQ3JFDS', 1), ('A2QETZZ5EKH5RQ', 1), ('A37071Q86HR6FU', 1), ('A1H80WDFOR94Q5', 1), ('A28QWROCJNAUQX', 1), ('A3KZ7OH4VRL048', 1), ('A15FSBJ2CALIX1', 1), ('A1LWYVLGA3N2R4', 1), ('A3EWUMHYMPD7IB', 1), ('A335GUD1YBS31U', 1), ('AL5CUWBFBMWYQ', 1), ('A3J5IKBQOHNJ8G', 1), ('A3HM47EPTM9MR3', 1), ('A25RTRAPQAJBDJ', 1), ('A38Z8ZXX1BPFRL', 1), ('A20I9N5D71O8UT', 1), ('A2YZ5Q90PR92HH', 1), ('A10ASLX7DTTB6Z', 1), ('A3F3B6HY9RJI04', 1), ('A2KOV8XWZOZ0FQ', 1), ('A1CC1IKCUIQMUV', 1), ('A1XAR9ESZ5Q6CV', 1), ('A2RKL3Y3YV0D50', 1), ('A3GUK4RWXKHS9I', 1), ('A30TUN35ZE3NEU', 1), ('ALQ4USPEQ9L5N', 1), ('A1M5ZT35YX6TIN', 1), ('A1U7YAYZCG6ELL', 1), ('ASQK4UT56QBTI', 1), ('A16PUD6V3KAZ0Q', 1), ('A316GGZZY27DN5', 1), ('A383XURHVF8ON6', 1), ('A38VQ2TIPPBKNN', 1), ('AE12AEJFCOGGY', 1), ('A1V68CETC0BXV7', 1), ('A2T689YVOAYGGD', 1), ('A10Z8FC0SMU5VQ', 1), ('A3GSTWRM0DOU86', 1), ('AQ3M9XRADAMNN', 1), ('A1WP940JZL83T7', 1), ('A2CA0MYM4FCQSJ', 1), ('A17OYW896EY37V', 1), ('A2AYJJAFNSGSU1', 1), ('A2YSFKX18XTHED', 1), ('AFSDOEM2R35GR', 1), ('A3JJUCA6K4P31H', 1), ('A2W1MMTI4BNJKD', 1), ('AO0HPTFIKQE9B', 1), ('A1UUI7PFQ5FU4E', 1), ('A175N19FS2B4J', 1), ('A1QMN8SJYRREMT', 1), ('A1CK5CZ714F34T', 1), ('A17KQV8BC332VS', 1), ('A11W2ZN3VGJOAR', 1), ('AYWHCM0TJ4737', 1), ('A24Y24AIQFYP8O', 1), ('A3C845FOFJWOOX', 1), ('AA8F2HV4DPV2T', 1), ('A156BOR3CC0X1B', 1), ('A1TR9417Z4U72F', 1), ('A3MJXIT2U5AY5K', 1), ('A3VGAP2KLCBNBB', 1), ('A1RLA4JD522O0S', 1), ('A3QZU3A1L17O3M', 1), ('AOLKA6NI7GN38', 1), ('A3MHGA6BJJ7P27', 1), ('A2FS38D943KX12', 1), ('A6D07P6DHMXIP', 1), ('A1A25TP5D0L22V', 1), ('AVHLBVRZI8ZEX', 1), ('A1FRADBDXQPJJC', 1), ('A1RPTVW5VEOSI', 1), ('A2MHCTX43MIMDZ', 1), ('AG6TX1ZJHLMO7', 1), ('A1XG1W04F0M9QT', 1), ('A106Q1A6LGU4DP', 1), ('A1RRHET1QIP1YK', 1), ('AS6SH2JM2YY3H', 1), ('A3T8WOFS5RD2IR', 1), ('AC1NNWMSGWD2L', 1), ('AQH1SWR5HA413', 1), ('A2IG5S4NVHSBPK', 1), ('A1ST9PG26FSN2H', 1), ('A1K5KHJRKINCP', 1), ('A3FFKU2MTCOBM1', 1), ('AO2R4YDFOH4E', 1), ('A2ANDN3UQBKMCN', 1), ('AQZ4PHIEEV5N5', 1), ('A2WA8TDCTGUADI', 1), ('ARIDN94LOCQFD', 1), ('A1BPPZINVQ2CE6', 1), ('A36S5U0QOWMOSX', 1), ('A204G7E13UW2B0', 1), ('A3A0QL6OGB7W48', 1), ('AMYK9A3JBMS9H', 1), ('A2ACFL6E9Y7UV4', 1), ('A38NEDIGZZ2ZFT', 1), ('A2VIUUWR7B11KS', 1), ('AW4MT9WP95TVD', 1), ('A20VBAYY9ZH5AS', 1), ('A1GASYTBITRWV1', 1), ('A3JUHP1E3WUHEA', 1), ('A2ZMMQ4W17EK2N', 1), ('A1W415JP5WEAJK', 1), ('A3NO9NOCWLFAAJ', 1), ('A2YWRWSLEJRM92', 1), ('AB34EWV1Y2PVN', 1), ('A2I18AO597DSDI', 1), ('A2UNEEEJNHGS2D', 1), ('A1Z1EHL6JMI0M4', 1), ('A3AF5TL5080AK6', 1), ('A231LBC8EGPO5L', 1), ('A278LEQK1TEPVB', 1), ('AM76X7DOGBV07', 1), ('A66RA1QDEWVG8', 1), ('A37E6RW5BUX4U0', 1), ('A3PQB5VJJLSYDO', 1), ('A2YEZ8Z3BW2SKG', 1), ('A384DLXD0474VH', 1), ('A20VXYT5DL0ZC6', 1), ('A19NP8YYADOOSF', 1), ('ARX7Z3NI6O0F7', 1), ('ATJE929ETFFNH', 1), ('A47D5C32VLQM2', 1), ('A2BFC5WQGVP27G', 1), ('AV6BQVVC1XE4E', 1), ('A1EX5SK2PD0XLC', 1), ('A2HXE29CU1I24Y', 1), ('A3A0DVLFK6O4JY', 1), ('A3R4794K2RVU1S', 1), ('AGTSU5BRU8BRT', 1), ('A2QANOGP5LLPBQ', 1), ('AXNJFYJRDK7CJ', 1), ('ADQM4H3YPICFF', 1), ('AQB4DH57MSZSC', 1), ('AZFHSPEZUPGD2', 1), ('A33JGP7NR4BV8W', 1), ('A1MB5HUA3WYEJC', 1), ('A30YD9SO29SD3W', 1), ('A321W4SSC0F6AP', 1), ('A2URGAAI0B1AB3', 1), ('AI60AUM7SJR99', 1), ('A23RQRX7LO7NG8', 1), ('A1X1UZWUIDHCJ5', 1), ('A1C6ZJNWKYK485', 1), ('A2ETZ7GF5B1712', 1), ('A7XVDEDNGDO9M', 1), ('AO09RWV40IX78', 1), ('A3IVDLIXVJCRDQ', 1), ('A26JGAM6GZMM4V', 1), ('A1QFM9CFEUXZK5', 1), ('A1MC6BFHWY6WC3', 1), ('A27CTW0GPEE0AZ', 1), ('A1L1S42BOGPF96', 1), ('A1U75DBAUXQKE3', 1), ('A24GQGZAYUJCFD', 1), ('A1E9VOPPQ8XQWO', 1), ('A13F6U0S1JZQ8W', 1), ('A1S3C5OFU508P3', 1), ('A30IP5D5DLHRPA', 1), ('A3DI391K4GAI7Q', 1), ('A1S1JC7LTBZAH2', 1), ('A231WPU3CPWC94', 1), ('A3P3U42S4A2YHQ', 1), ('A3091RP0SPZLMN', 1), ('A1HBC0NBQJHT7X', 1), ('A141INO5311NA', 1), ('A1TQBPDIBIWWVG', 1), ('A9I40WFF40R4', 1), ('A274ZVV9QSVNRB', 1), ('A3RRK9PUUWFZH1', 1), ('A10VBV0AZSGD9O', 1), ('A1ST1337RUR4R4', 1), ('AKZ0BCILJ71OT', 1), ('A20DDH4NT6Q1E8', 1), ('A2W5RH9AINWD6B', 1), ('A10C5CJK1YKGV0', 1), ('A234X1MVIMPMMC', 1), ('A3H9MD4MOY3PXS', 1), ('A29CK3R8EIDEJG', 1), ('A2KFWHHUFVKFXZ', 1), ('A2HPVNZZF15W93', 1), ('A294SHLWPSG1BP', 1), ('AD6O8UL2YHTHK', 1), ('A386NVAVQV5WUO', 1), ('AN3E2HL1AXNRS', 1), ('A2AY83K9N60V38', 1), ('A2NX6MFZP8TM6S', 1), ('A3OTWOHAL2AKY8', 1), ('A1MKPMJPD22YY', 1), ('A3GM64N13BILUP', 1), ('A3F2926FPOBNL', 1), ('A2I5QH4F5FDKK5', 1), ('AVXIYQWPPXYF7', 1), ('A21VGNU5959O85', 1), ('A16EIVIBBXFAQ0', 1), ('A1P4RH7KMJ1SV2', 1), ('A2ZE5ICI6LWAZ0', 1), ('A19XE6G6NDZFPS', 1), ('AVXGN90BU95P8', 1), ('A3EBJDZ5N1UEI5', 1), ('AN2CU1YP12J4U', 1), ('AQIJ3ZEEVCIKU', 1), ('A2K21ZQVNBVUDI', 1), ('A2X7NBUETXC19E', 1), ('AYQP8XMHTG2YR', 1), ('A2VBWODJGS757L', 1), ('A2O0GTDI0GR5BY', 1), ('A26BDXG9KVH7SU', 1), ('A2QI2NTDTMK2FV', 1), ('A27O5ZUFAEWT9L', 1), ('A322OOQSQ8UTPC', 1), ('A307YFSORUAXSQ', 1), ('A2582KMXLK2P06', 1), ('ARFCORBCTKX1J', 1), ('A9NXTC0HTPSDO', 1), ('A3FBMSWBJ202SF', 1), ('AFJ6ZVBQG4LRK', 1), ('ABKFLFUW4GR9P', 1), ('A28I19Q54MYXGV', 1), ('A2BJ9I0BQ1LH5S', 1), ('ADSFKIX44X8JV', 1), ('A1JMB7RDVEMN71', 1), ('A3LWA0AOS1BRMT', 1), ('A19UTUEBWKIZFT', 1), ('A2D4FQHV506EPB', 1), ('A2A1XYSB692L6J', 1), ('A26TY6GCGBF5HT', 1), ('AQCJWSMSURQI2', 1), ('A2XT8C2ASRLF2M', 1), ('A3M2O06MCHJG18', 1), ('AZRJH4JFB59VC', 1), ('A3OW12V8O7G5LD', 1), ('A8PM2O19EUIFY', 1), ('A20EEWWSFMZ1PN', 1), ('AERQ2UXACYT4L', 1), ('AWCJ12KBO5VII', 1), ('A21RLCXH49NLEW', 1), ('A2ECTCPBTOGW4H', 1), ('A5WR9K4OW61JQ', 1), ('A3BZCJS4NORJQW', 1), ('A1OI9O2S4UOB5O', 1), ('A3KFIMCP87VH4U', 1), ('A3SAALNGCGZ6UR', 1), ('A3QD59N3M7O7KB', 1), ('A31HE83MU98GBV', 1), ('A3PIW7ZF4C5ZJL', 1), ('A30J7WQV0ZNRXG', 1), ('ACHTDPEQYSEQL', 1), ('A2PB6NGDC8TUE8', 1), ('A39KOJG83K8F1U', 1), ('AC1YLEFC9AN5X', 1), ('ADPKTKW5UUN6D', 1), ('ANIMV3SPDD8SH', 1), ('ABBXW1XO4F0YY', 1), ('AX3WJZLFQQRCT', 1), ('A3RG8DYG8AJ6Z9', 1), ('AOOQWI1GV0BWM', 1), ('A2K89R0B20LYHB', 1), ('A49DXD4WVLSLL', 1), ('A3IUW081KXD3PE', 1), ('A1E7BYP6JGDUHD', 1), ('AN0N05A9LIJEQ', 1), ('ADGWCHCYTVMYE', 1), ('A2DQCYRDHLSDLH', 1), ('A2CR57GAJKNWVV', 1), ('A2MBLVMVDLHK1L', 1), ('AZD8SMNGQI98O', 1), ('AJCK6OKNWGIYG', 1), ('A1ROVG2PZFI4SI', 1), ('A3IL4WNBMGBJRY', 1), ('A1V4VVBQBFXRHC', 1), ('AM2IR1V5EU55U', 1), ('AUCIFMWP3DU8R', 1), ('A1CVH9GW5FUSP', 1), ('A1A8I2K1ZIO0KH', 1), ('A18ONS03Z126EH', 1), ('A37R3P5JFNQG8S', 1), ('A1CNLU84K5ZIOZ', 1), ('A1U6M8VJHK2ECA', 1), ('A20I6D3T7ZQ637', 1), ('A1TS45JWJVOSSW', 1), ('ALCLEF26KV34M', 1), ('AJNW2SVETWAW1', 1), ('A1BAJ6JXU8PSZH', 1), ('A3SLENWVD7CEQ9', 1), ('A27DDHWHE540I5', 1), ('AYB8XLKTYMTTX', 1), ('A3P738KVXL2YYM', 1), ('A1TF3DY2E907RZ', 1), ('AFLPMS5K3DZL5', 1), ('A69JO69YN8RFE', 1), ('AHQ5VSEWPKCSJ', 1), ('A18FUHNBP90IB4', 1), ('AWAB7PKBO3BBT', 1), ('AEUY5C51JAWWH', 1), ('AVWWFK3FZDEL2', 1), ('A1RLP0R1N8H8C4', 1), ('AG2YXYIQ8TLTA', 1), ('A2OBDNQ5ZYU1L8', 1), ('AXO4PQU0XG3TG', 1), ('A1LG1DKUZXGJ6J', 1), ('A84P2QF6L57YX', 1), ('ACA3DUGEW0QFY', 1), ('A23KDA686N6T4Y', 1), ('A3DD96LN8U1NM', 1), ('A3M1PA1C98XNGN', 1), ('A1P9BVW2JB1OVL', 1), ('A33VELHWFACU48', 1), ('A343Y5INJ89IEZ', 1), ('A1WXJ1I42UOQ2V', 1), ('A35CCGJDNXUDY9', 1), ('A6VSWJVTWEOII', 1), ('A3VS2RYRGDW4HS', 1), ('A3J031UXHGZTWV', 1), ('A3SDXX0IE7T2BD', 1), ('A19HJ8LAJH3YOI', 1), ('A1EVV74UQYVKRY', 1), ('APYKJUMZP99ZJ', 1), ('A3UBDVOL5UDIIB', 1), ('A34T6SD5HUGLCJ', 1), ('A1IH42TUIZ2XJL', 1), ('A32GCOTGFJ9XC3', 1), ('A1MZL91Z44RN06', 1), ('A18S2VGUH9SCV5', 1), ('A13H5US9Z7L9M7', 1), ('ADSAN3NU57H5X', 1), ('A226VGZWOEBPGL', 1), ('A24P1CHJN331OL', 1), ('AGBFIQMV9L61Y', 1), ('A2PBV1899CX3TE', 1), ('A11SWG9T60IQH8', 1), ('A30SPABIPVN5MV', 1), ('AV44NCH7K65PC', 1), ('A257XGMVGITLCT', 1), ('A17HMM1M7T9PJ1', 1), ('A1GB85UEMFD4WZ', 1), ('AITY0KWECVI2C', 1), ('A3EM243NDJ4DF3', 1), ('A1BPCX5TX2HNRQ', 1), ('A1GBT4UN2RW7XY', 1), ('AYOND4ODQI2VQ', 1), ('A1OEGBQI1Z2F4U', 1), ('A16Z2OECAUX8Z4', 1), ('A152X843HGZIXC', 1), ('A1R02WNE1WP6MF', 1), ('A312UBIOP091MH', 1), ('A3EE0H0NWQ9QVL', 1), ('A30652X50TLEUZ', 1), ('A1BVFLQ89LAI0K', 1), ('A111BH1GN0D33Z', 1), ('A2C4EG9LRTNQW1', 1), ('A1LQTC6ERFMZ03', 1), ('A3DMXJMKZ35TNX', 1), ('A8UM78SMPSHC0', 1), ('A28YBL28P03P8V', 1), ('AD2DDHLD6FRFM', 1), ('A2K75QOCP9ZHSL', 1), ('A3KCKECEO3E2AN', 1), ('A2MO9URO4526Q2', 1), ('A10U8DJAPJJI8I', 1), ('A2FEE88JZLDLXZ', 1), ('A17V9XL4CWTQ6G', 1), ('A1YUL9PCJR3JTY', 1), ('A2C5VLIJMDPWHI', 1), ('A3USZS8Q4GOKGE', 1), ('A3FHFT1OAX62BU', 1), ('A16GBXDS51J019', 1), ('AOTMP0OKJOUWI', 1), ('AEWYUPCNDV7HY', 1), ('A2GVVAO242EK1D', 1), ('A2WW57XX2UVLM6', 1), ('A43WCF8W3GM8Z', 1), ('A1VTBADV3JS1EC', 1), ('ACGQBAGOS2G6O', 1), ('A1ZCYC0RHTRMZF', 1), ('A2PGNLCTL9QXSX', 1), ('A2RTS14J240LAD', 1), ('A3LMPD1ZQTWOC4', 1), ('A8NVUTR71EW0W', 1), ('A355TYEFPT52BB', 1), ('A3EXIZWHSNVNME', 1), ('A2ANC9Z50PIS0D', 1), ('A2K1BVRREVIX0T', 1), ('A1V831BL825IUV', 1), ('AK8R17VG1OSVF', 1), ('A1UCPXUBSESD65', 1), ('A74CGCGJ11Y23', 1), ('A14OXMSONXSZIR', 1), ('A101HWSX48LQXF', 1), ('AQ1F3NP2G15S5', 1), ('A3GK9LT41X73NC', 1), ('A2XAQOWHRPY98K', 1), ('A2OW1FKQFPIA5D', 1), ('A2VAD79S4A06DD', 1), ('A1QK91G8NM5XI1', 1), ('A9RTRKZM3IEOY', 1), ('ABNNPQTHBGUBY', 1), ('A1HBI9BBQIG1NH', 1), ('ATW2XX2HXBV4Q', 1), ('ALLJT7S5QOFFZ', 1), ('A34BWLZ9HERHGM', 1), ('A1KGUN80LR4EXN', 1), ('A3H9JSM1SUTE4O', 1), ('A30VOG29YPU59V', 1), ('AOPGL2GSZ3FOE', 1), ('A2RVCF21L2NPU5', 1), ('A105S56ODHGJEK', 1), ('A2TSTJP0B3A3H5', 1), ('A3F1G6UH4Y39X2', 1), ('A2BR7A27PGME4R', 1), ('A3QRVFB59DLUF0', 1), ('AD34TCPEP7P84', 1), ('AUDA5XUWPYHOR', 1), ('A16RAMIXBUHVKV', 1), ('A38STL750JQ45W', 1), ('A22CW0ZHY3NJH8', 1), ('A928HCGAQTU6X', 1), ('A2J102QNSS8FTD', 1), ('A1T8N18XKDLJO4', 1), ('A2OSKE3H4RA994', 1), ('A146H4KN4LFR60', 1), ('A1UWSU5ETQRQKX', 1), ('A2AC6GQ24S45GA', 1), ('AY3D7DG5L5WCK', 1), ('A2HELIKP5RV27F', 1), ('AFUFKKRO9NH07', 1), ('ATANE2SC44592', 1), ('A28N2AWOVO2PB', 1), ('AF5SUYOBO6UIX', 1), ('A306NASGVUDFKF', 1), ('A2ANTZGPEINGVY', 1), ('A1NTJJASB7MFQ9', 1), ('A36RXEB3FGVN9G', 1), ('A2F4HP0J5VNOYR', 1), ('A3EUSH8DPW75LR', 1), ('A91BK8S5QH98K', 1), ('A2ON8XBRDLOTTB', 1), ('A35LT14WG5BX0T', 1), ('A3TBTAX85OYRKP', 1), ('A15BI2LVYM2GIW', 1), ('AKAZL4BCL66AR', 1), ('A1CVFUQ1PGSIJL', 1), ('A2X3ZCTZ6PUHMC', 1), ('A1Z5BD3VS00LC6', 1), ('A2C7R9GGHY107Z', 1), ('AZ1Z6EM4T09M8', 1), ('A18QNMVRG08DU5', 1), ('ACX80IV6CGBZ0', 1), ('A12RMAJXRPQWTY', 1), ('A3N27L13CWJ9HY', 1), ('AG4U11RFDY7LU', 1), ('AWNRK5U5VSD0Q', 1), ('A3A2NL6CDH3GWN', 1), ('A3CTI2ARGG2T7X', 1), ('A2PU5IDX61XJ7A', 1), ('A2E7RX6AFUDQEX', 1), ('A2OBJJ94RBCUCL', 1), ('A30W69EBQKP7NO', 1), ('A6DE5HLVWHB39', 1), ('AOYUWL023B8TZ', 1), ('A3PWNBC2DP6TW3', 1), ('A2652GT2TQE7P4', 1), ('A14OQ67LM79KW3', 1), ('AJD41FBJD9010', 1), ('A27K9YA6UR30JE', 1), ('ATNZ6ZION5HI1', 1), ('A11D3W4CFYZNHM', 1), ('A3EZEP0FX5BC1P', 1), ('A27ADCSD15F3GL', 1), ('A2VVLDPW8M9NQE', 1), ('A2KUPH96YRYLJZ', 1), ('A6HOWM08PLFZ5', 1), ('A270N4AUFS8S8I', 1), ('A1HQWPU9DCL9Q8', 1), ('A21B8AV7E3MPXE', 1), ('A1ER6IYOMM8VCT', 1), ('A2TXR85WQLE32N', 1), ('A21VQDGHP3T7Y', 1), ('A1GNYV0RA0EQSS', 1), ('A2JCNIN1RNRCQI', 1), ('A2RVQMCP9RL2MU', 1), ('A3G8F1ETP5S97Z', 1), ('A33VJTQW0Y930K', 1), ('A17AHTCKJ4SUT0', 1), ('A1TWO81SR5XJST', 1), ('AIVK8215B8911', 1), ('AG1OL1K3SFURN', 1), ('A1ZH5ULI4SBO48', 1), ('A9AW5UQ0RLDVR', 1), ('A2TOPNOYV52Q8K', 1), ('A1D6PWUMDY9F7V', 1), ('A3DGJMO6VPG6FJ', 1), ('AFU2OC83XKJMW', 1), ('A2YQ2ZI65F37N8', 1), ('ALWQ5C9G1OJD', 1), ('A3K301MMHP7DOI', 1), ('AWT7PGFGDNJST', 1), ('ANMB89ON8576X', 1), ('A1BNLXTOJICY7P', 1), ('A2BQ1VH3CTQETN', 1), ('A4BNJSZVARL5W', 1), ('A1TRAEV7QWA5DX', 1), ('A1SN280JN34H0T', 1), ('A37D1ZP8GBHE38', 1), ('A1V4QK4OE1A0QS', 1), ('A2YUDGH7S6OXVO', 1), ('ADFLPF6FI3W0O', 1), ('A3LLP0VSTSABK2', 1), ('A3GDX81T150KTE', 1), ('A2G12JKUKDZDUG', 1), ('AAG0O8X2PYE6G', 1), ('A3IR5UJT71ZGRZ', 1), ('A11FFLD0GV82CQ', 1), ('A36TDLV6OK3RO3', 1), ('AELK0E5DK7LIZ', 1), ('A2WVF9ZQ068DN0', 1), ('AMZCZBK1EF1PV', 1), ('A3RNSX8VKC38WA', 1), ('A3UZ3WQO1TQ99W', 1), ('A222RXYPA6VZU1', 1), ('A2IEJ4EO8MC4R6', 1), ('A2CNGARED6OWWU', 1), ('A38JGO3ETNO8HR', 1), ('AKCZIJ6ZHE41D', 1), ('A3O28YJBZG1Q0Q', 1), ('ADIIDEMF3LB1', 1), ('APOGXH3A74CM3', 1), ('A15D2X8MICR2VQ', 1), ('ASW19EF0558BS', 1), ('A1HHPA73HHGABZ', 1), ('A3KLTDE92LDHR2', 1), ('A2G04D4QZAXL15', 1), ('A2KMV056844YV2', 1), ('A9GIGJUB98JNR', 1), ('A2P3IE6KYP2UFI', 1), ('A1C760KGFSRI6F', 1), ('AJ8SVXL3SJN7T', 1), ('AIVZMEFEAGF3', 1), ('A1QEP46TK3TL4D', 1), ('AZKGCE3LNX7WB', 1), ('A3JT29L4YFEIMJ', 1), ('A2D9X10UIJGBNQ', 1), ('A2SH6A32BE6NEV', 1), ('A1R9QOPV6HVEKF', 1), ('A3QCY8ODJBGFLH', 1), ('A1ISQ6QFR5TONO', 1), ('A1E8XXAKINL0B1', 1), ('AVJJ2D4G5I0Z4', 1), ('AVOCNUFOXUCA6', 1), ('A2Z10VASC6J6LK', 1), ('A2LWIG18BWDXO8', 1), ('AN9TLUKFAJHP8', 1), ('AVLTDM0KI8T6F', 1), ('A22I55P15NSAOX', 1), ('A35VI0H5AFHOJ5', 1), ('A2GKO1FDITKJ1R', 1), ('A2XH6KI5ZLRLPS', 1), ('A2T6AAIEF3QAK5', 1), ('A1SD1C8XK3Z3V1', 1), ('A397CWU6DM3O5G', 1), ('A3UHS4GW81DEDR', 1), ('A3E3GD3TABXKU1', 1), ('AU69ERKOK9ZSJ', 1), ('A3NE5KEHD57Q6S', 1), ('A34WGXES0FG1B8', 1), ('A2YQ7M9GFU3Z65', 1), ('A35NOFKHK8P2LU', 1), ('A3MKPAIK06U60K', 1), ('A1R2JUOGIYH6HO', 1), ('A387F509VGSZ0L', 1), ('A2N4EFOWH5TS3', 1), ('A1SXCGBJ9JW2MO', 1), ('AZQGJ5CEAJGXB', 1), ('A1VTV7GXWSGJ3E', 1), ('A1ZKVLM2E00KNU', 1), ('A1525E2AQKHH8N', 1), ('A26LD9FQHTM8ZH', 1), ('ALPC4W30DA68Q', 1), ('A2IFKH3TJ10387', 1), ('A1BMG34CO5CMZ5', 1), ('AZUJ0G3FRVOG1', 1), ('A2KPGA0HFSSF8W', 1), ('A2PHN3IY4C9K2X', 1), ('A41MKHZQ85J9U', 1), ('AN51BCGZSQYWY', 1), ('A2OL5WLCNZVD9K', 1), ('AK3HMO4Y95FHB', 1), ('A1YX6S4I5GG5VK', 1), ('AOVTLYTHVDNUX', 1), ('ALLHJD3KZF9KC', 1), ('AG36DMYKO3HPM', 1), ('A37MH7ICH80QOX', 1), ('A1509YCCYCYQQ3', 1), ('A28S3F43F76HSH', 1), ('AF3X7J0XC391L', 1), ('AKJXGK377FFUW', 1), ('A19HM61K6FOP0S', 1), ('AAWUXA65NDMYM', 1), ('A2K3J2X8KDY47N', 1), ('A31P4BOR51YD0C', 1), ('A13S959ZBAOU53', 1), ('A1OGXR0166Q0XJ', 1), ('A3A1OA237FOZFK', 1), ('A1KKE6VX8VPWZK', 1), ('A29BA6LLBLJILF', 1), ('A1PSAKYFFTS8F9', 1), ('A2OLUON0TGPYQT', 1), ('A1PB9XZDJNY3YR', 1), ('A1Z29KYNPAO9XS', 1), ('A198PAZKONNW4V', 1), ('A3MLKJ1HHA2SX0', 1), ('A81XIM8XFKWX5', 1), ('A3P062EHS66OCE', 1), ('A1Q0Q6S0Z0V37Y', 1), ('A8KWNRQPZLAXC', 1), ('AAXKXFTITUG6K', 1), ('A55PCTJ6NINET', 1), ('A3Q61HHSFP80LA', 1), ('A3OGJIS9D8I94N', 1), ('A1HOLJW15Q5S5V', 1), ('A2GCVTKDDOKRRX', 1), ('AY6A8KPYCE6B0', 1), ('A3C2CPTCMB7S4N', 1), ('A3QRW0UJPKIAX7', 1), ('AJWQKYD4B4Q8V', 1), ('A1F8ABPW3WRF6T', 1), ('A73CRXNIKDWF', 1), ('A3TX58JY0EZBPC', 1), ('A2SLU2ZE8HA1Z7', 1), ('A1APW5TK8QSA68', 1), ('A3P3UOHYBFRGJN', 1), ('A3PPSZB0W5DZH6', 1), ('A3M1PLEYNDEYO8', 1), ('A3QCC7PV6EG4YC', 1), ('ARBKYIVNYWK3C', 1), ('A3MDLDRB2GVKBH', 1), ('A2B72UCJRZUTZW', 1), ('A36MABZF1TJ3NM', 1), ('A34XNPNAD1EVB4', 1), ('AQ2UN38CMK119', 1), ('A2ESOF0E2FTXXL', 1), ('A76FRFSYRN1TK', 1), ('A15T9G38F589KM', 1), ('A1FYYE9Z89Q82J', 1), ('AFA5TSB5G2LUT', 1), ('AX9C10JD538D9', 1), ('A35W3JQYP0M655', 1), ('A1PLNHXOBDLMJL', 1), ('A3EQR4S7U7ZMH3', 1), ('A26KSBC3315A3O', 1), ('A23Z2XQBWJYZ9Q', 1), ('AXVKMYWNIHK7W', 1), ('A3FWSG0GV6FRB6', 1), ('AGKW1Q9IUWIMT', 1), ('A33HR6RRL6MHG3', 1), ('A145B8OHVNNFAJ', 1), ('A1SN166I2IVWFY', 1), ('AN7QQ1EEAB97I', 1), ('A351GW55IKKNHU', 1), ('A3NJMN6U0OFBXA', 1), ('A1VQI32QPYXU6F', 1), ('A31DE5PN4U3XIN', 1), ('A3M174IC0VXOS2', 1), ('A3RTNA9THAU2OP', 1), ('A1U6XG3OMP5S62', 1), ('A1BT6TL7UCIC5Y', 1), ('ARIZ8PY9ULPHH', 1), ('A7WH560VVUXB2', 1), ('A303SURN4JXPS8', 1), ('A2V8RY58XE5A5O', 1), ('AMEZJVXMSEPY0', 1), ('A37KG9AQK1PN10', 1), ('AU9W3C58GHRRM', 1), ('A11XT24G3PZ8CQ', 1), ('A2OOUULK02VNQ3', 1), ('A1IOSNSY31L5EI', 1), ('A2UQGGK8VJPUH5', 1), ('A2QPD77TULGGF7', 1), ('A10AW4W8ZK0RMX', 1), ('A30Z3BVRNUM3NW', 1), ('A3NPETMZXGIG65', 1), ('A2G6XYR4TUXDOU', 1), ('AE1KREFJQKPCO', 1), ('A37RCN295YXNKD', 1), ('A1XFI340SHOS5K', 1), ('A2AJ5DEFG7C1OW', 1), ('A3S3UFNFZ0MCBB', 1), ('A3K2KP9BLJVV7E', 1), ('AASUCLSO70JW8', 1), ('A2IG937LQKWO7C', 1), ('A2V2URLB31HG59', 1), ('A2XRZV63X79YSJ', 1), ('A1NOBRCN20NGD5', 1), ('AZMQS7YT0SK8R', 1), ('A339F4I8GBN3H3', 1), ('A15CL28ALB7MTZ', 1), ('AM18CU72YEWH5', 1), ('A2SPI5WNZLOJ2U', 1), ('A17V2N0N8CXSA9', 1), ('A13Z96HR8EEF24', 1), ('A8ZY9LI1KBU2P', 1), ('A3VJ27010XUWTF', 1), ('A3O7GDDKLEZUJF', 1), ('AWIF8AR75LL9L', 1), ('AB0F3WF0GCCC0', 1), ('A23E9ZPS2RQZS0', 1), ('A246YIFE5M6M2C', 1), ('A2OL0JTU0DLH6B', 1), ('A1X9OJN30EBE3M', 1), ('A3MJ1OH04JQNQF', 1), ('AHQHPSGH2YIT', 1), ('A1J6B00Z1D6PS4', 1), ('A2S3MUP7B22XIC', 1), ('A34CSXOGVYF94S', 1), ('A3H9RHXL6ZHFTV', 1), ('A1Y7YK6AIGQJOI', 1), ('A26EB4765CZWDF', 1), ('A1OH82LWDR5HBG', 1), ('AEO70X5IKONFG', 1), ('A1LLO7KR1WSFPT', 1), ('AQP1VPK16SVWM', 1), ('A37IHRVO8JWYF2', 1), ('AW2BZYHG2MGSN', 1), ('A2XSY4L7GDHV4W', 1), ('ATYPMSKPB9F8F', 1), ('A1MFIVHYJS11WY', 1), ('A1K6G7NNTKGKT0', 1), ('A31BD4RXCON7QO', 1), ('A2X0FDM94KSMRF', 1), ('A2P739KOM4U5JB', 1), ('A2PLZEFH3D22JL', 1), ('A1MLM20GT0JQW', 1), ('AZAKCIFE27RAA', 1), ('AZM8N4NZCHYPM', 1), ('A3L9QN0YNV3PUG', 1), ('AXTDCF7RF73K1', 1), ('A34A7QEBMYTALW', 1), ('AN81JUYW2SL24', 1), ('ATPWH4B20FB0N', 1), ('A1J1QS7I60O018', 1), ('A1D2FO31CMKOII', 1), ('A2PHR1DSONLPEF', 1), ('A2TVH2OBNXYXHV', 1), ('A2QSBOAAGW1I1H', 1), ('A2OT7AEHVZ0AZ0', 1), ('A2GPLOLLE6BUDT', 1), ('AE5GKAL2TD1ZM', 1), ('A38R6K4AGOC0Q3', 1), ('AGFW667QNHDOY', 1), ('A2JXAQ92WYPAAR', 1), ('A32QWD5DEY4LDU', 1), ('A8UPRCKG7YYAR', 1), ('AJ1CD7OI9YFFZ', 1), ('A1QK0XCAPHIW1L', 1), ('AYNNJ0DBGL5H7', 1), ('A1M4QC5BZDMBIZ', 1), ('A2ZB8B7VQONZA6', 1), ('A18YMFFJW974QS', 1), ('A32EOHLFZYXJEP', 1), ('A1248JRIINWRTH', 1), ('A3H78NCT3DJMY2', 1), ('AG6KZJCYROBRY', 1), ('A2S7CRFCDO57CR', 1), ('A79XDKI3P4VN9', 1), ('A22KGO6Q2YWS0C', 1), ('A30JPZ9TZ7I61U', 1), ('A2GK5S3ZF9Y8YO', 1), ('A1WPQGUYP0XI99', 1), ('A259HHYBP6ZNJ3', 1), ('A3JCWGHCVC2ZNF', 1), ('AGF4QULX971J2', 1), ('A2POEZE9CZ7J7C', 1), ('A3PNF752MZL2SE', 1), ('A1W60EW7Q6A75C', 1), ('A1A00TRYSUDBQD', 1), ('AF3BYMPWKWO8F', 1), ('A3CIVGG3HNS1GM', 1), ('A33YZNZIRA3H97', 1), ('A2DYW9Y2D8E43L', 1), ('A9XX8OHS2ZQ2X', 1), ('A1H6SBO7R007I8', 1), ('AP8D74QD9LUUL', 1), ('A2QWEEYO8QLIMI', 1), ('A8LE1433WIXI1', 1), ('AC6HHP4UJ7VCF', 1), ('A1JNPKUX25GW3X', 1), ('A3P8N3YORM08CA', 1), ('A2CVP31XTYSZFE', 1), ('A1PMWKB9I537PG', 1), ('A1NQ7OBWNG8C13', 1), ('A2DSXA1E02C86D', 1), ('AQSW6WDVCJGB8', 1), ('ADEZOPMPKK146', 1), ('A35OCRVQ71DZYK', 1), ('A2MR5GDHEPVD5', 1), ('A3AZI828WJN1CD', 1), ('A2B7BUH8834Y6M', 1), ('A1SORZL733985Z', 1), ('A3IAU6ZPVF2R5K', 1), ('A3LH77PBDFEO3F', 1), ('AVMY3G61UEG9P', 1), ('A32E5G5T902WRV', 1), ('AG71XMQGQ2UTJ', 1), ('A3NEAETOSXDBOM', 1), ('AXBMV151TBWGT', 1), ('A3TA0BXR9SKJB2', 1), ('A1UFLVSJ3IRETQ', 1), ('A3T3K81ICQHSL4', 1), ('A36G8VM962G4QZ', 1), ('A93LCEKKTMG7Q', 1), ('A2MIUAEKN71ACX', 1), ('A116J8AUC3JSN2', 1), ('A35G8Z7F8LBIAY', 1), ('A3BC51PZJ8L67R', 1), ('AOP41SVJTXNBN', 1), ('A3GP9FZYNPR3P', 1), ('A99EYKS4OOQ4U', 1), ('A3PNDHFUA8EG4O', 1), ('A3NHUQ33CFH3VM', 1), ('A1M1BDJBIS2KUJ', 1), ('A1R4VHGGF1H23Y', 1), ('A2QENC8ROVBJ7T', 1), ('A1WBEIH7Z37LN9', 1), ('A3F9CMU8KNAY1M', 1), ('A1SAZB83QFR0W2', 1), ('A784A2QRHRSSR', 1), ('AVFHFFC3LW6BK', 1), ('A246FFBXYFAXR3', 1), ('A7OCP4P0S4YO8', 1), ('A2RN2AO4BE6F4K', 1), ('A1WXFL6IXQKAM5', 1), ('A1M85S3L9ROA17', 1), ('ALUJ15UFI1422', 1), ('AW99SBGWEXP0J', 1), ('A9TX7L1HNM37V', 1), ('AYPIF2S8P3RZT', 1)])\n",
            "('A35QDS2JR8942J', [('AMF910FPUEI7F', 2), ('AIBSO4JFTBEWE', 2), ('A2RWVUT42HQAQC', 2), ('A23EOHHSLA5Z50', 2), ('AWJD903NY5BVI', 2), ('A3RXM2OGVRJ9RB', 2), ('A1GSGDMELR6JX5', 2), ('A2FHFT5KM7XZUE', 2), ('A3VG94ELC3SKF9', 2), ('AWEE52QL9WOR6', 2), ('AOTK2F69X77VA', 2), ('A2Z9M6F8S2VVU4', 2), ('A13TWMQ5NH0LQV', 2), ('AF8Q00S0OSISR', 2), ('AFWIS3NCN74BW', 2), ('A2GYV0FI2GZ52C', 2), ('A2G1Y8UKU9BEFI', 2), ('AH9AP7MNOK6ZQ', 2), ('A2HM4PLYU4PVET', 2), ('A324HLTPHG7BTT', 2), ('A2K6I9R5BTMAA3', 2), ('A2LBNOX7TN9J7C', 2), ('A1SP1EBQRL52C4', 2), ('ADXNU7PKWB4M0', 2), ('A6N7S8EEUY5OK', 2), ('AL8L63OIBUY2F', 2), ('A3AK3RK1WNGTG8', 2), ('A1UGH9YA5PFRGA', 2), ('A2ZV3K7EDQFVPD', 2), ('A3LTX4DFG2JUOH', 2), ('A12UD9093P4A14', 2), ('A1G5FIEA40QCT4', 2), ('A1J4FGEOBL2E9A', 2), ('A1LNUH08546UK6', 2), ('A3RSWDQJ9B479Z', 2), ('A3NUXKN53F9WJZ', 2), ('A2CVHOQJGPONKY', 2), ('A31YU64TJFB6U6', 2), ('A5SNNU3YAW557', 2), ('A3M333GYMKIG8A', 2), ('A2WOTVO6IEE648', 2), ('AOFG08UULKT63', 2), ('A2PQW1DS74I871', 2), ('A1Y3CYYO6PPI61', 2), ('A2M3I5JEBZJR40', 2), ('A26NFIQ7KWI8Y7', 2), ('A35QDS2JR8942J', 2), ('AQVE976ZVZ2P1', 2), ('A2YX1NHIOH61AV', 2), ('A2MG6DACLTIXJ4', 2), ('A23Q7K6GLQEN0N', 2), ('A2BXD9E5I6L3D4', 2), ('A3JLRSNSQGT6KT', 2), ('A23CNWROWLWD0O', 2), ('A2H5J233R00FOV', 2), ('A3CJNM7X4KOFCE', 2), ('AOMPDI4QNQTWC', 2), ('A1FY4RR0LGCJ0Q', 2), ('A2J6HBH03TCM75', 2), ('A38U5D4DTJQ5OD', 2), ('A23NH4IBVUNY0P', 2), ('A3EWXY5IN87332', 2), ('A3R9EBHQ367JVJ', 2), ('AJZENI4B0SAMJ', 2), ('A9JYNIFC9U5TB', 2), ('A2C21SLGXQDIEZ', 2), ('A7PFDD0F04X7L', 2), ('A37BZILA9MJGWX', 2), ('A3MNHGI16H85B8', 2), ('A2CSPTFY7QPT78', 2), ('A3690KJBTLZDMS', 2), ('A3KZOTZWQXEGZM', 2), ('A1YPSX7DRV4RLH', 2), ('A2I5M1X863QB8L', 2), ('A3EKGCOAJGWGNU', 2), ('A2KVHGVC3N2V89', 2), ('AIODQVA7W10YL', 2), ('A1CBTI7MJP07U9', 2), ('A16ANQ3BTOXRW0', 2), ('A2MSQQZG0DGPNA', 2), ('AXS6MZ5Q6UNIC', 2), ('A26C6KP0448W19', 2), ('A3916G6EAUK63A', 2), ('A2Z24IU9WSX67K', 2), ('A17P57VS25YINN', 2), ('ABJAEV6P1JC6Z', 2), ('AOKK7PZM5E0PV', 2), ('AGLKENC7EJDYW', 2), ('ALA7F8ANQNB1Q', 2), ('A29QY127R679KS', 2), ('A11QZQEM4DU0CP', 2), ('A1MJFZ975LIEHE', 2), ('A35G1CP9QRUOTS', 2), ('A3RBT91LCBGN6Z', 2), ('ANKYJ1RE9FRSG', 2), ('A2G30W7U8VB3XN', 2), ('AV4GI7ZMVZH85', 2), ('A1CR6CUKWRYRRV', 2), ('A3KKM0T1KY42HA', 2), ('AR8JT1VWU188Y', 2), ('A32VMHC1W8ERKN', 2), ('AM1J3LBHI5WT8', 2), ('A2PJZELNVQXN4W', 2), ('A1M96KO6YQOHMT', 2), ('A2DKIZCX5F00SR', 2), ('A2K98T6D4WNCRW', 2), ('A2QS3RG1ZA9F73', 2), ('A2V31I6216202X', 2), ('AKT9WOXV5KDYM', 2), ('AGECHHYRKK8BG', 2), ('A30CUQNTM3LO3E', 2), ('A1R72OXVF7TNN0', 2), ('A12QN66OGYSQV8', 2), ('AOWV2XKWCZO7', 2), ('A1IRUUD2I6HZIT', 2), ('A1XAPRM0OO15SO', 2), ('A112KFC20A5QNA', 2), ('A23DJIHWVVVHH3', 2), ('ALNJ5EQCJVABY', 2), ('A1050LRVB5H2OY', 2), ('A3J34RA5HFB348', 2), ('AC04MNII0B5B9', 2), ('A384DF38IY969M', 2), ('A3S9PA7365P0D8', 2), ('AVRGJOTBAV062', 2), ('A1RVUEYK4T1WZK', 2), ('A3UETHIJBL6MCV', 2), ('A2MSFCVJRWMTAB', 2), ('AVMYLQNMTBIC1', 2), ('A2VC2CCXZH5LQN', 2), ('A1LM8DNYXK84IB', 2), ('A120BPRX233DLL', 2), ('A31W8819UFZA1S', 2), ('A103U3KR4L2ZXT', 2), ('A2H6YK4BZFGHA5', 2), ('A3O62L5YKKY4DC', 2), ('A30I3OXE3CI7MX', 2), ('A1WFYB0C0CNFZP', 2), ('A23K2W3WLBIA0K', 2), ('A1ZOE6E7AR73PJ', 2), ('A6WDMXEORF2HH', 2), ('A1D9H3TUNM9M1A', 2), ('A1CWW78ZCVJTMA', 2), ('A1A5MPM5USXXZE', 2), ('A13J0AAKN72I7K', 2), ('A2VVUPMDXWI6IF', 2), ('AWWLV9W13QE2L', 2), ('A9DJ0G0UY3D2C', 2)])\n",
            "('A124UYUTYO0WF4', [('AQ3IN3MRXQ5KH', 10), ('A1Z54EM24Y40LL', 10), ('A13XE6YUM9EZW3', 5), ('A2BFEBWVCUIJ2P', 5), ('A1XQT9KD26QN4E', 5), ('A2IHNSHZD973TS', 5), ('A3CD2SCOKSFBAQ', 5), ('A1A1BM6N28X9J0', 5), ('A1HYJABZEEBG8Q', 5), ('A23X22R5PVU82E', 5), ('A23HST4CTCENCM', 5), ('A3H56GU10XZ11J', 5), ('A6KCWLEG41R4J', 5), ('AD2O296RJ5H5Y', 5), ('A3UP070UDU89I', 5), ('A2KG5YZHDK5VRF', 5), ('AEXX7GBL2XIXP', 5), ('A36UYMAJ9CNSAI', 5), ('A124UYUTYO0WF4', 5), ('ACYK497MBYKAZ', 5), ('A1K1G4Y1HJREAI', 5), ('A1YSPF8NL57UOM', 5), ('AG2AWQJXJ0UXJ', 5), ('AMWZ21UU8XLK', 5), ('A18WKADVOE3BJI', 5), ('A2N1RUR0A4PLGL', 5), ('A1QRST0A3IQIEF', 5), ('A5U5T6EWH90O0', 5), ('AERQR8MGKFSD4', 5), ('A2X4H1XE0GQ8QJ', 5), ('A3VCOOQI427QJS', 5), ('A3DJXS3PFBB48P', 5), ('A1XN3BA0CHB24L', 5), ('A2ZLFERQETL43Q', 5), ('A9LN8N0ZEWDYA', 5), ('A30MU1U10R7PU0', 5), ('A3GHF4GETJL6RU', 5), ('A3I8K0WNU0X04Q', 5), ('A377Q1EGUQQBKZ', 5), ('AALWYV9IY0EKZ', 5), ('A15SN3CT4XXCRP', 5), ('A2ZNGKW7XB0Z64', 5), ('A2AEBMOLWICY6A', 5), ('A1LS5R402G4C2T', 5)])\n",
            "('A2BYO5OYWTDSAK', [('A32Q5HN7RQN6GL', 2), ('AX0QCWW8RFNO7', 1), ('A196A9CBOYRSJI', 1), ('A1JK2JW8VUE44O', 1), ('A2BJCMZY51CQ6A', 1), ('A3IP76TGSGY4DA', 1), ('A26OTT2RMNDJLU', 1), ('A38AEIY8FKGB5P', 1), ('A1IPGTZQTJAN50', 1), ('A1IIPBH2CW24I', 1), ('A2MA9G2FJMEMJS', 1), ('A1V0RP75B2G3L4', 1), ('A3AP73GXS4896Z', 1), ('A1OX919S0QOJ7B', 1), ('A368H82Q1PNM9G', 1), ('A3L2H6LORJM25U', 1), ('A36WSDKG3J0VJT', 1), ('A1P2B4L2WYTKTE', 1), ('A3TTFPB103VBW5', 1), ('A3GA7VBD1PJJKU', 1), ('AMXWEKJL9PF1J', 1), ('A33MSZ57UM8VTA', 1), ('A2Y729OLWSQQ8', 1), ('A2RZASY4H4NBNQ', 1), ('A1JUA26HV2CKA2', 1), ('A2IAGBEEHPS7HP', 1), ('ABJELJYMDTFSY', 1), ('A2SUKDHOZ2MM7H', 1), ('A1EPEQOLUJG5ZU', 1), ('A3M6C64BXIB04S', 1), ('AOKOUB6H2P1NS', 1), ('AGBDDLLALN18S', 1), ('A3HP2YDRNBF0EO', 1), ('ATZ3JVMOZ4AVY', 1), ('ADJQ6UAYJLVJH', 1), ('AZ2V33TVW3N96', 1), ('A2DKTLTZ03O8EF', 1), ('A2IIMX1CS0TIE9', 1), ('A21UP2SG3HXY6J', 1), ('A3JQZONKUQT4Q1', 1), ('ALGWUHZQ9292K', 1), ('A156LB7D9SSF6J', 1), ('A3SJ01U6Y6OK1D', 1), ('AXJGCAD36N915', 1), ('A3CZ3QYYMBPWZD', 1), ('A2Q5L6MIT5TKCG', 1), ('A15F4DR7GDNB86', 1), ('A8W6AQ5N6Z4MY', 1), ('A19V494D6W69AF', 1), ('A2IHOUK31N323P', 1), ('A32XW4QX7ZYJCB', 1), ('A1XVQ3KHS22E3F', 1), ('A2T3I3KKTOHQNF', 1), ('AKEWAQNGZBBFJ', 1), ('A2XSMM89SI8P6Y', 1), ('AJE65JN3X7F3E', 1), ('A2ZL7OS8XCB6U8', 1), ('AM0ALNK6K349Y', 1), ('A2H8UV4UALLTQH', 1), ('A3H045JVZVVEL1', 1), ('AWLVXTQ4SO4C8', 1), ('A2BUB0UD3125JI', 1), ('A16F8IW5NK9Y4Q', 1), ('A2O6FV51JKZKWQ', 1), ('A3DT5DI5ID9R1J', 1), ('A167ZHCOH3DUBB', 1), ('A2MY6AU7KT64X5', 1), ('A2D0LOKJ52KYA7', 1), ('A23RQVQ92D2UCT', 1), ('A3T4Q576SC8YIT', 1), ('A3BR0J7FPVWSHK', 1), ('A2CTA9LOIK9U2R', 1), ('A2E1SDNDK85Q0O', 1), ('A3D9LM07P8CXI', 1), ('A3Q7QBDSAZ670I', 1), ('A33XGXSC6K5VWQ', 1), ('A2BYO5OYWTDSAK', 1), ('A33RC5UCV32U0Z', 1), ('A320NYVVIZSZGY', 1), ('A2IO1H5EI3L9N6', 1), ('A2O78F2WGVJ19M', 1), ('A2D4ODIUEX9ZVY', 1), ('A299YB5DVGR7R7', 1), ('A1T2T7QGS4A5Q4', 1), ('A21NIEZWY49KID', 1), ('A3JDG7N4DVNBWX', 1), ('ABQ2WFC0DYOIE', 1), ('A2EY1PVY9DYC8V', 1), ('A1RPVOVIXVQ2TU', 1), ('AOTG413LXWB8O', 1), ('A1A7I1BIU4L9UV', 1), ('A13N9MZJPY2KOV', 1), ('A2W31WM1NRZXWX', 1), ('APBLUDQUCZQE4', 1), ('A2IYSJV1O3DEMO', 1), ('A1VJQ5A72CVWTD', 1), ('A2YFXAPXUUTSDQ', 1), ('A1NQLLPAU29QYU', 1), ('ACTZ5CMMBOZ5B', 1), ('A3U9TWWIYMP6RR', 1), ('A1BF90NXMYKR9V', 1), ('ANH62P22H7HX8', 1), ('ASYB9U1S5XQGB', 1), ('A103R4UGQS2XWJ', 1), ('A25ISENSACV7SX', 1), ('A3A04KTCC5AOMH', 1), ('A1GRYVLDBXIIDK', 1), ('A38LDSL9X86D7N', 1), ('A3IJUJ5OIZ7Q3Y', 1), ('A3ITLBABDWJ8XW', 1), ('A1MXCHMV9PBIZR', 1), ('AS462XXCZFKEA', 1), ('A521VQI1AT8OK', 1), ('A1MNHXEMAJNOBD', 1), ('A7DYBL9YAEHAZ', 1), ('A1SLZFVEA0SM61', 1), ('A11I4LJOAOCJ5L', 1), ('A2FIQW9VHSWZ6Q', 1), ('A2OWLYTLYCF5NI', 1), ('A35WYW1ZSUVKYG', 1), ('A3QBMETFZPKW4L', 1), ('A1T6C1X1CG9BEA', 1), ('A35DEUQS5BTA19', 1), ('A1WKU93AL267G', 1), ('A1EJKV8JY54E2L', 1), ('A14RL2JNYPWURR', 1), ('A3GAMRRHU5N36L', 1), ('A3A8FZUI0OGZCA', 1), ('A2BJF5UWHR91N8', 1), ('AL73DM6NR9D7G', 1), ('A3D0A2ELY0VPUU', 1), ('A2LWWHMABFQ0KS', 1), ('A388XVI7JZYV86', 1), ('A3THZMHYLVEL8J', 1), ('A2AY4TE05DPJ4X', 1), ('AFY9Z05CNKP5T', 1), ('ANXBWV5LH6KXK', 1), ('A37DJIVHA864HS', 1), ('A25B7J5LAXH0J1', 1), ('A1VKHZIEC3BEE', 1), ('A2D2XOBXVF2V07', 1), ('A25OB2R1S95HH5', 1), ('A3ZR78XCY9AVZ', 1), ('A3PWH0K8D6F13S', 1), ('A11YOTONCPRQ9S', 1), ('A2CHZ4CL75L9Z3', 1), ('AM9L5NAMJKCZC', 1), ('A1HMF8GVM4CA0G', 1), ('AG5IKWC6OQI5Y', 1), ('A3EJVZ5LCBP61X', 1), ('A3FEF0TJFKQBRV', 1), ('A9BYZZ31654QC', 1), ('A1UOGJ27MB2YAT', 1), ('A2T4MFWUS3JZGL', 1), ('A18NTWLUF9Y6B3', 1), ('AES9OCHHHX1NP', 1), ('A38288VYNPMBQF', 1), ('A25SOAOV6KQ4CU', 1), ('A2NCS47VKDPBPV', 1), ('A1C3WKY6CEBTMK', 1), ('A3T5SCEXFJL4K2', 1), ('ANMA1H8LGEVBF', 1), ('AEGC7JOCGGF4R', 1), ('A1A3DTGQZR0TEZ', 1), ('A1KVCPBLLN3LSV', 1), ('A18ZEMA7Y1HPMN', 1), ('ADV8E3ID5QSTF', 1), ('A2VOXXK67TNP5B', 1), ('A2VWKIG9HC309P', 1), ('A22DZFQCWYDGQJ', 1), ('A394R9ZLCSRFZO', 1), ('AU8GZDK6KHXCW', 1), ('AKP43P5D1OOPO', 1), ('A3KLJRSRRUNA1P', 1), ('A3NTD3T0WNWOF8', 1), ('A14CIOVZ1NBXXK', 1), ('A8YEJ366FMHAZ', 1), ('A3DVYV9BH9P9UU', 1), ('A36MXDRFWLXDRT', 1), ('A2YNRDTWQVBX9A', 1), ('A2RLOCANTPCCU2', 1), ('A3NY06UISEQ0N0', 1), ('AZJZ6F6G91CSN', 1)])\n",
            "('A2J5A7DO2ES0HX', [('ADUBENV0R4K8C', 1), ('A2AR1T8L8KWSCN', 1), ('A10LLQFKBVW89J', 1), ('A1BV01YNQLFEEM', 1), ('AYPMRE1NML2S8', 1), ('AE55ZYNOXOERC', 1), ('A2ZWU0ARYT6VA7', 1), ('APL96QFPNDGEN', 1), ('A14HX0F4WDVTFW', 1), ('A46NUFFLH3ATU', 1), ('A1WSDCE9UEEBBD', 1), ('A2IOHNCRKL83W7', 1), ('A3HY6RPULSQL55', 1), ('A327OS6D5WVNZF', 1), ('A305K08N5M1YAB', 1), ('A1SK7JW6FPZG3R', 1), ('A171TUNXZUJ5CM', 1), ('A3PNOW3BT61KCG', 1), ('A3Q3EVDIIIRLLL', 1), ('A308GK20L5TW1B', 1), ('AY1EF0GOH80EK', 1), ('AHEBMAD5SIC5B', 1), ('A11DQ8O2M432D3', 1), ('A2J7NE7C7QQ4NR', 1), ('A14QPI5J9OSV5L', 1), ('A3KLY48FHM769J', 1), ('A2KG9B8ZLVX3YH', 1), ('A1B5N6JIM6UVQ6', 1), ('A3UHKOXK4OPD9U', 1), ('A19BRJV7UJZDAL', 1), ('A3URVN4JWZ2FJA', 1), ('A33RFOT3RQRNWP', 1), ('A2UY0AS6QNZJIZ', 1), ('AWNO02OSZUHYF', 1), ('AN7X9P6I8SF8Y', 1), ('A106VC1MDVM0F8', 1), ('AO06SNXEABCVB', 1), ('A5OBIE3AR5O92', 1), ('ANIGMNC00EX6R', 1), ('AT17C6CLPGIQD', 1), ('A1Z0FL4N24LUUM', 1), ('A3GVFRZ4WP5N1D', 1), ('ASU4JE3SKHQP2', 1), ('A3NTBJSK3UI4E9', 1), ('AJH1QRVD7TCBD', 1), ('A2CWJ7HUXOSONJ', 1), ('A16KK3YHCWE29C', 1), ('A18L1CVUIQRE9L', 1), ('A27EV5VOO854YI', 1), ('A1HWMWZU9JJ9W', 1), ('A1GJNVTE2A64F', 1), ('A1HYX6D3VWOWRW', 1), ('A2K7ZSSBUHAQ5O', 1), ('A1GYEGLX3P2Y7P', 1), ('A2158Y2U61AU9G', 1), ('A120PZCBMNKULQ', 1), ('A3KX4RCNWEY4I8', 1), ('A3MVDBN281DU2Z', 1), ('A2KZ7L4OATB5V2', 1), ('A32YVGVM42N55X', 1), ('A2TUBGBCDVK8QQ', 1), ('A1JXFKTX8LZ9AD', 1), ('A1NUU26LI2AS9X', 1), ('A3MLESXA2VGWJC', 1), ('A1M983FJHL0J5R', 1), ('A3EPT34AB8KW3R', 1), ('A1FLZW2IEMFZD9', 1), ('ALHVV0IY30V5Q', 1), ('AM69UQ7XALGPE', 1), ('A1CXTI2NEUK0KI', 1), ('A2J5A7DO2ES0HX', 1), ('APO7ZH1WECA3O', 1), ('AV6PVMVUHRJV5', 1), ('A1T55XQ0HHIKDL', 1), ('A1YLFR795WQEKC', 1), ('A1II2ZRPKZAQQD', 1), ('A1OQYQ5YUZP65F', 1), ('A1A4F770GPAM8D', 1), ('A362LKVKMDF9WR', 1), ('A32UONBFRUM8JJ', 1), ('A3POBV9NRAGLDI', 1), ('A1WK357P8JKC51', 1), ('A27E2E9VB5O4DV', 1), ('A2LCWNC3ZSHJAE', 1), ('A2NPQ6F5YDI9Y5', 1), ('AFTCML5ZKDJ2F', 1), ('A18Q1Z01K679WR', 1), ('AE0KB1NB1GCUX', 1), ('A1F7N3VN4I73WY', 1), ('A2D15TO9UXWWUC', 1), ('A3FX9H8V3FB6UJ', 1), ('A11B8E6GF1KJKN', 1), ('A36PV7O7764STC', 1), ('A1CC3G24842BG6', 1), ('A1ZPY91VE3IDN1', 1), ('A3UB9LNE9X1LTB', 1), ('A1UIF9YRT9AVE8', 1), ('APM6O2IUYY8JZ', 1), ('A2LJWVS1XU04Z3', 1), ('A2YKVQ93IV2H6G', 1), ('AS5J4CG4NFU6M', 1), ('A1R3GN9MEJFXM3', 1), ('A17KNP1347GV5D', 1), ('A3W0QDP7A20XGL', 1), ('A232RLTSOU3J8H', 1), ('A183OMAJCPLB9C', 1), ('A1OOBB043WFXJJ', 1), ('A2MPXHA42PAGGC', 1), ('AAP6VSX56F3SX', 1), ('AHBR9C9O4K6V2', 1), ('AD6Z6U1GQW3OI', 1), ('A2RQOO8VYAEZZG', 1), ('AR00NS8HUD13Y', 1), ('A2VHKZST6LMPXH', 1), ('A2OVI62NN5W0UE', 1), ('A2S44FNLOGZZ5W', 1), ('A3I7VLL307DNV1', 1), ('A2E9R6URH4XQZ8', 1), ('AR3RZHF4MOXB0', 1), ('A2MWDJVGV0KATO', 1), ('A2L535GFIFZHF', 1), ('ASTG4RMO7OGRF', 1), ('A3M2OEIOBQP5JK', 1), ('AWV7H3ODUOR10', 1), ('ASYZSAO3J8NKO', 1), ('AYJVI7HXEH981', 1), ('A2AYGA86KQOXOU', 1), ('A2SQAQVTKX0461', 1), ('A1UP5CIELABXA7', 1), ('AOYUS1MFUQUGL', 1), ('AGTQW6LCRGAPZ', 1), ('A2EWQVEGVJGJWR', 1), ('A7XZ66BVPXL6H', 1), ('A1ZDS5L6XO4TPM', 1), ('A38UTPQBQQ15JI', 1), ('A3QFB644A3XQ3U', 1), ('A11CMQM2CEGNWC', 1), ('A3AFMWVKFG05XV', 1), ('AYVLSV70ZOTNJ', 1), ('A2UZG75VUXWI83', 1), ('A2176046C184WV', 1), ('A2ADBU1LYWVW2N', 1), ('A11VA8OPZUPH6P', 1), ('A3K9RUCE18CU6I', 1), ('AHK82W9AWHSX7', 1), ('AYY7MCYJNRBZB', 1), ('A2OADJZTGZXVO6', 1), ('A3CLWZGMC7M9Z1', 1), ('A2CKCYA5RELOME', 1), ('A1GJZGU42PG36S', 1), ('A3TOY5AOWSK8G9', 1), ('A2Z21QFQVNA6P9', 1), ('A3RUH2QVT6Y4N', 1), ('A3DNG54DMW2G88', 1), ('ATBMVZPFIGZ7A', 1), ('APAWTFE9TKQI2', 1), ('A38W5YMFI2E6MY', 1), ('A1H39YBIKRPVG5', 1), ('A3F1H2PW44KGHB', 1), ('A12M7PGNSWXINT', 1), ('A300GMVCM24VLB', 1), ('AX9RCL2YRV36C', 1), ('A2WVE1R0BU95YK', 1), ('A2MBW4IRJ39SC1', 1), ('A2EWEPT1CTOHEC', 1), ('A2X5UT6O837N5I', 1), ('A7SUDTWURM2EG', 1), ('AJCK6OKNWGIYG', 1), ('AKJQO2QDIQX40', 1), ('A2A86LQZ0ZELGY', 1), ('A3U9OFI7P6XRNT', 1), ('A2A7WUXT2OW9JG', 1), ('A1UYPKIJSQ52MS', 1), ('A3G5MOHY1U635N', 1), ('A2IOZD3H30KP5I', 1), ('A2S9BOIW8FKWAM', 1), ('A2NX6MFZP8TM6S', 1), ('A38UD6T4CV0J0U', 1), ('A36WMX0O4ETATN', 1), ('AW2W37KHVVE36', 1), ('A1H8DLI0OQKPJ2', 1), ('A2DB720I9XRX7K', 1), ('A1OHMLJKAJ6EA2', 1), ('A3F5I0OGOWURH2', 1), ('A16E9H3NMKDVPJ', 1), ('A21NUQ64CO6F5E', 1), ('A1S58CJH72PMYQ', 1), ('A1H9PXUNE3LK9P', 1), ('A38JCPML09ZJBF', 1), ('A3KGRGVUIGYGYM', 1), ('A333I94PBPSO6C', 1), ('A3IUW081KXD3PE', 1), ('AV927K9TNXB9T', 1), ('A1YU9NLBV6D1DP', 1), ('A3QK8F5MU82IZJ', 1), ('A59UJYVC0QQAV', 1), ('AJ7CKEO4890UA', 1), ('A22HDITL5OS7KE', 1), ('A2HO898G5N5X05', 1), ('A2Y2A9FY4L1TJV', 1), ('A3EERJGK0VGUM7', 1), ('A20JX0XOEMTRMS', 1), ('A1ILMDO2212ZZ9', 1), ('A1INY02OHJFLZ7', 1), ('A2HFA8X22CJ7K5', 1), ('A3UXKTR0148VDX', 1), ('AX2JMIBP9ZY8H', 1), ('AYI3B726HQVC7', 1), ('A28D1E0L2M5SHE', 1), ('A33FIU4CC9SH7P', 1), ('A10Y058K7B96C6', 1), ('A1VCKOEX8TCFPN', 1), ('AP91IOXCFBOAN', 1), ('A1PMAOD2KBB10Z', 1), ('A2ISRK4FSR1JO2', 1), ('A2Y4L2HX868T34', 1), ('A29ZRSML4F4QBQ', 1), ('AJ4HT0I4UJCIZ', 1), ('A2GSX2QKN5VT50', 1), ('A2EP47EDN74VIM', 1), ('A1U8GLSJKZ07F7', 1), ('A2JJE1XQE2VMR7', 1), ('A205BE7EZPO709', 1), ('AEE28UD9LC6WK', 1), ('A268NXN1K4Y1E3', 1), ('AE0RG3SPT051B', 1), ('A1J33E8Y5M97CU', 1), ('A1PLZR1VJLWY86', 1), ('A12K7PPCXWWHUN', 1), ('A3CI4JRMLWCL5S', 1), ('A1P6IIR9JVFY7V', 1), ('A364Z8P1YEV5NS', 1), ('ACMTEMPIAUB8P', 1), ('A1YPWT4SH0NK8Q', 1), ('AJIOQATP4GQO5', 1), ('A3SZAG11FJ2BYX', 1), ('A2COGQZJYP7C97', 1), ('AOXC877D8K415', 1), ('ATN0EAYQ78LUK', 1), ('A3L5L1NZIKLSJU', 1), ('AISMHUEMLDBPV', 1), ('A3LX7F5JAZ2ICZ', 1), ('A1RHU87BHDS3WM', 1), ('A26QZLAYTZTZIB', 1), ('AII5C30XX7G2B', 1), ('A2ZK9SHV66X09K', 1), ('A1BKX9MC3YAKF8', 1), ('A1JFXOFDRZ9CFQ', 1), ('A38KSTNHK9VO0Z', 1), ('ALMU1PUFHF3XG', 1), ('A2GJPON0S7UC1O', 1), ('A2TPM6XC32QPW9', 1), ('A26HOZ5R77QMLJ', 1), ('A1QJ8VUTZ3PIHW', 1), ('A3DN1EHYLP0IIA', 1), ('A1B3N4QUDJ9N5I', 1), ('AH1GVWGEL3L4O', 1), ('A8VAR3611S5QN', 1), ('AUSLAM4FFNLE8', 1), ('A1K290AO54K9C1', 1), ('A2NJUH5SRDE1DB', 1), ('AZ54V6YQC0CAK', 1), ('A2GB7VFX0B25L6', 1), ('AMGMKI7S8R8N8', 1), ('A1A9G5K3L891PR', 1), ('A2QFEH6C2BTR1N', 1), ('AXJAOMGSDPLVD', 1), ('A26NTYQQ3RTLQL', 1), ('A57NIXTDN5FQO', 1), ('A38ZYBBFWW06D6', 1), ('A1LL8N425UTUM6', 1)])\n",
            "('A33I6CUHXWW2LI', [('A33I6CUHXWW2LI', 1), ('A12SAU7NR89O98', 1), ('A15BG6MMEQXBV7', 1), ('A3AHK3DGL0GCIY', 1), ('ABAQ0QWOHK7A0', 1), ('A2HQL5KB584YBJ', 1), ('A17PE57VHJY0GQ', 1), ('ANDWCJZL3MI1H', 1), ('A76WS9568VK4R', 1), ('AIV72BRAJQ8Z3', 1), ('A1MW3RFJI8SEJR', 1), ('A2WMN47WS0WULT', 1), ('AKYL7326JND79', 1), ('A2M5HH9CQI59BV', 1), ('A60TPGOUVWCSM', 1), ('AYRL0033UI557', 1), ('A3B6FOHAAOL7G3', 1), ('A1VVIGVD6J9TY8', 1), ('A2RPO7VJ90W3AZ', 1), ('A32XGGMKOXXVI3', 1), ('A2NCCIOM54VRTJ', 1), ('A1LFRPC4Y7RQE1', 1), ('A3BZFZJG9LPFZ7', 1), ('A3ER1UZUTSMIVS', 1), ('A2843500EKO5YB', 1), ('A19SDJ2TSSL8HI', 1), ('A2PDN1ANIIZY5R', 1), ('A1V2KJE03N4AE1', 1), ('AW8OFLSZ085P', 1), ('A2FQ9XC68R3WM3', 1), ('AJZ6AU704SDH5', 1), ('A2E06BWD0AH43W', 1), ('AEN20F9AGL37H', 1), ('AFA01IFOEL3PO', 1), ('A1HHKX4M7SUSHY', 1), ('A1QY4XG9PMHDE2', 1), ('A3DA04X0YQL9X2', 1), ('A20IQLFES5BDPG', 1), ('AW7MCN6QTZJ6T', 1), ('AOEERLQYCJ7OL', 1), ('A2INDWF4VA87C1', 1), ('A343W3C0APGURL', 1), ('A3V06GPBA8273U', 1), ('A2T3G6EOENY38D', 1), ('A3LKZG1E74DI5J', 1), ('AUFUZ9QWZZ6XS', 1), ('A308PQN54RYMHX', 1), ('A21SHM5JIIR3OA', 1), ('A45D1IQOT71HW', 1), ('APMKMTAD71INN', 1), ('A17XNJYSP9NYSR', 1)])\n",
            "('A2OPBV1R3VZL4Y', [('A2SYIQSWDFEK1Y', 1), ('A2OPBV1R3VZL4Y', 1), ('A3MVKPAWAVSNJU', 1), ('A2DIIKH6MOQIAT', 1), ('A10ZZ8Q4OU3NVK', 1), ('A3IDI24KWWMWU', 1), ('AAYCNNXF1A3E9', 1), ('A2RBGOWJO35P93', 1), ('A300N4AS17NZFG', 1), ('A3NHUQ33CFH3VM', 1), ('A1AISW5RMH8NBK', 1), ('APLS971C71MSW', 1), ('AVVA9NNM881LM', 1), ('A3SYTEMUMKIBZ5', 1), ('A3QFOYRN9G515S', 1), ('A2PL0US7RN67G', 1), ('A2BBQSPHPVF7S3', 1), ('AP4IZPR25BQSZ', 1), ('A1K5SC7GSLXE36', 1)])\n",
            "('A3D5BTDWTV5233', [('A27QP3196WVUFW', 1), ('A3L8JZYN7G3LHE', 1), ('A3D5BTDWTV5233', 1), ('A33KDCVOHA07O3', 1), ('A2F6TYDZSOPD9K', 1), ('A2T29IBLSX1SFN', 1), ('A3PAYE3N4WEYU5', 1)])\n",
            "('A3R9GHOP74J991', [('A2COYS8FDG48G7', 1), ('A2GD2UTD4R7K55', 1), ('A3XG8M5E5ALNP', 1), ('A3R9GHOP74J991', 1), ('A35GG859VIJQCB', 1), ('A2KH8KCFPYI97Y', 1), ('A24P28ZI2KYOX0', 1), ('AD86XOZF6OFCZ', 1), ('A17HVTFF7IR0UF', 1), ('A3JZ7LQSY8SZRJ', 1), ('A2CFGXSKKEZNM5', 1), ('A2MY9Z4KRNPI7K', 1), ('A4NJRFOBD0DMB', 1), ('A3STP3YCI9F1VZ', 1)])\n",
            "('A73XV157BTDBF', [('A73XV157BTDBF', 2), ('ANKP8WIH9B812', 1), ('A300XWF1WFL7PG', 1), ('ACP4IE0R3J9P2', 1), ('A30I9OQCMLJ75A', 1), ('A13UOJ6R1JRR3W', 1), ('A2G97A91YWA1WL', 1), ('A3JC6XW4DUZC86', 1), ('A30DL2XG9R8YZ6', 1)])\n"
          ]
        }
      ]
    }
  ],
  "metadata": {
    "kernelspec": {
      "display_name": "Python 3",
      "language": "python",
      "name": "python3"
    },
    "language_info": {
      "codemirror_mode": {
        "name": "ipython",
        "version": 3
      },
      "file_extension": ".py",
      "mimetype": "text/x-python",
      "name": "python",
      "nbconvert_exporter": "python",
      "pygments_lexer": "ipython3",
      "version": "3.8.10"
    },
    "colab": {
      "provenance": [],
      "include_colab_link": true
    }
  },
  "nbformat": 4,
  "nbformat_minor": 0
}
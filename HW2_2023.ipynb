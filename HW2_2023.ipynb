{
 "cells": [
  {
   "cell_type": "markdown",
   "metadata": {
    "id": "Kwx2dxZeFHDX"
   },
   "source": [
    "# Amazon Fine Food Reviews - Building a Co-review graph\n",
    "\n",
    "In this lab, our general goal is to conduct some exploratory analysis of a medium - large dataset, namely, Amazon Fine Food Reviews, available from a [Kaggle Competition](https://www.kaggle.com/datasets/snap/amazon-fine-food-reviews).\n",
    "\n",
    "Our general goals are the following:\n",
    "\n",
    "- Retrieve the dataset and upload it onto Colab;\n",
    "- Build the associated Co-review graph."
   ]
  },
  {
   "cell_type": "markdown",
   "source": [
    "## Retrieving the dataset\n",
    "To retrieve this dataset, we need to be registered Kaggle users. Assuming this is the case, we basically have two options:\n",
    "\n",
    "1. Download the dataset locally. This can be useful if you want to keep a copy of the data to work with directly on your machine. In this case, you will have to upload the data on Colab in order to work with it. There are several ways to do this, described [here](https://colab.research.google.com/notebooks/io.ipynb). Note that our compressed dataset is about 300MB's and proceeding this way may take some time, depending on your connection.\n",
    "2. Transferring the data directly from Kaggle to Google. In my experience, this was extremely fast and it is the method I am going to use.\n",
    "\n",
    "A nice review of all available methods, including the one I am using, can be found [here](https://towardsdatascience.com/7-ways-to-load-external-data-into-google-colab-7ba73e7d5fc7)."
   ],
   "metadata": {
    "id": "dZX0TppG5IPa"
   }
  },
  {
   "cell_type": "code",
   "source": [],
   "metadata": {
    "id": "ph_ZVgLx7gVc"
   },
   "execution_count": null,
   "outputs": []
  },
  {
   "cell_type": "markdown",
   "metadata": {
    "id": "9fpG9wnlFHDb"
   },
   "source": [
    "### Transferring dataset from Google to Colab\n",
    "Go to your profile on Kaggle, then ```Account --> Create New API Token``` (you do not have to do every time you run your notebook). The result will be a file called ```kaggle.json```, which you save on your machine. Next, we upload this file to Google Colab as follows:"
   ]
  },
  {
   "cell_type": "code",
   "source": [
    "from google.colab import files\n",
    "\n",
    "uploaded = files.upload()"
   ],
   "metadata": {
    "colab": {
     "base_uri": "https://localhost:8080/",
     "height": 73
    },
    "id": "WDFBCfveFJ9E",
    "outputId": "250ba6bb-5457-4a04-ce96-1679c40d46c8"
   },
   "execution_count": null,
   "outputs": [
    {
     "output_type": "display_data",
     "data": {
      "text/plain": [
       "<IPython.core.display.HTML object>"
      ],
      "text/html": [
       "\n",
       "     <input type=\"file\" id=\"files-dd37b532-ec44-40a9-840f-706970a42b4b\" name=\"files[]\" multiple disabled\n",
       "        style=\"border:none\" />\n",
       "     <output id=\"result-dd37b532-ec44-40a9-840f-706970a42b4b\">\n",
       "      Upload widget is only available when the cell has been executed in the\n",
       "      current browser session. Please rerun this cell to enable.\n",
       "      </output>\n",
       "      <script>// Copyright 2017 Google LLC\n",
       "//\n",
       "// Licensed under the Apache License, Version 2.0 (the \"License\");\n",
       "// you may not use this file except in compliance with the License.\n",
       "// You may obtain a copy of the License at\n",
       "//\n",
       "//      http://www.apache.org/licenses/LICENSE-2.0\n",
       "//\n",
       "// Unless required by applicable law or agreed to in writing, software\n",
       "// distributed under the License is distributed on an \"AS IS\" BASIS,\n",
       "// WITHOUT WARRANTIES OR CONDITIONS OF ANY KIND, either express or implied.\n",
       "// See the License for the specific language governing permissions and\n",
       "// limitations under the License.\n",
       "\n",
       "/**\n",
       " * @fileoverview Helpers for google.colab Python module.\n",
       " */\n",
       "(function(scope) {\n",
       "function span(text, styleAttributes = {}) {\n",
       "  const element = document.createElement('span');\n",
       "  element.textContent = text;\n",
       "  for (const key of Object.keys(styleAttributes)) {\n",
       "    element.style[key] = styleAttributes[key];\n",
       "  }\n",
       "  return element;\n",
       "}\n",
       "\n",
       "// Max number of bytes which will be uploaded at a time.\n",
       "const MAX_PAYLOAD_SIZE = 100 * 1024;\n",
       "\n",
       "function _uploadFiles(inputId, outputId) {\n",
       "  const steps = uploadFilesStep(inputId, outputId);\n",
       "  const outputElement = document.getElementById(outputId);\n",
       "  // Cache steps on the outputElement to make it available for the next call\n",
       "  // to uploadFilesContinue from Python.\n",
       "  outputElement.steps = steps;\n",
       "\n",
       "  return _uploadFilesContinue(outputId);\n",
       "}\n",
       "\n",
       "// This is roughly an async generator (not supported in the browser yet),\n",
       "// where there are multiple asynchronous steps and the Python side is going\n",
       "// to poll for completion of each step.\n",
       "// This uses a Promise to block the python side on completion of each step,\n",
       "// then passes the result of the previous step as the input to the next step.\n",
       "function _uploadFilesContinue(outputId) {\n",
       "  const outputElement = document.getElementById(outputId);\n",
       "  const steps = outputElement.steps;\n",
       "\n",
       "  const next = steps.next(outputElement.lastPromiseValue);\n",
       "  return Promise.resolve(next.value.promise).then((value) => {\n",
       "    // Cache the last promise value to make it available to the next\n",
       "    // step of the generator.\n",
       "    outputElement.lastPromiseValue = value;\n",
       "    return next.value.response;\n",
       "  });\n",
       "}\n",
       "\n",
       "/**\n",
       " * Generator function which is called between each async step of the upload\n",
       " * process.\n",
       " * @param {string} inputId Element ID of the input file picker element.\n",
       " * @param {string} outputId Element ID of the output display.\n",
       " * @return {!Iterable<!Object>} Iterable of next steps.\n",
       " */\n",
       "function* uploadFilesStep(inputId, outputId) {\n",
       "  const inputElement = document.getElementById(inputId);\n",
       "  inputElement.disabled = false;\n",
       "\n",
       "  const outputElement = document.getElementById(outputId);\n",
       "  outputElement.innerHTML = '';\n",
       "\n",
       "  const pickedPromise = new Promise((resolve) => {\n",
       "    inputElement.addEventListener('change', (e) => {\n",
       "      resolve(e.target.files);\n",
       "    });\n",
       "  });\n",
       "\n",
       "  const cancel = document.createElement('button');\n",
       "  inputElement.parentElement.appendChild(cancel);\n",
       "  cancel.textContent = 'Cancel upload';\n",
       "  const cancelPromise = new Promise((resolve) => {\n",
       "    cancel.onclick = () => {\n",
       "      resolve(null);\n",
       "    };\n",
       "  });\n",
       "\n",
       "  // Wait for the user to pick the files.\n",
       "  const files = yield {\n",
       "    promise: Promise.race([pickedPromise, cancelPromise]),\n",
       "    response: {\n",
       "      action: 'starting',\n",
       "    }\n",
       "  };\n",
       "\n",
       "  cancel.remove();\n",
       "\n",
       "  // Disable the input element since further picks are not allowed.\n",
       "  inputElement.disabled = true;\n",
       "\n",
       "  if (!files) {\n",
       "    return {\n",
       "      response: {\n",
       "        action: 'complete',\n",
       "      }\n",
       "    };\n",
       "  }\n",
       "\n",
       "  for (const file of files) {\n",
       "    const li = document.createElement('li');\n",
       "    li.append(span(file.name, {fontWeight: 'bold'}));\n",
       "    li.append(span(\n",
       "        `(${file.type || 'n/a'}) - ${file.size} bytes, ` +\n",
       "        `last modified: ${\n",
       "            file.lastModifiedDate ? file.lastModifiedDate.toLocaleDateString() :\n",
       "                                    'n/a'} - `));\n",
       "    const percent = span('0% done');\n",
       "    li.appendChild(percent);\n",
       "\n",
       "    outputElement.appendChild(li);\n",
       "\n",
       "    const fileDataPromise = new Promise((resolve) => {\n",
       "      const reader = new FileReader();\n",
       "      reader.onload = (e) => {\n",
       "        resolve(e.target.result);\n",
       "      };\n",
       "      reader.readAsArrayBuffer(file);\n",
       "    });\n",
       "    // Wait for the data to be ready.\n",
       "    let fileData = yield {\n",
       "      promise: fileDataPromise,\n",
       "      response: {\n",
       "        action: 'continue',\n",
       "      }\n",
       "    };\n",
       "\n",
       "    // Use a chunked sending to avoid message size limits. See b/62115660.\n",
       "    let position = 0;\n",
       "    do {\n",
       "      const length = Math.min(fileData.byteLength - position, MAX_PAYLOAD_SIZE);\n",
       "      const chunk = new Uint8Array(fileData, position, length);\n",
       "      position += length;\n",
       "\n",
       "      const base64 = btoa(String.fromCharCode.apply(null, chunk));\n",
       "      yield {\n",
       "        response: {\n",
       "          action: 'append',\n",
       "          file: file.name,\n",
       "          data: base64,\n",
       "        },\n",
       "      };\n",
       "\n",
       "      let percentDone = fileData.byteLength === 0 ?\n",
       "          100 :\n",
       "          Math.round((position / fileData.byteLength) * 100);\n",
       "      percent.textContent = `${percentDone}% done`;\n",
       "\n",
       "    } while (position < fileData.byteLength);\n",
       "  }\n",
       "\n",
       "  // All done.\n",
       "  yield {\n",
       "    response: {\n",
       "      action: 'complete',\n",
       "    }\n",
       "  };\n",
       "}\n",
       "\n",
       "scope.google = scope.google || {};\n",
       "scope.google.colab = scope.google.colab || {};\n",
       "scope.google.colab._files = {\n",
       "  _uploadFiles,\n",
       "  _uploadFilesContinue,\n",
       "};\n",
       "})(self);\n",
       "</script> "
      ]
     },
     "metadata": {}
    },
    {
     "output_type": "stream",
     "name": "stdout",
     "text": [
      "Saving kaggle.json to kaggle.json\n"
     ]
    }
   ]
  },
  {
   "cell_type": "code",
   "source": [],
   "metadata": {
    "id": "qAXZiOWe5PQw"
   },
   "execution_count": null,
   "outputs": []
  },
  {
   "cell_type": "markdown",
   "source": [
    "We next specify the above directory as the one to upload the Kaggle dataset to:"
   ],
   "metadata": {
    "id": "1gva-K-KMMOo"
   }
  },
  {
   "cell_type": "code",
   "source": [
    "import os\n",
    "os.environ['KAGGLE_CONFIG_DIR'] = \".kaggle\""
   ],
   "metadata": {
    "id": "Fyhf0yW9RTNJ",
    "ExecuteTime": {
     "end_time": "2023-11-14T15:17:43.187814400Z",
     "start_time": "2023-11-14T15:17:43.156520700Z"
    }
   },
   "execution_count": 1,
   "outputs": []
  },
  {
   "cell_type": "markdown",
   "source": [
    "Next, we need to upload the dataset, issuing the necessary shell command. To do this, we can let Kaggle generate the right command for us. This is done from the Kaggle competion's Web page, in the top-right menu, clicking on the dots and then selecting ```Copy API Command``` as shown in the picture below:\n",
    "\n",
    "![Fig1.png](data:image/png;base64,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)"
   ],
   "metadata": {
    "id": "1BSNVBmRMnAU"
   }
  },
  {
   "cell_type": "markdown",
   "source": [
    "The copy-pasted command is the one shown below:"
   ],
   "metadata": {
    "id": "Et0s4k1IN7z1"
   }
  },
  {
   "cell_type": "code",
   "source": [
    "!kaggle datasets download -d snap/amazon-fine-food-reviews"
   ],
   "metadata": {
    "colab": {
     "base_uri": "https://localhost:8080/"
    },
    "id": "P9bljXyiRnPL",
    "outputId": "3b6fcc6d-30d6-4efe-e139-e21ce78ea9d7",
    "ExecuteTime": {
     "end_time": "2023-11-14T15:10:04.715945300Z",
     "start_time": "2023-11-14T15:08:31.126232300Z"
    }
   },
   "execution_count": 6,
   "outputs": [
    {
     "name": "stdout",
     "output_type": "stream",
     "text": [
      "Downloading amazon-fine-food-reviews.zip to C:\\Users\\Jonas\\Desktop\\Uni\\MSc\\Year-2\\BDC\\homework-2\n",
      "\n"
     ]
    },
    {
     "name": "stderr",
     "output_type": "stream",
     "text": [
      "\n",
      "  0%|          | 0.00/242M [00:00<?, ?B/s]\n",
      "  0%|          | 1.00M/242M [00:00<03:09, 1.34MB/s]\n",
      "  1%|          | 2.00M/242M [00:01<02:11, 1.91MB/s]\n",
      "  1%|1         | 3.00M/242M [00:01<01:45, 2.37MB/s]\n",
      "  2%|1         | 4.00M/242M [00:01<01:36, 2.58MB/s]\n",
      "  2%|2         | 5.00M/242M [00:02<01:30, 2.76MB/s]\n",
      "  2%|2         | 6.00M/242M [00:02<01:27, 2.84MB/s]\n",
      "  3%|2         | 7.00M/242M [00:02<01:31, 2.68MB/s]\n",
      "  3%|3         | 8.00M/242M [00:03<01:32, 2.66MB/s]\n",
      "  4%|3         | 9.00M/242M [00:03<01:27, 2.79MB/s]\n",
      "  4%|4         | 10.0M/242M [00:04<01:40, 2.42MB/s]\n",
      "  5%|4         | 11.0M/242M [00:04<01:54, 2.12MB/s]\n",
      "  5%|4         | 12.0M/242M [00:05<01:54, 2.11MB/s]\n",
      "  5%|5         | 13.0M/242M [00:06<02:11, 1.83MB/s]\n",
      "  6%|5         | 14.0M/242M [00:06<01:49, 2.18MB/s]\n",
      "  6%|6         | 15.0M/242M [00:06<01:42, 2.32MB/s]\n",
      "  7%|6         | 16.0M/242M [00:07<01:34, 2.52MB/s]\n",
      "  7%|7         | 17.0M/242M [00:07<01:29, 2.65MB/s]\n",
      "  7%|7         | 18.0M/242M [00:07<01:29, 2.62MB/s]\n",
      "  8%|7         | 19.0M/242M [00:08<01:35, 2.44MB/s]\n",
      "  8%|8         | 20.0M/242M [00:08<01:47, 2.17MB/s]\n",
      "  9%|8         | 21.0M/242M [00:09<01:48, 2.15MB/s]\n",
      "  9%|9         | 22.0M/242M [00:09<01:37, 2.37MB/s]\n",
      "  9%|9         | 23.0M/242M [00:10<01:37, 2.36MB/s]\n",
      " 10%|9         | 24.0M/242M [00:10<01:30, 2.52MB/s]\n",
      " 10%|#         | 25.0M/242M [00:11<01:34, 2.40MB/s]\n",
      " 11%|#         | 26.0M/242M [00:11<01:27, 2.59MB/s]\n",
      " 11%|#1        | 27.0M/242M [00:11<01:29, 2.53MB/s]\n",
      " 12%|#1        | 28.0M/242M [00:12<01:25, 2.62MB/s]\n",
      " 12%|#1        | 29.0M/242M [00:12<01:22, 2.72MB/s]\n",
      " 12%|#2        | 30.0M/242M [00:12<01:17, 2.88MB/s]\n",
      " 13%|#2        | 31.0M/242M [00:13<01:17, 2.87MB/s]\n",
      " 13%|#3        | 32.0M/242M [00:13<01:17, 2.84MB/s]\n",
      " 14%|#3        | 33.0M/242M [00:14<01:15, 2.89MB/s]\n",
      " 14%|#4        | 34.0M/242M [00:14<01:23, 2.61MB/s]\n",
      " 14%|#4        | 35.0M/242M [00:14<01:16, 2.83MB/s]\n",
      " 15%|#4        | 36.0M/242M [00:15<01:14, 2.91MB/s]\n",
      " 15%|#5        | 37.0M/242M [00:15<01:15, 2.86MB/s]\n",
      " 16%|#5        | 38.0M/242M [00:15<01:16, 2.78MB/s]\n",
      " 16%|#6        | 39.0M/242M [00:16<01:23, 2.56MB/s]\n",
      " 17%|#6        | 40.0M/242M [00:16<01:18, 2.71MB/s]\n",
      " 17%|#6        | 41.0M/242M [00:17<01:15, 2.79MB/s]\n",
      " 17%|#7        | 42.0M/242M [00:17<01:10, 2.97MB/s]\n",
      " 18%|#7        | 43.0M/242M [00:17<01:14, 2.82MB/s]\n",
      " 18%|#8        | 44.0M/242M [00:18<01:14, 2.79MB/s]\n",
      " 19%|#8        | 45.0M/242M [00:18<01:15, 2.74MB/s]\n",
      " 19%|#8        | 46.0M/242M [00:18<01:17, 2.67MB/s]\n",
      " 19%|#9        | 47.0M/242M [00:19<01:11, 2.87MB/s]\n",
      " 20%|#9        | 48.0M/242M [00:19<01:15, 2.68MB/s]\n",
      " 20%|##        | 49.0M/242M [00:20<01:09, 2.92MB/s]\n",
      " 21%|##        | 50.0M/242M [00:20<01:07, 2.99MB/s]\n",
      " 21%|##1       | 51.0M/242M [00:20<01:15, 2.65MB/s]\n",
      " 21%|##1       | 52.0M/242M [00:21<01:06, 2.98MB/s]\n",
      " 22%|##1       | 53.0M/242M [00:21<01:17, 2.55MB/s]\n",
      " 22%|##2       | 54.0M/242M [00:22<01:21, 2.42MB/s]\n",
      " 23%|##2       | 55.0M/242M [00:22<01:16, 2.57MB/s]\n",
      " 23%|##3       | 56.0M/242M [00:22<01:09, 2.79MB/s]\n",
      " 24%|##3       | 57.0M/242M [00:23<01:08, 2.85MB/s]\n",
      " 24%|##3       | 58.0M/242M [00:23<01:05, 2.93MB/s]\n",
      " 24%|##4       | 59.0M/242M [00:23<01:07, 2.83MB/s]\n",
      " 25%|##4       | 60.0M/242M [00:24<01:06, 2.87MB/s]\n",
      " 25%|##5       | 61.0M/242M [00:24<01:05, 2.91MB/s]\n",
      " 26%|##5       | 62.0M/242M [00:24<01:04, 2.93MB/s]\n",
      " 26%|##6       | 63.0M/242M [00:25<01:01, 3.03MB/s]\n",
      " 26%|##6       | 64.0M/242M [00:25<01:00, 3.11MB/s]\n",
      " 27%|##6       | 65.0M/242M [00:25<00:57, 3.22MB/s]\n",
      " 27%|##7       | 66.0M/242M [00:26<00:58, 3.15MB/s]\n",
      " 28%|##7       | 67.0M/242M [00:26<00:58, 3.15MB/s]\n",
      " 28%|##8       | 68.0M/242M [00:27<01:04, 2.85MB/s]\n",
      " 28%|##8       | 69.0M/242M [00:27<01:02, 2.89MB/s]\n",
      " 29%|##8       | 70.0M/242M [00:27<00:59, 3.05MB/s]\n",
      " 29%|##9       | 71.0M/242M [00:28<00:59, 3.03MB/s]\n",
      " 30%|##9       | 72.0M/242M [00:28<00:56, 3.15MB/s]\n",
      " 30%|###       | 73.0M/242M [00:28<00:59, 2.97MB/s]\n",
      " 31%|###       | 74.0M/242M [00:29<00:57, 3.07MB/s]\n",
      " 31%|###       | 75.0M/242M [00:29<00:58, 3.00MB/s]\n",
      " 31%|###1      | 76.0M/242M [00:29<00:56, 3.11MB/s]\n",
      " 32%|###1      | 77.0M/242M [00:30<00:55, 3.10MB/s]\n",
      " 32%|###2      | 78.0M/242M [00:30<00:54, 3.16MB/s]\n",
      " 33%|###2      | 79.0M/242M [00:30<00:57, 2.97MB/s]\n",
      " 33%|###3      | 80.0M/242M [00:31<00:58, 2.90MB/s]\n",
      " 33%|###3      | 81.0M/242M [00:31<00:56, 3.01MB/s]\n",
      " 34%|###3      | 82.0M/242M [00:31<00:55, 3.04MB/s]\n",
      " 34%|###4      | 83.0M/242M [00:32<00:57, 2.91MB/s]\n",
      " 35%|###4      | 84.0M/242M [00:32<00:55, 2.97MB/s]\n",
      " 35%|###5      | 85.0M/242M [00:32<00:56, 2.89MB/s]\n",
      " 36%|###5      | 86.0M/242M [00:33<00:59, 2.73MB/s]\n",
      " 36%|###5      | 87.0M/242M [00:33<00:51, 3.14MB/s]\n",
      " 36%|###6      | 88.0M/242M [00:33<00:52, 3.05MB/s]\n",
      " 37%|###6      | 89.0M/242M [00:34<00:54, 2.93MB/s]\n",
      " 37%|###7      | 90.0M/242M [00:34<00:58, 2.74MB/s]\n",
      " 38%|###7      | 91.0M/242M [00:34<00:49, 3.19MB/s]\n",
      " 38%|###7      | 92.0M/242M [00:35<00:47, 3.33MB/s]\n",
      " 38%|###8      | 93.0M/242M [00:35<00:48, 3.22MB/s]\n",
      " 39%|###8      | 94.0M/242M [00:35<00:48, 3.20MB/s]\n",
      " 39%|###9      | 95.0M/242M [00:36<00:49, 3.09MB/s]\n",
      " 40%|###9      | 96.0M/242M [00:36<00:50, 3.01MB/s]\n",
      " 40%|####      | 97.0M/242M [00:37<00:49, 3.05MB/s]\n",
      " 40%|####      | 98.0M/242M [00:37<00:56, 2.68MB/s]\n",
      " 41%|####      | 99.0M/242M [00:37<00:53, 2.81MB/s]\n",
      " 41%|####1     | 100M/242M [00:38<00:53, 2.79MB/s] \n",
      " 42%|####1     | 101M/242M [00:38<00:53, 2.77MB/s]\n",
      " 42%|####2     | 102M/242M [00:38<00:53, 2.76MB/s]\n",
      " 43%|####2     | 103M/242M [00:39<00:50, 2.90MB/s]\n",
      " 43%|####2     | 104M/242M [00:39<00:48, 3.01MB/s]\n",
      " 43%|####3     | 105M/242M [00:40<00:49, 2.92MB/s]\n",
      " 44%|####3     | 106M/242M [00:40<00:46, 3.07MB/s]\n",
      " 44%|####4     | 107M/242M [00:40<00:47, 3.01MB/s]\n",
      " 45%|####4     | 108M/242M [00:40<00:44, 3.13MB/s]\n",
      " 45%|####5     | 109M/242M [00:41<00:43, 3.18MB/s]\n",
      " 45%|####5     | 110M/242M [00:41<00:42, 3.22MB/s]\n",
      " 46%|####5     | 111M/242M [00:41<00:38, 3.58MB/s]\n",
      " 46%|####6     | 112M/242M [00:42<00:39, 3.50MB/s]\n",
      " 47%|####6     | 113M/242M [00:42<00:40, 3.32MB/s]\n",
      " 47%|####7     | 114M/242M [00:42<00:45, 2.94MB/s]\n",
      " 47%|####7     | 115M/242M [00:43<00:44, 2.97MB/s]\n",
      " 48%|####7     | 116M/242M [00:43<00:44, 2.95MB/s]\n",
      " 48%|####8     | 117M/242M [00:43<00:42, 3.07MB/s]\n",
      " 49%|####8     | 118M/242M [00:44<00:43, 3.00MB/s]\n",
      " 49%|####9     | 119M/242M [00:44<00:40, 3.18MB/s]\n",
      " 50%|####9     | 120M/242M [00:44<00:40, 3.12MB/s]\n",
      " 50%|####9     | 121M/242M [00:45<00:39, 3.17MB/s]\n",
      " 50%|#####     | 122M/242M [00:45<00:42, 2.98MB/s]\n",
      " 51%|#####     | 123M/242M [00:46<00:41, 3.03MB/s]\n",
      " 51%|#####1    | 124M/242M [00:46<00:42, 2.93MB/s]\n",
      " 52%|#####1    | 125M/242M [00:46<00:41, 2.95MB/s]\n",
      " 52%|#####2    | 126M/242M [00:47<00:42, 2.88MB/s]\n",
      " 52%|#####2    | 127M/242M [00:47<00:44, 2.73MB/s]\n",
      " 53%|#####2    | 128M/242M [00:48<00:46, 2.59MB/s]\n",
      " 53%|#####3    | 129M/242M [00:48<00:45, 2.63MB/s]\n",
      " 54%|#####3    | 130M/242M [00:48<00:40, 2.88MB/s]\n",
      " 54%|#####4    | 131M/242M [00:48<00:38, 3.00MB/s]\n",
      " 55%|#####4    | 132M/242M [00:49<00:37, 3.04MB/s]\n",
      " 55%|#####4    | 133M/242M [00:49<00:37, 3.01MB/s]\n",
      " 55%|#####5    | 134M/242M [00:50<00:40, 2.82MB/s]\n",
      " 56%|#####5    | 135M/242M [00:50<00:35, 3.17MB/s]\n",
      " 56%|#####6    | 136M/242M [00:50<00:36, 3.07MB/s]\n",
      " 57%|#####6    | 137M/242M [00:51<00:36, 3.04MB/s]\n",
      " 57%|#####6    | 138M/242M [00:51<00:37, 2.95MB/s]\n",
      " 57%|#####7    | 139M/242M [00:51<00:36, 3.00MB/s]\n",
      " 58%|#####7    | 140M/242M [00:52<00:37, 2.88MB/s]\n",
      " 58%|#####8    | 141M/242M [00:52<00:35, 2.99MB/s]\n",
      " 59%|#####8    | 142M/242M [00:52<00:36, 2.91MB/s]\n",
      " 59%|#####9    | 143M/242M [00:53<00:39, 2.61MB/s]\n",
      " 59%|#####9    | 144M/242M [00:53<00:38, 2.68MB/s]\n",
      " 60%|#####9    | 145M/242M [00:54<00:40, 2.53MB/s]\n",
      " 60%|######    | 146M/242M [00:54<00:34, 2.91MB/s]\n",
      " 61%|######    | 147M/242M [00:54<00:33, 2.98MB/s]\n",
      " 61%|######1   | 148M/242M [00:55<00:33, 2.93MB/s]\n",
      " 62%|######1   | 149M/242M [00:55<00:34, 2.84MB/s]\n",
      " 62%|######1   | 150M/242M [00:55<00:33, 2.88MB/s]\n",
      " 62%|######2   | 151M/242M [00:56<00:33, 2.84MB/s]\n",
      " 63%|######2   | 152M/242M [00:56<00:34, 2.77MB/s]\n",
      " 63%|######3   | 153M/242M [00:57<00:34, 2.69MB/s]\n",
      " 64%|######3   | 154M/242M [00:57<00:34, 2.70MB/s]\n",
      " 64%|######4   | 155M/242M [00:57<00:34, 2.64MB/s]\n",
      " 64%|######4   | 156M/242M [00:58<00:33, 2.70MB/s]\n",
      " 65%|######4   | 157M/242M [00:58<00:37, 2.40MB/s]\n",
      " 65%|######5   | 158M/242M [00:59<00:36, 2.38MB/s]\n",
      " 66%|######5   | 159M/242M [00:59<00:42, 2.03MB/s]\n",
      " 66%|######6   | 161M/242M [01:00<00:29, 2.90MB/s]\n",
      " 67%|######6   | 162M/242M [01:00<00:29, 2.85MB/s]\n",
      " 67%|######7   | 163M/242M [01:01<00:29, 2.83MB/s]\n",
      " 68%|######7   | 164M/242M [01:01<00:26, 3.06MB/s]\n",
      " 68%|######8   | 165M/242M [01:01<00:27, 2.92MB/s]\n",
      " 69%|######8   | 166M/242M [01:02<00:26, 2.98MB/s]\n",
      " 69%|######8   | 167M/242M [01:02<00:26, 2.99MB/s]\n",
      " 69%|######9   | 168M/242M [01:02<00:24, 3.16MB/s]\n",
      " 70%|######9   | 169M/242M [01:03<00:25, 2.98MB/s]\n",
      " 70%|#######   | 170M/242M [01:03<00:24, 3.07MB/s]\n",
      " 71%|#######   | 171M/242M [01:03<00:25, 2.92MB/s]\n",
      " 71%|#######1  | 172M/242M [01:04<00:24, 3.03MB/s]\n",
      " 71%|#######1  | 173M/242M [01:04<00:25, 2.89MB/s]\n",
      " 72%|#######1  | 174M/242M [01:04<00:24, 2.96MB/s]\n",
      " 72%|#######2  | 175M/242M [01:05<00:23, 3.06MB/s]\n",
      " 73%|#######2  | 176M/242M [01:05<00:22, 3.13MB/s]\n",
      " 73%|#######3  | 177M/242M [01:05<00:22, 3.04MB/s]\n",
      " 74%|#######3  | 178M/242M [01:06<00:22, 2.93MB/s]\n",
      " 74%|#######3  | 179M/242M [01:06<00:21, 3.05MB/s]\n",
      " 74%|#######4  | 180M/242M [01:06<00:21, 3.04MB/s]\n",
      " 75%|#######4  | 181M/242M [01:07<00:22, 2.89MB/s]\n",
      " 75%|#######5  | 182M/242M [01:07<00:22, 2.82MB/s]\n",
      " 76%|#######5  | 183M/242M [01:08<00:25, 2.44MB/s]\n",
      " 76%|#######5  | 184M/242M [01:08<00:19, 3.15MB/s]\n",
      " 76%|#######6  | 185M/242M [01:08<00:19, 3.13MB/s]\n",
      " 77%|#######6  | 186M/242M [01:09<00:18, 3.10MB/s]\n",
      " 77%|#######7  | 187M/242M [01:09<00:18, 3.11MB/s]\n",
      " 78%|#######7  | 188M/242M [01:09<00:18, 3.08MB/s]\n",
      " 78%|#######8  | 189M/242M [01:10<00:19, 2.88MB/s]\n",
      " 78%|#######8  | 190M/242M [01:10<00:18, 2.96MB/s]\n",
      " 79%|#######8  | 191M/242M [01:11<00:19, 2.70MB/s]\n",
      " 79%|#######9  | 192M/242M [01:11<00:17, 2.93MB/s]\n",
      " 80%|#######9  | 193M/242M [01:11<00:17, 2.91MB/s]\n",
      " 80%|########  | 194M/242M [01:12<00:17, 2.94MB/s]\n",
      " 81%|########  | 195M/242M [01:12<00:16, 2.98MB/s]\n",
      " 81%|########  | 196M/242M [01:12<00:17, 2.73MB/s]\n",
      " 81%|########1 | 197M/242M [01:13<00:17, 2.65MB/s]\n",
      " 82%|########1 | 198M/242M [01:13<00:18, 2.55MB/s]\n",
      " 82%|########2 | 199M/242M [01:14<00:16, 2.70MB/s]\n",
      " 83%|########2 | 200M/242M [01:14<00:15, 2.90MB/s]\n",
      " 83%|########3 | 201M/242M [01:14<00:14, 2.97MB/s]\n",
      " 83%|########3 | 202M/242M [01:15<00:15, 2.71MB/s]\n",
      " 84%|########3 | 203M/242M [01:15<00:12, 3.16MB/s]\n",
      " 84%|########4 | 204M/242M [01:15<00:12, 3.26MB/s]\n",
      " 85%|########4 | 205M/242M [01:15<00:12, 3.22MB/s]\n",
      " 85%|########5 | 206M/242M [01:16<00:11, 3.30MB/s]\n",
      " 85%|########5 | 207M/242M [01:16<00:12, 3.06MB/s]\n",
      " 86%|########5 | 208M/242M [01:16<00:11, 3.23MB/s]\n",
      " 86%|########6 | 209M/242M [01:17<00:10, 3.30MB/s]\n",
      " 87%|########6 | 210M/242M [01:17<00:10, 3.25MB/s]\n",
      " 87%|########7 | 211M/242M [01:18<00:11, 2.87MB/s]\n",
      " 88%|########7 | 212M/242M [01:18<00:10, 2.94MB/s]\n",
      " 88%|########7 | 213M/242M [01:18<00:10, 2.92MB/s]\n",
      " 88%|########8 | 214M/242M [01:19<00:11, 2.52MB/s]\n",
      " 89%|########8 | 215M/242M [01:19<00:10, 2.82MB/s]\n",
      " 89%|########9 | 216M/242M [01:19<00:09, 2.99MB/s]\n",
      " 90%|########9 | 217M/242M [01:20<00:08, 2.94MB/s]\n",
      " 90%|######### | 218M/242M [01:20<00:08, 2.90MB/s]\n",
      " 90%|######### | 219M/242M [01:20<00:08, 2.87MB/s]\n",
      " 91%|######### | 220M/242M [01:21<00:07, 2.99MB/s]\n",
      " 91%|#########1| 221M/242M [01:21<00:07, 2.99MB/s]\n",
      " 92%|#########1| 222M/242M [01:21<00:07, 2.99MB/s]\n",
      " 92%|#########2| 223M/242M [01:22<00:07, 2.86MB/s]\n",
      " 93%|#########2| 224M/242M [01:22<00:06, 3.03MB/s]\n",
      " 93%|#########2| 225M/242M [01:22<00:05, 3.11MB/s]\n",
      " 93%|#########3| 226M/242M [01:23<00:05, 3.17MB/s]\n",
      " 94%|#########3| 227M/242M [01:23<00:05, 3.16MB/s]\n",
      " 94%|#########4| 228M/242M [01:24<00:05, 2.73MB/s]\n",
      " 95%|#########4| 229M/242M [01:24<00:04, 3.02MB/s]\n",
      " 95%|#########4| 230M/242M [01:24<00:04, 3.10MB/s]\n",
      " 95%|#########5| 231M/242M [01:25<00:03, 2.92MB/s]\n",
      " 96%|#########5| 232M/242M [01:25<00:03, 2.76MB/s]\n",
      " 96%|#########6| 233M/242M [01:26<00:03, 2.65MB/s]\n",
      " 97%|#########6| 234M/242M [01:26<00:02, 3.16MB/s]\n",
      " 97%|#########7| 235M/242M [01:26<00:02, 3.20MB/s]\n",
      " 97%|#########7| 236M/242M [01:26<00:02, 3.09MB/s]\n",
      " 98%|#########7| 237M/242M [01:27<00:01, 2.78MB/s]\n",
      " 98%|#########8| 238M/242M [01:27<00:01, 3.00MB/s]\n",
      " 99%|#########8| 239M/242M [01:28<00:01, 2.91MB/s]\n",
      " 99%|#########9| 240M/242M [01:28<00:00, 2.71MB/s]\n",
      "100%|#########9| 241M/242M [01:28<00:00, 2.79MB/s]\n",
      "100%|#########9| 242M/242M [01:29<00:00, 2.85MB/s]\n",
      "100%|##########| 242M/242M [01:29<00:00, 2.85MB/s]\n"
     ]
    }
   ]
  },
  {
   "cell_type": "code",
   "source": [
    "!chmod 600 ./kaggle/kaggle.json"
   ],
   "metadata": {
    "id": "30CgybvgXm1p"
   },
   "execution_count": null,
   "outputs": []
  },
  {
   "cell_type": "markdown",
   "source": [
    "We next check that everything is there:"
   ],
   "metadata": {
    "id": "WYbgI1ucSL-Q"
   }
  },
  {
   "cell_type": "code",
   "source": [
    "!ls"
   ],
   "metadata": {
    "colab": {
     "base_uri": "https://localhost:8080/"
    },
    "id": "OuPVThsHQSQg",
    "outputId": "ee93e704-3b46-47be-c825-c7a1a01043fa"
   },
   "execution_count": null,
   "outputs": [
    {
     "output_type": "stream",
     "name": "stdout",
     "text": [
      "amazon-fine-food-reviews.zip  kaggle.json  sample_data\n"
     ]
    }
   ]
  },
  {
   "cell_type": "markdown",
   "source": [
    "We now extract the files from the zipper archive. To this purpose, we use Python zipfile utility package:"
   ],
   "metadata": {
    "id": "ZdCryH7aSUKG"
   }
  },
  {
   "cell_type": "code",
   "source": [
    "from zipfile import ZipFile\n",
    "from pathlib import Path"
   ],
   "metadata": {
    "id": "ohKzn4VdSalc",
    "ExecuteTime": {
     "end_time": "2023-11-14T15:11:04.422390Z",
     "start_time": "2023-11-14T15:11:04.391046200Z"
    }
   },
   "execution_count": 7,
   "outputs": []
  },
  {
   "cell_type": "code",
   "source": [
    "# Create a ZipFile Object and load sample.zip in it\n",
    "with ZipFile('amazon-fine-food-reviews.zip', 'r') as zipObj:\n",
    "    Path(\"./data\").mkdir(exist_ok=True, parents=True)\n",
    "   # Extract all the contents of zip file in current directory\n",
    "    zipObj.extractall(\"./data\")"
   ],
   "metadata": {
    "id": "xxvYTKkaS7gJ",
    "ExecuteTime": {
     "end_time": "2023-11-14T15:11:34.920100200Z",
     "start_time": "2023-11-14T15:11:16.647911700Z"
    }
   },
   "execution_count": 8,
   "outputs": []
  },
  {
   "cell_type": "markdown",
   "source": [
    "Let's check what files are there (we are looking for ```Reviews.csv```)"
   ],
   "metadata": {
    "id": "qhp1WWg-SqeQ"
   }
  },
  {
   "cell_type": "code",
   "source": [
    "!ls data"
   ],
   "metadata": {
    "colab": {
     "base_uri": "https://localhost:8080/"
    },
    "id": "sW7F3_W3SyY6",
    "outputId": "8a37fecb-02e5-4c11-c084-ea90f192420a",
    "ExecuteTime": {
     "end_time": "2023-11-14T15:11:45.242487400Z",
     "start_time": "2023-11-14T15:11:44.202937900Z"
    }
   },
   "execution_count": 9,
   "outputs": [
    {
     "name": "stdout",
     "output_type": "stream",
     "text": [
      "database.sqlite\n",
      "hashes.txt\n",
      "Reviews.csv\n"
     ]
    }
   ]
  },
  {
   "cell_type": "markdown",
   "source": [
    "There it is. Let us just perform a check that the file looks like it is supposed to be, by having a glance at the first 10 lines:"
   ],
   "metadata": {
    "id": "QMNo1hbRS09-"
   }
  },
  {
   "cell_type": "code",
   "source": [
    "!head -10 data/Reviews.csv"
   ],
   "metadata": {
    "id": "qpLCBLwoV8jo",
    "colab": {
     "base_uri": "https://localhost:8080/"
    },
    "outputId": "d8280c76-609a-4eec-8273-fd966a5af1f3",
    "ExecuteTime": {
     "end_time": "2023-11-14T15:12:04.668485200Z",
     "start_time": "2023-11-14T15:11:59.149880400Z"
    }
   },
   "execution_count": 10,
   "outputs": [
    {
     "name": "stdout",
     "output_type": "stream",
     "text": [
      "Id,ProductId,UserId,ProfileName,HelpfulnessNumerator,HelpfulnessDenominator,Score,Time,Summary,Text\n",
      "1,B001E4KFG0,A3SGXH7AUHU8GW,delmartian,1,1,5,1303862400,Good Quality Dog Food,I have bought several of the Vitality canned dog food products and have found them all to be of good quality. The product looks more like a stew than a processed meat and it smells better. My Labrador is finicky and she appreciates this product better than  most.\n",
      "2,B00813GRG4,A1D87F6ZCVE5NK,dll pa,0,0,1,1346976000,Not as Advertised,\"Product arrived labeled as Jumbo Salted Peanuts...the peanuts were actually small sized unsalted. Not sure if this was an error or if the vendor intended to represent the product as \"\"Jumbo\"\".\"\n",
      "3,B000LQOCH0,ABXLMWJIXXAIN,\"Natalia Corres \"\"Natalia Corres\"\"\",1,1,4,1219017600,\"\"\"Delight\"\" says it all\",\"This is a confection that has been around a few centuries.  It is a light, pillowy citrus gelatin with nuts - in this case Filberts. And it is cut into tiny squares and then liberally coated with powdered sugar.  And it is a tiny mouthful of heaven.  Not too chewy, and very flavorful.  I highly recommend this yummy treat.  If you are familiar with the story of C.S. Lewis' \"\"The Lion, The Witch, and The Wardrobe\"\" - this is the treat that seduces Edmund into selling out his Brother and Sisters to the Witch.\"\n",
      "4,B000UA0QIQ,A395BORC6FGVXV,Karl,3,3,2,1307923200,Cough Medicine,If you are looking for the secret ingredient in Robitussin I believe I have found it.  I got this in addition to the Root Beer Extract I ordered (which was good) and made some cherry soda.  The flavor is very medicinal.\n",
      "5,B006K2ZZ7K,A1UQRSCLF8GW1T,\"Michael D. Bigham \"\"M. Wassir\"\"\",0,0,5,1350777600,Great taffy,\"Great taffy at a great price.  There was a wide assortment of yummy taffy.  Delivery was very quick.  If your a taffy lover, this is a deal.\"\n",
      "6,B006K2ZZ7K,ADT0SRK1MGOEU,Twoapennything,0,0,4,1342051200,Nice Taffy,\"I got a wild hair for taffy and ordered this five pound bag. The taffy was all very enjoyable with many flavors: watermelon, root beer, melon, peppermint, grape, etc. My only complaint is there was a bit too much red/black licorice-flavored pieces (just not my particular favorites). Between me, my kids, and my husband, this lasted only two weeks! I would recommend this brand of taffy -- it was a delightful treat.\"\n",
      "7,B006K2ZZ7K,A1SP2KVKFXXRU1,David C. Sullivan,0,0,5,1340150400,Great!  Just as good as the expensive brands!,\"This saltwater taffy had great flavors and was very soft and chewy.  Each candy was individually wrapped well.  None of the candies were stuck together, which did happen in the expensive version, Fralinger's.  Would highly recommend this candy!  I served it at a beach-themed party and everyone loved it!\"\n",
      "8,B006K2ZZ7K,A3JRGQVEQN31IQ,Pamela G. Williams,0,0,5,1336003200,\"Wonderful, tasty taffy\",This taffy is so good.  It is very soft and chewy.  The flavors are amazing.  I would definitely recommend you buying it.  Very satisfying!!\n",
      "9,B000E7L2R4,A1MZYO9TZK0BBI,R. James,1,1,5,1322006400,Yay Barley,Right now I'm mostly just sprouting this so my cats can eat the grass. They love it. I rotate it around with Wheatgrass and Rye too\n"
     ]
    }
   ]
  },
  {
   "cell_type": "markdown",
   "source": [
    "Keeping roughly $10\\%$ of the users for testing purposes. We will see why doing this is reasonable further in the course. For now, try to understand how ```sample_users``` works and why it does the job."
   ],
   "metadata": {
    "id": "dFUNyY6GWbv5"
   }
  },
  {
   "cell_type": "markdown",
   "source": [
    "#### Load the Reviews file.\n",
    "As a first step, we load the `Reviews.csv` file."
   ],
   "metadata": {
    "collapsed": false
   }
  },
  {
   "cell_type": "code",
   "source": [
    "import pandas as pd\n",
    "raw_pd = pd.read_csv(\"data/Reviews.csv\", index_col=0)"
   ],
   "metadata": {
    "id": "0wDK4pVZXbVj",
    "ExecuteTime": {
     "end_time": "2023-11-14T15:18:38.536998500Z",
     "start_time": "2023-11-14T15:18:16.277515900Z"
    }
   },
   "execution_count": 1,
   "outputs": []
  },
  {
   "cell_type": "markdown",
   "source": [
    "We write the sampled rows to the file, with columns separated by tab `\\t` instead of comma `,` since there is a lot of free text in the reviews which might also contain commas."
   ],
   "metadata": {
    "collapsed": false
   }
  },
  {
   "cell_type": "code",
   "source": [
    "# Given a Pandas frame raw_pd, save lines corresponding to approximately 10% of the users to file fout\n",
    "# Note that all lines corresponding to sampled users are saved to fout\n",
    "\n",
    "def sample_users(raw_pd, rate, buckets, fout):\n",
    "    for index, row in raw_pd.iterrows():\n",
    "        if (hash(row[\"UserId\"])%buckets < rate):\n",
    "            row_str = \"\\t\".join(map(str, row))\n",
    "            fout.write(row_str)\n",
    "            fout.write(\"\\n\")\n",
    "            # Save this line to fout\n",
    "            # You have to complete this part of the function's body\n",
    "\n",
    "\n",
    "sampled_file = \"data/Reviews_sampled.csv\"\n",
    "rate = 10 # 10% of users\n",
    "buckets = 100\n",
    "\n",
    "fout = open(sampled_file, \"w\", encoding=\"utf-8\")\n",
    "sample_users(raw_pd, rate, buckets, fout)\n",
    "fout.close()"
   ],
   "metadata": {
    "id": "f1L04Je1Pj9p",
    "ExecuteTime": {
     "end_time": "2023-11-14T15:20:20.910486200Z",
     "start_time": "2023-11-14T15:18:38.538997700Z"
    }
   },
   "execution_count": 2,
   "outputs": []
  },
  {
   "cell_type": "markdown",
   "source": [
    "Load the sampled reviews from disk, specifying the `\\t` as a separator and giving it the original column names."
   ],
   "metadata": {
    "collapsed": false
   }
  },
  {
   "cell_type": "code",
   "execution_count": 3,
   "outputs": [
    {
     "ename": "FileNotFoundError",
     "evalue": "[Errno 2] No such file or directory: 'Reviews_sampled.csv'",
     "output_type": "error",
     "traceback": [
      "\u001B[1;31m---------------------------------------------------------------------------\u001B[0m",
      "\u001B[1;31mFileNotFoundError\u001B[0m                         Traceback (most recent call last)",
      "Cell \u001B[1;32mIn[3], line 1\u001B[0m\n\u001B[1;32m----> 1\u001B[0m sampled_reviews \u001B[38;5;241m=\u001B[39m \u001B[43mpd\u001B[49m\u001B[38;5;241;43m.\u001B[39;49m\u001B[43mread_csv\u001B[49m\u001B[43m(\u001B[49m\u001B[38;5;124;43m\"\u001B[39;49m\u001B[38;5;124;43mReviews_sampled.csv\u001B[39;49m\u001B[38;5;124;43m\"\u001B[39;49m\u001B[43m,\u001B[49m\u001B[43m \u001B[49m\u001B[43mheader\u001B[49m\u001B[38;5;241;43m=\u001B[39;49m\u001B[38;5;28;43;01mNone\u001B[39;49;00m\u001B[43m,\u001B[49m\u001B[43m \u001B[49m\u001B[43msep\u001B[49m\u001B[38;5;241;43m=\u001B[39;49m\u001B[38;5;124;43m\"\u001B[39;49m\u001B[38;5;130;43;01m\\t\u001B[39;49;00m\u001B[38;5;124;43m\"\u001B[39;49m\u001B[43m,\u001B[49m\u001B[43m \u001B[49m\u001B[43mnames\u001B[49m\u001B[38;5;241;43m=\u001B[39;49m\u001B[43mraw_pd\u001B[49m\u001B[38;5;241;43m.\u001B[39;49m\u001B[43mcolumns\u001B[49m\u001B[43m)\u001B[49m\n",
      "File \u001B[1;32m~\\Desktop\\Uni\\MSc\\Year-2\\BDC\\homework-2\\env\\lib\\site-packages\\pandas\\io\\parsers\\readers.py:948\u001B[0m, in \u001B[0;36mread_csv\u001B[1;34m(filepath_or_buffer, sep, delimiter, header, names, index_col, usecols, dtype, engine, converters, true_values, false_values, skipinitialspace, skiprows, skipfooter, nrows, na_values, keep_default_na, na_filter, verbose, skip_blank_lines, parse_dates, infer_datetime_format, keep_date_col, date_parser, date_format, dayfirst, cache_dates, iterator, chunksize, compression, thousands, decimal, lineterminator, quotechar, quoting, doublequote, escapechar, comment, encoding, encoding_errors, dialect, on_bad_lines, delim_whitespace, low_memory, memory_map, float_precision, storage_options, dtype_backend)\u001B[0m\n\u001B[0;32m    935\u001B[0m kwds_defaults \u001B[38;5;241m=\u001B[39m _refine_defaults_read(\n\u001B[0;32m    936\u001B[0m     dialect,\n\u001B[0;32m    937\u001B[0m     delimiter,\n\u001B[1;32m   (...)\u001B[0m\n\u001B[0;32m    944\u001B[0m     dtype_backend\u001B[38;5;241m=\u001B[39mdtype_backend,\n\u001B[0;32m    945\u001B[0m )\n\u001B[0;32m    946\u001B[0m kwds\u001B[38;5;241m.\u001B[39mupdate(kwds_defaults)\n\u001B[1;32m--> 948\u001B[0m \u001B[38;5;28;01mreturn\u001B[39;00m \u001B[43m_read\u001B[49m\u001B[43m(\u001B[49m\u001B[43mfilepath_or_buffer\u001B[49m\u001B[43m,\u001B[49m\u001B[43m \u001B[49m\u001B[43mkwds\u001B[49m\u001B[43m)\u001B[49m\n",
      "File \u001B[1;32m~\\Desktop\\Uni\\MSc\\Year-2\\BDC\\homework-2\\env\\lib\\site-packages\\pandas\\io\\parsers\\readers.py:611\u001B[0m, in \u001B[0;36m_read\u001B[1;34m(filepath_or_buffer, kwds)\u001B[0m\n\u001B[0;32m    608\u001B[0m _validate_names(kwds\u001B[38;5;241m.\u001B[39mget(\u001B[38;5;124m\"\u001B[39m\u001B[38;5;124mnames\u001B[39m\u001B[38;5;124m\"\u001B[39m, \u001B[38;5;28;01mNone\u001B[39;00m))\n\u001B[0;32m    610\u001B[0m \u001B[38;5;66;03m# Create the parser.\u001B[39;00m\n\u001B[1;32m--> 611\u001B[0m parser \u001B[38;5;241m=\u001B[39m TextFileReader(filepath_or_buffer, \u001B[38;5;241m*\u001B[39m\u001B[38;5;241m*\u001B[39mkwds)\n\u001B[0;32m    613\u001B[0m \u001B[38;5;28;01mif\u001B[39;00m chunksize \u001B[38;5;129;01mor\u001B[39;00m iterator:\n\u001B[0;32m    614\u001B[0m     \u001B[38;5;28;01mreturn\u001B[39;00m parser\n",
      "File \u001B[1;32m~\\Desktop\\Uni\\MSc\\Year-2\\BDC\\homework-2\\env\\lib\\site-packages\\pandas\\io\\parsers\\readers.py:1448\u001B[0m, in \u001B[0;36mTextFileReader.__init__\u001B[1;34m(self, f, engine, **kwds)\u001B[0m\n\u001B[0;32m   1445\u001B[0m     \u001B[38;5;28mself\u001B[39m\u001B[38;5;241m.\u001B[39moptions[\u001B[38;5;124m\"\u001B[39m\u001B[38;5;124mhas_index_names\u001B[39m\u001B[38;5;124m\"\u001B[39m] \u001B[38;5;241m=\u001B[39m kwds[\u001B[38;5;124m\"\u001B[39m\u001B[38;5;124mhas_index_names\u001B[39m\u001B[38;5;124m\"\u001B[39m]\n\u001B[0;32m   1447\u001B[0m \u001B[38;5;28mself\u001B[39m\u001B[38;5;241m.\u001B[39mhandles: IOHandles \u001B[38;5;241m|\u001B[39m \u001B[38;5;28;01mNone\u001B[39;00m \u001B[38;5;241m=\u001B[39m \u001B[38;5;28;01mNone\u001B[39;00m\n\u001B[1;32m-> 1448\u001B[0m \u001B[38;5;28mself\u001B[39m\u001B[38;5;241m.\u001B[39m_engine \u001B[38;5;241m=\u001B[39m \u001B[38;5;28;43mself\u001B[39;49m\u001B[38;5;241;43m.\u001B[39;49m\u001B[43m_make_engine\u001B[49m\u001B[43m(\u001B[49m\u001B[43mf\u001B[49m\u001B[43m,\u001B[49m\u001B[43m \u001B[49m\u001B[38;5;28;43mself\u001B[39;49m\u001B[38;5;241;43m.\u001B[39;49m\u001B[43mengine\u001B[49m\u001B[43m)\u001B[49m\n",
      "File \u001B[1;32m~\\Desktop\\Uni\\MSc\\Year-2\\BDC\\homework-2\\env\\lib\\site-packages\\pandas\\io\\parsers\\readers.py:1705\u001B[0m, in \u001B[0;36mTextFileReader._make_engine\u001B[1;34m(self, f, engine)\u001B[0m\n\u001B[0;32m   1703\u001B[0m     \u001B[38;5;28;01mif\u001B[39;00m \u001B[38;5;124m\"\u001B[39m\u001B[38;5;124mb\u001B[39m\u001B[38;5;124m\"\u001B[39m \u001B[38;5;129;01mnot\u001B[39;00m \u001B[38;5;129;01min\u001B[39;00m mode:\n\u001B[0;32m   1704\u001B[0m         mode \u001B[38;5;241m+\u001B[39m\u001B[38;5;241m=\u001B[39m \u001B[38;5;124m\"\u001B[39m\u001B[38;5;124mb\u001B[39m\u001B[38;5;124m\"\u001B[39m\n\u001B[1;32m-> 1705\u001B[0m \u001B[38;5;28mself\u001B[39m\u001B[38;5;241m.\u001B[39mhandles \u001B[38;5;241m=\u001B[39m \u001B[43mget_handle\u001B[49m\u001B[43m(\u001B[49m\n\u001B[0;32m   1706\u001B[0m \u001B[43m    \u001B[49m\u001B[43mf\u001B[49m\u001B[43m,\u001B[49m\n\u001B[0;32m   1707\u001B[0m \u001B[43m    \u001B[49m\u001B[43mmode\u001B[49m\u001B[43m,\u001B[49m\n\u001B[0;32m   1708\u001B[0m \u001B[43m    \u001B[49m\u001B[43mencoding\u001B[49m\u001B[38;5;241;43m=\u001B[39;49m\u001B[38;5;28;43mself\u001B[39;49m\u001B[38;5;241;43m.\u001B[39;49m\u001B[43moptions\u001B[49m\u001B[38;5;241;43m.\u001B[39;49m\u001B[43mget\u001B[49m\u001B[43m(\u001B[49m\u001B[38;5;124;43m\"\u001B[39;49m\u001B[38;5;124;43mencoding\u001B[39;49m\u001B[38;5;124;43m\"\u001B[39;49m\u001B[43m,\u001B[49m\u001B[43m \u001B[49m\u001B[38;5;28;43;01mNone\u001B[39;49;00m\u001B[43m)\u001B[49m\u001B[43m,\u001B[49m\n\u001B[0;32m   1709\u001B[0m \u001B[43m    \u001B[49m\u001B[43mcompression\u001B[49m\u001B[38;5;241;43m=\u001B[39;49m\u001B[38;5;28;43mself\u001B[39;49m\u001B[38;5;241;43m.\u001B[39;49m\u001B[43moptions\u001B[49m\u001B[38;5;241;43m.\u001B[39;49m\u001B[43mget\u001B[49m\u001B[43m(\u001B[49m\u001B[38;5;124;43m\"\u001B[39;49m\u001B[38;5;124;43mcompression\u001B[39;49m\u001B[38;5;124;43m\"\u001B[39;49m\u001B[43m,\u001B[49m\u001B[43m \u001B[49m\u001B[38;5;28;43;01mNone\u001B[39;49;00m\u001B[43m)\u001B[49m\u001B[43m,\u001B[49m\n\u001B[0;32m   1710\u001B[0m \u001B[43m    \u001B[49m\u001B[43mmemory_map\u001B[49m\u001B[38;5;241;43m=\u001B[39;49m\u001B[38;5;28;43mself\u001B[39;49m\u001B[38;5;241;43m.\u001B[39;49m\u001B[43moptions\u001B[49m\u001B[38;5;241;43m.\u001B[39;49m\u001B[43mget\u001B[49m\u001B[43m(\u001B[49m\u001B[38;5;124;43m\"\u001B[39;49m\u001B[38;5;124;43mmemory_map\u001B[39;49m\u001B[38;5;124;43m\"\u001B[39;49m\u001B[43m,\u001B[49m\u001B[43m \u001B[49m\u001B[38;5;28;43;01mFalse\u001B[39;49;00m\u001B[43m)\u001B[49m\u001B[43m,\u001B[49m\n\u001B[0;32m   1711\u001B[0m \u001B[43m    \u001B[49m\u001B[43mis_text\u001B[49m\u001B[38;5;241;43m=\u001B[39;49m\u001B[43mis_text\u001B[49m\u001B[43m,\u001B[49m\n\u001B[0;32m   1712\u001B[0m \u001B[43m    \u001B[49m\u001B[43merrors\u001B[49m\u001B[38;5;241;43m=\u001B[39;49m\u001B[38;5;28;43mself\u001B[39;49m\u001B[38;5;241;43m.\u001B[39;49m\u001B[43moptions\u001B[49m\u001B[38;5;241;43m.\u001B[39;49m\u001B[43mget\u001B[49m\u001B[43m(\u001B[49m\u001B[38;5;124;43m\"\u001B[39;49m\u001B[38;5;124;43mencoding_errors\u001B[39;49m\u001B[38;5;124;43m\"\u001B[39;49m\u001B[43m,\u001B[49m\u001B[43m \u001B[49m\u001B[38;5;124;43m\"\u001B[39;49m\u001B[38;5;124;43mstrict\u001B[39;49m\u001B[38;5;124;43m\"\u001B[39;49m\u001B[43m)\u001B[49m\u001B[43m,\u001B[49m\n\u001B[0;32m   1713\u001B[0m \u001B[43m    \u001B[49m\u001B[43mstorage_options\u001B[49m\u001B[38;5;241;43m=\u001B[39;49m\u001B[38;5;28;43mself\u001B[39;49m\u001B[38;5;241;43m.\u001B[39;49m\u001B[43moptions\u001B[49m\u001B[38;5;241;43m.\u001B[39;49m\u001B[43mget\u001B[49m\u001B[43m(\u001B[49m\u001B[38;5;124;43m\"\u001B[39;49m\u001B[38;5;124;43mstorage_options\u001B[39;49m\u001B[38;5;124;43m\"\u001B[39;49m\u001B[43m,\u001B[49m\u001B[43m \u001B[49m\u001B[38;5;28;43;01mNone\u001B[39;49;00m\u001B[43m)\u001B[49m\u001B[43m,\u001B[49m\n\u001B[0;32m   1714\u001B[0m \u001B[43m\u001B[49m\u001B[43m)\u001B[49m\n\u001B[0;32m   1715\u001B[0m \u001B[38;5;28;01massert\u001B[39;00m \u001B[38;5;28mself\u001B[39m\u001B[38;5;241m.\u001B[39mhandles \u001B[38;5;129;01mis\u001B[39;00m \u001B[38;5;129;01mnot\u001B[39;00m \u001B[38;5;28;01mNone\u001B[39;00m\n\u001B[0;32m   1716\u001B[0m f \u001B[38;5;241m=\u001B[39m \u001B[38;5;28mself\u001B[39m\u001B[38;5;241m.\u001B[39mhandles\u001B[38;5;241m.\u001B[39mhandle\n",
      "File \u001B[1;32m~\\Desktop\\Uni\\MSc\\Year-2\\BDC\\homework-2\\env\\lib\\site-packages\\pandas\\io\\common.py:863\u001B[0m, in \u001B[0;36mget_handle\u001B[1;34m(path_or_buf, mode, encoding, compression, memory_map, is_text, errors, storage_options)\u001B[0m\n\u001B[0;32m    858\u001B[0m \u001B[38;5;28;01melif\u001B[39;00m \u001B[38;5;28misinstance\u001B[39m(handle, \u001B[38;5;28mstr\u001B[39m):\n\u001B[0;32m    859\u001B[0m     \u001B[38;5;66;03m# Check whether the filename is to be opened in binary mode.\u001B[39;00m\n\u001B[0;32m    860\u001B[0m     \u001B[38;5;66;03m# Binary mode does not support 'encoding' and 'newline'.\u001B[39;00m\n\u001B[0;32m    861\u001B[0m     \u001B[38;5;28;01mif\u001B[39;00m ioargs\u001B[38;5;241m.\u001B[39mencoding \u001B[38;5;129;01mand\u001B[39;00m \u001B[38;5;124m\"\u001B[39m\u001B[38;5;124mb\u001B[39m\u001B[38;5;124m\"\u001B[39m \u001B[38;5;129;01mnot\u001B[39;00m \u001B[38;5;129;01min\u001B[39;00m ioargs\u001B[38;5;241m.\u001B[39mmode:\n\u001B[0;32m    862\u001B[0m         \u001B[38;5;66;03m# Encoding\u001B[39;00m\n\u001B[1;32m--> 863\u001B[0m         handle \u001B[38;5;241m=\u001B[39m \u001B[38;5;28;43mopen\u001B[39;49m\u001B[43m(\u001B[49m\n\u001B[0;32m    864\u001B[0m \u001B[43m            \u001B[49m\u001B[43mhandle\u001B[49m\u001B[43m,\u001B[49m\n\u001B[0;32m    865\u001B[0m \u001B[43m            \u001B[49m\u001B[43mioargs\u001B[49m\u001B[38;5;241;43m.\u001B[39;49m\u001B[43mmode\u001B[49m\u001B[43m,\u001B[49m\n\u001B[0;32m    866\u001B[0m \u001B[43m            \u001B[49m\u001B[43mencoding\u001B[49m\u001B[38;5;241;43m=\u001B[39;49m\u001B[43mioargs\u001B[49m\u001B[38;5;241;43m.\u001B[39;49m\u001B[43mencoding\u001B[49m\u001B[43m,\u001B[49m\n\u001B[0;32m    867\u001B[0m \u001B[43m            \u001B[49m\u001B[43merrors\u001B[49m\u001B[38;5;241;43m=\u001B[39;49m\u001B[43merrors\u001B[49m\u001B[43m,\u001B[49m\n\u001B[0;32m    868\u001B[0m \u001B[43m            \u001B[49m\u001B[43mnewline\u001B[49m\u001B[38;5;241;43m=\u001B[39;49m\u001B[38;5;124;43m\"\u001B[39;49m\u001B[38;5;124;43m\"\u001B[39;49m\u001B[43m,\u001B[49m\n\u001B[0;32m    869\u001B[0m \u001B[43m        \u001B[49m\u001B[43m)\u001B[49m\n\u001B[0;32m    870\u001B[0m     \u001B[38;5;28;01melse\u001B[39;00m:\n\u001B[0;32m    871\u001B[0m         \u001B[38;5;66;03m# Binary mode\u001B[39;00m\n\u001B[0;32m    872\u001B[0m         handle \u001B[38;5;241m=\u001B[39m \u001B[38;5;28mopen\u001B[39m(handle, ioargs\u001B[38;5;241m.\u001B[39mmode)\n",
      "\u001B[1;31mFileNotFoundError\u001B[0m: [Errno 2] No such file or directory: 'Reviews_sampled.csv'"
     ]
    }
   ],
   "source": [
    "sampled_reviews = pd.read_csv(\"data/Reviews_sampled.csv\", header=None, sep=\"\\t\", names=raw_pd.columns)"
   ],
   "metadata": {
    "collapsed": false,
    "ExecuteTime": {
     "end_time": "2023-11-14T15:25:01.628641500Z",
     "start_time": "2023-11-14T15:24:57.717067200Z"
    }
   }
  }
 ],
 "metadata": {
  "kernelspec": {
   "display_name": "Python 3",
   "language": "python",
   "name": "python3"
  },
  "language_info": {
   "codemirror_mode": {
    "name": "ipython",
    "version": 3
   },
   "file_extension": ".py",
   "mimetype": "text/x-python",
   "name": "python",
   "nbconvert_exporter": "python",
   "pygments_lexer": "ipython3",
   "version": "3.8.10"
  },
  "colab": {
   "provenance": []
  }
 },
 "nbformat": 4,
 "nbformat_minor": 0
}

{
  "cells": [
    {
      "cell_type": "markdown",
      "metadata": {
        "id": "view-in-github",
        "colab_type": "text"
      },
      "source": [
        "<a href=\"https://colab.research.google.com/github/jonasbarth/bdc-homework-2/blob/main/HW2_2023.ipynb\" target=\"_parent\"><img src=\"https://colab.research.google.com/assets/colab-badge.svg\" alt=\"Open In Colab\"/></a>"
      ]
    },
    {
      "cell_type": "markdown",
      "metadata": {
        "id": "Kwx2dxZeFHDX"
      },
      "source": [
        "# Amazon Fine Food Reviews - Building a Co-review graph\n",
        "\n",
        "In this lab, our general goal is to conduct some exploratory analysis of a medium - large dataset, namely, Amazon Fine Food Reviews, available from a [Kaggle Competition](https://www.kaggle.com/datasets/snap/amazon-fine-food-reviews).\n",
        "\n",
        "Our general goals are the following:\n",
        "\n",
        "- Retrieve the dataset and upload it onto Colab;\n",
        "- Build the associated Co-review graph."
      ]
    },
    {
      "cell_type": "markdown",
      "source": [
        "## Retrieving the dataset\n",
        "To retrieve this dataset, we need to be registered Kaggle users. Assuming this is the case, we basically have two options:\n",
        "\n",
        "1. Download the dataset locally. This can be useful if you want to keep a copy of the data to work with directly on your machine. In this case, you will have to upload the data on Colab in order to work with it. There are several ways to do this, described [here](https://colab.research.google.com/notebooks/io.ipynb). Note that our compressed dataset is about 300MB's and proceeding this way may take some time, depending on your connection.\n",
        "2. Transferring the data directly from Kaggle to Google. In my experience, this was extremely fast and it is the method I am going to use.\n",
        "\n",
        "A nice review of all available methods, including the one I am using, can be found [here](https://towardsdatascience.com/7-ways-to-load-external-data-into-google-colab-7ba73e7d5fc7)."
      ],
      "metadata": {
        "id": "dZX0TppG5IPa"
      }
    },
    {
      "cell_type": "code",
      "source": [],
      "metadata": {
        "id": "ph_ZVgLx7gVc"
      },
      "execution_count": null,
      "outputs": []
    },
    {
      "cell_type": "markdown",
      "metadata": {
        "id": "9fpG9wnlFHDb"
      },
      "source": [
        "### Transferring dataset from Google to Colab\n",
        "Go to your profile on Kaggle, then ```Account --> Create New API Token``` (you do not have to do every time you run your notebook). The result will be a file called ```kaggle.json```, which you save on your machine. Next, we upload this file to Google Colab as follows:"
      ]
    },
    {
      "cell_type": "code",
      "source": [
        "from google.colab import files\n",
        "\n",
        "uploaded = files.upload()"
      ],
      "metadata": {
        "colab": {
          "base_uri": "https://localhost:8080/",
          "height": 73
        },
        "id": "WDFBCfveFJ9E",
        "outputId": "6245a2d5-7be5-42fb-9ca3-d7994a4f6c62"
      },
      "execution_count": 1,
      "outputs": [
        {
          "output_type": "display_data",
          "data": {
            "text/plain": [
              "<IPython.core.display.HTML object>"
            ],
            "text/html": [
              "\n",
              "     <input type=\"file\" id=\"files-cebbe62d-8a6c-49ce-8e27-0ce6af72e481\" name=\"files[]\" multiple disabled\n",
              "        style=\"border:none\" />\n",
              "     <output id=\"result-cebbe62d-8a6c-49ce-8e27-0ce6af72e481\">\n",
              "      Upload widget is only available when the cell has been executed in the\n",
              "      current browser session. Please rerun this cell to enable.\n",
              "      </output>\n",
              "      <script>// Copyright 2017 Google LLC\n",
              "//\n",
              "// Licensed under the Apache License, Version 2.0 (the \"License\");\n",
              "// you may not use this file except in compliance with the License.\n",
              "// You may obtain a copy of the License at\n",
              "//\n",
              "//      http://www.apache.org/licenses/LICENSE-2.0\n",
              "//\n",
              "// Unless required by applicable law or agreed to in writing, software\n",
              "// distributed under the License is distributed on an \"AS IS\" BASIS,\n",
              "// WITHOUT WARRANTIES OR CONDITIONS OF ANY KIND, either express or implied.\n",
              "// See the License for the specific language governing permissions and\n",
              "// limitations under the License.\n",
              "\n",
              "/**\n",
              " * @fileoverview Helpers for google.colab Python module.\n",
              " */\n",
              "(function(scope) {\n",
              "function span(text, styleAttributes = {}) {\n",
              "  const element = document.createElement('span');\n",
              "  element.textContent = text;\n",
              "  for (const key of Object.keys(styleAttributes)) {\n",
              "    element.style[key] = styleAttributes[key];\n",
              "  }\n",
              "  return element;\n",
              "}\n",
              "\n",
              "// Max number of bytes which will be uploaded at a time.\n",
              "const MAX_PAYLOAD_SIZE = 100 * 1024;\n",
              "\n",
              "function _uploadFiles(inputId, outputId) {\n",
              "  const steps = uploadFilesStep(inputId, outputId);\n",
              "  const outputElement = document.getElementById(outputId);\n",
              "  // Cache steps on the outputElement to make it available for the next call\n",
              "  // to uploadFilesContinue from Python.\n",
              "  outputElement.steps = steps;\n",
              "\n",
              "  return _uploadFilesContinue(outputId);\n",
              "}\n",
              "\n",
              "// This is roughly an async generator (not supported in the browser yet),\n",
              "// where there are multiple asynchronous steps and the Python side is going\n",
              "// to poll for completion of each step.\n",
              "// This uses a Promise to block the python side on completion of each step,\n",
              "// then passes the result of the previous step as the input to the next step.\n",
              "function _uploadFilesContinue(outputId) {\n",
              "  const outputElement = document.getElementById(outputId);\n",
              "  const steps = outputElement.steps;\n",
              "\n",
              "  const next = steps.next(outputElement.lastPromiseValue);\n",
              "  return Promise.resolve(next.value.promise).then((value) => {\n",
              "    // Cache the last promise value to make it available to the next\n",
              "    // step of the generator.\n",
              "    outputElement.lastPromiseValue = value;\n",
              "    return next.value.response;\n",
              "  });\n",
              "}\n",
              "\n",
              "/**\n",
              " * Generator function which is called between each async step of the upload\n",
              " * process.\n",
              " * @param {string} inputId Element ID of the input file picker element.\n",
              " * @param {string} outputId Element ID of the output display.\n",
              " * @return {!Iterable<!Object>} Iterable of next steps.\n",
              " */\n",
              "function* uploadFilesStep(inputId, outputId) {\n",
              "  const inputElement = document.getElementById(inputId);\n",
              "  inputElement.disabled = false;\n",
              "\n",
              "  const outputElement = document.getElementById(outputId);\n",
              "  outputElement.innerHTML = '';\n",
              "\n",
              "  const pickedPromise = new Promise((resolve) => {\n",
              "    inputElement.addEventListener('change', (e) => {\n",
              "      resolve(e.target.files);\n",
              "    });\n",
              "  });\n",
              "\n",
              "  const cancel = document.createElement('button');\n",
              "  inputElement.parentElement.appendChild(cancel);\n",
              "  cancel.textContent = 'Cancel upload';\n",
              "  const cancelPromise = new Promise((resolve) => {\n",
              "    cancel.onclick = () => {\n",
              "      resolve(null);\n",
              "    };\n",
              "  });\n",
              "\n",
              "  // Wait for the user to pick the files.\n",
              "  const files = yield {\n",
              "    promise: Promise.race([pickedPromise, cancelPromise]),\n",
              "    response: {\n",
              "      action: 'starting',\n",
              "    }\n",
              "  };\n",
              "\n",
              "  cancel.remove();\n",
              "\n",
              "  // Disable the input element since further picks are not allowed.\n",
              "  inputElement.disabled = true;\n",
              "\n",
              "  if (!files) {\n",
              "    return {\n",
              "      response: {\n",
              "        action: 'complete',\n",
              "      }\n",
              "    };\n",
              "  }\n",
              "\n",
              "  for (const file of files) {\n",
              "    const li = document.createElement('li');\n",
              "    li.append(span(file.name, {fontWeight: 'bold'}));\n",
              "    li.append(span(\n",
              "        `(${file.type || 'n/a'}) - ${file.size} bytes, ` +\n",
              "        `last modified: ${\n",
              "            file.lastModifiedDate ? file.lastModifiedDate.toLocaleDateString() :\n",
              "                                    'n/a'} - `));\n",
              "    const percent = span('0% done');\n",
              "    li.appendChild(percent);\n",
              "\n",
              "    outputElement.appendChild(li);\n",
              "\n",
              "    const fileDataPromise = new Promise((resolve) => {\n",
              "      const reader = new FileReader();\n",
              "      reader.onload = (e) => {\n",
              "        resolve(e.target.result);\n",
              "      };\n",
              "      reader.readAsArrayBuffer(file);\n",
              "    });\n",
              "    // Wait for the data to be ready.\n",
              "    let fileData = yield {\n",
              "      promise: fileDataPromise,\n",
              "      response: {\n",
              "        action: 'continue',\n",
              "      }\n",
              "    };\n",
              "\n",
              "    // Use a chunked sending to avoid message size limits. See b/62115660.\n",
              "    let position = 0;\n",
              "    do {\n",
              "      const length = Math.min(fileData.byteLength - position, MAX_PAYLOAD_SIZE);\n",
              "      const chunk = new Uint8Array(fileData, position, length);\n",
              "      position += length;\n",
              "\n",
              "      const base64 = btoa(String.fromCharCode.apply(null, chunk));\n",
              "      yield {\n",
              "        response: {\n",
              "          action: 'append',\n",
              "          file: file.name,\n",
              "          data: base64,\n",
              "        },\n",
              "      };\n",
              "\n",
              "      let percentDone = fileData.byteLength === 0 ?\n",
              "          100 :\n",
              "          Math.round((position / fileData.byteLength) * 100);\n",
              "      percent.textContent = `${percentDone}% done`;\n",
              "\n",
              "    } while (position < fileData.byteLength);\n",
              "  }\n",
              "\n",
              "  // All done.\n",
              "  yield {\n",
              "    response: {\n",
              "      action: 'complete',\n",
              "    }\n",
              "  };\n",
              "}\n",
              "\n",
              "scope.google = scope.google || {};\n",
              "scope.google.colab = scope.google.colab || {};\n",
              "scope.google.colab._files = {\n",
              "  _uploadFiles,\n",
              "  _uploadFilesContinue,\n",
              "};\n",
              "})(self);\n",
              "</script> "
            ]
          },
          "metadata": {}
        },
        {
          "output_type": "stream",
          "name": "stdout",
          "text": [
            "Saving kaggle.json to kaggle.json\n"
          ]
        }
      ]
    },
    {
      "cell_type": "code",
      "source": [],
      "metadata": {
        "id": "qAXZiOWe5PQw"
      },
      "execution_count": null,
      "outputs": []
    },
    {
      "cell_type": "markdown",
      "source": [
        "We next specify the above directory as the one to upload the Kaggle dataset to:"
      ],
      "metadata": {
        "id": "1gva-K-KMMOo"
      }
    },
    {
      "cell_type": "code",
      "source": [
        "import os\n",
        "os.environ['KAGGLE_CONFIG_DIR'] = \"/content\""
      ],
      "metadata": {
        "id": "Fyhf0yW9RTNJ",
        "ExecuteTime": {
          "end_time": "2023-11-14T15:17:43.187814400Z",
          "start_time": "2023-11-14T15:17:43.156520700Z"
        }
      },
      "execution_count": 2,
      "outputs": []
    },
    {
      "cell_type": "markdown",
      "source": [
        "Next, we need to upload the dataset, issuing the necessary shell command. To do this, we can let Kaggle generate the right command for us. This is done from the Kaggle competion's Web page, in the top-right menu, clicking on the dots and then selecting ```Copy API Command``` as shown in the picture below:\n",
        "\n",
        "![Fig1.png](data:image/png;base64,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)"
      ],
      "metadata": {
        "id": "1BSNVBmRMnAU"
      }
    },
    {
      "cell_type": "markdown",
      "source": [
        "The copy-pasted command is the one shown below:"
      ],
      "metadata": {
        "id": "Et0s4k1IN7z1"
      }
    },
    {
      "cell_type": "code",
      "source": [
        "!kaggle datasets download -d snap/amazon-fine-food-reviews"
      ],
      "metadata": {
        "colab": {
          "base_uri": "https://localhost:8080/"
        },
        "id": "P9bljXyiRnPL",
        "outputId": "84cb51b8-d985-4671-a819-00f6a93822fc",
        "ExecuteTime": {
          "end_time": "2023-11-14T15:10:04.715945300Z",
          "start_time": "2023-11-14T15:08:31.126232300Z"
        }
      },
      "execution_count": 3,
      "outputs": [
        {
          "output_type": "stream",
          "name": "stdout",
          "text": [
            "Warning: Your Kaggle API key is readable by other users on this system! To fix this, you can run 'chmod 600 /content/kaggle.json'\n",
            "Downloading amazon-fine-food-reviews.zip to /content\n",
            " 99% 239M/242M [00:02<00:00, 214MB/s]\n",
            "100% 242M/242M [00:02<00:00, 119MB/s]\n"
          ]
        }
      ]
    },
    {
      "cell_type": "code",
      "source": [
        "!chmod 600 /content/kaggle.json"
      ],
      "metadata": {
        "id": "30CgybvgXm1p"
      },
      "execution_count": 4,
      "outputs": []
    },
    {
      "cell_type": "markdown",
      "source": [
        "We next check that everything is there:"
      ],
      "metadata": {
        "id": "WYbgI1ucSL-Q"
      }
    },
    {
      "cell_type": "code",
      "source": [
        "!ls"
      ],
      "metadata": {
        "colab": {
          "base_uri": "https://localhost:8080/"
        },
        "id": "OuPVThsHQSQg",
        "outputId": "9cf71ec6-850e-4459-86ee-70ddeea998f8"
      },
      "execution_count": 5,
      "outputs": [
        {
          "output_type": "stream",
          "name": "stdout",
          "text": [
            "amazon-fine-food-reviews.zip  kaggle.json  sample_data\n"
          ]
        }
      ]
    },
    {
      "cell_type": "markdown",
      "source": [
        "We now extract the files from the zipper archive. To this purpose, we use Python zipfile utility package:"
      ],
      "metadata": {
        "id": "ZdCryH7aSUKG"
      }
    },
    {
      "cell_type": "code",
      "source": [
        "from zipfile import ZipFile\n",
        "from pathlib import Path"
      ],
      "metadata": {
        "id": "ohKzn4VdSalc",
        "ExecuteTime": {
          "end_time": "2023-11-14T15:11:04.422390Z",
          "start_time": "2023-11-14T15:11:04.391046200Z"
        }
      },
      "execution_count": 6,
      "outputs": []
    },
    {
      "cell_type": "code",
      "source": [
        "# Create a ZipFile Object and load sample.zip in it\n",
        "with ZipFile('amazon-fine-food-reviews.zip', 'r') as zipObj:\n",
        "    Path(\"./data\").mkdir(exist_ok=True, parents=True)\n",
        "   # Extract all the contents of zip file in current directory\n",
        "    zipObj.extractall(\"./data\")"
      ],
      "metadata": {
        "id": "xxvYTKkaS7gJ",
        "ExecuteTime": {
          "end_time": "2023-11-14T15:11:34.920100200Z",
          "start_time": "2023-11-14T15:11:16.647911700Z"
        }
      },
      "execution_count": 7,
      "outputs": []
    },
    {
      "cell_type": "markdown",
      "source": [
        "Let's check what files are there (we are looking for ```Reviews.csv```)"
      ],
      "metadata": {
        "id": "qhp1WWg-SqeQ"
      }
    },
    {
      "cell_type": "code",
      "source": [
        "!ls data"
      ],
      "metadata": {
        "colab": {
          "base_uri": "https://localhost:8080/"
        },
        "id": "sW7F3_W3SyY6",
        "outputId": "67f10e3d-e92f-4525-c1aa-b8f0159eccf7",
        "ExecuteTime": {
          "end_time": "2023-11-14T15:11:45.242487400Z",
          "start_time": "2023-11-14T15:11:44.202937900Z"
        }
      },
      "execution_count": 8,
      "outputs": [
        {
          "output_type": "stream",
          "name": "stdout",
          "text": [
            "database.sqlite  hashes.txt  Reviews.csv\n"
          ]
        }
      ]
    },
    {
      "cell_type": "markdown",
      "source": [
        "There it is. Let us just perform a check that the file looks like it is supposed to be, by having a glance at the first 10 lines:"
      ],
      "metadata": {
        "id": "QMNo1hbRS09-"
      }
    },
    {
      "cell_type": "code",
      "source": [
        "!head -10 data/Reviews.csv"
      ],
      "metadata": {
        "id": "qpLCBLwoV8jo",
        "colab": {
          "base_uri": "https://localhost:8080/"
        },
        "outputId": "c3a52d1d-5d71-43f6-e225-5c9d5f2dcb11",
        "ExecuteTime": {
          "end_time": "2023-11-14T15:12:04.668485200Z",
          "start_time": "2023-11-14T15:11:59.149880400Z"
        }
      },
      "execution_count": 9,
      "outputs": [
        {
          "output_type": "stream",
          "name": "stdout",
          "text": [
            "Id,ProductId,UserId,ProfileName,HelpfulnessNumerator,HelpfulnessDenominator,Score,Time,Summary,Text\n",
            "1,B001E4KFG0,A3SGXH7AUHU8GW,delmartian,1,1,5,1303862400,Good Quality Dog Food,I have bought several of the Vitality canned dog food products and have found them all to be of good quality. The product looks more like a stew than a processed meat and it smells better. My Labrador is finicky and she appreciates this product better than  most.\n",
            "2,B00813GRG4,A1D87F6ZCVE5NK,dll pa,0,0,1,1346976000,Not as Advertised,\"Product arrived labeled as Jumbo Salted Peanuts...the peanuts were actually small sized unsalted. Not sure if this was an error or if the vendor intended to represent the product as \"\"Jumbo\"\".\"\n",
            "3,B000LQOCH0,ABXLMWJIXXAIN,\"Natalia Corres \"\"Natalia Corres\"\"\",1,1,4,1219017600,\"\"\"Delight\"\" says it all\",\"This is a confection that has been around a few centuries.  It is a light, pillowy citrus gelatin with nuts - in this case Filberts. And it is cut into tiny squares and then liberally coated with powdered sugar.  And it is a tiny mouthful of heaven.  Not too chewy, and very flavorful.  I highly recommend this yummy treat.  If you are familiar with the story of C.S. Lewis' \"\"The Lion, The Witch, and The Wardrobe\"\" - this is the treat that seduces Edmund into selling out his Brother and Sisters to the Witch.\"\n",
            "4,B000UA0QIQ,A395BORC6FGVXV,Karl,3,3,2,1307923200,Cough Medicine,If you are looking for the secret ingredient in Robitussin I believe I have found it.  I got this in addition to the Root Beer Extract I ordered (which was good) and made some cherry soda.  The flavor is very medicinal.\n",
            "5,B006K2ZZ7K,A1UQRSCLF8GW1T,\"Michael D. Bigham \"\"M. Wassir\"\"\",0,0,5,1350777600,Great taffy,\"Great taffy at a great price.  There was a wide assortment of yummy taffy.  Delivery was very quick.  If your a taffy lover, this is a deal.\"\n",
            "6,B006K2ZZ7K,ADT0SRK1MGOEU,Twoapennything,0,0,4,1342051200,Nice Taffy,\"I got a wild hair for taffy and ordered this five pound bag. The taffy was all very enjoyable with many flavors: watermelon, root beer, melon, peppermint, grape, etc. My only complaint is there was a bit too much red/black licorice-flavored pieces (just not my particular favorites). Between me, my kids, and my husband, this lasted only two weeks! I would recommend this brand of taffy -- it was a delightful treat.\"\n",
            "7,B006K2ZZ7K,A1SP2KVKFXXRU1,David C. Sullivan,0,0,5,1340150400,Great!  Just as good as the expensive brands!,\"This saltwater taffy had great flavors and was very soft and chewy.  Each candy was individually wrapped well.  None of the candies were stuck together, which did happen in the expensive version, Fralinger's.  Would highly recommend this candy!  I served it at a beach-themed party and everyone loved it!\"\n",
            "8,B006K2ZZ7K,A3JRGQVEQN31IQ,Pamela G. Williams,0,0,5,1336003200,\"Wonderful, tasty taffy\",This taffy is so good.  It is very soft and chewy.  The flavors are amazing.  I would definitely recommend you buying it.  Very satisfying!!\n",
            "9,B000E7L2R4,A1MZYO9TZK0BBI,R. James,1,1,5,1322006400,Yay Barley,Right now I'm mostly just sprouting this so my cats can eat the grass. They love it. I rotate it around with Wheatgrass and Rye too\n"
          ]
        }
      ]
    },
    {
      "cell_type": "markdown",
      "source": [
        "Keeping roughly $10\\%$ of the users for testing purposes. We will see why doing this is reasonable further in the course. For now, try to understand how ```sample_users``` works and why it does the job."
      ],
      "metadata": {
        "id": "dFUNyY6GWbv5"
      }
    },
    {
      "cell_type": "markdown",
      "source": [
        "#### Load the Reviews file.\n",
        "As a first step, we load the `Reviews.csv` file."
      ],
      "metadata": {
        "collapsed": false,
        "id": "CYHPvG_RkOF-"
      }
    },
    {
      "cell_type": "code",
      "source": [
        "import pandas as pd\n",
        "raw_pd = pd.read_csv(\"data/Reviews.csv\", index_col=0)"
      ],
      "metadata": {
        "id": "0wDK4pVZXbVj",
        "ExecuteTime": {
          "end_time": "2023-11-14T15:18:38.536998500Z",
          "start_time": "2023-11-14T15:18:16.277515900Z"
        }
      },
      "execution_count": 10,
      "outputs": []
    },
    {
      "cell_type": "code",
      "source": [
        "raw_pd"
      ],
      "metadata": {
        "colab": {
          "base_uri": "https://localhost:8080/",
          "height": 455
        },
        "id": "pizS5guCnDk4",
        "outputId": "32fe3ae2-2fbd-4d8c-e4c5-4b24efff3229"
      },
      "execution_count": 11,
      "outputs": [
        {
          "output_type": "execute_result",
          "data": {
            "text/plain": [
              "         ProductId          UserId                      ProfileName  \\\n",
              "Id                                                                    \n",
              "1       B001E4KFG0  A3SGXH7AUHU8GW                       delmartian   \n",
              "2       B00813GRG4  A1D87F6ZCVE5NK                           dll pa   \n",
              "3       B000LQOCH0   ABXLMWJIXXAIN  Natalia Corres \"Natalia Corres\"   \n",
              "4       B000UA0QIQ  A395BORC6FGVXV                             Karl   \n",
              "5       B006K2ZZ7K  A1UQRSCLF8GW1T    Michael D. Bigham \"M. Wassir\"   \n",
              "...            ...             ...                              ...   \n",
              "568450  B001EO7N10  A28KG5XORO54AY                 Lettie D. Carter   \n",
              "568451  B003S1WTCU  A3I8AFVPEE8KI5                        R. Sawyer   \n",
              "568452  B004I613EE  A121AA1GQV751Z                    pksd \"pk_007\"   \n",
              "568453  B004I613EE   A3IBEVCTXKNOH          Kathy A. Welch \"katwel\"   \n",
              "568454  B001LR2CU2  A3LGQPJCZVL9UC                         srfell17   \n",
              "\n",
              "        HelpfulnessNumerator  HelpfulnessDenominator  Score        Time  \\\n",
              "Id                                                                        \n",
              "1                          1                       1      5  1303862400   \n",
              "2                          0                       0      1  1346976000   \n",
              "3                          1                       1      4  1219017600   \n",
              "4                          3                       3      2  1307923200   \n",
              "5                          0                       0      5  1350777600   \n",
              "...                      ...                     ...    ...         ...   \n",
              "568450                     0                       0      5  1299628800   \n",
              "568451                     0                       0      2  1331251200   \n",
              "568452                     2                       2      5  1329782400   \n",
              "568453                     1                       1      5  1331596800   \n",
              "568454                     0                       0      5  1338422400   \n",
              "\n",
              "                                   Summary  \\\n",
              "Id                                           \n",
              "1                    Good Quality Dog Food   \n",
              "2                        Not as Advertised   \n",
              "3                    \"Delight\" says it all   \n",
              "4                           Cough Medicine   \n",
              "5                              Great taffy   \n",
              "...                                    ...   \n",
              "568450                 Will not do without   \n",
              "568451                        disappointed   \n",
              "568452            Perfect for our maltipoo   \n",
              "568453  Favorite Training and reward treat   \n",
              "568454                         Great Honey   \n",
              "\n",
              "                                                     Text  \n",
              "Id                                                         \n",
              "1       I have bought several of the Vitality canned d...  \n",
              "2       Product arrived labeled as Jumbo Salted Peanut...  \n",
              "3       This is a confection that has been around a fe...  \n",
              "4       If you are looking for the secret ingredient i...  \n",
              "5       Great taffy at a great price.  There was a wid...  \n",
              "...                                                   ...  \n",
              "568450  Great for sesame chicken..this is a good if no...  \n",
              "568451  I'm disappointed with the flavor. The chocolat...  \n",
              "568452  These stars are small, so you can give 10-15 o...  \n",
              "568453  These are the BEST treats for training and rew...  \n",
              "568454  I am very satisfied ,product is as advertised,...  \n",
              "\n",
              "[568454 rows x 9 columns]"
            ],
            "text/html": [
              "\n",
              "  <div id=\"df-77f98cf5-ea77-4eee-ae31-4238dceb043f\" class=\"colab-df-container\">\n",
              "    <div>\n",
              "<style scoped>\n",
              "    .dataframe tbody tr th:only-of-type {\n",
              "        vertical-align: middle;\n",
              "    }\n",
              "\n",
              "    .dataframe tbody tr th {\n",
              "        vertical-align: top;\n",
              "    }\n",
              "\n",
              "    .dataframe thead th {\n",
              "        text-align: right;\n",
              "    }\n",
              "</style>\n",
              "<table border=\"1\" class=\"dataframe\">\n",
              "  <thead>\n",
              "    <tr style=\"text-align: right;\">\n",
              "      <th></th>\n",
              "      <th>ProductId</th>\n",
              "      <th>UserId</th>\n",
              "      <th>ProfileName</th>\n",
              "      <th>HelpfulnessNumerator</th>\n",
              "      <th>HelpfulnessDenominator</th>\n",
              "      <th>Score</th>\n",
              "      <th>Time</th>\n",
              "      <th>Summary</th>\n",
              "      <th>Text</th>\n",
              "    </tr>\n",
              "    <tr>\n",
              "      <th>Id</th>\n",
              "      <th></th>\n",
              "      <th></th>\n",
              "      <th></th>\n",
              "      <th></th>\n",
              "      <th></th>\n",
              "      <th></th>\n",
              "      <th></th>\n",
              "      <th></th>\n",
              "      <th></th>\n",
              "    </tr>\n",
              "  </thead>\n",
              "  <tbody>\n",
              "    <tr>\n",
              "      <th>1</th>\n",
              "      <td>B001E4KFG0</td>\n",
              "      <td>A3SGXH7AUHU8GW</td>\n",
              "      <td>delmartian</td>\n",
              "      <td>1</td>\n",
              "      <td>1</td>\n",
              "      <td>5</td>\n",
              "      <td>1303862400</td>\n",
              "      <td>Good Quality Dog Food</td>\n",
              "      <td>I have bought several of the Vitality canned d...</td>\n",
              "    </tr>\n",
              "    <tr>\n",
              "      <th>2</th>\n",
              "      <td>B00813GRG4</td>\n",
              "      <td>A1D87F6ZCVE5NK</td>\n",
              "      <td>dll pa</td>\n",
              "      <td>0</td>\n",
              "      <td>0</td>\n",
              "      <td>1</td>\n",
              "      <td>1346976000</td>\n",
              "      <td>Not as Advertised</td>\n",
              "      <td>Product arrived labeled as Jumbo Salted Peanut...</td>\n",
              "    </tr>\n",
              "    <tr>\n",
              "      <th>3</th>\n",
              "      <td>B000LQOCH0</td>\n",
              "      <td>ABXLMWJIXXAIN</td>\n",
              "      <td>Natalia Corres \"Natalia Corres\"</td>\n",
              "      <td>1</td>\n",
              "      <td>1</td>\n",
              "      <td>4</td>\n",
              "      <td>1219017600</td>\n",
              "      <td>\"Delight\" says it all</td>\n",
              "      <td>This is a confection that has been around a fe...</td>\n",
              "    </tr>\n",
              "    <tr>\n",
              "      <th>4</th>\n",
              "      <td>B000UA0QIQ</td>\n",
              "      <td>A395BORC6FGVXV</td>\n",
              "      <td>Karl</td>\n",
              "      <td>3</td>\n",
              "      <td>3</td>\n",
              "      <td>2</td>\n",
              "      <td>1307923200</td>\n",
              "      <td>Cough Medicine</td>\n",
              "      <td>If you are looking for the secret ingredient i...</td>\n",
              "    </tr>\n",
              "    <tr>\n",
              "      <th>5</th>\n",
              "      <td>B006K2ZZ7K</td>\n",
              "      <td>A1UQRSCLF8GW1T</td>\n",
              "      <td>Michael D. Bigham \"M. Wassir\"</td>\n",
              "      <td>0</td>\n",
              "      <td>0</td>\n",
              "      <td>5</td>\n",
              "      <td>1350777600</td>\n",
              "      <td>Great taffy</td>\n",
              "      <td>Great taffy at a great price.  There was a wid...</td>\n",
              "    </tr>\n",
              "    <tr>\n",
              "      <th>...</th>\n",
              "      <td>...</td>\n",
              "      <td>...</td>\n",
              "      <td>...</td>\n",
              "      <td>...</td>\n",
              "      <td>...</td>\n",
              "      <td>...</td>\n",
              "      <td>...</td>\n",
              "      <td>...</td>\n",
              "      <td>...</td>\n",
              "    </tr>\n",
              "    <tr>\n",
              "      <th>568450</th>\n",
              "      <td>B001EO7N10</td>\n",
              "      <td>A28KG5XORO54AY</td>\n",
              "      <td>Lettie D. Carter</td>\n",
              "      <td>0</td>\n",
              "      <td>0</td>\n",
              "      <td>5</td>\n",
              "      <td>1299628800</td>\n",
              "      <td>Will not do without</td>\n",
              "      <td>Great for sesame chicken..this is a good if no...</td>\n",
              "    </tr>\n",
              "    <tr>\n",
              "      <th>568451</th>\n",
              "      <td>B003S1WTCU</td>\n",
              "      <td>A3I8AFVPEE8KI5</td>\n",
              "      <td>R. Sawyer</td>\n",
              "      <td>0</td>\n",
              "      <td>0</td>\n",
              "      <td>2</td>\n",
              "      <td>1331251200</td>\n",
              "      <td>disappointed</td>\n",
              "      <td>I'm disappointed with the flavor. The chocolat...</td>\n",
              "    </tr>\n",
              "    <tr>\n",
              "      <th>568452</th>\n",
              "      <td>B004I613EE</td>\n",
              "      <td>A121AA1GQV751Z</td>\n",
              "      <td>pksd \"pk_007\"</td>\n",
              "      <td>2</td>\n",
              "      <td>2</td>\n",
              "      <td>5</td>\n",
              "      <td>1329782400</td>\n",
              "      <td>Perfect for our maltipoo</td>\n",
              "      <td>These stars are small, so you can give 10-15 o...</td>\n",
              "    </tr>\n",
              "    <tr>\n",
              "      <th>568453</th>\n",
              "      <td>B004I613EE</td>\n",
              "      <td>A3IBEVCTXKNOH</td>\n",
              "      <td>Kathy A. Welch \"katwel\"</td>\n",
              "      <td>1</td>\n",
              "      <td>1</td>\n",
              "      <td>5</td>\n",
              "      <td>1331596800</td>\n",
              "      <td>Favorite Training and reward treat</td>\n",
              "      <td>These are the BEST treats for training and rew...</td>\n",
              "    </tr>\n",
              "    <tr>\n",
              "      <th>568454</th>\n",
              "      <td>B001LR2CU2</td>\n",
              "      <td>A3LGQPJCZVL9UC</td>\n",
              "      <td>srfell17</td>\n",
              "      <td>0</td>\n",
              "      <td>0</td>\n",
              "      <td>5</td>\n",
              "      <td>1338422400</td>\n",
              "      <td>Great Honey</td>\n",
              "      <td>I am very satisfied ,product is as advertised,...</td>\n",
              "    </tr>\n",
              "  </tbody>\n",
              "</table>\n",
              "<p>568454 rows × 9 columns</p>\n",
              "</div>\n",
              "    <div class=\"colab-df-buttons\">\n",
              "\n",
              "  <div class=\"colab-df-container\">\n",
              "    <button class=\"colab-df-convert\" onclick=\"convertToInteractive('df-77f98cf5-ea77-4eee-ae31-4238dceb043f')\"\n",
              "            title=\"Convert this dataframe to an interactive table.\"\n",
              "            style=\"display:none;\">\n",
              "\n",
              "  <svg xmlns=\"http://www.w3.org/2000/svg\" height=\"24px\" viewBox=\"0 -960 960 960\">\n",
              "    <path d=\"M120-120v-720h720v720H120Zm60-500h600v-160H180v160Zm220 220h160v-160H400v160Zm0 220h160v-160H400v160ZM180-400h160v-160H180v160Zm440 0h160v-160H620v160ZM180-180h160v-160H180v160Zm440 0h160v-160H620v160Z\"/>\n",
              "  </svg>\n",
              "    </button>\n",
              "\n",
              "  <style>\n",
              "    .colab-df-container {\n",
              "      display:flex;\n",
              "      gap: 12px;\n",
              "    }\n",
              "\n",
              "    .colab-df-convert {\n",
              "      background-color: #E8F0FE;\n",
              "      border: none;\n",
              "      border-radius: 50%;\n",
              "      cursor: pointer;\n",
              "      display: none;\n",
              "      fill: #1967D2;\n",
              "      height: 32px;\n",
              "      padding: 0 0 0 0;\n",
              "      width: 32px;\n",
              "    }\n",
              "\n",
              "    .colab-df-convert:hover {\n",
              "      background-color: #E2EBFA;\n",
              "      box-shadow: 0px 1px 2px rgba(60, 64, 67, 0.3), 0px 1px 3px 1px rgba(60, 64, 67, 0.15);\n",
              "      fill: #174EA6;\n",
              "    }\n",
              "\n",
              "    .colab-df-buttons div {\n",
              "      margin-bottom: 4px;\n",
              "    }\n",
              "\n",
              "    [theme=dark] .colab-df-convert {\n",
              "      background-color: #3B4455;\n",
              "      fill: #D2E3FC;\n",
              "    }\n",
              "\n",
              "    [theme=dark] .colab-df-convert:hover {\n",
              "      background-color: #434B5C;\n",
              "      box-shadow: 0px 1px 3px 1px rgba(0, 0, 0, 0.15);\n",
              "      filter: drop-shadow(0px 1px 2px rgba(0, 0, 0, 0.3));\n",
              "      fill: #FFFFFF;\n",
              "    }\n",
              "  </style>\n",
              "\n",
              "    <script>\n",
              "      const buttonEl =\n",
              "        document.querySelector('#df-77f98cf5-ea77-4eee-ae31-4238dceb043f button.colab-df-convert');\n",
              "      buttonEl.style.display =\n",
              "        google.colab.kernel.accessAllowed ? 'block' : 'none';\n",
              "\n",
              "      async function convertToInteractive(key) {\n",
              "        const element = document.querySelector('#df-77f98cf5-ea77-4eee-ae31-4238dceb043f');\n",
              "        const dataTable =\n",
              "          await google.colab.kernel.invokeFunction('convertToInteractive',\n",
              "                                                    [key], {});\n",
              "        if (!dataTable) return;\n",
              "\n",
              "        const docLinkHtml = 'Like what you see? Visit the ' +\n",
              "          '<a target=\"_blank\" href=https://colab.research.google.com/notebooks/data_table.ipynb>data table notebook</a>'\n",
              "          + ' to learn more about interactive tables.';\n",
              "        element.innerHTML = '';\n",
              "        dataTable['output_type'] = 'display_data';\n",
              "        await google.colab.output.renderOutput(dataTable, element);\n",
              "        const docLink = document.createElement('div');\n",
              "        docLink.innerHTML = docLinkHtml;\n",
              "        element.appendChild(docLink);\n",
              "      }\n",
              "    </script>\n",
              "  </div>\n",
              "\n",
              "\n",
              "<div id=\"df-15db6c4e-1ef6-4c99-9ca2-ea9915592e17\">\n",
              "  <button class=\"colab-df-quickchart\" onclick=\"quickchart('df-15db6c4e-1ef6-4c99-9ca2-ea9915592e17')\"\n",
              "            title=\"Suggest charts\"\n",
              "            style=\"display:none;\">\n",
              "\n",
              "<svg xmlns=\"http://www.w3.org/2000/svg\" height=\"24px\"viewBox=\"0 0 24 24\"\n",
              "     width=\"24px\">\n",
              "    <g>\n",
              "        <path d=\"M19 3H5c-1.1 0-2 .9-2 2v14c0 1.1.9 2 2 2h14c1.1 0 2-.9 2-2V5c0-1.1-.9-2-2-2zM9 17H7v-7h2v7zm4 0h-2V7h2v10zm4 0h-2v-4h2v4z\"/>\n",
              "    </g>\n",
              "</svg>\n",
              "  </button>\n",
              "\n",
              "<style>\n",
              "  .colab-df-quickchart {\n",
              "      --bg-color: #E8F0FE;\n",
              "      --fill-color: #1967D2;\n",
              "      --hover-bg-color: #E2EBFA;\n",
              "      --hover-fill-color: #174EA6;\n",
              "      --disabled-fill-color: #AAA;\n",
              "      --disabled-bg-color: #DDD;\n",
              "  }\n",
              "\n",
              "  [theme=dark] .colab-df-quickchart {\n",
              "      --bg-color: #3B4455;\n",
              "      --fill-color: #D2E3FC;\n",
              "      --hover-bg-color: #434B5C;\n",
              "      --hover-fill-color: #FFFFFF;\n",
              "      --disabled-bg-color: #3B4455;\n",
              "      --disabled-fill-color: #666;\n",
              "  }\n",
              "\n",
              "  .colab-df-quickchart {\n",
              "    background-color: var(--bg-color);\n",
              "    border: none;\n",
              "    border-radius: 50%;\n",
              "    cursor: pointer;\n",
              "    display: none;\n",
              "    fill: var(--fill-color);\n",
              "    height: 32px;\n",
              "    padding: 0;\n",
              "    width: 32px;\n",
              "  }\n",
              "\n",
              "  .colab-df-quickchart:hover {\n",
              "    background-color: var(--hover-bg-color);\n",
              "    box-shadow: 0 1px 2px rgba(60, 64, 67, 0.3), 0 1px 3px 1px rgba(60, 64, 67, 0.15);\n",
              "    fill: var(--button-hover-fill-color);\n",
              "  }\n",
              "\n",
              "  .colab-df-quickchart-complete:disabled,\n",
              "  .colab-df-quickchart-complete:disabled:hover {\n",
              "    background-color: var(--disabled-bg-color);\n",
              "    fill: var(--disabled-fill-color);\n",
              "    box-shadow: none;\n",
              "  }\n",
              "\n",
              "  .colab-df-spinner {\n",
              "    border: 2px solid var(--fill-color);\n",
              "    border-color: transparent;\n",
              "    border-bottom-color: var(--fill-color);\n",
              "    animation:\n",
              "      spin 1s steps(1) infinite;\n",
              "  }\n",
              "\n",
              "  @keyframes spin {\n",
              "    0% {\n",
              "      border-color: transparent;\n",
              "      border-bottom-color: var(--fill-color);\n",
              "      border-left-color: var(--fill-color);\n",
              "    }\n",
              "    20% {\n",
              "      border-color: transparent;\n",
              "      border-left-color: var(--fill-color);\n",
              "      border-top-color: var(--fill-color);\n",
              "    }\n",
              "    30% {\n",
              "      border-color: transparent;\n",
              "      border-left-color: var(--fill-color);\n",
              "      border-top-color: var(--fill-color);\n",
              "      border-right-color: var(--fill-color);\n",
              "    }\n",
              "    40% {\n",
              "      border-color: transparent;\n",
              "      border-right-color: var(--fill-color);\n",
              "      border-top-color: var(--fill-color);\n",
              "    }\n",
              "    60% {\n",
              "      border-color: transparent;\n",
              "      border-right-color: var(--fill-color);\n",
              "    }\n",
              "    80% {\n",
              "      border-color: transparent;\n",
              "      border-right-color: var(--fill-color);\n",
              "      border-bottom-color: var(--fill-color);\n",
              "    }\n",
              "    90% {\n",
              "      border-color: transparent;\n",
              "      border-bottom-color: var(--fill-color);\n",
              "    }\n",
              "  }\n",
              "</style>\n",
              "\n",
              "  <script>\n",
              "    async function quickchart(key) {\n",
              "      const quickchartButtonEl =\n",
              "        document.querySelector('#' + key + ' button');\n",
              "      quickchartButtonEl.disabled = true;  // To prevent multiple clicks.\n",
              "      quickchartButtonEl.classList.add('colab-df-spinner');\n",
              "      try {\n",
              "        const charts = await google.colab.kernel.invokeFunction(\n",
              "            'suggestCharts', [key], {});\n",
              "      } catch (error) {\n",
              "        console.error('Error during call to suggestCharts:', error);\n",
              "      }\n",
              "      quickchartButtonEl.classList.remove('colab-df-spinner');\n",
              "      quickchartButtonEl.classList.add('colab-df-quickchart-complete');\n",
              "    }\n",
              "    (() => {\n",
              "      let quickchartButtonEl =\n",
              "        document.querySelector('#df-15db6c4e-1ef6-4c99-9ca2-ea9915592e17 button');\n",
              "      quickchartButtonEl.style.display =\n",
              "        google.colab.kernel.accessAllowed ? 'block' : 'none';\n",
              "    })();\n",
              "  </script>\n",
              "</div>\n",
              "    </div>\n",
              "  </div>\n"
            ]
          },
          "metadata": {},
          "execution_count": 11
        }
      ]
    },
    {
      "cell_type": "markdown",
      "source": [
        "We write the **product ID** and **user ID** of the sampled rows to the provided `fout` file, with columns separated by comma `,`. We only save these two columns because for the co-review graph, we need to know which users reviewed which products."
      ],
      "metadata": {
        "collapsed": false,
        "id": "mGe1WbixkOF_"
      }
    },
    {
      "cell_type": "code",
      "source": [
        "# Given a Pandas frame raw_pd, save lines corresponding to approximately 10% of the users to file fout\n",
        "# Note that all lines corresponding to sampled users are saved to fout\n",
        "\n",
        "def sample_users(raw_pd, rate, buckets, fout):\n",
        "    for index, row in raw_pd.iterrows():\n",
        "        if (hash(row[\"UserId\"])%buckets < rate):\n",
        "            row_str = \",\".join(map(str, [row[\"ProductId\"], row[\"UserId\"]]))\n",
        "            fout.write(row_str)\n",
        "            fout.write(\"\\n\")\n",
        "            # Save this line to fout\n",
        "            # You have to complete this part of the function's body\n",
        "\n",
        "\n",
        "sampled_file = \"data/Reviews_sampled.csv\"\n",
        "rate = 10 # 10% of users\n",
        "buckets = 100\n",
        "\n",
        "fout = open(sampled_file, \"w\")\n",
        "sample_users(raw_pd, rate, buckets, fout)\n",
        "fout.close()"
      ],
      "metadata": {
        "id": "f1L04Je1Pj9p",
        "ExecuteTime": {
          "end_time": "2023-11-14T15:20:20.910486200Z",
          "start_time": "2023-11-14T15:18:38.538997700Z"
        }
      },
      "execution_count": 12,
      "outputs": []
    },
    {
      "cell_type": "markdown",
      "source": [
        "As a next step, we will install `pyspark` to make use of the massive parallel computing by Spark."
      ],
      "metadata": {
        "id": "izPftdwha5_J"
      }
    },
    {
      "cell_type": "code",
      "source": [
        "!pip install pyspark --quiet"
      ],
      "metadata": {
        "id": "dAHkrlwomp_N",
        "outputId": "e1079dbf-2bd6-40c1-e97e-76206f48eccc",
        "colab": {
          "base_uri": "https://localhost:8080/"
        }
      },
      "execution_count": 13,
      "outputs": [
        {
          "output_type": "stream",
          "name": "stdout",
          "text": [
            "\u001b[2K     \u001b[90m━━━━━━━━━━━━━━━━━━━━━━━━━━━━━━━━━━━━━━━━\u001b[0m \u001b[32m316.9/316.9 MB\u001b[0m \u001b[31m4.1 MB/s\u001b[0m eta \u001b[36m0:00:00\u001b[0m\n",
            "\u001b[?25h  Preparing metadata (setup.py) ... \u001b[?25l\u001b[?25hdone\n",
            "  Building wheel for pyspark (setup.py) ... \u001b[?25l\u001b[?25hdone\n"
          ]
        }
      ]
    },
    {
      "cell_type": "markdown",
      "source": [
        "# Co-Review Graph\n",
        "In the following section, we will build the co-review graph. The co-review graph is a structure where **vertices** are Amazon users and **edges** between users mean that they have reviewed the same product. The **weight** of the connection signifies the number of the same products that both have reviewed.\n",
        "\n",
        "The adjacency list of the co-review graph would look something like so:\n",
        "\n",
        "```\n",
        "user1 [(user2, 2), (user3, 1)...]\n",
        "... ...\n",
        "user2 [(user2, 2), (user1, 1)...]\n",
        "```"
      ],
      "metadata": {
        "id": "Ii7f-4mqbHoR"
      }
    },
    {
      "cell_type": "markdown",
      "source": [
        "### 1. Setup Spark\n",
        "As a first step, we need to create a spark context and pass it the file with the **review graph**. The **review graph** is a graph where vertices are **users** and **products** with edges between the two if a user has reviewed a product. Below is an example of the **edges** in the graph.\n",
        "\n",
        "```\n",
        "user1 product10\n",
        "user2 product2\n",
        "...\n",
        "user70 product 2\n",
        "```"
      ],
      "metadata": {
        "id": "7Kjh0xxSccCj"
      }
    },
    {
      "cell_type": "code",
      "source": [
        "full_reviews_path = \"data/full_reviews.csv\"\n",
        "full_reviews = raw_pd[[\"ProductId\", \"UserId\"]].to_csv(full_reviews_path, index=None)"
      ],
      "metadata": {
        "id": "mrybaAU4RKry"
      },
      "execution_count": 14,
      "outputs": []
    },
    {
      "cell_type": "code",
      "source": [
        "import pyspark\n",
        "from pyspark import SparkContext, SparkConf\n",
        "import operator\n",
        "\n",
        "sc = SparkContext(appName=\"co-review-graph\").getOrCreate()\n",
        "file_in = \"data/full_reviews.csv\"\n",
        "full_reviews = sc.textFile(file_in)"
      ],
      "metadata": {
        "id": "86KeRTWjmcMV"
      },
      "execution_count": 15,
      "outputs": []
    },
    {
      "cell_type": "code",
      "source": [
        "!ls data/"
      ],
      "metadata": {
        "colab": {
          "base_uri": "https://localhost:8080/"
        },
        "id": "w-lxBceRQ-Cv",
        "outputId": "737ddb13-9898-4acd-8312-2dda528c6e69"
      },
      "execution_count": 16,
      "outputs": [
        {
          "output_type": "stream",
          "name": "stdout",
          "text": [
            "database.sqlite  full_reviews.csv  hashes.txt  Reviews.csv  Reviews_sampled.csv\n"
          ]
        }
      ]
    },
    {
      "cell_type": "markdown",
      "source": [
        "### 2. Find Product Reviewers\n",
        "Having created the spark context, we can perform the initial step of the graph building procedure. For each product, we want to find **all** users that have reviewed a product. This will later enable us to find the common reviewed products among users. Essentially, we just want to find the **neighbours** of each **product** node $p$. Let $E$ be the edge set of the graph, then the neighbours are connected nodes.\n",
        "\n",
        "$$\n",
        "N(p) = \\{u ∣ (p,u) \\in E\\}\n",
        "$$\n",
        "\n",
        "I call the users that review a product, **product reviewers**. The `find_product_reviewers` function below maps each **product** to a list of **users** that have reviewed that product."
      ],
      "metadata": {
        "id": "rne1Rj0SdAaA"
      }
    },
    {
      "cell_type": "code",
      "source": [
        "def find_product_reviewers(data: pyspark.RDD):\n",
        "    \"\"\"For a product-user graph, for each product finds the users that have reviewed that product.\n",
        "\n",
        "    :arg\n",
        "        data (pyspark.RDD): the user-product graph, which consists of <productID>, <userID> tuples on each line.\n",
        "\n",
        "    :return\n",
        "        (pyspark.RDD): each product ID, mapped to a list of user IDs that have reviewed it. <productID>, [<user1>, <user2>,...]\n",
        "    \"\"\"\n",
        "    return data.map(lambda line: line.split(\",\")) \\\n",
        "                .map(lambda user_product: (user_product[0], [user_product[1]])) \\\n",
        "                .reduceByKey(operator.add)"
      ],
      "metadata": {
        "id": "P5h7DYMgeCox"
      },
      "execution_count": 17,
      "outputs": []
    },
    {
      "cell_type": "code",
      "source": [
        "product_reviewers = find_product_reviewers(full_reviews)"
      ],
      "metadata": {
        "id": "AzzO-CiKgEcw"
      },
      "execution_count": 18,
      "outputs": []
    },
    {
      "cell_type": "markdown",
      "source": [
        "###3. Per-product user pairs\n",
        "Now that we have a list of users that reviewed each product, we want to find all the possible **user pairs** per product. Basically, we are taking the **cartesian product** of all reviewers for each product, and then **flattening** the output to get an RDD with `<user> <user>` pairs.\n",
        "\n",
        "Let $U_p$ be the set of users that reviewed the product $p$, which is just the neighbours $N(p)$ of the product $p$. Then, we create each possible user combination.\n",
        "\n",
        "\\begin{align}\n",
        "    U_p &= N(p) \\\\\n",
        "    U_p &\\times U_p\n",
        "\\end{align}\n",
        "\n",
        "The function `per_product_user_pairs` below computes this **cartesian product** between each product reviewers list and returns a flattened RDD, such that we have a user tuples like so:\n",
        "\n",
        "```\n",
        "user1 user2 #user 1 and user 2 have reviewed the same product\n",
        "...\n",
        "user550 user2 #user 550 and user 2 have also reviewed the same product\n",
        "```\n",
        "\n",
        "Note that we lose the product information at this point, but since it is not relevant to the task it does not matter. With this type of structure, we can easily count the number of times that users have reviewed the same product, since each line corresponds to a product that both users reviewed."
      ],
      "metadata": {
        "id": "z11YXYFUgJcO"
      }
    },
    {
      "cell_type": "code",
      "source": [
        "def per_product_user_pairs(product_reviewers: pyspark.RDD):\n",
        "    \"\"\"Finds the per-product user pairs for an product reviewers RDD and flattens them.\n",
        "\n",
        "    :arg\n",
        "        product_reviewers (pyspark.RDD): a pyspark RDD where product IDs are mapped to lists of users that have reviewed that product.\n",
        "\n",
        "    :return\n",
        "        (pyspark.RDD): a pyspark RDD where each element is (<user>, <user>) tuple.\n",
        "    \"\"\"\n",
        "    return product_reviewers.map(lambda product_users: product_users[1]) \\\n",
        "                            .flatMap(lambda users: [(user1, user2) for user1 in users for user2 in users])"
      ],
      "metadata": {
        "id": "lwNmqqy4iwly"
      },
      "execution_count": 19,
      "outputs": []
    },
    {
      "cell_type": "code",
      "source": [
        "per_product_pairs = per_product_user_pairs(product_reviewers)"
      ],
      "metadata": {
        "id": "LTmn6UUMjp_J"
      },
      "execution_count": 20,
      "outputs": []
    },
    {
      "cell_type": "markdown",
      "source": [
        "###4. Count users\n",
        "We now have an RDD where each element is a user tuple `(<user>, <user>)` where both users share a **common reviewed product**. The final step to finding the **number** of common reviewed products, is to for each user, count the number of users it is connected to.\n",
        "\n",
        "Since the RDD at this stage is essentially a **multigraph**, we just need to count the number of connections between user vertices to build the co-review graph. We can do this by:\n",
        "\n",
        "1. mapping each user tuple to a $1$, `(<user>, <user>) -> ((<user>, <user>), 1)`, so that we can count the occurences later.\n",
        "1. group on each user tuple `(<user>, <user>)` and sum up the values. Through this, we count the number of **edges** between the two users.\n",
        "1. map each `((<user>, <user>), <count>)` to `(<user>, [(<user>, <count>)])`.\n",
        "1. group by `<user>`and add the co-review lists for each user to each other. After this step we have mapped each **user** to a list of other users that they share reviews with as well as the **number of reviews** they share with each user.\n",
        "1. sort the co-review lists by the `<count>` in descending order.\n",
        "\n",
        "The function `count_users` below performs all of these steps and returns an RDD of the structure:\n",
        "\n",
        "```\n",
        "(<user>, [(<user>, <count>)])\n",
        "...\n",
        "(<user>, [(<user>, <count>)])\n",
        "```"
      ],
      "metadata": {
        "id": "6SsAY-cClHBw"
      }
    },
    {
      "cell_type": "code",
      "source": [
        "def count_users(user_pairs: pyspark.RDD, sort: bool, descending: bool):\n",
        "    \"\"\"Counts the number commonly reviewed products between users and maps each user to a list of (<user>, <common product review count>) tuples.\n",
        "\n",
        "    :arg\n",
        "        user_pairs (pyspark.RDD): pyspark RDD where each element is a user tuple (<user>, <user>).\n",
        "        sort (bool): True if the list should be sorted by the <common product review count>, False if not.\n",
        "        descending (bool): True if the list should be sorted in descending order, False if ascending.\n",
        "\n",
        "    :return\n",
        "        (pyspark.RDD): a pyspark RDD where each user is mapped to a list [(<user>, <common product review count>)...], sorted by the common product review count.\n",
        "    \"\"\"\n",
        "    # map each user pair to a key-value pair, where key is (user1, user2) and value is 1\n",
        "    user_pair_counts = user_pairs.map(lambda user_pair: ((user_pair[0], user_pair[1]), 1))\n",
        "\n",
        "    # count the occurrences of each unique key, map users to lists, and add the lists\n",
        "    user_pair_counts = user_pair_counts.reduceByKey(operator.add) \\\n",
        "                                .map(lambda users_counts: (users_counts[0][0], [(users_counts[0][1], users_counts[1])])) \\\n",
        "                                .reduceByKey(operator.add)\n",
        "\n",
        "    if sort:\n",
        "        user_pair_counts = user_pair_counts.mapValues(lambda user_counts: sorted(user_counts, key=lambda x: x[1], reverse=descending))\n",
        "\n",
        "    return user_pair_counts"
      ],
      "metadata": {
        "id": "-Z3tENxDmc0I"
      },
      "execution_count": 21,
      "outputs": []
    },
    {
      "cell_type": "code",
      "source": [
        "co_review_graph = count_users(per_product_pairs, sort=True, descending=True)"
      ],
      "metadata": {
        "id": "ahQ0RjITrw7o"
      },
      "execution_count": 22,
      "outputs": []
    },
    {
      "cell_type": "markdown",
      "source": [
        "### 5. Save To File\n",
        "As a final step, we save the finished co-review graph to a file. Collecting the data is not feasable due to the size, so we will first move it to a single partition using the `coalesce` function before saving it into a file."
      ],
      "metadata": {
        "id": "bD8n6KppCclR"
      }
    },
    {
      "cell_type": "code",
      "source": [
        "co_review_graph.coalesce(1, shuffle=True).saveAsTextFile(\"data/single/\")"
      ],
      "metadata": {
        "id": "CiV2GKnOUr3h"
      },
      "execution_count": 30,
      "outputs": []
    },
    {
      "cell_type": "markdown",
      "source": [
        "We can check that the file was indeed saved."
      ],
      "metadata": {
        "id": "h-CYbX0voD_m"
      }
    },
    {
      "cell_type": "code",
      "source": [
        "!ls data/single/"
      ],
      "metadata": {
        "colab": {
          "base_uri": "https://localhost:8080/"
        },
        "id": "3U-fmVizeAGu",
        "outputId": "2bcaaddb-bd0f-44aa-eddd-8d8a99e375dd"
      },
      "execution_count": 31,
      "outputs": [
        {
          "output_type": "stream",
          "name": "stdout",
          "text": [
            "part-00000  _SUCCESS\n"
          ]
        }
      ]
    },
    {
      "cell_type": "markdown",
      "source": [
        "Having written the Co Review Graph RDD to the file, we can check the first 10 lines of the file."
      ],
      "metadata": {
        "id": "pQ15ovcLoBj4"
      }
    },
    {
      "cell_type": "code",
      "source": [
        "!head -10 data/single/part-00000"
      ],
      "metadata": {
        "colab": {
          "base_uri": "https://localhost:8080/"
        },
        "id": "KcxsckU0goXh",
        "outputId": "160f085c-da8a-4ce6-ce79-11a16537aec8"
      },
      "execution_count": 32,
      "outputs": [
        {
          "output_type": "stream",
          "name": "stdout",
          "text": [
            "('A34BFOXOM87TCY', [('A34BFOXOM87TCY', 12), ('APVK8GGSSUDCE', 4), ('A16WPA6JV83YXT', 4), ('A1ZH9LWMX5UCFJ', 3), ('A2OZ6PW2W5FQTP', 3), ('ACEA95FQS1AVP', 3), ('A141W8WHW9AC3H', 3), ('A5BJMAHZWGJ7N', 3), ('A1TR9417Z4U72F', 3), ('A1VBDMNT6I8RE5', 3), ('A3C2CPTCMB7S4N', 3), ('A1LJR5IS0B6ADX', 3), ('A2TXMYYGSZCSZ1', 3), ('A35JP8KSV9281K', 3), ('A1Q08H4B9QGT2N', 3), ('A27L5L6I7OSV5B', 3), ('ASJ0MKRFZC47B', 3), ('A3QVAKVRAH657N', 2), ('A350HRB16YUX9P', 2), ('A18GJ9MYYO6GCQ', 2), ('ANHL7BB84WJMF', 2), ('A2FJ5NWS5LQ9LN', 2), ('AL6CEWLV2JB90', 2), ('A3F68N9OI8Y67', 2), ('A1VF5LN6SHFVFJ', 2), ('A2KJZXIXBHVG0K', 2), ('A2FRAS05LEI6JJ', 2), ('APXQHFTTYERDE', 2), ('A3CG6YLYZJXQG4', 2), ('A2I05FGBTCRRB8', 2), ('A688RIZ2POWSQ', 2), ('A7T1NIWZHTC4P', 2), ('A3VBXQKRM7A4JR', 2), ('A1URMXEEWEQR6V', 2), ('A2ANDN3UQBKMCN', 2), ('A3W4D8XOGLWUN5', 2), ('A3EP6YVAYS9YM3', 2), ('A39D7ONPOORMUT', 2), ('A35HOUWHAYZZN6', 2), ('A2CF66KIQ3RKX3', 2), ('A3A15L96IYUO6V', 2), ('A2OW356OMJNAVH', 2), ('A4KJTS5P78ICU', 2), ('A3TIL1PC2ZE97B', 2), ('A1D1IDI5S9TN9D', 2), ('A7YMD8MSOBO1I', 2), ('AKMEY1BSHSDG7', 2), ('A261P36T13YP98', 2), ('A1IHK8GL1ESOND', 2), ('AFG4HIHMX312C', 2), ('AJXDBMJBVUGSR', 2), ('A2MMDKNIM4ONRT', 2), ('A1H8JUI9GNQKNR', 2), ('A2HUWCHQ6JV9IN', 2), ('A3FKGKUCI3DG9U', 2), ('AXNJFYJRDK7CJ', 2), ('AWKZAUC0D8DYL', 2), ('A1S8FJT0AQSF60', 2), ('AQCS89BWQDFSQ', 2), ('A277TO3PKKNYDH', 2), ('A2FLJCJ3SW0TUY', 2), ('A1F2EYORWOZ3G1', 2), ('A4JHEO7H330AF', 2), ('A2XNOB1T796Y6B', 2), ('A1I477ADGMLVJM', 2), ('A36MS27KAA5S26', 2), ('A1CC1IKCUIQMUV', 2), ('A26TYDQ2BFD4EG', 2), ('A3AO62FZVOUVZ8', 2), ('AR33KU52LIBF1', 2), ('A3KZ7OH4VRL048', 2), ('A3NOBH42C7UI5M', 2), ('A2QH6LESI5RTO5', 2), ('A1NS6O584WD5FJ', 2), ('A35X2JJI49OBZP', 2), ('A2RIAXGSBP65BJ', 2), ('A1S5XHBZIYOGRE', 2), ('AQP1VPK16SVWM', 2), ('A58N07M0ZCYMB', 2), ('AQLL2R1PPR46X', 2), ('A1WKEAS58297E5', 2), ('ADS99W8WMEXZ2', 2), ('A1EARN5PUVIF1S', 2), ('AUV3OR951650C', 2), ('A1AG7F4Z1EOO5L', 2), ('ALCLEF26KV34M', 2), ('AI0PLL5DQAHRG', 2), ('A306153FTKS9PL', 2), ('A3CNJR9MD5BFKL', 2), ('A1YX6S4I5GG5VK', 2), ('A1H4QWLST1N3D0', 2), ('A398R165PXFOSS', 2), ('A1LLO7KR1WSFPT', 2), ('A2I98OOPNIJNYY', 2), ('AAWUXA65NDMYM', 2), ('A19XBW5WUDH1Z', 2), ('A37USOKUTI724H', 2), ('A31YSTICHFYN7O', 2), ('AOPGL2GSZ3FOE', 2), ('A31AVXMESQRQAC', 2), ('A3VZH0PWLQ9BB1', 2), ('A2RKI7RPP5CJMG', 2), ('AQ1F3NP2G15S5', 2), ('A2AWVROFGSZU4E', 2), ('A2KPGA0HFSSF8W', 2), ('A3FWSG0GV6FRB6', 2), ('A3MUSWDCTZINQZ', 2), ('A2BCDZO1XQLDH', 2), ('AIREHOF22MIBM', 2), ('A1DC1O4VX6AHPP', 2), ('A2XSY4L7GDHV4W', 2), ('AKCZIJ6ZHE41D', 2), ('AYNAH993VDECT', 2), ('A2KSI9HP27450I', 2), ('A2CV33795L4KHH', 2), ('A1H1BPKUMGVIA8', 2), ('ATLO3YXU2BC16', 2), ('A1Z0LTKUA6F94D', 2), ('A108XP24UESKSV', 2), ('A7YRO6JIVVG7D', 2), ('A31VDZOEJACIHH', 2), ('A37IHRVO8JWYF2', 2), ('A32T2H8150OJLU', 2), ('A3A8FMW6BDJ166', 2), ('A35W3JQYP0M655', 2), ('ADIB98RN5S6HW', 1), ('A26KHZE0HTS057', 1), ('A1ORTSMKAQ385F', 1), ('A3FIY789DECXY7', 1), ('A25C5MVVCIYT5D', 1), ('A2WE11EDLAQC29', 1), ('AI60AUM7SJR99', 1), ('A4D5B7Q8A7PA6', 1), ('A1GASYTBITRWV1', 1), ('APBB297H3ZA5E', 1), ('A1SZ6MYCG4JQXS', 1), ('A2S0UVZ1O4GJ8O', 1), ('A23KA66VAK9PUA', 1), ('A3CMW1N1WOYZT6', 1), ('A2DG1NQM08X1EI', 1), ('A1526FKN6KYUXE', 1), ('AIWDGRTLV7IQF', 1), ('A21YSCYZSQ6W2E', 1), ('AQZ4PHIEEV5N5', 1), ('ALX50DFCW06A2', 1), ('AFMBR3EQ6PMWN', 1), ('A2D7X9N3IV3S7B', 1), ('AKUYA397YH084', 1), ('ACDJL2NYQL0GT', 1), ('A3JFHIXVIE9KV', 1), ('AAZ5OJ2OOJ2DK', 1), ('A28J8ZFUBAC40Q', 1), ('AERBY54RWPSO9', 1), ('A3EX36SNRYD5VL', 1), ('A3CD65HGT2C56C', 1), ('AAUUKWXDKP3UX', 1), ('A37PZJH2F13IOR', 1), ('A19SDJ2TSSL8HI', 1), ('A3T7XVG3AXJF61', 1), ('AQQBRDQ2QJOO8', 1), ('A2G7BG9AECUM06', 1), ('A1QQQST9Z1V33K', 1), ('A3U029B8Z5WGI2', 1), ('A3KPJ1MOGTZVGC', 1), ('A30YCQ4MOZAI6Y', 1), ('A3OIMUR42XIOFQ', 1), ('A24ZMNWTW8AQUR', 1), ('A33TRNCQK4IUO7', 1), ('A17PR4SGNBR088', 1), ('A1LQM97BA1KNVA', 1), ('AFJFXN42RZ3G2', 1), ('A3PMEJAYKF3VUC', 1), ('A2AOZQ3WTNVVOK', 1), ('AO13TNMQBPLZE', 1), ('AQX92OAT9VG5Z', 1), ('A2XJBH4MHLQ6XG', 1), ('A3FFKU2MTCOBM1', 1), ('A2SSV6KM3W1VFD', 1), ('A2QANOGP5LLPBQ', 1), ('A1F1A0QQP2XVH5', 1), ('A2M6B16568F7KH', 1), ('AVSYVH92H3Y64', 1), ('A31Z9R7Q1FGLKO', 1), ('A2339F1LWNPJRE', 1), ('A1KBXGIJ9C7YJ2', 1), ('A20VDLOBIGFDFR', 1), ('A3Q2I7C3NBL3YO', 1), ('A376OJHLE6SU9Q', 1), ('A25MMWPERQFKEM', 1), ('A2DQ7SG9GCODCL', 1), ('AKPYS9VSM3LNX', 1), ('A3JTBJC5WSEZ7Q', 1), ('A3UOSVNC11HX76', 1), ('A1XJ3M3JTMD3HZ', 1), ('A1BJOHHLG0D965', 1), ('A1UB5FRFV967DZ', 1), ('A3T3DRN6KXHCD', 1), ('A2AZIQJGBLU7WN', 1), ('A3HTLBVMJ8HBOG', 1), ('AUEW0SKOB1XYF', 1), ('AO09RWV40IX78', 1), ('A1L43KWWR05PCS', 1), ('AT96TYI24GKXH', 1), ('A9I40WFF40R4', 1), ('A3H8PA7AG48K33', 1), ('A15S7N6VV71LZY', 1), ('AMCDQ8M39VIGV', 1), ('ATKHA8IVUWMI0', 1), ('A81P47EIXM8HA', 1), ('A28FJ93TJSSQS4', 1), ('A1P77JG6PMRRPK', 1), ('A2R80172BBNSTA', 1), ('ALGI34BYWIXZG', 1), ('A3QV1BLHIPO5F3', 1), ('A2RQOO8VYAEZZG', 1), ('A1X2CPR5ZDLDGI', 1), ('A2E2I580OO3HET', 1), ('A3C26HADK8V9RF', 1), ('AFN32PGTZ31MV', 1), ('A2FRFAQCWZJT3Q', 1), ('A21SESEJ8E52B7', 1), ('A100WO06OQR8BQ', 1), ('A11GAMN6HED4U1', 1), ('A398GJE5FBPHM3', 1), ('A1MRRMHGV3PN5W', 1), ('A299RHMH1M9PIW', 1), ('A19GSC3QMK694Q', 1), ('AMYTL79JMGQ6D', 1), ('A3K8TYU7UOUTR0', 1), ('A7EK88GF8N40F', 1), ('A3GRN6J64F2C3X', 1), ('A3PD8JD9L4WEII', 1), ('ALJGEI5Q70481', 1), ('AUAX1QWUCYKSX', 1), ('A37WVR9M1STQDU', 1), ('A3GWM1FHA3EQPM', 1), ('A1SCANWWQTEG9I', 1), ('A2GKWC2UIDRZ42', 1), ('AM2BMW0UQGVY0', 1), ('A2OS3TIVAKUAHG', 1), ('ANEDXRFDZDL18', 1), ('A3U5CZ3PV82JXD', 1), ('A2CRIQOX1SYA3I', 1), ('A2W0XCWOK3MW6F', 1), ('A2CN8ZEA9GZX97', 1), ('A2X5TK0XTAWMIM', 1), ('A13KV1V6OIGCKN', 1), ('A3G4W5HHAV50HB', 1), ('A1QVQ7UJY4VASG', 1), ('AQM0K7MBBT4AY', 1), ('A2YW1MG1GKU8XD', 1), ('A1SWVPS2J2208O', 1), ('A6SM104267C1C', 1), ('A20DNGGAHQMSWI', 1), ('A1VK6EKINVYAT7', 1), ('AN4HRAGRHHX1H', 1), ('A359XIBXA34BX6', 1), ('A1GWPAZBGMUAFJ', 1), ('ADDDFVHP3CSVA', 1), ('A1ZCSSCAGBCD49', 1), ('A2G7B7FKP2O2PU', 1), ('A14OP8M09S4ZBN', 1), ('A10ER4C5IVTSMA', 1), ('AG1CBZSDBQ679', 1), ('A1TFMR7RE985MF', 1), ('A3VGAP2KLCBNBB', 1), ('A2VHQDJBZH0Y7P', 1), ('A1F9Z42CFF9IAY', 1), ('A3PNBZ60XRKZFP', 1), ('AWIMFU8OLJPFA', 1), ('ACJ9N7ED37HXS', 1), ('A1DFL66IDY0Z2Z', 1), ('AK7CAW3N1XZV6', 1), ('A4GB8I8ACS4PM', 1), ('AUH792DXLWGXW', 1), ('A383XURHVF8ON6', 1), ('AY1I85LLDMETC', 1), ('A14J4V61SWEOGU', 1), ('A1MAI0TUIM3R2X', 1), ('A2UDG6TIX9DWC7', 1), ('A25RMP51FP664I', 1), ('A1O32W6RAT561I', 1), ('A1Z898CCRLYFAD', 1), ('ANE3E244XB1MI', 1), ('A147LZIA0ZNX4Q', 1), ('A26MBVPPXZN1YM', 1), ('A24J6PQ0FN55A6', 1), ('A3GVD3O9QG6I0V', 1), ('A1GHZY5ZMRVN8Q', 1), ('A2UT0FWM1DHKFJ', 1), ('A1EPHD4E18OFWO', 1), ('A3KKGOI3UDB8F7', 1), ('AB2WMCI1BM8NU', 1), ('A1RIQUDE4B8NGX', 1), ('A3GUK4RWXKHS9I', 1), ('A3O8Z6IZ0VU3BB', 1), ('A1LKOIZXPQ9VG0', 1), ('AL1XV4L25FZ2S', 1), ('A199FRO0YFMGED', 1), ('A198CCH4NNLI2E', 1), ('AI19TV79W9HKQ', 1), ('A2AC0Q7VBWEZTI', 1), ('A1X1CEGHTHMBL1', 1), ('A2WB4OWBUH2VQX', 1), ('A3UF4K552BJ1VC', 1), ('AFO678EAGH4Y9', 1), ('A2XXTGHE0YVZSZ', 1), ('A184ZFZZBWEXMS', 1), ('A3QYDL5CDNYN66', 1), ('A2O6I424ULQ7QB', 1), ('A1NRT9DRUF2PI9', 1), ('A1W5CZPZBS3V01', 1), ('A2WA8TDCTGUADI', 1), ('A29TDHNT47LR05', 1), ('A34UVV757IKPVB', 1), ('A11XAIFA10G7TS', 1), ('A1GYEGLX3P2Y7P', 1), ('AN0U0GNJJPEUR', 1), ('AXR3CV6A4FMBG', 1), ('AJQFYCKMA7TE3', 1), ('A20N2G3UIZ7DFF', 1), ('AC7AY7GU4GKID', 1), ('A37JNUJSVAJKYN', 1), ('AZDOT832SUWST', 1), ('A2M9D9BDHONV3Y', 1), ('A2H9UO8RYFX5MB', 1), ('A110RS7QL8Q1UX', 1), ('A1U7YAYZCG6ELL', 1), ('A11KB3FD4VIRTO', 1), ('A3TAF7M58DN46F', 1), ('A2W4014S06NAIT', 1), ('A26JGAM6GZMM4V', 1), ('A22XGVAAD5WCNS', 1), ('A27HB4L3I1WJUR', 1), ('A321W4SSC0F6AP', 1), ('A1P2XYD265YE21', 1), ('APPJNVNF4BFLB', 1), ('ACVDL5QRCOPE1', 1), ('AT9U5ZE5OO84C', 1), ('A8GR4PH5NW96V', 1), ('A2YPGQH2UGGTM2', 1), ('A3RTC17QVQGML7', 1), ('A31DVKL8JE4XAH', 1), ('A2EHYCA29NSQLU', 1), ('A55PK06Q6AKFY', 1), ('A2QETZZ5EKH5RQ', 1), ('A33X80DIINN48Y', 1), ('A3NKSVKXMM5I4T', 1), ('A32HIC87N8DV5N', 1), ('A1IC2MRPO32X1C', 1), ('A1VABWDOUQLULZ', 1), ('A2FRQ8LCUIN55U', 1), ('A27W72R1CK0ARI', 1), ('A2VNGRQ182NJLE', 1), ('A2UNEEEJNHGS2D', 1), ('A1FLQM52V9YV94', 1), ('A20I9N5D71O8UT', 1), ('A2S48P812WA6G3', 1), ('ARX7Z3NI6O0F7', 1), ('ATJE929ETFFNH', 1), ('A1NOV41485TE0D', 1), ('A2HC9549CZAKNN', 1), ('A2AGBL998D0FYY', 1), ('A1RR36YKJB917S', 1), ('A25CZCHLNH3OMO', 1), ('A2X06FP2PQ6EK0', 1), ('A1SVXJZ3386U2D', 1), ('A3H47CY8OASL8L', 1), ('A2KUUIJ52MWDAS', 1), ('A13RCSUJSMVFM6', 1), ('A3T1LD0C65QCWK', 1), ('A14LG64GIVZIGS', 1), ('A2Q2A6JKY95RTP', 1), ('A1DNXL8BIR5R8R', 1), ('AW3G4EEW8ICRN', 1), ('AJLW1DZSHOVGW', 1), ('A2MA4ATED1B1GB', 1), ('A1HCJNYEPSLKM2', 1), ('A33PBU9EHZ28PC', 1), ('A2W82ICVTTYAOY', 1), ('A3GMRYV7VAYK5Q', 1), ('A2GPJR489OIH42', 1), ('A3GJBE9PJ6UDN', 1), ('A3FWRR4WGC2U93', 1), ('A2UHHEP0J237RU', 1), ('A1OHDRFL6BXJEN', 1), ('A2TO2BN3P4C00L', 1), ('AHRNDSKWH1YBT', 1), ('A2V0I904FH7ABY', 1), ('A256TOND6Q50QE', 1), ('A45Q944HOGVKP', 1), ('AM004PHO6F3FZ', 1), ('A3BNMHRW2R35LK', 1), ('A3QZU3A1L17O3M', 1), ('AZ5X928CQPRJN', 1), ('A15RFH72HC9M6C', 1), ('AIX91OJ0O3BV2', 1), ('A2XIOXRRYX0KZY', 1), ('AWJBO5XGIW8ZS', 1), ('A3Z9QN0RCOHEY', 1), ('AYGEP8I4BQ3CK', 1), ('A3USYXULPOUGEZ', 1), ('A2WE93LJX8PMT1', 1), ('A2G9UDL72YUTT8', 1), ('A2SNRRXE9M9ZDY', 1), ('A1FBVONDFTUO9H', 1), ('ATG9GIKHAZWIG', 1), ('A29OK8PPE9W2Y5', 1), ('A199ZXWKECEHU1', 1), ('A99K7S15XOQ45', 1), ('A1AES697PC2IW5', 1), ('A2VIUUWR7B11KS', 1), ('A1TNK6MP89YXY2', 1), ('ADS5APY1NKTL4', 1), ('A3LDLV1GWQJLEQ', 1), ('AO0HPTFIKQE9B', 1), ('AK5QCQL1GFSQY', 1), ('A2DE6ZJL80MXZH', 1), ('A7SVQXIYXW9ZI', 1), ('A30UIZJMFL9PLT', 1), ('A387DMNIK3HENM', 1), ('A3IVDLIXVJCRDQ', 1), ('APEJQN8RQAE08', 1), ('A1AEPMPA12GUJ7', 1), ('A38ON1MOZNBCGE', 1), ('A1N5FSCYN4796F', 1), ('ATNKYANM0VC5', 1), ('A1ZZZT0KJR46UV', 1), ('A1UH8RMD57P34Y', 1), ('A1LRJCPIUWW05E', 1), ('ASJZT7DM51QEM', 1), ('A2UE9D1TQ3XGUH', 1), ('A35F9KRSMV9KO2', 1), ('A3OT0HQ33B7WGX', 1), ('A209G57KXCBF4C', 1), ('A1RF9YK4BK5TRH', 1), ('A1EHTFVSD0H7I6', 1), ('A2NDNT7R5TY386', 1), ('A3M8R4JD1SIS76', 1), ('A23RZIU0N8K2KR', 1), ('A15XSWG3ZX9SHS', 1), ('A15FSBJ2CALIX1', 1), ('A1PTOCCYHE3EK0', 1), ('A39ISGPKMF9X0R', 1), ('A2NUBL2UYWPBWR', 1), ('A2SLX6UHHYCMCV', 1), ('A30OX7LGMR0PTI', 1), ('AKK49Y5DWSEND', 1), ('A2AU5LI63NRK6T', 1), ('A16PUD6V3KAZ0Q', 1), ('A89ZZKNDFQH23', 1), ('A1H0CYTDYKO6J3', 1), ('A28UMA3GW9L124', 1), ('A2OZ8EERI96ZUG', 1), ('A1QO88MU0PYJON', 1), ('AOF1QIAJMHMR6', 1), ('A2OQR4RE6E63IH', 1), ('A3IQ12O7NEEN58', 1), ('A29NNOFIY3N8Y7', 1), ('A30H2335OM7RD6', 1), ('A1W415JP5WEAJK', 1), ('A2MY9VXHZYAHUZ', 1), ('A2GHU8I0P3HFRW', 1), ('A12E83IRM13GQW', 1), ('AKT8TGIT6VVZ5', 1), ('ACAXV4V8PBCE3', 1), ('A2JFL163HUJZG3', 1), ('A3H7AOFQDPU0JV', 1), ('A11LNPG39A2ZV4', 1), ('A3AWV00ZU7MSK1', 1), ('A2UFRF6GPPWPQ4', 1), ('AHKPZ11JT110F', 1), ('AJ2PPTWZ0IIJS', 1), ('A2BB4DGBRVGKWW', 1), ('A2ZVYE2WCSBUNP', 1), ('A2F7CSE6KT7NI4', 1), ('A3JL3YQYI7OR5O', 1), ('A3GEF71TFM1928', 1), ('AYU404OSVUXQ2', 1), ('AT1RF4WNPGGLC', 1), ('A167KPMW1NBZJW', 1), ('A2FVD05Z2FYW1P', 1), ('A2654FDZUIBUYG', 1), ('A221I9R7I92ORO', 1), ('A1TV75OZDRAV53', 1), ('A20VXYT5DL0ZC6', 1), ('A1FVP6G8W3O8ZA', 1), ('A3C6M1APVEHL7Y', 1), ('A28X7NZ02016FO', 1), ('ARIDN94LOCQFD', 1), ('ATOYONNX5ALP2', 1), ('A22PUBSSNP54L', 1), ('AORGKBNQZ83O8', 1), ('A11BCJJG91KVOY', 1), ('A3HCZTTUH3CW9Z', 1), ('A21W7ZA2FZKOGP', 1), ('A2KQN0OAJJ1AZL', 1), ('A134C9GVEU5TQE', 1), ('A3F7NO1Q3RQ9Y0', 1), ('AFS69EWZJL8JL', 1), ('A1VKAY0XWLA2CY', 1), ('A2240J73FTPR21', 1), ('A3MPV6UPZ3LLAM', 1), ('A1M5VXVTC42MCR', 1), ('A29C0Z6BY8HB9H', 1), ('A28WMSEOSCJFKB', 1), ('A22JBJ2TBLAODV', 1), ('A34XIZ078ZGG8T', 1), ('A211631PABXULN', 1), ('A8WAYVOKYBLO6', 1), ('A12FQUL8LUKPJM', 1), ('A3QS4WWC1LCA6H', 1), ('A3Q4TYJVAM4IRM', 1), ('A1Y1L56592H2ZX', 1), ('A1M1Y5UGONAW06', 1), ('A2TYT180WO9RQS', 1), ('A11EIDY6DD40CS', 1), ('AR74YY08IP2WE', 1), ('A2OMQEK9OW2FY6', 1), ('AYWHCM0TJ4737', 1), ('A97H5I4P5PCEM', 1), ('A231FGX8G2Q5EW', 1), ('A1J199YQWQ6NFD', 1), ('A2HR0IL3TC4CKL', 1), ('A36PBOTIUXHQYA', 1), ('A2GO2DPX0E1NFN', 1), ('A2M14CFAMF8J7I', 1), ('A3VLCQX7NG1N0E', 1), ('A1LVHR5OO45L5V', 1), ('A3F1DM8XWNDMJH', 1), ('A1VLVWTLV3LVHR', 1), ('A328ML29K4VX6U', 1), ('A1I4NHYX40MFD', 1), ('A1N9OA03PECA38', 1), ('A1YCWZWOXLUAY5', 1), ('A1X14IXPZT7ASS', 1), ('A1PZW5JKLA85F1', 1), ('A1L7R2764ED46Y', 1), ('A28SBPF6KFZ7VL', 1), ('AQKCWZ7MLOUDR', 1), ('A7OTTM22AV2VR', 1), ('ABP2UMJY61K8A', 1), ('A36NUDST4Y5JBA', 1), ('A1BZN88T4GSZG0', 1), ('A1CHOKV10NEI8X', 1), ('A20VX7F4164FVC', 1), ('AN0N05A9LIJEQ', 1), ('A2OVRC3Q31944E', 1), ('A5ZD6FBMZQGDS', 1), ('A1517476XFOC7A', 1), ('A239BIP124VPYJ', 1), ('A28I19Q54MYXGV', 1), ('AUDA5XUWPYHOR', 1), ('A1KEK09ZA6J9P8', 1), ('AWCJ12KBO5VII', 1), ('A3CG93783LP0FO', 1), ('AT28RL25Q2OLK', 1), ('A1PAGHECG401K1', 1), ('A1OZKHQB2F746V', 1), ('AVXIYQWPPXYF7', 1), ('A17771LTRWSKQ5', 1), ('A1U1ALQQMB6J22', 1), ('A3EFSLEMHNPP6A', 1), ('AFOV2K4F0MDTZ', 1), ('ASD7LAINVLNHC', 1), ('AN9TLUKFAJHP8', 1), ('A1248JRIINWRTH', 1), ('AGZEK96T7WK6', 1), ('A11FFLD0GV82CQ', 1), ('A1BTG38XSGYLW3', 1), ('A1RNKP4W75FOJE', 1), ('A13NM1PES9OXVN', 1), ('AMAW5TL27RI3E', 1), ('A1BTNPMESS99PL', 1), ('A1QK0XCAPHIW1L', 1), ('A2I60HCAVEF3RC', 1), ('A34T6SD5HUGLCJ', 1), ('A38H4XCCPLRF93', 1), ('A1BV9EO4HNJUJZ', 1), ('A2599XT6W4WSQY', 1), ('A2Z81QTXUJ0WIW', 1), ('A2B9GUWHNT4HBV', 1), ('A1WZC84IUE6GLV', 1), ('AVBLGXSWRN666', 1), ('A3QDBUDXLHUJX2', 1), ('A2507ZYWGMY9BK', 1), ('AY46DEOJJYFTW', 1), ('A1KSDKIZ4XN3GG', 1), ('A37MH7ICH80QOX', 1), ('A2T1W9JWKJ2IBI', 1), ('ARYSDAZNRXN6G', 1), ('AMB2Z4FMDBWQY', 1), ('A19XE6G6NDZFPS', 1), ('A2SINC5TC9WENK', 1), ('A2KMY4RVMJ1EP6', 1), ('AYNTULRNAIPNY', 1), ('A3FHFT1OAX62BU', 1), ('A3HPCRD9RX351S', 1), ('A3A90CELVLOUP6', 1), ('A2E2PA6UNK1E05', 1), ('A15R00LN8L815Z', 1), ('A23KDA686N6T4Y', 1), ('A25G2643C8KF9J', 1), ('ASPL0SF3VVEZH', 1), ('A16GBXDS51J019', 1), ('A2QJ1Q9XGDAD4W', 1), ('A1348IPCM02FOU', 1), ('A283NP8NG7X11F', 1), ('A29F3CBXOC3T4D', 1), ('A23NSKTMSPPBTR', 1), ('A1IH42TUIZ2XJL', 1), ('A1LQTC6ERFMZ03', 1), ('A2PL0US7RN67G', 1), ('A3B620VGG3J6ZP', 1), ('A2L03A61EET8KV', 1), ('A1PLNHXOBDLMJL', 1), ('A21Z6UND5J53O4', 1), ('A2M1MNG7G40V85', 1), ('A1L20MX19ZMNW5', 1), ('A2RIENP4554H5X', 1), ('A2701UXI8QGRHE', 1), ('A3JVN244YWI3F3', 1), ('A37LNXZ3U8Z0PW', 1), ('A1BLUML38W9AV', 1), ('A3IL4WNBMGBJRY', 1), ('A1E371HE68KMWB', 1), ('AH9MUK2Z52V6N', 1), ('A1VPK96SU7YFMP', 1), ('A16YU3GRGCD95S', 1), ('AG71XMQGQ2UTJ', 1), ('A312UBIOP091MH', 1), ('A16I6WJUEBJ1C3', 1), ('A39Q9G7J70A056', 1), ('A3MDETK0D5UAIN', 1), ('A9HIK6IIF882N', 1), ('A37FFWZUGO8L7W', 1), ('A1PI8VBCXXSGC7', 1), ('A1U6M8VJHK2ECA', 1), ('A3FHSLWEMH7JD8', 1), ('A2WW57XX2UVLM6', 1), ('A1IZJVLNMFACS6', 1), ('A2FEM4XI55SY0W', 1), ('A4IL0CLL27Q33', 1), ('A1SAZB83QFR0W2', 1), ('A2UN7XFIJKCHT5', 1), ('A7OCP4P0S4YO8', 1), ('A1LG1DKUZXGJ6J', 1), ('AWSHH05JS020Y', 1), ('A25KKXUQQ0OLWB', 1), ('AKT1WX8DY7PI0', 1), ('A17MPGB5W3ACEW', 1), ('A3EPJSPH03AS29', 1), ('A2TYAL88IXRSEV', 1), ('ABC68JUCPTVOE', 1), ('A2WN1QF8GSVHYV', 1), ('A3LMPD1ZQTWOC4', 1), ('A3LLJTKU4USS6O', 1), ('AHAJOKPTCGT4N', 1), ('A3QEJ40NQEW36Q', 1), ('ARZSMSOTT2PXH', 1), ('A3HERBT8W31BRJ', 1), ('A2E3NAL9ECE7VS', 1), ('A3IWHFER2YKRM', 1), ('A1D9V11QUHXENQ', 1), ('A1PW5SQLR0Z6IH', 1), ('A3PPNF9IVY8R1J', 1), ('A8INT3NMHRUS4', 1), ('A3U1S5KR287T3I', 1), ('AZQGJ5CEAJGXB', 1), ('AWCU8EACS3QAQ', 1), ('AQNX0WN00JEVE', 1), ('ADZIJQN6MNRAB', 1), ('A7M5A2155USB2', 1), ('APDPA11IZPYLN', 1), ('AMB4AZ13T5XNQ', 1), ('A3EUSH8DPW75LR', 1), ('A39WWMBA0299ZF', 1), ('A2TC8FD170FC2Q', 1), ('A9GPCR9WJQCCJ', 1), ('A4BNJSZVARL5W', 1), ('A2UW9WI22QKMZE', 1), ('A34GM17T6WTJDK', 1), ('A3JPFWKS83R49V', 1), ('A1ZO9D554VQO9F', 1), ('AMLA0B6EHD4OS', 1), ('A1N655X9X7C6QY', 1), ('AQ6B2UAFBL2PK', 1), ('A361U4SXK7FCQE', 1), ('APP35M28G2U51', 1), ('A33775AIB1A664', 1), ('AYNNJ0DBGL5H7', 1), ('A1BKJNAWJT2TG2', 1), ('A1YLOZQKBX3J1S', 1), ('A2QIL6MHF0S9S5', 1), ('A1Z54EM24Y40LL', 1), ('AKAZT5193KFR1', 1), ('A1U3MD058WEWYU', 1), ('A3UDOERZ8VWHD2', 1), ('AAPPWNP9FWVWS', 1), ('A3MFU0GVZUVH3K', 1), ('A1GNYV0RA0EQSS', 1), ('A81XIM8XFKWX5', 1), ('ASBIU8CCFLE1V', 1), ('A18WGQ0YSLZ66E', 1), ('AKE6DXEN3GWPC', 1), ('A9XX8OHS2ZQ2X', 1), ('AKB2PYODH0TKS', 1), ('A1QW8LFDMGW4SJ', 1), ('AVWWFK3FZDEL2', 1), ('A2UPSJGQ2CNHDG', 1), ('ACA3DUGEW0QFY', 1), ('A1NV647NFQ0ZS1', 1), ('A38SCEIBLZWM6J', 1), ('A36TDLV6OK3RO3', 1), ('A277GP2U2TXH51', 1), ('A2V5R832QCSOMX', 1), ('AF3X7J0XC391L', 1), ('A24O15MYDNLZBE', 1), ('A2B72UCJRZUTZW', 1), ('AXOO7BPM22BDO', 1), ('A3EEHMLILVOEMJ', 1), ('A3ULJE7UMUGSXR', 1), ('A36K2N527TXXJN', 1), ('A23O8T3LNL9YY8', 1), ('A2H8FGMTLQ3NJO', 1), ('A1JTQCIL88W9JV', 1), ('AZV09BD5W1FVA', 1), ('A2NA2QLZWMNSAO', 1), ('A3OO4WIO4SKD55', 1), ('A23TGI02RB7JC', 1), ('A14R9XMZVJ6INB', 1), ('AZ515FFZ7I2P7', 1), ('A19HM61K6FOP0S', 1), ('A15CL28ALB7MTZ', 1), ('A32GCOTGFJ9XC3', 1), ('A3H7NPNDMGLOU4', 1), ('A2GY5WCU9PKTMI', 1), ('A1WT3TVHANP7ZF', 1), ('AXPYUSKEKC9G6', 1), ('A96AUNSF6GESO', 1), ('A19A08HY0O65Q6', 1), ('A8FR87IV8J2Q1', 1), ('A3MGR554VRBPEE', 1), ('A2ZO5SU0ESSB1N', 1), ('AB399AECXCDT8', 1), ('A3COBFLNYK52TE', 1), ('A1OMXVXXP07F05', 1), ('A3KOA2A2X8UNGO', 1), ('AWFMPKT4EE9Z9', 1), ('A3BZUQXA2QHDI2', 1), ('A2TXR85WQLE32N', 1), ('A11XT24G3PZ8CQ', 1), ('A2GANR9I6XHTU9', 1), ('A3REK3OFONWB1Q', 1), ('A1N4UK3IWKN7JB', 1), ('A1GXIQMIF5M000', 1), ('A2Q8QBZN6IQ3GM', 1), ('A21RLCXH49NLEW', 1), ('A3TLY2LWGRULDQ', 1), ('A1TKM36EYEQNSM', 1), ('A1OMHUU58XHQNG', 1), ('AKZ0BCILJ71OT', 1), ('ARXU3FESTWMJJ', 1), ('AAEHOTZ1GRAUX', 1), ('A1J1KO98HQ80YW', 1), ('A2BPFPVOWCTKDJ', 1), ('ACW5632SKNH3W', 1), ('AIVZMEFEAGF3', 1), ('A1JJYNZEYLS7F5', 1), ('A1FPQ54AIB26L0', 1), ('A1RG4WKNMPYS4X', 1), ('A2B3A8NQIHITO8', 1), ('AZWR5854QIU2X', 1), ('A21EDMG94ID7D', 1), ('A30638B9S2GOM8', 1), ('A2KJY3CA1CB1GE', 1), ('A2GL934UT3XENH', 1), ('A2OL5WLCNZVD9K', 1), ('A1VV72295OP6B4', 1), ('AY1AA4SW331B6', 1), ('A364XQE4O5EG4X', 1), ('A13GZCHAMKWYBT', 1), ('A2H2I5FY1PUHP1', 1), ('A2UOHALGF2X77Q', 1), ('A2LXX47A0KMJVX', 1), ('A1HRYC60VTMYC0', 1), ('AKHXMZKLNAAZR', 1), ('APPCJX62WKIIP', 1), ('A10CMFLN1PVPE5', 1), ('AYOND4ODQI2VQ', 1), ('A3C9YGB4H90PDE', 1), ('A1YZEKPPMXG1YJ', 1), ('A36K8DLXYRUMBR', 1), ('A9JLE9BISQFUB', 1), ('A2B2G6LY79VEVN', 1), ('A2F2ZJE43Q4L7A', 1), ('A2K98T6D4WNCRW', 1), ('A2HOLM5I1ARX9J', 1), ('A3J3OCM6PPWNRY', 1), ('A353U0L2HAMSHV', 1), ('AJV985MKGCIQ0', 1), ('A22KGO6Q2YWS0C', 1), ('ASLHDTUUMOH7F', 1), ('A3NHUQ33CFH3VM', 1), ('A3MVMBW7SOOBKB', 1), ('A34TNH973Q9XT0', 1), ('ARBKYIVNYWK3C', 1), ('A2HHAV29CZ1OIE', 1), ('A1AX69446LX31D', 1), ('AP8D74QD9LUUL', 1), ('AX7QMRXX81L9K', 1), ('A2F540P3L6P5CL', 1), ('A298NP5CGZ35BP', 1), ('A1UMSB7LAW0RIR', 1), ('A2S3MUP7B22XIC', 1), ('A235UFZGCFN3J5', 1), ('A1F92EK0MUNOVR', 1), ('A1B05INWIDZ74O', 1), ('A3HOBP97RKKY0M', 1), ('A2F1P10GGZ7K2T', 1), ('A3D9NUCR4RXDPY', 1), ('A34DQINHT6NYJU', 1), ('A26N3GLFUNS4NL', 1), ('A3VGDXHHMBBRE8', 1), ('A1APK6FWZC13B', 1), ('A1C4J5MRES1KRK', 1), ('A3RMS65F4GT4ML', 1), ('A366RK3ICP9HJ7', 1), ('AC2278WPK3EU', 1), ('A3NPETMZXGIG65', 1), ('A1MCH5RXDOH87H', 1), ('A241MJV79A4J5O', 1), ('A2MNB77YGJ3CN0', 1), ('A1F8ABPW3WRF6T', 1), ('A3N3QK86OEC3UO', 1), ('A2RHV42BTJSVON', 1), ('A69GBB918D2PP', 1), ('AH34Q0NYD4SSP', 1), ('AI8EMB0HUC6Z5', 1), ('AOXMWBNDZDJ9L', 1), ('A2RPVYLTOWGGRP', 1), ('A2VDMNG4I18Q1E', 1), ('A147FUNITGB21I', 1), ('A27QXQQOLAMRRR', 1), ('AFM8HGCK7GHGB', 1), ('A18FUHNBP90IB4', 1), ('A12MALRNXKP38V', 1), ('A30QAOLNZ4415R', 1), ('ARJC7AEB38VSV', 1), ('A9GIGJUB98JNR', 1), ('A14OQ67LM79KW3', 1), ('A3FBM0RMCMAABV', 1), ('A2D9TA1EYXA9KR', 1), ('A2C27IQUH9N1Z', 1), ('A3CTI2ARGG2T7X', 1), ('A20DDH4NT6Q1E8', 1), ('A3SN3QPC6YVRBI', 1), ('A3H9JSM1SUTE4O', 1), ('A1E45C97JEF57H', 1), ('A6B92PTV0Z1SU', 1), ('A2H1W8V6R9TJ9E', 1), ('A4SD8F79JBYG2', 1), ('A6VSWJVTWEOII', 1), ('AC57A1QMUXK10', 1), ('AFB5TOJR0EGNI', 1), ('A23E9ZPS2RQZS0', 1), ('A3KPD3WLML2Q4E', 1), ('A1UHKF1UQ3EGW4', 1), ('A24FY1EBJ7EWLH', 1), ('A29BA6LLBLJILF', 1), ('A1M4QC5BZDMBIZ', 1), ('A23AALNXFYCFCN', 1), ('ASY25YMTIC2A9', 1), ('A3RRIP2E45NGRQ', 1), ('A1NOPWIDBSY40', 1), ('AZWP97BZPJI1D', 1), ('A1MFIVHYJS11WY', 1), ('A1APW5TK8QSA68', 1), ('A3D6KZT0QG6UKB', 1), ('A27OSHV3HCBH9T', 1), ('ARTA78TP6H73D', 1), ('A69JO69YN8RFE', 1), ('A2H0YRAI453ZAQ', 1), ('A3SO438ZZPJHBF', 1), ('ADYZOSTF9LZLD', 1), ('A17P096IE46KAI', 1), ('AAA0TUKS5VBSA', 1), ('A3M2U2803IED3X', 1), ('A3QCC7PV6EG4YC', 1), ('A3OW12V8O7G5LD', 1), ('A270NCNJ7TYU8W', 1), ('A1BEKAQQGP8CMF', 1), ('A1FYYE9Z89Q82J', 1), ('A3JLOIXFM75QNV', 1), ('A1FESMJUZ0XJN7', 1), ('A1709RXGJX7EU3', 1), ('A37R3P5JFNQG8S', 1), ('A17V9XL4CWTQ6G', 1), ('A1GQX4Z7SQ2PVK', 1), ('A33TBHM3O9AY17', 1), ('A3N7OZQMWBONXS', 1), ('A1YMB134U0SU0A', 1), ('A31HE83MU98GBV', 1), ('A26TY6GCGBF5HT', 1), ('A2BD4U6N5JURER', 1), ('A2GHALP4SV9150', 1), ('A1VTOFY4N47RGF', 1), ('A1VD0JJCNC8K76', 1), ('A3F0OFSE2M25U2', 1), ('A3UUTDX2WNVUS3', 1), ('A2UQGGK8VJPUH5', 1), ('AN81JUYW2SL24', 1), ('A1JNPKUX25GW3X', 1), ('A1EKF9JFF1XWSV', 1), ('A222RXYPA6VZU1', 1), ('A3RT7N36N905ZF', 1), ('A720S06Y6KV49', 1), ('AB094YABX21WQ', 1), ('A2WRY5RIYV9K9D', 1), ('A2ZCXF9DDZYNFQ', 1), ('A33A9KT93K6UBB', 1), ('ALXFN5BF1H691', 1), ('AZA595ZPIG240', 1), ('A1YJMG0QJXZLD4', 1), ('A3UW0PQLDUACMH', 1), ('A2VZNEM0V65R10', 1), ('A3PBC0LCW47LIH', 1), ('A185QFJRTB5W93', 1), ('A24DY5PBCVDQT5', 1), ('A2RQHAVYX69H1W', 1), ('A334U1TZFY6SNO', 1), ('A3EXW4HNYX7HF5', 1), ('A3OIQ3T0OIKY66', 1), ('A8RLEWFNKPEDW', 1), ('AQL6BPMPUAE1C', 1), ('A3VBZDYGHF4NK8', 1), ('A3SSSVZHCZDCVG', 1), ('A2QSBOAAGW1I1H', 1), ('ADQR7Y6GIKSDL', 1), ('A1T8N18XKDLJO4', 1), ('A9NXTC0HTPSDO', 1), ('A1ONZ8JRPLBNUI', 1), ('A2A7NHE5HTK79N', 1), ('A2XT8C2ASRLF2M', 1), ('A2SK67BRJXDTE4', 1), ('A18S2A07LBNVNF', 1), ('A3FD3BHIUYIFPD', 1), ('A2DB720I9XRX7K', 1), ('A33Y8O14LCW9HY', 1), ('ACX80IV6CGBZ0', 1), ('A2PU5IDX61XJ7A', 1), ('AK0CENM3LUM28', 1), ('A30VOG29YPU59V', 1), ('A1G6MKZORYFPCJ', 1), ('A38BEIB5NCPXBR', 1), ('A1FWFCJU2G7TRA', 1), ('A2V8RY58XE5A5O', 1), ('A2POEZE9CZ7J7C', 1), ('A38H593U4NFHK2', 1), ('A784A2QRHRSSR', 1), ('A281NPSIMI1C2R', 1), ('AMEZJVXMSEPY0', 1), ('AR8T5HFGMG7BH', 1), ('ARIZ8PY9ULPHH', 1), ('A21VGNU5959O85', 1), ('A2YCUCEYXT9VHX', 1), ('A3QMIWXU2RGEMH', 1), ('A14X244VGHWPSX', 1), ('AVFJ327UXPXLF', 1), ('A3CNR7UK9C6U5S', 1), ('A17437N1L775IJ', 1), ('A1V3PCKVCJ3TTZ', 1), ('A1GONJ7SNT2I07', 1), ('A1PL8JA0TEHBVN', 1), ('A1D7VWS3DWS7X8', 1), ('A84FLVDK2R5JF', 1), ('A3BADG55FYI5M2', 1)])\n",
            "('A2XROPSQZ6WML0', [('AO377Z7UORPJ6', 2), ('AYZ2ZHBN6A7YR', 2), ('A2WBU19UKMNC6X', 2), ('A19N301CQ8IWW9', 2), ('A3SCNG2DAE98WV', 2), ('ATJ2IB04G3AH5', 2), ('A2XROPSQZ6WML0', 2), ('A1G5FIEA40QCT4', 2), ('A2TG3BYE7U8IAC', 2), ('A12TL4MBERFICL', 2), ('A3CY4PWJ916C5H', 2), ('A2OQ4L4TJG328U', 2), ('A2ETH6MQ22O4XS', 2), ('A2YEI6F7619EIA', 2), ('A2QEHYL34PU62G', 2), ('A26V0FYSES95IQ', 2), ('A297MS1ZE6XNA8', 2), ('AA7HOOFN9CPBH', 2), ('A1JRMF8GTIGAXC', 2), ('A3BCFPLXS1VU8J', 2), ('A3X2RF6QDDEPS', 2), ('A1MJ33P2FHK691', 2), ('A4SHMT4D9D7EN', 2), ('A1UL9WR3RBEX27', 2), ('A1NSUXKUMMLJF9', 2), ('A105321T5EOGWM', 2), ('A15YAPPRM4KD7B', 2), ('A3BR1F1O683ZQ', 2), ('AFDCV79RNCMPZ', 2), ('ASZID61R3Y2NR', 2), ('A1BT4TOJKAP48O', 2), ('APUEE4R35LVH6', 2), ('A2B0N48RXCTDA3', 2), ('AK60U6IAOBDGC', 2), ('A1LCYW5S3IKKKM', 2), ('A28P7HQMWUC0FV', 2), ('AS8070CNAOR4O', 2), ('A3GDEXMU9587JX', 2), ('A2ZOKXJOQULWXS', 2), ('A4RXA6KDHIHYC', 2), ('A23SHVXTEYWM9G', 2), ('A1O3Z0YNF6WPJG', 2), ('A1V1SRT6SBIPLU', 2), ('A26P9V06FQAQMJ', 2), ('A3J7YRNX46FFH9', 2), ('A2XNOB1T796Y6B', 2), ('A8KJS2P6E5DCB', 2), ('A2F1QPIJTDWK55', 2), ('A3W20F91LDEU90', 2), ('A380AVXZX08BH4', 2), ('A1O4PJ57DPMZFD', 2), ('A3RETBF7ST5LJK', 2), ('A39INFTZG1GTBM', 2), ('A11J1H14ZMZDB1', 2), ('AHU12JHJE93UQ', 2), ('A1WB9NQR14VR8G', 2), ('A2WXZP7YHPUVUJ', 2), ('A3PRKOV9BHO1F8', 2), ('A16D4O8HQ9UKBQ', 2), ('A2G4OACHII4ZOJ', 2), ('A2QFMDFM2SH864', 2), ('A1UVIRUNV0N3JU', 2), ('A1OGIC5T8N5489', 2), ('A17CUFXPNHX3PG', 2), ('A253RJELSDYG3F', 2), ('A2DKPX8XASFPAJ', 2), ('AWYOWZKRBKQHQ', 2), ('A2L2IT444HMXOU', 2), ('A3HARUQ1NDHF0V', 2), ('A2BA0TJ9XOUHRG', 2), ('ADVKTE5GX0XBQ', 2), ('A2RJ1CG75NMNLP', 2), ('A1IXAPWPOVUI8H', 2), ('A1PAFFE64PGY99', 2), ('A1POZC6BF8TLEE', 2), ('A7VGOOVZ8XGQU', 2), ('A315F6EFV2B0QY', 2), ('A20RPD24TE2L7S', 2), ('AP0XP06HJ7F2X', 2), ('A3KIESD88L9MRF', 2), ('AGZE0RQT4YAUK', 2), ('ABP7SNMWBVBYB', 2), ('A23V2XL33M13X1', 2), ('A2OVI62NN5W0UE', 2), ('A1LEI352C4UT5P', 2), ('AIVJ3SOSSJOPP', 2), ('AWU1DXB6IDWRZ', 2), ('A2UN8HSZQ0D4JK', 2), ('A1JKXKBNBTUMK4', 2), ('A1UL74OE5A2ZYI', 2), ('A28IAZZI0SNRMW', 2), ('A14Y1QH6J6A6R1', 2), ('A1W6ZCC8FYCD0B', 2), ('A4GEGHKKL9J7J', 2), ('A8P7XZLMXKT6W', 2), ('A154V4EJ1WW46M', 2), ('A3JK142YXC2RGK', 2), ('A1YMQCE0GG56I6', 2), ('A1WTK852D4VR2J', 2), ('A1GI6CHSMP1L2I', 2), ('A3HMY5YPZTGA6N', 2), ('A38TVM3RK9A5QN', 2), ('A2EJ1GFUFYUEBM', 2), ('A1UKS6J7LANLCE', 2), ('A2K0SLMLHZ9HMD', 2), ('A3M333GYMKIG8A', 2), ('A1DKVOHHKMMHUR', 2), ('A2FJ3HQ2RJAIYH', 2), ('A3EDHHNA8R84S6', 2), ('A1W3IUPO4UDYTC', 2), ('A3NID9D9WMIV01', 2), ('A2TP1T1D8AX3F5', 2), ('A21H2BWMSNR503', 2), ('A1ZEZS56QK2JCT', 2), ('A1C9L4VM3Z68X4', 2), ('A1JNTGNQJQ1IV3', 2), ('A16BWIVVQV8S00', 2), ('A210QTAXVPACLP', 2), ('A2RALCWQN9S36X', 2), ('A418C5H0O0I43', 2), ('A1A6FSA212Z2R0', 2), ('AT6V8WOSS3LWD', 2), ('A2UZ99PXDZEF3W', 2), ('A6M2CGITPSMBN', 2), ('A3Q4SHXFGYGF0O', 2), ('A2S1I4K50QDZ7N', 2), ('A8INT3NMHRUS4', 2), ('A30HEXJMPBKT5D', 2), ('A1NBK07JEBCFI', 2), ('A12BYW72CLSLF5', 2), ('A1WZ8H5DX2HR3', 2), ('A32PHOIA7SOZ8A', 2), ('ADUHNYUB8TN09', 2), ('AZ4VKFF136FKR', 2), ('A13ABDTYVQI6T1', 2), ('AM4JK6BZS7UY2', 2), ('AJ29BI9RO7F40', 2), ('A2P5IXN9GSTLD6', 2), ('A3BJMVANGVCYJT', 2), ('A1094HMFXOM1AZ', 2), ('A4W995X38NZCR', 2), ('A2QELLZF5HABHA', 2), ('A3292EFXPYJE12', 2), ('A1YSPYBD85OAKP', 2), ('A1UVBRHT5SKV5B', 2), ('A2XH91IS3P08OX', 2), ('AO37OH3ULGSC5', 2), ('A1PN32V36G1EY0', 2), ('A2CN73EMRMYKDQ', 2), ('A3X59FM57CGNG', 2), ('A21JEJWCKB9OHM', 2), ('A2SZIV8ULBE2J8', 2), ('A2J0XFLFPS3A4F', 2), ('A1GII2772SRNNW', 2), ('AE3ALF5XPKY1L', 2), ('A2ZHNYVIEGYWCO', 2), ('A2NZKEGRUQL1J', 2), ('A5Q7KCOR5CE4H', 2), ('A152PRXNAVTKKA', 2), ('A5JJM9BBXV35B', 2), ('A4Y25WA2GSO2H', 2), ('A1FDXQS3J3MXPW', 2), ('A3MEV9NFC614NB', 2), ('AG01SVE2I3L66', 2), ('A168P2FJ9UW2PM', 2), ('AX34HLSFP4JJM', 2), ('A1Q4MNIUESQTBM', 2), ('A2DWDANWCY3RZH', 2), ('A238P24Z5I9FDT', 2), ('A48LQQD8QJGJD', 2), ('A3FTSQPOTAKHMM', 2), ('A31IT9PK06FDKL', 2), ('A1ZB1DWIQ584HK', 2), ('ASDB971GHZT9C', 2), ('A3PFQPPJ783FE1', 2), ('A2XC3MW0HWT243', 2), ('AUOB0J10F5ULB', 2), ('A2JS3GEM4ZXQEZ', 2), ('A3PXW1W0LVTFMZ', 2), ('A3ER32CA64D96P', 2), ('A1RJ18I5BETWR5', 2), ('A2BD7JQGT0BMFD', 2), ('A287GHXGB8PUOH', 2), ('A1VRH2HFG9LPMO', 2), ('A1Z54EM24Y40LL', 2), ('A2F8TK7695BYZ6', 2), ('AS6QJY6NY3B7U', 2), ('A1KHVW4VTZ82XC', 2), ('A1S64OAAYBIRQC', 2), ('A34Z85HXCBFZNM', 2), ('A297HIQRKU7TRF', 2), ('A3HIPJKMNZD46E', 2), ('ATG95GLGEU6CF', 2), ('A2HD872EH53S0U', 2), ('ASAUDLHZPWWVS', 2), ('A1X7F9IS5VNO18', 2), ('A3W0KRCKR7QA0P', 2), ('A2Z4TQN4C4WSSB', 2), ('A3IXGFI9COZN79', 2), ('A1670PRY1G4FCE', 2), ('A1W8WQMBRK8J4U', 2), ('A3AQ5B3KOG55U3', 2), ('A1Z215B0OZ3BLL', 2), ('A35UXTRYU1V0B2', 2), ('A1VPCQ4S8VZXOD', 2), ('A234OTM2C37RTS', 2), ('A2BRTAS2WPSWB2', 2), ('AV2E5JNLLNKWO', 2), ('A4SWWT04XNU0R', 2), ('A15FF2P7RPKH6G', 2), ('A309PFW8T6DMMZ', 2), ('A3BC2J9TFRKVEJ', 2), ('A205GN4JP4QN16', 2), ('A3Q0HZQDD6J88W', 2), ('A3AT8S6XOMN42D', 2), ('A1TW02HA0AH82P', 2), ('A9Q5MGCDT8TTK', 2), ('AK3R75FQWAK15', 2), ('ASVTO35BKXHRL', 2), ('A1FP4DFC0D5E90', 2), ('A236IN6J0H7E2V', 2), ('AQQ79QLD9K4OF', 2), ('A1PZO13IAKZRQ5', 2), ('A2LEXJC0BERHOQ', 2), ('AP3W6BUJ9BB2L', 2), ('A3QCRQ7K1E4GZW', 2), ('A2G0LMBS5BHO97', 2), ('A27DLIBCO7MCZX', 2), ('A3MLIAVPRRLPEL', 2), ('A1J1V7RZ3WWYFT', 2), ('A2IAV6P3IK5OLK', 2), ('A2CCP1FOMMD25V', 2), ('AC5JC48DWQESO', 2), ('AYENUED7K4RIG', 2), ('A31Q8LN0JTG6F8', 2), ('A3RI1GSG9CKQGE', 2), ('A31M3U1F2W0IJG', 2), ('A3KLK3Y5LDTP7T', 2), ('AMAK90IW2BZCH', 2), ('A16WPA6JV83YXT', 2), ('A3NIOBLPOFE2EV', 2), ('A37X075WQL1YDF', 2), ('A1JZYVSKBE7LJD', 2), ('A3HF1YMVXK4Y2Z', 2), ('A888WF0XJVJNL', 2), ('A1ME6QO214FFZW', 2), ('A1YV4U8304IQ', 2), ('A145QW0HKL8SD0', 2), ('A3B32XH4Q10YLB', 2), ('AYCXNURZDX40Y', 2), ('A1V48MRRPD1MW6', 2)])\n",
            "('A1DALRIOEMH9B', [('A385VL53HRJWAJ', 2), ('A4OQ9EN2OJD7Y', 2), ('A7FNPP1SMY97G', 2), ('A1KD7DI6QS0D6J', 2), ('A37AMJ6WG75TH7', 2), ('AFNRH9OOG0ZOB', 2), ('A25LYH4YIKHDQI', 2), ('A2H1SB4MBFJ5W5', 2), ('A3COEEXDVBPZYZ', 2), ('A3EU4N5VQ7QUM3', 2), ('A20O7GVNRRCP1I', 2), ('A2IHAZW98TE24Q', 2), ('A396U9T6TQN2G9', 2), ('A1IKQY9NYARWMI', 2), ('A325ESKAA7TLF', 2), ('A2JZE8BLKTUF08', 2), ('A1AD1B9YVECKW0', 2), ('A88XJQH33JG01', 2), ('A3AZT5F1PFC4WA', 2), ('A2PFVIRW790EL7', 2), ('A28RSMADFCBJDT', 2), ('A2814P4P36QHPE', 2), ('A3J2VK1BE1EK5J', 2), ('A34JBYZV3YSZ2S', 2), ('A3JYF4A9X4305W', 2), ('A2ZRSKYXINBQKH', 2), ('A1A8JM1ZF3UZN0', 2), ('A27KL8M9WPLIHC', 2), ('AX1ENZ5AR3X7F', 2), ('A3D7XA0RH1VG4N', 2), ('A2ZKHIQT7YOAK6', 2), ('AZDN2IXN5VMMC', 2), ('A1DALRIOEMH9B', 2), ('AS19P0HN94DC8', 2), ('A1EXVN03ODER4U', 2), ('A6GHEQBD37588', 2), ('AOL8XOYWBWV7Y', 2), ('A2WZ5FILFD6Y4F', 2), ('AAW8BGN6HL3XM', 2), ('A2Y5TUZVPZYEAE', 2), ('A1YES7IG55SDDY', 2), ('A17NXMGVLMOJ9N', 2), ('A3AWI6DCII6IWM', 2), ('A2STOK8KB8RPY', 2), ('ADGIGRBRT4TU3', 2), ('A13HXP89UGJOCY', 2), ('A3A3OB3039WHXC', 2), ('A1WQP7LCVQK3JZ', 2), ('A32QWGVZB6BVTF', 2), ('AMPAX75O6Q2D', 2), ('A2BY3A7URABLI', 2), ('A19Y3L0M7QLH2M', 2), ('A1926MTJG94NGH', 2), ('A3FH3YNQIQEWQ1', 2), ('AIQDFXQG9K75D', 2), ('A3OOFHK9T5403M', 2), ('A35MU1KZ9DGWDT', 2), ('A22H1ZU3JY4B5Y', 2), ('A1FS0XU38DQVP', 2), ('A101V6SI1S8THM', 2), ('A2X9WN0P24S7LP', 2), ('A2DXV10LVMXCE5', 2), ('A32K6WN17LBZHO', 2), ('AWS2OL6ELKWP1', 2), ('A1GO7B736ZMI6F', 2), ('AD1UV316MNAJH', 2), ('A2E3WBB47DRFSC', 2), ('A14U3RU6E25J8V', 2), ('ANGR2O5QLYFHT', 2), ('AUAW0H12CVY73', 2), ('A1H7A7LRGSRF8B', 2), ('A2MJD6R0I66MQT', 2), ('A3OAY7MENX7SBS', 2), ('A2101M4OXKVK85', 2), ('A2CFXKVU75RZDI', 2), ('ANOS1YUDXOHUY', 2), ('A2W4DQQ0H8B0AV', 2), ('AFB8A9FB8ACFA', 2), ('A2GT59NKF3231S', 2), ('ACJJ8AZVYDNIF', 2), ('A2KQRUKXGEIPJ8', 2), ('AQNW9QWKIH6CC', 2), ('A2D4ODIUEX9ZVY', 2), ('A2JVES0D7HT9O6', 2), ('A20SH463E41VEJ', 2), ('A98EUN4VN1ZR1', 2), ('A2XYGPVYQGYUV6', 2), ('A14U2WTVE7B377', 2), ('A1H4R7TY2G50DH', 2), ('ALSEJ4FHHOBK2', 2), ('A1K4VHF4FJOFCG', 2), ('AXGUQMC8YIQTI', 2), ('A2CG2LQWHDJKA6', 2), ('A3GV9YG4LWSDKN', 2), ('AONSH11IMRQL7', 2), ('AT6LOX4463WFN', 2), ('A2F4IRWUX7SDHZ', 2), ('AQQWI5AH6K50J', 2), ('A2IYSJV1O3DEMO', 2), ('A1ROROTRB3OUVN', 2), ('A1J58BEFHGFXPN', 2), ('A250AXLRBVYKB4', 2), ('A3AEZK7XY1C504', 2), ('A32WSR5H1JHPJH', 2), ('A2CSX14E6ZNOI', 2), ('A11IXJ8M1JO296', 2), ('A1GDL1KDELI59Z', 2), ('A7T5D0EKE1ZOG', 2), ('A1CYA8PU9B9EYR', 2), ('A25JOG458SNPVH', 2), ('AGZ1J2KEFSFLA', 2), ('A1XKVHS0TINHB9', 2), ('A30JPZ9TZ7I61U', 2), ('A1BN3ABCY42L3F', 2), ('A3I9C367993E06', 2), ('A1TEXTRT6XO0KF', 2), ('A173SJMFAI6BI8', 2), ('ASUS7WVZXUC0Q', 2), ('AEUKREXBA5HGR', 2), ('A29WHGY2W8STRK', 2), ('A15LP8Q759M39G', 2), ('A3UWGZO2WTBS5Q', 2), ('A2R2Q78T2YW3CV', 2), ('A1NT4S0CGZ1ZHE', 2), ('AZCRQLDSPJ7Y5', 2), ('A1HZ5V1M6A18BI', 2), ('AJM0H7O4IFGTI', 2), ('A3FNPYC0OIYWKZ', 2), ('A2NY23HY9P4F48', 2), ('AGFFF8TSKHJ3R', 2), ('A1OMK388F2ELFE', 2), ('A42QN9MM6LKKM', 2), ('AWZ9FUK5D36V7', 2), ('A128NGWTTWXKU', 2), ('A16IKH13T6XE1R', 2), ('A2O1HTMTUKSMEX', 2), ('AYQWQ83PPCX3O', 2), ('A302MTV68NJIPM', 2), ('A3SBF7WGVTMD2F', 2), ('A2MTDUL8EMM6PG', 2), ('A1O79GW4HHFO7J', 2), ('A3J30T6XOU0BWS', 2), ('A8LWQP2Y0HOOH', 2), ('A2G89SKXX19LWB', 2), ('A9HWEXN9BVXCZ', 2), ('AP96X8MZV4CR2', 2), ('AC4UHSIEKM35K', 2), ('AGKTBRG9GCLWK', 2), ('AB2DXTUIFAB3L', 2), ('A2ZW48YL2KRLDM', 2), ('A240XO54C9U25Z', 2), ('A1J5L0BRQLQFIT', 2), ('A1IN4Q6K18F53J', 2), ('A95FA212YUHPZ', 2), ('A21JSQVOW8PMGA', 2), ('AYYWJZ1XRTD29', 2), ('A1UQC38I5LM9OW', 2)])\n",
            "('A3HE9VU3HGK7TJ', [('A2HMF8ZR67BNZS', 8), ('A8QNV14F7U8O4', 8), ('A2AWUM32L783DJ', 4), ('A1ZH8D7ZPHMOQY', 4), ('AI19WU0782CTV', 4), ('A1HMYTI1US8J3O', 4), ('A3FRPRII69O8GM', 4), ('AZP2IKABLMMGE', 4), ('A25Q33C6TYGC98', 4), ('A3LHXGE1ZSO2VE', 4), ('A3201WX1T04R1H', 4), ('A3BEGVX9FW8KEV', 4), ('A1GPRX0CQ5LNDR', 4), ('A2T5WXHN71OGR6', 4), ('A2E14J26DQZOAA', 4), ('A23C6AOWQGUIT3', 4), ('A124CX9PR93OLY', 4), ('AM9HWE7DE791U', 4), ('A3T1B26JPSSY13', 4), ('A2PL4XNK9QYFF9', 4), ('A2WVWM8RZO8TFB', 4), ('A2NP1YML3253NS', 4), ('A25CJGNQEYT0BP', 4), ('A2ZI922UMJ9N02', 4), ('A1O0GGN7I1L7MJ', 4), ('A24SRVT7BA2XFA', 4), ('A99BFCWV6L1JQ', 4), ('A38YIYGG65TZZ1', 4), ('A1136OGGVJ2PNP', 4), ('AO09RWV40IX78', 4), ('A1Q2N7WOIDHZKQ', 4), ('AFJQ74JJ2MFHY', 4), ('A2U4RII44V85MH', 4), ('A1SKN3OEMHN5UL', 4), ('A2WJME7GGHJRNN', 4), ('ATNG0DZITRXSU', 4), ('A7MHN8ZV8JPNT', 4), ('A3B26ZIQYUCDRO', 4), ('A2ZLNOQ9F5TKH7', 4), ('A2AB2P6TJ4G599', 4), ('A2DZA6GKVX36DZ', 4), ('A12Y2YEYK7VZSW', 4), ('A2P63D91BO09G7', 4), ('A3QZ3LMVUJXEPC', 4), ('A1W6KWQV79YDC2', 4), ('A93GP06949TME', 4), ('A3J3RCD6TEJGS4', 4), ('A2K9BQAJOSLOXW', 4), ('A2S7XE53NQ2ODI', 4), ('A25ZAI6XMNPVAW', 4), ('A1G01B6JHOXYAQ', 4), ('A5A2NNB6FQ1J2', 4), ('A1RUO9T73M8A9R', 4), ('A1O3Y2SBX7R896', 4), ('A2C2FWRPPKAEML', 4), ('A2I0ABGXLFUPL4', 4), ('A2SCZ5QHCDZLXQ', 4), ('AMR9VLREQ3Y1Z', 4), ('A2MPGGLIS9WIYQ', 4), ('A1SG4GB542V9XH', 4), ('A3KGOLWVNPWKNA', 4), ('A39BWUFBDGZM29', 4), ('A2F5GTQ6495836', 4), ('A2J0IR7A6P4OG3', 4), ('A1XABK7EB2XG7R', 4), ('A2IW5P1NA5EK60', 4), ('A2JYHJEL41V8NW', 4), ('A1G1WJ7D0I4HT3', 4), ('A1KJ2VZNTWPIUO', 4), ('A1UM3GE99QWGEV', 4), ('A26WW93U6K0PO0', 4), ('A1VSHEIALT4SL4', 4), ('A3FHDF143WLZMC', 4), ('A20HEMQBU27HYI', 4), ('A3RMI8YLCWVCY', 4), ('A2NVELLVSRT63R', 4), ('A2VTSRHUC6TU09', 4), ('A3IXJJGFQ8CAKR', 4), ('A1VP8G8JHTRXTR', 4), ('A3ABYUZI3IG8PZ', 4), ('A3FPJDJQLI9QFY', 4), ('AY1AA0UJDWDEL', 4), ('A2M393G11UCHX1', 4), ('A1GFDXTZD0IIUF', 4), ('A2GTBEL7DQCHPM', 4), ('A1ADZIQTHNXKXI', 4), ('A2PW29SY7QZ6YM', 4), ('AMD250GWTJYEV', 4), ('A3REFT28XAMFVD', 4), ('ATZTMECCZ5WC8', 4), ('A3W4UP7RL0FR60', 4), ('A2YSUJ10BYB1JM', 4), ('A1U0JTRGGRVYQJ', 4), ('A2AE7LZDQU164Q', 4), ('A1F3C9BJWQWFLN', 4), ('AW98MTP4YCO29', 4), ('A3VLHYA0L8N6M7', 4), ('A1YU3SAW0XHQIY', 4), ('ARBQV7MFTJJUD', 4), ('A2C4GBBIVI71LY', 4), ('A3J9UQXMZRWW0O', 4), ('A6JXSJJIN0G40', 4), ('A1NCBJ555IO2H9', 4), ('A1AKPZULRAG5PL', 4), ('A2QZ5DZDHJSRWR', 4), ('A2TRSS508DIKCK', 4), ('A1GATEWCS35T61', 4), ('A3APN4ZJJJY22M', 4), ('A2ITP3AYR6JU2K', 4), ('A3KTVXSMCWP0XQ', 4), ('AF0KVO1IOCLXT', 4), ('A3841OH5SMWSG4', 4), ('A2H15TB2WY9ETA', 4), ('A50XTORNYM544', 4), ('AT0CF2RA9EZHG', 4), ('A1OO7PAHA97GGP', 4), ('A2WJGPMNXES3NW', 4), ('A1YYQ8JW7RDMLI', 4), ('A3VLAX39PVEV36', 4), ('A2KJEQWDNQY3QG', 4), ('A135EEFOPQTJ1F', 4), ('A2WY5IN6Y27L6Y', 4), ('A2DS6BOW4QMPVR', 4), ('A28SPU7JW99J3E', 4), ('A1FN5S4LKABXTD', 4), ('AZRB5ODL3X3NY', 4), ('A2YFH9E1AUN2NC', 4), ('A2ZLN3IW9G4K3F', 4), ('A3BMJEBBRLPP3G', 4), ('A2JUJC0CI10OTH', 4), ('A1V4KCRX0MKI5V', 4), ('A1GDFN0FYRZHXV', 4), ('A2CL3N8Q0M8NO1', 4), ('AZ4XPI882PXN0', 4), ('A2R00DAAZLEMB1', 4), ('AUWLJOZ214L2C', 4), ('A2KA2SXMBH47WI', 4), ('A3KSKFUJXFV9V8', 4), ('A1JKSY2BDRV78O', 4), ('A3QMSFRVJAZ06N', 4), ('AYYLYCRIUR0B2', 4), ('A1RCOLKK6BLC6U', 4), ('A1UBPP87GHH35W', 4), ('A17C2WCKHV3Z4M', 4), ('A3RTQU3PVQ7RHW', 4), ('ARSRGU5X611E1', 4), ('A3G523R8W642DE', 4), ('A1T4ATXNY4FQB9', 4), ('A32HK5FTYZMKB7', 4), ('A1J4VED1MQ09HW', 4), ('A18WC6AIQVFT0Z', 4), ('A20MIA9LW4M36I', 4), ('AWGROQYSH9KHJ', 4), ('AWEQSILGPJFYY', 4), ('AOTTR26V3FBZY', 4), ('A2BT0W5YWIK981', 4), ('A21ESIT8E234BO', 4), ('A2Y1R0BTSW56LZ', 4), ('A1STQ8QF2S0SF6', 4), ('A11J18KJ6JBMQV', 4), ('AJLZOLEVIAA92', 4), ('A2LF9A2RK5OSS1', 4), ('A9OMHKQ8ZRQP9', 4), ('A3LZ18CCIN0RM0', 4), ('A2O0MU0431UA5V', 4), ('ACX7ZPTHDFT2Z', 4), ('A1U2QNKAYVBKMV', 4), ('A3OIE7IE9LTPJG', 4), ('A12J61DPL4H7H9', 4), ('A1EYTY4AR1F03Q', 4), ('A18YQ7YAO4ZCGB', 4), ('A124RG2PJ2N4HV', 4), ('A2ECZ7KKGTB973', 4), ('A16E9YXBRFX4G4', 4), ('A1NKUWQHQWAZNE', 4), ('A2IT5ABX1TAW5B', 4), ('A44UIXTC9ABS0', 4), ('A1AFS9M75F17IZ', 4), ('A6TS5ZIFWMAQ3', 4), ('A2I85CXWERIJVM', 4), ('A3RJUTQG3Q6UUW', 4), ('A3HX59CB1YUGLJ', 4), ('A2S7DH8YJJTAKM', 4), ('A27V4ZXJCQ6OHI', 4), ('A2BQGOM8XAVZDX', 4), ('A38PEW5QXSKTXR', 4), ('A398LB1WIHFC6K', 4), ('AM68UIIY51RCC', 4), ('A24RMGMOIXC88V', 4), ('A18F8S90XHSBJL', 4), ('A2JMJPOKHZL1ZI', 4), ('A21SFLWNKIGUA9', 4), ('A9DTFZ6HOGHFR', 4), ('A2LOZZX0E56N3L', 4), ('A21FO1FP54DH6I', 4), ('A1OHL9G55LD3NQ', 4), ('ARWF6I1341BFA', 4), ('ATPJJBSGCPGO1', 4), ('A2YEZ8Z3BW2SKG', 4), ('AWGF09K2ANJ16', 4), ('A3NSRQTXY7ZLV9', 4), ('A190T8P0CDAKLJ', 4), ('A1FS8S3VKGUB03', 4), ('A1EZ5G1R2QDSDJ', 4), ('A18D038A6R3NIN', 4), ('A16S2RR2E0P6AF', 4), ('A3HE9VU3HGK7TJ', 4), ('A3GLT311Y1VXL9', 4), ('A347PYPZFUQHTQ', 4), ('A2VYT6KK2SZ8B7', 4), ('A1P4PE8LIJ1MUK', 4), ('A2EFW86N1W5EU2', 4), ('AYU3SN4ILK7R', 4), ('A2H97KT4GZSWOF', 4), ('A3GRK9772HQLM2', 4), ('A146UFOY3ALHC1', 4), ('A131FOYJSTX39P', 4), ('AQLFJMVN79I7V', 4), ('A24IYZ80O60DTP', 4), ('A3WNIMEEYRA2X', 4), ('A1U0D4MXG1D3UE', 4), ('A2I86NXJPPH0PQ', 4), ('A1UHMLD5TVEEIM', 4), ('AZE6K11FYN4O3', 4), ('A3T2XLNC5PP9EG', 4), ('A30LODBHUCJ8G0', 4), ('A3RM5UJUL5MWMT', 4), ('A10X3S8SDWOS30', 4), ('AVF38JH489LR3', 4), ('AZ92CZHVBFUPX', 4), ('A3205PAR0AANJH', 4), ('A2M9LGDZY5UMXX', 4), ('A7N1A07MIEXYW', 4), ('A2PR9U0I2K3T2A', 4), ('A1Q280JQ192Z7D', 4), ('A1V0X0UQELUWTQ', 4), ('A3HX13IFJH0TMW', 4), ('A2E2IEYWWNU4T5', 4), ('A2CC963DUW4CHR', 4), ('AV8BNHXI96VQ', 4), ('A1409EXR36XX4T', 4), ('A1TWXFSLH882QC', 4), ('A2DKC5I9NPZ4IF', 4), ('A2Q1NU40QODAXT', 4), ('A3H3S9JXY2Q9VM', 4), ('A23AQVK82FKZRK', 4), ('A303SFIHFMIFJC', 4), ('A1H6TK4JX6VH0S', 4), ('A1ILMDO2212ZZ9', 4), ('A1IX2I4TE4RJ2Y', 4), ('A31HG8EAS9R9YX', 4), ('A2V0XY1O9XZ3C5', 4), ('AY8ZWZQ6D93C3', 4), ('AXZO54VKBVJPP', 4), ('AN8GFNAFNV6KC', 4), ('A2PM58RER4K3XV', 4), ('ASY25YMTIC2A9', 4), ('A3SF4KXKS36V71', 4), ('A28T28HI7O484Z', 4), ('A1723P21BTYP7U', 4), ('A12Z049QSEL46E', 4), ('AZW4SZ9XHXYAL', 4), ('A2IMRTPCOY7OX5', 4), ('A2WQ9XWTV61VLN', 4), ('A18S92PXFZABKV', 4), ('A2NXI0NSQBIJZR', 4), ('A1A1UFNDJM6YDB', 4), ('ASGL4FBI6GZW0', 4), ('A1RHH0NWEILSDB', 4), ('A27Y2U5QTXJ5BE', 4), ('A1B4U8HATDO7M6', 4), ('ALLSZRJL9YBCO', 4), ('A15DZOS6KVANQH', 4), ('A1NJ1QHMQRXBZ4', 4), ('A24OTW429HNRWC', 4), ('A2NDL540CLLHNN', 4), ('A37M3FQL9WWFRD', 4), ('A6DIJLB34DLTT', 4), ('A3ETNDBFI2Y61S', 4), ('ADOANPOQU2SVT', 4), ('AW0NP10Q4BQS9', 4), ('A1KJAK283D110I', 4), ('A29AIV4OFTJ1TT', 4), ('AUYNA9G3UVTFM', 4), ('A3EEXI428MXVGX', 4), ('A2K9A51DWAM921', 4), ('AZ9PFYTO79YA9', 4), ('A2LWK65Q3H7JEU', 4), ('A1OW9SNF0E47SM', 4), ('ASL8V5IZ8FKVX', 4), ('A1EMNPKAVLR06V', 4), ('A2O40EG53SUJ8L', 4), ('ACC18KHS3WZAQ', 4), ('A150ZVJDPHBL7S', 4), ('A2PBRP5PJOD9JC', 4), ('A1JZGC3KVPAJVL', 4), ('AKOMCT01A2S0I', 4), ('A3V7DO24D4LR53', 4), ('A1SA7ASHX3QKUO', 4), ('AY8JV2D8A80EK', 4), ('ATTPXYIN756TM', 4), ('A353B6H51LCHSU', 4), ('ANU0095EMJBCT', 4), ('A2MJLPCNO7F17C', 4), ('AV1R81D220BDG', 4), ('A1VYU7DCJ3GA9E', 4), ('A20K0NM5FTNXN0', 4), ('A2MZ0ZBVG73TIT', 4), ('AMZL5L6APAYZB', 4), ('A2B12XV06AW08X', 4), ('A1WEZ958B8TTN2', 4), ('AH0AWGP1NAQ3K', 4), ('A1QE5MV039C0KW', 4), ('A178YOIHLENHM5', 4), ('A3KHCD45RYR2VG', 4), ('A2CJEEK6WCLL9J', 4), ('A1L7CMCMWWMLWU', 4), ('A3AK5N20855WVQ', 4), ('A1RUFIARHJEIQH', 4), ('A27GN92K8XTOHG', 4), ('A2ALZMJI3BB728', 4), ('A2014JCB1ZFW0H', 4), ('A2L6M1YMZLXHRJ', 4), ('A1VMDA2W2ML5GV', 4), ('A17VL8WR5VUEB9', 4), ('A2HSQNJWL23SSV', 4), ('AV0ZHMTB9UTEL', 4), ('A1AG3MZPK25F23', 4), ('A3KVV8JFC2G6WA', 4), ('ALMWZRPTFHRXQ', 4), ('AHA4F2MXWRC42', 4), ('A2MUH68ACGPNIM', 4), ('A29T0OG8AXL8AV', 4), ('A1UVE7EYRV2OUM', 4), ('A3XV3XR6ROUJE', 4), ('A2IIWWE0HOGN4B', 4), ('A2RN7Y3BOCWMFJ', 4), ('AR85L67UEBGYR', 4), ('ALDAH96PGK3MU', 4), ('AFK1M5G1IVKGQ', 4), ('A3HKHSWA961YNF', 4), ('A1HTLWF0UZD2VP', 4), ('A3M5EFNX0WMXE3', 4), ('A12OJZXCN2Y5QQ', 4), ('A2719SFK7LHB6P', 4), ('A3VUBR1FEUALX8', 4), ('A29ENJ5KUOH57X', 4), ('A1031BS8KG7I02', 4), ('A3MLF5UTXISQ5I', 4), ('A1SD20P3IEZSUL', 4), ('ASQHVM51PVDBD', 4), ('A1TKCCA3CLYUQH', 4), ('A1HQPOZWBZT1L2', 4), ('A1YWVIPKKRMRL', 4), ('A17NZQT2Y4Z2IW', 4), ('A1VHHQZLH2FWGL', 4), ('A28351R25L3MUL', 4), ('AQ25BAJGYCRYY', 4), ('A35P3N3NZDCFXA', 4), ('A2SMQKWWPJ6162', 4), ('A2W5UED3JU3AYC', 4), ('ALAN629D6EKQZ', 4), ('A2MVMOJBVVJR6I', 4), ('A2ZXTZFV5NOTHZ', 4), ('A1E92F4FIKODI6', 4), ('A3RN9XN3OO8CGA', 4), ('A36OKJ3BU44RIF', 4), ('A2ZOOHAGJH757U', 4), ('A1FQT3AZDGJBX', 4), ('A8Y9GTKRY151U', 4), ('A2FYO2WGTEVOTT', 4), ('A2EKHJ5AW6XKCD', 4), ('AIL7KO1U5Y5HZ', 4), ('A1YURCSJHDUO5N', 4), ('AHQFWUN77ANXB', 4), ('A2AV4OOQ9TBYF1', 4), ('AT2Q06W05OBO1', 4), ('A2YGT2CIJ8AG7J', 4), ('A28ZYFUB536W7S', 4), ('A1GO939KXET3A', 4), ('A2XP3UYK4UNFYL', 4), ('A3ATTUIWV61VOD', 4), ('AO462X5V79Z9N', 4), ('A3QGWIBB2M6D05', 4), ('A38LVB5X9VXPO2', 4), ('A300PUX7E1LX97', 4), ('A1OM2T9KX008LE', 4), ('A2U5ZOOT8LX8VZ', 4), ('A9KC6X03PUF2P', 4), ('A21718GYP1XLA8', 4), ('A38RMU1Y5TDP9', 4), ('A1O0TDF3ZLR46Y', 4), ('A2OAIKW2C6CQHM', 4), ('A27JR5BYIFVRLQ', 4), ('A11P3KTGBGMZR', 4), ('A1OI1SYR7997S5', 4), ('A2ZMFWT0XUZ2FE', 4), ('A3W1WINL67DMTV', 4), ('A1CWXCUDM21O41', 4), ('ARQGKZ4SQ0SQS', 4), ('AQURWFHOSBQH0', 4), ('A2ZA47332X5R3T', 4), ('A1FDCYBST7O31U', 4), ('A3NZEXK7S14YG', 4), ('A1PNYV4N6Y3EHW', 4), ('A32D51AGXQWZ1E', 4), ('A3GDKSWORJD7S2', 4), ('A1V6MXRRXYSJPC', 4), ('A1PNUQIIRRQISI', 4), ('A35QYAEXILV8F1', 4), ('A2DPJHHC9FIERY', 4), ('AFJ5HHYFPNM5O', 4), ('A8HW0K9UV77KK', 4), ('A3Q3J468SIEG0L', 4), ('A2O9T2DKB1AI7D', 4), ('A39YOUQ6NOGMFV', 4), ('A28IZ4FEPJHBMV', 4), ('A1F1HXW0KZRJW4', 4), ('A390EQQ4OUJVH', 4), ('A90WU8C1TOU31', 4), ('A1GJBZQ1XHR06R', 4), ('A5K29UKOH4DU6', 4), ('A2V96JVJ01FPYF', 4), ('AU9NEN7VK9SK3', 4), ('A336M4499P4DZ6', 4), ('A1QPNFQ5LZGWYN', 4), ('A2A18VNUX1D9HW', 4), ('A3FWLR0UW1VNCF', 4), ('AWQ28Q6L7K78X', 4), ('ACA54LL6I032W', 4), ('A17DIA6N0PZTYS', 4), ('A1W907YXUEVLNC', 4), ('A3VGKIXOCZ18UB', 4), ('AU8C0E965U2QI', 4), ('A3V0V1U4S0UM5G', 4), ('A3NJGMHGJE0ZC3', 4), ('A1GKVEZKGEWFHJ', 4), ('A1OJU4I8E96AF0', 4), ('A8I7KGUPZL78D', 4), ('A1Y5VVYAQGLCRR', 4), ('ARX3DR58BUQSA', 4), ('A2WUONPQDQ42N6', 4), ('A2BD3W3OKTFBKI', 4), ('A15EY626VK58KG', 4), ('A15XG2PBR6KC5B', 4), ('A46S4CY1RME1T', 4), ('AX32332940G3T', 4), ('A15F40CWL4IL9B', 4), ('A3DV0I18XZ8Z86', 4), ('A2G4LED23WZKUG', 4), ('A1FN8O0WHM86SX', 4), ('ABK24ZQDEDX2X', 4), ('A1UDF2QA5DKDFB', 4), ('A1JPHZEB166GRN', 4), ('A195WC0I2D6E17', 4), ('A2QDOJFFLFGF18', 4), ('A2FM7XAS43RZ8W', 4), ('A24M0Q8JZX7AC7', 4), ('A1WRUW9AFEV67M', 4), ('A17ZQH0KXIJ6MR', 4), ('A3MPK0YPQK2EBX', 4), ('AMV4V0UWH9HSO', 4), ('A36RIDRMDE2RF1', 4), ('A2O8L2E85YMGD3', 4), ('A1OA27GUTRRPUU', 4), ('ADSNYEHRANX9A', 4), ('A1DWIQ5U9UBAB6', 4), ('A1MI3W9A0JXA44', 4), ('A14PVYX20TK9TD', 4), ('A1I34BUO9QK3BZ', 4), ('A3PTUR1DN3D7Z8', 4), ('A15PMLRS46NZJX', 4), ('A3L1BNBV4SS1H8', 4), ('A3KDNO79V4PY53', 4), ('A1EGD5CRGFEORQ', 4), ('A2BTQFFE19HKAG', 4), ('A2LT8OBXIOBV8U', 4), ('AY1GB2K46W6ZK', 4), ('A1T2RO4T29TNUL', 4), ('A1SIMU74WW269A', 4), ('AX7B9G0RA1QKD', 4), ('A135R0GHEPD0IN', 4), ('AZ8TCOZS1T2DA', 4), ('AP1N9Y6K40YNW', 4), ('A26TOHFHOTHNHP', 4)])\n",
            "('A3MRRAWA34NOYL', [('A3MRRAWA34NOYL', 2), ('AQM7Z96BN4Y2N', 1), ('AYSY1LBMHHMTQ', 1), ('A1NQT00P2PISHD', 1), ('A2ZJ00IS8ITCO4', 1), ('A3INN916E4VION', 1), ('A3BPKUEXMPQIWU', 1), ('A1NQ1D1DY7WLWA', 1), ('A3NNY8R9X6XCSS', 1), ('A6YQ9X6DHY8II', 1), ('A2RLON0HCIFXFU', 1), ('A2OI5XSJVK5UXN', 1), ('A3SJ20SFCMO0SP', 1), ('A3BWDXITS5GJ86', 1), ('A12OW6NNUKYAR9', 1), ('ADZ56FDHLPRSQ', 1), ('A2PJL7XNZYV654', 1), ('A2PHJY3DSUF27Y', 1), ('A3KB8TQL4QKTBQ', 1), ('A39F6S9OFDFF1N', 1), ('A1Y9HSUMB0RY9B', 1), ('A3UPMHD4JMRRC0', 1), ('A2O4V3MCB7EPPU', 1), ('A3DUFJ6DKK11PU', 1), ('A2T6ESX9HYHTSE', 1), ('A261AAOYIBHJ4X', 1), ('A18EKQMJ0TK6K5', 1), ('A3B1O5DOHRNWOV', 1), ('A1PDMY96YNF8LW', 1), ('A37X3SF8DD792C', 1), ('A2V9VS4VWCSCNK', 1), ('AA778RDQLT49Q', 1), ('A3SDC426NPSMQE', 1), ('A34OXT1MVOMZKA', 1), ('A12XUDREC0X0Z3', 1), ('A2TYIYLNZVV5H8', 1), ('A1XVG7ADHTNMUZ', 1), ('AKJYMFM3FWB58', 1), ('A1IXTFLF95GH84', 1), ('AD6R8DHFEI88L', 1), ('A3LMK22C4MR4TK', 1), ('A2XJBXV9XU5T8H', 1), ('A3VEXXZ7M8KDSJ', 1), ('A2WE93LJX8PMT1', 1), ('APNG6RVAGI2YH', 1), ('A3V0S5ZWGD26X5', 1), ('A1L29KMKRVPCC0', 1), ('A28QOJWB4AON0Y', 1), ('A3VMZSS5OT3SCT', 1), ('AI173UOF9KOG', 1), ('A31ZWSLG7NGCOU', 1), ('A157TZQ7ERHJ8A', 1), ('A1RUKN62000HSB', 1), ('A17SI29DNSK3HQ', 1), ('A2RLC4GCNA91P9', 1), ('A1CCHM4BAHA5PZ', 1), ('A2333842WTHK5V', 1), ('ALYPD9GXZ7NIW', 1), ('A1Y6S5RSSWC4HL', 1), ('A1D9FXN98XXFR9', 1), ('A1VJLVA3L07S23', 1), ('AW07NZ2EGA8PP', 1), ('AS7SJNWEZ1EHI', 1), ('A2NHL1JPU0AW4U', 1), ('AEH7VCOM8MOWS', 1), ('A1TNSJ76L2XTA3', 1), ('AHFI8RJ7OKUSQ', 1), ('A3A36VG147MKYA', 1), ('A3MV6OUJ8WVZ2Z', 1), ('A5GPBH4XAI8GU', 1), ('A2A1N7LK3DIJGA', 1), ('AES6VEI9TBCD5', 1), ('A2FZ6WPOFSTUX9', 1), ('A1GTB7WOHAT36P', 1), ('A9KKBIQGYK07I', 1), ('A33WTGLRBT6U8E', 1), ('A1QZ0VTH2WZTIZ', 1), ('A3PUJHAZ61SJ0', 1), ('ATIF38DSX10R0', 1), ('AXLXRPRCSVK9T', 1), ('A2DRLHIIXJZPJS', 1), ('ADB90MEWJ1SF3', 1), ('A17HJNFI9RNMCK', 1), ('A1CFWRWEE77MDJ', 1), ('A2K8S2GK8JQPR2', 1), ('A2VCJWTSPTY36', 1), ('A37DN8W7LPSD1X', 1), ('A1UX8ESH5KGGGE', 1), ('A2RNN67QJ1730M', 1), ('A15UMLCX94MHI2', 1), ('A1CZ8RLK2DH4M3', 1), ('AHX7BZOLMAGRM', 1), ('A5HC239CMI1PS', 1), ('A27RUGFKK525RP', 1), ('A11SL8L11XZ20U', 1), ('A2KOY7JHT77C9Y', 1), ('AHKX05NRSIJUR', 1), ('A1H5VQWW45SJ2P', 1), ('A20BV8REQQXB8R', 1), ('A3KYKEV7RUXV1F', 1), ('A38V7L3NJW9OF7', 1), ('A2MNBUL4R2GRL0', 1), ('A3TQZNLV2AKMPR', 1), ('A1VOR8PQC226Q4', 1), ('A2M4BJK1LPB2OW', 1), ('A3CZ3FQN3IMHZ3', 1), ('A197GGLOHDGN5S', 1), ('A221HQ25HKA6ZO', 1), ('A2CFJINH3PLRLE', 1), ('A1ADY5NJ7V77KX', 1), ('AGHZQ3ODLTDQX', 1), ('A1BW55A7M7N5Q4', 1), ('A1QVG4SF5KQPCR', 1), ('AIMCEFVATKSBP', 1), ('AT858NQPM9T1W', 1), ('A13CMZ8O2KJM2Q', 1), ('A1LV28UZ40BP79', 1), ('A1ENS5TRZ5E0P1', 1), ('A3F2F46CEL0KO2', 1), ('A1H4C4GKSHVTJ1', 1), ('A2BGUL667SVQZW', 1), ('ANI33HTQH0SG2', 1), ('A3MI6UC4QAG10Z', 1), ('A4PHS4QB0927J', 1), ('A93AW8UE0RPMZ', 1), ('A2VIFAUF7OT5B7', 1), ('A14976VK4N3VGP', 1), ('A3UBAYGABPZN1O', 1), ('A33BL2NY8E4MBI', 1), ('A3H2N6V1ARBP4Y', 1), ('A2Y7H97IZF5N9X', 1), ('A3VOQXY21P2FV6', 1), ('AM4AJXIZ7RRPZ', 1), ('A1I27UBHKLS1X9', 1), ('A3P18EMQUVP1G', 1), ('A2XV7CDPV08ZUQ', 1), ('A3U4BEN3W4Z3BW', 1), ('A3TMZJFLP614PK', 1), ('A1DOMM7SM5L0YR', 1), ('A2HP1IV7F3T5CP', 1), ('A1HE3ODBVHRC00', 1), ('A38VOO6XKQZNT6', 1), ('A2YCMNH62UHQPP', 1), ('A375NF45A1MDWI', 1), ('A2KAZ7NG3PE5ZT', 1), ('A1QEJ0ZERIF966', 1), ('A1IZKIWKQB9EMF', 1), ('A4D4TXCFRFM3O', 1), ('AFI31YAG8G1VD', 1), ('A1O9EA2S7T76DI', 1), ('A4EH20YR86KSR', 1), ('AN26HE2U6ZLRX', 1), ('A3EEJ35LOQ17UX', 1), ('A11U5IEZN6EEIP', 1), ('A2KGVSB8P5XZGN', 1), ('A37A8IL1WZK4ML', 1), ('A1QS32DDTA5YTM', 1), ('A1P9ILG1XROQ09', 1), ('A3PRR7ENWM8SMB', 1), ('A2H3M40UTEJVDF', 1), ('A3PQXF3RH79MSE', 1), ('A36Y8IWWDZUH38', 1), ('AK1LZP3IW2SJ6', 1), ('A23QCJFEI616K6', 1), ('A3UYQ6WSXJABWV', 1), ('A2QKQ34YSBEQFO', 1), ('APCCNBGNSM7X2', 1), ('AT94R8432HM10', 1), ('A2ZMS4BH0SHMAP', 1), ('A39M3ZHV1OG18R', 1), ('A3R6IXKPDPYG9I', 1), ('AL4M2DXEUV03G', 1), ('A13MCQIJF3WCOG', 1), ('A2Q5LBI9PL5RYB', 1), ('ASTNQ9X9QDFWN', 1), ('A1ID91JDOMBDGI', 1), ('AUQQI0MYJI8NQ', 1), ('A331DVV4EOND6A', 1), ('A3JICN0G1GZY9G', 1), ('A17A4SRENPLQAL', 1), ('A11MQJ2XYI12RE', 1), ('AOVV2XPAQXCCR', 1), ('A124QAP5HP7XNX', 1), ('A21SN7JKDGA34M', 1), ('A1TLQX2WU1JU9V', 1), ('A18F0F6AO3AJ8F', 1), ('A3O8OORDK17OBT', 1), ('A1LA9NU75MMVE7', 1), ('A1ELCQYKGM7Z09', 1), ('A3EFALG5HYI4WN', 1), ('A2D278XR2DR3IN', 1), ('A1QB6P4BRM0CLN', 1), ('A3S6D1WZGCJO8V', 1), ('A3HCYKCGDDBVII', 1), ('A1OQ42RUMTN9RP', 1), ('A2IQP1DAG8SJ89', 1), ('A3G9Y0JGZI8MOS', 1), ('A10KQ8LL0CZQ0V', 1), ('A9XILDH9Q2V29', 1), ('A1VHHQZLH2FWGL', 1), ('AETLX7ZEZGOMG', 1), ('A252T6Q57GPIM0', 1), ('AK3HQO5MX7N3S', 1), ('A3UPGIV1ZNYSPZ', 1), ('A3A2XQ34N6VXZ1', 1), ('A30VN4L591S3UX', 1), ('A3OQYR0DR0QGX5', 1), ('A3GE4A3XH8F42M', 1), ('A38H3FL8EV08XJ', 1), ('A1PL8YAS392BWW', 1), ('A14VPRQY2SDDNM', 1), ('A1M6M6FT887ZKS', 1), ('A2DPQ82V9HI4TJ', 1), ('A1RVE11UTNSQPD', 1), ('A1X2LENOF84LCQ', 1), ('A2RPPU52P1Z9LG', 1), ('AQ1MSEUSNAKHP', 1), ('A15O660R07NV0V', 1), ('A3FAMLFLHQU366', 1), ('AZ50O9DENOC0D', 1), ('A2HJD5NLDEV5KU', 1), ('AAONZ50U9K7NW', 1), ('A20KM6CVAUG07S', 1), ('A295JB7QMSSA6S', 1), ('A3LQ6QXNNFPLLA', 1), ('A2QE27YO4I53CM', 1), ('ATZTIU71681SO', 1), ('A2BEJRSBI64PA7', 1), ('A1EFX25N2C3F0P', 1), ('A2LZUB62KC8QB8', 1), ('A2SO4R9N9H13B4', 1), ('A1MUVOVLEC0WUB', 1), ('AWZ4GBBTVPDD0', 1), ('A1VRH2HFG9LPMO', 1), ('A1PXASLE6QSM57', 1), ('A26M5C0G9MPS5N', 1), ('A57CXZLHMMNVJ', 1), ('A1W8AO7GHHX034', 1), ('A2E9V4Z4Q2GGS7', 1), ('A1K5BXQZFQ2BH5', 1), ('A3RGTKX0GZ3QXY', 1), ('A3FCQA9XBY3FEE', 1), ('A3Q9WEODWAOLH3', 1), ('A1VABO03PD4Q5Q', 1), ('A14B8RF59W9W1W', 1), ('A2U0WBJG51WA6C', 1), ('A28ACK173HABZE', 1), ('AFRSYC282G7PN', 1), ('A3GJQ3W0T0KWEO', 1), ('AXEC3RCWYLSN4', 1), ('A3HFSZRJ3QN981', 1), ('A2QCHBEXUBN2S8', 1), ('A1508V65GY0D02', 1), ('A1USBUTB9GUPZ7', 1), ('A1R0EL6H8IQ17', 1), ('A1M5MVOW5J9CGL', 1), ('A31RUYXY50FDYG', 1), ('AA4KVH94QEAAX', 1)])\n",
            "('AZL2XX95UP66F', [('A2ZFOWI93B94G4', 1), ('AR59MPG3N1TZY', 1), ('ALD9AADGX1SF1', 1), ('A3MO6XMSLQC5CI', 1), ('A17NJIDEUGN7BK', 1), ('A1WRES8AAC87JN', 1), ('A259BW4CNR2P85', 1), ('A33F2CZLG4MDOF', 1), ('A3OGTIDOCYMJUJ', 1), ('A3K8AU6BAGN60E', 1), ('A36MKT48SKZ1EE', 1), ('A3W4D8XOGLWUN5', 1), ('A2760OTUCOMBWF', 1), ('A2IBYIHWSCQHK7', 1), ('A1R4PIBZBD3NZ0', 1), ('A233BH1G1DPGB6', 1), ('A29BJXDGPRZZ6M', 1), ('A1BN54KRWI519P', 1), ('A3CC3H75JBUM5F', 1), ('A32KQ885GJ2NJ1', 1), ('A2GAR6CBJTSSI7', 1), ('A3I4Z02JQ4VZ29', 1), ('A2AN7ZKER5JGX9', 1), ('A25X6XGD2RUE3C', 1), ('A1KNO1B2QQL16M', 1), ('A8VCAYBU4YLUJ', 1), ('A3HW0FYDWOUP3D', 1), ('AMSQPHKVJZVVN', 1), ('ANEIQUS6I8RJ5', 1), ('A3T23AA1XLC42D', 1), ('A23RZIU0N8K2KR', 1), ('A3IMUU0I31XF33', 1), ('ADJ1WJUZ7MM4P', 1), ('ADXWHZUTXSLNE', 1), ('A1C3ONC58JLVJH', 1), ('ALHVEH9POH57V', 1), ('A2453GFZE314S4', 1), ('A37A8WC76QI2PH', 1), ('ADV5DDYJ4K2B5', 1), ('A16MFXKAX4WZKF', 1), ('A37F541W7RG5MT', 1), ('A1RJG9FR4WMW1B', 1), ('A26AE6PT3QB8UR', 1), ('ABY0AB9DK4WMN', 1), ('A2BNMHJ3IIANUJ', 1), ('A3B9C6MZAFC1JX', 1), ('A3AL8ZMEYAJDFB', 1), ('A1BKGBZU69CWCA', 1), ('AJQK1B2Q4NCHU', 1), ('A1C7KM3C4IFVG0', 1), ('A1JT2WNZ60UWRB', 1), ('A25UCQ4V0THJIJ', 1), ('A3FT1TX9WE7A5B', 1), ('A1KC31GANHZ0W2', 1), ('A1AO6FSK9VZVBM', 1), ('A2J4MMO1BX5AI1', 1), ('A148C4XEPCK9Z8', 1), ('A2AYGK8D17XJMR', 1), ('A17UF5BSDY0M9F', 1), ('A27V6FWDG69G6X', 1), ('A1385CL0JY3H7S', 1), ('A2RDJVM7WHUD1B', 1), ('A1NLRHC48S1KT9', 1), ('A359GKKXONNTE0', 1), ('A93OSR5GY3X0I', 1), ('A1HVOIR3GDZIZE', 1), ('A2YB4886NNF7L8', 1), ('AYFFC113F808A', 1), ('A3S122V1Z1XZO2', 1), ('A1SWR7XGG9RF5T', 1), ('A184ZFZZBWEXMS', 1), ('A3J73C6CCLJ6RK', 1), ('A37CK3S671ETN6', 1), ('A2VIXOQOV4DH3U', 1), ('A334VH4XXBMNIB', 1), ('ASSD9LJYESYG0', 1), ('A3R9H6OKZHHRJD', 1), ('A95BNBRD7T2OR', 1), ('ALTK95MGGJGX', 1), ('A337DX7CA20IC9', 1), ('A38O1ORC6DMIC8', 1), ('A9A6Z3FJ5V7B4', 1), ('A2K4QDSGBJI172', 1), ('A2XA8CW5DF4MNZ', 1), ('A221B991YB1LXU', 1), ('AUZTESIM8ZI6S', 1), ('A2VIQC85IQDY90', 1), ('A22T7TNQPR4Y95', 1), ('A3E7903YPPDO7', 1), ('A2KWW2PZ514318', 1), ('A1X97AA5LSO28Z', 1), ('A3RG3Z3DW9T3PM', 1), ('A1KFNJJTGX6FZ4', 1), ('A1I5QGRMHP8YSV', 1), ('A4QLFGSATC1VT', 1), ('A11ZFH7I1YJ5ZF', 1), ('A3IJO62UOO8K3F', 1), ('A1X09U3KB32W7C', 1), ('A38WFD1V0SDN3Y', 1), ('AZFX7FLEHCWXM', 1), ('A125PQOOOVJY22', 1), ('A2Y5RGO9LX00ZU', 1), ('A2FLEN2CRGJOOV', 1), ('A22QAN7HTA6R7L', 1), ('AU4U0ISJ875XL', 1), ('A206CPY61AHCP0', 1), ('AFA6AQYWF86LD', 1), ('A3C7KTR1AJFLAV', 1), ('AG10XWS9JA9KR', 1), ('A30ZOQNOAACUG6', 1), ('A35CV6DQ289M4N', 1), ('AOOFWCK48CR45', 1), ('A2YEO8R7AA0G1Y', 1), ('AAL34V9W3QO9I', 1), ('A1Z65IGMZ9SR7D', 1), ('A3MHX1GH2BISFE', 1), ('A1ZP6TKMFXZNNA', 1), ('AJD9Y2DHZX4HB', 1), ('A3PQXK6DVMK7FC', 1), ('A23SVJ5YBYXQDW', 1), ('A335GUD1YBS31U', 1), ('A2N18PS4RU2WU', 1), ('AZ46YG5P7DE5J', 1), ('A3CKZNWP2ILJP', 1), ('A3FPWLEVW0NXM9', 1), ('A2NW5UDW32JSV2', 1), ('A2QYHMYRVMV1ZH', 1), ('A2PD27UKAD3Q00', 1), ('A95PKRD4T3RUG', 1), ('A2QVDSOVCS1GM2', 1), ('A2CTFMY2YL0KQO', 1), ('A1ECQ8LJMXG4WI', 1), ('A2GLT67QUPVQSF', 1), ('ADX0OP5C8DX1T', 1), ('A1NQ7WS4WKJ427', 1), ('AYPEPA3VS4KDM', 1), ('A55PK06Q6AKFY', 1), ('A2VTNHHCUFI8JB', 1), ('A1I3EENJGC14MT', 1), ('AC46E8KPBMRG9', 1), ('A1J4MT3VKWSEMR', 1), ('A3FTRK4S2H4LOK', 1), ('A3JYLJBS0B2BK0', 1), ('A1AJY4M502J8YY', 1), ('A3T1IQ2K0CT39G', 1), ('A1CCZ00L3XLLM8', 1), ('AWJGALJ7YIG67', 1), ('AN7R8MEQU056O', 1), ('A577RLM624AJM', 1), ('A3KK1N7BUXHIVD', 1), ('A2RKUXWZKVTZ8L', 1), ('A1QMDYE7REBCBV', 1), ('A2DEYCMTS79D1M', 1), ('A250J0FJXY8NCW', 1), ('A6EE2QHQ92AM1', 1), ('A2ZGAYM73QA32R', 1), ('A267HO0DNITHVQ', 1), ('A2W44462BFUFXC', 1), ('AXMQG5G02SA4G', 1), ('A9TK6DNW9DOKZ', 1), ('A11KR7FUZ85UQD', 1), ('ACNGECLAPEYWP', 1), ('A2IT7S59GSASN7', 1), ('A3HHL4JYO9PU1U', 1), ('A1IJ0LJ66CFXBE', 1), ('A2JUFDHXAAO637', 1), ('A2ZGYBGUC2O3DG', 1), ('A1HHXN6OJS6ADQ', 1), ('A2TTY3BVKVYGH9', 1), ('A1GEL699H2IO10', 1), ('AU2SKKGEM27QB', 1), ('A2F7URUNLTF855', 1), ('A2DXPD5YDN83VX', 1), ('A2B3VA81IGPLZA', 1), ('A2WE93LJX8PMT1', 1), ('AECVYXIL9791R', 1), ('A3BUDUV9GORLWH', 1), ('A3D0G7ZGY2LCOG', 1), ('A3DIBRGX84SA4E', 1), ('A296VN3YRF44CE', 1), ('A1IVYVCF909Y3C', 1), ('A1M7HDF51QX1KG', 1), ('AFJFINIKFOFSB', 1), ('A20IF2NYZ4XFEU', 1), ('A2A6E1GDC23AH9', 1), ('AM7PBWBB8ATR4', 1), ('AJUQOZM0WFP4J', 1), ('A1C66LMRGMGV19', 1), ('A100CFHPG2AIP', 1), ('AXLPWBWM7IO0G', 1), ('A3CG6YLYZJXQG4', 1), ('A2FH1KKTJCP5QW', 1), ('AZL2XX95UP66F', 1), ('A3QX8851P2SPRI', 1), ('A277TO3PKKNYDH', 1), ('ASL2HC6CORCL4', 1), ('A1YC8ZO2WFMGYQ', 1), ('A2IOZ5M5I2OEYQ', 1), ('A1MSW4GEXW0B9M', 1), ('A22A2K7WND9HK8', 1), ('A29DRL3WYLVVW4', 1), ('A1HY9S31V7EY9N', 1), ('A1C826V9XWNTEQ', 1), ('A4JHEO7H330AF', 1), ('A2EDBL0WCXTZ37', 1), ('A1S313BVVWH0PM', 1), ('A575HZ0LJVLB4', 1), ('A2COGE7RR1R09M', 1), ('A2TQX6DFP0HS0K', 1), ('A1N5FSCYN4796F', 1), ('A2MMB9EG82GAT8', 1), ('A1G5DIQMDBP8UA', 1), ('A25TXAWGXMD7SX', 1), ('A3V8ZNL3RNF1BI', 1), ('AKOO2TYRAMHLO', 1), ('A10AH87OLPZCAO', 1), ('A309MKE7Y0OCEX', 1), ('A261GIK3PL0UFF', 1), ('A1IMGSJYMW0PYN', 1), ('A304933U8Y14R4', 1), ('A392CEKYCUK725', 1), ('AM25R904WN2HA', 1), ('A1BRCVMQ7C9CGJ', 1), ('A1QA81DFWWGPPN', 1), ('A351NTWO6OD00Y', 1), ('A1XUBAZHHWNZDS', 1), ('A1UOPR5GQPDKS', 1), ('A1MKFNZSI1EISM', 1), ('A223904M7JA86Y', 1), ('A2K4ZSJPDAQCG1', 1), ('A2EMTE0N2OEZBA', 1), ('AOR6RZIEAS241', 1), ('A29LYTN6L7HO0Y', 1), ('A1A44YPXT10IAL', 1), ('A47D5C32VLQM2', 1), ('A1KWXTO4HNXM3F', 1), ('A1GSUAY824143X', 1), ('A3EK4A6SVZZ8DC', 1), ('A3RL40YTFBMCCO', 1), ('AELE6F4ST9DS9', 1), ('A1AT4YHGX2QVWS', 1), ('A1ZH9LWMX5UCFJ', 1), ('A2S60IDMYRV6M9', 1), ('A1ZLP5VN8OLTQA', 1), ('A37KHYLLDLUH8W', 1), ('A3CPU6NZNKB5JA', 1), ('A23EMS4X0ER4Y7', 1), ('A3UJ3BGNFZTAL9', 1), ('A3KTOQWIOAX1JW', 1), ('AR1T36GLLAFFX', 1), ('A1XLKL4K3I618Y', 1), ('A103USS4JZN50K', 1), ('A25LR19RPRXTS8', 1), ('A17RQPA1VCKTYM', 1), ('A2NAHH0ZHQYQOC', 1), ('A1SK3L2IQLYA8S', 1), ('A3K89DIR1Y6IB8', 1), ('A3MSG4E5MLI1XP', 1), ('A2F07C7I04VROQ', 1), ('A3JLHTAO1HD8RT', 1), ('A1HDZG1VI59BFY', 1), ('A1SVXJZ3386U2D', 1), ('A2NX4G6BOQ0SZH', 1), ('A2CI1KCN3DSOT9', 1), ('A1SXVTJXIYPKF5', 1), ('A27GADI1VPO2IK', 1), ('A1O4OZHP2LFMB1', 1), ('A444EBY09KRJW', 1), ('AJ3Q1YCCFMMRF', 1), ('A1AFEJ0230S741', 1), ('A2I5DV01ZUV8U4', 1), ('A67GUC83L7J65', 1), ('A1BCIUKGX6N7AI', 1), ('A3Q6DHPCWYBB34', 1), ('A2WSAGFJSQC1YF', 1), ('A3VR7QSYW1VUR9', 1), ('A15ARCZBFXPLJP', 1), ('A2LPFAQMVYNZ4L', 1), ('A1IGV3GVF39FTV', 1), ('A3ES0W45XG5ESS', 1), ('A3MMZB52PZ8CLW', 1), ('A3SRANSNTP8WV4', 1), ('A3G06UCDH6RGEW', 1), ('A3LKNC9XL2AS05', 1), ('A2ZUVZO1CQIEIA', 1), ('A31TS9SW3D9O7S', 1), ('A1A1BM6N28X9J0', 1), ('A100WO06OQR8BQ', 1), ('AUZNNV1ZYG8J0', 1), ('A2QSSUDOVXD1HF', 1), ('A6772Q9ZBZOMI', 1), ('A2ND5PJ38SLVPV', 1), ('A1S78V0MOUYFUA', 1), ('A3PM5X6Z3B36K', 1), ('A31OLWW8C0GJXW', 1), ('A2LJGODTPOLNC8', 1), ('A1FVP6G8W3O8ZA', 1), ('A3PISDJ6R3JZDA', 1), ('A10Y723SWU2WHZ', 1), ('A1R0PCZ5AY9C76', 1), ('AM7G28JMONYMO', 1), ('A16ILKBW93JOQV', 1), ('AVKM2FDS36L41', 1), ('A3KK11UQ3X6FR7', 1), ('AXXTETPBEC9TM', 1), ('A7I7SJY5XH198', 1), ('AHAZBZRLMI76F', 1), ('A332BS08Q1MFYP', 1), ('A1G2F4L08EMS24', 1), ('A1RO932ZM1ZYNC', 1), ('A21Q70ARD2XHN3', 1), ('A3VH1WBN26YPD4', 1), ('A3CB563CBJS3U5', 1), ('A3JFXO59HP0JHV', 1), ('A186PLNGEY2F9X', 1), ('AG1SUB386KT63', 1), ('A14WF67CUR3SUJ', 1), ('A3H19949DTO802', 1), ('A248UQ9YXAMO9Z', 1), ('ARXXVTC92XKHU', 1), ('A2V63C6ND3ECO0', 1), ('A1805KET2CBE7U', 1), ('A3VRJ78CCIMV7Z', 1), ('A35MLIRKBT4BYA', 1), ('A3ADADIUY2VMQY', 1), ('A13Q5LKLFYEF3Q', 1), ('A2POA08J9NX44S', 1), ('A26QSJ79DIG4UA', 1), ('A32Q9FOJ1MJEHF', 1), ('A19SHIMZDF8YUW', 1), ('A3LXQMXMP0XBH2', 1), ('AQDJDWP47PQT0', 1), ('A17OGRGX1EMDRR', 1), ('A2ZW5BCB2YWT39', 1), ('A1MTVA7JWWXVZ', 1), ('ALZ3I07P1CN7C', 1), ('A3VQA04J03WR5W', 1), ('A337SZO4X5CVYJ', 1), ('A37MAQ1WG6S4Q6', 1), ('A1T2BMX629OT2X', 1), ('A3FGXDP2117TD7', 1), ('A10JVTCCFCSLA1', 1), ('A1F7MPKNEDH58N', 1), ('A2RAUWEGFE47AL', 1), ('ATN7AC0D6CUSM', 1), ('A2ECOZ9FB1DY0C', 1), ('A1LHAXBM5GBJS2', 1), ('A366PSH7KFLRPB', 1), ('A2ME0LULEQCY7O', 1), ('A2M10LNS6H5JHM', 1), ('A10E3F50DIUJEE', 1), ('AP6Y5XI9MQBJW', 1), ('A21I3W4M06OC65', 1), ('A21OTVAAYU384T', 1), ('A1ZZR25X0CNOJX', 1), ('A35R5NGXV8YXJC', 1), ('A1JBOM5L972U4P', 1), ('A2VIXDY3AW8GSY', 1), ('A2T2UZT6ZIKJK9', 1), ('A1WRODKCJAYZY0', 1), ('A2XTQ37EZJP90N', 1), ('A3KIC82J3VLT8Z', 1), ('A3E57MWLSEA8Q7', 1), ('AD8FQNZ6BV2K2', 1), ('A2F9UFVDZ7MU6P', 1), ('A3IMO49QD6OYKN', 1), ('A1XUQWZFIRDQ83', 1), ('ARH734XRHMYAF', 1), ('A3UHYHNR917I0V', 1), ('A30NTGTL97JQ3T', 1), ('AAS6GEBXE7U4B', 1), ('A39LRXUCO3GOSO', 1), ('A3DJKYKNPY6VD5', 1), ('A1L35WM9O8VEFQ', 1), ('A2YPGQH2UGGTM2', 1), ('A32TM8I2D0858P', 1), ('A1EEMRCN80LZ90', 1), ('A1CD68FSHCEWX6', 1), ('A2FBKA2838KO0C', 1), ('A2K14OQTVABTMY', 1), ('A3UJRNI8UR4871', 1), ('A1WGOLZ6D7ADIK', 1), ('A1L43HQE9J36W9', 1), ('A2J48R128QPIFB', 1), ('A26XA5ME599Q8X', 1), ('A2IQGEH7O523PL', 1), ('A2V0H5HIN4OWKN', 1), ('AFZFTS599CAZ1', 1), ('A3R0F56KA61O94', 1), ('A3ET6201QA44N7', 1), ('A3H7AOFQDPU0JV', 1), ('A3NTM6QNFJ33KP', 1), ('A320NOWKQWX6V6', 1), ('A2B1KYYE9GLXT', 1), ('A24G65GFCTVQYE', 1), ('AKS7Z4XK7O4CI', 1), ('A182XF8JTD70TF', 1), ('A2HGGEEE11AMJH', 1), ('A2TM93IL4MGJW3', 1), ('AAB7ZUSPDY3F1', 1), ('A3IKMQJPD356O3', 1), ('A1TW7JS5YUJZ0H', 1), ('A3APJ36C9R1XBZ', 1), ('A1ZQCV5OTBDDYM', 1), ('A15MLIWLWLJARR', 1), ('A2YVU7PKI7069M', 1), ('A108WU6MBLRCQ2', 1), ('A1NX3551JZ765N', 1), ('AXOTOKR786M4C', 1), ('A2E1IB0RZP8TQC', 1), ('AQZH7YTWQPOBE', 1), ('A154QSI0I9S28O', 1), ('A1TDDOGNKYV41E', 1), ('A1BDAEB3TZ2T4N', 1), ('A358LEKEN0GDFL', 1), ('AY4EVD29DHZQH', 1), ('A25CD3H4FMV6IT', 1), ('A1BE3OH7TH8JY9', 1), ('A3V980JQPFQVDJ', 1), ('A221B1QEPIMA04', 1), ('A5I0ADFJGYV8L', 1), ('A2IEKQUYATR8UX', 1), ('ANEDXRFDZDL18', 1), ('A1I64I4DNTMVI0', 1), ('A1QBOC76MIOJYP', 1), ('A3O2Q9T0NP8GJ2', 1), ('A3B29ITB08I5MU', 1), ('A1E0J81HK6J05J', 1), ('A19T8PEUYFHVI1', 1), ('A1GPF475C8GRJD', 1), ('AGQY241F3Y398', 1), ('AES9VNGFZLOE1', 1), ('A3TCC2QRWE1057', 1), ('A2MWHLLN4QZ6BQ', 1), ('A150259WAJ62YN', 1), ('A10PEXB6XAQ5XF', 1), ('A3HN6FNYPZQ2MU', 1), ('A2SYFD082MMP1I', 1), ('A2PFH1741A25BG', 1), ('A1GUFMEKC67DMZ', 1), ('ADXC3UD7DF5S9', 1), ('A1V37KXOOGAIH8', 1), ('AWKZAUC0D8DYL', 1), ('A3FX1WWPD1VZJW', 1), ('A1WHY5OZX7IZIG', 1), ('A3BI1YF9YAARW2', 1), ('A31LJUC9RK3G1B', 1), ('A3OPOL3MUBPVL9', 1), ('A1P0LOX3IG0LKP', 1), ('A3B08P27RV8NNH', 1), ('A2UOLY21GNTI74', 1), ('A2JU7J2OMXGUGV', 1), ('A1UJNBYW8L6N83', 1), ('AP6GJCC6P8ZNT', 1), ('A3O0F5L5I6EMI6', 1), ('A1M7JSSMOWMMKP', 1), ('A1Z16COUTNK9SC', 1), ('AD5YFE22UHF8W', 1), ('A1RXO6AXR1ROQB', 1), ('A7AYLRL33D68M', 1), ('A1XVIFTPEMLD62', 1), ('A22DU4GYKA83J2', 1), ('A10L198Q8ZKC0H', 1), ('A1LP4E8DPMHGZT', 1), ('A1ZG9WNVCE9LWM', 1), ('A2TTHN1UMO82VY', 1), ('A25R0XDLY1WCRO', 1), ('A1YCV76MUFESR1', 1), ('A2R3C0OG2HFQ9H', 1), ('A2KX939MKLWD64', 1), ('A3BYKK0TFKRC22', 1), ('A26NNDKQDICMZN', 1), ('A2ZJDGVJ45AR5W', 1), ('AY3PYPIHPZQ25', 1), ('A137YH5V6LGYSS', 1), ('A2VANQZJ50SDKH', 1), ('A1IIOLH8KAECSO', 1), ('A3PIAD5YFALYUX', 1), ('A3F9TI0YRFF0C7', 1), ('A2DAE4L0OCQO6W', 1), ('A3T9XUHNVHA00A', 1), ('AF8BD13PX00JX', 1), ('A3VYWPH37FMXOK', 1), ('A1LCNGIJFB0EVS', 1), ('A2ZMWF79SFRJ4V', 1), ('A2N0EWFLEDIYOZ', 1), ('A2BYNLAM76HR2H', 1), ('A1DFBRVIYF533T', 1), ('A104FLKIMW5MRP', 1), ('ABDQ2MRN5WCHJ', 1), ('A4YUXXZ0DGHJD', 1), ('A3DHLLD8Z3YTHR', 1), ('A2U6EWZTA418N0', 1), ('A25MPQNRMMS450', 1), ('A1VS92UYKY0GHN', 1), ('ARGYM4CYRRZ26', 1), ('A2DRQFVDV5M9XE', 1), ('A3U57Z3U2OZ00', 1), ('A2TSHCT7EUO6S6', 1), ('AJSQYVJSZBQEZ', 1), ('AKX8QXMRZUZ9K', 1), ('A1V1ZNXG5WF0IM', 1), ('A1FD3HXVOGQMWJ', 1), ('AVLDNUBKKN3YX', 1), ('A1VIO3SYZR3XQK', 1), ('A6EZNISAV5HDW', 1), ('A1LXHDQLA5KKPW', 1), ('A3G4W7TC1J1043', 1), ('A1YJMG0QJXZLD4', 1), ('A6B6BSUWGCBC3', 1), ('A1JE9RKJSQ9WGO', 1), ('AEEVLJ7BYX0XO', 1), ('A2T7VFBJPVWUJO', 1), ('A1IDWUYX4QXTUE', 1), ('A2WG21234BLBS9', 1), ('A1L7622GIOHOKH', 1), ('A34UI1G8JJ1E4Q', 1), ('A2OACUGC7AUPNT', 1), ('AYNAH993VDECT', 1), ('A1CKSRF05IVVHW', 1), ('A33Y649K8M9W6D', 1), ('A36EMFO4RUN7QM', 1), ('A3JAXGSXU195WV', 1), ('AXOO7BPM22BDO', 1), ('A2PMLB19D69HPN', 1), ('AKV2CSK35JW0D', 1), ('A1QZQ1UC11S7SU', 1), ('A1YSL5033M5OL5', 1), ('A1011PVIALNY6J', 1), ('A2XYCTVMA6HMM0', 1), ('AJAANEW58N624', 1), ('A3MCMVDYBTDFJ3', 1), ('A2Q2WA62JJTUCV', 1), ('A16WIPH6PUI5XY', 1), ('A2BEW6FNOW66XX', 1), ('A2UI2YR1T3P1ZI', 1), ('A3GJEEX2OZB1C4', 1), ('A28GJHVEB3ZFV1', 1), ('A3TO4GZ35YKK1X', 1), ('AHLTM0DX828V6', 1), ('AVYJR4PZSMC7J', 1), ('A2C65ETCGML2CG', 1), ('A35W3JQYP0M655', 1), ('A14H8RRZX87VZM', 1), ('A1DQF45ATLZ8OW', 1), ('AJ8HQ860LUJSN', 1), ('AKGD6454LHII6', 1), ('A1864W3OZW3WBS', 1), ('A2U0C4SWY3B2EZ', 1), ('A3QD59N3M7O7KB', 1), ('AZEFG7ICV4WUP', 1), ('A12270M2NQN1QC', 1), ('A14DTJI4FMG9RB', 1), ('AE7GOY1DVV90P', 1), ('A2KKQN5F0SNY2L', 1), ('A3Q2NT71Q0R2OW', 1), ('A1YCQPRYNHKN55', 1), ('AXI9UTOJIO2T2', 1), ('A357D8AWVFNNH6', 1), ('A32JS1R9V5LB78', 1), ('AM3E6SVW2M0X3', 1), ('AW5HYD1A2DUCJ', 1), ('A2PSBW48FQK51L', 1), ('A27RSLNCI9W48H', 1), ('A3NZG7EFYJGG6A', 1), ('A10RPS63T5WIIB', 1), ('A2QOIPT15C6YFX', 1), ('A2631U0YHK1WCH', 1), ('A55FHH9UVJHV8', 1), ('AIEH19GTFWHWP', 1), ('A18YW53X4VHGQS', 1), ('A1ACM1CBGORBN1', 1), ('A1ZBMC42IE96C1', 1), ('A1Z81Z9ZKR1RQJ', 1), ('ASKUUQZA96A9', 1), ('ACP28QFJBMHWX', 1), ('AXXHSR6EEJ6X3', 1), ('A184HTUDGTM5IQ', 1), ('A3HGUSZHOYI2B1', 1), ('A2CZPBRPBEFX2R', 1), ('A28LV7CHO84L0V', 1), ('A2JRXXDPAI9CK9', 1), ('A3BFCHN39OF5XL', 1), ('A10YPORPPZQEWX', 1), ('A1KZPDB5MOWNVU', 1), ('A2L00I9B4V9F77', 1), ('AB6RV1AXXKPSH', 1), ('A1RXZ4CABWPVN', 1), ('AKXTFI6OGWJQF', 1), ('A3O7REI0OSV89M', 1), ('A1KUT7PV7XTO23', 1), ('A3RMR57027OCQA', 1), ('A22WZP6V54FC4K', 1), ('AYA1ON1SVIPJU', 1), ('ARMXY9JO964PO', 1), ('A1HI90UH876FKB', 1), ('A1KVYM5CNK75PR', 1), ('AS9IG6PUNJQGC', 1), ('A3B8CXU4T1X7S8', 1), ('A1BE8C29T5B7Z8', 1), ('A1NATKZWW6EJAK', 1), ('A1SXCGBJ9JW2MO', 1), ('AUSJM134Y06S1', 1), ('A3QS9QL6DOKQDW', 1), ('A11DCBNCPEBWBL', 1), ('A2Q53HT28RCH8N', 1), ('A2OI26HDSEZFEB', 1), ('A2APLHETAO56C', 1), ('A2L20SNQ4EZJ8B', 1), ('A23QYBKI1630CV', 1), ('A1CHOKV10NEI8X', 1), ('A2O6305QOF45MQ', 1), ('A11FWFOKGGAUYA', 1), ('A3984G9B5FXH64', 1), ('A1QZVTFM26YGQF', 1), ('A13XHH6I82E1OJ', 1), ('A19ABDKY8ULUN5', 1), ('AXBO8IITQB0FH', 1), ('A2HTC5PWUGOO88', 1), ('A2S3MUP7B22XIC', 1), ('A2ON4K5SOER4YD', 1), ('A2V62Y7O1GCF0N', 1), ('A4H1FCXY3U4VO', 1), ('A1VWRTF3V4DHFE', 1), ('A36RCVPH79KR3J', 1), ('A368Z46FIKHSEZ', 1), ('A35CFHASBM9OZV', 1), ('A39011OV4EWS7V', 1), ('A30SPABIPVN5MV', 1), ('A2ICI5CWUSBMSS', 1), ('A3IFHZYZT1SY5G', 1), ('A1E4JTG9X3AZQS', 1), ('A2SMK6STZFWKBP', 1), ('A284GGIIM31PGM', 1), ('A3UYC2W3K67LS6', 1), ('A2B4SEB40GSX9Q', 1), ('A2FZI0BTON78GQ', 1), ('A6B8K2EMIBT0Q', 1), ('A2L6V7O69GKNBH', 1), ('A28YBL28P03P8V', 1), ('A39B3E7CL22OYT', 1), ('AXU6MLKDT3B6V', 1), ('A2ELXIIB38YHUO', 1), ('A2YJEUS6Q1A7WD', 1), ('ACZPBVU1OTKUP', 1), ('A3CPL126VL12H8', 1), ('A28GBNBN8BE3U1', 1), ('A30K6FX9TGESXS', 1), ('AGKW1Q9IUWIMT', 1), ('A1LO8G0GFC4KIL', 1), ('A1A7VD0YGGDAPS', 1), ('A19HHHP1EJ68TG', 1), ('A31CYJQO3FL586', 1), ('A102EES14OUWJ6', 1), ('A18K25LOCI0KH', 1), ('A1CTNAMX1QN5GL', 1), ('A31HMXJM7GZ60N', 1), ('A11DV7U73MFGMY', 1), ('A3LOR52QCQU114', 1), ('A354VQXQCGIQZ2', 1), ('AP1ZW8V4HTO6C', 1), ('A3KI4RMH7JX91D', 1), ('A2I3XS9TO93Q0F', 1), ('A2001065G65VJW', 1), ('A2I60HCAVEF3RC', 1), ('A1X1N4LPKJQ05R', 1), ('A3OORGROO9637C', 1), ('A2PFXN5DD378ZH', 1), ('A1ZA9B6TVX961P', 1), ('A15BBHB36Y8IEH', 1), ('A2U5TAIAQ675BL', 1), ('A5H2KQ06DLGWW', 1), ('A2PMWI7ZJ0AU2N', 1), ('A1PVGVHONQI7WU', 1), ('A2TVFGPP29X71T', 1), ('ABC68JUCPTVOE', 1), ('A2RQO0AUV04FZX', 1), ('A30OXXZL7IQMSM', 1), ('A155D8LJ5W6126', 1), ('AH5Y2L3K51J0O', 1), ('A19XE6G6NDZFPS', 1), ('A2PWKW64LW71NU', 1), ('ABNMD6670TV53', 1), ('A2E6C8G3WQJXQF', 1), ('A232Q01OI8O3K3', 1), ('A15040BJHCUAPG', 1), ('A1BAK2PJSVK8MX', 1), ('A218IAZ4TAE2JG', 1), ('A29BA6LLBLJILF', 1), ('AXAOQIZ7AAN4U', 1), ('A3KM691AO1IZKZ', 1), ('A1TP69D7MIMXDF', 1), ('A37F6ROMBNWVNQ', 1), ('A3CPJ4ODEYI0L2', 1), ('AM83WJG9BE2EP', 1), ('AQ9S2GTR0VDC2', 1), ('A1VDISN53LO1K', 1), ('A3UXGVJWFDIC4T', 1), ('A37LNXZ3U8Z0PW', 1), ('A1NM2P8DXA5SME', 1), ('A2B2M5YQZPBOA3', 1), ('A1SYBOB4WOOTTO', 1), ('A1OTKUVYWO7W81', 1), ('A15P6JXOSIN2TG', 1), ('A17RZLRLBH8HHM', 1), ('A224YTXYA2ERH1', 1), ('A15V4R9N8QS3BI', 1), ('A2N5RWQ4ND7DIW', 1), ('A2M07Q8FOXN3WR', 1), ('A1U687ZQTPZX0F', 1), ('A2LBIC0C82IVIT', 1), ('A21PS501QMDKK5', 1), ('A30E27O1GM3GLV', 1), ('A2VMH7YBP3YUTV', 1), ('A86KSYCW6U4Z4', 1), ('A3RZ6V984Z309M', 1), ('AQUMNB8YWE595', 1), ('A4SD8F79JBYG2', 1), ('A3UYBEWR3AIPL2', 1), ('AVHYBNHMM37DF', 1), ('AAPPWNP9FWVWS', 1), ('A15LKTKJ2PSQU3', 1), ('AX3V4W4Y891BO', 1), ('A20F84KUBWM88B', 1), ('A2A9AK38AAJHOL', 1), ('A1P27BGF8NAI29', 1), ('A2P58WCEMU5VS0', 1), ('A2ZXZK7I68JEEF', 1), ('A3FHDBBXZFNQUK', 1), ('AQ55JT0NA0N2X', 1), ('AYXJ9HSVWX97S', 1), ('ABFGQOKG43J1I', 1), ('ANYXO3GW3X1X8', 1), ('AIIIJRZ9O7WPN', 1), ('A34Y157GY4DWJ7', 1), ('A28SGC3ISWHB9E', 1), ('A1APCGOMN24AYO', 1), ('A2S41GL7XNIYH5', 1), ('A3FD1NNRSGJK33', 1), ('A29WJDD28NBNM3', 1), ('AHG9NC2C0FN98', 1), ('A2DGR4QV3GOVQD', 1), ('A3FY73C23XQ35E', 1), ('A3J3MFGC8VVZ2K', 1), ('A1JAPP1CXRG57A', 1), ('A2ERLLB9NI7B1G', 1), ('A24O0OS2H86QV', 1), ('AH819V5XZVAJJ', 1), ('AEOLQOH7KKSSB', 1), ('A1DYF6ECUCGHXY', 1), ('A362PVPSOJ579X', 1), ('ALBW2ZBS6Z2AY', 1), ('A1NDDSWYDRLJHF', 1), ('A393IJK6IWJBYV', 1), ('A1A0QSOZKJ9CSW', 1), ('A2HEZW3C03DRUF', 1), ('A251WX1Z4SHFDD', 1), ('A2VR6YZXKXT92K', 1), ('A3FD3BHIUYIFPD', 1), ('AENQPVTQU5MSU', 1), ('AY8JVIABRH4K', 1), ('A2TXCF8Q246NLL', 1), ('A25L8SFZEIS3W5', 1), ('AL8S8MDWIHC9Y', 1), ('A1VAQPAX16X2OT', 1), ('A2UEL7CRDCMG0R', 1), ('AO4KNBP4Y5ZPU', 1), ('A2Y0VANFCS9HUH', 1), ('AYUT6BQ68PVGT', 1), ('A3VAIUS6VZCMEH', 1), ('A28LXPTCISZA0S', 1), ('A2IIDRHZMGK3E5', 1), ('A1AAO0V5MURIDH', 1), ('A3PQS40IWU4R97', 1), ('A3V8GE9WBX54SZ', 1), ('A3AJ7J3KB2LRVC', 1), ('A399Z7W6AJWTAV', 1), ('AHDIQGS9M0YH9', 1), ('A3FXFTS06IX22M', 1), ('A220RG3VQRX3JK', 1), ('ADR3MR8529NOD', 1), ('A2MFSX1QO1O6XL', 1), ('AZ4CKEJGTQG1V', 1), ('A25IVQCN6XPGVU', 1), ('AJ6AFRHY0TE85', 1), ('AO8W9PQE5UYGA', 1), ('A2088N03XT252I', 1), ('A2RF55IVDK96SD', 1), ('A1N8YKDJ8KJAMM', 1), ('A1YTINX5QKEW3P', 1), ('A2AH0NQIVXE3HL', 1), ('A1HO8OJF8EPK5C', 1), ('A3V2Y09XX8LVLO', 1), ('A1A3HOH0RCT9GP', 1), ('A215DC8JKGGXQX', 1), ('A1DTAZVQZAJVTA', 1), ('A3L9SN34TI9YMX', 1), ('A35SIY7AGE5O7O', 1), ('A1B97O8MZHDNYB', 1), ('A1S9BQR8HDWGG8', 1), ('A3GJP4K1FBGWB3', 1), ('A19070W4HLG899', 1), ('A1NNTRF2NMJS6C', 1), ('A29SZ6ZTP4MH9H', 1), ('A2KV6EYQPKJRR5', 1), ('AMAVEZAGCH52H', 1), ('A2699NLN1UWFRO', 1), ('A1O9KXI6CAV8K8', 1), ('A3TLEHA5T8C82', 1), ('A3A6ALK2YTTCZS', 1), ('A37D2TGTIXRV2N', 1), ('AG509WZ4O3ZVE', 1), ('A36K2N527TXXJN', 1), ('A1FL751FIQ1K1F', 1), ('A1KF8IJAV6YM4U', 1), ('A380DEMZPD1C8I', 1), ('A386ZPWEV03PW5', 1), ('A35K68AM80H2LI', 1), ('A1MOLKSVVY6C4A', 1), ('A1ZW99N6T7E0FJ', 1), ('A1CP5T5KS9JYMU', 1), ('AOXMWBNDZDJ9L', 1), ('A2Z9JNXPIEL2B9', 1), ('A37RVR1EDMZRQT', 1), ('A26U86H6TY5JGJ', 1), ('A2BUR1OE12OILL', 1), ('AC9DSAOJYZQJY', 1), ('A2RPNN823U333Q', 1), ('A6AQGHVPMLHNO', 1), ('A2PM8MR153CYXL', 1), ('A2HZOHKQ3VT4HR', 1), ('AWQXNZA48CEKD', 1), ('A96K1ZGW56S2I', 1), ('AGJGJSFWS80NV', 1), ('A2FZ3UAEXLWKP9', 1), ('A3E65GJTEAOC9M', 1), ('A1G7XPJJQA226A', 1), ('A2GSJUETASGMO0', 1), ('AXOHUES3YZ4UG', 1), ('A18NMBZTHPVZOL', 1), ('AK0PXM8POPVMO', 1), ('A1TIALU0XG3172', 1), ('A3RH5OG1NLYWA1', 1), ('A2G0VUD19MLPYP', 1), ('ADAZ4T3AAHVN7', 1), ('AC5JQ2Y7FCL4N', 1), ('A1CFU5XJXN3PV4', 1), ('A2IT7A6SKJELLN', 1), ('ANTT3Y4ARSRTO', 1), ('A2WAUZQVSEFR6T', 1), ('A3VQXWRIB7GV3F', 1), ('A1HXFAZ5GOHDSE', 1), ('AQTFRRTUH7K9B', 1), ('A13VH0PS4SKVDF', 1), ('A296X4ZUJFBAMY', 1), ('A1BWO3WO34PYR4', 1), ('A3EDAIXNN61MZD', 1), ('A3D6ISMLB8ZASC', 1), ('A2H2I5FY1PUHP1', 1), ('A2SHJMNOT4EER5', 1), ('AO7G0AEWF76FZ', 1), ('A2ZQODD5XZVSM9', 1), ('ANLNI4ID8VPXA', 1), ('A1MBC8A72OKKB2', 1), ('A2SBXS4OLUFH89', 1), ('AAJZWCB1SJSFB', 1), ('APPCJX62WKIIP', 1), ('A38RA1ZDO7RFZQ', 1), ('A5UI8IPN6SOSS', 1), ('A96AUNSF6GESO', 1), ('A9JS5GQQ6GIQT', 1), ('A32ZZQV7FBYBBK', 1), ('A1W0EK0033YVGP', 1), ('A3IY593AEFLXER', 1), ('A34W04PFTEIBQV', 1), ('A26GHQOTRZMGG8', 1), ('AOWF7FPRT84IG', 1), ('A3E6R53BBVWPZ1', 1), ('A2XLWYQQGH7T3L', 1), ('A15F4SZ4VFBO70', 1), ('A2YBQ4T1BJJDE1', 1), ('A20ND5VKGAG7XA', 1), ('A32SIZL5NVDXJM', 1), ('A1QN2KOLKLWEI5', 1), ('A3KPHXGQ2SUVCG', 1), ('A10HCDJHR436EJ', 1), ('AX9JKBZJERV9G', 1), ('A20VX7F4164FVC', 1), ('A13SGME8HN4P3U', 1), ('APMYPD97EHUUZ', 1), ('A3MQG8DF3OB5E2', 1), ('A1F3P86HABN49V', 1), ('A4GXZVYP51AGS', 1), ('A1V26EK9YVIC1U', 1), ('A3MIVT8IBWSC0R', 1), ('AJNDL4BI7AQ8H', 1), ('A21KQYQLNSFCKW', 1), ('AC497HNO0E8VH', 1), ('A27TITC8ON9CMZ', 1), ('AQUQ2VHEN1DM7', 1), ('A1JJLIO36ZYX4V', 1), ('A2Q9SY78G449KO', 1), ('A3JVAMHQ1AG1HE', 1), ('A1KNMUQUT0E467', 1), ('A2PAJUZF2RCZIW', 1), ('AJ7K50X3SV5X7', 1), ('A11OQ0NZAVHYRF', 1), ('A1PC8WIZSF8P6R', 1), ('A2KXQ2EKFF3K2G', 1), ('AA72FD1EH0SE9', 1), ('A13WHL0WWA8TFJ', 1), ('A3BD20DGXAO0XN', 1), ('A186RQLMYP1VNG', 1)])\n",
            "('A1WHY5OZX7IZIG', [('A1IMGSJYMW0PYN', 1), ('A2FH1KKTJCP5QW', 1), ('A2W44462BFUFXC', 1), ('AM25R904WN2HA', 1), ('A1BCIUKGX6N7AI', 1), ('AFZFTS599CAZ1', 1), ('A1BRCVMQ7C9CGJ', 1), ('A1MTVA7JWWXVZ', 1), ('ANEDXRFDZDL18', 1), ('A351NTWO6OD00Y', 1), ('A1N5FSCYN4796F', 1), ('A2J48R128QPIFB', 1), ('AQDJDWP47PQT0', 1), ('A3Q6DHPCWYBB34', 1), ('A1KWXTO4HNXM3F', 1), ('A575HZ0LJVLB4', 1), ('A1EEMRCN80LZ90', 1), ('A1ZH9LWMX5UCFJ', 1), ('A3ES0W45XG5ESS', 1), ('A35CV6DQ289M4N', 1), ('AELE6F4ST9DS9', 1), ('A3VH1WBN26YPD4', 1), ('A3MHX1GH2BISFE', 1), ('A3PISDJ6R3JZDA', 1), ('A444EBY09KRJW', 1), ('A2S60IDMYRV6M9', 1), ('A1ZLP5VN8OLTQA', 1), ('A2MWHLLN4QZ6BQ', 1), ('A1I3EENJGC14MT', 1), ('A3APJ36C9R1XBZ', 1), ('A3CB563CBJS3U5', 1), ('A1XUQWZFIRDQ83', 1), ('A36MKT48SKZ1EE', 1), ('A3MSG4E5MLI1XP', 1), ('A223904M7JA86Y', 1), ('A2ME0LULEQCY7O', 1), ('A15ARCZBFXPLJP', 1), ('AOR6RZIEAS241', 1), ('AG1SUB386KT63', 1), ('A1R4PIBZBD3NZ0', 1), ('A95BNBRD7T2OR', 1), ('A2F07C7I04VROQ', 1), ('A1SVXJZ3386U2D', 1), ('AJQK1B2Q4NCHU', 1), ('A1QBOC76MIOJYP', 1), ('A35R5NGXV8YXJC', 1), ('A1SXVTJXIYPKF5', 1), ('A1O4OZHP2LFMB1', 1), ('A2DXPD5YDN83VX', 1), ('AR59MPG3N1TZY', 1), ('A1G2F4L08EMS24', 1), ('A1RJG9FR4WMW1B', 1), ('ALD9AADGX1SF1', 1), ('A3VQA04J03WR5W', 1), ('AQZH7YTWQPOBE', 1), ('A3TCC2QRWE1057', 1), ('A2COGE7RR1R09M', 1), ('A3G06UCDH6RGEW', 1), ('A1IGV3GVF39FTV', 1), ('A2NW5UDW32JSV2', 1), ('A2ZUVZO1CQIEIA', 1), ('A1BE3OH7TH8JY9', 1), ('A29LYTN6L7HO0Y', 1), ('A1CD68FSHCEWX6', 1), ('A3R0F56KA61O94', 1), ('A25CD3H4FMV6IT', 1), ('AWKZAUC0D8DYL', 1), ('A3RG3Z3DW9T3PM', 1), ('A21OTVAAYU384T', 1), ('A17OGRGX1EMDRR', 1), ('A1C3ONC58JLVJH', 1), ('A1AT4YHGX2QVWS', 1), ('A1FVP6G8W3O8ZA', 1), ('A3UJRNI8UR4871', 1), ('A3FX1WWPD1VZJW', 1), ('A1E0J81HK6J05J', 1), ('A1WHY5OZX7IZIG', 1), ('AES9VNGFZLOE1', 1), ('A100WO06OQR8BQ', 1), ('AP6GJCC6P8ZNT', 1), ('A1UJNBYW8L6N83', 1), ('A21Q70ARD2XHN3', 1), ('AXMQG5G02SA4G', 1), ('A332BS08Q1MFYP', 1), ('A1RXO6AXR1ROQB', 1), ('A2760OTUCOMBWF', 1), ('A2IBYIHWSCQHK7', 1), ('A11ZFH7I1YJ5ZF', 1), ('A33F2CZLG4MDOF', 1), ('A3OGTIDOCYMJUJ', 1), ('A1X09U3KB32W7C', 1), ('A3CG6YLYZJXQG4', 1), ('A108WU6MBLRCQ2', 1), ('A3ET6201QA44N7', 1), ('A1YCV76MUFESR1', 1), ('A1ZG9WNVCE9LWM', 1), ('A13Q5LKLFYEF3Q', 1), ('A25R0XDLY1WCRO', 1), ('A25LR19RPRXTS8', 1), ('A1M7JSSMOWMMKP', 1), ('ANEIQUS6I8RJ5', 1), ('A37KHYLLDLUH8W', 1), ('AR1T36GLLAFFX', 1), ('A1ZQCV5OTBDDYM', 1), ('ALZ3I07P1CN7C', 1), ('A3T23AA1XLC42D', 1), ('A3ADADIUY2VMQY', 1), ('A337SZO4X5CVYJ', 1), ('A32KQ885GJ2NJ1', 1), ('A10JVTCCFCSLA1', 1), ('A1SWR7XGG9RF5T', 1), ('A221B1QEPIMA04', 1), ('A2453GFZE314S4', 1), ('A37A8WC76QI2PH', 1), ('A1BDAEB3TZ2T4N', 1), ('A358LEKEN0GDFL', 1), ('A2RAUWEGFE47AL', 1), ('AG10XWS9JA9KR', 1), ('A39LRXUCO3GOSO', 1), ('AP6Y5XI9MQBJW', 1), ('A2ND5PJ38SLVPV', 1), ('A1ZZR25X0CNOJX', 1), ('A1J4MT3VKWSEMR', 1), ('A1GUFMEKC67DMZ', 1), ('A1AO6FSK9VZVBM', 1), ('A2KWW2PZ514318', 1), ('A2PFH1741A25BG', 1), ('ALTK95MGGJGX', 1), ('A1I5QGRMHP8YSV', 1), ('A1L43HQE9J36W9', 1), ('A2AYGK8D17XJMR', 1), ('A2WSAGFJSQC1YF', 1), ('A2RDJVM7WHUD1B', 1), ('A3IKMQJPD356O3', 1), ('AM7G28JMONYMO', 1), ('A2NX4G6BOQ0SZH', 1), ('A1RO932ZM1ZYNC', 1), ('A1P0LOX3IG0LKP', 1), ('A3S122V1Z1XZO2', 1), ('AYPEPA3VS4KDM', 1), ('A22T7TNQPR4Y95', 1), ('A2F9UFVDZ7MU6P', 1), ('A1HVOIR3GDZIZE', 1), ('A22QAN7HTA6R7L', 1), ('A2ZGYBGUC2O3DG', 1), ('A25X6XGD2RUE3C', 1), ('A3O2Q9T0NP8GJ2', 1), ('A30NTGTL97JQ3T', 1), ('A125PQOOOVJY22', 1), ('A3DJKYKNPY6VD5', 1), ('A2MMB9EG82GAT8', 1), ('A2QSSUDOVXD1HF', 1), ('A2ZFOWI93B94G4', 1), ('A32Q9FOJ1MJEHF', 1), ('A3VRJ78CCIMV7Z', 1), ('A335GUD1YBS31U', 1), ('A93OSR5GY3X0I', 1), ('A29BJXDGPRZZ6M', 1), ('A1L35WM9O8VEFQ', 1), ('A32TM8I2D0858P', 1), ('A1TDDOGNKYV41E', 1), ('A3HN6FNYPZQ2MU', 1), ('A1WRODKCJAYZY0', 1), ('A2V0H5HIN4OWKN', 1), ('A233BH1G1DPGB6', 1), ('A3W4D8XOGLWUN5', 1), ('A1WGOLZ6D7ADIK', 1), ('A1UOPR5GQPDKS', 1), ('A3E57MWLSEA8Q7', 1), ('A2YB4886NNF7L8', 1), ('AKS7Z4XK7O4CI', 1), ('A1KNO1B2QQL16M', 1), ('A3T1IQ2K0CT39G', 1), ('A26AE6PT3QB8UR', 1), ('A8VCAYBU4YLUJ', 1), ('A3CC3H75JBUM5F', 1), ('A7I7SJY5XH198', 1), ('A3IMUU0I31XF33', 1), ('ADX0OP5C8DX1T', 1), ('A3FT1TX9WE7A5B', 1), ('A206CPY61AHCP0', 1), ('A3NTM6QNFJ33KP', 1), ('A2GLT67QUPVQSF', 1), ('A1C7KM3C4IFVG0', 1), ('A2B1KYYE9GLXT', 1), ('A148C4XEPCK9Z8', 1), ('AOOFWCK48CR45', 1), ('A2TM93IL4MGJW3', 1), ('A20IF2NYZ4XFEU', 1), ('A1TW7JS5YUJZ0H', 1), ('A26QSJ79DIG4UA', 1), ('A24G65GFCTVQYE', 1), ('A3OPOL3MUBPVL9', 1), ('AD5YFE22UHF8W', 1), ('ADXWHZUTXSLNE', 1), ('A3LKNC9XL2AS05', 1), ('A3MO6XMSLQC5CI', 1), ('A15MLIWLWLJARR', 1), ('A1JT2WNZ60UWRB', 1), ('A2DEYCMTS79D1M', 1), ('A2UOLY21GNTI74', 1), ('A17NJIDEUGN7BK', 1), ('AXOTOKR786M4C', 1), ('A2E1IB0RZP8TQC', 1), ('A10L198Q8ZKC0H', 1), ('A154QSI0I9S28O', 1), ('A3IMO49QD6OYKN', 1), ('A3BUDUV9GORLWH', 1), ('A1NX3551JZ765N', 1), ('A1Z65IGMZ9SR7D', 1), ('A3LXQMXMP0XBH2', 1), ('A2XA8CW5DF4MNZ', 1), ('A26XA5ME599Q8X', 1), ('AXXTETPBEC9TM', 1), ('A2IEKQUYATR8UX', 1), ('A1I64I4DNTMVI0', 1), ('A2TTHN1UMO82VY', 1), ('A184ZFZZBWEXMS', 1), ('AFA6AQYWF86LD', 1), ('A10PEXB6XAQ5XF', 1), ('A2YPGQH2UGGTM2', 1), ('A150259WAJ62YN', 1), ('A2SYFD082MMP1I', 1), ('A2YVU7PKI7069M', 1), ('A1V37KXOOGAIH8', 1), ('A38WFD1V0SDN3Y', 1), ('A2NAHH0ZHQYQOC', 1), ('A55PK06Q6AKFY', 1), ('ADJ1WJUZ7MM4P', 1), ('A277TO3PKKNYDH', 1), ('ADXC3UD7DF5S9', 1), ('A3FPWLEVW0NXM9', 1), ('A3BI1YF9YAARW2', 1), ('A2IOZ5M5I2OEYQ', 1), ('A23SVJ5YBYXQDW', 1), ('A3B08P27RV8NNH', 1), ('A221B991YB1LXU', 1), ('A1SK3L2IQLYA8S', 1), ('A23RZIU0N8K2KR', 1), ('A2IQGEH7O523PL', 1), ('A1YC8ZO2WFMGYQ', 1), ('A1IJ0LJ66CFXBE', 1), ('A3IJO62UOO8K3F', 1), ('A250J0FJXY8NCW', 1), ('ASL2HC6CORCL4', 1), ('A7AYLRL33D68M', 1), ('A47D5C32VLQM2', 1), ('A3JYLJBS0B2BK0', 1), ('A25TXAWGXMD7SX', 1), ('A1GEL699H2IO10', 1), ('A1AFEJ0230S741', 1), ('AC46E8KPBMRG9', 1), ('A259BW4CNR2P85', 1), ('A334VH4XXBMNIB', 1), ('AY4EVD29DHZQH', 1), ('A3R9H6OKZHHRJD', 1), ('A95PKRD4T3RUG', 1), ('AAS6GEBXE7U4B', 1), ('AU2SKKGEM27QB', 1), ('AUZNNV1ZYG8J0', 1), ('A10AH87OLPZCAO', 1), ('A1HHXN6OJS6ADQ', 1), ('A1WRES8AAC87JN', 1), ('A6EE2QHQ92AM1', 1), ('A2A6E1GDC23AH9', 1), ('A17UF5BSDY0M9F', 1), ('A3HHL4JYO9PU1U', 1), ('A2JU7J2OMXGUGV', 1), ('A2WE93LJX8PMT1', 1), ('A5I0ADFJGYV8L', 1), ('A2M10LNS6H5JHM', 1), ('A2GAR6CBJTSSI7', 1), ('A3J73C6CCLJ6RK', 1), ('A3I4Z02JQ4VZ29', 1), ('A2EMTE0N2OEZBA', 1), ('A2AN7ZKER5JGX9', 1), ('AMSQPHKVJZVVN', 1), ('A1AJY4M502J8YY', 1), ('A2EDBL0WCXTZ37', 1), ('A2QYHMYRVMV1ZH', 1), ('ALHVEH9POH57V', 1), ('A2J4MMO1BX5AI1', 1), ('AGQY241F3Y398', 1), ('ADV5DDYJ4K2B5', 1), ('A3HW0FYDWOUP3D', 1), ('A2HGGEEE11AMJH', 1), ('A2LPFAQMVYNZ4L', 1), ('A304933U8Y14R4', 1), ('A37F541W7RG5MT', 1), ('A3CKZNWP2ILJP', 1), ('A16MFXKAX4WZKF', 1), ('AAB7ZUSPDY3F1', 1), ('A2VTNHHCUFI8JB', 1), ('A3KTOQWIOAX1JW', 1), ('A2BNMHJ3IIANUJ', 1), ('ABY0AB9DK4WMN', 1), ('A29DRL3WYLVVW4', 1), ('A3B9C6MZAFC1JX', 1), ('A2CTFMY2YL0KQO', 1), ('A3FTRK4S2H4LOK', 1), ('A3EK4A6SVZZ8DC', 1), ('A2F7URUNLTF855', 1), ('AN7R8MEQU056O', 1), ('A3B29ITB08I5MU', 1), ('A267HO0DNITHVQ', 1), ('A1JBOM5L972U4P', 1), ('A3VR7QSYW1VUR9', 1), ('A261GIK3PL0UFF', 1), ('A3QX8851P2SPRI', 1), ('A1Z16COUTNK9SC', 1), ('A3MMZB52PZ8CLW', 1), ('A1NLRHC48S1KT9', 1), ('A2B3VA81IGPLZA', 1), ('A2PD27UKAD3Q00', 1), ('AHAZBZRLMI76F', 1), ('ASSD9LJYESYG0', 1), ('A22DU4GYKA83J2', 1), ('A1M7HDF51QX1KG', 1), ('AU4U0ISJ875XL', 1), ('A2JUFDHXAAO637', 1), ('AECVYXIL9791R', 1), ('A1385CL0JY3H7S', 1), ('A1T2BMX629OT2X', 1), ('AFJFINIKFOFSB', 1), ('A2K4ZSJPDAQCG1', 1), ('A337DX7CA20IC9', 1), ('A3V980JQPFQVDJ', 1), ('A37CK3S671ETN6', 1), ('A1BKGBZU69CWCA', 1), ('A1MSW4GEXW0B9M', 1), ('AM7PBWBB8ATR4', 1), ('AZ46YG5P7DE5J', 1), ('A320NOWKQWX6V6', 1), ('A3PQXK6DVMK7FC', 1), ('A38O1ORC6DMIC8', 1), ('A3PM5X6Z3B36K', 1), ('AXLPWBWM7IO0G', 1), ('A27GADI1VPO2IK', 1), ('A2K4QDSGBJI172', 1), ('A1CCZ00L3XLLM8', 1), ('AUZTESIM8ZI6S', 1), ('A2VIQC85IQDY90', 1), ('AWJGALJ7YIG67', 1), ('A2Y5RGO9LX00ZU', 1), ('AYFFC113F808A', 1), ('A19T8PEUYFHVI1', 1), ('A1X97AA5LSO28Z', 1), ('A22A2K7WND9HK8', 1), ('A67GUC83L7J65', 1), ('A1C826V9XWNTEQ', 1), ('A4QLFGSATC1VT', 1), ('A1805KET2CBE7U', 1), ('A3SRANSNTP8WV4', 1), ('A1HDZG1VI59BFY', 1), ('A2CI1KCN3DSOT9', 1), ('AVKM2FDS36L41', 1), ('A2TQX6DFP0HS0K', 1), ('A1KFNJJTGX6FZ4', 1), ('A2TTY3BVKVYGH9', 1), ('A1S313BVVWH0PM', 1), ('A35MLIRKBT4BYA', 1), ('A2LJGODTPOLNC8', 1), ('A3C7KTR1AJFLAV', 1), ('ATN7AC0D6CUSM', 1), ('A1KC31GANHZ0W2', 1), ('A25UCQ4V0THJIJ', 1), ('A3JFXO59HP0JHV', 1), ('A3K8AU6BAGN60E', 1), ('A9A6Z3FJ5V7B4', 1), ('A3H7AOFQDPU0JV', 1), ('A3D0G7ZGY2LCOG', 1), ('A3DIBRGX84SA4E', 1), ('A1ZP6TKMFXZNNA', 1), ('A1XVIFTPEMLD62', 1), ('A1A44YPXT10IAL', 1), ('A30ZOQNOAACUG6', 1), ('A2POA08J9NX44S', 1), ('A1R0PCZ5AY9C76', 1), ('A1MKFNZSI1EISM', 1), ('A31TS9SW3D9O7S', 1), ('A392CEKYCUK725', 1), ('A1F7MPKNEDH58N', 1), ('A103USS4JZN50K', 1), ('A2YEO8R7AA0G1Y', 1), ('A2ZW5BCB2YWT39', 1), ('A27V6FWDG69G6X', 1), ('A1ECQ8LJMXG4WI', 1), ('A100CFHPG2AIP', 1), ('A31OLWW8C0GJXW', 1), ('A2FLEN2CRGJOOV', 1), ('AJD9Y2DHZX4HB', 1), ('A3K89DIR1Y6IB8', 1), ('A3CPU6NZNKB5JA', 1), ('A1GSUAY824143X', 1), ('A1NQ7WS4WKJ427', 1), ('A10E3F50DIUJEE', 1), ('A1LHAXBM5GBJS2', 1), ('A3UJ3BGNFZTAL9', 1), ('A17RQPA1VCKTYM', 1), ('A23EMS4X0ER4Y7', 1), ('A1GPF475C8GRJD', 1), ('A359GKKXONNTE0', 1), ('A1G5DIQMDBP8UA', 1), ('A1A1BM6N28X9J0', 1), ('A577RLM624AJM', 1), ('AZL2XX95UP66F', 1), ('A186PLNGEY2F9X', 1), ('A3KK1N7BUXHIVD', 1), ('A3RL40YTFBMCCO', 1), ('A2T2UZT6ZIKJK9', 1), ('A37MAQ1WG6S4Q6', 1), ('A2RKUXWZKVTZ8L', 1), ('A2N18PS4RU2WU', 1), ('A3AL8ZMEYAJDFB', 1), ('A1BN54KRWI519P', 1), ('A2ZGAYM73QA32R', 1), ('A19SHIMZDF8YUW', 1), ('ACNGECLAPEYWP', 1), ('AJ3Q1YCCFMMRF', 1), ('A248UQ9YXAMO9Z', 1), ('A3UHYHNR917I0V', 1), ('A3V8ZNL3RNF1BI', 1), ('A2XTQ37EZJP90N', 1), ('A3O0F5L5I6EMI6', 1), ('A16ILKBW93JOQV', 1), ('A11KR7FUZ85UQD', 1), ('ARXXVTC92XKHU', 1), ('A1QA81DFWWGPPN', 1), ('A366PSH7KFLRPB', 1), ('A3FGXDP2117TD7', 1), ('A3E7903YPPDO7', 1), ('A1IVYVCF909Y3C', 1), ('A10Y723SWU2WHZ', 1), ('A1XUBAZHHWNZDS', 1), ('AAL34V9W3QO9I', 1), ('A2V63C6ND3ECO0', 1), ('A9TK6DNW9DOKZ', 1), ('A2VIXOQOV4DH3U', 1), ('A1QMDYE7REBCBV', 1), ('A2ECOZ9FB1DY0C', 1), ('A1S78V0MOUYFUA', 1), ('AJUQOZM0WFP4J', 1), ('A1XLKL4K3I618Y', 1), ('A2FBKA2838KO0C', 1), ('A6772Q9ZBZOMI', 1), ('A21I3W4M06OC65', 1), ('A31LJUC9RK3G1B', 1), ('A1C66LMRGMGV19', 1), ('A3KK11UQ3X6FR7', 1), ('A1HY9S31V7EY9N', 1), ('AZFX7FLEHCWXM', 1), ('A296VN3YRF44CE', 1), ('AD8FQNZ6BV2K2', 1), ('A4JHEO7H330AF', 1), ('A3KIC82J3VLT8Z', 1), ('A2I5DV01ZUV8U4', 1), ('A2QVDSOVCS1GM2', 1), ('A1LP4E8DPMHGZT', 1), ('A182XF8JTD70TF', 1), ('A309MKE7Y0OCEX', 1), ('A14WF67CUR3SUJ', 1), ('A3JLHTAO1HD8RT', 1), ('A2K14OQTVABTMY', 1), ('AKOO2TYRAMHLO', 1), ('A2IT7S59GSASN7', 1), ('A3H19949DTO802', 1), ('ARH734XRHMYAF', 1), ('A2VIXDY3AW8GSY', 1), ('A23QYBKI1630CV', 1), ('A3OORGROO9637C', 1), ('A1SYBOB4WOOTTO', 1), ('ABC68JUCPTVOE', 1), ('A1U687ZQTPZX0F', 1), ('A3PIAD5YFALYUX', 1), ('ABFGQOKG43J1I', 1), ('A220RG3VQRX3JK', 1), ('AZEFG7ICV4WUP', 1), ('A3MQG8DF3OB5E2', 1), ('A2PWKW64LW71NU', 1), ('A19XE6G6NDZFPS', 1), ('AL8S8MDWIHC9Y', 1), ('A21KQYQLNSFCKW', 1), ('A30OXXZL7IQMSM', 1), ('A2PFXN5DD378ZH', 1), ('A368Z46FIKHSEZ', 1), ('A2GSJUETASGMO0', 1), ('A1VS92UYKY0GHN', 1), ('A3RZ6V984Z309M', 1), ('AXU6MLKDT3B6V', 1), ('A1A7VD0YGGDAPS', 1), ('AWQXNZA48CEKD', 1), ('AC497HNO0E8VH', 1), ('ANYXO3GW3X1X8', 1), ('ABDQ2MRN5WCHJ', 1), ('A3CPJ4ODEYI0L2', 1), ('A1JE9RKJSQ9WGO', 1), ('A5UI8IPN6SOSS', 1), ('A2IIDRHZMGK3E5', 1), ('A1CKSRF05IVVHW', 1), ('A15V4R9N8QS3BI', 1), ('A36RCVPH79KR3J', 1), ('A2VR6YZXKXT92K', 1), ('A2VMH7YBP3YUTV', 1), ('A1CP5T5KS9JYMU', 1), ('A1FL751FIQ1K1F', 1), ('A1V26EK9YVIC1U', 1), ('A3CPL126VL12H8', 1), ('A2ZJDGVJ45AR5W', 1), ('AYXJ9HSVWX97S', 1), ('A2U6EWZTA418N0', 1), ('A3E6R53BBVWPZ1', 1), ('ANLNI4ID8VPXA', 1), ('A2Z9JNXPIEL2B9', 1), ('AJ6AFRHY0TE85', 1), ('AOXMWBNDZDJ9L', 1), ('A3FHDBBXZFNQUK', 1), ('A1DYF6ECUCGHXY', 1), ('A1OTKUVYWO7W81', 1), ('A20VX7F4164FVC', 1), ('A1DTAZVQZAJVTA', 1), ('A2WAUZQVSEFR6T', 1), ('A3BFCHN39OF5XL', 1), ('A3L9SN34TI9YMX', 1), ('A2P58WCEMU5VS0', 1), ('A2S41GL7XNIYH5', 1), ('A9JS5GQQ6GIQT', 1), ('A11OQ0NZAVHYRF', 1), ('A2M07Q8FOXN3WR', 1), ('A1QZQ1UC11S7SU', 1), ('A1A3HOH0RCT9GP', 1), ('A3FXFTS06IX22M', 1), ('A3FY73C23XQ35E', 1), ('A30E27O1GM3GLV', 1), ('AQUMNB8YWE595', 1), ('AHG9NC2C0FN98', 1), ('A24O0OS2H86QV', 1), ('AY8JVIABRH4K', 1), ('A2MFSX1QO1O6XL', 1), ('A1VAQPAX16X2OT', 1), ('A3FD3BHIUYIFPD', 1), ('ALBW2ZBS6Z2AY', 1), ('AENQPVTQU5MSU', 1), ('AJNDL4BI7AQ8H', 1), ('AVHYBNHMM37DF', 1), ('A2U5TAIAQ675BL', 1), ('A1TP69D7MIMXDF', 1), ('A2Y0VANFCS9HUH', 1), ('A28SGC3ISWHB9E', 1), ('A362PVPSOJ579X', 1), ('A2Q53HT28RCH8N', 1), ('AVYJR4PZSMC7J', 1), ('A1JJLIO36ZYX4V', 1), ('A2TXCF8Q246NLL', 1), ('A28LXPTCISZA0S', 1), ('AQTFRRTUH7K9B', 1), ('A1V1ZNXG5WF0IM', 1), ('A232Q01OI8O3K3', 1), ('A13VH0PS4SKVDF', 1), ('A1NM2P8DXA5SME', 1), ('A386ZPWEV03PW5', 1), ('A2KKQN5F0SNY2L', 1), ('A2N5RWQ4ND7DIW', 1), ('A3PQS40IWU4R97', 1), ('A3V8GE9WBX54SZ', 1), ('A29WJDD28NBNM3', 1), ('A2XYCTVMA6HMM0', 1), ('A1ZW99N6T7E0FJ', 1), ('A2ERLLB9NI7B1G', 1), ('AHDIQGS9M0YH9', 1), ('A37F6ROMBNWVNQ', 1), ('A2I3XS9TO93Q0F', 1), ('A35SIY7AGE5O7O', 1), ('A1MBC8A72OKKB2', 1), ('A2PAJUZF2RCZIW', 1), ('A3GJEEX2OZB1C4', 1), ('AHLTM0DX828V6', 1), ('A1MOLKSVVY6C4A', 1), ('A2A9AK38AAJHOL', 1), ('A37LNXZ3U8Z0PW', 1), ('AF8BD13PX00JX', 1), ('ABNMD6670TV53', 1), ('A218IAZ4TAE2JG', 1), ('AIIIJRZ9O7WPN', 1), ('A25IVQCN6XPGVU', 1), ('A18YW53X4VHGQS', 1), ('A1PVGVHONQI7WU', 1), ('AO7G0AEWF76FZ', 1), ('A1W0EK0033YVGP', 1), ('AQ55JT0NA0N2X', 1), ('A2TSHCT7EUO6S6', 1), ('A1YTINX5QKEW3P', 1), ('A25L8SFZEIS3W5', 1), ('A2ZXZK7I68JEEF', 1), ('A32ZZQV7FBYBBK', 1), ('A15LKTKJ2PSQU3', 1), ('A28YBL28P03P8V', 1), ('A1L7622GIOHOKH', 1), ('AVLDNUBKKN3YX', 1), ('A3JAXGSXU195WV', 1), ('ARGYM4CYRRZ26', 1), ('A13SGME8HN4P3U', 1), ('AH819V5XZVAJJ', 1), ('A1DQF45ATLZ8OW', 1), ('A2088N03XT252I', 1), ('A37D2TGTIXRV2N', 1), ('A2SHJMNOT4EER5', 1), ('AK0PXM8POPVMO', 1), ('A3MIVT8IBWSC0R', 1), ('AXOO7BPM22BDO', 1), ('A3A6ALK2YTTCZS', 1), ('A2SBXS4OLUFH89', 1), ('A1O9KXI6CAV8K8', 1), ('A3GJP4K1FBGWB3', 1), ('A1CFU5XJXN3PV4', 1), ('AYUT6BQ68PVGT', 1), ('A3TLEHA5T8C82', 1), ('A2AH0NQIVXE3HL', 1), ('A1BWO3WO34PYR4', 1), ('A35K68AM80H2LI', 1), ('A2631U0YHK1WCH', 1), ('A1P27BGF8NAI29', 1), ('A2U0C4SWY3B2EZ', 1), ('A1PC8WIZSF8P6R', 1), ('A96AUNSF6GESO', 1), ('AKGD6454LHII6', 1), ('A3HGUSZHOYI2B1', 1), ('A2RPNN823U333Q', 1), ('A357D8AWVFNNH6', 1), ('A2KX939MKLWD64', 1), ('A2BUR1OE12OILL', 1), ('A399Z7W6AJWTAV', 1), ('A393IJK6IWJBYV', 1), ('A2HZOHKQ3VT4HR', 1), ('A2VANQZJ50SDKH', 1), ('A20F84KUBWM88B', 1), ('AGJGJSFWS80NV', 1), ('A1F3P86HABN49V', 1), ('A30SPABIPVN5MV', 1), ('A3T9XUHNVHA00A', 1), ('A3VQXWRIB7GV3F', 1), ('A1TIALU0XG3172', 1), ('AG509WZ4O3ZVE', 1), ('A3RH5OG1NLYWA1', 1), ('A2N0EWFLEDIYOZ', 1), ('A34W04PFTEIBQV', 1), ('A6AQGHVPMLHNO', 1), ('A19ABDKY8ULUN5', 1), ('A1KNMUQUT0E467', 1), ('A3FD1NNRSGJK33', 1), ('AKV2CSK35JW0D', 1), ('AJSQYVJSZBQEZ', 1), ('A11FWFOKGGAUYA', 1), ('A1A0QSOZKJ9CSW', 1), ('A13WHL0WWA8TFJ', 1), ('AEOLQOH7KKSSB', 1), ('A1B97O8MZHDNYB', 1), ('A1ZBMC42IE96C1', 1), ('A3E65GJTEAOC9M', 1), ('A96K1ZGW56S2I', 1), ('A2ZQODD5XZVSM9', 1), ('A2H2I5FY1PUHP1', 1), ('A2R3C0OG2HFQ9H', 1), ('A2OACUGC7AUPNT', 1), ('A2DAE4L0OCQO6W', 1), ('A2WG21234BLBS9', 1), ('AYNAH993VDECT', 1), ('A28LV7CHO84L0V', 1), ('APPCJX62WKIIP', 1), ('A38RA1ZDO7RFZQ', 1), ('A2RQO0AUV04FZX', 1), ('A1VWRTF3V4DHFE', 1), ('A2DRQFVDV5M9XE', 1), ('AQUQ2VHEN1DM7', 1), ('A36EMFO4RUN7QM', 1), ('A3O7REI0OSV89M', 1), ('A2XLWYQQGH7T3L', 1), ('A2C65ETCGML2CG', 1), ('A4YUXXZ0DGHJD', 1), ('A26GHQOTRZMGG8', 1), ('AC9DSAOJYZQJY', 1), ('AOWF7FPRT84IG', 1), ('A15F4SZ4VFBO70', 1), ('A1QN2KOLKLWEI5', 1), ('A2UI2YR1T3P1ZI', 1), ('A2BEW6FNOW66XX', 1), ('A3MCMVDYBTDFJ3', 1), ('ACP28QFJBMHWX', 1), ('A4GXZVYP51AGS', 1), ('A3U57Z3U2OZ00', 1), ('A26U86H6TY5JGJ', 1), ('A27RSLNCI9W48H', 1), ('A2V62Y7O1GCF0N', 1), ('A1BE8C29T5B7Z8', 1), ('A3NZG7EFYJGG6A', 1), ('A2T7VFBJPVWUJO', 1), ('A6B8K2EMIBT0Q', 1), ('ARMXY9JO964PO', 1), ('A1VIO3SYZR3XQK', 1), ('ADAZ4T3AAHVN7', 1), ('A1CTNAMX1QN5GL', 1), ('A1DFBRVIYF533T', 1), ('A2G0VUD19MLPYP', 1), ('A27TITC8ON9CMZ', 1), ('A37RVR1EDMZRQT', 1), ('AW5HYD1A2DUCJ', 1), ('A33Y649K8M9W6D', 1), ('A184HTUDGTM5IQ', 1), ('A2S3MUP7B22XIC', 1), ('A1APCGOMN24AYO', 1), ('A20ND5VKGAG7XA', 1), ('ANTT3Y4ARSRTO', 1), ('A14H8RRZX87VZM', 1), ('AO8W9PQE5UYGA', 1), ('A2PSBW48FQK51L', 1), ('A10YPORPPZQEWX', 1), ('A1E4JTG9X3AZQS', 1), ('A2LBIC0C82IVIT', 1), ('A15P6JXOSIN2TG', 1), ('AXI9UTOJIO2T2', 1), ('A296X4ZUJFBAMY', 1), ('A1G7XPJJQA226A', 1), ('A1YSL5033M5OL5', 1), ('A186RQLMYP1VNG', 1), ('A1CHOKV10NEI8X', 1), ('A2Q2WA62JJTUCV', 1), ('AS9IG6PUNJQGC', 1), ('A55FHH9UVJHV8', 1), ('AXXHSR6EEJ6X3', 1), ('A2L00I9B4V9F77', 1), ('AB6RV1AXXKPSH', 1), ('A3F9TI0YRFF0C7', 1), ('A3KM691AO1IZKZ', 1), ('A2PM8MR153CYXL', 1), ('A1ACM1CBGORBN1', 1), ('A29SZ6ZTP4MH9H', 1), ('AYA1ON1SVIPJU', 1), ('A2KV6EYQPKJRR5', 1), ('A2BYNLAM76HR2H', 1), ('AKX8QXMRZUZ9K', 1), ('A3DHLLD8Z3YTHR', 1), ('A25MPQNRMMS450', 1), ('AY3PYPIHPZQ25', 1), ('A1SXCGBJ9JW2MO', 1), ('A1YCQPRYNHKN55', 1), ('A2001065G65VJW', 1), ('A18NMBZTHPVZOL', 1), ('A1X1N4LPKJQ05R', 1), ('AX3V4W4Y891BO', 1), ('A3AJ7J3KB2LRVC', 1), ('A251WX1Z4SHFDD', 1), ('A14DTJI4FMG9RB', 1), ('A1IIOLH8KAECSO', 1), ('A34UI1G8JJ1E4Q', 1), ('AO4KNBP4Y5ZPU', 1), ('A1IDWUYX4QXTUE', 1), ('A1LXHDQLA5KKPW', 1), ('A2UEL7CRDCMG0R', 1), ('A2FZI0BTON78GQ', 1), ('A2HTC5PWUGOO88', 1), ('A2PMLB19D69HPN', 1), ('A29BA6LLBLJILF', 1), ('A3KPHXGQ2SUVCG', 1), ('A1BAK2PJSVK8MX', 1), ('A1KUT7PV7XTO23', 1), ('A10HCDJHR436EJ', 1), ('A380DEMZPD1C8I', 1), ('A2E6C8G3WQJXQF', 1), ('A16WIPH6PUI5XY', 1), ('A284GGIIM31PGM', 1), ('A3G4W7TC1J1043', 1), ('A224YTXYA2ERH1', 1), ('A1FD3HXVOGQMWJ', 1), ('A3VYWPH37FMXOK', 1), ('A3JVAMHQ1AG1HE', 1), ('A3TO4GZ35YKK1X', 1), ('A2APLHETAO56C', 1), ('A1HI90UH876FKB', 1), ('A1KVYM5CNK75PR', 1), ('A137YH5V6LGYSS', 1), ('A3BYKK0TFKRC22', 1), ('A1011PVIALNY6J', 1), ('A2TVFGPP29X71T', 1), ('A1KZPDB5MOWNVU', 1), ('A39B3E7CL22OYT', 1), ('AMAVEZAGCH52H', 1), ('A1HO8OJF8EPK5C', 1), ('AJ8HQ860LUJSN', 1), ('A3B8CXU4T1X7S8', 1), ('A2YJEUS6Q1A7WD', 1), ('ACZPBVU1OTKUP', 1), ('A3QD59N3M7O7KB', 1), ('AJ7K50X3SV5X7', 1), ('AM83WJG9BE2EP', 1), ('A3Q2NT71Q0R2OW', 1), ('A32JS1R9V5LB78', 1), ('A1864W3OZW3WBS', 1), ('A1NDDSWYDRLJHF', 1), ('A10RPS63T5WIIB', 1), ('AXBO8IITQB0FH', 1), ('AP1ZW8V4HTO6C', 1), ('A2KXQ2EKFF3K2G', 1), ('AM3E6SVW2M0X3', 1), ('A11DV7U73MFGMY', 1), ('AAJZWCB1SJSFB', 1), ('A15040BJHCUAPG', 1), ('A3LOR52QCQU114', 1), ('A1NATKZWW6EJAK', 1), ('A2I60HCAVEF3RC', 1), ('A4H1FCXY3U4VO', 1), ('AEEVLJ7BYX0XO', 1), ('A6B6BSUWGCBC3', 1), ('A2QOIPT15C6YFX', 1), ('A6EZNISAV5HDW', 1), ('A1ZA9B6TVX961P', 1), ('A21PS501QMDKK5', 1), ('A354VQXQCGIQZ2', 1), ('AQ9S2GTR0VDC2', 1), ('AIEH19GTFWHWP', 1), ('A3UYBEWR3AIPL2', 1), ('A5H2KQ06DLGWW', 1), ('A2CZPBRPBEFX2R', 1), ('A2DGR4QV3GOVQD', 1), ('A1AAO0V5MURIDH', 1), ('A1YJMG0QJXZLD4', 1), ('A3UXGVJWFDIC4T', 1), ('A104FLKIMW5MRP', 1), ('A26NNDKQDICMZN', 1), ('AKXTFI6OGWJQF', 1), ('A1LCNGIJFB0EVS', 1), ('A2RF55IVDK96SD', 1), ('A28GJHVEB3ZFV1', 1), ('ASKUUQZA96A9', 1), ('A11DCBNCPEBWBL', 1), ('A2B2M5YQZPBOA3', 1), ('AUSJM134Y06S1', 1), ('AZ4CKEJGTQG1V', 1), ('A1JAPP1CXRG57A', 1), ('A19HHHP1EJ68TG', 1), ('A3QS9QL6DOKQDW', 1), ('A2B4SEB40GSX9Q', 1), ('AXAOQIZ7AAN4U', 1), ('APMYPD97EHUUZ', 1), ('AE7GOY1DVV90P', 1), ('A3IY593AEFLXER', 1), ('A12270M2NQN1QC', 1), ('A1VDISN53LO1K', 1), ('A3984G9B5FXH64', 1), ('AJAANEW58N624', 1), ('A3EDAIXNN61MZD', 1), ('A3VAIUS6VZCMEH', 1), ('A2YBQ4T1BJJDE1', 1), ('A2ON4K5SOER4YD', 1), ('A3RMR57027OCQA', 1), ('A39011OV4EWS7V', 1), ('A86KSYCW6U4Z4', 1), ('A2ICI5CWUSBMSS', 1), ('A15BBHB36Y8IEH', 1), ('A2SMK6STZFWKBP', 1), ('A35CFHASBM9OZV', 1), ('A1Z81Z9ZKR1RQJ', 1), ('A2O6305QOF45MQ', 1), ('A19070W4HLG899', 1), ('A3UYC2W3K67LS6', 1), ('A35W3JQYP0M655', 1), ('A2OI26HDSEZFEB', 1), ('A1RXZ4CABWPVN', 1), ('AC5JQ2Y7FCL4N', 1), ('A1QZVTFM26YGQF', 1), ('ADR3MR8529NOD', 1), ('AAPPWNP9FWVWS', 1), ('A3V2Y09XX8LVLO', 1), ('A2IT7A6SKJELLN', 1), ('A2L6V7O69GKNBH', 1), ('AH5Y2L3K51J0O', 1), ('A1N8YKDJ8KJAMM', 1), ('A3BD20DGXAO0XN', 1), ('A28GBNBN8BE3U1', 1), ('AX9JKBZJERV9G', 1), ('A30K6FX9TGESXS', 1), ('A22WZP6V54FC4K', 1), ('A1LO8G0GFC4KIL', 1), ('A18K25LOCI0KH', 1), ('AGKW1Q9IUWIMT', 1), ('A2JRXXDPAI9CK9', 1), ('A3IFHZYZT1SY5G', 1), ('A2699NLN1UWFRO', 1), ('A2ZMWF79SFRJ4V', 1), ('A215DC8JKGGXQX', 1), ('A36K2N527TXXJN', 1), ('A3J3MFGC8VVZ2K', 1), ('AXOHUES3YZ4UG', 1), ('A155D8LJ5W6126', 1), ('A34Y157GY4DWJ7', 1), ('AA72FD1EH0SE9', 1), ('A2Q9SY78G449KO', 1), ('A2L20SNQ4EZJ8B', 1), ('A32SIZL5NVDXJM', 1), ('A102EES14OUWJ6', 1), ('A31CYJQO3FL586', 1), ('A1S9BQR8HDWGG8', 1), ('A31HMXJM7GZ60N', 1), ('A1NNTRF2NMJS6C', 1), ('A2ELXIIB38YHUO', 1), ('A2PMWI7ZJ0AU2N', 1), ('A1KF8IJAV6YM4U', 1), ('A3KI4RMH7JX91D', 1), ('A13XHH6I82E1OJ', 1), ('A3D6ISMLB8ZASC', 1), ('A1HXFAZ5GOHDSE', 1), ('A2HEZW3C03DRUF', 1), ('A2FZ3UAEXLWKP9', 1), ('A17RZLRLBH8HHM', 1), ('A4SD8F79JBYG2', 1)])\n",
            "('A2Q3E4Y8M535OQ', [('A6SB8A3A2NWWE', 8), ('A3PJZ8TU8FDQ1K', 8), ('A3OXHLG6DIBRW8', 8), ('A2MPYCJOQ3XX2B', 8), ('A2FJH6TNED2M1P', 4), ('AEL50OB2KIEW4', 4), ('AAJR3ORF2ZQM7', 4), ('AJ1H90XS8PLXN', 4), ('A37HHDBS8F7BEH', 4), ('A2708XMGVXIHJ4', 4), ('A3IESLDKKVX7PR', 4), ('A3RSWDQJ9B479Z', 4), ('A2AD3WNP9WXTUF', 4), ('A3OR83P2LN0LFJ', 4), ('AZKRDX2LIMK7O', 4), ('AEVJIK8MCL9ZO', 4), ('A2R946H6OFWS6U', 4), ('A1TITOWKMCRDL2', 4), ('AH0L78CVYEEG1', 4), ('A2GY1YX6TQVJ0Q', 4), ('A1GYYOM7I89AEX', 4), ('A2M6UJX3KQ4JQF', 4), ('A222SAOOYKVST8', 4), ('A6YGKDTNYSRU4', 4), ('A24BG4B6F3NUT3', 4), ('AINUV6DVXMKEM', 4), ('A2QN6WQMPN6B7D', 4), ('A1JYQUZIIRLB82', 4), ('A1JVFV1VAA08X', 4), ('A3G2VFUX5MKLDH', 4), ('ATOKDVCXPED8D', 4), ('A3FZ0GXBA9QTTH', 4), ('AL2MYSBH9I40I', 4), ('A1SXHGINVLL3AL', 4), ('A321B5DIQCYBLK', 4), ('A2KYHPN1D1AP73', 4), ('A22PH12P71FH93', 4), ('AZZHZZMH3U1VB', 4), ('A3QQMWD8JN7TM6', 4), ('A2TKXQBQJ70PM4', 4), ('AQQLWCMRNDFGI', 4), ('A3BD4SEQPP7RJW', 4), ('ABVJDBXJBDWKW', 4), ('A1H381SIKM22GV', 4), ('A2JTA9GYHUFJET', 4), ('A3D2AWHN6A2UAP', 4), ('A2QGJM3D619WTX', 4), ('A35P9B3YXR3ZYG', 4), ('A3RSNTR0GFR3FV', 4), ('A1LLMTLL2EESAM', 4), ('A2JEYFBK6CCWRF', 4), ('A2PHC1W7HA2NW2', 4), ('A16VSC3Y6Q92W4', 4), ('A2MCOA07G0J9SA', 4), ('A2U1YLSCMQLKHA', 4), ('A1NPFM9604UR9L', 4), ('A3Q3HU5PZI6UHW', 4), ('A1OVJFVVBW9XLA', 4), ('A1E4ZURNR2DC0R', 4), ('A4VMQ6ZTSXSSL', 4), ('A2OWYO5RRERMKW', 4), ('A3FM2KSFRAI64F', 4), ('A27C5U7IFTVXHP', 4), ('A29NOLFV35AZP8', 4), ('AM6WHLFEL9JM2', 4), ('AQ5CU221BTY8S', 4), ('A1O9HDGEU6T1LY', 4), ('A96OL1DZWD10A', 4), ('A3TQ6MC20Q74SL', 4), ('A2Y0U71LWG5W2B', 4), ('A14AVORI0UL7A6', 4), ('A1PUL2U2PDSCAX', 4), ('A2SMNNJS6UOERC', 4), ('A2Q3E4Y8M535OQ', 4), ('A37YG52WY9672Z', 4), ('A17T6L1D8K969U', 4), ('AGM70PNLZAE6F', 4), ('A1WDDZTSP0F3KE', 4), ('A1DBF19L6Y5AKO', 4), ('A3KLAK8EM3YWWZ', 4), ('A2KX0E2FQZP654', 4), ('A3VBXOGIQSIPTF', 4), ('A2HEFKR3769OMM', 4), ('A1WJR10UO750SV', 4), ('A357BQRSVZ7SZ', 4), ('A1W30O6VMSCX23', 4), ('A205XK8CEKJ1T7', 4), ('AG1849URYY9VI', 4), ('AQ0SVVUPPF4UX', 4), ('A3966TRSIWW4Q2', 4), ('A2IUEHSJE57RQ0', 4), ('A3BILE618Q1YSD', 4), ('A271GZXP1I9GC9', 4), ('A8INT3NMHRUS4', 4), ('ASO5LSOMGTXE1', 4), ('A1O1WC28TJ38SK', 4), ('A25UTJ1AXFC0Z9', 4), ('AQMUE615C7MC', 4), ('A2DEC496E58BRG', 4), ('A1XPT6TAPFPPEM', 4), ('ARSXCLVS4QA6W', 4), ('A261PG63GDOSO0', 4), ('A2IFTF67SBFM2G', 4), ('A3LXQNUURHN0RB', 4), ('ANJC1DYEVSKMT', 4), ('A35AO7QDM0R116', 4), ('AIP4FU120WT8G', 4), ('A318QRN0VYLEM8', 4), ('A1N1FOSJ319JHT', 4), ('A1H5LEFDUN4XQD', 4), ('AS7LUSEFZBVJM', 4), ('A17HMM1M7T9PJ1', 4), ('AFC9D0BGPH8Y1', 4), ('AB8PM1TC01LDY', 4), ('A3CDDVCIGAKR8L', 4), ('A1Q7K2TXDK0PJB', 4), ('A1IK3U20MSQZLC', 4), ('A3I8EAFM9XGMMG', 4), ('AB7MNQT4SR5L5', 4), ('A2TJG4N8LNJW23', 4), ('ANOD28P22F3YO', 4), ('A1J58X3WYJ1MVE', 4), ('A2DR708CP7W57V', 4), ('A2ZLJYJYQ25CLU', 4), ('A2GSBHPPSV3NSE', 4), ('A2NVX117EFIW7Q', 4), ('A3CG93783LP0FO', 4), ('A386VGG59KAT3F', 4), ('A2CP6Q3ZENQL9E', 4), ('A2ZSYINLY6M7HP', 4), ('A1XA6YMIHRYSO9', 4), ('A3FM3935S78K67', 4), ('A3T0SXNEYSNQ43', 4), ('AOWOZGRZG3OBS', 4), ('AI9IPVQ6D4RXB', 4), ('A38XUEEWNAS3TD', 4), ('A2K4Q4I8MPUMQU', 4), ('A5V4LF4PSQZGI', 4), ('ADUW4KFSRPXX6', 4), ('A208ULV3V7OKBQ', 4), ('A24UGYADV5IPYF', 4), ('A1KZUXE70GYNGO', 4), ('ASBY5EPXKYETU', 4), ('A2FEHI8AVR0VUP', 4), ('A3DO6BVORTUBRA', 4), ('A1BJHZE41QWBX6', 4), ('A83QO5LXJHCZB', 4), ('A1IZJVLNMFACS6', 4), ('A4JMBAK69PEZ7', 4), ('A6247I29BYSKX', 4), ('A3FVYUI1CWCHN2', 4), ('A1RS732SMTA5W2', 4), ('A2FXNP3WH78866', 4), ('A82YTIEWKAZMS', 4), ('A3UOYYQS5Z47MS', 4), ('A2WVKTQBZVYESB', 4), ('A32I0TYSS7I1RB', 4), ('A3HL9RYE30WK9R', 4), ('A1WNR7Y56L7Z0P', 4), ('A20K07R8ZHNK4U', 4), ('A3LRUPVM2M74Q7', 4), ('A3UKNHZHG4687D', 4), ('AU02YJ6L9FFNP', 4), ('A2XAGN52M9R30Y', 4), ('A1DGI5RPSLZZW9', 4), ('A241HDIOHZJRBR', 4), ('A12UZWJ6N3JBGO', 4), ('AHFHB2TIIQN2D', 4)])\n",
            "('A2HILISRE5NRPA', [('A3H8PA7AG48K33', 1), ('A1LA4K5JF78BER', 1), ('A26KHZE0HTS057', 1), ('ACQYIC13JXAOI', 1), ('A16PUD6V3KAZ0Q', 1), ('A2FRFAQCWZJT3Q', 1), ('A1Z7Y2GMAP9SRY', 1), ('A1VCG7N8BV7XWC', 1), ('A16KQ3EY6UEJGQ', 1), ('A2RME4353Y911C', 1), ('A688RIZ2POWSQ', 1), ('A1LHAXBM5GBJS2', 1), ('A11L5M4MJP00UW', 1), ('A3IFKBUE064H5V', 1), ('A19ZE9E4C1L3IY', 1), ('A37WVR9M1STQDU', 1), ('A1DGRO0NEY1UJA', 1), ('A26U7D0N4PCTNT', 1), ('A8T9EP7QKGR4T', 1), ('A2M0RGVSV6YCMZ', 1), ('ALEUQQE118NEW', 1), ('A18GJ9MYYO6GCQ', 1), ('AXFO241GZ4BYK', 1), ('A34W7QA4J5UTOR', 1), ('A1P2XYD265YE21', 1), ('A1JUBRIZMO0RJV', 1), ('A1SCANWWQTEG9I', 1), ('A2O2C7C3XLHO2S', 1), ('A2YEZ8Z3BW2SKG', 1), ('A3J356L2ADK05Z', 1), ('A2VYSDQ4Q7B2TC', 1), ('A24Q0FT8N4MK6B', 1), ('A1ZCSSCAGBCD49', 1), ('AHFGCH8LANEZK', 1), ('A37PZJH2F13IOR', 1), ('A2HILISRE5NRPA', 1), ('A2WPO2NR9FIWR2', 1), ('AIST7V8XF4A18', 1), ('A3TPNC3TKGCCEI', 1), ('A3VBXQKRM7A4JR', 1), ('AB34EWV1Y2PVN', 1), ('A3T3S48UAVTUE9', 1), ('A2JXCOUGYS5Y4J', 1), ('AWKZAUC0D8DYL', 1), ('A38O4FPZOIVS49', 1), ('A37JNUJSVAJKYN', 1), ('A29TZ0192IY8IZ', 1), ('A1ZGHA3IJV01BK', 1), ('A20QDPC3E3WQI6', 1), ('AFJFXN42RZ3G2', 1), ('A2F2S1L61X1LA9', 1), ('A1B70ZEWQ6UH1A', 1), ('A3LVTATM6TO27B', 1), ('A2DN7RUNX06BZ1', 1), ('A225H01JA1PAH0', 1), ('A17OYW896EY37V', 1), ('ACVDL5QRCOPE1', 1), ('ANKQGTXHREOI5', 1), ('A1S78V0MOUYFUA', 1), ('AYUF7YETYOLNX', 1), ('A23WE733QT4WGJ', 1), ('A1F2EYORWOZ3G1', 1), ('AMTK54YZAO411', 1), ('A2WRWK0ARXOFSZ', 1), ('A1UKA7HUAQAMY', 1), ('A2KX7C5O86E58', 1), ('A2OKRGHIYTBQ6P', 1), ('AHRNDSKWH1YBT', 1), ('AFVDHQ4W359NH', 1), ('A25KVM6GJBLISZ', 1), ('A2W4014S06NAIT', 1), ('AJKWF4W7QD4NS', 1), ('A2EHYCA29NSQLU', 1), ('APHX2A37KDRAH', 1), ('A2MLA4FHL5K325', 1), ('A17A1KTVI3DG6U', 1), ('A57Q87B0TC9IJ', 1), ('AO9UNKQG83BUP', 1), ('A3AGWRMHKLFLWR', 1), ('A2MY9VXHZYAHUZ', 1), ('A3HJHV83O2U8BL', 1), ('A2BZCHIDR5FTYA', 1), ('ADS5APY1NKTL4', 1), ('A2XA8CW5DF4MNZ', 1), ('A2AQUIHJELUVLE', 1), ('A3GKMK6KQH3Y1H', 1), ('A28CCN6VYHRUKS', 1), ('A2Q2A6JKY95RTP', 1), ('AE1IT64JYGU4O', 1), ('AONUCJBC85BL', 1), ('AZ9WQM7SLUX7E', 1), ('A2WA8TDCTGUADI', 1), ('A16AXQ11SZA8SQ', 1), ('A1E110L9ZKX6FD', 1), ('A33PBU9EHZ28PC', 1), ('ACAXV4V8PBCE3', 1), ('A2J8DE8R94ZB02', 1), ('A161DK06JJMCYF', 1), ('A1SINHLUYMCCRK', 1), ('A1VBDMNT6I8RE5', 1), ('AKHFY3VCNZL2W', 1), ('A1DW1FK1H3F2TM', 1), ('A1A9Q3CQA5Y28E', 1), ('A2IO1ESNSIAXG3', 1), ('A1LWYVLGA3N2R4', 1), ('A20I9N5D71O8UT', 1), ('A2I5LVVQ7WXEH6', 1), ('A1BHPFAQ2NOJSA', 1), ('ADTUS88NFTW23', 1), ('AESPLVBQJCNC7', 1), ('A8WAYVOKYBLO6', 1), ('A2F1QPIJTDWK55', 1), ('A3QS4WWC1LCA6H', 1), ('A3436BWMMFP4VY', 1), ('A3OT6IQ0YHGDCB', 1), ('APP5MBH2BSX6I', 1), ('A1ILWPH1GHUXE2', 1), ('A3T8WOFS5RD2IR', 1), ('A335GUD1YBS31U', 1), ('A8QITLROF01FW', 1), ('A3G7BEJJCPD6DS', 1), ('ALR2N71T0APWV', 1), ('A1E1L1OJZQI3OO', 1), ('ASCVKP9B6MI9D', 1), ('A375NF45A1MDWI', 1), ('AUQW6UEZFC7B2', 1), ('A3DI391K4GAI7Q', 1), ('A12E0Y0J6584RT', 1), ('A36S5U0QOWMOSX', 1), ('AA98O5326L88T', 1), ('A9Z5L0JFXKIU2', 1), ('A3MCBV388X4A1Z', 1), ('A2PR5G1680ISEY', 1), ('AAZ5OJ2OOJ2DK', 1), ('A28UMA3GW9L124', 1), ('A13MKSASQ6YWL7', 1), ('A208U42GARHSOR', 1), ('A2OMQEK9OW2FY6', 1), ('AW7BIYHXUIZ62', 1), ('A1RRMZKOMZ2M7J', 1), ('A1JFGBFN1W5G6U', 1), ('A2L6QS8SVHT9RG', 1), ('AMPTUVYLEH4T8', 1), ('A13MZ8L5DC4JHC', 1), ('AR33KU52LIBF1', 1), ('A1TW9ZGRDQQZ2Y', 1), ('AYGEP8I4BQ3CK', 1), ('A35IX2GE0VC0JP', 1), ('A3DJRNEMOM1XF', 1), ('A4VMQ6ZTSXSSL', 1), ('A1ZH9LWMX5UCFJ', 1), ('A17X1FE00SH0ES', 1), ('A1S2IY37JU93XS', 1), ('A36HEY6E2XQT75', 1), ('A3SQQYS79AV13M', 1), ('A2065HBMYDXJ1S', 1), ('ATZPI8XK3KP7', 1), ('A11KZ906QD08C5', 1), ('A39ISGPKMF9X0R', 1), ('A1QO88MU0PYJON', 1), ('A2701UXI8QGRHE', 1), ('A1CS6FGM6TMQ3D', 1), ('A16WPA6JV83YXT', 1), ('A1517476XFOC7A', 1), ('A1BPCX5TX2HNRQ', 1), ('A1JAV22A2FJAHY', 1), ('A3L2KYOYDWSRPL', 1), ('A3UBDVOL5UDIIB', 1), ('A3GK9LT41X73NC', 1), ('A1NN8Q1DLAYPGH', 1), ('AZM8N4NZCHYPM', 1), ('A250AXLRBVYKB4', 1), ('A1TOML01ZYPUFR', 1), ('A2LW5AL0KQ9P1M', 1), ('A23ZNGL704AW7O', 1), ('AZAKCIFE27RAA', 1), ('ALLT59D78FQA8', 1), ('A1LJR5IS0B6ADX', 1), ('A2MO9URO4526Q2', 1), ('ACX80IV6CGBZ0', 1), ('A3BTL4FV6ODKAT', 1), ('A3F1G6UH4Y39X2', 1), ('A2BR7A27PGME4R', 1), ('A112J4P5ZC44XX', 1), ('A3ATKIU6MZZ4MU', 1), ('AH9MUK2Z52V6N', 1), ('A14X244VGHWPSX', 1), ('A15U38AWJ3JDN5', 1), ('A3JLOIXFM75QNV', 1), ('A1L6O6TEPAZ94X', 1), ('A25C2M3QF9G7OQ', 1), ('A1TRAEV7QWA5DX', 1), ('A3OKH5G69MS8D9', 1), ('A1C760KGFSRI6F', 1), ('A29YKT85YFAY87', 1), ('A3QV8UCKZ0Y7C6', 1), ('A2V5R832QCSOMX', 1), ('A3OO4WIO4SKD55', 1), ('A36K2N527TXXJN', 1), ('A1CFU5XJXN3PV4', 1), ('A3C4UKEYNLUP4X', 1), ('A3BG4WDJTMHRTF', 1), ('A1E8XXAKINL0B1', 1), ('AUV3OR951650C', 1), ('A1Y5ERIKQBEMSP', 1), ('A1VXIY1511XQK2', 1), ('A39E7IWNHY62JT', 1), ('AQSW6WDVCJGB8', 1), ('A30IP3E4MDQ36', 1), ('AAG0O8X2PYE6G', 1), ('A20H1M28WLI9J2', 1), ('AVJJ2D4G5I0Z4', 1), ('A1X9OJN30EBE3M', 1), ('A1YUL9PCJR3JTY', 1), ('A3HRDRQ5VAFPQS', 1), ('A1D6PWUMDY9F7V', 1), ('A3GZH53OZKWOZ1', 1), ('AYNAH993VDECT', 1), ('A2OJCTT5WLB2HR', 1), ('A3QDBUDXLHUJX2', 1), ('A2GPLOLLE6BUDT', 1), ('A3BH63GKL7MQ2K', 1), ('AJ3FY4QHTOUKC', 1), ('A3HPCRD9RX351S', 1), ('A306153FTKS9PL', 1), ('A1V4VVBQBFXRHC', 1), ('A1BT6TL7UCIC5Y', 1), ('A22K36X80X815R', 1), ('A1DJ9FOEOA0WF1', 1), ('A1KKE6VX8VPWZK', 1), ('A3QD59N3M7O7KB', 1), ('AWIF8AR75LL9L', 1), ('A18D0R137EYS6C', 1), ('A37NHGD0WTRYFH', 1), ('AMO1MLSIJSQOF', 1), ('A1ER6IYOMM8VCT', 1), ('A2F1P10GGZ7K2T', 1), ('A1R9QOPV6HVEKF', 1), ('A1H4QWLST1N3D0', 1), ('A1PWWI1Z2JTN5U', 1), ('A3D9NUCR4RXDPY', 1), ('A2WN1QF8GSVHYV', 1), ('A3VI2VETB90ZG5', 1), ('AL4SB31UAZLXL', 1), ('A3464G00K8ZYD1', 1), ('AW99SBGWEXP0J', 1), ('A1NGFGBX2VCQS8', 1), ('A1OMHUU58XHQNG', 1), ('AMRMK86X3PKXD', 1), ('AF03A958JD9GO', 1), ('AFFVUZEGP1FDQ', 1), ('ACYR6O588USK', 1), ('A1H7Y5XKPGT0OS', 1), ('A3IR834T7AROBT', 1), ('A9JLE9BISQFUB', 1), ('A1J5HIF41ENSMZ', 1), ('A1FHWJ7EFO3E3U', 1), ('A1C139F5C7Y38P', 1), ('AKB2PYODH0TKS', 1), ('A2UUP58XPQW3GF', 1), ('A1T61QP7QHYBRQ', 1), ('A24O15MYDNLZBE', 1), ('A2S2B44CQTFFI9', 1), ('A2MSQNPTNAAGL1', 1), ('A2H1W8V6R9TJ9E', 1), ('A1BEKAQQGP8CMF', 1), ('A3JB405VRAERCS', 1), ('A15IH0ZQ87H51P', 1), ('AZ515FFZ7I2P7', 1), ('A2AVMEB8PQOTTE', 1), ('AAA0TUKS5VBSA', 1), ('AR9GZ8B7NJJPN', 1), ('AV67P142JTRAH', 1), ('A1XJOSJN6FHFO0', 1), ('AFDJGY68CQL2X', 1), ('A1D6DFC3AGV3JZ', 1), ('A35JP8KSV9281K', 1), ('A1B4MIXYVIKMU2', 1), ('A2WC9NFLG57W4H', 1), ('A2YQ2ZI65F37N8', 1), ('ABNMD6670TV53', 1), ('A2WCFDOCS73PNB', 1), ('A39LRLKACX89IP', 1), ('A36TDLV6OK3RO3', 1), ('AN9J46667D80O', 1), ('A3JY5JLQ1ENMHX', 1), ('A17771LTRWSKQ5', 1), ('A3CIVGG3HNS1GM', 1), ('A2CIQEY05SPHTZ', 1), ('A1F0ZNVHJZOH2Y', 1), ('A3OIQ3T0OIKY66', 1), ('A2SH6A32BE6NEV', 1), ('A2CVXUY1EYQGGA', 1), ('A2ZSM09K3A21V5', 1), ('AKR4DH6WLF6GG', 1), ('A2VHCA21QKNEKE', 1), ('A1R1BFJCMWX0Y3', 1), ('A3D6KZT0QG6UKB', 1), ('A3H9MD4MOY3PXS', 1), ('A1P4RH7KMJ1SV2', 1), ('A1S52XH2CS4Y26', 1), ('A3QL857ALV5RCJ', 1), ('A11EYMH9UV9XG7', 1), ('A353U0L2HAMSHV', 1), ('AYPIF2S8P3RZT', 1), ('AHS6PX6H22WW1', 1), ('A3R33KMESG0XGQ', 1), ('A1HUPQBIXPAZ9I', 1), ('AXVKMYWNIHK7W', 1), ('A1FWFCJU2G7TRA', 1), ('A1SI2993YY7C61', 1), ('A3U5JCXIXTGSLN', 1), ('ADEZOPMPKK146', 1), ('ATLO3YXU2BC16', 1), ('A3QMIWXU2RGEMH', 1), ('A3JPFWKS83R49V', 1), ('AIGI4MMOFYO46', 1), ('A2R1HAXRNU0QX7', 1), ('A2BJ9I0BQ1LH5S', 1), ('A84FLVDK2R5JF', 1), ('A246YIFE5M6M2C', 1), ('A1KI3173CO6TK2', 1), ('A2XBE812RSFZO7', 1), ('AJ0HFDY5BB77Y', 1), ('A3DOPYDOS49I3T', 1), ('AAKQTXS4JOUR5', 1), ('A1B05INWIDZ74O', 1), ('A3UOS7EC0NN88A', 1), ('A9TX7L1HNM37V', 1), ('AG8E2F0G98ZTB', 1), ('A2ULQOGN59LDNK', 1), ('A22CW0ZHY3NJH8', 1), ('ADIIDEMF3LB1', 1), ('A2BCDZO1XQLDH', 1), ('A1HOS1D36R1YAJ', 1), ('ACWVXZ8VKJ19V', 1), ('A2I98OOPNIJNYY', 1), ('A1X4L7AO1BXMHK', 1), ('A1IH42TUIZ2XJL', 1), ('A25HYPL2XKQPZB', 1), ('AN81JUYW2SL24', 1)])\n",
            "('A1RFDHX5W6HB74', [('A1RFDHX5W6HB74', 4), ('A3EWMJZTFJZGPN', 4), ('A2HYHT45PHNIIG', 2), ('A3JV9ZSRZF6MMD', 2), ('A4UWWXUT9H0UJ', 2), ('A2YU89J34BACXF', 2), ('A1V9ZFNR1HW6H1', 2), ('A122W2UUIAN426', 2), ('A2F63M3TISBXMU', 2), ('A1KXH22V241M17', 2), ('A2HRGWAAMXYUS1', 2), ('A1A43D2CYLVM40', 2), ('A14OJWHQDXKACI', 2), ('A3RLO7U7WA53LB', 2), ('A15ISNNN13LST', 2), ('A2RZAIJD4SEV6Z', 2), ('A1L7AQQWVYOWCT', 2), ('A1JM88SQKGXAVG', 2), ('A2QHCF0OYJ2N33', 2), ('AUCEUTMJBY8MP', 2), ('A3S96B2GBP04N2', 2), ('AGZGILY6OK3ZM', 2), ('AG8ZNU3005HTT', 2), ('A2G1LRD120SJPC', 2), ('A1BEMKOWN1TJK4', 2), ('AFN2DFCI8ZTHZ', 2), ('A3MXGI3CNE33ZO', 2), ('AD3G203JHBH0', 2), ('AM64WR7Q70ZG4', 2), ('A1TDN98Q6UQBWO', 2), ('A9HR6IA56P7RG', 2), ('A2KTPE1VA88QJF', 2), ('A1Y98MLUYTC94D', 2), ('AUW2PE5U9OLLO', 2), ('A2V8NPLWR4E93T', 2), ('A2TXHG9O3F3S0I', 2), ('A2OIHWEOO2TGPU', 2), ('A9L09SZVXUPUV', 2), ('A2KQHAKUJQ9AO5', 2), ('A3CIFBFBMY5GEU', 2), ('AUE7E97F248OK', 2), ('A1KP19N1YQJ4EL', 2), ('A12RIBH3FE09MH', 2), ('A2JGWDPGYD5X0N', 2), ('A14TL45CP14SUX', 2), ('A3QTNS815YRIA7', 2), ('A2YHP3G04M3XHP', 2), ('A3FEZGOKU3JB2G', 2), ('A1VFU5ZRFT8HD6', 2), ('A23FG04WAXU8WQ', 2), ('A397PBM83MO7UD', 2), ('ALF7SOLIGBA8B', 2), ('A2BNLSOQ8YI1ZK', 2), ('A2NZAFS0OQAZNX', 2), ('A1YOF8K6IRSUOZ', 2), ('A2KE575ER2W4U5', 2), ('ASOIJFOMRSVT1', 2), ('A145WP4BLE31XM', 2), ('A27ZFVCM1TG86I', 2), ('A3EAQKK2IWUSRD', 2), ('A19XONKTYV8AKZ', 2), ('A2IFZOHSI08QLG', 2), ('A1SXNLPIK9J2MD', 2), ('A3SGW46WDTLCR8', 2), ('A1AEN70WA9Q37', 2), ('ARQPQ8LF5NTEZ', 2), ('A28WD4FHXY3P92', 2), ('A20QJV2J5WE8WF', 2), ('A1YWP1ZSTDGINE', 2), ('A28OJK4KHQF2FE', 2), ('A23Q3AEQ6ER3L0', 2), ('A1JL5ZJYDBNY9V', 2), ('AHZR11DB40FG4', 2), ('A1HVA7XMX7MB9X', 2), ('AW1EUB0KOYZCU', 2), ('A3QD0PL3REPWR8', 2), ('A1GVVDWW9MWRFG', 2), ('A2MFVB2IFWP9UR', 2), ('A3BAI32S7NS6VM', 2), ('A1OOZRZ91TTUT0', 2), ('AW6GN7G3ZWK47', 2), ('AJNJI8L53U59F', 2), ('A2BEZJXR7B7PY1', 2), ('A25NH2LIK68RMC', 2), ('A20RTZ6I5ADGRL', 2), ('A2VRJ8R01CY7SS', 2), ('A24N3NCVFBB97Q', 2), ('A3IUTZ9WWBG8FI', 2), ('A3BTW9VP55VBAR', 2), ('ABUJHUWOL1OCY', 2), ('AUPSAEJT4DEXO', 2), ('A11R9A9F06XSMB', 2), ('A3U2HZP8QE69G5', 2), ('A2X1WYXLAZF3L2', 2), ('A33W5JAFGHYRQZ', 2), ('A7M1CWM7A7S44', 2), ('A1XDQFM10Q1SMK', 2), ('A1M2UI25LHR9AV', 2), ('AUB5DZKLOS0QE', 2), ('A34VEV19575JLJ', 2), ('A1EQBWOC2QYBLK', 2), ('A2T89T26FO5Q8J', 2), ('A3LB4GELNODPLI', 2), ('A3PCLOFFEODABJ', 2), ('A2I102KTFGDPAR', 2), ('A2QQHCXMGM0D8X', 2), ('A3FH1NWGREC5P5', 2), ('A1SLLKDKCZ5IPL', 2), ('A2URZQL5JDFC9H', 2), ('A877WMJ8EME9X', 2), ('ACG7MQLXA2B3Z', 2), ('A1C78RR8A3NAUK', 2), ('A1HQ2D3KZ68RPP', 2), ('A39A4SK0XWY618', 2), ('A3KAQW2K4OXPCX', 2), ('A1XS1BJ87Z5LYT', 2), ('A3JXP6XN8DMWON', 2), ('AHHWZ4723VGOL', 2), ('A86OQTOY28G4P', 2), ('A1231ZWZ66NDHF', 2), ('A3I6HYTU037QBA', 2), ('A3390PG4BAU78C', 2), ('A29YJFYIOKXMMK', 2), ('A28R3K8KT99328', 2), ('A1AKM7K4SZ2H1E', 2), ('A1Z7YPU3POXN3', 2), ('A33ONOZAT1DP8P', 2), ('AZXE27S06IW5D', 2), ('A1RAC4U8SU87NW', 2), ('A13XS0VVN7R56E', 2), ('A1DEOFY9WNUEB4', 2), ('AP7Y6HYTYF7XX', 2), ('A1N2UHFTS2KP33', 2), ('A2A3RYUFPCYDW2', 2), ('AYEMMUBJB4OE3', 2), ('A39B6RD3DTUP3Y', 2), ('A1NEADMLWTI1VV', 2), ('A129X4PIMBTQI3', 2), ('A85CDYD6F2FAQ', 2), ('A3FPJDEDIX7HIT', 2), ('A3CIZKPTSGFF70', 2), ('A1VJEZRFOJ2V56', 2), ('A58F10T4OE58C', 2), ('AWUJ6AOBK02LF', 2), ('A1BZK5ZAPBIYUE', 2), ('A207G5Z6C5CK06', 2), ('AN55W6XKJD1IJ', 2), ('A3I4GCI6XTX1BB', 2), ('AV9ZRRS27I2P0', 2), ('A1WNXLFY92KYWX', 2), ('A1NPFGJBVLC2JM', 2), ('A1P9JUPGNBOFB6', 2), ('A1PXTFBT6OGW69', 2), ('A2GCYH30NX7MTG', 2), ('A32VMX9Q3BMORD', 2), ('AZ5KEKJ7BIX6P', 2), ('A1TB29GN113T77', 2), ('A2W64S7RBQ3PHI', 2), ('A1QX27BPPGMUWV', 2), ('A15335YAEBN8L8', 2), ('AW00V3UVBP7YJ', 2), ('A2GERLJV5N0SZV', 2), ('A96ELROLQRPAE', 2), ('A2B54WBPCSXQI9', 2), ('AQHQSBSC8J6PE', 2), ('A2WE3BMGEFP7V9', 2), ('A25DS7DZXMGXDW', 2), ('A3M4N81KOG4JN5', 2), ('A35U4HGXY7OOCX', 2), ('A2P0M5NZJD2H5N', 2), ('ATICQIH8TUR53', 2), ('A2SH39LS6LNTO3', 2), ('A17YPMCHJ10PEZ', 2), ('AQEN6LBHD67N3', 2), ('A3AP2SNUIRP4YB', 2), ('A7T3EGPBVMO6Y', 2), ('A2K18LH5HC6K9B', 2), ('AWL6I61JUHCY2', 2), ('A3OZWWI4GY3K1', 2), ('A1Y1YYH71TPYC6', 2), ('A2Z0OD1IF2PP3J', 2), ('AWN3KOKDIDN0P', 2), ('AWH159M2WXM6C', 2), ('A5HICKICO5RLT', 2), ('A3985TKM4B1B3X', 2), ('A1XIGRUJRVVG58', 2), ('A2DNCSRWGV1QE1', 2), ('AOPYNP7SKE7UJ', 2), ('AMN591L8LS9BL', 2), ('A1GPDPGGXRCCV9', 2), ('A31YN0Z0RE0E9P', 2), ('ABHE3D35QLHZQ', 2), ('A3A4QIL2C5TWP7', 2), ('A3QI0HE04BR0RW', 2), ('A1AO04N12KAQ0R', 2), ('A26HN4UMQCFF6U', 2), ('A2L11XFJ1W0AV1', 2), ('A27F8IL8F7F3BD', 2), ('AEU40RYOIEKFV', 2), ('A2ABVC0UAKHR89', 2), ('A34PFRVY54RID9', 2), ('AEGUQ3N0C6GXM', 2), ('A1YXK5KQ17DQM8', 2), ('AVZE2A3LHT4Z0', 2), ('A169MHFP2M8ZBD', 2), ('A209V83M66X5UB', 2), ('ANE2HCB48QJ2Y', 2), ('A273GKV3QSV0GS', 2), ('A1T3Y465T2HG65', 2), ('AAEZ4J64L833V', 2), ('A3PWMZX1Y9OY2', 2), ('A39IVA3LNXAED8', 2), ('A3AGRXY3JYCIJ3', 2), ('AXYOVYG27O75G', 2), ('A32LS67Y8Q1LV2', 2), ('A1RN9FGWEUHDPS', 2), ('AAFKWZ7N80SH0', 2), ('A2KO2ITLCTKJSU', 2), ('A3AAS1PB9P7VDR', 2), ('A34BRSDS9MJXTZ', 2), ('A1EX7XJ8NDD78O', 2), ('AXJNAWQNYTJSX', 2), ('A2M18TY5BOC3OC', 2), ('A2HT1DKZARTZPC', 2), ('A219MIY6TLFCPP', 2), ('A11RI31YGXCNSX', 2), ('A36DVV6R3PSIQA', 2), ('AMH4BGZBJ5WKL', 2), ('A2ITLVUZIUTDPA', 2), ('AXRLQGRRJVAO3', 2), ('A3IRGV7L8BV3W5', 2), ('A1C3LY7HMTS5TO', 2), ('A2PAXLQPVYIKRH', 2), ('A3QYH2BD88R9ZY', 2), ('A1W67NB503WVQ9', 2), ('A13Q38GXKS1XXV', 2), ('AXXPEOXZPMZIE', 2), ('A1156S1H0TS2N8', 2), ('AJPYZHQ62672W', 2), ('A1493DD8LRGOKC', 2), ('A281J4UAH70YBA', 2), ('AVTQSPZFK2900', 2), ('A2A7KCQWHSXY9F', 2), ('A2KXQHVDGURPRY', 2), ('APZ4513FCAXKG', 2), ('A12HTYUARQWN3P', 2), ('A1FHXN6HBHVZ8E', 2), ('A3P43C9U5FZVCI', 2), ('A1JOCFRO3UC0QE', 2), ('A1I19D4K0X1C9I', 2), ('A2TIK8ILJL9Z2S', 2), ('A3F8SP8YJ6VOJ5', 2), ('A21IGBUTUM0RM2', 2), ('A2HGUNLVHJYSCW', 2), ('AP1LDFO2NY9I4', 2), ('A3263NSZXE0K2S', 2), ('A2N6Q2GTBDJZLF', 2), ('A12LR5Q6NIBPOE', 2), ('A2M77JEMWCU9R1', 2), ('A3GK4K5VB4UT47', 2), ('A1ZYZ6AITO6KOG', 2), ('A1PBI4ZS1ZM2LU', 2), ('A15OKXTGDML5MJ', 2), ('A2DPWEQW3S040W', 2), ('A1F5E63BHB3W3H', 2), ('A2EBIONUVBABJO', 2), ('AWID3YSMRB8EU', 2), ('A24WL4AZ1SXTZF', 2), ('A2ODGO26L21MO1', 2), ('A2Z7S5K254ADCT', 2), ('A3FVKI0UH9DO2A', 2), ('A3LHSSGA09E6FU', 2), ('A3GFYT7MA757B9', 2), ('A2NA7HY1WZP31N', 2), ('A2NPC4HX996ZHJ', 2), ('A1V6JNOF2CJ7Z6', 2), ('A3IMWFY597E2K8', 2), ('A395S23BFSJGAN', 2), ('A3EJRBPUFFECQP', 2), ('A1DKPGE3QGPTGP', 2), ('A2SYO0E2LDZ7YN', 2), ('A1OO934ZB172BG', 2), ('A2NYSVILSHKOML', 2), ('A2PMMPU7Q19K91', 2), ('AVBOL8KOU4UJS', 2), ('A2WL23844IHH7Y', 2), ('A1786LAB5NI62A', 2), ('A97SZOCQ8XEFL', 2), ('A2HPF56C5C13I1', 2), ('A1O5224EHD38HC', 2), ('A2OQD638JX4Z3J', 2), ('A310P6L0OK691D', 2), ('A1644W4GQB0FL9', 2), ('AAXQSP6DYEBEW', 2), ('AOONMDCH9OKKG', 2), ('A2QZHU6R7UE8ZI', 2), ('A1DS2TCL7R1Z4E', 2), ('AAOTD4Y7HN7T9', 2), ('A1EJU4ESDFE221', 2), ('A242HDAB0EFGYN', 2), ('A19TKARML7720I', 2), ('A3I86S8NQQ3V4V', 2), ('A20KJABXJLXG9G', 2), ('A1MMYXGUBKP1A3', 2), ('A1J0IF7SRALD32', 2), ('A269ERDZ9XTN35', 2), ('A71YMJ47BHGMM', 2), ('A7FIKUBY7PRNK', 2), ('A23K1SOLRMB2I3', 2), ('A3UKWQS8SRW6IO', 2), ('A2KZ18DVJAG25P', 2), ('A18OTGQU8JM7S2', 2), ('A2CZ9R1CAU7S9I', 2), ('A2VO7K0Q7RAJ0Y', 2), ('ARYYUY5WZK5G7', 2), ('A3RBXV620KFTW2', 2), ('A2U7P9A6VX2111', 2), ('A2MXME0QLYZB67', 2), ('A3UD2RQCVBAJJG', 2), ('A2Q9E6TCA4KAZY', 2), ('A3OQHZVLI98BF6', 2), ('A1K3AX86G7NM8K', 2), ('A1JS6HABIGXH4Q', 2), ('A32EL6SIPI6ZNP', 2), ('A3N6WIGSKRFOEX', 2), ('A2MLX7EH3TMS08', 2), ('A2O4CZ102I8Q2K', 2), ('A3CN2OVKRVSFSF', 2), ('A1HXIYQM2FJSSN', 2), ('A1WVIR2QPJBRS9', 2), ('A37BUA2WVHLRIX', 2), ('AGIH0ZDVWF5LW', 2), ('ALIL6GECW4VE1', 2), ('A2GVLNGJZEWBH4', 2), ('A2ONJC4B4JJVKI', 2), ('A1ZKT2ZBFPE3N8', 2), ('A3UFFMF68OQ4JQ', 2), ('A2C7OORPBMEK6N', 2), ('A2WCB04X1TTSDS', 2), ('A33Q3S7NGE585S', 2), ('AAW1F34LB5KY6', 2), ('A2BQE4CN3SGYKZ', 2), ('A1G78GAMWL1AOL', 2), ('A3EVQBMHOO8PT4', 2), ('A1RP2CAX52DDU8', 2), ('A7KILT6HJ133G', 2), ('A3IETZUMKWDJFF', 2), ('A2HYHQZ208D4HH', 2), ('A1Z7VYGEN8GC88', 2), ('A9LPTAHI1WY9J', 2), ('A36H8GL4FKX7YT', 2), ('AOBFYL4CA2QL4', 2), ('A2QWTRW4220A5F', 2), ('A2Z5E7AHHKFCDS', 2), ('AVBR6EYD2CVYP', 2), ('A20ESB32YOLHY', 2), ('A8CEUU2LVM4B7', 2), ('A21PEB5NYNKHOQ', 2), ('A1ZTIVA4MGA6TC', 2), ('A23V8S1RMYBXS2', 2), ('A3L3NAKAF4B6PT', 2), ('A35CVR9DO6D2AR', 2), ('A35WAE3S8KAV9E', 2), ('A3BKTC9RCMFUTJ', 2), ('A1XG5WYLFMRRX1', 2), ('AT00ZC5DMUTPH', 2), ('A2NXZKOMNRZCJ4', 2), ('A2NE82UZXTFPFJ', 2), ('A31FYZK04YNOJ5', 2), ('A3ACVJEAM4L2LQ', 2), ('A2W2F9QZJXTFYM', 2), ('A1A3H0YT9UO7V8', 2), ('AZ4IFJ01WKBTB', 2), ('AN8IX2V1UH3CQ', 2), ('A2QNUUTEDGVO75', 2), ('A3E019771HXCSM', 2), ('A2BJW69NMHS9YG', 2), ('A2JQXPT8QVS6CJ', 2), ('A2IRKTPLHZOP6Y', 2), ('A20WMMBG46C02M', 2), ('A93P0Y3UPG2CC', 2), ('A15LCFXMSGMGI0', 2), ('A2ZKAIKGKN6Z0B', 2), ('AJFNW7DDRMZPD', 2), ('A186GTIBSBFNA8', 2), ('A11QQBCJDEVW6G', 2), ('AFWZZDLXKXQI4', 2), ('A3FV8UWW0KVI82', 2), ('A1SLIK12FO8420', 2), ('AORJTIS3UJMX5', 2), ('AJV2QY96IVPVM', 2), ('A160BP6UIAD48G', 2), ('A1VFIBK330IT2B', 2), ('A30SAL8NKD9MTN', 2), ('A3RU5LSPGFU5H4', 2), ('A1V3WE16V2LEA9', 2), ('AWN8ZV815QHJF', 2), ('A19XMFA2UK6KPL', 2), ('A1RN6MQPVQWOH5', 2), ('A2KEO97THIOBRZ', 2), ('A1KQ91N1C03S1B', 2), ('AW0D84LT8IA6K', 2), ('A17HVTFF7IR0UF', 2), ('A2U11HXWCW49R1', 2), ('A18H5GNMPS8W0R', 2), ('A3I4F0I0XJ6VR8', 2), ('A31CW55FXGD8OW', 2), ('A2LDEJDDGSWNJD', 2), ('ABYAPQW5MH5XO', 2), ('A1FMT0388U11HC', 2), ('A31OFS7ZGB5S5T', 2), ('ARN85DCNU1YE4', 2), ('A1WE4TVPN3PTQ1', 2), ('A925MNZ5DJWVR', 2), ('A1LTBY2I1PPLCZ', 2), ('ACNK603VEUIBK', 2), ('AJ16EFVNDONFR', 2), ('A19R1KK2UPLV1O', 2), ('ARNGEQEP7G56U', 2), ('A21V2KRG4Y74PQ', 2), ('A23WOV2RC7LDXD', 2), ('A1ME3RLZCCOXN4', 2), ('ARYGNP5U9A4ZR', 2), ('A3TS8HT1JBVCDU', 2), ('A2KHQG1A7CII33', 2), ('A1YUQ7G3U6FRFZ', 2), ('A3AE8HH0TUBAIZ', 2), ('AN0HDZTZJXK09', 2), ('A1OA06LPHX3HGG', 2), ('A9B2T9WEUIWHE', 2), ('AYE92900MGVJK', 2), ('A1GT5JFPQPT8AC', 2), ('A2T70ZC2DYWVW1', 2), ('A3NLVKNRMD3HNR', 2), ('A376XV60BV9OMR', 2), ('A348IMZWT01XQS', 2), ('A3T0ES6F38235M', 2), ('AYX86RC7QV2UT', 2), ('AURID7J89LEPV', 2), ('AP2XB11SRN4B5', 2), ('A3RL90G39VP7DD', 2), ('A17D0C0KVRAVNK', 2), ('A36TDCR3BJZNS6', 2), ('ALXV5YNZ3RTX7', 2), ('A12ZS9CVZTRN5F', 2), ('A15YBCS26RNFIU', 2), ('AK68SCHF3779J', 2), ('A23GCEIL1834ZE', 2), ('A19Q1JZQQO8E75', 2), ('A3R3BK0GM5S656', 2), ('A19XNWQ5IQY16K', 2), ('A2HC5L2GQ31VLP', 2), ('AY0BZZFHVC3X8', 2), ('A1XQAJ9EZFU120', 2), ('A1YYIJO86KEOOW', 2), ('ARODDPHPQQY3E', 2), ('A219ZO3XYOFGAY', 2), ('A194UXXKM11698', 2), ('A3FILXI12RWHS4', 2), ('A1B93OEHK0ZBR8', 2), ('AHXPB1GP9DXRS', 2), ('A203E4T4U3LUYG', 2), ('A22R7P2ML19RZS', 2), ('A21XJ41S13ARMS', 2), ('A3O43MWZB3T2YV', 2), ('A1PDYQZUEM9L9G', 2), ('AH2EYQ1UGKY02', 2), ('AAJ9JIIX30EKZ', 2), ('A3HCVAHGJUHLNR', 2), ('A3III07Y9VJI8Q', 2), ('A24OAXVIRIGL5I', 2), ('A2ZAXYKS804AV0', 2), ('AS8V12QAP5YYL', 2), ('A2NJLKBN0CSRMK', 2), ('A4KHFSEQ0FG95', 2), ('A1DN2JZT3UZ5LD', 2), ('A3CY8OJOSU8727', 2), ('A1Y8VPIB7INCAJ', 2), ('ASEH0CVYVGZCZ', 2), ('AZJXAQJZD7ZX8', 2), ('A1GQT8035XNPIH', 2), ('AFV5E144ZVOQE', 2), ('ALRH15WRTMQGT', 2), ('A1CTRF13FJ7RO3', 2), ('A2QQIDHZEGNOPU', 2), ('AL8WV8BE0ISZQ', 2), ('A1MOQ1GA33PGYV', 2), ('A3MF0JCNZMOE3A', 2), ('AFWI1R45E3U8J', 2), ('AYGPOPHTHD5ED', 2), ('A1IHXDHTF6BKMI', 2), ('A3PWOXABUBPZRX', 2), ('AN4ZH1H2TB9I2', 2), ('A296L8EY2F5A7T', 2), ('A1U12J6C8VI78Z', 2), ('A1PY4Y72MEDCCG', 2), ('A2R8SIMZEMAH9E', 2), ('A7NW49G4NLQ2W', 2), ('A3I6HOCJN9KNZV', 2), ('A3W37DL6P9WZHC', 2), ('A8IGFOAMPPVQ7', 2), ('A24Y8NVU78XQ66', 2), ('A1JUO3LV5UK4N0', 2), ('A3GBIQRN89VOM', 2), ('A2OK9A6UUIVQLO', 2), ('A29LFGSUG2N07M', 2), ('A2M0B0XMFR2Y2H', 2), ('A2MNPMBXU9062C', 2), ('A1TWDGF3B8MUL3', 2), ('A2Y05ROXDZNWQF', 2), ('A1P952OK5VCCMK', 2), ('A3MTDNQ3Z3UT3P', 2), ('A34GJ3Z9HPKXL2', 2), ('APKSNKBKUQLHX', 2), ('A2JVYFXTDFAOFP', 2), ('A3A8NB11HSAXWP', 2), ('ARCMU0E7A8HNP', 2), ('A1Q99RNV0TKW8R', 2), ('A2QL4IRZSWV1KS', 2), ('A2SXLBGAR3FZGP', 2), ('A20ZO8UFW5EFS6', 2), ('A13HRHVYDM5SOP', 2), ('A2OGFN0WMUQUZA', 2), ('A1OUYBEZU99FYD', 2), ('A60BP6AAMW2U7', 2), ('A3SYFAS7MDZO7X', 2), ('A1MAFNKH2CVMU2', 2), ('A1BB2IFNBWBOQF', 2), ('A7GL7Y0RKPZ1T', 2), ('A1HLZONS8YE7AS', 2), ('A12XGRJQ5BYYBX', 2), ('A2LQ80A1XCTURL', 2), ('A7DX7BMWACQPS', 2), ('AGKNAD0B9M83', 2), ('A1RCGQGONWQXXK', 2), ('A1WSNXYC7HF73D', 2), ('A1DJSSWIJ5UKYS', 2), ('AQQH4FCN0UPZV', 2), ('A201LL5EVCEOBG', 2), ('A1HQ39YXCTGQLU', 2), ('A2Y0GPV0E1IOYN', 2), ('ARE2M3POLXNNG', 2), ('A2OL546DEHMANA', 2), ('A14MIVRKSKNP4F', 2), ('A1ITKSZ9ZQFTGK', 2), ('A3SKIW3YE18RBT', 2), ('A3PIQCO0P4201P', 2), ('A32L0PTBX96Q9F', 2), ('ASV7C683QF2ON', 2), ('A33V118ZVFLGVK', 2), ('A94S2UKL5R2F8', 2), ('A19V1D8WM653R2', 2), ('A1VHQSQMEO58F3', 2), ('AGZ1J2KEFSFLA', 2), ('A3O7YP3NRGOHP2', 2), ('A3SWWBY5ZK8UI5', 1), ('A8MZFPKHRON72', 1), ('A1TOT74CE78ZM', 1), ('A2P7ONQQ0EDIRD', 1), ('A3SEAL7PB1FJ1R', 1), ('A3ATF10HSZTQOB', 1), ('AWBBVV7AX6FBM', 1), ('A38V2X7URJR44W', 1), ('A31NHN9F6EB1DU', 1), ('AEXG65GOUOUX9', 1), ('A13Y0DJBRHQJLK', 1), ('A3MQJDWDYH3LCE', 1), ('AJGYCN2DJ7NBX', 1), ('A3AIOWNC77HJK8', 1), ('A2JC8U0RIZYBHY', 1), ('ABHJ570ADKJIP', 1), ('A2KXE5I3Z8SNPI', 1), ('A2XDDTGNOKW16I', 1), ('A5VVCZYI22ZJ', 1), ('A85J7VFU6HWBJ', 1), ('A5OY9R73VHGHH', 1), ('A32PEBG8JPGNMI', 1), ('A1B0I6QV1R5T69', 1), ('A34VY5GQF9IMN9', 1), ('A3NN41DE8EMKJV', 1), ('A28Q5T0E8HAFPS', 1), ('A2U8QA856AC193', 1), ('A33JZJWT82A5TM', 1), ('A14TDPJLF4HR03', 1), ('A3BOUQC01U8WTX', 1), ('AP3GQ78BQR64E', 1), ('A33Z2EMD3ZXEMK', 1), ('A2DHBOLCVKTKNU', 1), ('APDBN7B8V7KPX', 1), ('A1DGHQ7FU4KH5N', 1), ('A3Q91DCUR107WW', 1), ('A2LTA04CGH3794', 1), ('AR2S1RYXQ8ST3', 1), ('AO0MGZJ1ZY05M', 1)])\n"
          ]
        }
      ]
    }
  ],
  "metadata": {
    "kernelspec": {
      "display_name": "Python 3",
      "language": "python",
      "name": "python3"
    },
    "language_info": {
      "codemirror_mode": {
        "name": "ipython",
        "version": 3
      },
      "file_extension": ".py",
      "mimetype": "text/x-python",
      "name": "python",
      "nbconvert_exporter": "python",
      "pygments_lexer": "ipython3",
      "version": "3.8.10"
    },
    "colab": {
      "provenance": [],
      "include_colab_link": true
    }
  },
  "nbformat": 4,
  "nbformat_minor": 0
}
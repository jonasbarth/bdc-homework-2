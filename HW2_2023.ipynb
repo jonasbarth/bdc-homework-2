{
  "cells": [
    {
      "cell_type": "markdown",
      "metadata": {
        "id": "view-in-github",
        "colab_type": "text"
      },
      "source": [
        "<a href=\"https://colab.research.google.com/github/jonasbarth/bdc-homework-2/blob/main/HW2_2023.ipynb\" target=\"_parent\"><img src=\"https://colab.research.google.com/assets/colab-badge.svg\" alt=\"Open In Colab\"/></a>"
      ]
    },
    {
      "cell_type": "markdown",
      "metadata": {
        "id": "Kwx2dxZeFHDX"
      },
      "source": [
        "# Amazon Fine Food Reviews - Building a Co-review graph\n",
        "\n",
        "In this lab, our general goal is to conduct some exploratory analysis of a medium - large dataset, namely, Amazon Fine Food Reviews, available from a [Kaggle Competition](https://www.kaggle.com/datasets/snap/amazon-fine-food-reviews).\n",
        "\n",
        "Our general goals are the following:\n",
        "\n",
        "- Retrieve the dataset and upload it onto Colab;\n",
        "- Build the associated Co-review graph."
      ]
    },
    {
      "cell_type": "markdown",
      "source": [
        "## Retrieving the dataset\n",
        "To retrieve this dataset, we need to be registered Kaggle users. Assuming this is the case, we basically have two options:\n",
        "\n",
        "1. Download the dataset locally. This can be useful if you want to keep a copy of the data to work with directly on your machine. In this case, you will have to upload the data on Colab in order to work with it. There are several ways to do this, described [here](https://colab.research.google.com/notebooks/io.ipynb). Note that our compressed dataset is about 300MB's and proceeding this way may take some time, depending on your connection.\n",
        "2. Transferring the data directly from Kaggle to Google. In my experience, this was extremely fast and it is the method I am going to use.\n",
        "\n",
        "A nice review of all available methods, including the one I am using, can be found [here](https://towardsdatascience.com/7-ways-to-load-external-data-into-google-colab-7ba73e7d5fc7)."
      ],
      "metadata": {
        "id": "dZX0TppG5IPa"
      }
    },
    {
      "cell_type": "code",
      "source": [],
      "metadata": {
        "id": "ph_ZVgLx7gVc"
      },
      "execution_count": null,
      "outputs": []
    },
    {
      "cell_type": "markdown",
      "metadata": {
        "id": "9fpG9wnlFHDb"
      },
      "source": [
        "### Transferring dataset from Google to Colab\n",
        "Go to your profile on Kaggle, then ```Account --> Create New API Token``` (you do not have to do every time you run your notebook). The result will be a file called ```kaggle.json```, which you save on your machine. Next, we upload this file to Google Colab as follows:"
      ]
    },
    {
      "cell_type": "code",
      "source": [
        "from google.colab import files\n",
        "\n",
        "uploaded = files.upload()"
      ],
      "metadata": {
        "colab": {
          "base_uri": "https://localhost:8080/",
          "height": 73
        },
        "id": "WDFBCfveFJ9E",
        "outputId": "e685b4b5-a95e-486e-c6b6-c71142324feb"
      },
      "execution_count": 27,
      "outputs": [
        {
          "output_type": "display_data",
          "data": {
            "text/plain": [
              "<IPython.core.display.HTML object>"
            ],
            "text/html": [
              "\n",
              "     <input type=\"file\" id=\"files-56fdda10-2a66-4a0f-9dc6-5f4e577eebed\" name=\"files[]\" multiple disabled\n",
              "        style=\"border:none\" />\n",
              "     <output id=\"result-56fdda10-2a66-4a0f-9dc6-5f4e577eebed\">\n",
              "      Upload widget is only available when the cell has been executed in the\n",
              "      current browser session. Please rerun this cell to enable.\n",
              "      </output>\n",
              "      <script>// Copyright 2017 Google LLC\n",
              "//\n",
              "// Licensed under the Apache License, Version 2.0 (the \"License\");\n",
              "// you may not use this file except in compliance with the License.\n",
              "// You may obtain a copy of the License at\n",
              "//\n",
              "//      http://www.apache.org/licenses/LICENSE-2.0\n",
              "//\n",
              "// Unless required by applicable law or agreed to in writing, software\n",
              "// distributed under the License is distributed on an \"AS IS\" BASIS,\n",
              "// WITHOUT WARRANTIES OR CONDITIONS OF ANY KIND, either express or implied.\n",
              "// See the License for the specific language governing permissions and\n",
              "// limitations under the License.\n",
              "\n",
              "/**\n",
              " * @fileoverview Helpers for google.colab Python module.\n",
              " */\n",
              "(function(scope) {\n",
              "function span(text, styleAttributes = {}) {\n",
              "  const element = document.createElement('span');\n",
              "  element.textContent = text;\n",
              "  for (const key of Object.keys(styleAttributes)) {\n",
              "    element.style[key] = styleAttributes[key];\n",
              "  }\n",
              "  return element;\n",
              "}\n",
              "\n",
              "// Max number of bytes which will be uploaded at a time.\n",
              "const MAX_PAYLOAD_SIZE = 100 * 1024;\n",
              "\n",
              "function _uploadFiles(inputId, outputId) {\n",
              "  const steps = uploadFilesStep(inputId, outputId);\n",
              "  const outputElement = document.getElementById(outputId);\n",
              "  // Cache steps on the outputElement to make it available for the next call\n",
              "  // to uploadFilesContinue from Python.\n",
              "  outputElement.steps = steps;\n",
              "\n",
              "  return _uploadFilesContinue(outputId);\n",
              "}\n",
              "\n",
              "// This is roughly an async generator (not supported in the browser yet),\n",
              "// where there are multiple asynchronous steps and the Python side is going\n",
              "// to poll for completion of each step.\n",
              "// This uses a Promise to block the python side on completion of each step,\n",
              "// then passes the result of the previous step as the input to the next step.\n",
              "function _uploadFilesContinue(outputId) {\n",
              "  const outputElement = document.getElementById(outputId);\n",
              "  const steps = outputElement.steps;\n",
              "\n",
              "  const next = steps.next(outputElement.lastPromiseValue);\n",
              "  return Promise.resolve(next.value.promise).then((value) => {\n",
              "    // Cache the last promise value to make it available to the next\n",
              "    // step of the generator.\n",
              "    outputElement.lastPromiseValue = value;\n",
              "    return next.value.response;\n",
              "  });\n",
              "}\n",
              "\n",
              "/**\n",
              " * Generator function which is called between each async step of the upload\n",
              " * process.\n",
              " * @param {string} inputId Element ID of the input file picker element.\n",
              " * @param {string} outputId Element ID of the output display.\n",
              " * @return {!Iterable<!Object>} Iterable of next steps.\n",
              " */\n",
              "function* uploadFilesStep(inputId, outputId) {\n",
              "  const inputElement = document.getElementById(inputId);\n",
              "  inputElement.disabled = false;\n",
              "\n",
              "  const outputElement = document.getElementById(outputId);\n",
              "  outputElement.innerHTML = '';\n",
              "\n",
              "  const pickedPromise = new Promise((resolve) => {\n",
              "    inputElement.addEventListener('change', (e) => {\n",
              "      resolve(e.target.files);\n",
              "    });\n",
              "  });\n",
              "\n",
              "  const cancel = document.createElement('button');\n",
              "  inputElement.parentElement.appendChild(cancel);\n",
              "  cancel.textContent = 'Cancel upload';\n",
              "  const cancelPromise = new Promise((resolve) => {\n",
              "    cancel.onclick = () => {\n",
              "      resolve(null);\n",
              "    };\n",
              "  });\n",
              "\n",
              "  // Wait for the user to pick the files.\n",
              "  const files = yield {\n",
              "    promise: Promise.race([pickedPromise, cancelPromise]),\n",
              "    response: {\n",
              "      action: 'starting',\n",
              "    }\n",
              "  };\n",
              "\n",
              "  cancel.remove();\n",
              "\n",
              "  // Disable the input element since further picks are not allowed.\n",
              "  inputElement.disabled = true;\n",
              "\n",
              "  if (!files) {\n",
              "    return {\n",
              "      response: {\n",
              "        action: 'complete',\n",
              "      }\n",
              "    };\n",
              "  }\n",
              "\n",
              "  for (const file of files) {\n",
              "    const li = document.createElement('li');\n",
              "    li.append(span(file.name, {fontWeight: 'bold'}));\n",
              "    li.append(span(\n",
              "        `(${file.type || 'n/a'}) - ${file.size} bytes, ` +\n",
              "        `last modified: ${\n",
              "            file.lastModifiedDate ? file.lastModifiedDate.toLocaleDateString() :\n",
              "                                    'n/a'} - `));\n",
              "    const percent = span('0% done');\n",
              "    li.appendChild(percent);\n",
              "\n",
              "    outputElement.appendChild(li);\n",
              "\n",
              "    const fileDataPromise = new Promise((resolve) => {\n",
              "      const reader = new FileReader();\n",
              "      reader.onload = (e) => {\n",
              "        resolve(e.target.result);\n",
              "      };\n",
              "      reader.readAsArrayBuffer(file);\n",
              "    });\n",
              "    // Wait for the data to be ready.\n",
              "    let fileData = yield {\n",
              "      promise: fileDataPromise,\n",
              "      response: {\n",
              "        action: 'continue',\n",
              "      }\n",
              "    };\n",
              "\n",
              "    // Use a chunked sending to avoid message size limits. See b/62115660.\n",
              "    let position = 0;\n",
              "    do {\n",
              "      const length = Math.min(fileData.byteLength - position, MAX_PAYLOAD_SIZE);\n",
              "      const chunk = new Uint8Array(fileData, position, length);\n",
              "      position += length;\n",
              "\n",
              "      const base64 = btoa(String.fromCharCode.apply(null, chunk));\n",
              "      yield {\n",
              "        response: {\n",
              "          action: 'append',\n",
              "          file: file.name,\n",
              "          data: base64,\n",
              "        },\n",
              "      };\n",
              "\n",
              "      let percentDone = fileData.byteLength === 0 ?\n",
              "          100 :\n",
              "          Math.round((position / fileData.byteLength) * 100);\n",
              "      percent.textContent = `${percentDone}% done`;\n",
              "\n",
              "    } while (position < fileData.byteLength);\n",
              "  }\n",
              "\n",
              "  // All done.\n",
              "  yield {\n",
              "    response: {\n",
              "      action: 'complete',\n",
              "    }\n",
              "  };\n",
              "}\n",
              "\n",
              "scope.google = scope.google || {};\n",
              "scope.google.colab = scope.google.colab || {};\n",
              "scope.google.colab._files = {\n",
              "  _uploadFiles,\n",
              "  _uploadFilesContinue,\n",
              "};\n",
              "})(self);\n",
              "</script> "
            ]
          },
          "metadata": {}
        },
        {
          "output_type": "stream",
          "name": "stdout",
          "text": [
            "Saving kaggle.json to kaggle (1).json\n"
          ]
        }
      ]
    },
    {
      "cell_type": "code",
      "source": [],
      "metadata": {
        "id": "qAXZiOWe5PQw"
      },
      "execution_count": null,
      "outputs": []
    },
    {
      "cell_type": "markdown",
      "source": [
        "We next specify the above directory as the one to upload the Kaggle dataset to:"
      ],
      "metadata": {
        "id": "1gva-K-KMMOo"
      }
    },
    {
      "cell_type": "code",
      "source": [
        "import os\n",
        "os.environ['KAGGLE_CONFIG_DIR'] = \"/content\""
      ],
      "metadata": {
        "id": "Fyhf0yW9RTNJ",
        "ExecuteTime": {
          "end_time": "2023-11-14T15:17:43.187814400Z",
          "start_time": "2023-11-14T15:17:43.156520700Z"
        }
      },
      "execution_count": 28,
      "outputs": []
    },
    {
      "cell_type": "markdown",
      "source": [
        "Next, we need to upload the dataset, issuing the necessary shell command. To do this, we can let Kaggle generate the right command for us. This is done from the Kaggle competion's Web page, in the top-right menu, clicking on the dots and then selecting ```Copy API Command``` as shown in the picture below:\n",
        "\n",
        "![Fig1.png](data:image/png;base64,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)"
      ],
      "metadata": {
        "id": "1BSNVBmRMnAU"
      }
    },
    {
      "cell_type": "markdown",
      "source": [
        "The copy-pasted command is the one shown below:"
      ],
      "metadata": {
        "id": "Et0s4k1IN7z1"
      }
    },
    {
      "cell_type": "code",
      "source": [
        "!kaggle datasets download -d snap/amazon-fine-food-reviews"
      ],
      "metadata": {
        "colab": {
          "base_uri": "https://localhost:8080/"
        },
        "id": "P9bljXyiRnPL",
        "outputId": "d075d101-d76d-47de-83f5-32e8d706b197",
        "ExecuteTime": {
          "end_time": "2023-11-14T15:10:04.715945300Z",
          "start_time": "2023-11-14T15:08:31.126232300Z"
        }
      },
      "execution_count": 29,
      "outputs": [
        {
          "output_type": "stream",
          "name": "stdout",
          "text": [
            "amazon-fine-food-reviews.zip: Skipping, found more recently modified local copy (use --force to force download)\n"
          ]
        }
      ]
    },
    {
      "cell_type": "code",
      "source": [
        "!chmod 600 /content/kaggle.json"
      ],
      "metadata": {
        "id": "30CgybvgXm1p"
      },
      "execution_count": 30,
      "outputs": []
    },
    {
      "cell_type": "markdown",
      "source": [
        "We next check that everything is there:"
      ],
      "metadata": {
        "id": "WYbgI1ucSL-Q"
      }
    },
    {
      "cell_type": "code",
      "source": [
        "!ls"
      ],
      "metadata": {
        "colab": {
          "base_uri": "https://localhost:8080/"
        },
        "id": "OuPVThsHQSQg",
        "outputId": "1266ed9f-27a9-4e49-a7af-07c1c78a4007"
      },
      "execution_count": 31,
      "outputs": [
        {
          "output_type": "stream",
          "name": "stdout",
          "text": [
            " amazon-fine-food-reviews.zip   data  'kaggle (1).json'   kaggle.json   sample_data\n"
          ]
        }
      ]
    },
    {
      "cell_type": "markdown",
      "source": [
        "We now extract the files from the zipper archive. To this purpose, we use Python zipfile utility package:"
      ],
      "metadata": {
        "id": "ZdCryH7aSUKG"
      }
    },
    {
      "cell_type": "code",
      "source": [
        "from zipfile import ZipFile\n",
        "from pathlib import Path"
      ],
      "metadata": {
        "id": "ohKzn4VdSalc",
        "ExecuteTime": {
          "end_time": "2023-11-14T15:11:04.422390Z",
          "start_time": "2023-11-14T15:11:04.391046200Z"
        }
      },
      "execution_count": 32,
      "outputs": []
    },
    {
      "cell_type": "markdown",
      "source": [
        "I will unzip all of the data into a dedicated `data/` directory for separation."
      ],
      "metadata": {
        "id": "fLgqdxUMasWE"
      }
    },
    {
      "cell_type": "code",
      "source": [
        "# Create a ZipFile Object and load sample.zip in it\n",
        "with ZipFile('amazon-fine-food-reviews.zip', 'r') as zipObj:\n",
        "    Path(\"./data\").mkdir(exist_ok=True, parents=True)\n",
        "   # Extract all the contents of zip file in current directory\n",
        "    zipObj.extractall(\"./data\")"
      ],
      "metadata": {
        "id": "xxvYTKkaS7gJ",
        "ExecuteTime": {
          "end_time": "2023-11-14T15:11:34.920100200Z",
          "start_time": "2023-11-14T15:11:16.647911700Z"
        }
      },
      "execution_count": 33,
      "outputs": []
    },
    {
      "cell_type": "markdown",
      "source": [
        "Let's check what files are there (we are looking for ```Reviews.csv```)"
      ],
      "metadata": {
        "id": "qhp1WWg-SqeQ"
      }
    },
    {
      "cell_type": "code",
      "source": [
        "!ls data"
      ],
      "metadata": {
        "colab": {
          "base_uri": "https://localhost:8080/"
        },
        "id": "sW7F3_W3SyY6",
        "outputId": "f9f1be10-62e8-4e70-974e-025f065dea06",
        "ExecuteTime": {
          "end_time": "2023-11-14T15:11:45.242487400Z",
          "start_time": "2023-11-14T15:11:44.202937900Z"
        }
      },
      "execution_count": 34,
      "outputs": [
        {
          "output_type": "stream",
          "name": "stdout",
          "text": [
            "database.sqlite  full_reviews.csv  hashes.txt  Reviews.csv  Reviews_sampled.csv  single\n"
          ]
        }
      ]
    },
    {
      "cell_type": "markdown",
      "source": [
        "There it is. Let us just perform a check that the file looks like it is supposed to be, by having a glance at the first 10 lines:"
      ],
      "metadata": {
        "id": "QMNo1hbRS09-"
      }
    },
    {
      "cell_type": "code",
      "source": [
        "!head -10 data/Reviews.csv"
      ],
      "metadata": {
        "id": "qpLCBLwoV8jo",
        "colab": {
          "base_uri": "https://localhost:8080/"
        },
        "outputId": "e957f98b-31ae-4b98-d14a-a9e716023b6c",
        "ExecuteTime": {
          "end_time": "2023-11-14T15:12:04.668485200Z",
          "start_time": "2023-11-14T15:11:59.149880400Z"
        }
      },
      "execution_count": 35,
      "outputs": [
        {
          "output_type": "stream",
          "name": "stdout",
          "text": [
            "Id,ProductId,UserId,ProfileName,HelpfulnessNumerator,HelpfulnessDenominator,Score,Time,Summary,Text\n",
            "1,B001E4KFG0,A3SGXH7AUHU8GW,delmartian,1,1,5,1303862400,Good Quality Dog Food,I have bought several of the Vitality canned dog food products and have found them all to be of good quality. The product looks more like a stew than a processed meat and it smells better. My Labrador is finicky and she appreciates this product better than  most.\n",
            "2,B00813GRG4,A1D87F6ZCVE5NK,dll pa,0,0,1,1346976000,Not as Advertised,\"Product arrived labeled as Jumbo Salted Peanuts...the peanuts were actually small sized unsalted. Not sure if this was an error or if the vendor intended to represent the product as \"\"Jumbo\"\".\"\n",
            "3,B000LQOCH0,ABXLMWJIXXAIN,\"Natalia Corres \"\"Natalia Corres\"\"\",1,1,4,1219017600,\"\"\"Delight\"\" says it all\",\"This is a confection that has been around a few centuries.  It is a light, pillowy citrus gelatin with nuts - in this case Filberts. And it is cut into tiny squares and then liberally coated with powdered sugar.  And it is a tiny mouthful of heaven.  Not too chewy, and very flavorful.  I highly recommend this yummy treat.  If you are familiar with the story of C.S. Lewis' \"\"The Lion, The Witch, and The Wardrobe\"\" - this is the treat that seduces Edmund into selling out his Brother and Sisters to the Witch.\"\n",
            "4,B000UA0QIQ,A395BORC6FGVXV,Karl,3,3,2,1307923200,Cough Medicine,If you are looking for the secret ingredient in Robitussin I believe I have found it.  I got this in addition to the Root Beer Extract I ordered (which was good) and made some cherry soda.  The flavor is very medicinal.\n",
            "5,B006K2ZZ7K,A1UQRSCLF8GW1T,\"Michael D. Bigham \"\"M. Wassir\"\"\",0,0,5,1350777600,Great taffy,\"Great taffy at a great price.  There was a wide assortment of yummy taffy.  Delivery was very quick.  If your a taffy lover, this is a deal.\"\n",
            "6,B006K2ZZ7K,ADT0SRK1MGOEU,Twoapennything,0,0,4,1342051200,Nice Taffy,\"I got a wild hair for taffy and ordered this five pound bag. The taffy was all very enjoyable with many flavors: watermelon, root beer, melon, peppermint, grape, etc. My only complaint is there was a bit too much red/black licorice-flavored pieces (just not my particular favorites). Between me, my kids, and my husband, this lasted only two weeks! I would recommend this brand of taffy -- it was a delightful treat.\"\n",
            "7,B006K2ZZ7K,A1SP2KVKFXXRU1,David C. Sullivan,0,0,5,1340150400,Great!  Just as good as the expensive brands!,\"This saltwater taffy had great flavors and was very soft and chewy.  Each candy was individually wrapped well.  None of the candies were stuck together, which did happen in the expensive version, Fralinger's.  Would highly recommend this candy!  I served it at a beach-themed party and everyone loved it!\"\n",
            "8,B006K2ZZ7K,A3JRGQVEQN31IQ,Pamela G. Williams,0,0,5,1336003200,\"Wonderful, tasty taffy\",This taffy is so good.  It is very soft and chewy.  The flavors are amazing.  I would definitely recommend you buying it.  Very satisfying!!\n",
            "9,B000E7L2R4,A1MZYO9TZK0BBI,R. James,1,1,5,1322006400,Yay Barley,Right now I'm mostly just sprouting this so my cats can eat the grass. They love it. I rotate it around with Wheatgrass and Rye too\n"
          ]
        }
      ]
    },
    {
      "cell_type": "markdown",
      "source": [
        "Keeping roughly $10\\%$ of the users for testing purposes. We will see why doing this is reasonable further in the course. For now, try to understand how ```sample_users``` works and why it does the job."
      ],
      "metadata": {
        "id": "dFUNyY6GWbv5"
      }
    },
    {
      "cell_type": "markdown",
      "source": [
        "#### Load the Reviews file.\n",
        "As a first step, we load the `Reviews.csv` file."
      ],
      "metadata": {
        "collapsed": false,
        "id": "CYHPvG_RkOF-"
      }
    },
    {
      "cell_type": "code",
      "source": [
        "import pandas as pd\n",
        "raw_pd = pd.read_csv(\"data/Reviews.csv\", index_col=0)"
      ],
      "metadata": {
        "id": "0wDK4pVZXbVj",
        "ExecuteTime": {
          "end_time": "2023-11-14T15:18:38.536998500Z",
          "start_time": "2023-11-14T15:18:16.277515900Z"
        }
      },
      "execution_count": 36,
      "outputs": []
    },
    {
      "cell_type": "code",
      "source": [
        "raw_pd"
      ],
      "metadata": {
        "colab": {
          "base_uri": "https://localhost:8080/",
          "height": 455
        },
        "id": "pizS5guCnDk4",
        "outputId": "d53bb44c-2648-4b01-f6e0-1088b06e05e6"
      },
      "execution_count": 37,
      "outputs": [
        {
          "output_type": "execute_result",
          "data": {
            "text/plain": [
              "         ProductId          UserId                      ProfileName  \\\n",
              "Id                                                                    \n",
              "1       B001E4KFG0  A3SGXH7AUHU8GW                       delmartian   \n",
              "2       B00813GRG4  A1D87F6ZCVE5NK                           dll pa   \n",
              "3       B000LQOCH0   ABXLMWJIXXAIN  Natalia Corres \"Natalia Corres\"   \n",
              "4       B000UA0QIQ  A395BORC6FGVXV                             Karl   \n",
              "5       B006K2ZZ7K  A1UQRSCLF8GW1T    Michael D. Bigham \"M. Wassir\"   \n",
              "...            ...             ...                              ...   \n",
              "568450  B001EO7N10  A28KG5XORO54AY                 Lettie D. Carter   \n",
              "568451  B003S1WTCU  A3I8AFVPEE8KI5                        R. Sawyer   \n",
              "568452  B004I613EE  A121AA1GQV751Z                    pksd \"pk_007\"   \n",
              "568453  B004I613EE   A3IBEVCTXKNOH          Kathy A. Welch \"katwel\"   \n",
              "568454  B001LR2CU2  A3LGQPJCZVL9UC                         srfell17   \n",
              "\n",
              "        HelpfulnessNumerator  HelpfulnessDenominator  Score        Time  \\\n",
              "Id                                                                        \n",
              "1                          1                       1      5  1303862400   \n",
              "2                          0                       0      1  1346976000   \n",
              "3                          1                       1      4  1219017600   \n",
              "4                          3                       3      2  1307923200   \n",
              "5                          0                       0      5  1350777600   \n",
              "...                      ...                     ...    ...         ...   \n",
              "568450                     0                       0      5  1299628800   \n",
              "568451                     0                       0      2  1331251200   \n",
              "568452                     2                       2      5  1329782400   \n",
              "568453                     1                       1      5  1331596800   \n",
              "568454                     0                       0      5  1338422400   \n",
              "\n",
              "                                   Summary  \\\n",
              "Id                                           \n",
              "1                    Good Quality Dog Food   \n",
              "2                        Not as Advertised   \n",
              "3                    \"Delight\" says it all   \n",
              "4                           Cough Medicine   \n",
              "5                              Great taffy   \n",
              "...                                    ...   \n",
              "568450                 Will not do without   \n",
              "568451                        disappointed   \n",
              "568452            Perfect for our maltipoo   \n",
              "568453  Favorite Training and reward treat   \n",
              "568454                         Great Honey   \n",
              "\n",
              "                                                     Text  \n",
              "Id                                                         \n",
              "1       I have bought several of the Vitality canned d...  \n",
              "2       Product arrived labeled as Jumbo Salted Peanut...  \n",
              "3       This is a confection that has been around a fe...  \n",
              "4       If you are looking for the secret ingredient i...  \n",
              "5       Great taffy at a great price.  There was a wid...  \n",
              "...                                                   ...  \n",
              "568450  Great for sesame chicken..this is a good if no...  \n",
              "568451  I'm disappointed with the flavor. The chocolat...  \n",
              "568452  These stars are small, so you can give 10-15 o...  \n",
              "568453  These are the BEST treats for training and rew...  \n",
              "568454  I am very satisfied ,product is as advertised,...  \n",
              "\n",
              "[568454 rows x 9 columns]"
            ],
            "text/html": [
              "\n",
              "  <div id=\"df-7883fb84-aa35-4153-a4f6-f95200c9292d\" class=\"colab-df-container\">\n",
              "    <div>\n",
              "<style scoped>\n",
              "    .dataframe tbody tr th:only-of-type {\n",
              "        vertical-align: middle;\n",
              "    }\n",
              "\n",
              "    .dataframe tbody tr th {\n",
              "        vertical-align: top;\n",
              "    }\n",
              "\n",
              "    .dataframe thead th {\n",
              "        text-align: right;\n",
              "    }\n",
              "</style>\n",
              "<table border=\"1\" class=\"dataframe\">\n",
              "  <thead>\n",
              "    <tr style=\"text-align: right;\">\n",
              "      <th></th>\n",
              "      <th>ProductId</th>\n",
              "      <th>UserId</th>\n",
              "      <th>ProfileName</th>\n",
              "      <th>HelpfulnessNumerator</th>\n",
              "      <th>HelpfulnessDenominator</th>\n",
              "      <th>Score</th>\n",
              "      <th>Time</th>\n",
              "      <th>Summary</th>\n",
              "      <th>Text</th>\n",
              "    </tr>\n",
              "    <tr>\n",
              "      <th>Id</th>\n",
              "      <th></th>\n",
              "      <th></th>\n",
              "      <th></th>\n",
              "      <th></th>\n",
              "      <th></th>\n",
              "      <th></th>\n",
              "      <th></th>\n",
              "      <th></th>\n",
              "      <th></th>\n",
              "    </tr>\n",
              "  </thead>\n",
              "  <tbody>\n",
              "    <tr>\n",
              "      <th>1</th>\n",
              "      <td>B001E4KFG0</td>\n",
              "      <td>A3SGXH7AUHU8GW</td>\n",
              "      <td>delmartian</td>\n",
              "      <td>1</td>\n",
              "      <td>1</td>\n",
              "      <td>5</td>\n",
              "      <td>1303862400</td>\n",
              "      <td>Good Quality Dog Food</td>\n",
              "      <td>I have bought several of the Vitality canned d...</td>\n",
              "    </tr>\n",
              "    <tr>\n",
              "      <th>2</th>\n",
              "      <td>B00813GRG4</td>\n",
              "      <td>A1D87F6ZCVE5NK</td>\n",
              "      <td>dll pa</td>\n",
              "      <td>0</td>\n",
              "      <td>0</td>\n",
              "      <td>1</td>\n",
              "      <td>1346976000</td>\n",
              "      <td>Not as Advertised</td>\n",
              "      <td>Product arrived labeled as Jumbo Salted Peanut...</td>\n",
              "    </tr>\n",
              "    <tr>\n",
              "      <th>3</th>\n",
              "      <td>B000LQOCH0</td>\n",
              "      <td>ABXLMWJIXXAIN</td>\n",
              "      <td>Natalia Corres \"Natalia Corres\"</td>\n",
              "      <td>1</td>\n",
              "      <td>1</td>\n",
              "      <td>4</td>\n",
              "      <td>1219017600</td>\n",
              "      <td>\"Delight\" says it all</td>\n",
              "      <td>This is a confection that has been around a fe...</td>\n",
              "    </tr>\n",
              "    <tr>\n",
              "      <th>4</th>\n",
              "      <td>B000UA0QIQ</td>\n",
              "      <td>A395BORC6FGVXV</td>\n",
              "      <td>Karl</td>\n",
              "      <td>3</td>\n",
              "      <td>3</td>\n",
              "      <td>2</td>\n",
              "      <td>1307923200</td>\n",
              "      <td>Cough Medicine</td>\n",
              "      <td>If you are looking for the secret ingredient i...</td>\n",
              "    </tr>\n",
              "    <tr>\n",
              "      <th>5</th>\n",
              "      <td>B006K2ZZ7K</td>\n",
              "      <td>A1UQRSCLF8GW1T</td>\n",
              "      <td>Michael D. Bigham \"M. Wassir\"</td>\n",
              "      <td>0</td>\n",
              "      <td>0</td>\n",
              "      <td>5</td>\n",
              "      <td>1350777600</td>\n",
              "      <td>Great taffy</td>\n",
              "      <td>Great taffy at a great price.  There was a wid...</td>\n",
              "    </tr>\n",
              "    <tr>\n",
              "      <th>...</th>\n",
              "      <td>...</td>\n",
              "      <td>...</td>\n",
              "      <td>...</td>\n",
              "      <td>...</td>\n",
              "      <td>...</td>\n",
              "      <td>...</td>\n",
              "      <td>...</td>\n",
              "      <td>...</td>\n",
              "      <td>...</td>\n",
              "    </tr>\n",
              "    <tr>\n",
              "      <th>568450</th>\n",
              "      <td>B001EO7N10</td>\n",
              "      <td>A28KG5XORO54AY</td>\n",
              "      <td>Lettie D. Carter</td>\n",
              "      <td>0</td>\n",
              "      <td>0</td>\n",
              "      <td>5</td>\n",
              "      <td>1299628800</td>\n",
              "      <td>Will not do without</td>\n",
              "      <td>Great for sesame chicken..this is a good if no...</td>\n",
              "    </tr>\n",
              "    <tr>\n",
              "      <th>568451</th>\n",
              "      <td>B003S1WTCU</td>\n",
              "      <td>A3I8AFVPEE8KI5</td>\n",
              "      <td>R. Sawyer</td>\n",
              "      <td>0</td>\n",
              "      <td>0</td>\n",
              "      <td>2</td>\n",
              "      <td>1331251200</td>\n",
              "      <td>disappointed</td>\n",
              "      <td>I'm disappointed with the flavor. The chocolat...</td>\n",
              "    </tr>\n",
              "    <tr>\n",
              "      <th>568452</th>\n",
              "      <td>B004I613EE</td>\n",
              "      <td>A121AA1GQV751Z</td>\n",
              "      <td>pksd \"pk_007\"</td>\n",
              "      <td>2</td>\n",
              "      <td>2</td>\n",
              "      <td>5</td>\n",
              "      <td>1329782400</td>\n",
              "      <td>Perfect for our maltipoo</td>\n",
              "      <td>These stars are small, so you can give 10-15 o...</td>\n",
              "    </tr>\n",
              "    <tr>\n",
              "      <th>568453</th>\n",
              "      <td>B004I613EE</td>\n",
              "      <td>A3IBEVCTXKNOH</td>\n",
              "      <td>Kathy A. Welch \"katwel\"</td>\n",
              "      <td>1</td>\n",
              "      <td>1</td>\n",
              "      <td>5</td>\n",
              "      <td>1331596800</td>\n",
              "      <td>Favorite Training and reward treat</td>\n",
              "      <td>These are the BEST treats for training and rew...</td>\n",
              "    </tr>\n",
              "    <tr>\n",
              "      <th>568454</th>\n",
              "      <td>B001LR2CU2</td>\n",
              "      <td>A3LGQPJCZVL9UC</td>\n",
              "      <td>srfell17</td>\n",
              "      <td>0</td>\n",
              "      <td>0</td>\n",
              "      <td>5</td>\n",
              "      <td>1338422400</td>\n",
              "      <td>Great Honey</td>\n",
              "      <td>I am very satisfied ,product is as advertised,...</td>\n",
              "    </tr>\n",
              "  </tbody>\n",
              "</table>\n",
              "<p>568454 rows × 9 columns</p>\n",
              "</div>\n",
              "    <div class=\"colab-df-buttons\">\n",
              "\n",
              "  <div class=\"colab-df-container\">\n",
              "    <button class=\"colab-df-convert\" onclick=\"convertToInteractive('df-7883fb84-aa35-4153-a4f6-f95200c9292d')\"\n",
              "            title=\"Convert this dataframe to an interactive table.\"\n",
              "            style=\"display:none;\">\n",
              "\n",
              "  <svg xmlns=\"http://www.w3.org/2000/svg\" height=\"24px\" viewBox=\"0 -960 960 960\">\n",
              "    <path d=\"M120-120v-720h720v720H120Zm60-500h600v-160H180v160Zm220 220h160v-160H400v160Zm0 220h160v-160H400v160ZM180-400h160v-160H180v160Zm440 0h160v-160H620v160ZM180-180h160v-160H180v160Zm440 0h160v-160H620v160Z\"/>\n",
              "  </svg>\n",
              "    </button>\n",
              "\n",
              "  <style>\n",
              "    .colab-df-container {\n",
              "      display:flex;\n",
              "      gap: 12px;\n",
              "    }\n",
              "\n",
              "    .colab-df-convert {\n",
              "      background-color: #E8F0FE;\n",
              "      border: none;\n",
              "      border-radius: 50%;\n",
              "      cursor: pointer;\n",
              "      display: none;\n",
              "      fill: #1967D2;\n",
              "      height: 32px;\n",
              "      padding: 0 0 0 0;\n",
              "      width: 32px;\n",
              "    }\n",
              "\n",
              "    .colab-df-convert:hover {\n",
              "      background-color: #E2EBFA;\n",
              "      box-shadow: 0px 1px 2px rgba(60, 64, 67, 0.3), 0px 1px 3px 1px rgba(60, 64, 67, 0.15);\n",
              "      fill: #174EA6;\n",
              "    }\n",
              "\n",
              "    .colab-df-buttons div {\n",
              "      margin-bottom: 4px;\n",
              "    }\n",
              "\n",
              "    [theme=dark] .colab-df-convert {\n",
              "      background-color: #3B4455;\n",
              "      fill: #D2E3FC;\n",
              "    }\n",
              "\n",
              "    [theme=dark] .colab-df-convert:hover {\n",
              "      background-color: #434B5C;\n",
              "      box-shadow: 0px 1px 3px 1px rgba(0, 0, 0, 0.15);\n",
              "      filter: drop-shadow(0px 1px 2px rgba(0, 0, 0, 0.3));\n",
              "      fill: #FFFFFF;\n",
              "    }\n",
              "  </style>\n",
              "\n",
              "    <script>\n",
              "      const buttonEl =\n",
              "        document.querySelector('#df-7883fb84-aa35-4153-a4f6-f95200c9292d button.colab-df-convert');\n",
              "      buttonEl.style.display =\n",
              "        google.colab.kernel.accessAllowed ? 'block' : 'none';\n",
              "\n",
              "      async function convertToInteractive(key) {\n",
              "        const element = document.querySelector('#df-7883fb84-aa35-4153-a4f6-f95200c9292d');\n",
              "        const dataTable =\n",
              "          await google.colab.kernel.invokeFunction('convertToInteractive',\n",
              "                                                    [key], {});\n",
              "        if (!dataTable) return;\n",
              "\n",
              "        const docLinkHtml = 'Like what you see? Visit the ' +\n",
              "          '<a target=\"_blank\" href=https://colab.research.google.com/notebooks/data_table.ipynb>data table notebook</a>'\n",
              "          + ' to learn more about interactive tables.';\n",
              "        element.innerHTML = '';\n",
              "        dataTable['output_type'] = 'display_data';\n",
              "        await google.colab.output.renderOutput(dataTable, element);\n",
              "        const docLink = document.createElement('div');\n",
              "        docLink.innerHTML = docLinkHtml;\n",
              "        element.appendChild(docLink);\n",
              "      }\n",
              "    </script>\n",
              "  </div>\n",
              "\n",
              "\n",
              "<div id=\"df-bb2e7dbb-5aab-48fe-adb4-db0c88b0f314\">\n",
              "  <button class=\"colab-df-quickchart\" onclick=\"quickchart('df-bb2e7dbb-5aab-48fe-adb4-db0c88b0f314')\"\n",
              "            title=\"Suggest charts\"\n",
              "            style=\"display:none;\">\n",
              "\n",
              "<svg xmlns=\"http://www.w3.org/2000/svg\" height=\"24px\"viewBox=\"0 0 24 24\"\n",
              "     width=\"24px\">\n",
              "    <g>\n",
              "        <path d=\"M19 3H5c-1.1 0-2 .9-2 2v14c0 1.1.9 2 2 2h14c1.1 0 2-.9 2-2V5c0-1.1-.9-2-2-2zM9 17H7v-7h2v7zm4 0h-2V7h2v10zm4 0h-2v-4h2v4z\"/>\n",
              "    </g>\n",
              "</svg>\n",
              "  </button>\n",
              "\n",
              "<style>\n",
              "  .colab-df-quickchart {\n",
              "      --bg-color: #E8F0FE;\n",
              "      --fill-color: #1967D2;\n",
              "      --hover-bg-color: #E2EBFA;\n",
              "      --hover-fill-color: #174EA6;\n",
              "      --disabled-fill-color: #AAA;\n",
              "      --disabled-bg-color: #DDD;\n",
              "  }\n",
              "\n",
              "  [theme=dark] .colab-df-quickchart {\n",
              "      --bg-color: #3B4455;\n",
              "      --fill-color: #D2E3FC;\n",
              "      --hover-bg-color: #434B5C;\n",
              "      --hover-fill-color: #FFFFFF;\n",
              "      --disabled-bg-color: #3B4455;\n",
              "      --disabled-fill-color: #666;\n",
              "  }\n",
              "\n",
              "  .colab-df-quickchart {\n",
              "    background-color: var(--bg-color);\n",
              "    border: none;\n",
              "    border-radius: 50%;\n",
              "    cursor: pointer;\n",
              "    display: none;\n",
              "    fill: var(--fill-color);\n",
              "    height: 32px;\n",
              "    padding: 0;\n",
              "    width: 32px;\n",
              "  }\n",
              "\n",
              "  .colab-df-quickchart:hover {\n",
              "    background-color: var(--hover-bg-color);\n",
              "    box-shadow: 0 1px 2px rgba(60, 64, 67, 0.3), 0 1px 3px 1px rgba(60, 64, 67, 0.15);\n",
              "    fill: var(--button-hover-fill-color);\n",
              "  }\n",
              "\n",
              "  .colab-df-quickchart-complete:disabled,\n",
              "  .colab-df-quickchart-complete:disabled:hover {\n",
              "    background-color: var(--disabled-bg-color);\n",
              "    fill: var(--disabled-fill-color);\n",
              "    box-shadow: none;\n",
              "  }\n",
              "\n",
              "  .colab-df-spinner {\n",
              "    border: 2px solid var(--fill-color);\n",
              "    border-color: transparent;\n",
              "    border-bottom-color: var(--fill-color);\n",
              "    animation:\n",
              "      spin 1s steps(1) infinite;\n",
              "  }\n",
              "\n",
              "  @keyframes spin {\n",
              "    0% {\n",
              "      border-color: transparent;\n",
              "      border-bottom-color: var(--fill-color);\n",
              "      border-left-color: var(--fill-color);\n",
              "    }\n",
              "    20% {\n",
              "      border-color: transparent;\n",
              "      border-left-color: var(--fill-color);\n",
              "      border-top-color: var(--fill-color);\n",
              "    }\n",
              "    30% {\n",
              "      border-color: transparent;\n",
              "      border-left-color: var(--fill-color);\n",
              "      border-top-color: var(--fill-color);\n",
              "      border-right-color: var(--fill-color);\n",
              "    }\n",
              "    40% {\n",
              "      border-color: transparent;\n",
              "      border-right-color: var(--fill-color);\n",
              "      border-top-color: var(--fill-color);\n",
              "    }\n",
              "    60% {\n",
              "      border-color: transparent;\n",
              "      border-right-color: var(--fill-color);\n",
              "    }\n",
              "    80% {\n",
              "      border-color: transparent;\n",
              "      border-right-color: var(--fill-color);\n",
              "      border-bottom-color: var(--fill-color);\n",
              "    }\n",
              "    90% {\n",
              "      border-color: transparent;\n",
              "      border-bottom-color: var(--fill-color);\n",
              "    }\n",
              "  }\n",
              "</style>\n",
              "\n",
              "  <script>\n",
              "    async function quickchart(key) {\n",
              "      const quickchartButtonEl =\n",
              "        document.querySelector('#' + key + ' button');\n",
              "      quickchartButtonEl.disabled = true;  // To prevent multiple clicks.\n",
              "      quickchartButtonEl.classList.add('colab-df-spinner');\n",
              "      try {\n",
              "        const charts = await google.colab.kernel.invokeFunction(\n",
              "            'suggestCharts', [key], {});\n",
              "      } catch (error) {\n",
              "        console.error('Error during call to suggestCharts:', error);\n",
              "      }\n",
              "      quickchartButtonEl.classList.remove('colab-df-spinner');\n",
              "      quickchartButtonEl.classList.add('colab-df-quickchart-complete');\n",
              "    }\n",
              "    (() => {\n",
              "      let quickchartButtonEl =\n",
              "        document.querySelector('#df-bb2e7dbb-5aab-48fe-adb4-db0c88b0f314 button');\n",
              "      quickchartButtonEl.style.display =\n",
              "        google.colab.kernel.accessAllowed ? 'block' : 'none';\n",
              "    })();\n",
              "  </script>\n",
              "</div>\n",
              "    </div>\n",
              "  </div>\n"
            ]
          },
          "metadata": {},
          "execution_count": 37
        }
      ]
    },
    {
      "cell_type": "markdown",
      "source": [
        "We write the **product ID** and **user ID** of the sampled rows to the provided `fout` file, with columns separated by comma `,`. We only save these two columns because for the co-review graph, we need to know which users reviewed which products."
      ],
      "metadata": {
        "collapsed": false,
        "id": "mGe1WbixkOF_"
      }
    },
    {
      "cell_type": "code",
      "source": [
        "# Given a Pandas frame raw_pd, save lines corresponding to approximately 10% of the users to file fout\n",
        "# Note that all lines corresponding to sampled users are saved to fout\n",
        "\n",
        "def sample_users(raw_pd, rate, buckets, fout):\n",
        "    for index, row in raw_pd.iterrows():\n",
        "        if (hash(row[\"UserId\"])%buckets < rate):\n",
        "            row_str = \",\".join(map(str, [row[\"ProductId\"], row[\"UserId\"]]))\n",
        "            fout.write(row_str)\n",
        "            fout.write(\"\\n\")\n",
        "            # Save this line to fout\n",
        "            # You have to complete this part of the function's body\n",
        "\n",
        "\n",
        "sampled_file = \"data/Reviews_sampled.csv\"\n",
        "rate = 10 # 10% of users\n",
        "buckets = 100\n",
        "\n",
        "fout = open(sampled_file, \"w\")\n",
        "sample_users(raw_pd, rate, buckets, fout)\n",
        "fout.close()"
      ],
      "metadata": {
        "id": "f1L04Je1Pj9p",
        "ExecuteTime": {
          "end_time": "2023-11-14T15:20:20.910486200Z",
          "start_time": "2023-11-14T15:18:38.538997700Z"
        }
      },
      "execution_count": null,
      "outputs": []
    },
    {
      "cell_type": "markdown",
      "source": [
        "As a next step, we will install `pyspark` to make use of the massive parallel computing by Spark."
      ],
      "metadata": {
        "id": "izPftdwha5_J"
      }
    },
    {
      "cell_type": "code",
      "source": [
        "!pip install pyspark --quiet"
      ],
      "metadata": {
        "id": "dAHkrlwomp_N"
      },
      "execution_count": 38,
      "outputs": []
    },
    {
      "cell_type": "markdown",
      "source": [
        "# Co-Review Graph\n",
        "In the following section, we will build the co-review graph. The co-review graph is a structure where **vertices** are Amazon users and **edges** between users mean that they have reviewed the same product. The **weight** of the connection signifies the number of the same products that both have reviewed.\n",
        "\n",
        "The adjacency list of the co-review graph would look something like so:\n",
        "\n",
        "```\n",
        "user1 [(user2, 2), (user3, 1)...]\n",
        "... ...\n",
        "user2 [(user2, 2), (user1, 1)...]\n",
        "```"
      ],
      "metadata": {
        "id": "Ii7f-4mqbHoR"
      }
    },
    {
      "cell_type": "markdown",
      "source": [
        "### 1. Setup Spark\n",
        "As a first step, we need to create a spark context and pass it the file with the **review graph**. The **review graph** is a graph where vertices are **users** and **products** with edges between the two if a user has reviewed a product. Below is an example of the **edges** in the graph.\n",
        "\n",
        "```\n",
        "user1 product10\n",
        "user2 product2\n",
        "...\n",
        "user70 product 2\n",
        "```"
      ],
      "metadata": {
        "id": "7Kjh0xxSccCj"
      }
    },
    {
      "cell_type": "markdown",
      "source": [
        "Save the product and user IDs into a dedicated `.csv` file such that we can load them with pyspark later."
      ],
      "metadata": {
        "id": "I1ZBb2Eya1l1"
      }
    },
    {
      "cell_type": "code",
      "source": [
        "full_reviews_path = \"data/full_reviews.csv\"\n",
        "full_reviews = raw_pd[[\"ProductId\", \"UserId\"]].to_csv(full_reviews_path, index=None)"
      ],
      "metadata": {
        "id": "mrybaAU4RKry"
      },
      "execution_count": 39,
      "outputs": []
    },
    {
      "cell_type": "code",
      "source": [
        "import pyspark\n",
        "from pyspark import SparkContext, SparkConf\n",
        "import operator\n",
        "\n",
        "sc = SparkContext(appName=\"co-review-graph\").getOrCreate()\n",
        "file_in = \"data/full_reviews.csv\"\n",
        "full_reviews = sc.textFile(file_in)"
      ],
      "metadata": {
        "id": "86KeRTWjmcMV"
      },
      "execution_count": 42,
      "outputs": []
    },
    {
      "cell_type": "markdown",
      "source": [
        "### 2. Find Product Reviewers\n",
        "Having created the spark context, we can perform the initial step of the graph building procedure. For each product, we want to find **all** users that have reviewed a product. This will later enable us to find the common reviewed products among users. Essentially, we just want to find the **neighbours** of each **product** node $p$. Let $E$ be the edge set of the graph, then the neighbours are connected nodes.\n",
        "\n",
        "$$\n",
        "N(p) = \\{u ∣ (p,u) \\in E\\}\n",
        "$$\n",
        "\n",
        "I call the users that review a product, **product reviewers**. The `find_product_reviewers` function below maps each **product** to a list of **users** that have reviewed that product.\n",
        "\n",
        "```\n",
        "product1, [user1, user3...]\n",
        "...\n",
        "```"
      ],
      "metadata": {
        "id": "rne1Rj0SdAaA"
      }
    },
    {
      "cell_type": "code",
      "source": [
        "def find_product_reviewers(data: pyspark.RDD):\n",
        "    \"\"\"For a product-user graph, for each product finds the users that have reviewed that product.\n",
        "\n",
        "    :arg\n",
        "        data (pyspark.RDD): the user-product graph, which consists of <productID>, <userID> tuples on each line.\n",
        "\n",
        "    :return\n",
        "        (pyspark.RDD): each product ID, mapped to a list of user IDs that have reviewed it. <productID>, [<user1>, <user2>,...]\n",
        "    \"\"\"\n",
        "    return data.map(lambda line: line.split(\",\")) \\\n",
        "                .map(lambda user_product: (user_product[0], [user_product[1]])) \\\n",
        "                .reduceByKey(operator.add)"
      ],
      "metadata": {
        "id": "P5h7DYMgeCox"
      },
      "execution_count": 44,
      "outputs": []
    },
    {
      "cell_type": "code",
      "source": [
        "product_reviewers = find_product_reviewers(full_reviews)"
      ],
      "metadata": {
        "id": "AzzO-CiKgEcw"
      },
      "execution_count": 45,
      "outputs": []
    },
    {
      "cell_type": "markdown",
      "source": [
        "###3. Per-product user pairs\n",
        "Now that we have a list of users that reviewed each product, we want to find all the possible **user pairs** per product. Basically, we are taking the **cartesian product** of all reviewers for each product, and then **flattening** the output to get an RDD with `<user> <user>` pairs.\n",
        "\n",
        "Let $U_p$ be the set of users that reviewed the product $p$, which is just the neighbours $N(p)$ of the product $p$. Then, we create each possible user combination, **ignoring** the combinations of users with **themselves** as we would otherwise count each user as their **own** co-reviewer.\n",
        "\n",
        "\\begin{align}\n",
        "    U_p &= N(p) \\\\\n",
        "    U_p &\\times U_p\n",
        "\\end{align}\n",
        "\n",
        "The function `per_product_user_pairs` below computes this **cartesian product** between each product reviewers list and returns a flattened RDD, such that we have a user tuples like so:\n",
        "\n",
        "```python\n",
        "user1 user2 #user 1 and user 2 have reviewed the same product\n",
        "...\n",
        "user550 user2 #user 550 and user 2 have also reviewed the same product\n",
        "```\n",
        "\n",
        "Note that we lose the product information at this point, but since it is not relevant to the task it does not matter. With this type of structure, we can easily count the number of times that users have reviewed the same product, since each line corresponds to a product that both users reviewed."
      ],
      "metadata": {
        "id": "z11YXYFUgJcO"
      }
    },
    {
      "cell_type": "code",
      "source": [
        "def per_product_user_pairs(product_reviewers: pyspark.RDD):\n",
        "    \"\"\"Finds the per-product user pairs for an product reviewers RDD and flattens them.\n",
        "\n",
        "    :arg\n",
        "        product_reviewers (pyspark.RDD): a pyspark RDD where product IDs are mapped to lists of users that have reviewed that product.\n",
        "\n",
        "    :return\n",
        "        (pyspark.RDD): a pyspark RDD where each element is (<user>, <user>) tuple.\n",
        "    \"\"\"\n",
        "    # creating the cartesian product between reviewers, but ignoring self-loops\n",
        "    return product_reviewers.map(lambda product_users: product_users[1]) \\\n",
        "                            .flatMap(lambda users: [(user1, user2) for user1 in users for user2 in users if user1 != user2])"
      ],
      "metadata": {
        "id": "lwNmqqy4iwly"
      },
      "execution_count": 49,
      "outputs": []
    },
    {
      "cell_type": "code",
      "source": [
        "per_product_pairs = per_product_user_pairs(product_reviewers)"
      ],
      "metadata": {
        "id": "LTmn6UUMjp_J"
      },
      "execution_count": 50,
      "outputs": []
    },
    {
      "cell_type": "markdown",
      "source": [
        "###4. Count users\n",
        "We now have an RDD where each element is a user tuple `(<user>, <user>)` where both users share a **common reviewed product**. The final step to finding the **number** of common reviewed products, is to for each user, count the number of users it is connected to.\n",
        "\n",
        "Since the RDD at this stage is essentially a **multigraph**, we just need to count the number of connections between user vertices to build the co-review graph. We can do this by:\n",
        "\n",
        "1. mapping each user tuple to a $1$, `(<user>, <user>) -> ((<user>, <user>), 1)`, so that we can count the occurences later.\n",
        "1. group on each user tuple `(<user>, <user>)` and sum up the values. Through this, we count the number of **edges** between the two users.\n",
        "1. map each `((<user>, <user>), <count>)` to `(<user>, [(<user>, <count>)])`.\n",
        "1. group by `<user>`and add the co-review lists for each user to each other. After this step we have mapped each **user** to a list of other users that they share reviews with as well as the **number of reviews** they share with each user.\n",
        "1. sort the co-review lists by the `<count>` in descending order.\n",
        "\n",
        "The function `count_users` below performs all of these steps and returns an RDD of the structure:\n",
        "\n",
        "```\n",
        "(<user>, [(<user>, <count>)])\n",
        "...\n",
        "(<user>, [(<user>, <count>)])\n",
        "```"
      ],
      "metadata": {
        "id": "6SsAY-cClHBw"
      }
    },
    {
      "cell_type": "code",
      "source": [
        "def count_users(user_pairs: pyspark.RDD, sort: bool, descending: bool):\n",
        "    \"\"\"Counts the number commonly reviewed products between users and maps each user to a list of (<user>, <common product review count>) tuples.\n",
        "\n",
        "    :arg\n",
        "        user_pairs (pyspark.RDD): pyspark RDD where each element is a user tuple (<user>, <user>).\n",
        "        sort (bool): True if the list should be sorted by the <common product review count>, False if not.\n",
        "        descending (bool): True if the list should be sorted in descending order, False if ascending.\n",
        "\n",
        "    :return\n",
        "        (pyspark.RDD): a pyspark RDD where each user is mapped to a list [(<user>, <common product review count>)...], sorted by the common product review count.\n",
        "    \"\"\"\n",
        "    # map each user pair to a key-value pair, where key is (user1, user2) and value is 1\n",
        "    user_pair_counts = user_pairs.map(lambda user_pair: ((user_pair[0], user_pair[1]), 1))\n",
        "\n",
        "    # count the occurrences of each unique key, map users to lists, and add the lists\n",
        "    user_pair_counts = user_pair_counts.reduceByKey(operator.add) \\\n",
        "                                .map(lambda users_counts: (users_counts[0][0], [(users_counts[0][1], users_counts[1])])) \\\n",
        "                                .reduceByKey(operator.add)\n",
        "\n",
        "    if sort:\n",
        "        user_pair_counts = user_pair_counts.mapValues(lambda user_counts: sorted(user_counts, key=lambda x: x[1], reverse=descending))\n",
        "\n",
        "    return user_pair_counts"
      ],
      "metadata": {
        "id": "-Z3tENxDmc0I"
      },
      "execution_count": 51,
      "outputs": []
    },
    {
      "cell_type": "code",
      "source": [
        "co_review_graph = count_users(per_product_pairs, sort=True, descending=True)"
      ],
      "metadata": {
        "id": "ahQ0RjITrw7o"
      },
      "execution_count": 52,
      "outputs": []
    },
    {
      "cell_type": "markdown",
      "source": [
        "### 5. Save To File\n",
        "As a final step, we save the finished co-review graph to a file. Collecting the data is not feasable due to the size, so we will first move it to a single partition using the `coalesce` function before saving it into a file."
      ],
      "metadata": {
        "id": "bD8n6KppCclR"
      }
    },
    {
      "cell_type": "code",
      "source": [
        "co_review_graph.coalesce(1, shuffle=True).saveAsTextFile(\"data/single/\")"
      ],
      "metadata": {
        "id": "CiV2GKnOUr3h"
      },
      "execution_count": 56,
      "outputs": []
    },
    {
      "cell_type": "markdown",
      "source": [
        "We can check that the file was indeed saved."
      ],
      "metadata": {
        "id": "h-CYbX0voD_m"
      }
    },
    {
      "cell_type": "code",
      "source": [
        "!ls data/single/"
      ],
      "metadata": {
        "colab": {
          "base_uri": "https://localhost:8080/"
        },
        "id": "3U-fmVizeAGu",
        "outputId": "721bbe4c-1f93-4fd1-ff1d-19b7386a18d0"
      },
      "execution_count": 57,
      "outputs": [
        {
          "output_type": "stream",
          "name": "stdout",
          "text": [
            "part-00000  _SUCCESS\n"
          ]
        }
      ]
    },
    {
      "cell_type": "markdown",
      "source": [
        "Having written the Co Review Graph RDD to the file, we can check the first 10 lines of the file."
      ],
      "metadata": {
        "id": "pQ15ovcLoBj4"
      }
    },
    {
      "cell_type": "code",
      "source": [
        "!head -10 data/single/part-00000"
      ],
      "metadata": {
        "colab": {
          "base_uri": "https://localhost:8080/"
        },
        "id": "KcxsckU0goXh",
        "outputId": "73e2f8cd-2d34-4883-8932-72845329ada0"
      },
      "execution_count": 58,
      "outputs": [
        {
          "output_type": "stream",
          "name": "stdout",
          "text": [
            "('A2Z9M6F8S2VVU4', [('A2YX1NHIOH61AV', 2), ('A1Y3CYYO6PPI61', 2), ('AL8L63OIBUY2F', 2), ('A7PFDD0F04X7L', 2), ('A2J6HBH03TCM75', 2), ('A1LNUH08546UK6', 2), ('A2MG6DACLTIXJ4', 2), ('A1J4FGEOBL2E9A', 2), ('A3690KJBTLZDMS', 2), ('AMF910FPUEI7F', 2), ('AOTK2F69X77VA', 2), ('A23CNWROWLWD0O', 2), ('A2H5J233R00FOV', 2), ('A3JLRSNSQGT6KT', 2), ('A2M3I5JEBZJR40', 2), ('A3M333GYMKIG8A', 2), ('A12UD9093P4A14', 2), ('AOMPDI4QNQTWC', 2), ('A3KZOTZWQXEGZM', 2), ('AWJD903NY5BVI', 2), ('A2C21SLGXQDIEZ', 2), ('A3MNHGI16H85B8', 2), ('A2I5M1X863QB8L', 2), ('A2WOTVO6IEE648', 2), ('A23EOHHSLA5Z50', 2), ('A2GYV0FI2GZ52C', 2), ('AJZENI4B0SAMJ', 2), ('A35QDS2JR8942J', 2), ('AIODQVA7W10YL', 2), ('A3RSWDQJ9B479Z', 2), ('A3EKGCOAJGWGNU', 2), ('AF8Q00S0OSISR', 2), ('A2FHFT5KM7XZUE', 2), ('A2CSPTFY7QPT78', 2), ('A23Q7K6GLQEN0N', 2), ('A38U5D4DTJQ5OD', 2), ('A37BZILA9MJGWX', 2), ('AFWIS3NCN74BW', 2), ('A6N7S8EEUY5OK', 2), ('A3R9EBHQ367JVJ', 2), ('AIBSO4JFTBEWE', 2), ('A9JYNIFC9U5TB', 2), ('A2K6I9R5BTMAA3', 2), ('A1YPSX7DRV4RLH', 2), ('A2G1Y8UKU9BEFI', 2), ('AQVE976ZVZ2P1', 2), ('A2RWVUT42HQAQC', 2), ('A3RXM2OGVRJ9RB', 2), ('AWEE52QL9WOR6', 2), ('ADXNU7PKWB4M0', 2), ('AH9AP7MNOK6ZQ', 2), ('A2CVHOQJGPONKY', 2), ('A3AK3RK1WNGTG8', 2), ('A31YU64TJFB6U6', 2), ('A3VG94ELC3SKF9', 2), ('A5SNNU3YAW557', 2), ('A2HM4PLYU4PVET', 2), ('A3NUXKN53F9WJZ', 2), ('AOFG08UULKT63', 2), ('A26NFIQ7KWI8Y7', 2), ('A2PQW1DS74I871', 2), ('A324HLTPHG7BTT', 2), ('A1GSGDMELR6JX5', 2), ('A1UGH9YA5PFRGA', 2), ('A2KVHGVC3N2V89', 2), ('A3LTX4DFG2JUOH', 2), ('A2ZV3K7EDQFVPD', 2), ('A2BXD9E5I6L3D4', 2), ('A13TWMQ5NH0LQV', 2), ('A1FY4RR0LGCJ0Q', 2), ('A23NH4IBVUNY0P', 2), ('A1SP1EBQRL52C4', 2), ('A2LBNOX7TN9J7C', 2), ('A3EWXY5IN87332', 2), ('A1G5FIEA40QCT4', 2), ('A3CJNM7X4KOFCE', 2), ('A12QN66OGYSQV8', 2), ('AXS6MZ5Q6UNIC', 2), ('A1LM8DNYXK84IB', 2), ('A3J34RA5HFB348', 2), ('A3916G6EAUK63A', 2), ('AVMYLQNMTBIC1', 2), ('AV4GI7ZMVZH85', 2), ('A1RVUEYK4T1WZK', 2), ('A1XAPRM0OO15SO', 2), ('A23K2W3WLBIA0K', 2), ('AVRGJOTBAV062', 2), ('A1WFYB0C0CNFZP', 2), ('A6WDMXEORF2HH', 2), ('AC04MNII0B5B9', 2), ('A2MSFCVJRWMTAB', 2), ('A3O62L5YKKY4DC', 2), ('A2PJZELNVQXN4W', 2), ('A1CWW78ZCVJTMA', 2), ('A1IRUUD2I6HZIT', 2), ('A103U3KR4L2ZXT', 2), ('AWWLV9W13QE2L', 2), ('A32VMHC1W8ERKN', 2), ('A2VC2CCXZH5LQN', 2), ('AGECHHYRKK8BG', 2), ('A384DF38IY969M', 2), ('ALNJ5EQCJVABY', 2), ('A2MSQQZG0DGPNA', 2), ('A1CBTI7MJP07U9', 2), ('A1M96KO6YQOHMT', 2), ('A2DKIZCX5F00SR', 2), ('A31W8819UFZA1S', 2), ('A1A5MPM5USXXZE', 2), ('A13J0AAKN72I7K', 2), ('A120BPRX233DLL', 2), ('A3S9PA7365P0D8', 2), ('A26C6KP0448W19', 2), ('ANKYJ1RE9FRSG', 2), ('A3UETHIJBL6MCV', 2), ('A35G1CP9QRUOTS', 2), ('A1050LRVB5H2OY', 2), ('AR8JT1VWU188Y', 2), ('A2H6YK4BZFGHA5', 2), ('A9DJ0G0UY3D2C', 2), ('A16ANQ3BTOXRW0', 2), ('A29QY127R679KS', 2), ('A30I3OXE3CI7MX', 2), ('A3KKM0T1KY42HA', 2), ('A2V31I6216202X', 2), ('A2VVUPMDXWI6IF', 2), ('A1D9H3TUNM9M1A', 2), ('AM1J3LBHI5WT8', 2), ('A2Z24IU9WSX67K', 2), ('A3RBT91LCBGN6Z', 2), ('A1ZOE6E7AR73PJ', 2), ('ABJAEV6P1JC6Z', 2), ('AKT9WOXV5KDYM', 2), ('A1MJFZ975LIEHE', 2), ('AGLKENC7EJDYW', 2), ('AOWV2XKWCZO7', 2), ('A17P57VS25YINN', 2), ('A112KFC20A5QNA', 2), ('A23DJIHWVVVHH3', 2), ('AOKK7PZM5E0PV', 2), ('ALA7F8ANQNB1Q', 2), ('A1CR6CUKWRYRRV', 2), ('A2QS3RG1ZA9F73', 2), ('A11QZQEM4DU0CP', 2), ('A2K98T6D4WNCRW', 2), ('A1R72OXVF7TNN0', 2), ('A30CUQNTM3LO3E', 2), ('A2G30W7U8VB3XN', 2)])\n",
            "('A3UA9C4FHAWOR3', [('AKJXIL2VS3Y36', 3), ('AGPFYP19KYQ5Y', 2), ('A39RZIZVBTYO34', 2), ('A1KRRXW5SXE5GH', 2), ('A2WGR8TYRMQIIB', 2), ('A37K84P15CP4MS', 2), ('A35EICNK6GLIF1', 2), ('A2KQY994VRSR17', 2), ('A3IDLBFRTU9QCN', 2), ('AX645IEO2KC14', 2), ('A1BA3HEE3KPKGN', 2), ('AGT9NF9UT80Y0', 2), ('A1MGFKT7IYJ4V', 2), ('A3RNJ9TMHLMZ0J', 2), ('A1EZH2UEMHMVQ8', 2), ('A36EANE2RDJQ8K', 2), ('A1AS2EIXHB5N5I', 2), ('A21HQN8F8I9OU8', 2), ('A2MOJANFPX353G', 2), ('ARH6C39W4M9RY', 2), ('AV83MD6CIICGJ', 2), ('A2RST646WKKOA4', 2), ('A3QCMQD3GF3LY2', 2), ('A2FIEOI4X3ZF9Z', 2), ('AGTO21BHY08LF', 2), ('A30G6Q3WKQ2ONS', 2), ('A8FIFWTX9RGVJ', 2), ('A2WUXRICH8FQ4', 2), ('A3GM1ALT4FH2FJ', 2), ('A1UWHYHADNLBA9', 2), ('A3GXHLM35HKIIS', 2), ('A1SLXF1FVR8HU', 2), ('A1H9IKWHWXRRFL', 2), ('A30RBGIKU4FGC', 2), ('A3MIQD41GOKA3Z', 2), ('A3QDITMY3OOYRP', 2), ('A2PXNDE9ZA9RF2', 2), ('A3LMPD1ZQTWOC4', 2), ('A1S73ZNO751VGN', 1), ('AQUCXFB61X7O1', 1), ('A1UACL3WRAB4O4', 1), ('A7O427ARFVJYQ', 1), ('A26CA1ZZURE3C6', 1), ('A28UDMHG53LMJ1', 1), ('AI0NMYA3LKXW1', 1), ('A1XG1WA1BWXF55', 1), ('A3VFZ7TYG5SQE0', 1), ('AVMLU4PUVDSXB', 1), ('A3F8SP8YJ6VOJ5', 1), ('A2ZEJ9ZKRG6FWC', 1), ('A2T875QZZMQ70L', 1), ('A3KZZKVD08O8F0', 1), ('A1JOCFRO3UC0QE', 1), ('ANEXKJC92OVZB', 1), ('AYULD92CF9LEQ', 1), ('A111HHCU86ONP1', 1), ('A1MD8U66TB301O', 1), ('A12I5VI55N7H1B', 1), ('AWDM5U1HKARZ0', 1), ('A2LST30476NLTC', 1), ('A2SUA4UNKU8N8', 1), ('A203OCQQ12MAVT', 1), ('AMUAJYVKCQXVE', 1), ('APQTZLZT94TZY', 1), ('A7VCK76U0QOQ1', 1), ('A197J9D87HGA5U', 1), ('A3OS1SO09S3WRJ', 1), ('A2Z30VBBT75YZE', 1), ('A9KBO2OJRDR2L', 1), ('AWALL5C7FP6IF', 1), ('A222RPFF3SD67', 1), ('A1BU1J3KRDYNT6', 1), ('AZ357WNYVF7GO', 1), ('A1OA2S1FD6K1VU', 1), ('ALS2P41IQRG04', 1), ('A38JGO3ETNO8HR', 1), ('A1XLMA0UGZB59I', 1), ('A3DT0UTD8YE5Q3', 1), ('A2N27N16HYONS0', 1), ('A27MPCHUY7IQA0', 1), ('A3PZV937Z6A4ZJ', 1), ('A19SOO53JODM1W', 1), ('A15V8UHTCYBUU4', 1), ('A2TE0A83OLR494', 1), ('A2SV0YSXDOACL4', 1), ('AJCK6OKNWGIYG', 1), ('A3HWNNKU5WTTA1', 1), ('A2TFH3WBREDZ3B', 1), ('AERQNNWNUTXIU', 1), ('A2M1FQIKXG71WG', 1), ('A1ZIJJVR05LJG1', 1), ('A182NX50N1CWNU', 1), ('A3HNBLO0KIJVTS', 1), ('AZ9LK98ZLUOIH', 1), ('A17V3UVYMI69TE', 1), ('AK89KDKINYIBS', 1), ('AEGO6A1AFDTAV', 1), ('A3TOMK6XQOZ9M8', 1), ('A1L2R24YZ36UNO', 1), ('A353TDVM3NSDZL', 1), ('A1G5WCQK7UGXQ9', 1), ('A1C200FKZ2G1MM', 1), ('A3D14HR4U5W2N1', 1), ('A3PZ4AXTY9J1DZ', 1), ('ABATZNYIBM3FF', 1), ('A1AAP43653LCM9', 1), ('A1H6SBO7R007I8', 1), ('A1COS4WPI12X4Q', 1), ('AGXB8JKGM6XCH', 1)])\n",
            "('A1CWMEQBBRO7QQ', [('A3B1360JOYS0GJ', 1), ('A2HOCQJKNNN2GQ', 1), ('AZXKAH2DE6C8A', 1), ('A1Z7Y2GMAP9SRY', 1), ('A1ML4CGU7PWRAU', 1), ('A2TV95C03KKVNM', 1), ('AVLJV4ZX3NFX6', 1), ('A2BFBHRVXSKZN9', 1), ('A36WGHR8TO5DKT', 1), ('A12TFKPZP3H196', 1), ('A3Z19QGXMV6BA', 1), ('A3SHEW9Z9SR1T7', 1), ('A3TSQVDK4TZ1VD', 1), ('A269I2GS5UJAV3', 1), ('A2MUGFV2TDQ47K', 1), ('A2TG7WPYIWL30V', 1), ('A1080SE9X3ECK0', 1), ('A22NUPW51IUMY2', 1), ('A3U7Q41SJ4PWI', 1), ('A3P0IN5AD5TDP8', 1), ('A33GTXF4RUP6FJ', 1), ('A2AIY9F9N6LGD6', 1), ('AMRMK86X3PKXD', 1), ('AG7EF0SVBQOUX', 1), ('A3AQ279I3NTVEI', 1), ('AZU2NHV73NE0U', 1), ('A3PE026QQLR45X', 1), ('A3EBHHCZO6V2A4', 1), ('A3NTAQ473SV08U', 1), ('A21S80704YFTZ2', 1), ('A2D625P0TKHVSF', 1), ('A2QKOR8IHYL2J2', 1), ('A1ILYJXXR16S7S', 1), ('A1XRXZI5KOMVDD', 1)])\n",
            "('ALQ3V09BASPB3', [('A1FXDA3HU2GW2M', 1), ('AVEDMSMDVK3CO', 1), ('A3JXBZ8F65100O', 1), ('A270QYQEV3CQGH', 1), ('A3CG92CZ2EB0M4', 1), ('A338KMDE5JP3KZ', 1), ('A1JVWKDSBX85VO', 1), ('A2FA0R08B0JPWX', 1), ('A21MCM247XS9F4', 1), ('A3CAR9X88M6M4G', 1), ('A1U2FIY0NRU9NF', 1), ('A10QJRMID9OVT9', 1), ('A3C26HADK8V9RF', 1), ('AHPHMVSNXZTH9', 1), ('A2QA54M81OGG7H', 1), ('A2447EQY78CR7T', 1), ('A18CWYFQKM7ABW', 1), ('A2A5N3EB91AYUQ', 1), ('A19N642A4GF07F', 1), ('A322UGN29XANRR', 1), ('A2IPTRXADXWDBZ', 1), ('A1CEVLM7NVZU61', 1), ('A2NVDIXUP9E6BW', 1), ('A2KNOVIPZUICPY', 1), ('A40N5P6DG7FOL', 1), ('A2QOWFP1JDAG3Z', 1), ('A3S3EPKV4UB7WV', 1), ('A1TITOWKMCRDL2', 1), ('AZ2B4ZS3ZBRR4', 1), ('A3NJDDMYLQZOUL', 1), ('A1OITYOXXH338D', 1), ('A17UIRO9W1LGT2', 1), ('A295ODMWL5DMQT', 1), ('A3W0MYWHEDXFEP', 1), ('A3LNFDWIW3DRV1', 1), ('A3AQOJIMCMFRVY', 1), ('A1XCTOR2E3GAJT', 1), ('A1M1HXDZNO7M6J', 1), ('A31FXG7U75KCLI', 1), ('A32OLAXNTAHO9G', 1), ('A2EX76I6IO2CYX', 1), ('A2RGHSIWI03MOS', 1), ('A3FLB2I0FYHWWA', 1), ('A2NAS7P25TOCS9', 1), ('A8QBMX1ZOML2L', 1), ('A29GZHQOHL29ZS', 1), ('A2NWIBURBR217A', 1), ('A2XQ89RA6G9SO2', 1), ('A30PEUGLU1PF96', 1), ('A3QUBWHQHFK32Z', 1), ('A1JOKWT98M14GF', 1), ('A1OYTS2OL4W1R9', 1), ('A27YACVJHPBTEY', 1), ('A1R7VITEGDYSS8', 1), ('A3S9QVVBFGJS1B', 1), ('A1KFLBV9HD1PKH', 1), ('A1RXVSBGGRKIIW', 1), ('A23Q6TN6OK1U51', 1), ('AMIJCZY78FDYX', 1), ('AK4ZCMDQM4APH', 1), ('A3PZXFWWLWZLCB', 1), ('A1OL1UJQ5OOFT1', 1), ('A2OHWGF4AP4864', 1), ('A1ISBNQWU9BP6', 1), ('A186ZAYP2L4CDZ', 1), ('A35MSJMCE8NEW2', 1), ('AAGJ6W67P2POL', 1), ('A1NCHUP6GQOHFT', 1), ('A2QS5QOXXG493A', 1), ('AM5R9PKVN7PXS', 1), ('A3RCHXMXUL0WJH', 1), ('A1PIMS73NJDA77', 1), ('APKVG66TWSGP9', 1), ('A5HZNCQPJHMRS', 1), ('AIQS65AISQ9TG', 1), ('A1KC79UOBQUXAH', 1), ('A1NVTXDIQ8AB4R', 1), ('AJD2INUUX9VHY', 1), ('AUZOAR7A3IFU', 1), ('ABP2UMJY61K8A', 1), ('A1HS4L9EGKJ1CG', 1), ('AOZIQ6GOTUVKR', 1), ('ATYGJIPY8G2HS', 1), ('A1FRDP6R2I8ML0', 1), ('A3K3VZXCNJLS4B', 1), ('A137OOBXHY95E8', 1), ('A39WLLSBKYAHQZ', 1), ('A3IMIG3WZ1BUSV', 1), ('AOA1AJJZSDS01', 1), ('ASA1DQFTDHTRL', 1), ('A2URPGQF342PW8', 1), ('A1VPQS11RHL5S2', 1)])\n",
            "('A192PP1LRSLA8V', [('A3F0ESIF6YWCKB', 1), ('A1C2KMTHZ0ROJY', 1), ('ALYVOAFQU4TGG', 1), ('A3TBTAX85OYRKP', 1), ('A31RRPJ0FN5151', 1), ('A1DUSXBCNJY421', 1)])\n",
            "('AS4V5TKK1VD4T', [('A1CTQVH9M1SLC9', 1), ('A3EXA87SALI07K', 1), ('A1EIDFUDCWT20D', 1), ('A3BU43OIIOPOFF', 1), ('A2BT968XSRPP0K', 1), ('AY22VOIZDC2RH', 1), ('A2HKVSU1CLQC9W', 1), ('AFH2BO2DPKWXI', 1), ('AX9MSC26EYFAN', 1), ('A169HV1FUZ0UNG', 1), ('A2PGHPC85ZS5IJ', 1), ('A1O4VUBKD89DO2', 1), ('A350XKI4PFZJ34', 1), ('A1F0TERGQZ746P', 1), ('A3CM3GMHM3QJSP', 1), ('AVOBFQO23AEJH', 1), ('A2DU36W3HUN55U', 1), ('A2F2G2ATE3BNH2', 1), ('A24NVV8U97ZKHV', 1), ('A23KLK7OTHDL2U', 1), ('A1DOUJD4LXXE1Y', 1), ('ANQ1WDVRY53DM', 1), ('A2FBJ8N7A8VKA5', 1), ('A7CX4R9YJOEC4', 1), ('A167TJ2U14QGQN', 1), ('A3RXLDCML1SXH6', 1), ('AFVT4JQJ7YSCG', 1), ('AOBF7J1ATPQ6U', 1), ('AD539D4LDUQ7M', 1), ('A3DEIXS5TPT2M0', 1), ('AGVAU6YIOJ6VB', 1), ('AQZWNBJTJUAY7', 1), ('A2R5VI6PPEALEO', 1), ('A2BJD2DIXCTRW', 1), ('A3JD1ZGX8MAJ76', 1), ('A1FQQ0M9BIUBLL', 1), ('A3E300G90Q07H9', 1), ('A3GMQCDOCBUYVQ', 1), ('AGJSWLJFJMX8J', 1), ('A27BAK4C8ZB3FY', 1), ('A2IBB2CL6027LD', 1), ('A29J7QFIYLJSOK', 1), ('A2M26PBUWXHV7C', 1), ('A1MXNBPXSFGERW', 1), ('A23RQVQ92D2UCT', 1), ('AWH6LJCEUG8JF', 1), ('AXF2XGLQJQNH6', 1), ('A3T5KLBF514032', 1), ('AVGVYX4PJESUA', 1), ('A1V759M5PMHL3Q', 1), ('A3FWGGLJK6RH7K', 1), ('A1JM0QWC6QMI3L', 1), ('A2K0OX20XU284J', 1), ('A3CD3JQF0R1L2L', 1), ('AT50KK2S2N5DF', 1), ('A3DJ509B91B7ID', 1), ('A3UGTQD7MLVUCL', 1), ('A32FFMJG9ED6L', 1), ('AVV2DSNB7IOZW', 1), ('A102SHNB84MVD4', 1), ('A15X7INVBNZ1D7', 1), ('AJSEHKEJ84JW5', 1), ('A11N3LJE4KJQUJ', 1), ('A1346EQ30NFWXO', 1), ('A3R03RXAJM4LWH', 1), ('A32E70RVY374ZK', 1), ('A3698PS26ZDQDZ', 1), ('A1QOIPGQW9KSE9', 1), ('A2MJ8OL2FYN7CW', 1), ('A32EQJT15F2OCA', 1), ('A21QQJK1LFX6DT', 1), ('AIC2DPRRIILWX', 1), ('A3IPG5D0DFA3N3', 1), ('AS55Q61BW6PB7', 1), ('ALFKCUQ21F7UW', 1), ('ASS7AL9JKUNIX', 1), ('AGAZA7FVVEM3A', 1), ('A1EG006YRUNWL1', 1), ('A34OWL1KMDYU0M', 1), ('A32KVPN4GDNGV3', 1), ('A1HEREBUM72NYU', 1), ('A2UD2SGH4DKH8Q', 1), ('ANFZAPK1TYSPU', 1), ('A1A6YF9XW99WDW', 1), ('A2B5MBB40B9O4', 1), ('A2UPX07LA0Z3PE', 1), ('A3F3GHJ4QA4YEP', 1), ('A38GWHI2M93YMB', 1), ('A353FQ1KXND90J', 1), ('A1AL52F0EX5I45', 1), ('A266MI5TC0E02P', 1), ('A1CAO6O07L4JJP', 1), ('APX6YV8HBR20L', 1), ('A2VMP9V66DXV1N', 1), ('A2I2XDO626BXFN', 1), ('A18ZP8SFD2VC3A', 1), ('A1J544D0TDOM1J', 1), ('A23Q4ZUJUDY9C5', 1), ('A2FDO7AAHSKDVM', 1), ('AMNE4AFTRTCZA', 1), ('A1PNE9O0ED1TEH', 1), ('AVNXAMQ9KRDPL', 1), ('A1VB2MAKBKVZHU', 1), ('A3VRHNRSAQJ16O', 1), ('AWPZYBFSUU7J5', 1), ('ANB2RH2J42IZV', 1), ('A1RJ3VGTX366DH', 1), ('A6XKR154E1GQO', 1), ('A1DJ9FOEOA0WF1', 1), ('A2E1OB15RYZIKO', 1), ('A25D59IEJW5R2A', 1), ('A250GXRD2BGQV2', 1), ('A2OXQXCP9SNNX7', 1), ('A2HX1IB98PY953', 1), ('A1LIFIJP25QO8', 1), ('AKS492HZND2N9', 1), ('A1F1YID4PKQSTH', 1), ('A19PKL5L85BQMM', 1), ('A36ZCMK3QLQ9VE', 1), ('A2UT1T61T5YZEN', 1), ('A28SIFKY1M8QJ3', 1), ('A2X0PMR9XTCZA6', 1), ('A3PC6C33L07KHA', 1), ('A3MWFL5CI7YSH0', 1), ('A3LEL6D19TUPCQ', 1), ('A1QPU8BS1X16Q9', 1), ('A1PY6UO35T4M0', 1), ('A1LFSTBR7L7PUT', 1), ('ATJRI0DQPAYXL', 1), ('A321IWKQ3UEPC8', 1), ('A18D3ZDUY3R3O3', 1), ('AN0A6YUZG8RP4', 1), ('A1QQZOM5Q50CYN', 1), ('A2XJTUD2TFBKLI', 1), ('A1RPKQLX8Q56BI', 1), ('A2CO3XJG40JVFD', 1), ('A1OYMUZ0EJPC7B', 1), ('A3OC1XBXM9XQKW', 1), ('A2HW287GO1G9DX', 1), ('A2YYDDZ09MUBRW', 1), ('A34EZDCE3SK8CN', 1), ('A11D2FA8ZITY6X', 1), ('APP5MN77H2YZB', 1), ('A1TIVD0Y3KJSCN', 1), ('A7YPPNDUEP662', 1), ('A2V3LW0E3LE83', 1), ('A1NPGYENBB7MPO', 1), ('ASFJUWKRT16VF', 1), ('A14MY52FPCUH70', 1), ('A117DELEM5RUMA', 1), ('AYFFTBN9FBESS', 1), ('A23VGBJGRDV3IY', 1), ('A38DMC7A4C7WLG', 1), ('A11DSYC44WN0WT', 1), ('A1MF2X543SGY7O', 1), ('ADUG6O9GEMG6Z', 1), ('A1FIJXX5LUYR4Q', 1), ('A2A9X58G2GTBLP', 1), ('A2T6BYP7ZMSASM', 1), ('A119ENW2A3OUH9', 1), ('A1H8S29BM1ORC1', 1), ('A21VYF0UC9NZPM', 1), ('A2M6L21T224FF8', 1), ('A24AZTKBGAON0E', 1), ('A3VY3JKKRBW31P', 1), ('A3FG4TRR8815R3', 1), ('A3DDLTCL43A2LQ', 1), ('A1MY8KIYYVU6R', 1), ('A33ZS1BR7C21V4', 1), ('A23Z7OO81QN9TU', 1), ('AJT4I6QY0V7GK', 1), ('ABYUNTRXBPEYG', 1), ('A13E08ID9OWS3M', 1), ('A1QH5YMTLZUB71', 1), ('ADDAQ0FECYN1R', 1)])\n",
            "('A3FKWR9NF74XWD', [('A1BN0UHVH2VYLQ', 3), ('A2WH8HR5H622N2', 3), ('A2RPSCENBCBR8Z', 3), ('A2SBM7GTQFJ42E', 3), ('A3V1A3C9DTLPME', 3), ('A3ELAHCS2P96MQ', 3), ('A1KYUOPBGQCLUF', 3), ('A283FOEYW5Q2NK', 3), ('AEUL1KUFDAXM5', 3), ('A3LGC1PVFD7358', 3), ('A295IZE5VZ1WHR', 3), ('ACMI349IL86DB', 3), ('AN6LP6TX9E9O4', 3), ('A335XKPTX831ZR', 3), ('A1RJ3HYOF0QG99', 3), ('A2U5A10E93A1S0', 3), ('A3MRFXL9PTG6PK', 3), ('A287U0BP7ZQX57', 3), ('ARJE4G6E9L83J', 3), ('AKUD0WECHOIAC', 3), ('A1Z4RQXAQW5JOK', 3), ('A2WBU19UKMNC6X', 3), ('A1L2OLLCAZ3O5Q', 3), ('A1JKOX3SV53HCV', 3), ('AIGX79AW2F8KL', 3), ('AEJHY15OTEBDS', 3), ('A154ND7YYE5YIE', 3), ('ASSNSEMEE2MJJ', 3), ('AKJ1X8UYC7YHB', 3), ('A25EKLJ88H7PS1', 3), ('AYB6GDL72HJLU', 3), ('A1P5MNOGR6KXP0', 3), ('A3OFQ9J5GGLQBK', 3), ('A2DNX53APNCDHN', 3), ('AJQXALOCJLITB', 3), ('AYQXVKGCQ1L1Z', 3), ('A2KVAGB52EOKLS', 3), ('AKFGOAMHWKDV9', 3), ('A2XNRJ8PXC9J13', 3), ('A8HFBXSMM7HKX', 3), ('AV0OB90U6I1QQ', 3), ('A37V043HUJSKJR', 3), ('AWJ1HL1NB63F2', 3), ('A18RU2AEYLG7MS', 3), ('A1G4AC04N9U6Q6', 3), ('A79BUBL3ZL8DL', 3), ('A3EFF1AJZP7QPS', 3), ('A16WMHYG4UD5Z9', 3), ('A1GZ78UDJTWBFS', 3), ('A1YE8EU6KGQ3Q6', 3), ('A2L8R56V9V7E6T', 3), ('A3HWO22MQ0N5X8', 3), ('A3MC5NI5MPYV7J', 3), ('A126LY6YSLH8ZK', 3), ('A328X3XDGFFYIQ', 3), ('A339AB8YDYJ5MO', 3), ('A12Z9EGP870AI5', 3), ('A84B1KO7074HC', 3), ('A1F46LDQHEG0II', 3), ('A281MJNFDFRX61', 3), ('A1LCKV2FWTO0HJ', 3), ('ARQ7DJQ069HE4', 3), ('A1XX6PQRHNIPFI', 3), ('A1KVVTYHFX5OR6', 3), ('A1IXMFH2Z6FJA6', 3), ('AAJ361GDDI06D', 3), ('A2RQGZHGM7SXRC', 3), ('A3NC5N4MVVXGSL', 3), ('A8MUIEUF5C48Z', 3), ('A1NK3AP0NLZH1N', 3), ('A3I8UA8E4R4P37', 3), ('AKIKC8SPCPFW0', 3), ('A2LOR1Q365OL2I', 3), ('A3CRY7WNMEMFFO', 3), ('AJ757PG2TZA3H', 3), ('A29V32IOAJUP8P', 3), ('A2VKRKW3F517X5', 3), ('A8BFWPPAWT5RU', 3), ('A257DTKB26IRFY', 3), ('AAEO80OCJKLWL', 3), ('AJZWI84XRI4OS', 3), ('A2IIMX1CS0TIE9', 3), ('AEZLLF478MYS4', 3), ('A3HB5G3TIXN2GM', 3), ('A1NWHYPGSJ4UZ', 3), ('A25UMHKVBLUNLT', 3), ('AU7HYMOE4X073', 3), ('A2LZ0V0MS6XQYI', 3), ('AIW77UMHDBGLU', 3), ('A1PO0OVDHE74QM', 3), ('A3PCFMJ9L2NWS9', 3), ('A2661Y23D6MPG6', 3), ('A1JKP55UQZ14AV', 3), ('A1HIUPFGUACP7Q', 3), ('A14AWP8V95R6SZ', 3), ('APF3QRZQN26HD', 3), ('A1CTM51S2YAWZN', 3), ('A34QHHKRKHXZOB', 3), ('A27WMCFVVBSO2K', 3), ('A3T1SESXKGFEZQ', 3), ('A2AA4RW3XBPHRN', 3), ('A1UH617KG47WWD', 3), ('A2EZLTNW2YZGS1', 3), ('A3VFIWVZ2P2SC6', 3), ('A1M336YSZLCZ4H', 3), ('A3QF8BQB17XXE9', 3), ('A2X9GDJYUJKAU6', 3), ('A1MV5RFJETWSR7', 3), ('A2L7T5VHG9SXL2', 3), ('A1UQDCIXGBUED4', 3), ('A2KIQ3O1MOYGVL', 3), ('A230DAOAGQX190', 3), ('AG6GL0Q8EWZ6Q', 3), ('AMX1EDPUW8J58', 3), ('A1ESBBJ4UFMWY7', 3), ('A3M4WEBQ7300JO', 3), ('A1DWCYB1LXN5PG', 3), ('AH1YFU3857FA4', 3), ('A2LM6EH3UWCNQC', 3), ('A1OP84AORCS6YL', 3), ('A3PNCI3TY4E7D4', 3), ('AT8MYBBLMZZ8A', 3), ('A2QVJFVM7SJ2I7', 3), ('A2U28V57CPSP9E', 3), ('A2N0NZE8G1ETFH', 3), ('A1AX6OOAM6ZQ9M', 3), ('A1MXA7BT95J28Z', 3), ('A2KJ5E4L1877OY', 3), ('A1SA4PF4AEYVNG', 3), ('ARQPQ8LF5NTEZ', 3), ('A10M108ZS4ZFJ5', 3), ('A1NNDHZJC8EB7E', 3), ('A1215UUO1UMVCR', 3), ('A1FX0YCWB555KU', 3), ('AM0ALNK6K349Y', 3), ('A2WCYILM19VQEW', 3), ('A2FNA5903D9E6Y', 3), ('A3GSBZDE4Z7AGP', 3), ('A1BC7V7RWX9HEY', 3), ('A12JQMPJBREPVW', 3), ('A1AOMLAMYYJ3NZ', 3), ('A1ZFB2NF055I5X', 3), ('A3O2HIL5V8KY75', 3), ('A2KL4VJO5V4PU9', 3), ('A30V8K9ZHLAY3H', 3), ('A2TNO6XMIM0RNQ', 3), ('A2PB4D7QASQ2JG', 3), ('A1CNISROHPKTAE', 3), ('AACJX2ZYTQATW', 3), ('A46BW6JZUT2M1', 3), ('A2YWQAFCHIO779', 3), ('A192FRTL2CGAXG', 3), ('A1EC6RGTJN9I8K', 3), ('A1OBCP092PNHA', 3), ('A3LCW5H7XK5B22', 3), ('A1L5Z1PAO859G6', 3), ('APPOI8A1QSKEF', 3), ('A8H1UBFF8ULCD', 3), ('A1W5QH3INVU413', 3), ('A4C2H57Q22J1V', 3), ('A1XI98DX9KPXXW', 3), ('A1BQ1EHH5PL14S', 3), ('A14LJM5U5PKCNT', 3), ('ALVDA68H3PUMA', 3), ('A2U0VD3H1K0926', 3), ('AFW94X2RP23WK', 3), ('A2B9GVKFAI76XS', 3), ('AHDOV721XZ7DG', 3), ('A2G30K8POGLJ67', 3), ('A373TX5DF2JFX7', 3), ('A1LP4VUTCPME2F', 3), ('AXILMOPZ89GNZ', 3), ('A2PTFW5G285RHT', 3), ('A2TN9C5E4A0I3F', 3), ('A2HDK6H1UDXASX', 3), ('A2WVYM7CHTJY83', 3), ('A31453THCAXXX5', 3), ('A44VF9H9RXE8X', 3), ('AUD1JPCPUQZRY', 3), ('A2I3ZPGFLQ1AP6', 3), ('A2LTCCXZNIXRRI', 3), ('A35K8CMK6B8IZ8', 3), ('ANGX4QUACA4MV', 3), ('A2T4YZPEGL17QX', 3), ('A13R4DIBYFMB8R', 3), ('AT8MONN9BAYJS', 3), ('A1KCULTG8DPCJ5', 3), ('A27FY4T850V4HC', 3), ('A30627EVT9WEF8', 3), ('A3EQ2B1SS8Q7SS', 3), ('A3F1CP31R86IXC', 3), ('A1RJUXDK64O91A', 3), ('A1H6TK4JX6VH0S', 3), ('A1JBXNUWZRBNAN', 3), ('A32GD054S1RR2T', 3), ('AIFRPH8W3VDE0', 3), ('A1YXCQHKK6XF4Y', 3), ('A1STQIBBBO05U8', 3), ('A3CI3C3GD00WH6', 3), ('A2KX0MR43C0H10', 3), ('A119YI16JAB5E5', 3), ('A12JLDP6YW88X8', 3), ('A1WOWLIUPR9ANL', 3), ('A3V5JGFSR6IXAD', 3), ('A3T8YYQXKGXD0G', 3), ('A15JJRPXX4NCBF', 3), ('A15S9OH2IG6VVD', 3), ('A2VWKIG9HC309P', 3), ('AKU5F5Y8NLUV8', 3), ('A3HE34K4JNUPA', 3), ('A1144WYIR3OWUW', 3), ('A2OPTCGDRQUA38', 3), ('A2IU0IGX29VK88', 3), ('A1RQ2GKGDRHPUQ', 3), ('A408OV08A5LZI', 3), ('A1Y5T06R1UARCP', 3), ('A1Y5WZCPXT76F', 3), ('A2OUXOSRMSM8KK', 3), ('ABBRZO2SL4U7Y', 3), ('AWMOUTGTJTHYL', 3), ('A1KCBQCEM86NXZ', 3), ('A1NBYRMYFQOO5', 3), ('A1CLQ3T49UVKN6', 3), ('A1J020XG7TABPG', 3), ('A3MNCY4W17G9WH', 3), ('A2SE0BTWMXW2BR', 3), ('A1KV9IJXZ4PV0W', 3), ('A3GQSNM2R42VAZ', 3), ('AOXIXUL2T5T4M', 3), ('A21HR7M5QGKVXL', 3), ('A2KW7N1OJVECW7', 3), ('A1AB8OH1Q59K1K', 3), ('A2X5ILPZADJX6A', 3), ('AKK1KG7H62U0U', 3), ('A2D6POUP61I5PA', 3), ('AWQYVSJGDYMH', 3), ('A281PD6DXZMIPM', 3), ('A11W06IKQ8WMM1', 3), ('A31KHBMD92IV0R', 3), ('A3L5J6A4EIT2YV', 3), ('A2DXXJR0N8BXOK', 3), ('AOFMKFQLJCAK9', 3), ('A1KMO08LPL7Y18', 3), ('A1L331YOJ0OL4Q', 3), ('A3SAUTKFK3KJL0', 3), ('A1I6O6YH6TFVID', 3), ('A36R8CQVKJQUDH', 3), ('A2ZHQF7QDDP6H1', 3), ('A2TRQJOOXP89J2', 3), ('A1BMV5JBMUP65I', 3), ('A3BMY42WTQRSMQ', 3), ('A363C53T0YCN1Q', 3), ('A1LI6PZVFFG75X', 3), ('AVGYUE4QHZKN4', 3), ('A1LW5P8Q1QHQWN', 3), ('AD5DQ0L56ZKD0', 3), ('A3HJVLNBJ6LS6M', 3), ('ABRT8NR1CFDAE', 3), ('A11YOTONCPRQ9S', 3), ('AA662TU9MTG7', 3), ('ADU3743ZP40C7', 3), ('A3EB03PQKWQBM2', 3), ('A1LNX86FWHY4DW', 3), ('A2XWKSZ2B6481X', 3), ('A1SQTLFHMO6J5J', 3), ('A1OBAWGF3U3PFB', 3), ('A14OHAS3A33U5T', 3), ('A2D2CBG3M7MTZO', 3), ('AVARGBWRD2ROJ', 3), ('AWM4PC0RVPFSZ', 3), ('A1WCV27YXHLL7U', 3), ('A3V55DVYU80LDS', 3), ('A1GSGHR3FGFFCY', 3), ('A1L02MIVQ41GBA', 3), ('A370JSEX2A1CS0', 3), ('ABIIPG632I13C', 3), ('A1D2ZD5ZAR117', 3), ('A21QS27OBPVWTL', 3), ('A19HZ4GHE0G6JE', 3), ('AMRNGPXPKE63O', 3), ('A1052V04GOA7RV', 3), ('A3V6RB64N8IDIB', 3), ('A1FVJULCX11GXM', 3), ('A2K8CHFQL5U2BP', 3), ('A317QVSSNIOPMU', 3), ('A1GD8XXL3VR981', 3), ('A1FFZLT663X7OO', 3), ('A41APA7K56EYN', 3), ('A1Y82GMMVWQHIZ', 3), ('A3A214KPSEEV4I', 3), ('A1MB9YZ8WI5BOY', 3), ('A3DDFG67CTADLU', 3), ('ATJN4KEHJBOC8', 3), ('AHOSY8W7EWK4O', 3), ('A2L67OECBBD1KB', 3), ('A2I5OC3AQBTPC1', 3), ('AT9Z378V18UFF', 3), ('A2ZK9E3QS2NSCI', 3), ('A2117APPOAZ097', 3), ('A1QDR90KD4GVPV', 3), ('A3RK4BDGUO5370', 3), ('AU0S2Z7BA22V5', 3), ('A1K4VHF4FJOFCG', 3), ('A2HOLM5I1ARX9J', 3), ('A2NUEM56R7AL6W', 3), ('A3VH09OPROLG50', 3), ('A2L9L9CVRMOH96', 3), ('A20OEQFH5X2JO9', 3), ('AAJBGQ91IX2RL', 3)])\n",
            "('A18X3UA4QMM0RF', [('A3LBZVSQ11ZALR', 1), ('A18TMI508PZY8O', 1), ('A16RZ4POYB04WL', 1), ('A12QA70NBPUPS2', 1), ('AM5RXXDF6CQKJ', 1), ('A13BMVE8PL3VE6', 1), ('A2KX9W1FOFAZ0', 1), ('A2Y7OSKP746UIP', 1), ('A37DXIENIDHTVY', 1), ('AACKAWVXFJ2WT', 1), ('A29JAG9ML7C9DR', 1), ('A2QUXUF8SYKRGJ', 1), ('A2T8FOFF9OCXMF', 1), ('A3DU5ENLPLDOC9', 1), ('A3EZJZBBUPY5GB', 1), ('A2SL84Q5NCO48J', 1), ('AFNRH9OOG0ZOB', 1), ('AP3DASVKCQ6BW', 1), ('A6G92UFURXHX1', 1), ('A10KXKOP3MR6FG', 1), ('A2BUR0K3PIUMGW', 1), ('A29FIGSZD1HFNH', 1), ('AV708A0XKLYKQ', 1), ('A29Y67Q52VT0PX', 1), ('A38WQQJWVH79BD', 1), ('A1K61W5X2R7N55', 1), ('AVMK3SLZ2UZ3L', 1), ('A2BR621OKNYZF8', 1), ('A2S6PU1K6KGP13', 1), ('A1KQWRS5ME4BAF', 1), ('ACNOBWRF6O89G', 1), ('A29A8UY7NLEBJD', 1), ('A1PK84KV9VSZYS', 1), ('A1I3BX6UD36G23', 1), ('ARPWOYCODPQBM', 1), ('A31OKY55LTA8AM', 1), ('A2L0R7QI9VVUPZ', 1), ('A32NJ35HE8TJTO', 1), ('A2ETVM09XDOUEA', 1), ('AY1TEUOPUAJPZ', 1), ('A3FKELTUZR2G04', 1), ('ASP8C9IROILR1', 1), ('A59SFSJ6ZALXJ', 1), ('A1UNXGWM0060AG', 1), ('A6DHNXC5LK561', 1), ('A23XISDIQSLZK6', 1), ('A3KZQTP2GBZ3NV', 1), ('A1O2UOZAYPPCSB', 1), ('A3B79HSRGJK550', 1), ('A3282GC19W4YTG', 1), ('A1C8NAHYR6Z10F', 1), ('A1JZTUTR2DCPU0', 1), ('A27U3D4OQ0Y4UI', 1), ('A11PHDFBQMBT11', 1), ('A1R19K6O4IAF5W', 1), ('A58LAVUT7AMK6', 1), ('A1ZX4UV4XO6A6W', 1), ('A3G92DE8EFA4JI', 1), ('A2SMFWJXTUTOT', 1), ('A2SQXG2CV5YTD9', 1), ('ABQBBYY3545SW', 1), ('A3A6L0AP0ML128', 1), ('A8DAB5FVJZXHN', 1), ('A2WM2QVIC398ZF', 1), ('AI3NIVPNR35S2', 1), ('ACIXYTIKEHSUG', 1), ('A3HZG65Z2BHCT3', 1), ('ALOM323B4FG81', 1), ('A37P1696OJ2RCB', 1), ('A1IKKNTNFO4DOW', 1), ('A1VWRCGNDON9ZJ', 1), ('A2OR9WFK8JHGBR', 1), ('A2469RXJ64O97N', 1), ('A2Z78VY4EVO7EN', 1), ('A36SY2L6TWRWF3', 1), ('A21VBKOJ3JCQ32', 1), ('AV688Q6CZS0H8', 1), ('A2158Y2U61AU9G', 1), ('A2PELJSPPJR98F', 1), ('A3ETKVMCBD36PR', 1), ('A236JGXFISDMKL', 1), ('AVO7AO6SSFMJ7', 1), ('A2DBM9UUZ5LWS7', 1), ('A24BPSODYER3XR', 1), ('A14IHK3X785ON1', 1), ('A1CIV7W0MEPEC2', 1), ('A2WA4JW81QEDTI', 1), ('A2RVDIYGDNZWNU', 1), ('A1BV7Y8JX6C0VQ', 1), ('A3BPENCUZO6FC0', 1), ('ACE396UJN0QG0', 1), ('A3RX6LL4XS1H6M', 1), ('A3824ABQIVK2OC', 1), ('A2LJVYZWCHALJW', 1), ('AK5EZ0GCX808D', 1), ('A3DEVKQV4RKWNU', 1), ('A2XJ1L7OG3OY8U', 1), ('A2CPXF8M2T21HU', 1), ('A1EHTFVSD0H7I6', 1), ('A26GKDSU4H5VCI', 1), ('A351NNHLKOSCY4', 1), ('A2KCIUIR9UYER4', 1), ('A2TRHTDIYRHNZG', 1), ('A38W8XOLW6XRE5', 1), ('AG7HI1P9ZQPO4', 1), ('A29GTOUFKM1S8Z', 1), ('A38XO0DBCZYGSV', 1), ('A38R7PAAITELOD', 1), ('A3YBAWS10OEXP', 1), ('A1URSUNNXAPA7U', 1), ('A32Y8TNFQR6XL1', 1), ('A1FMNXMZAOZB0I', 1), ('A291FL254MF5IM', 1), ('A2QV1V06YJSQKQ', 1), ('AX6M9MX3YPL58', 1), ('A1H9VU1FACOXLN', 1), ('AU5P1L2LLVO12', 1), ('AWXXEGILDFHAI', 1), ('A1A80NNIVIFTY4', 1), ('AJOE87ABMRNFK', 1), ('A17Z8YVN3F9O0X', 1), ('A1VIN07T1NVH1B', 1), ('A3E6KDH7IDVO5P', 1), ('AVSQ0D9545XYN', 1), ('A23YWZS3X52E08', 1), ('A1KKFK7GXUHNTR', 1), ('A3KOBWPG7PXO8U', 1), ('AWCXKFQPSTPJG', 1), ('A2QZ949K8E5NS5', 1), ('AB7UKG8ZX1CNW', 1), ('A35B0JSPYZE0FU', 1), ('A87P2ATWWIN3E', 1), ('A2Y7ZVI6RR4SMJ', 1), ('A191N6WVPCMSEI', 1), ('A3PEIOD8YTRZH5', 1), ('A10RGKFSPAN3U5', 1), ('A6SVAP9II3E3P', 1), ('A10834V665XWNZ', 1), ('ANRJ7OJLB3NS1', 1), ('AQ3NVN4SJHKLG', 1), ('A1XNCRFBU0UEQ5', 1), ('A2I9SDHDLH0DRD', 1), ('A199XZM2BDZHYI', 1), ('A1PSXC8DGCYH2S', 1), ('A18UXXO8HFFB3Z', 1), ('A37NQ8YC95DWD0', 1), ('A2OLIJAR21U6DS', 1), ('A2CDB08ZKL597X', 1), ('A37E5KOT7Y291L', 1), ('A2LBCYVMD8G6JC', 1), ('AIF8XF6MKQOEF', 1), ('A27YOVZ5DAJ37B', 1), ('A72MBQASSPW8Y', 1), ('A1E1U4Z4W0I3CL', 1), ('A2YGDI1GYIPYU4', 1), ('AW5GWTTSWOF0X', 1), ('A3HCYDRT6DAWOC', 1), ('A132UOBQNJF71O', 1), ('A1KB6S6MLHV51C', 1), ('A2Y6A8M08EX0D4', 1), ('AZ8WB9C1TZ4AH', 1), ('A3DQ9T99IIINUS', 1), ('A3BQQT2GGGJ5QY', 1), ('A1P2FJK2MOJ8IN', 1), ('A3ATINUJ8IPYFQ', 1), ('ADU76RMV8KGS0', 1), ('A1ILMDO2212ZZ9', 1), ('A3K1HR947I86GY', 1), ('A37F17YN4HSBRU', 1), ('A3UR0ZX97O9QP3', 1), ('AFM7V36WJ3YWG', 1), ('A1KDBZR7SPNWIN', 1), ('A7UWAROIXG7BH', 1), ('AG28CLNAN61Q8', 1), ('A3ART1EIT6930S', 1), ('A19HTPWS86V38N', 1), ('A39BXW6I58U7OL', 1), ('A3AQMBBMN5XLB2', 1), ('A1H6AE5IT8L68D', 1), ('A1ZOXY67P32Z0', 1), ('A1BLFYMUMLYP7F', 1), ('A2LYA8OMMDXCC5', 1), ('A1463TFCWFPKR2', 1), ('ARW8MNSI0XS10', 1), ('A25M2VRVB4ISIB', 1), ('A160DDLW3YG5XF', 1), ('A1EHNCQ4N7BQN7', 1), ('A1M3IDJDSHT2TE', 1), ('A37W6E90X2W63O', 1), ('AAI62UV5XYO0Q', 1), ('AYMRN27MH5IJ0', 1), ('A36GZ21TM5H9ZE', 1), ('AHBUYGPMLLQ5N', 1), ('A3DDBJP9A4AOQB', 1), ('A2WUONPQDQ42N6', 1), ('A3IL8DY5V7JEEJ', 1), ('A1UZBRB3KMRE23', 1), ('A29V1KGJDMNZZR', 1), ('A35L3V927G38ZU', 1), ('A2CPG57XFTOBDL', 1), ('AE86DM8OE12PZ', 1), ('A282VT91RFYW74', 1), ('A2BULA76SI17O3', 1), ('A3P02C3R26LTXL', 1), ('A26GC9XY5U377D', 1), ('A3TVIVNTPFHQFH', 1), ('AEPAC5O8FKY4L', 1), ('A36IIGM19DXP9X', 1), ('A3V7QCB0DWR2WR', 1), ('A3RRACWJCIGR1Y', 1), ('A1CQ3A1RMYXBNS', 1), ('A1L6NO1GUE0BS3', 1), ('A2USUO7NBXAUYZ', 1), ('A3S5ZM9TE994HO', 1), ('A2NP9W1DNRG2W8', 1), ('A3KJX8O23GHWMJ', 1), ('A2MW63XW5ZZ5E2', 1), ('A2LQYNV39948ER', 1), ('A1VXSDWS4OH8IH', 1), ('AWQ000BNH89XQ', 1), ('A1LI37YUDJJWRG', 1), ('A1G8X9XN7GRRXH', 1), ('A26N3GLFUNS4NL', 1), ('A24E2JNJAK3RYX', 1), ('APRTN8GM7QYXR', 1), ('A2Z48LKA5US8UJ', 1), ('A3SYTEMUMKIBZ5', 1), ('A1RRLIW5UM3O20', 1), ('ALWRNPDSUBMAG', 1), ('A8O19LGGLDEG2', 1), ('A3T9GX78JOJ69R', 1), ('A3GVPEVUFW3FV5', 1), ('A2WL8DC0CNKVNG', 1), ('AHUS3DR2HNI3W', 1), ('A30GTV8XR6ZGTC', 1), ('A2RXH20G5S5OP7', 1), ('A1AWBVMW502NR5', 1), ('A3KS0SNMPCCKOG', 1), ('AHT9E37G2BJU9', 1), ('A1YJMG0QJXZLD4', 1), ('A30LJYF63S4EXU', 1), ('A2CILMGX8QVU0J', 1), ('A2QOT0HIE0ZOV4', 1), ('AWDHMRYL3BY8X', 1), ('A3U282TBAL40C5', 1), ('A1KJZIGC291NDG', 1), ('A2XKN58ZDX0W4K', 1), ('AF72GTWZGAC61', 1), ('A36DUZDIVQXHS4', 1), ('A14OTB461XLBXT', 1), ('A24PUY3EEC8CYD', 1), ('A2MSQNPTNAAGL1', 1), ('AFPIN358WRDZV', 1), ('A27BUJ46EOPKXZ', 1), ('A1DGDRNIR06OTJ', 1), ('A8L28PSIF1D79', 1), ('AGTBEWGF0VHHA', 1), ('A24G0R93Y40UPR', 1), ('AZBPSUMM1IV13', 1), ('AW0NP10Q4BQS9', 1), ('A25GNLA9Q8F6MT', 1), ('A12DZTX05OAHR0', 1), ('A27CS39KMPRH8H', 1)])\n",
            "('A1PTOCCYHE3EK0', [('A17PR4SGNBR088', 1), ('A256TOND6Q50QE', 1), ('A1SZ6MYCG4JQXS', 1), ('A3UOSVNC11HX76', 1), ('A34BFOXOM87TCY', 1), ('A2OZ8EERI96ZUG', 1), ('A1Z898CCRLYFAD', 1), ('A3CD65HGT2C56C', 1), ('A14OP8M09S4ZBN', 1), ('A3T3DRN6KXHCD', 1), ('A2NDNT7R5TY386', 1), ('A32HIC87N8DV5N', 1), ('A3GJBE9PJ6UDN', 1), ('A387DMNIK3HENM', 1), ('A1O32W6RAT561I', 1), ('A2UDG6TIX9DWC7', 1), ('A1SWVPS2J2208O', 1), ('A3GEF71TFM1928', 1), ('A211631PABXULN', 1), ('ANE3E244XB1MI', 1), ('A1HCJNYEPSLKM2', 1), ('AQX92OAT9VG5Z', 1), ('A3KKGOI3UDB8F7', 1), ('AKMEY1BSHSDG7', 1), ('A2AC0Q7VBWEZTI', 1), ('A1FBVONDFTUO9H', 1), ('A2RQHAVYX69H1W', 1), ('A35W3JQYP0M655', 1), ('A2VDMNG4I18Q1E', 1), ('A1NV647NFQ0ZS1', 1), ('A2SINC5TC9WENK', 1), ('A7M5A2155USB2', 1), ('A2H0YRAI453ZAQ', 1), ('A1BV9EO4HNJUJZ', 1), ('A2QJ1Q9XGDAD4W', 1), ('A38SCEIBLZWM6J', 1), ('A2B2G6LY79VEVN', 1), ('A9HIK6IIF882N', 1), ('A366RK3ICP9HJ7', 1), ('A1AX69446LX31D', 1), ('AXPYUSKEKC9G6', 1), ('ASBIU8CCFLE1V', 1), ('A3UDOERZ8VWHD2', 1), ('A2SK67BRJXDTE4', 1), ('A1N4UK3IWKN7JB', 1), ('AC2278WPK3EU', 1), ('A2F2ZJE43Q4L7A', 1), ('A1OZKHQB2F746V', 1), ('A12MALRNXKP38V', 1)])\n",
            "('A1WOX7A4W048GK', [('A1035KBY4IVWLK', 1), ('AC5HDVL4R1HPT', 1), ('A30OMB3FHZF75V', 1), ('A3IV7CL2C13K2U', 1), ('A2EY2CRBUZEIJB', 1), ('AYJM5S2TNTH3O', 1), ('A1D8K2M6V98VHW', 1), ('A2T9L1185W3KZR', 1), ('A2J40FNP8V8DJO', 1), ('A1DRVKK46XMF2S', 1), ('A3SBHLNEN6VSBN', 1), ('A3UJ0KIKFEDD0Z', 1), ('A1I4CKGOC84GGO', 1), ('A22OFUTOX17TNT', 1), ('A16NSNJASOZSJ9', 1), ('AUKG1QGL32T95', 1), ('A1X8K35YAWEHVH', 1), ('A2S7ZLV9JE7H7Y', 1), ('A20X15ZA7T98CY', 1), ('ATQ8PUOF195V4', 1), ('A17O8N8T4WJYH2', 1), ('A3S3NCGVDQCTMY', 1), ('A2ZKU78ROR6D5K', 1), ('A2625OG0VWF53L', 1), ('A32OQRCGMVL25I', 1), ('A3SDIXA1ECN3XL', 1), ('A1FRUPO6DSTXE1', 1), ('A387W9I0B9MYFG', 1), ('A3HHFWEZYDFIKC', 1), ('A27T0FRFBCSHB5', 1), ('A1LUZV4GV5VGRJ', 1), ('A14GBX95DMPWAW', 1), ('A13HKRMOTUBW6T', 1), ('AU7NVJ6RXNCBH', 1), ('A1HM8RD71UN20A', 1), ('A2MCLQN9W0GE7L', 1), ('ACC1MISSPFG22', 1), ('A1WL8V665IIUOD', 1), ('A38ZY18TXAUAX8', 1), ('A3UCCD0U8LVWAS', 1), ('A1EUNE5PKR0V7Z', 1), ('A91A99VNGO7Z4', 1), ('A20TWLY8NFNMMY', 1), ('AOJ311MIWIV9G', 1), ('AYPCGRSNA2IL', 1), ('A1GXO8R7KXEHSD', 1), ('A2PDOSJDJV72FZ', 1), ('A3K4RG1PB7HIJ1', 1), ('A3EMMAXAFKISWS', 1), ('A3T7BIQ2Q0DKQJ', 1), ('A1W7WYGM5AM97S', 1), ('AI5VLZ2BWVXBL', 1), ('A21NX2BA136UQD', 1), ('AJRY6OO9RS7C5', 1), ('A1N60EMR7F2N85', 1), ('A2FETVYOTBJ72P', 1), ('A1OYSEBZOHIXBH', 1), ('A22FFNBOY0M2XN', 1), ('A1YEEEM16CB3SR', 1), ('ANRZ6AR2XBP5N', 1), ('A2RXZ1QAYAUXXY', 1), ('A2E6150RHKGSIR', 1), ('A2BUR0K3PIUMGW', 1), ('AX5Z64P1WEJVY', 1), ('A20HLC2109M21T', 1), ('A3KUOYH923RKHM', 1), ('A1MMSXIQYEC7FO', 1), ('A33VPSVQYVDNRH', 1), ('A1PWAUE5H4QH7P', 1), ('A2FRPGKIJJQI3E', 1), ('AD3I1YADIZAYX', 1), ('AI3EMF5AFCBOH', 1), ('A2O4PF97ET8GXJ', 1), ('A2RZJUS9Q9JO3L', 1), ('A3BMAN372E6JUP', 1), ('A3AZI828WJN1CD', 1), ('A11BWADXLLUHC1', 1), ('A3PIXLUQYDC85S', 1), ('A3ALRW2N85236P', 1), ('A3FQOT5QV7J5HP', 1), ('A2PBJJX62V8IH7', 1), ('A3M2VZ8GMWHBNL', 1), ('A2BY0FLKYTTR7I', 1), ('A3RFBBE0R0HSFJ', 1), ('A2PZVGC2VU85WJ', 1), ('A1IW9LSLZFW9FK', 1), ('ADKOL31ZBTW1D', 1), ('AKM3JA6JE6SWB', 1), ('A1FQDD7I18N8WE', 1), ('APKVG66TWSGP9', 1), ('A3FFS4ER7MVEX2', 1), ('A26VTLHH7YYDU1', 1), ('A3CTQ4BDXEIR2Z', 1), ('ALQ3QLLP30HLG', 1), ('A20QVNZNN32I4U', 1), ('A1S4331SVFIE8Q', 1), ('AV4FV1BA7R4VC', 1), ('A2B3XYQJCJ8ZJY', 1), ('A3RLTNVYGNF4JY', 1), ('A14DCT6DHDFBKO', 1), ('A2NF2D9O5NQCIQ', 1), ('A1FA8B98FCMS1S', 1), ('A1LJKGH7M7NTZN', 1), ('A2ZE06ZI0MF71C', 1), ('A363CJDHFQNRNN', 1), ('A2A1M8CWI947RZ', 1), ('A21YEJFSYDEWOF', 1), ('A2LSGGKJ6B4S2T', 1), ('A3F2CRKGN0HUWU', 1), ('A1H8KKT0K6P7ZD', 1), ('A30BVVQZUVXAFP', 1), ('A1JU436GZ16IKY', 1), ('A3GKOF1MQ8QIBV', 1), ('A3SEDVZYQGTRVL', 1), ('A2KMDGEPZCPWB8', 1), ('A106140CC16BQ7', 1), ('A2BI6SVK6YXT5I', 1), ('A2A41DFALATF22', 1), ('AGZWQ5VSMPXI8', 1), ('A10MUWN7P9LJX3', 1), ('A48J1D3Y04XO2', 1), ('A15MB1UKXL6DG3', 1), ('A27CC7M18TU9HV', 1), ('A2HMQI0LXTH93O', 1), ('A3HNHPPQVVY67Y', 1), ('A238GYY02IIX80', 1), ('A2BER0WSNIMJUC', 1)])\n"
          ]
        }
      ]
    }
  ],
  "metadata": {
    "kernelspec": {
      "display_name": "Python 3",
      "language": "python",
      "name": "python3"
    },
    "language_info": {
      "codemirror_mode": {
        "name": "ipython",
        "version": 3
      },
      "file_extension": ".py",
      "mimetype": "text/x-python",
      "name": "python",
      "nbconvert_exporter": "python",
      "pygments_lexer": "ipython3",
      "version": "3.8.10"
    },
    "colab": {
      "provenance": [],
      "include_colab_link": true
    }
  },
  "nbformat": 4,
  "nbformat_minor": 0
}